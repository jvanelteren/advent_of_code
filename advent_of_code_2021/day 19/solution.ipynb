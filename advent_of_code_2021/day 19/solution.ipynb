{
 "cells": [
  {
   "cell_type": "code",
   "execution_count": null,
   "metadata": {},
   "outputs": [],
   "source": [
    "import numpy as np\n",
    "from collections import Counter, defaultdict, namedtuple\n",
    "from math import gcd, ceil\n",
    "import re\n",
    "import networkx as nx\n",
    "from dataclasses import dataclass\n",
    "from matplotlib import pyplot as plt\n",
    "# plt.imshow(pic)\n",
    "from functools    import cache\n",
    "\n",
    "from aocutils.common import to_int, flatten, reverse_dict, zippify, list_multiply, ints\n",
    "from aocutils.grid import iterate, arr_to_dict, grid_to_dict, neighbors, arr_neighbors, dimensions, manhattan, positive, conv1d, conv2d\n",
    "from aocutils.maze import bfs, dijkstra, get_path, dfs\n",
    "from aocutils.math import lcm, gcd, factors, mul_inv\n",
    "from aocutils.special import find_pattern_in_iter, find_repeat, find_cycle, md5, CFG, ShuntingYard, binarysearch, deduce_matches\n",
    "from aocutils.visuals import visualize_graph, labelize, cat, animate_grid"
   ]
  },
  {
   "cell_type": "code",
   "execution_count": 3,
   "metadata": {},
   "outputs": [
    {
     "data": {
      "text/plain": [
       "(1, '<i class=\"fas fa-discord    \"></i>')"
      ]
     },
     "execution_count": 3,
     "metadata": {},
     "output_type": "execute_result"
    }
   ],
   "source": [
    "f=open('input.txt')\n",
    "lines = [line.rstrip('\\n') for line in f]\n",
    "\n",
    "# print amount of rows and first 100 character of first line\n",
    "len(lines), lines[0][:100]"
   ]
  },
  {
   "cell_type": "code",
   "execution_count": 5,
   "metadata": {},
   "outputs": [
    {
     "data": {
      "text/plain": [
       "(100, '66626')"
      ]
     },
     "execution_count": 5,
     "metadata": {},
     "output_type": "execute_result"
    }
   ],
   "source": [
    "# print amount of rows and first 100 character of first line\n",
    "    lines = [line.rstrip('\\n').split(')') for line in f]\n",
    "\n",
    "#TODO\n",
    "study day 19 2017 complex ór 22\n"
   ]
  },
  {
   "cell_type": "code",
   "execution_count": 3,
   "metadata": {},
   "outputs": [
    {
     "data": {
      "text/plain": [
       "5026151"
      ]
     },
     "execution_count": 3,
     "metadata": {},
     "output_type": "execute_result"
    }
   ],
   "source": [
    "def calc_fuel(x):\n",
    "    out = x//3-2\n",
    "    if out <= 0: return 0\n",
    "    else: return out + calc_fuel(out)\n",
    "sum([calc_fuel(int(l)) for l in lines])"
   ]
  },
  {
   "cell_type": "code",
   "execution_count": 4,
   "metadata": {},
   "outputs": [],
   "source": [
    "import aoc"
   ]
  },
  {
   "cell_type": "code",
   "execution_count": 6,
   "metadata": {},
   "outputs": [
    {
     "data": {
      "text/plain": [
       "3"
      ]
     },
     "execution_count": 6,
     "metadata": {},
     "output_type": "execute_result"
    }
   ],
   "source": [
    "aoc.manhattan([2,3],[4,4])"
   ]
  },
  {
   "cell_type": "code",
   "execution_count": null,
   "metadata": {},
   "outputs": [],
   "source": []
  }
 ],
 "metadata": {
  "file_extension": ".py",
  "kernelspec": {
   "display_name": "Python 3",
   "name": "python3"
  },
  "language_info": {
   "codemirror_mode": {
    "name": "ipython",
    "version": 3
   },
   "name": "python",
   "version": "3.7.3-final"
  },
  "mimetype": "text/x-python",
  "name": "python",
  "npconvert_exporter": "python",
  "orig_nbformat": 2,
  "pygments_lexer": "ipython3",
  "version": 3
 },
 "nbformat": 4,
 "nbformat_minor": 2
}
