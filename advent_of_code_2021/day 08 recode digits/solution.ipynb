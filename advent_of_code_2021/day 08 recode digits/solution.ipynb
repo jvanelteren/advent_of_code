{
 "cells": [
  {
   "cell_type": "code",
   "execution_count": 16,
   "metadata": {},
   "outputs": [
    {
     "data": {
      "text/plain": [
       "(365, 975706)"
      ]
     },
     "execution_count": 16,
     "metadata": {},
     "output_type": "execute_result"
    }
   ],
   "source": [
    "lines = open('input.txt').read().splitlines()\n",
    "p1 = 0\n",
    "p2 = 0\n",
    "\n",
    "for line in lines:\n",
    "    pattern, lights = line.split(' | ')\n",
    "    pattern = pattern.split()\n",
    "    lights = lights.split()\n",
    "\n",
    "    p1 += sum(len(l) in [2,3,4,7] for l in lights)\n",
    "\n",
    "    for p in pattern:\n",
    "        if len(p) == 2:\n",
    "            one = p\n",
    "        if len(p) == 3:\n",
    "            seven = p\n",
    "        if len(p) == 4:\n",
    "            four = p    \n",
    "    fourleft = set(four) - set(one)\n",
    "\n",
    "    sub = ''\n",
    "    for l in lights:\n",
    "        if len(l) == 2:\n",
    "            sub += '1'\n",
    "        elif len(l) == 4:\n",
    "            sub += '4'\n",
    "        elif len(l) == 3:\n",
    "            sub += '7'\n",
    "        elif len(l) == 7:\n",
    "            sub += '8'\n",
    "        elif len(l) == 5:\n",
    "            if not set(one) - set(l):\n",
    "                sub += '3'\n",
    "            elif set(fourleft) - set(l):\n",
    "                sub += '2'\n",
    "            else:\n",
    "                sub += '5'\n",
    "        elif len(l) == 6:\n",
    "            if set(seven) - set(l):\n",
    "                sub += '6'\n",
    "            elif set(four) - set(l):\n",
    "                sub += '0'\n",
    "            else:\n",
    "                sub += '9'\n",
    "    p2 += int(sub)\n",
    "\n",
    "p1, p2"
   ]
  }
 ],
 "metadata": {
  "file_extension": ".py",
  "kernelspec": {
   "display_name": "Python 3",
   "name": "python3"
  },
  "language_info": {
   "codemirror_mode": {
    "name": "ipython",
    "version": 3
   },
   "file_extension": ".py",
   "mimetype": "text/x-python",
   "name": "python",
   "nbconvert_exporter": "python",
   "pygments_lexer": "ipython3",
   "version": "3.10.0"
  },
  "mimetype": "text/x-python",
  "name": "python",
  "npconvert_exporter": "python",
  "orig_nbformat": 2,
  "pygments_lexer": "ipython3",
  "version": 3
 },
 "nbformat": 4,
 "nbformat_minor": 2
}
