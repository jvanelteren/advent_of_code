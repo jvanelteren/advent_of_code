{
 "cells": [
  {
   "cell_type": "code",
   "execution_count": 2,
   "metadata": {},
   "outputs": [
    {
     "data": {
      "text/plain": [
       "(365, 975706)"
      ]
     },
     "execution_count": 2,
     "metadata": {},
     "output_type": "execute_result"
    }
   ],
   "source": [
    "lines = open('input.txt').read().splitlines()\n",
    "p1 = 0\n",
    "p2 = 0\n",
    "\n",
    "for line in lines:\n",
    "    pattern, lights = line.split(' | ')\n",
    "    pattern = pattern.split()\n",
    "    lights = lights.split()\n",
    "\n",
    "    p1 += sum(len(l) in [2,3,4,7] for l in lights)\n",
    "\n",
    "    for p in pattern:\n",
    "        if len(p) == 2:\n",
    "            one = p\n",
    "        if len(p) == 3:\n",
    "            seven = p\n",
    "        if len(p) == 4:\n",
    "            four = p    \n",
    "    fourleft = set(four) - set(one)\n",
    "\n",
    "    sub = ''\n",
    "    for l in lights:\n",
    "        match len(l):\n",
    "            case 2:\n",
    "                sub += '1'\n",
    "            case 4:\n",
    "                sub += '4'\n",
    "            case 3:\n",
    "                sub += '7'\n",
    "            case 7:\n",
    "                sub += '8'\n",
    "            case 5:\n",
    "                if not set(one) - set(l):\n",
    "                    sub += '3'\n",
    "                elif set(fourleft) - set(l):\n",
    "                    sub += '2'\n",
    "                else:\n",
    "                    sub += '5'\n",
    "            case 6:\n",
    "                if set(seven) - set(l):\n",
    "                    sub += '6'\n",
    "                elif set(four) - set(l):\n",
    "                    sub += '0'\n",
    "                else:\n",
    "                    sub += '9'\n",
    "    p2 += int(sub)\n",
    "\n",
    "p1, p2"
   ]
  },
  {
   "cell_type": "code",
   "execution_count": 2,
   "metadata": {},
   "outputs": [],
   "source": []
  },
  {
   "cell_type": "code",
   "execution_count": 3,
   "metadata": {},
   "outputs": [
    {
     "data": {
      "text/plain": [
       "(['decfb',\n",
       "  'bc',\n",
       "  'gfedc',\n",
       "  'fcagbd',\n",
       "  'bgec',\n",
       "  'ecgdabf',\n",
       "  'degfcb',\n",
       "  'ebafd',\n",
       "  'afcdeg',\n",
       "  'bcd'],\n",
       " ['aefbd', 'fdceg', 'dcb', 'efgcbd'])"
      ]
     },
     "execution_count": 3,
     "metadata": {},
     "output_type": "execute_result"
    }
   ],
   "source": [
    "pattern, lights"
   ]
  },
  {
   "cell_type": "code",
   "execution_count": 13,
   "metadata": {},
   "outputs": [
    {
     "data": {
      "text/plain": [
       "(975706, 200)"
      ]
     },
     "execution_count": 13,
     "metadata": {},
     "output_type": "execute_result"
    }
   ],
   "source": [
    "lines = open('input.txt').read().splitlines()\n",
    "    \n",
    "correct = {'abcefg':0, \n",
    "            'cf':1, \n",
    "            'acdeg':2, \n",
    "            'acdfg':3, \n",
    "            'bcdf':4, \n",
    "            'abdfg':5, \n",
    "            'abdefg': 6, \n",
    "            'acf':7,\n",
    "            'abcdefg':8,\n",
    "            'abcdfg':9}\n",
    "\n",
    "from itertools import permutations\n",
    "ans= 0\n",
    "count = 0\n",
    "for line in lines:\n",
    "    pattern, lights = line.split(' | ')\n",
    "    pattern = pattern.split()\n",
    "    lights = lights.split()\n",
    "    for perm in permutations('abcdefg'):\n",
    "        map = {ch: cor for ch, cor in zip(perm, 'abcdefg')}\n",
    "        recodes = [''.join(sorted([map[ch] for ch in p])) for p in pattern]\n",
    "        if all(rec in correct for rec in recodes):\n",
    "            count +=1 \n",
    "            recodes = [''.join(sorted([map[ch] for ch in p])) for p in lights]\n",
    "            ans += int(''.join([str(correct[r]) for r in recodes]))\n",
    "            break\n",
    "\n",
    "        # for p in pattern:\n",
    "        #     new = ''.join(sorted([map[ch] for ch in p]))\n",
    "\n",
    "        #     if new not in correct:\n",
    "        #         ok = False\n",
    "        \n",
    "        # if ok:\n",
    "        #     count += 1\n",
    "        #     sub = ''\n",
    "        #     for l in lights:\n",
    "        #         new = ''.join(sorted([map[ch] for ch in l]))\n",
    "\n",
    "        #         sub += str(correct[new])\n",
    "        #     ans += int(sub)\n",
    "        #     break\n",
    "ans, count"
   ]
  },
  {
   "cell_type": "code",
   "execution_count": 14,
   "metadata": {},
   "outputs": [
    {
     "data": {
      "text/plain": [
       "184277"
      ]
     },
     "execution_count": 14,
     "metadata": {},
     "output_type": "execute_result"
    }
   ],
   "source": [
    "170397+13880"
   ]
  },
  {
   "cell_type": "code",
   "execution_count": 15,
   "metadata": {},
   "outputs": [
    {
     "data": {
      "text/plain": [
       "184135"
      ]
     },
     "execution_count": 15,
     "metadata": {},
     "output_type": "execute_result"
    }
   ],
   "source": [
    "165359+18776"
   ]
  },
  {
   "cell_type": "code",
   "execution_count": null,
   "metadata": {},
   "outputs": [],
   "source": []
  }
 ],
 "metadata": {
  "file_extension": ".py",
  "kernelspec": {
   "display_name": "Python 3",
   "name": "python3"
  },
  "language_info": {
   "codemirror_mode": {
    "name": "ipython",
    "version": 3
   },
   "file_extension": ".py",
   "mimetype": "text/x-python",
   "name": "python",
   "nbconvert_exporter": "python",
   "pygments_lexer": "ipython3",
   "version": "3.10.0"
  },
  "mimetype": "text/x-python",
  "name": "python",
  "npconvert_exporter": "python",
  "orig_nbformat": 2,
  "pygments_lexer": "ipython3",
  "version": 3
 },
 "nbformat": 4,
 "nbformat_minor": 2
}
