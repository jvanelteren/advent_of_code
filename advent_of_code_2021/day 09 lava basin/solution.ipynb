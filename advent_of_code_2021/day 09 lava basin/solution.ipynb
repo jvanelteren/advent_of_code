{
 "cells": [
  {
   "cell_type": "code",
   "execution_count": 4,
   "metadata": {},
   "outputs": [
    {
     "data": {
      "text/plain": [
       "(594, 858494)"
      ]
     },
     "execution_count": 4,
     "metadata": {},
     "output_type": "execute_result"
    }
   ],
   "source": [
    "lines = [[int(c) for c in list(line)] for line in open('input.txt').read().splitlines()]\n",
    "\n",
    "rows, cols = len(lines), len(lines[0])\n",
    "def get_neigh(r,c):\n",
    "    dr = [1,0,-1,0]\n",
    "    dc = [0,1,0,-1]\n",
    "    return [(r+dr[i], c+dc[i]) for i in range(4) if 0<=r+dr[i]<rows and 0<=c+dc[i]<cols]\n",
    "\n",
    "p1 = 0\n",
    "basins = []\n",
    "for i, row in enumerate(lines):\n",
    "    for j, val in enumerate(row):\n",
    "        if val != -1:\n",
    "            for r2,c2 in get_neigh(i,j):\n",
    "                if val >= lines[r2][c2]:\n",
    "                    break\n",
    "            else:\n",
    "                # found a minimum\n",
    "                p1 += 1 + val\n",
    "                ans = 0\n",
    "                tocheck = {(i,j)}\n",
    "                while tocheck:\n",
    "                    # check size of basins\n",
    "                    r,c = tocheck.pop()\n",
    "                    ans += 1\n",
    "                    lines[r][c] = -1                    \n",
    "                    tocheck |= {(r2,c2) for (r2,c2) in get_neigh(r,c) if lines[r2][c2] not in (-1,9)}\n",
    "                basins.append(ans)\n",
    "basins.sort()\n",
    "p1, basins[-1] * basins[-2] * basins[-3]"
   ]
  },
  {
   "cell_type": "code",
   "execution_count": 5,
   "metadata": {},
   "outputs": [],
   "source": [
    "# implementation with own library saves 6 lines\n",
    "# also could have used my own bfs, but that doesn't save lines (you need to define a neighbors function and change visited patches to -1)"
   ]
  },
  {
   "cell_type": "code",
   "execution_count": 6,
   "metadata": {},
   "outputs": [
    {
     "ename": "ModuleNotFoundError",
     "evalue": "No module named 'aocutils.aoc'",
     "output_type": "error",
     "traceback": [
      "\u001b[1;31m---------------------------------------------------------------------------\u001b[0m",
      "\u001b[1;31mModuleNotFoundError\u001b[0m                       Traceback (most recent call last)",
      "Cell \u001b[1;32mIn [6], line 1\u001b[0m\n\u001b[1;32m----> 1\u001b[0m \u001b[39mfrom\u001b[39;00m \u001b[39maocutils\u001b[39;00m\u001b[39m.\u001b[39;00m\u001b[39maoc\u001b[39;00m \u001b[39mimport\u001b[39;00m iterate, arr_neighbors\n\u001b[0;32m      2\u001b[0m lines \u001b[39m=\u001b[39m [[\u001b[39mint\u001b[39m(c) \u001b[39mfor\u001b[39;00m c \u001b[39min\u001b[39;00m \u001b[39mlist\u001b[39m(line\u001b[39m.\u001b[39mrstrip(\u001b[39m'\u001b[39m\u001b[39m\\n\u001b[39;00m\u001b[39m'\u001b[39m))] \u001b[39mfor\u001b[39;00m line \u001b[39min\u001b[39;00m \u001b[39mopen\u001b[39m(\u001b[39m'\u001b[39m\u001b[39minput.txt\u001b[39m\u001b[39m'\u001b[39m)]\n\u001b[0;32m      4\u001b[0m neigh \u001b[39m=\u001b[39m arr_neighbors(lines)\n",
      "\u001b[1;31mModuleNotFoundError\u001b[0m: No module named 'aocutils.aoc'"
     ]
    }
   ],
   "source": [
    "from aocutils.aoc import iterate, arr_neighbors\n",
    "lines = [[int(c) for c in list(line.rstrip('\\n'))] for line in open('input.txt')]\n",
    "\n",
    "neigh = arr_neighbors(lines)\n",
    "p1 = 0\n",
    "basins = []\n",
    "for i, j, val in iterate(lines):\n",
    "    if val != -1:\n",
    "        for r2,c2 in neigh[i,j]:\n",
    "            if val >= lines[r2][c2]:\n",
    "                break\n",
    "        else:\n",
    "            # found a minimum\n",
    "            p1 += 1 + val\n",
    "            ans = 0\n",
    "            tocheck = {(i,j)}\n",
    "            while tocheck:\n",
    "                # check size of basins\n",
    "                r,c = tocheck.pop()\n",
    "                ans += 1\n",
    "                lines[r][c] = -1                    \n",
    "                tocheck |= {(r2,c2) for (r2,c2) in neigh[r,c] if lines[r2][c2] not in (-1,9)}\n",
    "            basins.append(ans)\n",
    "basins.sort()\n",
    "p1, basins[-1] * basins[-2] * basins[-3]"
   ]
  }
 ],
 "metadata": {
  "file_extension": ".py",
  "kernelspec": {
   "display_name": "Python 3.11.0 ('.aocenvpy311': venv)",
   "language": "python",
   "name": "python3"
  },
  "language_info": {
   "codemirror_mode": {
    "name": "ipython",
    "version": 3
   },
   "file_extension": ".py",
   "mimetype": "text/x-python",
   "name": "python",
   "nbconvert_exporter": "python",
   "pygments_lexer": "ipython3",
   "version": "3.11.0"
  },
  "mimetype": "text/x-python",
  "name": "python",
  "npconvert_exporter": "python",
  "orig_nbformat": 2,
  "pygments_lexer": "ipython3",
  "version": 3,
  "vscode": {
   "interpreter": {
    "hash": "7b5336723abeab741c71fcc933eb6e6f53a288e70399d841fc0756db1169ea34"
   }
  }
 },
 "nbformat": 4,
 "nbformat_minor": 2
}
