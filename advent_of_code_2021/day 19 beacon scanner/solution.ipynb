{
 "cells": [
  {
   "cell_type": "code",
   "execution_count": 27,
   "metadata": {},
   "outputs": [],
   "source": [
    "# had some difficulty to decide how to store the coordinates, since I was not sure of the algo\n",
    "from itertools import permutations\n",
    "from collections import defaultdict\n",
    "\n",
    "lines = open('input.txt').read().splitlines()\n",
    "scan = defaultdict(list)\n",
    "num = -1\n",
    "for line in lines:\n",
    "    line.rstrip()\n",
    "    if line.startswith('---'):\n",
    "        num += 1\n",
    "    else:\n",
    "        if line:\n",
    "            scan[num].append(tuple(map(int,line.split(','))))"
   ]
  },
  {
   "cell_type": "code",
   "execution_count": 28,
   "metadata": {},
   "outputs": [],
   "source": [
    "# i broke my head over the 24 options, in the end decided to just enumerate 48 options and hope for the best. 24 of these options are invalid\n",
    "# So glad it worked out, otherwise I would have been in for a world of hurt\n",
    "options = defaultdict(list)\n",
    "for k,v in scan.items():\n",
    "        for dx in [1,-1]:\n",
    "            for dy in [1,-1]:\n",
    "                for dz in [1,-1]:\n",
    "                    for xpos,ypos,zpos in permutations([0,1,2],3):\n",
    "                        locs = list()\n",
    "                        for (x2,y2,z2) in v:\n",
    "                            loc = [0,0,0]\n",
    "                            loc[xpos] = x2*dx\n",
    "                            loc[ypos] = y2*dy\n",
    "                            loc[zpos] = z2*dz\n",
    "                            locs.append(tuple(loc))\n",
    "                        options[k].append(locs)\n"
   ]
  },
  {
   "cell_type": "code",
   "execution_count": 29,
   "metadata": {},
   "outputs": [
    {
     "name": "stdout",
     "output_type": "stream",
     "text": [
      "iterated through scanners, currently 127 beacons found\n",
      "iterated through scanners, currently 275 beacons found\n",
      "iterated through scanners, currently 315 beacons found\n",
      "iterated through scanners, currently 403 beacons found\n",
      "iterated through scanners, currently 467 beacons found\n",
      "iterated through scanners, currently 467 beacons found\n"
     ]
    }
   ],
   "source": [
    "def match(known, scanner):\n",
    "    \"\"\"\n",
    "        Determine if a scanner location can be determined with the known beacons at this time\n",
    "    \"\"\"\n",
    "    best = []\n",
    "    for i, compare in enumerate(scanner):\n",
    "        count = defaultdict(int)\n",
    "        for x,y,z in known:\n",
    "            for x2,y2,z2 in compare:\n",
    "                count[x2-x, y2-y, z2-z] += 1\n",
    "                if count[x2-x, y2-y, z2-z] >= 12:\n",
    "                    # we found a matching scanner\n",
    "                    return (i,(x2-x, y2-y, z2-z))\n",
    "\n",
    "def appendnew(known, scanner, i, offsets):\n",
    "    \"\"\"\n",
    "        Given we know the location of a scanner, see if we now know more locations\n",
    "    \"\"\"\n",
    "    dx,dy,dz = offsets\n",
    "    newscanner = set()\n",
    "    for x,y,z in scanner[i]:\n",
    "        newscanner.add((x-dx, y-dy, z-dz))\n",
    "    return known | newscanner\n",
    "\n",
    "\n",
    "locations = []\n",
    "known = set(scan[0])\n",
    "found = {0}\n",
    "curlen = 0\n",
    "# just go over the unknown scanners repeatedly and see it we know their location\n",
    "while len(known) != curlen:\n",
    "    curlen = len(known)\n",
    "    for scanid, scanoptions in options.items():\n",
    "        if scanid not in found:\n",
    "            res = match(known, scanoptions)\n",
    "            if res:\n",
    "                # match found!\n",
    "                found.add(scanid)\n",
    "                orient, offsets = res\n",
    "                locations.append(offsets) # for part 2\n",
    "                known = appendnew(known, scanoptions, orient, offsets)\n",
    "    print(f'iterated through scanners, currently {len(known)} beacons found')"
   ]
  },
  {
   "cell_type": "code",
   "execution_count": 30,
   "metadata": {},
   "outputs": [
    {
     "data": {
      "text/plain": [
       "12226"
      ]
     },
     "execution_count": 30,
     "metadata": {},
     "output_type": "execute_result"
    }
   ],
   "source": [
    "ans = 0\n",
    "for i in locations:\n",
    "    for j in locations:\n",
    "        dis = abs(i[0]-j[0]) + abs(i[1]-j[1]) + abs(i[2]-j[2])\n",
    "        ans = max(dis, ans)\n",
    "ans"
   ]
  }
 ],
 "metadata": {
  "file_extension": ".py",
  "kernelspec": {
   "display_name": "Python 3",
   "name": "python3"
  },
  "language_info": {
   "codemirror_mode": {
    "name": "ipython",
    "version": 3
   },
   "file_extension": ".py",
   "mimetype": "text/x-python",
   "name": "python",
   "nbconvert_exporter": "python",
   "pygments_lexer": "ipython3",
   "version": "3.10.0"
  },
  "mimetype": "text/x-python",
  "name": "python",
  "npconvert_exporter": "python",
  "orig_nbformat": 2,
  "pygments_lexer": "ipython3",
  "version": 3
 },
 "nbformat": 4,
 "nbformat_minor": 2
}
