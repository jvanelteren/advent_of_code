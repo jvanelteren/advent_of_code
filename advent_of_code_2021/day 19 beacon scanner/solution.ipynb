{
 "cells": [
  {
   "cell_type": "code",
   "execution_count": 1,
   "metadata": {},
   "outputs": [],
   "source": [
    "# had some difficulty to decide how to store the coordinates, since I was not sure of the algo\n",
    "from itertools import permutations\n",
    "from collections import defaultdict\n",
    "\n",
    "lines = open('input.txt').read().splitlines()\n",
    "scan = defaultdict(list)\n",
    "num = -1\n",
    "for line in lines:\n",
    "    line.rstrip()\n",
    "    if line.startswith('---'):\n",
    "        num += 1\n",
    "    else:\n",
    "        if line:\n",
    "            scan[num].append(tuple(map(int,line.split(','))))"
   ]
  },
  {
   "cell_type": "code",
   "execution_count": 2,
   "metadata": {},
   "outputs": [],
   "source": [
    "# i broke my head over the 24 options, in the end decided to just enumerate 48 options and hope for the best. 24 of these options are invalid\n",
    "# So glad it worked out, otherwise I would have been in for a world of hurt\n",
    "options = defaultdict(list)\n",
    "for k,v in scan.items():\n",
    "        for dx in [1,-1]:\n",
    "            for dy in [1,-1]:\n",
    "                for dz in [1,-1]:\n",
    "                    for xpos,ypos,zpos in permutations([0,1,2],3):\n",
    "                        locs = list()\n",
    "                        for (x2,y2,z2) in v:\n",
    "                            loc = [0,0,0]\n",
    "                            loc[xpos] = x2*dx\n",
    "                            loc[ypos] = y2*dy\n",
    "                            loc[zpos] = z2*dz\n",
    "                            locs.append(tuple(loc))\n",
    "                        options[k].append(locs)\n"
   ]
  },
  {
   "cell_type": "code",
   "execution_count": 5,
   "metadata": {},
   "outputs": [
    {
     "name": "stdout",
     "output_type": "stream",
     "text": [
      "iterated through scanners, currently 127 beacons found\n",
      "iterated through scanners, currently 275 beacons found\n",
      "iterated through scanners, currently 315 beacons found\n",
      "iterated through scanners, currently 403 beacons found\n",
      "iterated through scanners, currently 467 beacons found\n",
      "iterated through scanners, currently 467 beacons found\n"
     ]
    }
   ],
   "source": [
    "def match(knownbeacons, scanoptions):\n",
    "    \"\"\"\n",
    "        Determine if a scanner location can be determined with the knownbeacons beacons at this time\n",
    "    \"\"\"\n",
    "    best = []\n",
    "    for i, compare in enumerate(scanoptions):\n",
    "        count = defaultdict(int)\n",
    "        for x,y,z in knownbeacons:\n",
    "            for x2,y2,z2 in compare:\n",
    "                count[x2-x, y2-y, z2-z] += 1\n",
    "                if count[x2-x, y2-y, z2-z] >= 12:\n",
    "                    # we found a matching scanner\n",
    "                    return (i,(x2-x, y2-y, z2-z))\n",
    "\n",
    "def appendnew(knownbeacons, scanoptions, orient, offsets):\n",
    "    \"\"\"\n",
    "        Given we know the location of a scanner, see if we now know more beacons\n",
    "    \"\"\"\n",
    "    dx,dy,dz = offsets\n",
    "    for x,y,z in scanoptions[orient]:\n",
    "        knownbeacons.add((x-dx, y-dy, z-dz))\n",
    "    return knownbeacons\n",
    "\n",
    "\n",
    "locations = []\n",
    "knownbeacons = set(scan[0])\n",
    "found = {0}\n",
    "curlen = 0\n",
    "# just go over the unknownbeacons scanners repeatedly and see it we can match them and therefore extend knownbeacons\n",
    "while len(knownbeacons) != curlen:\n",
    "    curlen = len(knownbeacons)\n",
    "    for scanid, scanoptions in options.items():\n",
    "        if scanid not in found:\n",
    "            res = match(knownbeacons, scanoptions)\n",
    "            if res:\n",
    "                # match found!\n",
    "                found.add(scanid)\n",
    "                orient, offsets = res\n",
    "                locations.append(offsets) # for part 2\n",
    "                knownbeacons = appendnew(knownbeacons, scanoptions, orient, offsets)\n",
    "    print(f'iterated through scanners, currently {len(knownbeacons)} beacons found')"
   ]
  },
  {
   "cell_type": "code",
   "execution_count": 6,
   "metadata": {},
   "outputs": [
    {
     "data": {
      "text/plain": [
       "12226"
      ]
     },
     "execution_count": 6,
     "metadata": {},
     "output_type": "execute_result"
    }
   ],
   "source": [
    "ans = 0\n",
    "for i in locations:\n",
    "    for j in locations:\n",
    "        dis = abs(i[0]-j[0]) + abs(i[1]-j[1]) + abs(i[2]-j[2])\n",
    "        ans = max(dis, ans)\n",
    "ans"
   ]
  },
  {
   "cell_type": "code",
   "execution_count": null,
   "metadata": {},
   "outputs": [],
   "source": []
  }
 ],
 "metadata": {
  "file_extension": ".py",
  "kernelspec": {
   "display_name": "Python 3",
   "name": "python3"
  },
  "language_info": {
   "codemirror_mode": {
    "name": "ipython",
    "version": 3
   },
   "file_extension": ".py",
   "mimetype": "text/x-python",
   "name": "python",
   "nbconvert_exporter": "python",
   "pygments_lexer": "ipython3",
   "version": "3.10.0"
  },
  "mimetype": "text/x-python",
  "name": "python",
  "npconvert_exporter": "python",
  "orig_nbformat": 2,
  "pygments_lexer": "ipython3",
  "version": 3
 },
 "nbformat": 4,
 "nbformat_minor": 2
}
