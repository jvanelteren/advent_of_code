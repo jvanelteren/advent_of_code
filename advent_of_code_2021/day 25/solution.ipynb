{
 "cells": [
  {
   "cell_type": "code",
   "execution_count": 1,
   "metadata": {},
   "outputs": [],
   "source": [
    "import numpy as np\n",
    "from collections import Counter, defaultdict, namedtuple\n",
    "from math import gcd, ceil\n",
    "import re\n",
    "import networkx as nx\n",
    "from dataclasses import dataclass\n",
    "from matplotlib import pyplot as plt\n",
    "# plt.imshow(pic)\n",
    "from functools    import cache\n",
    "\n",
    "from aocutils.common import to_int, flatten, reverse_dict, zippify, list_multiply, ints\n",
    "from aocutils.grid import iterate, arr_to_dict, grid_to_dict, neighbors, arr_neighbors, dimensions, manhattan, positive, conv1d, conv2d\n",
    "from aocutils.maze import bfs, dijkstra, get_path, dfs\n",
    "from aocutils.math import lcm, gcd, factors, mul_inv\n",
    "from aocutils.special import find_pattern_in_iter, find_repeat, find_cycle, md5, CFG, ShuntingYard, binarysearch, deduce_matches\n",
    "from aocutils.visuals import visualize_graph, labelize, cat, animate_grid"
   ]
  },
  {
   "cell_type": "code",
   "execution_count": 2,
   "metadata": {},
   "outputs": [
    {
     "data": {
      "text/plain": [
       "['test', 202]"
      ]
     },
     "execution_count": 2,
     "metadata": {},
     "output_type": "execute_result"
    }
   ],
   "source": [
    "lines = open('input.txt').read().splitlines()\n",
    "lines = [to_int(line.split()) for line in lines]\n",
    "lines[0]"
   ]
  },
  {
   "cell_type": "code",
   "execution_count": null,
   "metadata": {},
   "outputs": [],
   "source": []
  },
  {
   "cell_type": "code",
   "execution_count": null,
   "metadata": {},
   "outputs": [],
   "source": []
  },
  {
   "cell_type": "code",
   "execution_count": null,
   "metadata": {},
   "outputs": [],
   "source": []
  },
  {
   "cell_type": "code",
   "execution_count": null,
   "metadata": {},
   "outputs": [],
   "source": []
  },
  {
   "cell_type": "code",
   "execution_count": null,
   "metadata": {},
   "outputs": [],
   "source": []
  },
  {
   "cell_type": "code",
   "execution_count": null,
   "metadata": {},
   "outputs": [],
   "source": [
    "# part 1\n",
    "f=open('input.txt')\n",
    "lines = [line.rstrip('\\n') for line in f]\n",
    "\n",
    "direc = complex(1,0)\n",
    "location = complex(0,0)\n",
    "\n",
    "for line in lines:\n",
    "    ins = line[0]\n",
    "    amount = int(line[1:])\n",
    "    if ins == 'N': location += complex(0,amount)\n",
    "    if ins == 'S': location += complex(0,-amount)\n",
    "    if ins == 'E': location += complex(amount,0)\n",
    "    if ins == 'W': location += complex(-amount,0)\n",
    "    if ins == 'F': location += direc*amount\n",
    "    if ins == 'L': \n",
    "        for i in range(amount//90):\n",
    "            direc *= 1j\n",
    "    if ins == 'R': \n",
    "        for i in range(amount//90):\n",
    "            direc *= -1j\n",
    "abs(location.real) + abs(location.imag) "
   ]
  },
  {
   "cell_type": "code",
   "execution_count": null,
   "metadata": {},
   "outputs": [],
   "source": [
    "from networkx.algorithms.simple_paths import all_simple_paths\n",
    "import networkx as nx\n",
    "\n",
    "f=open('test1.txt')\n",
    "lines = [int(line.rstrip('\\n')) for line in f]\n",
    "lines.sort()\n",
    "lines.insert(0,0)\n",
    "lines.append(lines[-1]+3)\n",
    "\n",
    "G = nx.DiGraph()\n",
    "for i in lines:\n",
    "    for j in range(1,4):\n",
    "        if i+j in lines: G.add_edge(i,i+j)\n",
    "\n",
    "sum(1 for path in all_simple_paths(G, lines[0], lines[-1]))"
   ]
  }
 ],
 "metadata": {
  "file_extension": ".py",
  "kernelspec": {
   "display_name": "Python 3",
   "name": "python3"
  },
  "language_info": {
   "codemirror_mode": {
    "name": "ipython",
    "version": 3
   },
   "file_extension": ".py",
   "mimetype": "text/x-python",
   "name": "python",
   "nbconvert_exporter": "python",
   "pygments_lexer": "ipython3",
   "version": "3.10.0"
  },
  "mimetype": "text/x-python",
  "name": "python",
  "npconvert_exporter": "python",
  "orig_nbformat": 2,
  "pygments_lexer": "ipython3",
  "version": 3
 },
 "nbformat": 4,
 "nbformat_minor": 2
}
