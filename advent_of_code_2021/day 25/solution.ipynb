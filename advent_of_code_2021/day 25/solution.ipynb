{
 "cells": [
  {
   "cell_type": "code",
   "execution_count": 24,
   "metadata": {},
   "outputs": [
    {
     "name": "stdout",
     "output_type": "stream",
     "text": [
      "19043\n",
      "9528\n",
      "no movement after 413 steps\n"
     ]
    }
   ],
   "source": [
    "from aocutils.common import to_int\n",
    "from aocutils.grid import arr_to_dict\n",
    "lines = open('input.txt').read().splitlines()\n",
    "lines = [to_int(list(line)) for line in lines]\n",
    "grid = arr_to_dict(lines)\n",
    "\n",
    "maxr = max(k[0] for k in grid)+1\n",
    "maxc = max(k[1] for k in grid)+1\n",
    "\n",
    "# about half of the grid is empty, keep only the school of fish\n",
    "school = {k:v for k,v in grid.items() if v !='.'}\n",
    "\n",
    "def step(school):\n",
    "    newschool = {}\n",
    "    east = {k:v for k,v in school.items() if v =='>'}\n",
    "    south = {k:v for k,v in school.items() if v =='v'}\n",
    "    \n",
    "    for fish in east:\n",
    "        newloc = (fish[1] + 1) % maxc\n",
    "        if (fish[0], newloc) not in school:\n",
    "            newschool[fish[0], newloc] = '>'\n",
    "        else:\n",
    "            newschool[fish] = '>'\n",
    "            \n",
    "    for fish in south:\n",
    "        newloc = (fish[0] + 1) % maxr\n",
    "        if (newloc, fish[1]) not in newschool and (newloc, fish[1]) not in south:\n",
    "            newschool[newloc, fish[1]] = 'v'\n",
    "        else:\n",
    "            newschool[fish] = 'v'\n",
    "    return newschool\n",
    "\n",
    "def hash(school):\n",
    "    return tuple(sorted(school.keys()))\n",
    "\n",
    "seen = set()\n",
    "i = 1\n",
    "\n",
    "while hash(school) not in seen:\n",
    "    seen.add(hash(school))\n",
    "    school = step(school)\n",
    "    i +=1\n",
    "\n",
    "print(f'no movement after {i} steps')"
   ]
  },
  {
   "cell_type": "code",
   "execution_count": 28,
   "metadata": {},
   "outputs": [
    {
     "name": "stdout",
     "output_type": "stream",
     "text": [
      "no movement after 2 steps\n"
     ]
    }
   ],
   "source": [
    "# trying out the same approach with only an east and south dict. \n",
    "# Don't really like it although its a bit shorter\n",
    "\n",
    "from aocutils.common import to_int\n",
    "from aocutils.grid import arr_to_dict\n",
    "lines = open('input.txt').read().splitlines()\n",
    "lines = [to_int(list(line)) for line in lines]\n",
    "grid = arr_to_dict(lines)\n",
    "\n",
    "maxr = max(k[0] for k in grid)+1\n",
    "maxc = max(k[1] for k in grid)+1\n",
    "\n",
    "# about half of the grid is empty, keep only the school of fish\n",
    "east = {k:v for k,v in grid.items() if v !='>'}\n",
    "south = {k:v for k,v in grid.items() if v !='v'}\n",
    "\n",
    "def step(school, goeast=True):\n",
    "    newschool = {}    \n",
    "    for fish in school:\n",
    "        if goeast:\n",
    "            newloc = fish[0], ((fish[1] + 1) % maxc)\n",
    "        else:\n",
    "            newloc = ((fish[0] + 1) % maxr), fish[1]\n",
    "            \n",
    "        if newloc not in east and newloc not in south:\n",
    "            newschool[newloc] = '>'\n",
    "        else:\n",
    "            newschool[fish] = '>'\n",
    "    return newschool\n",
    "\n",
    "def hash(eaat, south):\n",
    "    return tuple(sorted(east.keys())), tuple(sorted(south.keys()))\n",
    "\n",
    "seen = set()\n",
    "i = 1\n",
    "\n",
    "while hash(east, south) not in seen:\n",
    "    seen.add(hash(east, south))\n",
    "    east = step(east)\n",
    "    south = step(south, goeast=False)\n",
    "    i +=1\n",
    "\n",
    "print(f'no movement after {i} steps')"
   ]
  },
  {
   "cell_type": "code",
   "execution_count": null,
   "metadata": {},
   "outputs": [],
   "source": []
  }
 ],
 "metadata": {
  "file_extension": ".py",
  "kernelspec": {
   "display_name": "Python 3",
   "name": "python3"
  },
  "language_info": {
   "codemirror_mode": {
    "name": "ipython",
    "version": 3
   },
   "file_extension": ".py",
   "mimetype": "text/x-python",
   "name": "python",
   "nbconvert_exporter": "python",
   "pygments_lexer": "ipython3",
   "version": "3.10.0"
  },
  "mimetype": "text/x-python",
  "name": "python",
  "npconvert_exporter": "python",
  "orig_nbformat": 2,
  "pygments_lexer": "ipython3",
  "version": 3
 },
 "nbformat": 4,
 "nbformat_minor": 2
}
