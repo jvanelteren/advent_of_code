{
 "cells": [
  {
   "cell_type": "code",
   "execution_count": 10,
   "metadata": {},
   "outputs": [],
   "source": [
    "from aocutils.grid import grid_to_dict\n",
    "\n",
    "f=open('input.txt')\n",
    "lines = [line.rstrip('\\n') for line in f]\n",
    "algo = lines[0]\n",
    "grid = [list(line) for line in lines[2:]]\n",
    "grid = grid_to_dict(grid)\n",
    "\n",
    "def neighbors(i):\n",
    "    \"\"\"\n",
    "     determine the neighbors, returns a set with neighboring tuples {(0,1)}\n",
    "     if inc_self: returns self in results\n",
    "     if diag: return diagonal moves as well\n",
    "    \"\"\"\n",
    "    r = [-1,0,1]\n",
    "    c = [-1,0,1]\n",
    "    return [(i[0]+dr, i[1]+dc) for dr in r for dc in c]\n",
    "    \n",
    "def pad(grid, i ):\n",
    "    seen = set(grid.keys())\n",
    "    if i % 2 == 1:\n",
    "        for loc in seen:\n",
    "            for n in neighbors(loc):\n",
    "                if n not in grid:\n",
    "                    grid[n] = '.'\n",
    "    else:\n",
    "        for loc in seen:\n",
    "            for n in neighbors(loc):\n",
    "                if n not in grid:\n",
    "                    grid[n] = '#'\n",
    "    return grid\n",
    "\n",
    "def step(grid, i):\n",
    "    newgrid = {}\n",
    "    if i % 2 == 1:\n",
    "        for k,v in grid.items():\n",
    "                val = ''.join(['1' if grid.get(n, '.') == '#' else '0' for n in neighbors(k)])\n",
    "                newgrid[k] = algo[int(val, 2)]\n",
    "    else:\n",
    "        for k,v in grid.items():\n",
    "                val = ''.join(['1' if grid.get(n, '#') == '#' else '0' for n in neighbors(k)])\n",
    "                newgrid[k] = algo[int(val, 2)]\n",
    "    return newgrid\n",
    "\n",
    "for i in range(1,51):\n",
    "    grid = pad(grid,i)\n",
    "    grid = step(grid,i)\n",
    "    print(i, sum(v=='#' for v in grid.values()))"
   ]
  }
 ],
 "metadata": {
  "file_extension": ".py",
  "kernelspec": {
   "display_name": "Python 3",
   "name": "python3"
  },
  "language_info": {
   "codemirror_mode": {
    "name": "ipython",
    "version": 3
   },
   "file_extension": ".py",
   "mimetype": "text/x-python",
   "name": "python",
   "nbconvert_exporter": "python",
   "pygments_lexer": "ipython3",
   "version": "3.10.0"
  },
  "mimetype": "text/x-python",
  "name": "python",
  "npconvert_exporter": "python",
  "orig_nbformat": 2,
  "pygments_lexer": "ipython3",
  "version": 3
 },
 "nbformat": 4,
 "nbformat_minor": 2
}
