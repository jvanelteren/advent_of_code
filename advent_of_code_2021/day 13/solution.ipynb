{
 "cells": [
  {
   "cell_type": "code",
   "execution_count": 3,
   "metadata": {},
   "outputs": [],
   "source": [
    "import numpy as np\n",
    "from collections import Counter, defaultdict, namedtuple\n",
    "from math import gcd, ceil\n",
    "import re\n",
    "import networkx as nx\n",
    "from queue import Queue\n",
    "from dataclasses import dataclass\n",
    "from matplotlib import pyplot as plt\n",
    "# plt.imshow(pic)\n",
    "from functools    import lru_cache\n",
    "\n",
    "from aocutils.common import to_int, flatten, reverse_dict, zippify, list_multiply, ints\n",
    "from aocutils.grid import iterate, arr_to_dict, grid_to_dict, neighbors, arr_neighbors, dimensions, manhattan, positive, conv1d, conv2d\n",
    "from aocutils.maze import bfs, dijkstra, get_path, dfs\n",
    "from aocutils.math import lcm, gcd, factors, mul_inv\n",
    "from aocutils.special import find_pattern_in_iter, find_repeat, find_cycle, md5, CFG, ShuntingYard, binarysearch, deduce_matches, visualize_graph, labelize, cat"
   ]
  },
  {
   "cell_type": "code",
   "execution_count": 4,
   "metadata": {},
   "outputs": [
    {
     "data": {
      "text/plain": [
       "['hoi', 202]"
      ]
     },
     "execution_count": 4,
     "metadata": {},
     "output_type": "execute_result"
    }
   ],
   "source": [
    "lines = open('input.txt').read().splitlines()\n",
    "lines = [to_int(line.split()) for line in lines]\n",
    "lines[0]"
   ]
  },
  {
   "cell_type": "code",
   "execution_count": null,
   "metadata": {},
   "outputs": [],
   "source": []
  },
  {
   "cell_type": "code",
   "execution_count": null,
   "metadata": {},
   "outputs": [],
   "source": []
  },
  {
   "cell_type": "code",
   "execution_count": null,
   "metadata": {},
   "outputs": [],
   "source": []
  },
  {
   "cell_type": "code",
   "execution_count": null,
   "metadata": {},
   "outputs": [],
   "source": []
  },
  {
   "cell_type": "code",
   "execution_count": null,
   "metadata": {},
   "outputs": [],
   "source": []
  },
  {
   "cell_type": "code",
   "execution_count": null,
   "metadata": {},
   "outputs": [],
   "source": []
  },
  {
   "cell_type": "code",
   "execution_count": 18,
   "metadata": {},
   "outputs": [
    {
     "data": {
      "application/vnd.jupyter.widget-view+json": {
       "model_id": "2eb7d5dcbf8449a4aafaf658d8f45d6a",
       "version_major": 2,
       "version_minor": 0
      },
      "text/html": [
       "\n",
       "            <div style=\"display: inline-block;\">\n",
       "                <div class=\"jupyter-widgets widget-label\" style=\"text-align: center;\">\n",
       "                    Figure\n",
       "                </div>\n",
       "                <img src='data:image/png;base64,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' width=640.0/>\n",
       "            </div>\n",
       "        "
      ],
      "text/plain": [
       "Canvas(toolbar=Toolbar(toolitems=[('Home', 'Reset original view', 'home', 'home'), ('Back', 'Back to previous …"
      ]
     },
     "metadata": {},
     "output_type": "display_data"
    }
   ],
   "source": [
    "\n",
    "\n",
    "%matplotlib ipympl\n",
    "import numpy as np\n",
    "import matplotlib.pyplot as plt\n",
    "import matplotlib.animation as animation\n",
    "M=np.array([[0,0,100,100,100,100,100,100,300,300,300,300,300,300,500,500,500,500,500,500,1000,1000,1000,1000] for i in range(0,20)]) \n",
    "\n",
    "def update(i):\n",
    "    M[7,i] = 1000\n",
    "    M[19-i,10] = 500\n",
    "    matrice.set_array(M)\n",
    "\n",
    "fig, ax = plt.subplots()\n",
    "matrice = ax.matshow(M)\n",
    "plt.colorbar(matrice)\n",
    "\n",
    "ani = animation.FuncAnimation(fig, update, frames=19, interval=500)\n",
    "plt.show()"
   ]
  },
  {
   "cell_type": "code",
   "execution_count": null,
   "metadata": {},
   "outputs": [],
   "source": []
  }
 ],
 "metadata": {
  "file_extension": ".py",
  "kernelspec": {
   "display_name": "Python 3",
   "name": "python3"
  },
  "language_info": {
   "codemirror_mode": {
    "name": "ipython",
    "version": 3
   },
   "file_extension": ".py",
   "mimetype": "text/x-python",
   "name": "python",
   "nbconvert_exporter": "python",
   "pygments_lexer": "ipython3",
   "version": "3.10.0"
  },
  "mimetype": "text/x-python",
  "name": "python",
  "npconvert_exporter": "python",
  "orig_nbformat": 2,
  "pygments_lexer": "ipython3",
  "version": 3
 },
 "nbformat": 4,
 "nbformat_minor": 2
}
