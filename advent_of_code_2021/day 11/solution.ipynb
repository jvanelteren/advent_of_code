{
 "cells": [
  {
   "cell_type": "code",
   "execution_count": 1,
   "metadata": {},
   "outputs": [
    {
     "name": "stdout",
     "output_type": "stream",
     "text": [
      "part 1, 1652 octopuses flashed\n",
      "part 2, synchronous flashing after 220 steps (and 3480 flashes\n"
     ]
    }
   ],
   "source": [
    "from aocutils.grid import arr_to_dict, arr_neighbors\n",
    "\n",
    "lines = open('input.txt').read().splitlines()\n",
    "lines = [list(map(int, list(line))) for line in lines]\n",
    "\n",
    "# finally some library functions came in handy!\n",
    "oct = arr_to_dict(lines)\n",
    "neighbors = arr_neighbors(lines, diag=True)\n",
    "\n",
    "def increase_light(octo):\n",
    "    light_level = oct[octo]\n",
    "    if light_level == 9:\n",
    "        oct_that_flashed_this_step.add(octo)\n",
    "        oct[octo] = 0\n",
    "        for neigh in neighbors[octo]:\n",
    "            increase_light(neigh)\n",
    "    else:\n",
    "        if octo not in oct_that_flashed_this_step:\n",
    "            oct[octo] += 1\n",
    "\n",
    "flashed = 0\n",
    "oct_that_flashed_this_step = set()\n",
    "\n",
    "for step in range(1, 10000000000000):\n",
    "    oct_that_flashed_this_step = set()\n",
    "    for octo, cur_level in oct.items():\n",
    "        increase_light(octo)\n",
    "    flashed += len(oct_that_flashed_this_step)\n",
    "    if step == 100:\n",
    "        print(f'part 1, {flashed} octopuses flashed')\n",
    "    if all(v==0 for v in oct.values()):\n",
    "        print(f'part 2, synchronous flashing after {step} steps (and {flashed} flashes')\n",
    "        break"
   ]
  },
  {
   "cell_type": "code",
   "execution_count": 2,
   "metadata": {},
   "outputs": [
    {
     "name": "stdout",
     "output_type": "stream",
     "text": [
      "part 1, 1652 octopuses flashed\n",
      "part 2, synchronous flashing after 220 steps (and 3480 flashes\n"
     ]
    }
   ],
   "source": [
    "# alternative with list of lists instead of dicts. feels clunckier though. I do like my own iterate\n",
    "# also there are basically two ways: make the recursion function 'increase_light', or make it 'flash'\n",
    "from aocutils.grid import arr_neighbors, iterate\n",
    "\n",
    "lines = open('input.txt').read().splitlines()\n",
    "oct = [list(map(int, list(line))) for line in lines]\n",
    "\n",
    "# finally some library functions came in handy!\n",
    "neighbors = arr_neighbors(oct, diag=True)\n",
    "\n",
    "def flash(r,c):\n",
    "    # used globals because why not\n",
    "    global flashed\n",
    "    flashed += 1\n",
    "    oct[r][c] = 0\n",
    "    for rr,cc in neighbors[(r,c)]:\n",
    "        val = oct[rr][cc]\n",
    "        if val != 0 and val != 10:\n",
    "            oct[rr][cc] = val + 1\n",
    "        if val == 9:\n",
    "            flash(rr,cc)\n",
    "\n",
    "flashed = 0\n",
    "\n",
    "for step in range(1, 10000000000000):\n",
    "    for r,c, val in iterate(oct):\n",
    "        oct[r][c] += 1\n",
    "    for r,c, val in iterate(oct):\n",
    "        if val == 10:\n",
    "            flash(r,c)\n",
    "       \n",
    "    if step == 100:\n",
    "        print(f'part 1, {flashed} octopuses flashed')\n",
    "\n",
    "    if all(val==0 for i,j,val in iterate(oct)):\n",
    "        print(f'part 2, synchronous flashing after {step} steps (and {flashed} flashes')\n",
    "        break"
   ]
  },
  {
   "cell_type": "code",
   "execution_count": null,
   "metadata": {},
   "outputs": [],
   "source": []
  }
 ],
 "metadata": {
  "file_extension": ".py",
  "kernelspec": {
   "display_name": "Python 3",
   "name": "python3"
  },
  "language_info": {
   "codemirror_mode": {
    "name": "ipython",
    "version": 3
   },
   "file_extension": ".py",
   "mimetype": "text/x-python",
   "name": "python",
   "nbconvert_exporter": "python",
   "pygments_lexer": "ipython3",
   "version": "3.10.0"
  },
  "mimetype": "text/x-python",
  "name": "python",
  "npconvert_exporter": "python",
  "orig_nbformat": 2,
  "pygments_lexer": "ipython3",
  "version": 3
 },
 "nbformat": 4,
 "nbformat_minor": 2
}
