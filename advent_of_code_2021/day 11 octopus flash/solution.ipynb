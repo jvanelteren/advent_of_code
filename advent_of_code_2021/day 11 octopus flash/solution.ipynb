{
 "cells": [
  {
   "cell_type": "code",
   "execution_count": 15,
   "metadata": {},
   "outputs": [
    {
     "name": "stdout",
     "output_type": "stream",
     "text": [
      "part 1, 1652 octopuses flashed\n",
      "part 2, synchronous flashing after 220 steps (and 3480 flashes\n"
     ]
    }
   ],
   "source": [
    "from aocutils.grid import arr_to_dict, arr_neighbors\n",
    "\n",
    "lines = open('input.txt').read().splitlines()\n",
    "lines = [list(map(int, list(line))) for line in lines]\n",
    "\n",
    "# finally some library functions came in handy!\n",
    "oct = arr_to_dict(lines)\n",
    "neighbors = arr_neighbors(lines, diag=True)\n",
    "\n",
    "flashed = 0\n",
    "for step in range(1, 10000000000000):\n",
    "    for octo in oct:\n",
    "        oct[octo] += 1\n",
    "    \n",
    "    flashing = {octo for octo in oct if oct[octo] > 9}\n",
    "    while flashing:\n",
    "        f = flashing.pop()\n",
    "        flashed += 1\n",
    "        oct[f] = 0\n",
    "        for neigh in neighbors[f]:\n",
    "            if oct[neigh] != 0:\n",
    "                oct[neigh] += 1\n",
    "                if oct[neigh]>9:\n",
    "                    flashing.add(neigh)\n",
    "\n",
    "    if step == 100:\n",
    "        print(f'part 1, {flashed} octopuses flashed')\n",
    "    if all(v==0 for v in oct.values()):\n",
    "        print(f'part 2, synchronous flashing after {step} steps (and {flashed} flashes')\n",
    "        break"
   ]
  },
  {
   "cell_type": "code",
   "execution_count": 2,
   "metadata": {},
   "outputs": [
    {
     "name": "stdout",
     "output_type": "stream",
     "text": [
      "part 1, 1652 octopuses flashed\n",
      "part 2, synchronous flashing after 220 steps (and 3480 flashes\n"
     ]
    }
   ],
   "source": [
    "# alternative with list of lists instead of dicts. feels clunckier though. I do like my own iterate\n",
    "# also there are basically two ways: make the recursion function 'increase_light', or make it 'flash'\n",
    "from aocutils.grid import arr_neighbors, iterate\n",
    "\n",
    "lines = open('input.txt').read().splitlines()\n",
    "oct = [list(map(int, list(line))) for line in lines]\n",
    "\n",
    "# finally some library functions came in handy!\n",
    "neighbors = arr_neighbors(oct, diag=True)\n",
    "\n",
    "def flash(r,c):\n",
    "    # used globals because why not\n",
    "    global flashed\n",
    "    flashed += 1\n",
    "    oct[r][c] = 0\n",
    "    for rr,cc in neighbors[(r,c)]:\n",
    "        val = oct[rr][cc]\n",
    "        if val != 0 and val != 10:\n",
    "            oct[rr][cc] = val + 1\n",
    "        if val == 9:\n",
    "            flash(rr,cc)\n",
    "\n",
    "flashed = 0\n",
    "\n",
    "for step in range(1, 10000000000000):\n",
    "    for r,c, val in iterate(oct):\n",
    "        oct[r][c] += 1\n",
    "    for r,c, val in iterate(oct):\n",
    "        if val == 10:\n",
    "            flash(r,c)\n",
    "       \n",
    "    if step == 100:\n",
    "        print(f'part 1, {flashed} octopuses flashed')\n",
    "\n",
    "    if all(val==0 for i,j,val in iterate(oct)):\n",
    "        print(f'part 2, synchronous flashing after {step} steps (and {flashed} flashes')\n",
    "        break"
   ]
  },
  {
   "cell_type": "code",
   "execution_count": 20,
   "metadata": {},
   "outputs": [
    {
     "name": "stdout",
     "output_type": "stream",
     "text": [
      "[[5. 6. 3. 6. 5. 4. 7. 5. 2. 8.]\n",
      " [2. 9. 6. 2. 3. 5. 3. 6. 6. 4.]\n",
      " [6. 5. 3. 2. 5. 4. 6. 6. 3. 2.]\n",
      " [9. 5. 4. 2. 4. 3. 6. 5. 5. 8.]\n",
      " [5. 6. 2. 8. 5. 4. 9. 4. 4. 3.]\n",
      " [4. 6. 3. 2. 3. 7. 3. 2. 2. 2.]\n",
      " [4. 4. 4. 2. 6. 5. 2. 8. 4. 5.]\n",
      " [5. 4. 6. 2. 9. 4. 7. 7. 5. 2.]\n",
      " [3. 8. 6. 4. 9. 9. 2. 5. 5. 3.]\n",
      " [8. 8. 2. 8. 7. 2. 7. 9. 7. 4.]]\n",
      "[[ 7.  8.  5.  7.  6.  5.  8.  6.  3.  9.]\n",
      " [ 4. 10.  8.  3.  4.  6.  4.  7.  7.  5.]\n",
      " [ 9.  8.  5.  3.  6.  5.  7.  7.  4.  3.]\n",
      " [10.  7.  5.  3.  5.  5.  8.  7.  6.  9.]\n",
      " [ 7.  8.  3.  9.  6.  6. 10.  6.  5.  4.]\n",
      " [ 5.  7.  4.  3.  4.  9.  5.  4.  3.  3.]\n",
      " [ 5.  5.  5.  4.  8.  7.  3.  9.  5.  6.]\n",
      " [ 6.  5.  7.  5. 12.  8.  9.  8.  6.  3.]\n",
      " [ 4.  9.  7.  7. 12. 12.  5.  7.  7.  4.]\n",
      " [ 9.  9.  3. 10. 10.  5. 10. 10.  9.  5.]]\n",
      "[[ 7.  8.  5.  7.  6.  5.  8.  6.  3.  9.]\n",
      " [ 4. 10.  8.  3.  4.  6.  4.  7.  7.  5.]\n",
      " [ 9.  8.  5.  3.  6.  5.  7.  7.  4.  3.]\n",
      " [10.  7.  5.  3.  5.  5.  8.  7.  6.  9.]\n",
      " [ 7.  8.  3.  9.  6.  6. 10.  6.  5.  4.]\n",
      " [ 5.  7.  4.  3.  4.  9.  5.  4.  3.  3.]\n",
      " [ 5.  5.  5.  4.  8.  7.  3.  9.  5.  6.]\n",
      " [ 6.  5.  7.  5. 12.  8.  9.  8.  6.  3.]\n",
      " [ 4.  9.  8.  9. 14. 14.  6.  8.  7.  4.]\n",
      " [ 9.  9.  4. 11. 11.  7. 10. 11.  9.  5.]]\n"
     ]
    }
   ],
   "source": [
    "# can always be better, from https://www.reddit.com/user/4HbQ/\n",
    "import numpy as np\n",
    "from scipy.signal import convolve\n",
    "\n",
    "x = np.genfromtxt(open('input.txt'), delimiter=1)\n",
    "fp = [[1,1,1],[1,0,1],[1,1,1]]\n",
    "count = 0\n",
    "\n",
    "for i in range(1, 3):\n",
    "    x += 1\n",
    "    x_ = x\n",
    "    while True:\n",
    "        flash = x > 9\n",
    "        x = x_ + convolve(flash, fp, mode='same')\n",
    "        print(x)\n",
    "        if (flash == (x > 9)).all():  # no change\n",
    "            count += flash.sum()\n",
    "            x[flash] = 0\n",
    "            break\n",
    "\n",
    "    if i == 100:\n",
    "        print(count)\n",
    "    if flash.all():\n",
    "        print(i); break"
   ]
  },
  {
   "cell_type": "code",
   "execution_count": 5,
   "metadata": {},
   "outputs": [
    {
     "name": "stdout",
     "output_type": "stream",
     "text": [
      "1652\n",
      "220\n"
     ]
    }
   ],
   "source": [
    "e = {(x,y):int(e) for x,l in enumerate(open('input.txt'))\n",
    "                  for y,e in enumerate(l.strip())}\n",
    "\n",
    "def neighbours(x,y): return [i for i in [(x+1,y+1),(x+1,y),(x+1,y-1),(x,y+1),\n",
    "             (x-1,y-1),(x-1,y),(x-1,y+1),(x,y-1)] if i in e and e[i]!=0]\n",
    "\n",
    "count = 0\n",
    "for step in range(1, 1000):\n",
    "    for i in e: e[i] += 1\n",
    "    flashing = {i for i in e if e[i] > 9}\n",
    "\n",
    "    while flashing:\n",
    "        f = flashing.pop()\n",
    "        e[f] = 0\n",
    "        count += 1\n",
    "        for n in neighbours(*f):\n",
    "            e[n] += 1\n",
    "            if e[n] > 9: flashing.add(n)\n",
    "\n",
    "    if step == 100: print(count)\n",
    "    if sum(e.values()) == 0: print(step); break"
   ]
  },
  {
   "cell_type": "code",
   "execution_count": 36,
   "metadata": {},
   "outputs": [
    {
     "data": {
      "text/plain": [
       "array([[ True,  True, False, False, False],\n",
       "       [False, False, False, False, False],\n",
       "       [False, False, False, False, False],\n",
       "       [False, False, False, False, False],\n",
       "       [False, False, False, False, False]])"
      ]
     },
     "execution_count": 36,
     "metadata": {},
     "output_type": "execute_result"
    }
   ],
   "source": [
    "x = np.arange(25).reshape(5,5)\n",
    "fp = [[1,1,1],[1,1,1],[1,1,1]]\n",
    "poi = (x == 0) ^ (x == 1)\n",
    "poi"
   ]
  },
  {
   "cell_type": "code",
   "execution_count": 37,
   "metadata": {},
   "outputs": [
    {
     "data": {
      "text/plain": [
       "array([[2, 2, 1, 0, 0],\n",
       "       [2, 2, 1, 0, 0],\n",
       "       [0, 0, 0, 0, 0],\n",
       "       [0, 0, 0, 0, 0],\n",
       "       [0, 0, 0, 0, 0]])"
      ]
     },
     "execution_count": 37,
     "metadata": {},
     "output_type": "execute_result"
    }
   ],
   "source": [
    "convolve(poi,fp, 'same')"
   ]
  },
  {
   "cell_type": "code",
   "execution_count": 17,
   "metadata": {},
   "outputs": [],
   "source": [
    "x[0,0]=0"
   ]
  },
  {
   "cell_type": "code",
   "execution_count": 18,
   "metadata": {},
   "outputs": [
    {
     "data": {
      "text/plain": [
       "False"
      ]
     },
     "execution_count": 18,
     "metadata": {},
     "output_type": "execute_result"
    }
   ],
   "source": [
    "x.all()"
   ]
  }
 ],
 "metadata": {
  "file_extension": ".py",
  "kernelspec": {
   "display_name": "Python 3",
   "name": "python3"
  },
  "language_info": {
   "codemirror_mode": {
    "name": "ipython",
    "version": 3
   },
   "file_extension": ".py",
   "mimetype": "text/x-python",
   "name": "python",
   "nbconvert_exporter": "python",
   "pygments_lexer": "ipython3",
   "version": "3.10.0"
  },
  "mimetype": "text/x-python",
  "name": "python",
  "npconvert_exporter": "python",
  "orig_nbformat": 2,
  "pygments_lexer": "ipython3",
  "version": 3
 },
 "nbformat": 4,
 "nbformat_minor": 2
}
