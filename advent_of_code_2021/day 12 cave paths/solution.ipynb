{
 "cells": [
  {
   "cell_type": "code",
   "execution_count": 1,
   "metadata": {},
   "outputs": [
    {
     "data": {
      "text/plain": [
       "5457"
      ]
     },
     "execution_count": 1,
     "metadata": {},
     "output_type": "execute_result"
    }
   ],
   "source": [
    "from collections import defaultdict\n",
    "lines = open('input.txt').read().splitlines()\n",
    "\n",
    "edges = defaultdict(set)\n",
    "visited = {}\n",
    "\n",
    "for line in lines:\n",
    "    start, end = line.split('-')\n",
    "    edges[start].add(end)\n",
    "    edges[end].add(start)\n",
    "    visited[start] = False\n",
    "    visited[end] = False\n",
    "\n",
    "def backtrack(node, twice=False):\n",
    "    global ans, visittwice, p2\n",
    "    if node == 'end':\n",
    "        ans +=1\n",
    "        return\n",
    "    \n",
    "    visited[node] = True\n",
    "    for n in edges[node]:\n",
    "        if n == 'start':\n",
    "            continue\n",
    "        if n.isupper() or n == 'end':\n",
    "            backtrack(n)\n",
    "        else:\n",
    "            if not visited[n]:\n",
    "                backtrack(n)\n",
    "            else:\n",
    "                if p2 and not visittwice:\n",
    "                    visittwice=True\n",
    "                    backtrack(n, twice=True)\n",
    "                    visittwice = False\n",
    "\n",
    "    if not twice: # when this is second time entering, you've still visited\n",
    "        visited[node] = False\n",
    "\n",
    "ans = 0\n",
    "p2 = False\n",
    "backtrack('start')\n",
    "ans"
   ]
  },
  {
   "cell_type": "code",
   "execution_count": 3,
   "metadata": {},
   "outputs": [
    {
     "data": {
      "text/plain": [
       "128506"
      ]
     },
     "execution_count": 3,
     "metadata": {},
     "output_type": "execute_result"
    }
   ],
   "source": [
    "# reset some variables for p2\n",
    "for k in visited:\n",
    "    visited[k] = False\n",
    "p2 = True\n",
    "visittwice = False\n",
    "ans = 0\n",
    "backtrack('start')\n",
    "ans"
   ]
  }
 ],
 "metadata": {
  "file_extension": ".py",
  "kernelspec": {
   "display_name": "Python 3.11.0 ('.aocenvpy311': venv)",
   "language": "python",
   "name": "python3"
  },
  "language_info": {
   "codemirror_mode": {
    "name": "ipython",
    "version": 3
   },
   "file_extension": ".py",
   "mimetype": "text/x-python",
   "name": "python",
   "nbconvert_exporter": "python",
   "pygments_lexer": "ipython3",
   "version": "3.11.0"
  },
  "mimetype": "text/x-python",
  "name": "python",
  "npconvert_exporter": "python",
  "orig_nbformat": 2,
  "pygments_lexer": "ipython3",
  "version": 3,
  "vscode": {
   "interpreter": {
    "hash": "7b5336723abeab741c71fcc933eb6e6f53a288e70399d841fc0756db1169ea34"
   }
  }
 },
 "nbformat": 4,
 "nbformat_minor": 2
}
