{
 "cells": [
  {
   "cell_type": "code",
   "execution_count": 2,
   "metadata": {},
   "outputs": [
    {
     "data": {
      "text/plain": [
       "3459174981021"
      ]
     },
     "execution_count": 2,
     "metadata": {},
     "output_type": "execute_result"
    }
   ],
   "source": [
    "from collections import defaultdict\n",
    "\n",
    "start, ins = open('input.txt', 'r').read().split('\\n\\n')\n",
    "trans = [line.split(' -> ')for line in ins.splitlines()]\n",
    "trans = {tuple(ch1): ch2 for ch1, ch2 in trans}\n",
    "\n",
    "pairs = defaultdict(int) \n",
    "for i in zip(start, start[1:]):\n",
    "    pairs[i] += 1\n",
    "\n",
    "for i in range(40):\n",
    "    npairs = defaultdict(int)\n",
    "    for k,v in pairs.items():\n",
    "        if k in trans:\n",
    "            npairs[(k[0],trans[k])] += v\n",
    "            npairs[(trans[k], k[1])] += v\n",
    "        else:\n",
    "            npairs[k] += v\n",
    "    pairs = npairs\n",
    "\n",
    "# now we have the pair amounts but need to calculate back to characters\n",
    "counts = defaultdict(int)\n",
    "for k,v in pairs.items():\n",
    "    counts[k[1]] += v # trick from reddit: only take the end character of pair\n",
    "counts[start[0]] += 1 # add the starting character\n",
    "minn = min(v for v in counts.values())\n",
    "maxx = max(v for v in counts.values())\n",
    "maxx - minn\n"
   ]
  },
  {
   "cell_type": "code",
   "execution_count": null,
   "metadata": {},
   "outputs": [],
   "source": []
  }
 ],
 "metadata": {
  "file_extension": ".py",
  "kernelspec": {
   "display_name": "Python 3",
   "name": "python3"
  },
  "language_info": {
   "codemirror_mode": {
    "name": "ipython",
    "version": 3
   },
   "file_extension": ".py",
   "mimetype": "text/x-python",
   "name": "python",
   "nbconvert_exporter": "python",
   "pygments_lexer": "ipython3",
   "version": "3.10.0"
  },
  "mimetype": "text/x-python",
  "name": "python",
  "npconvert_exporter": "python",
  "orig_nbformat": 2,
  "pygments_lexer": "ipython3",
  "version": 3
 },
 "nbformat": 4,
 "nbformat_minor": 2
}
