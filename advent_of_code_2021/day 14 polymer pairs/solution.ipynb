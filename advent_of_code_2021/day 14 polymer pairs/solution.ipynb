{
 "cells": [
  {
   "cell_type": "code",
   "execution_count": 1,
   "metadata": {},
   "outputs": [
    {
     "data": {
      "text/plain": [
       "3459174981021"
      ]
     },
     "execution_count": 1,
     "metadata": {},
     "output_type": "execute_result"
    }
   ],
   "source": [
    "# when changing dict while iterating over it you can do\n",
    "# for i in original_dict.copy() and proceed to modify the original dict!\n",
    "\n",
    "from collections import defaultdict\n",
    "\n",
    "start, _, *ins = open('input.txt', 'r').read().split('\\n')\n",
    "rules = [line.split(' -> ')for line in ins]\n",
    "rules = {tuple(ch1): ch2 for ch1, ch2 in rules}\n",
    "\n",
    "npairs = defaultdict(int) \n",
    "for i in zip(start, start[1:]):\n",
    "    npairs[i] += 1\n",
    "\n",
    "for i in range(40):\n",
    "    for k,v in npairs.copy().items():\n",
    "        npairs[(k[0],rules[k])] += v\n",
    "        npairs[(rules[k], k[1])] += v\n",
    "        npairs[k] -= v\n",
    "\n",
    "# now we have the pair amounts but need to calculate back to characters\n",
    "counts = defaultdict(int)\n",
    "for k,v in npairs.items():\n",
    "    counts[k[1]] += v # trick from reddit: only take the end character of pair\n",
    "counts[start[0]] += 1 # add the starting character\n",
    "minn = min(v for v in counts.values())\n",
    "maxx = max(v for v in counts.values())\n",
    "maxx - minn\n"
   ]
  },
  {
   "cell_type": "code",
   "execution_count": null,
   "metadata": {},
   "outputs": [],
   "source": []
  }
 ],
 "metadata": {
  "file_extension": ".py",
  "kernelspec": {
   "display_name": "Python 3",
   "name": "python3"
  },
  "language_info": {
   "codemirror_mode": {
    "name": "ipython",
    "version": 3
   },
   "file_extension": ".py",
   "mimetype": "text/x-python",
   "name": "python",
   "nbconvert_exporter": "python",
   "pygments_lexer": "ipython3",
   "version": "3.10.0"
  },
  "mimetype": "text/x-python",
  "name": "python",
  "npconvert_exporter": "python",
  "orig_nbformat": 2,
  "pygments_lexer": "ipython3",
  "version": 3
 },
 "nbformat": 4,
 "nbformat_minor": 2
}
