{
 "cells": [
  {
   "cell_type": "code",
   "execution_count": 9,
   "metadata": {},
   "outputs": [
    {
     "data": {
      "text/plain": [
       "4"
      ]
     },
     "execution_count": 9,
     "metadata": {},
     "output_type": "execute_result"
    }
   ],
   "source": [
    "from collections import defaultdict\n",
    "\n",
    "start, ins = open('input.txt', 'r').read().split('\\n\\n')\n",
    "trans = [line.split(' -> ')for line in ins.splitlines()]\n",
    "trans = {tuple(ch1): ch2 for ch1, ch2 in trans}\n",
    "\n",
    "start = '#' + start + '#' # not having to track start and end makes life so much easier\n",
    "pairs = defaultdict(int) \n",
    "for i in zip(start, start[1:]):\n",
    "    pairs[i] += 1\n",
    "\n",
    "for i in range(40):\n",
    "    npairs = defaultdict(int)\n",
    "    for k,v in pairs.items():\n",
    "        if k in trans:\n",
    "            npairs[(k[0],trans[k])] += v\n",
    "            npairs[(trans[k], k[1])] += v\n",
    "        else:\n",
    "            npairs[k] += v\n",
    "    pairs = npairs\n",
    "\n",
    "# now we have the pair but need to calculate back to characters\n",
    "counts = defaultdict(int)\n",
    "for k,v in pairs.items():\n",
    "    counts[k[0]] += v\n",
    "    counts[k[1]] += v\n",
    "counts.pop('#') # remove the helper at front and back\n",
    "\n",
    "minn = min(v for v in counts.values())\n",
    "maxx = max(v for v in counts.values())\n",
    "maxx//2 - minn//2 # because characters were counted double in two pairs\n"
   ]
  }
 ],
 "metadata": {
  "file_extension": ".py",
  "kernelspec": {
   "display_name": "Python 3",
   "name": "python3"
  },
  "language_info": {
   "codemirror_mode": {
    "name": "ipython",
    "version": 3
   },
   "file_extension": ".py",
   "mimetype": "text/x-python",
   "name": "python",
   "nbconvert_exporter": "python",
   "pygments_lexer": "ipython3",
   "version": "3.10.0"
  },
  "mimetype": "text/x-python",
  "name": "python",
  "npconvert_exporter": "python",
  "orig_nbformat": 2,
  "pygments_lexer": "ipython3",
  "version": 3
 },
 "nbformat": 4,
 "nbformat_minor": 2
}
