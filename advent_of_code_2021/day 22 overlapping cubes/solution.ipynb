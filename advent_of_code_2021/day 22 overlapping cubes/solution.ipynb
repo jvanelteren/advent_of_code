{
 "cells": [
  {
   "cell_type": "code",
   "execution_count": 5,
   "metadata": {},
   "outputs": [
    {
     "data": {
      "text/plain": [
       "580098"
      ]
     },
     "execution_count": 5,
     "metadata": {},
     "output_type": "execute_result"
    }
   ],
   "source": [
    "import re\n",
    "\n",
    "lines = open('input.txt').read().splitlines()\n",
    "on = set()\n",
    "for line in lines:\n",
    "    onoff, num = line.split()\n",
    "    num = [int(i) for i in re.findall(r'-?\\d+', num)]\n",
    "    if min(num) > -50 and max(num) < 50:\n",
    "        for x in range(num[0], num[1]+1):\n",
    "            for y in range(num[2], num[3]+1):\n",
    "                for z in range(num[4], num[5]+1):\n",
    "                    if onoff == 'on':\n",
    "                        on.add((x,y,z))\n",
    "                    else:\n",
    "                        on.discard((x,y,z))\n",
    "len(on)"
   ]
  },
  {
   "cell_type": "code",
   "execution_count": 6,
   "metadata": {},
   "outputs": [
    {
     "data": {
      "text/plain": [
       "1134725012490723"
      ]
     },
     "execution_count": 6,
     "metadata": {},
     "output_type": "execute_result"
    }
   ],
   "source": [
    "#part 2\n",
    "lines = open('input.txt').read().splitlines()\n",
    "ins = []\n",
    "for line in lines:\n",
    "    onoff, num = line.split()\n",
    "    x1,x2,y1,y2,z1,z2 = [int(i) for i in re.findall(r'-?\\d+', num)]\n",
    "    for onoff2, x12,x22,y12,y22,z12,z22 in ins[:]:\n",
    "        minx = max(x1, x12)\n",
    "        maxx = min(x2, x22)\n",
    "        if minx <= maxx:\n",
    "            miny = max(y1, y12)\n",
    "            maxy = min(y2, y22)\n",
    "            if miny <= maxy:\n",
    "                minz = max(z1, z12)\n",
    "                maxz = min(z2, z22)\n",
    "                if minz <= maxz:\n",
    "                    onoff3 = 'on' if onoff2 == 'off' else 'off'\n",
    "                    ins.append((onoff3, minx, maxx, miny, maxy, minz, maxz))\n",
    "    if onoff == 'on':\n",
    "        ins.append((onoff, x1,x2,y1,y2,z1,z2))\n",
    "        \n",
    "ans = 0\n",
    "for onoff, x1,x2,y1,y2,z1,z2 in ins:\n",
    "    total = (x2-x1+1) * (y2-y1+1) * (z2-z1+1)\n",
    "    if onoff == 'on':\n",
    "        ans += total\n",
    "    else:\n",
    "        ans -= total\n",
    "ans"
   ]
  },
  {
   "cell_type": "code",
   "execution_count": null,
   "metadata": {},
   "outputs": [],
   "source": []
  }
 ],
 "metadata": {
  "file_extension": ".py",
  "kernelspec": {
   "display_name": "Python 3",
   "name": "python3"
  },
  "language_info": {
   "codemirror_mode": {
    "name": "ipython",
    "version": 3
   },
   "file_extension": ".py",
   "mimetype": "text/x-python",
   "name": "python",
   "nbconvert_exporter": "python",
   "pygments_lexer": "ipython3",
   "version": "3.10.0"
  },
  "mimetype": "text/x-python",
  "name": "python",
  "npconvert_exporter": "python",
  "orig_nbformat": 2,
  "pygments_lexer": "ipython3",
  "version": 3
 },
 "nbformat": 4,
 "nbformat_minor": 2
}
