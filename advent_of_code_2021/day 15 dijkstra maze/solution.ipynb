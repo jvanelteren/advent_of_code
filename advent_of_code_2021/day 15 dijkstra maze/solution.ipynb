{
 "cells": [
  {
   "cell_type": "code",
   "execution_count": 1,
   "metadata": {},
   "outputs": [
    {
     "data": {
      "text/plain": [
       "2874.0"
      ]
     },
     "execution_count": 1,
     "metadata": {},
     "output_type": "execute_result"
    }
   ],
   "source": [
    "from aocutils.maze import dijkstra\n",
    "from aocutils.grid import arr_neighbors\n",
    "import numpy as np\n",
    "\n",
    "def inc(grid,i):\n",
    "    g = grid.copy()\n",
    "    for j in range(i):\n",
    "        g += 1\n",
    "        g[g>9] = 1\n",
    "    return g\n",
    "\n",
    "# generating the grid\n",
    "grid = np.genfromtxt('input.txt', delimiter=1)\n",
    "hor = np.hstack([inc(grid,i) for i in range(5)])\n",
    "grid = np.vstack([inc(hor,i) for i in range(5)])\n",
    "\n",
    "# making a dict of points with their neighbors and corresponding weights\n",
    "neigh = arr_neighbors(grid)\n",
    "neigh = {pnt: [(n,grid[n]) for n in neighborset] for pnt, neighborset in neigh.items()}\n",
    "\n",
    "# dijkstra\n",
    "dest = len(grid) -1, len(grid[0]) -1\n",
    "path, length = dijkstra(neigh, (0,0), dest)\n",
    "length"
   ]
  },
  {
   "cell_type": "code",
   "execution_count": null,
   "metadata": {},
   "outputs": [],
   "source": []
  }
 ],
 "metadata": {
  "file_extension": ".py",
  "kernelspec": {
   "display_name": "Python 3",
   "name": "python3"
  },
  "language_info": {
   "codemirror_mode": {
    "name": "ipython",
    "version": 3
   },
   "file_extension": ".py",
   "mimetype": "text/x-python",
   "name": "python",
   "nbconvert_exporter": "python",
   "pygments_lexer": "ipython3",
   "version": "3.10.0"
  },
  "mimetype": "text/x-python",
  "name": "python",
  "npconvert_exporter": "python",
  "orig_nbformat": 2,
  "pygments_lexer": "ipython3",
  "version": 3
 },
 "nbformat": 4,
 "nbformat_minor": 2
}
