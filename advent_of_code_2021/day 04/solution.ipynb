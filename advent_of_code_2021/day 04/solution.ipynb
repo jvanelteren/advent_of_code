{
 "cells": [
  {
   "cell_type": "code",
   "execution_count": 108,
   "metadata": {},
   "outputs": [
    {
     "data": {
      "text/plain": [
       "[[37, 72, 60, 35, 89],\n",
       " [32, 49, 4, 77, 82],\n",
       " [30, 26, 27, 63, 88],\n",
       " [29, 43, 16, 34, 58],\n",
       " [48, 33, 96, 79, 94]]"
      ]
     },
     "execution_count": 108,
     "metadata": {},
     "output_type": "execute_result"
    }
   ],
   "source": [
    "draw = [46,12,57,37,14,78,31,71,87,52,64,97,10,35,54,36,27,84,80,94,99,22,0,11,30,44,86,59,66,7,90,21,51,53,92,8,76,41,39,77,42,88,29,24,60,17,68,13,79,67,50,82,25,61,20,16,6,3,81,19,85,9,28,56,75,96,2,26,1,62,33,63,32,73,18,48,43,65,98,5,91,69,47,4,38,23,49,34,55,83,93,45,72,95,40,15,58,74,70,89]\n",
    "\n",
    "rawboards = open('input.txt').read().split('\\n\\n')\n",
    "boards = []\n",
    "for board in rawboards:\n",
    "    boards.append([list(map(int, line.split())) for line in board.split('\\n')])\n",
    "boards[0]"
   ]
  },
  {
   "cell_type": "code",
   "execution_count": 109,
   "metadata": {},
   "outputs": [
    {
     "name": "stdout",
     "output_type": "stream",
     "text": [
      "74320\n",
      "17884\n"
     ]
    }
   ],
   "source": [
    "def getwins(board):\n",
    "    rows = [set(row) for row in board]\n",
    "    cols = [set(row[i] for row in board) for i in range(5)]\n",
    "    return rows + cols\n",
    "\n",
    "winoptions = {idx: getwins(board) for idx, board in enumerate(boards)}\n",
    "\n",
    "won = [False for i in range(len(winoptions))]\n",
    "found = 0\n",
    "for d in draw:\n",
    "    for k,v in winoptions.items():\n",
    "        if not won[k]:\n",
    "            for option in v:\n",
    "                option.discard(d)\n",
    "                if not option:\n",
    "                    found += 1\n",
    "                    nums = set.union(*v)\n",
    "                    nums.discard(d)\n",
    "                    if found == 1 or found == len(boards):\n",
    "                        print(sum(nums)*d)\n",
    "                    won[k] = True\n",
    "                    break"
   ]
  }
 ],
 "metadata": {
  "file_extension": ".py",
  "kernelspec": {
   "display_name": "Python 3",
   "name": "python3"
  },
  "language_info": {
   "codemirror_mode": {
    "name": "ipython",
    "version": 3
   },
   "file_extension": ".py",
   "mimetype": "text/x-python",
   "name": "python",
   "nbconvert_exporter": "python",
   "pygments_lexer": "ipython3",
   "version": "3.10.0"
  },
  "mimetype": "text/x-python",
  "name": "python",
  "npconvert_exporter": "python",
  "orig_nbformat": 2,
  "pygments_lexer": "ipython3",
  "version": 3
 },
 "nbformat": 4,
 "nbformat_minor": 2
}
