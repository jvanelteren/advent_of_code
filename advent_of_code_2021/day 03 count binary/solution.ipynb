{
 "cells": [
  {
   "cell_type": "code",
   "execution_count": 101,
   "metadata": {},
   "outputs": [
    {
     "data": {
      "text/plain": [
       "2954600"
      ]
     },
     "execution_count": 101,
     "metadata": {},
     "output_type": "execute_result"
    }
   ],
   "source": [
    "nums = open('input.txt').read().splitlines()# print amount of rows and first 100 character of first num\n",
    "n = len(nums[0])\n",
    "gamma, eps = '', ''\n",
    "for i in range(n):\n",
    "    new = [num[i] for num in nums]\n",
    "    ones = new.count('1')\n",
    "    zero = new.count('0')\n",
    "    if ones > zero:\n",
    "        gamma += '1'\n",
    "        eps += '0'\n",
    "    else:\n",
    "        gamma += '0'\n",
    "        eps += '1'\n",
    "gamma = int(gamma,2)\n",
    "eps = int(eps,2)\n",
    "gamma * eps"
   ]
  },
  {
   "cell_type": "code",
   "execution_count": 102,
   "metadata": {},
   "outputs": [
    {
     "data": {
      "text/plain": [
       "1662846"
      ]
     },
     "execution_count": 102,
     "metadata": {},
     "output_type": "execute_result"
    }
   ],
   "source": [
    "def bitfilter(nums, mostcommon):\n",
    "    for i in range(20):\n",
    "        if len(nums) == 1:\n",
    "            return nums[0]\n",
    "        zero = []\n",
    "        ones = []\n",
    "        for num in nums:\n",
    "            if num[i] == '0':\n",
    "                zero.append(num)\n",
    "            else:\n",
    "                ones.append(num)\n",
    "        if len(ones) >= len(zero):\n",
    "            nums = ones if mostcommon else zero\n",
    "        else:\n",
    "            nums = zero if mostcommon else ones\n",
    "nums = open('input.txt').read().splitlines()\n",
    "oxy = bitfilter(nums, True)\n",
    "c02 = bitfilter(nums, False)\n",
    "int(oxy,2) * int(co2,2)"
   ]
  },
  {
   "cell_type": "code",
   "execution_count": 16,
   "metadata": {},
   "outputs": [
    {
     "name": "stdout",
     "output_type": "stream",
     "text": [
      "Part 1 answer: 198\n"
     ]
    }
   ],
   "source": [
    "# try with numpy, taken from https://github.com/harry-gibson/advent-of-code-2021/blob/main/day_03/day_03.py\n",
    "import numpy as np\n",
    "# delimiter can be a string, but with int it specifies the width\n",
    "data = np.genfromtxt('test0.txt', delimiter=1)\n",
    "# axis = 0: along the rows, meaning for each column a mean is computed\n",
    "means = data.mean(axis=0)\n",
    "gamma_binary = means >= 0.5\n",
    "eps_binary = means < 0.5\n",
    "powers = 2 ** np.arange(data.shape[-1])[::-1]\n",
    "part1 = (gamma_binary.dot(powers)) * (eps_binary.dot(powers))\n",
    "print(f\"Part 1 answer: {part1}\")"
   ]
  },
  {
   "cell_type": "code",
   "execution_count": 1,
   "metadata": {},
   "outputs": [],
   "source": [
    "from aocutils import aoc"
   ]
  },
  {
   "cell_type": "code",
   "execution_count": null,
   "metadata": {},
   "outputs": [],
   "source": [
    "aoc.le"
   ]
  }
 ],
 "metadata": {
  "file_extension": ".py",
  "kernelspec": {
   "display_name": "Python 3",
   "name": "python3"
  },
  "language_info": {
   "codemirror_mode": {
    "name": "ipython",
    "version": 3
   },
   "file_extension": ".py",
   "mimetype": "text/x-python",
   "name": "python",
   "nbconvert_exporter": "python",
   "pygments_lexer": "ipython3",
   "version": "3.10.0"
  },
  "mimetype": "text/x-python",
  "name": "python",
  "npconvert_exporter": "python",
  "orig_nbformat": 2,
  "pygments_lexer": "ipython3",
  "version": 3
 },
 "nbformat": 4,
 "nbformat_minor": 2
}
