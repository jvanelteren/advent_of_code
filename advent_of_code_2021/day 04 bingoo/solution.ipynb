{
 "cells": [
  {
   "cell_type": "code",
   "execution_count": 122,
   "metadata": {},
   "outputs": [
    {
     "data": {
      "text/plain": [
       "[[37, 72, 60, 35, 89],\n",
       " [32, 49, 4, 77, 82],\n",
       " [30, 26, 27, 63, 88],\n",
       " [29, 43, 16, 34, 58],\n",
       " [48, 33, 96, 79, 94]]"
      ]
     },
     "execution_count": 122,
     "metadata": {},
     "output_type": "execute_result"
    }
   ],
   "source": [
    "draw, *rawboards = open('input.txt').read().split('\\n\\n')\n",
    "\n",
    "draw = [int(d) for d in draw.split(',')]\n",
    "\n",
    "boards = []\n",
    "for board in rawboards:\n",
    "    boards.append([[int(num) for num in line.split()] for line in board.split('\\n')])\n",
    "boards[0]"
   ]
  },
  {
   "cell_type": "code",
   "execution_count": 124,
   "metadata": {},
   "outputs": [
    {
     "name": "stdout",
     "output_type": "stream",
     "text": [
      "74320\n",
      "17884\n"
     ]
    }
   ],
   "source": [
    "def getwinoptions(board):\n",
    "    rows = [set(row) for row in board]\n",
    "    cols = [set(row[i] for row in board) for i in range(5)]\n",
    "    return rows + cols\n",
    "\n",
    "# i just like dictionaries :)\n",
    "winoptions = {idx: getwinoptions(board) for idx, board in enumerate(boards)}\n",
    "\n",
    "won = [False for i in range(len(winoptions))]\n",
    "found = 0\n",
    "for d in draw:\n",
    "    for k,v in winoptions.items():\n",
    "        if not won[k]:\n",
    "            for option in v:\n",
    "                option.discard(d)\n",
    "                if not option:\n",
    "                    found += 1\n",
    "                    nums = set.union(*v)\n",
    "                    nums.discard(d)\n",
    "                    if found == 1 or found == len(boards):\n",
    "                        print(sum(nums)*d)\n",
    "                    won[k] = True\n",
    "                    break"
   ]
  },
  {
   "cell_type": "code",
   "execution_count": null,
   "metadata": {},
   "outputs": [],
   "source": []
  }
 ],
 "metadata": {
  "file_extension": ".py",
  "kernelspec": {
   "display_name": "Python 3",
   "name": "python3"
  },
  "language_info": {
   "codemirror_mode": {
    "name": "ipython",
    "version": 3
   },
   "file_extension": ".py",
   "mimetype": "text/x-python",
   "name": "python",
   "nbconvert_exporter": "python",
   "pygments_lexer": "ipython3",
   "version": "3.10.0"
  },
  "mimetype": "text/x-python",
  "name": "python",
  "npconvert_exporter": "python",
  "orig_nbformat": 2,
  "pygments_lexer": "ipython3",
  "version": 3
 },
 "nbformat": 4,
 "nbformat_minor": 2
}
