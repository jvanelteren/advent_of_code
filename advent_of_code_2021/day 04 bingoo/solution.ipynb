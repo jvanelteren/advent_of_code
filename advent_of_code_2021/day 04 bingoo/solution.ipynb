{
 "cells": [
  {
   "cell_type": "code",
   "execution_count": 122,
   "metadata": {},
   "outputs": [
    {
     "data": {
      "text/plain": [
       "[[37, 72, 60, 35, 89],\n",
       " [32, 49, 4, 77, 82],\n",
       " [30, 26, 27, 63, 88],\n",
       " [29, 43, 16, 34, 58],\n",
       " [48, 33, 96, 79, 94]]"
      ]
     },
     "execution_count": 122,
     "metadata": {},
     "output_type": "execute_result"
    }
   ],
   "source": [
    "# tuple unpacking the input with * was nice\n",
    "# set.union(*sets) worked nicely\n",
    "\n",
    "draw, *rawboards = open('input.txt').read().split('\\n\\n')\n",
    "\n",
    "draw = [int(d) for d in draw.split(',')]\n",
    "\n",
    "boards = []\n",
    "for board in rawboards:\n",
    "    boards.append([[int(num) for num in line.split()] for line in board.split('\\n')])\n",
    "boards[0]"
   ]
  },
  {
   "cell_type": "code",
   "execution_count": 124,
   "metadata": {},
   "outputs": [
    {
     "name": "stdout",
     "output_type": "stream",
     "text": [
      "74320\n",
      "17884\n"
     ]
    }
   ],
   "source": [
    "def getwinoptions(board):\n",
    "    rows = [set(row) for row in board]\n",
    "    cols = [set(row[i] for row in board) for i in range(5)]\n",
    "    return rows + cols\n",
    "\n",
    "# i just like dictionaries :)\n",
    "winoptions = {idx: getwinoptions(board) for idx, board in enumerate(boards)}\n",
    "\n",
    "won = [False for i in range(len(winoptions))]\n",
    "found = 0\n",
    "for d in draw:\n",
    "    for k,v in winoptions.items():\n",
    "        if not won[k]:\n",
    "            for option in v:\n",
    "                option.discard(d)\n",
    "                if not option:\n",
    "                    found += 1\n",
    "                    nums = set.union(*v)\n",
    "                    nums.discard(d)\n",
    "                    if found == 1 or found == len(boards):\n",
    "                        print(sum(nums)*d)\n",
    "                    won[k] = True\n",
    "                    break"
   ]
  },
  {
   "cell_type": "code",
   "execution_count": 1,
   "metadata": {},
   "outputs": [
    {
     "name": "stdout",
     "output_type": "stream",
     "text": [
      "74320\n",
      "82863\n",
      "7315\n",
      "5747\n",
      "91080\n",
      "4800\n",
      "121440\n",
      "63744\n",
      "29716\n",
      "109412\n",
      "6981\n",
      "29467\n",
      "150080\n",
      "37800\n",
      "123164\n",
      "13925\n",
      "28487\n",
      "7200\n",
      "18880\n",
      "14508\n",
      "10281\n",
      "133974\n",
      "18259\n",
      "188700\n",
      "15246\n",
      "14840\n",
      "105728\n",
      "39525\n",
      "212352\n",
      "3198\n",
      "15314\n",
      "982\n",
      "62186\n",
      "17589\n",
      "129465\n",
      "24000\n",
      "52049\n",
      "29484\n",
      "36336\n",
      "18748\n",
      "47432\n",
      "84994\n",
      "27807\n",
      "17884\n"
     ]
    }
   ],
   "source": [
    "import numpy as np\n",
    "n, *b = open('input.txt')                            # read input from stdin\n",
    "b = np.loadtxt(b, int).reshape(-1,5,5)     # load boards into 3D array\n",
    "\n",
    "for n in map(int, n.split(',')):           # loop over drawn numbers\n",
    "    b[b == n] = -1                         # mark current number as -1\n",
    "    m = (b == -1)                          # get all marked numbers\n",
    "    win = (m.all(1) | m.all(2)).any(1)     # check for win condition\n",
    "    if win.any():\n",
    "        print((b * ~m)[win].sum() * n)     # print winning score\n",
    "        b = b[~win]                        # remove winning board"
   ]
  },
  {
   "cell_type": "code",
   "execution_count": null,
   "metadata": {},
   "outputs": [],
   "source": []
  }
 ],
 "metadata": {
  "file_extension": ".py",
  "kernelspec": {
   "display_name": "Python 3",
   "name": "python3"
  },
  "language_info": {
   "codemirror_mode": {
    "name": "ipython",
    "version": 3
   },
   "file_extension": ".py",
   "mimetype": "text/x-python",
   "name": "python",
   "nbconvert_exporter": "python",
   "pygments_lexer": "ipython3",
   "version": "3.10.0"
  },
  "mimetype": "text/x-python",
  "name": "python",
  "npconvert_exporter": "python",
  "orig_nbformat": 2,
  "pygments_lexer": "ipython3",
  "version": 3
 },
 "nbformat": 4,
 "nbformat_minor": 2
}
