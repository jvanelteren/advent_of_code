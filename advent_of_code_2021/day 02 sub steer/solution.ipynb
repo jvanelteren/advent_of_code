{
 "cells": [
  {
   "cell_type": "code",
   "execution_count": 7,
   "metadata": {},
   "outputs": [
    {
     "data": {
      "text/plain": [
       "(2215080, 1864715580)"
      ]
     },
     "execution_count": 7,
     "metadata": {},
     "output_type": "execute_result"
    }
   ],
   "source": [
    "lines = open('input.txt').read().splitlines()\n",
    "depth, hor, aim = 0, 0, 0\n",
    "for line in lines:\n",
    "    ins, num = line.split()\n",
    "    num = int(num)\n",
    "    match ins:\n",
    "        case 'forward':\n",
    "            hor += num\n",
    "            depth += aim * num  \n",
    "        case 'up':\n",
    "            aim -= num\n",
    "        case 'down':\n",
    "            aim += num\n",
    "hor * aim, hor * depth"
   ]
  }
 ],
 "metadata": {
  "file_extension": ".py",
  "kernelspec": {
   "display_name": "Python 3",
   "name": "python3"
  },
  "language_info": {
   "codemirror_mode": {
    "name": "ipython",
    "version": 3
   },
   "file_extension": ".py",
   "mimetype": "text/x-python",
   "name": "python",
   "nbconvert_exporter": "python",
   "pygments_lexer": "ipython3",
   "version": "3.10.0"
  },
  "mimetype": "text/x-python",
  "name": "python",
  "npconvert_exporter": "python",
  "orig_nbformat": 2,
  "pygments_lexer": "ipython3",
  "version": 3
 },
 "nbformat": 4,
 "nbformat_minor": 2
}
