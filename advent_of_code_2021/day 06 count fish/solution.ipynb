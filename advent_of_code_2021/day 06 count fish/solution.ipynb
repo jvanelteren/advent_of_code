{
 "cells": [
  {
   "cell_type": "code",
   "execution_count": 28,
   "metadata": {},
   "outputs": [
    {
     "data": {
      "text/plain": [
       "1705008653296"
      ]
     },
     "execution_count": 28,
     "metadata": {},
     "output_type": "execute_result"
    }
   ],
   "source": [
    "lines = open('input.txt').read().split(',')\n",
    "fish = [int(i) for i in lines]\n",
    "cur = Counter(fish)\n",
    "\n",
    "for i in range(256):\n",
    "    new = defaultdict(int)\n",
    "    for k,v in cur.items():\n",
    "        if k > 0:\n",
    "            new[k-1] += v\n",
    "        else:\n",
    "            new[6] += v\n",
    "            new[8] += v\n",
    "    cur = new\n",
    "sum(cur.values())"
   ]
  }
 ],
 "metadata": {
  "file_extension": ".py",
  "kernelspec": {
   "display_name": "Python 3",
   "name": "python3"
  },
  "language_info": {
   "codemirror_mode": {
    "name": "ipython",
    "version": 3
   },
   "file_extension": ".py",
   "mimetype": "text/x-python",
   "name": "python",
   "nbconvert_exporter": "python",
   "pygments_lexer": "ipython3",
   "version": "3.10.0"
  },
  "mimetype": "text/x-python",
  "name": "python",
  "npconvert_exporter": "python",
  "orig_nbformat": 2,
  "pygments_lexer": "ipython3",
  "version": 3
 },
 "nbformat": 4,
 "nbformat_minor": 2
}
