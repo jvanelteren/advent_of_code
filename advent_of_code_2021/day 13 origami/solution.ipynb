{
 "cells": [
  {
   "cell_type": "code",
   "execution_count": 7,
   "metadata": {},
   "outputs": [],
   "source": [
    "import numpy as np\n",
    "from matplotlib import pyplot as plt"
   ]
  },
  {
   "cell_type": "code",
   "execution_count": 48,
   "metadata": {},
   "outputs": [],
   "source": [
    "def draw(lines):\n",
    "    maxc = max(x for x,y in lines)\n",
    "    maxr = max(y for x,y in lines)\n",
    "    paper = np.zeros((maxr+1, maxc+1))\n",
    "    for line in lines:\n",
    "        c, r = line\n",
    "        paper[r][c] = 1\n",
    "    plt.imshow(paper)\n",
    "    return paper\n",
    "\n",
    "def fold(lines, fold):\n",
    "    axis, border = fold\n",
    "    for i, (c,r) in enumerate(lines):\n",
    "        if axis == 'x':\n",
    "            lines[i] = (border - abs(c-border), r)\n",
    "        else:\n",
    "            lines[i] = (c, border - abs(r-border))\n",
    "    return lines\n",
    "\n"
   ]
  },
  {
   "cell_type": "code",
   "execution_count": 49,
   "metadata": {},
   "outputs": [
    {
     "data": {
      "image/png": "[encoded data removed]",
      "text/plain": [
       "<Figure size 432x288 with 1 Axes>"
      ]
     },
     "metadata": {
      "needs_background": "light"
     },
     "output_type": "display_data"
    }
   ],
   "source": [
    "lines, fold_ins = open('input.txt').read().split('\\n\\n')\n",
    "lines = [list(map(int, line.split(','))) for line in lines.split('\\n')]\n",
    "folds = []\n",
    "for i in fold_ins.split('\\n'):\n",
    "    _, _, fold_ins = i.split()\n",
    "    dim, num = fold_ins.split('=')\n",
    "    num = int(num)\n",
    "    folds.append((dim, num))\n",
    "\n",
    "for f in folds:\n",
    "    lines = fold(lines, f)          \n",
    "\n",
    "paper = draw(lines)"
   ]
  },
  {
   "cell_type": "code",
   "execution_count": 50,
   "metadata": {},
   "outputs": [
    {
     "data": {
      "image/png": "[encoded data removed]",
      "text/plain": [
       "<Figure size 432x288 with 1 Axes>"
      ]
     },
     "metadata": {
      "needs_background": "light"
     },
     "output_type": "display_data"
    }
   ],
   "source": [
    "lines = []\n",
    "for line in open('input.txt', 'r'):\n",
    "    line = line.strip()\n",
    "    if line.startswith('fold'):\n",
    "        fold_ins = line.split()[-1]\n",
    "        dim, num = fold_ins.split('=')\n",
    "        num = int(num)\n",
    "        lines = fold(lines, (dim,num))\n",
    "    else:\n",
    "        if line:\n",
    "            lines.append([int(x) for x in line.strip().split(',')])\n",
    "\n",
    "paper = draw(lines)"
   ]
  }
 ],
 "metadata": {
  "file_extension": ".py",
  "kernelspec": {
   "display_name": "Python 3",
   "name": "python3"
  },
  "language_info": {
   "codemirror_mode": {
    "name": "ipython",
    "version": 3
   },
   "file_extension": ".py",
   "mimetype": "text/x-python",
   "name": "python",
   "nbconvert_exporter": "python",
   "pygments_lexer": "ipython3",
   "version": "3.10.0"
  },
  "mimetype": "text/x-python",
  "name": "python",
  "npconvert_exporter": "python",
  "orig_nbformat": 2,
  "pygments_lexer": "ipython3",
  "version": 3
 },
 "nbformat": 4,
 "nbformat_minor": 2
}
