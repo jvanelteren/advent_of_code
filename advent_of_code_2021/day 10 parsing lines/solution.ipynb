{
 "cells": [
  {
   "cell_type": "code",
   "execution_count": 2,
   "metadata": {},
   "outputs": [
    {
     "data": {
      "text/plain": [
       "(392421, 2769449099)"
      ]
     },
     "execution_count": 2,
     "metadata": {},
     "output_type": "execute_result"
    }
   ],
   "source": [
    "lines = open('input.txt').read().splitlines()\n",
    "\n",
    "match = {')':'(', ']':'[', '}':'{', '>':'<'}\n",
    "score1 = {')':3, ']':57, '}':1197, '>':25137}\n",
    "score2 = {'(':1, '[':2, '{':3, '<':4}\n",
    "\n",
    "ans1 = 0\n",
    "ans2 = []\n",
    "\n",
    "for line in lines:\n",
    "    stack = []\n",
    "    for i in line:\n",
    "        if i in '([{<':\n",
    "            stack.append(i)\n",
    "        elif i in ')]}>':\n",
    "            if match[i] != stack.pop():\n",
    "                # corrupted line\n",
    "                ans1 += score1[i]\n",
    "                break\n",
    "    else:\n",
    "        # incomplete line\n",
    "        sub = 0\n",
    "        while stack:\n",
    "            sub = 5 * sub + score2[stack.pop()]\n",
    "        ans2.append(sub)\n",
    "ans1, sorted(ans2)[len(ans2)//2]"
   ]
  },
  {
   "cell_type": "code",
   "execution_count": null,
   "metadata": {},
   "outputs": [],
   "source": []
  }
 ],
 "metadata": {
  "file_extension": ".py",
  "kernelspec": {
   "display_name": "Python 3",
   "name": "python3"
  },
  "language_info": {
   "codemirror_mode": {
    "name": "ipython",
    "version": 3
   },
   "file_extension": ".py",
   "mimetype": "text/x-python",
   "name": "python",
   "nbconvert_exporter": "python",
   "pygments_lexer": "ipython3",
   "version": "3.10.0"
  },
  "mimetype": "text/x-python",
  "name": "python",
  "npconvert_exporter": "python",
  "orig_nbformat": 2,
  "pygments_lexer": "ipython3",
  "version": 3
 },
 "nbformat": 4,
 "nbformat_minor": 2
}
