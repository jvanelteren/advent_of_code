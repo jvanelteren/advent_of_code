{
 "cells": [
  {
   "cell_type": "code",
   "execution_count": 1,
   "metadata": {},
   "outputs": [],
   "source": [
    "import numpy as np\n",
    "from collections import Counter, defaultdict, namedtuple\n",
    "from math import gcd, ceil\n",
    "import re\n",
    "import networkx as nx\n",
    "from dataclasses import dataclass\n",
    "from matplotlib import pyplot as plt\n",
    "import aoc\n",
    "# plt.imshow(pic)"
   ]
  },
  {
   "cell_type": "code",
   "execution_count": 74,
   "metadata": {},
   "outputs": [
    {
     "data": {
      "text/plain": [
       "'000110010001'"
      ]
     },
     "execution_count": 74,
     "metadata": {},
     "output_type": "execute_result"
    }
   ],
   "source": [
    "lines = open('input.txt').read().splitlines()\n",
    "# print amount of rows and first 100 character of first line\n",
    "lines[0][:100]"
   ]
  },
  {
   "cell_type": "code",
   "execution_count": 68,
   "metadata": {},
   "outputs": [
    {
     "data": {
      "text/plain": [
       "2954600"
      ]
     },
     "execution_count": 68,
     "metadata": {},
     "output_type": "execute_result"
    }
   ],
   "source": [
    "n = len(lines[0])\n",
    "gamma, eps = '', ''\n",
    "for i in range(n):\n",
    "    new = [line[i] for line in lines]\n",
    "    ones = new.count('1')\n",
    "    zero = new.count('0')\n",
    "    if ones > zero:\n",
    "        gamma += '1'\n",
    "        eps += '0'\n",
    "    else:\n",
    "        gamma += '0'\n",
    "        eps += '1'\n",
    "gamma = int(gamma,2)\n",
    "eps = int(eps,2)\n",
    "gamma * eps"
   ]
  },
  {
   "cell_type": "code",
   "execution_count": 62,
   "metadata": {},
   "outputs": [
    {
     "data": {
      "text/plain": [
       "2954600"
      ]
     },
     "execution_count": 62,
     "metadata": {},
     "output_type": "execute_result"
    }
   ],
   "source": []
  },
  {
   "cell_type": "code",
   "execution_count": 86,
   "metadata": {},
   "outputs": [
    {
     "data": {
      "text/plain": [
       "'001000111101'"
      ]
     },
     "execution_count": 86,
     "metadata": {},
     "output_type": "execute_result"
    }
   ],
   "source": [
    "lines = open('input.txt').read().splitlines()\n",
    "n = len(lines[0])\n",
    "indices = set(range(len(lines)))\n",
    "for i in range(n):\n",
    "    if len(lines) == 1:\n",
    "        break\n",
    "    zero = []\n",
    "    ones = []\n",
    "    for line in lines:\n",
    "        if line[i] == '0':\n",
    "            zero.append(line)\n",
    "        else:\n",
    "            ones.append(line)\n",
    "    if len(ones) >= len(zero):\n",
    "        lines = ones\n",
    "    else:\n",
    "        lines = zero\n",
    "    \n",
    "oxy = lines[0]\n",
    "oxy"
   ]
  },
  {
   "cell_type": "code",
   "execution_count": 87,
   "metadata": {},
   "outputs": [
    {
     "data": {
      "text/plain": [
       "'101101010110'"
      ]
     },
     "execution_count": 87,
     "metadata": {},
     "output_type": "execute_result"
    }
   ],
   "source": [
    "lines = open('input.txt').read().splitlines()\n",
    "n = len(lines[0])\n",
    "indices = set(range(len(lines)))\n",
    "for i in range(n):\n",
    "    if len(lines) == 1:\n",
    "        break\n",
    "    zero = []\n",
    "    ones = []\n",
    "    for line in lines:\n",
    "        if line[i] == '0':\n",
    "            zero.append(line)\n",
    "        else:\n",
    "            ones.append(line)\n",
    "    if len(ones) < len(zero):\n",
    "        lines = ones\n",
    "    else:\n",
    "        lines = zero\n",
    "    \n",
    "co2 = lines[0]\n",
    "co2"
   ]
  },
  {
   "cell_type": "code",
   "execution_count": 85,
   "metadata": {},
   "outputs": [
    {
     "data": {
      "text/plain": [
       "[]"
      ]
     },
     "execution_count": 85,
     "metadata": {},
     "output_type": "execute_result"
    }
   ],
   "source": [
    "oxy"
   ]
  },
  {
   "cell_type": "code",
   "execution_count": 88,
   "metadata": {},
   "outputs": [
    {
     "data": {
      "text/plain": [
       "1662846"
      ]
     },
     "execution_count": 88,
     "metadata": {},
     "output_type": "execute_result"
    }
   ],
   "source": [
    "int(oxy,2) * int(co2,2)"
   ]
  },
  {
   "cell_type": "code",
   "execution_count": null,
   "metadata": {},
   "outputs": [],
   "source": []
  }
 ],
 "metadata": {
  "file_extension": ".py",
  "kernelspec": {
   "display_name": "Python 3",
   "name": "python3"
  },
  "language_info": {
   "codemirror_mode": {
    "name": "ipython",
    "version": 3
   },
   "file_extension": ".py",
   "mimetype": "text/x-python",
   "name": "python",
   "nbconvert_exporter": "python",
   "pygments_lexer": "ipython3",
   "version": "3.10.0"
  },
  "mimetype": "text/x-python",
  "name": "python",
  "npconvert_exporter": "python",
  "orig_nbformat": 2,
  "pygments_lexer": "ipython3",
  "version": 3
 },
 "nbformat": 4,
 "nbformat_minor": 2
}
