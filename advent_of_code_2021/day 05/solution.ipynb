{
 "cells": [
  {
   "cell_type": "code",
   "execution_count": 35,
   "metadata": {},
   "outputs": [
    {
     "data": {
      "text/plain": [
       "6311"
      ]
     },
     "execution_count": 35,
     "metadata": {},
     "output_type": "execute_result"
    }
   ],
   "source": [
    "from collections import defaultdict\n",
    "lines = open('input.txt').read().splitlines()\n",
    "dang = defaultdict(int)\n",
    "\n",
    "for line in lines:\n",
    "    one, two = line.split(' -> ')\n",
    "    x1, y1 =  (int(i) for i in one.split(','))\n",
    "    x2, y2 = (int(i) for i in two.split(','))\n",
    "    if x1 > x2:\n",
    "        # make sure 1 is always the smallest\n",
    "        x2, y2, x1, y1 = x1, y1, x2, y2\n",
    "    if x1 == x2:\n",
    "        for i in range(min(y1,y2), max(y1, y2) +1):\n",
    "            dang[x1, i] += 1\n",
    "    if y1 == y2:\n",
    "        for i in range(x1,x2+1):\n",
    "            dang[i, y1] += 1\n",
    "\n",
    "sum(v>1 for v in dang.values())"
   ]
  },
  {
   "cell_type": "code",
   "execution_count": 36,
   "metadata": {},
   "outputs": [
    {
     "data": {
      "text/plain": [
       "19929"
      ]
     },
     "execution_count": 36,
     "metadata": {},
     "output_type": "execute_result"
    }
   ],
   "source": [
    "dang = defaultdict(int)\n",
    "\n",
    "for line in lines:\n",
    "    one, two = line.split(' -> ')\n",
    "    x1, y1 =  (int(i) for i in one.split(','))\n",
    "    x2, y2 = (int(i) for i in two.split(','))\n",
    "    if x1 > x2:\n",
    "        # make sure 1 is always the smallest\n",
    "        x2, y2, x1, y1 = x1, y1, x2, y2\n",
    "    if x1 == x2:\n",
    "        for i in range(min(y1,y2), max(y1, y2) +1):\n",
    "            dang[x1, i] += 1\n",
    "    elif y1 == y2:\n",
    "        for i in range(x1,x2+1):\n",
    "            dang[i, y1] += 1\n",
    "    else:\n",
    "        dy = 1 if y1 < y2 else -1\n",
    "        for i in range(0, x2-x1+1):\n",
    "            dang[x1+i, y1+dy*i] += 1\n",
    "\n",
    "sum(v>1 for v in dang.values())"
   ]
  },
  {
   "cell_type": "code",
   "execution_count": null,
   "metadata": {},
   "outputs": [],
   "source": []
  }
 ],
 "metadata": {
  "file_extension": ".py",
  "kernelspec": {
   "display_name": "Python 3",
   "name": "python3"
  },
  "language_info": {
   "codemirror_mode": {
    "name": "ipython",
    "version": 3
   },
   "file_extension": ".py",
   "mimetype": "text/x-python",
   "name": "python",
   "nbconvert_exporter": "python",
   "pygments_lexer": "ipython3",
   "version": "3.10.0"
  },
  "mimetype": "text/x-python",
  "name": "python",
  "npconvert_exporter": "python",
  "orig_nbformat": 2,
  "pygments_lexer": "ipython3",
  "version": 3
 },
 "nbformat": 4,
 "nbformat_minor": 2
}
