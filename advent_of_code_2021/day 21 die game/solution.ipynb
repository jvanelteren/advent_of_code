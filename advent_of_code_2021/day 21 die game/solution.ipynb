{
 "cells": [
  {
   "cell_type": "code",
   "execution_count": 2,
   "metadata": {},
   "outputs": [
    {
     "name": "stdout",
     "output_type": "stream",
     "text": [
      "Defaulting to user installation because normal site-packages is not writeable\n",
      "Requirement already satisfied: pip in c:\\users\\gebruiker\\appdata\\roaming\\python\\python310\\site-packages (21.3.1)\n"
     ]
    }
   ],
   "source": [
    "!pip install --upgrade pip"
   ]
  },
  {
   "cell_type": "code",
   "execution_count": null,
   "metadata": {},
   "outputs": [],
   "source": []
  },
  {
   "cell_type": "code",
   "execution_count": 1,
   "metadata": {},
   "outputs": [
    {
     "name": "stdout",
     "output_type": "stream",
     "text": [
      "Defaulting to user installation because normal site-packages is not writeable\n",
      "Looking in links: https://download.pytorch.org/whl/cu113/torch_stable.html\n"
     ]
    },
    {
     "name": "stderr",
     "output_type": "stream",
     "text": [
      "ERROR: Could not find a version that satisfies the requirement torch==1.10.1+cu113 (from versions: none)\n",
      "ERROR: No matching distribution found for torch==1.10.1+cu113\n"
     ]
    }
   ],
   "source": [
    "!pip3 install torch==1.10.1+cu113 torchvision==0.11.2+cu113 torchaudio===0.10.1+cu113 -f https://download.pytorch.org/whl/cu113/torch_stable.html\n"
   ]
  },
  {
   "cell_type": "code",
   "execution_count": 1,
   "metadata": {},
   "outputs": [
    {
     "data": {
      "text/plain": [
       "512442"
      ]
     },
     "execution_count": 1,
     "metadata": {},
     "output_type": "execute_result"
    }
   ],
   "source": [
    "from collections import Counter, defaultdict, namedtuple\n",
    "from itertools import product\n",
    "\n",
    "def die():\n",
    "    start = 1\n",
    "    while True:\n",
    "        yield 3*start + 3\n",
    "        start += 3\n",
    "\n",
    "rolls = die()\n",
    "scores = [0,0]\n",
    "pos = [8,9]\n",
    "step = 0\n",
    "\n",
    "while scores[0] < 1000 and scores[1] < 1000:\n",
    "    player = step % 2\n",
    "    pos[player] = (pos[player] + next(rolls) -1) % 10 + 1\n",
    "    scores[player] += pos[player]\n",
    "    step +=1\n",
    "3*step * min(scores)\n",
    "        "
   ]
  },
  {
   "cell_type": "code",
   "execution_count": 2,
   "metadata": {},
   "outputs": [
    {
     "data": {
      "text/plain": [
       "346642902541848"
      ]
     },
     "execution_count": 2,
     "metadata": {},
     "output_type": "execute_result"
    }
   ],
   "source": [
    "dierolls = defaultdict(int)\n",
    "for rolls in product([1,2,3], repeat=3):\n",
    "    dierolls[sum(rolls)] += 1\n",
    "\n",
    "State = namedtuple('State',['score1', 'score2', 'pos1', 'pos2'])\n",
    "universes = {State(0,0,8,9) : 1}\n",
    "\n",
    "winning = [0,0]\n",
    "step = 0\n",
    "\n",
    "while universes:\n",
    "    newuni = defaultdict(int)      \n",
    "    for s, amount in universes.items():\n",
    "        for adding, happens in dierolls.items():\n",
    "            score1, score2, pos1, pos2 = s\n",
    "            pos1 = (pos1 + adding -1) % 10 + 1\n",
    "            score1 += pos1\n",
    "            if score1 >= 21:\n",
    "                winning[step%2] += happens * amount\n",
    "            else:\n",
    "                # now its the next players turn so switch p1 and p2\n",
    "                newuni[State(score2, score1, pos2, pos1)] += happens * amount\n",
    "    step +=1\n",
    "    universes = newuni\n",
    "max(winning)"
   ]
  },
  {
   "cell_type": "code",
   "execution_count": null,
   "metadata": {},
   "outputs": [],
   "source": []
  }
 ],
 "metadata": {
  "file_extension": ".py",
  "kernelspec": {
   "display_name": "Python 3",
   "name": "python3"
  },
  "language_info": {
   "codemirror_mode": {
    "name": "ipython",
    "version": 3
   },
   "file_extension": ".py",
   "mimetype": "text/x-python",
   "name": "python",
   "nbconvert_exporter": "python",
   "pygments_lexer": "ipython3",
   "version": "3.10.0"
  },
  "mimetype": "text/x-python",
  "name": "python",
  "npconvert_exporter": "python",
  "orig_nbformat": 2,
  "pygments_lexer": "ipython3",
  "version": 3
 },
 "nbformat": 4,
 "nbformat_minor": 2
}
