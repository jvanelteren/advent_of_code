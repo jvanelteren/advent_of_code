{
 "cells": [
  {
   "cell_type": "code",
   "execution_count": 98,
   "metadata": {},
   "outputs": [
    {
     "data": {
      "text/plain": [
       "512442"
      ]
     },
     "execution_count": 98,
     "metadata": {},
     "output_type": "execute_result"
    }
   ],
   "source": [
    "from collections import Counter, defaultdict, namedtuple\n",
    "from itertools import product\n",
    "\n",
    "def die():\n",
    "    start = 1\n",
    "    while True:\n",
    "        yield 3*start + 3\n",
    "        start += 3\n",
    "\n",
    "roll = die()\n",
    "scores = [0,0]\n",
    "pos = [8,9]\n",
    "step = 0\n",
    "\n",
    "while scores[0] < 1000 and scores[1] < 1000:\n",
    "    player = step % 2\n",
    "    pos[player] = (pos[player] + next(roll) -1) % 10 + 1\n",
    "    scores[player] += pos[player]\n",
    "    step +=1\n",
    "3*step * min(scores)\n",
    "        "
   ]
  },
  {
   "cell_type": "code",
   "execution_count": 99,
   "metadata": {},
   "outputs": [
    {
     "data": {
      "text/plain": [
       "346642902541848"
      ]
     },
     "execution_count": 99,
     "metadata": {},
     "output_type": "execute_result"
    }
   ],
   "source": [
    "dierolls = defaultdict(int)\n",
    "for roll in product([1,2,3], repeat=3):\n",
    "    dierolls[sum(roll)] += 1\n",
    "\n",
    "State = namedtuple('State',['score1', 'score2', 'pos1', 'pos2'])\n",
    "universes = {State(0,0,8,9) : 1}\n",
    "\n",
    "winning = [0,0]\n",
    "step = 0\n",
    "\n",
    "while universes:\n",
    "    newuni = defaultdict(int)      \n",
    "    for s, amount in universes.items():\n",
    "        for adding, happens in dierolls.items():\n",
    "            score1, score2, pos1, pos2 = s\n",
    "            pos1 = (pos1 + adding -1) % 10 + 1\n",
    "            score1 += pos1\n",
    "            if score1 >= 21:\n",
    "                winning[step%2] += happens * amount\n",
    "            else:\n",
    "                # now its the next players turn so switch p1 and p2\n",
    "                newuni[State(score2, score1, pos2, pos1)] += happens * amount\n",
    "    step +=1\n",
    "    universes = newuni\n",
    "max(winning)"
   ]
  },
  {
   "cell_type": "code",
   "execution_count": null,
   "metadata": {},
   "outputs": [],
   "source": []
  }
 ],
 "metadata": {
  "file_extension": ".py",
  "kernelspec": {
   "display_name": "Python 3",
   "name": "python3"
  },
  "language_info": {
   "codemirror_mode": {
    "name": "ipython",
    "version": 3
   },
   "file_extension": ".py",
   "mimetype": "text/x-python",
   "name": "python",
   "nbconvert_exporter": "python",
   "pygments_lexer": "ipython3",
   "version": "3.10.0"
  },
  "mimetype": "text/x-python",
  "name": "python",
  "npconvert_exporter": "python",
  "orig_nbformat": 2,
  "pygments_lexer": "ipython3",
  "version": 3
 },
 "nbformat": 4,
 "nbformat_minor": 2
}
