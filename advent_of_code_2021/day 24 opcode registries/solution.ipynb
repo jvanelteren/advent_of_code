{
 "cells": [
  {
   "cell_type": "code",
   "execution_count": 1,
   "metadata": {},
   "outputs": [
    {
     "name": "stdout",
     "output_type": "stream",
     "text": [
      "60.8 µs ± 1.13 µs per loop (mean ± std. dev. of 7 runs, 10000 loops each)\n"
     ]
    }
   ],
   "source": [
    "import math \n",
    "from aocutils.common import to_int\n",
    "\n",
    "lines = open('input.txt').read().splitlines()\n",
    "lines = [to_int(line.split()) for line in lines]\n",
    "\n",
    "def run(inp):\n",
    "    reg = {'w': 0, 'x':0, 'y':0, 'z':0}\n",
    "    inp_counter = 0\n",
    "    for i in range(len(lines)):\n",
    "        match lines[i]:\n",
    "            case 'inp', register:\n",
    "                reg[register] = inp[inp_counter]\n",
    "                inp_counter += 1\n",
    "            case 'add', rega, regb:\n",
    "                if isinstance(regb, int):\n",
    "                    reg[rega] += regb\n",
    "                else:\n",
    "                    reg[rega] += reg[regb]\n",
    "            case 'mul', rega, regb:\n",
    "                if isinstance(regb, int):\n",
    "                    reg[rega] *= regb\n",
    "                else:\n",
    "                    reg[rega] *= reg[regb]\n",
    "            case 'div', rega, regb:\n",
    "                if isinstance(regb, int):\n",
    "                    reg[rega] = math.floor(reg[rega] / regb)\n",
    "                else:\n",
    "                    reg[rega] = math.floor(reg[rega] / reg[regb])\n",
    "            case 'mod', rega, regb:\n",
    "                if isinstance(regb, int):\n",
    "                    reg[rega] %= regb\n",
    "                else:\n",
    "                    reg[rega] %= reg[regb]\n",
    "            case 'eql', rega, regb:\n",
    "                if isinstance(regb, int):\n",
    "                    if reg[rega] == regb:\n",
    "                        reg[rega] = 1\n",
    "                    else:\n",
    "                        reg[rega] = 0\n",
    "                else:\n",
    "                    if reg[rega] == reg[regb]:\n",
    "                        reg[rega] = 1\n",
    "                    else:\n",
    "                        reg[rega] = 0\n",
    "            case _, _:\n",
    "                print('not defined')\n",
    "    return reg\n",
    "inp = '74929995999389'\n",
    "inp = [int(i) for i in inp]\n",
    "%timeit run(inp)"
   ]
  },
  {
   "cell_type": "code",
   "execution_count": 2,
   "metadata": {},
   "outputs": [
    {
     "name": "stdout",
     "output_type": "stream",
     "text": [
      "2.88 µs ± 84.1 ns per loop (mean ± std. dev. of 7 runs, 100000 loops each)\n"
     ]
    }
   ],
   "source": [
    "# these are the only 3 lines that are changing per block of input\n",
    "div = ([lines[4+18*j][2] for j in range(14)])\n",
    "add1 = ([lines[5+18*j][2] for j in range(14)])\n",
    "add2 = ([lines[15+18*j][2] for j in range(14)])\n",
    "\n",
    "\n",
    "def step(w,z,rnd):\n",
    "    # this is what the program is doing simplified\n",
    "    # input of round with div 26 needs to be (add1) + input\n",
    "    # input of round with div 1 needs to be 0 and then the output is add2 + input\n",
    "    x = (z % 26) + add1[rnd]\n",
    "    z = z // div[rnd]\n",
    "    if w != x:\n",
    "        z *= 26\n",
    "        z += w + add2[rnd]\n",
    "    return z\n",
    "\n",
    "def test():\n",
    "    for i in range(13):\n",
    "        step(1,0,i)\n",
    "# it's a speedup of about 30x compared with the program, which we need\n",
    "%timeit test()"
   ]
  },
  {
   "cell_type": "code",
   "execution_count": 3,
   "metadata": {},
   "outputs": [
    {
     "name": "stdout",
     "output_type": "stream",
     "text": [
      "running round 13\n",
      "running round 12\n",
      "running round 11\n",
      "running round 10\n",
      "running round 9\n",
      "running round 8\n",
      "running round 7\n",
      "running round 6\n",
      "running round 5\n",
      "running round 4\n",
      "running round 3\n",
      "running round 2\n",
      "running round 1\n",
      "running round 0\n"
     ]
    }
   ],
   "source": [
    "# first build for each round a list of valid inputs to produce a valid output\n",
    "# this takes about 45 seconds, since we try almost 10 million times per round\n",
    "roundoptions = [{0}]\n",
    "for rnd in range(13,-1,-1):\n",
    "    # we start at the end, since we know the output of the last round must be 0\n",
    "    print('running round', rnd)\n",
    "    options = roundoptions[-1]\n",
    "    newoptions = set()\n",
    "    for z in range(1000000):\n",
    "        for w in range(1,10):\n",
    "            res = step(w, z, rnd)\n",
    "            if res in options:\n",
    "                # this combination of w and z produces a valid output for the next round\n",
    "                newoptions.add(z)                # \n",
    "                # print('input for ronde', ronde, 'needs to be', z, 'if input is', w, 'and res', res)\n",
    "    roundoptions.append(newoptions)"
   ]
  },
  {
   "cell_type": "code",
   "execution_count": 4,
   "metadata": {},
   "outputs": [
    {
     "name": "stdout",
     "output_type": "stream",
     "text": [
      "Round 0: z value 0, input value 7\n",
      "Round 1: z value 21, input value 4\n",
      "Round 2: z value 558, input value 9\n",
      "Round 3: z value 14521, input value 2\n",
      "Round 4: z value 377558, input value 9\n",
      "Round 5: z value 14521, input value 9\n",
      "Round 6: z value 558, input value 9\n",
      "Round 7: z value 14521, input value 5\n",
      "Round 8: z value 558, input value 9\n",
      "Round 9: z value 21, input value 9\n",
      "Round 10: z value 0, input value 9\n",
      "Round 11: z value 9, input value 3\n",
      "Round 12: z value 0, input value 8\n",
      "Round 13: z value 21, input value 9\n"
     ]
    },
    {
     "data": {
      "text/plain": [
       "'74929995999389'"
      ]
     },
     "execution_count": 4,
     "metadata": {},
     "output_type": "execute_result"
    }
   ],
   "source": [
    "# now we start from the beginning with z=0 as input\n",
    "# try starting with the highest (p1) or lowest value (p2)\n",
    "z = 0\n",
    "options = list(reversed(roundoptions))[1:]\n",
    "rnd = 0\n",
    "ans = []\n",
    "for r in options:\n",
    "    for inp in range(9, 0, -1):\n",
    "        res = step(inp, z, rnd)\n",
    "        if res in r:\n",
    "            print(f'Round {rnd}: z value {z}, input value {inp}')\n",
    "            ans.append(inp)\n",
    "            z = res\n",
    "            break\n",
    "    rnd += 1\n",
    "''.join([str(i) for i in ans])     \n"
   ]
  },
  {
   "cell_type": "code",
   "execution_count": null,
   "metadata": {},
   "outputs": [],
   "source": []
  }
 ],
 "metadata": {
  "file_extension": ".py",
  "kernelspec": {
   "display_name": "Python 3",
   "name": "python3"
  },
  "language_info": {
   "codemirror_mode": {
    "name": "ipython",
    "version": 3
   },
   "file_extension": ".py",
   "mimetype": "text/x-python",
   "name": "python",
   "nbconvert_exporter": "python",
   "pygments_lexer": "ipython3",
   "version": "3.10.0"
  },
  "mimetype": "text/x-python",
  "name": "python",
  "npconvert_exporter": "python",
  "orig_nbformat": 2,
  "pygments_lexer": "ipython3",
  "version": 3
 },
 "nbformat": 4,
 "nbformat_minor": 2
}
