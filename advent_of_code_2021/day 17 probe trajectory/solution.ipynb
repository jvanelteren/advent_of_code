{
 "cells": [
  {
   "cell_type": "code",
   "execution_count": 22,
   "metadata": {},
   "outputs": [
    {
     "data": {
      "text/plain": [
       "(4095, 3773)"
      ]
     },
     "execution_count": 22,
     "metadata": {},
     "output_type": "execute_result"
    }
   ],
   "source": [
    "def sim(xcur, ycur):\n",
    "    xminn = 244\n",
    "    xmaxx = 303\n",
    "    yminn = -91\n",
    "    ymaxx = -54\n",
    "    xpos = 0\n",
    "    ypos = 0\n",
    "    best = ycur\n",
    "    for _ in range(500):\n",
    "        xpos += xcur\n",
    "        ypos += ycur\n",
    "        best = max(ypos, best)\n",
    "        xcur -= 1\n",
    "        xcur = max(xcur, 0)\n",
    "        ycur -= 1\n",
    "        if xminn <= xpos <= xmaxx:\n",
    "            if yminn <= ypos <= ymaxx:\n",
    "                return best\n",
    "    else:\n",
    "        return -1000\n",
    "\n",
    "hit = 0\n",
    "highest = 0\n",
    "# tuned the ranges manually\n",
    "for i in range(1,304):\n",
    "    for j in range(-92,200):\n",
    "        res = sim(i,j)\n",
    "        highest = max(res, highest)\n",
    "        if res != -1000: \n",
    "            hit += 1\n",
    "highest, hit\n",
    "\n",
    "\n"
   ]
  }
 ],
 "metadata": {
  "file_extension": ".py",
  "kernelspec": {
   "display_name": "Python 3",
   "name": "python3"
  },
  "language_info": {
   "codemirror_mode": {
    "name": "ipython",
    "version": 3
   },
   "file_extension": ".py",
   "mimetype": "text/x-python",
   "name": "python",
   "nbconvert_exporter": "python",
   "pygments_lexer": "ipython3",
   "version": "3.10.0"
  },
  "mimetype": "text/x-python",
  "name": "python",
  "npconvert_exporter": "python",
  "orig_nbformat": 2,
  "pygments_lexer": "ipython3",
  "version": 3
 },
 "nbformat": 4,
 "nbformat_minor": 2
}
