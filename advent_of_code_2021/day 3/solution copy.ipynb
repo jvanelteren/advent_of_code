{
 "cells": [
  {
   "cell_type": "code",
   "execution_count": 2,
   "metadata": {},
   "outputs": [],
   "source": [
    "import numpy as np\n",
    "from collections import Counter, defaultdict, namedtuple\n",
    "from math import gcd, ceil\n",
    "import re\n",
    "import networkx as nx\n",
    "from queue import Queue\n",
    "from dataclasses import dataclass\n",
    "from matplotlib import pyplot as plt\n",
    "import aoc\n",
    "# plt.imshow(pic)"
   ]
  },
  {
   "cell_type": "code",
   "execution_count": 17,
   "metadata": {},
   "outputs": [
    {
     "data": {
      "text/plain": [
       "(2215080, 1864715580)"
      ]
     },
     "execution_count": 17,
     "metadata": {},
     "output_type": "execute_result"
    }
   ],
   "source": [
    "lines = open('input.txt').read().splitlines()\n",
    "def solve(p2=False):\n",
    "    depth = 0\n",
    "    hor = 0\n",
    "    aim = 0\n",
    "    for line in lines:\n",
    "        ins, num = line.split()\n",
    "        num = int(num)\n",
    "        match ins:\n",
    "            case 'forward':\n",
    "                hor += num\n",
    "                if p2: depth += aim * num\n",
    "       \n",
    "            case 'up':\n",
    "                if p2:\n",
    "                    aim -= num\n",
    "                else:\n",
    "                    depth -= num\n",
    "            case 'down':\n",
    "                if p2:\n",
    "                    aim += num\n",
    "                else:\n",
    "                    depth += num\n",
    "    return depth * hor\n",
    "solve(), solve(p2=True)"
   ]
  }
 ],
 "metadata": {
  "file_extension": ".py",
  "kernelspec": {
   "display_name": "Python 3",
   "name": "python3"
  },
  "language_info": {
   "codemirror_mode": {
    "name": "ipython",
    "version": 3
   },
   "file_extension": ".py",
   "mimetype": "text/x-python",
   "name": "python",
   "nbconvert_exporter": "python",
   "pygments_lexer": "ipython3",
   "version": "3.10.0"
  },
  "mimetype": "text/x-python",
  "name": "python",
  "npconvert_exporter": "python",
  "orig_nbformat": 2,
  "pygments_lexer": "ipython3",
  "version": 3
 },
 "nbformat": 4,
 "nbformat_minor": 2
}
