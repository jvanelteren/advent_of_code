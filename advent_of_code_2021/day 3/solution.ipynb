{
 "cells": [
  {
   "cell_type": "code",
   "execution_count": 97,
   "metadata": {},
   "outputs": [
    {
     "data": {
      "text/plain": [
       "2954600"
      ]
     },
     "execution_count": 97,
     "metadata": {},
     "output_type": "execute_result"
    }
   ],
   "source": [
    "lines = open('input.txt').read().splitlines()# print amount of rows and first 100 character of first line\n",
    "n = len(lines[0])\n",
    "gamma, eps = '', ''\n",
    "for i in range(n):\n",
    "    new = [line[i] for line in lines]\n",
    "    ones = new.count('1')\n",
    "    zero = new.count('0')\n",
    "    if ones > zero:\n",
    "        gamma += '1'\n",
    "        eps += '0'\n",
    "    else:\n",
    "        gamma += '0'\n",
    "        eps += '1'\n",
    "gamma = int(gamma,2)\n",
    "eps = int(eps,2)\n",
    "gamma * eps"
   ]
  },
  {
   "cell_type": "code",
   "execution_count": 98,
   "metadata": {},
   "outputs": [
    {
     "data": {
      "text/plain": [
       "1662846"
      ]
     },
     "execution_count": 98,
     "metadata": {},
     "output_type": "execute_result"
    }
   ],
   "source": [
    "def bitfilter(lines, mostcommon):\n",
    "    for i in range(20):\n",
    "        if len(lines) == 1:\n",
    "            return lines[0]\n",
    "        zero = []\n",
    "        ones = []\n",
    "        for line in lines:\n",
    "            if line[i] == '0':\n",
    "                zero.append(line)\n",
    "            else:\n",
    "                ones.append(line)\n",
    "        if len(ones) >= len(zero):\n",
    "            lines = ones if mostcommon else zero\n",
    "        else:\n",
    "            lines = zero if mostcommon else ones\n",
    "lines = open('input.txt').read().splitlines()\n",
    "oxy = bitfilter(lines, True)\n",
    "c02 = bitfilter(lines, False)\n",
    "int(oxy,2) * int(co2,2)"
   ]
  },
  {
   "cell_type": "code",
   "execution_count": null,
   "metadata": {},
   "outputs": [],
   "source": []
  }
 ],
 "metadata": {
  "file_extension": ".py",
  "kernelspec": {
   "display_name": "Python 3",
   "name": "python3"
  },
  "language_info": {
   "codemirror_mode": {
    "name": "ipython",
    "version": 3
   },
   "file_extension": ".py",
   "mimetype": "text/x-python",
   "name": "python",
   "nbconvert_exporter": "python",
   "pygments_lexer": "ipython3",
   "version": "3.10.0"
  },
  "mimetype": "text/x-python",
  "name": "python",
  "npconvert_exporter": "python",
  "orig_nbformat": 2,
  "pygments_lexer": "ipython3",
  "version": 3
 },
 "nbformat": 4,
 "nbformat_minor": 2
}
