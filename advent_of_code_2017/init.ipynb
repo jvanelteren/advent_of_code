{
 "nbformat": 4,
 "nbformat_minor": 2,
 "metadata": {
  "language_info": {
   "name": "python",
   "codemirror_mode": {
    "name": "ipython",
    "version": 3
   },
   "version": "3.7.3"
  },
  "orig_nbformat": 2,
  "file_extension": ".py",
  "mimetype": "text/x-python",
  "name": "python",
  "npconvert_exporter": "python",
  "pygments_lexer": "ipython3",
  "version": 3
 },
 "cells": [
  {
   "source": [
    "for i in range(1,26):\n",
    "    #dir = p/('day '+str(i))\n",
    "    #shutil.rmtree(dir)\n",
    "    dir = p/('day '+str(i).zfill(2))\n",
    "    if not (os.path.isdir(dir)): os.mkdir(dir)\n",
    "    os.chdir(dir)\n",
    "    try:\n",
    "        open('input.txt', 'w+')\n",
    "        open('test0.txt', 'w+')\n",
    "        open('test1.txt', 'w+')\n",
    "        open('test2.txt', 'w+')\n",
    "    except FileExistsError:\n",
    "        pass"
   ],
   "cell_type": "code",
   "outputs": [],
   "metadata": {},
   "execution_count": 2
  },
  {
   "cell_type": "code",
   "execution_count": null,
   "metadata": {},
   "outputs": [],
   "source": []
  },
  {
   "source": [
    "import os\n",
    "from pathlib import Path\n",
    "import shutil\n",
    "p = Path(\"C:/Users/Jesse/Documents/GitHub/advent_of_code_2017\")"
   ],
   "cell_type": "code",
   "outputs": [],
   "metadata": {},
   "execution_count": 1
  }
 ]
}