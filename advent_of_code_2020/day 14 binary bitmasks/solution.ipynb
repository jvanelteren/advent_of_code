{
 "nbformat": 4,
 "nbformat_minor": 2,
 "metadata": {
  "language_info": {
   "name": "python",
   "codemirror_mode": {
    "name": "ipython",
    "version": 3
   },
   "version": "3.7.3-final"
  },
  "orig_nbformat": 2,
  "file_extension": ".py",
  "mimetype": "text/x-python",
  "name": "python",
  "npconvert_exporter": "python",
  "pygments_lexer": "ipython3",
  "version": 3,
  "kernelspec": {
   "name": "python3",
   "display_name": "Python 3",
   "language": "python"
  }
 },
 "cells": [
  {
   "cell_type": "code",
   "execution_count": 1,
   "metadata": {},
   "outputs": [],
   "source": [
    "# it's not worth getting up at 6 when the site is down\n",
    "# again a reminder to be very careful van coding the logic of a statement e.g. not use != when\n",
    "# use re.match().groups() to output a tuple with the matching groups\n",
    "# if you have to go over the input once, do it once instead of parsing everything into lists and then iterate over len(list)\n",
    "# never forget: np.tile(arr, repeats=(r,c)) repeats an array\n",
    "# never forget 2: tiling is not necessary if you use modulo, e.g. % n_cols\n",
    "# when you have blank lines in the input file you can split using .split('\\n\\n')\n",
    "# you can make an integer with a certain base by int('11111', base = 2)\n",
    "# str.replace doesn't work inplace but returns a new string object\n",
    "# good parsing helps a ton. also make sure to think through the algo for a bit\n",
    "# it can be useful to declare a reversed dictionary, when you need to traverse the problem in the reversed way\n",
    "# reminder var = {} declares a dict not a set\n",
    "# when the description speaks about a trillion possibilities, DONT BE STUBBORN because you don't see the solution straightaway and try to enumerate\n",
    "# when you use your own library make sure to have tested the functions\n",
    "# the x axis of complex numbers is the real number and y axis is imaginary\n",
    "# spend 30 minutes to find out I did -= instead of +=\n",
    "# i should learn some modular arithmathic\n",
    "# simple parsing rstrip('\\n').split(' = ') works much easier then some custom parsing, prevents problems later on\n",
    "# the test case for star 1 is not always applicable to start 2, in my case it froze the code (too many X's)\n",
    "# take care of parenthesis when i,(j,k) = [1,(2,3)] The tuple is only unpacked correctly if j,k are parenthesized"
   ]
  },
  {
   "cell_type": "code",
   "execution_count": 1,
   "metadata": {},
   "outputs": [],
   "source": [
    "from itertools import combinations\n",
    "from itertools import zip_longest\n",
    "\n",
    "f=open('input.txt')\n",
    "lines = [line.rstrip('\\n').split(' = ') for line in f]"
   ]
  },
  {
   "cell_type": "code",
   "execution_count": 3,
   "metadata": {},
   "outputs": [],
   "source": [
    "def get_int(i, mask):\n",
    "    total = i\n",
    "    i = str(bin(i))[::-1]\n",
    "    mask = mask[::-1]\n",
    "    for index, current_mask, current_bit in (zip_longest(range(len(mask)), mask, i)):\n",
    "        if current_mask != 'X':\n",
    "            mod = 2**(index)\n",
    "            if (not current_bit or current_bit == 'b') and current_mask =='1':\n",
    "                total += mod\n",
    "            if current_bit == '1' and current_mask =='0':\n",
    "                total -= mod\n",
    "    return total"
   ]
  },
  {
   "cell_type": "code",
   "execution_count": 4,
   "metadata": {
    "tags": []
   },
   "outputs": [
    {
     "output_type": "execute_result",
     "data": {
      "text/plain": [
       "9844389396644"
      ]
     },
     "metadata": {},
     "execution_count": 4
    }
   ],
   "source": [
    "mem = {}\n",
    "for ins, num in lines:\n",
    "    if ins.startswith('mask'): mask = num\n",
    "    else:\n",
    "        reg = ins[4:-1]\n",
    "        mem[reg] = get_int(int(num), mask)\n",
    "sum(mem.values())"
   ]
  },
  {
   "cell_type": "code",
   "execution_count": 5,
   "metadata": {},
   "outputs": [],
   "source": [
    "def get_reg(reg, mask):\n",
    "    mods = set()\n",
    "    total = reg\n",
    "    i = str(bin(reg))[::-1]\n",
    "    mask = mask[::-1]\n",
    "\n",
    "    for index, current_mask, current_bit in (zip_longest(range(len(mask)), mask, i)):\n",
    "        if current_mask == 'X':\n",
    "            mods.add(2**index)\n",
    "            if current_bit == '1':\n",
    "                total -= 2**index\n",
    "        else:\n",
    "            mod = 2**(index)\n",
    "            if (not current_bit or current_bit == 'b') and current_mask =='1':\n",
    "                total += mod\n",
    "            if current_bit == '1' and (current_mask =='0'):\n",
    "                pass\n",
    "    comb = set([0])\n",
    "    for i in range(1,len(mods)+1):\n",
    "        for j in combinations(mods,i):\n",
    "            comb.add(sum(j))\n",
    "    return [total + m for m in comb]"
   ]
  },
  {
   "cell_type": "code",
   "execution_count": 6,
   "metadata": {},
   "outputs": [
    {
     "output_type": "execute_result",
     "data": {
      "text/plain": [
       "3575590614332"
      ]
     },
     "metadata": {},
     "execution_count": 6
    }
   ],
   "source": [
    "mem = {}\n",
    "for ins,num in lines:\n",
    "    if ins.startswith('mask'):\n",
    "        mask = num\n",
    "    else:\n",
    "        reg = ins[4:-1]\n",
    "        registers = get_reg(int(reg), mask)\n",
    "        for r in registers:\n",
    "            mem[r]=int(num)\n",
    "\n",
    "sum(mem.values())"
   ]
  }
 ]
}