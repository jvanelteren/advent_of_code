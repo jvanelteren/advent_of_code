{
 "nbformat": 4,
 "nbformat_minor": 2,
 "metadata": {
  "language_info": {
   "name": "python",
   "codemirror_mode": {
    "name": "ipython",
    "version": 3
   },
   "version": "3.7.3-final"
  },
  "orig_nbformat": 2,
  "file_extension": ".py",
  "mimetype": "text/x-python",
  "name": "python",
  "npconvert_exporter": "python",
  "pygments_lexer": "ipython3",
  "version": 3,
  "kernelspec": {
   "name": "python3",
   "display_name": "Python 3"
  }
 },
 "cells": [
  {
   "cell_type": "code",
   "execution_count": 1,
   "metadata": {},
   "outputs": [],
   "source": [
    "# it's not worth getting up at 6 when the site is down\n",
    "# again a reminder to be very careful van coding the logic of a statement e.g. not use != when\n",
    "# use re.match().groups() to output a tuple with the matching groups\n",
    "# if you have to go over the input once, do it once instead of parsing everything into lists and then iterate over len(list)\n",
    "# never forget: np.tile(arr, repeats=(r,c)) repeats an array\n",
    "# never forget 2: tiling is not necessary if you use modulo, e.g. % n_cols\n",
    "# when you have blank lines in the input file you can split using .split('\\n\\n')\n",
    "# you can make an integer with a certain base by int('11111', base = 2)\n",
    "# str.replace doesn't work inplace but returns a new string object\n",
    "# good parsing helps a ton. also make sure to think through the algo for a bit\n",
    "# it can be useful to declare a reversed dictionary, when you need to traverse the problem in the reversed way"
   ]
  },
  {
   "cell_type": "code",
   "execution_count": 2,
   "metadata": {},
   "outputs": [],
   "source": [
    "import numpy as np\n",
    "from collections import Counter, defaultdict, namedtuple, deque\n",
    "from math import gcd, ceil\n",
    "import re\n",
    "import networkx as nx\n",
    "from dataclasses import dataclass\n",
    "import itertools\n",
    "import aoc\n",
    "from matplotlib import pyplot as plt\n",
    "import string\n",
    "# plt.imshow(pic)"
   ]
  },
  {
   "cell_type": "code",
   "execution_count": 65,
   "metadata": {},
   "outputs": [],
   "source": [
    "f=open('input.txt')\n",
    "lines = [line.rstrip('\\n') for line in f]\n",
    "line = lines[0]"
   ]
  },
  {
   "cell_type": "code",
   "execution_count": 96,
   "metadata": {},
   "outputs": [],
   "source": [
    "# parsing\n",
    "bags = defaultdict(list)\n",
    "rev_bags = defaultdict(set)\n",
    "for line in lines:\n",
    "    color, contents = line.split(' bags contain ')\n",
    "    contents = contents.split(', ')\n",
    "    for c in contents:\n",
    "        # two regex alternatives:\n",
    "        # re.findall(r'(\\d+) (\\w+ \\w+)',line)\n",
    "        # re.findall(r'(\\d+) (.+?) bags', line)\n",
    "        split = c.split()\n",
    "        color2 = split[1]+' '+ split[2]\n",
    "        bags[color].append((split[0], color2))\n",
    "        rev_bags[color2].add(color)"
   ]
  },
  {
   "cell_type": "code",
   "execution_count": 97,
   "metadata": {},
   "outputs": [
    {
     "output_type": "execute_result",
     "data": {
      "text/plain": [
       "278"
      ]
     },
     "metadata": {},
     "execution_count": 97
    }
   ],
   "source": [
    "# part 1\n",
    "options = {'shiny gold'}\n",
    "for i in range(100):\n",
    "    for k,v in bags.items():\n",
    "        for comb in v:\n",
    "            if comb[1] in options:\n",
    "                options.add(k)\n",
    "len(options)-1                "
   ]
  },
  {
   "cell_type": "code",
   "execution_count": 99,
   "metadata": {},
   "outputs": [
    {
     "output_type": "execute_result",
     "data": {
      "text/plain": [
       "278"
      ]
     },
     "metadata": {},
     "execution_count": 99
    }
   ],
   "source": [
    "# this is a much cleaner solution for part 1, but does require a 'reversed dictionary' with the contained bag as key and the containing bag as value (the other way around from 'bags')\n",
    "# inspiration from https://github.com/sophiebits/adventofcode/blob/main/2020/day07.py\n",
    "options = set()\n",
    "def check(color):\n",
    "    for c in rev_bags[color]:\n",
    "        options.add(c)\n",
    "        check(c)\n",
    "check('shiny gold')\n",
    "len(options)"
   ]
  },
  {
   "cell_type": "code",
   "execution_count": 74,
   "metadata": {},
   "outputs": [
    {
     "output_type": "execute_result",
     "data": {
      "text/plain": [
       "45157"
      ]
     },
     "metadata": {},
     "execution_count": 74
    }
   ],
   "source": [
    "# part 2\n",
    "def get_bag_count(color):\n",
    "    contents = 1\n",
    "    comb = bags[color]\n",
    "    for num, col in comb:\n",
    "        if num == 'no': pass\n",
    "        else: contents += int(num) * get_bag_count(col)\n",
    "    return contents\n",
    "get_bag_count('shiny gold')-1"
   ]
  }
 ]
}