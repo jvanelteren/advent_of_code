{
 "nbformat": 4,
 "nbformat_minor": 2,
 "metadata": {
  "language_info": {
   "name": "python",
   "codemirror_mode": {
    "name": "ipython",
    "version": 3
   },
   "version": "3.7.3-final"
  },
  "orig_nbformat": 2,
  "file_extension": ".py",
  "mimetype": "text/x-python",
  "name": "python",
  "npconvert_exporter": "python",
  "pygments_lexer": "ipython3",
  "version": 3,
  "kernelspec": {
   "name": "python3",
   "display_name": "Python 3"
  }
 },
 "cells": [
  {
   "cell_type": "code",
   "execution_count": 1,
   "metadata": {},
   "outputs": [],
   "source": [
    "# it's not worth getting up at 6 when the site is down\n",
    "# again a reminder to be very careful van coding the logic of a statement e.g. not use != when\n",
    "# use re.match().groups() to output a tuple with the matching groups\n",
    "# if you have to go over the input once, do it once instead of parsing everything into lists and then iterate over len(list)\n",
    "# never forget: np.tile(arr, repeats=(r,c)) repeats an array\n",
    "# never forget 2: tiling is not necessary if you use modulo, e.g. % n_cols\n",
    "# you can make an integer with a certain base by int('11111', base = 2)\n",
    "# str.replace doesn't work inplace but returns a new string object"
   ]
  },
  {
   "cell_type": "code",
   "execution_count": 13,
   "metadata": {},
   "outputs": [
    {
     "output_type": "execute_result",
     "data": {
      "text/plain": [
       "'kimczeyaqwbs\\npwmsf\\nwgmfus\\nlofjwnms\\nrwsum'"
      ]
     },
     "metadata": {},
     "execution_count": 13
    }
   ],
   "source": [
    "lines = open('input.txt').read().split('\\n\\n')\n",
    "lines[0]"
   ]
  },
  {
   "cell_type": "code",
   "execution_count": 2,
   "metadata": {},
   "outputs": [
    {
     "output_type": "execute_result",
     "data": {
      "text/plain": [
       "6903"
      ]
     },
     "metadata": {},
     "execution_count": 2
    }
   ],
   "source": [
    "# part 1, luckily no special characters in the input or this would have failed\n",
    "sum(len(set(line.replace('\\n',''))) for line in lines)"
   ]
  },
  {
   "cell_type": "code",
   "execution_count": 14,
   "metadata": {},
   "outputs": [
    {
     "output_type": "execute_result",
     "data": {
      "text/plain": [
       "3493"
      ]
     },
     "metadata": {},
     "execution_count": 14
    }
   ],
   "source": [
    "# part 2\n",
    "from functools import reduce\n",
    "count = 0\n",
    "for line in lines:\n",
    "    people = line.split('\\n')\n",
    "    answers = [set(p) for p in people]\n",
    "    unique = reduce(lambda x,y: x & y, answers)\n",
    "    count += len(unique)\n",
    "count"
   ]
  },
  {
   "cell_type": "code",
   "execution_count": 97,
   "metadata": {},
   "outputs": [
    {
     "output_type": "execute_result",
     "data": {
      "text/plain": [
       "3493"
      ]
     },
     "metadata": {},
     "execution_count": 97
    }
   ],
   "source": [
    "# part 2 refractored\n",
    "people = [[set(s) for s in line.split('\\n')] for line in lines]\n",
    "sum(len(set.intersection(*p)) for p in people)"
   ]
  },
  {
   "cell_type": "code",
   "execution_count": 26,
   "metadata": {},
   "outputs": [
    {
     "output_type": "stream",
     "name": "stdout",
     "text": [
      "3493\n6903\n"
     ]
    }
   ],
   "source": [
    "# refractored based on reddit\n",
    "answers = [list(map(set, line.split('\\n'))) for line in lines]\n",
    "print(sum(len(set.intersection(*sets)) for sets in answers))\n",
    "print(sum(len(set.union(*sets)) for sets in answers))"
   ]
  },
  {
   "cell_type": "code",
   "execution_count": 28,
   "metadata": {},
   "outputs": [
    {
     "output_type": "stream",
     "name": "stdout",
     "text": [
      "3493\n"
     ]
    }
   ],
   "source": [
    "# https://github.com/sophiebits/adventofcode/blob/main/2020/day06.py\n",
    "import string\n",
    "ct = 0\n",
    "for line in lines:\n",
    "    # part 1:\n",
    "    # ct += len(set(c for c in line if 'a' <= c <= 'z'))\n",
    "    alls = set(string.ascii_lowercase)\n",
    "    for ll in line.split('\\n'):\n",
    "        alls &= set(c for c in ll if 'a' <= c <= 'z')\n",
    "    ct += len(alls)\n",
    "print(ct)"
   ]
  }
 ]
}