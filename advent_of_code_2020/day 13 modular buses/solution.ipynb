{
 "cells": [
  {
   "cell_type": "code",
   "execution_count": 1,
   "metadata": {},
   "outputs": [],
   "source": [
    "# it's not worth getting up at 6 when the site is down\n",
    "# again a reminder to be very careful van coding the logic of a statement e.g. not use != when\n",
    "# use re.match().groups() to output a tuple with the matching groups\n",
    "# if you have to go over the input once, do it once instead of parsing everything into lists and then iterate over len(list)\n",
    "# never forget: np.tile(arr, repeats=(r,c)) repeats an array\n",
    "# never forget 2: tiling is not necessary if you use modulo, e.g. % n_cols\n",
    "# when you have blank lines in the input file you can split using .split('\\n\\n')\n",
    "# you can make an integer with a certain base by int('11111', base = 2)\n",
    "# str.replace doesn't work inplace but returns a new string object\n",
    "# good parsing helps a ton. also make sure to think through the algo for a bit\n",
    "# it can be useful to declare a reversed dictionary, when you need to traverse the problem in the reversed way\n",
    "# reminder var = {} declares a dict not a set\n",
    "# when the description speaks about a trillion possibilities, DONT BE STUBBORN because you don't see the solution straightaway and try to enumerate\n",
    "# when you use your own library make sure to have tested the functions\n",
    "# the x axis of complex numbers is the real number and y axis is imaginary\n",
    "# spend 30 minutes to find out I did -= instead of +=\n",
    "# i should learn some modular arithmathic"
   ]
  },
  {
   "cell_type": "code",
   "execution_count": 1,
   "metadata": {},
   "outputs": [
    {
     "data": {
      "text/plain": [
       "410"
      ]
     },
     "execution_count": 1,
     "metadata": {},
     "output_type": "execute_result"
    }
   ],
   "source": [
    "# part 1\n",
    "import aoc\n",
    "f=open('input.txt')\n",
    "lines = [line.rstrip('\\n') for line in f]\n",
    "depart = int(lines[0])\n",
    "buses = [int(b) for b in lines[1].split(',') if b != 'x']\n",
    "bus = min(buses, key=lambda b: b - depart % b)\n",
    "bus * (bus-depart%bus)"
   ]
  },
  {
   "cell_type": "code",
   "execution_count": 2,
   "metadata": {},
   "outputs": [
    {
     "data": {
      "text/plain": [
       "600691418730595"
      ]
     },
     "execution_count": 2,
     "metadata": {},
     "output_type": "execute_result"
    }
   ],
   "source": [
    "# part 2, found this on the internet while looking for solving these nasty equations\n",
    "# https://www.geeksforgeeks.org/using-chinese-remainder-theorem-combine-modular-equations/\n",
    "\n",
    "# function implementing Chinese remainder theorem \n",
    "# list m contains all the modulii \n",
    "# list x contains the remainders of the equations \n",
    "def extended_euclidean(a, b): \n",
    "    if a == 0: \n",
    "        return (b, 0, 1) \n",
    "    else: \n",
    "        g, y, x = extended_euclidean(b % a, a) \n",
    "        return (g, x - (b // a) * y, y) \n",
    "  \n",
    "# modular inverse driver function \n",
    "def modinv(a, m): \n",
    "    g, x, y = extended_euclidean(a, m) \n",
    "    return x % m \n",
    "def crt(m, x): \n",
    "  \n",
    "    # We run this loop while the list of \n",
    "    # remainders has length greater than 1 \n",
    "    while True: \n",
    "          \n",
    "        # temp1 will contain the new value  \n",
    "        # of A. which is calculated according  \n",
    "        # to the equation m1' * m1 * x0 + m0' \n",
    "        # * m0 * x1 \n",
    "        temp1 = modinv(m[1],m[0]) * x[0] * m[1] + modinv(m[0],m[1]) * x[1] * m[0] \n",
    "  \n",
    "        # temp2 contains the value of the modulus \n",
    "        # in the new equation, which will be the  \n",
    "        # product of the modulii of the two \n",
    "        # equations that we are combining \n",
    "        temp2 = m[0] * m[1] \n",
    "  \n",
    "        # we then remove the first two elements \n",
    "        # from the list of remainders, and replace \n",
    "        # it with the remainder value, which will \n",
    "        # be temp1 % temp2 \n",
    "        x.remove(x[0]) \n",
    "        x.remove(x[0]) \n",
    "        x = [temp1 % temp2] + x  \n",
    "  \n",
    "        # we then remove the first two values from \n",
    "        # the list of modulii as we no longer require \n",
    "        # them and simply replace them with the new  \n",
    "        # modulii that  we calculated \n",
    "        m.remove(m[0]) \n",
    "        m.remove(m[0]) \n",
    "        m = [temp2] + m \n",
    "  \n",
    "        # once the list has only one element left, \n",
    "        # we can break as it will only  contain  \n",
    "        # the value of our final remainder \n",
    "        if len(x) == 1: \n",
    "            break\n",
    "  \n",
    "    # returns the remainder of the final equation \n",
    "    return x[0]\n",
    "f=open('input.txt')\n",
    "lines = [line.rstrip('\\n') for line in f]\n",
    "bus_offset = {int(b):-i for i, b in enumerate(lines[1].split(',')) if b != 'x'}\n",
    "m = list(bus_offset.keys())\n",
    "x = list(bus_offset.values() )\n",
    "crt(m, x)"
   ]
  },
  {
   "cell_type": "code",
   "execution_count": 3,
   "metadata": {},
   "outputs": [
    {
     "data": {
      "text/plain": [
       "600691418730595"
      ]
     },
     "execution_count": 3,
     "metadata": {},
     "output_type": "execute_result"
    }
   ],
   "source": [
    "# this is the best solution on reddit not dependent on CRT\n",
    "from itertools import count\n",
    "import aoc\n",
    "f=open('input.txt')\n",
    "lines = [line.rstrip('\\n') for line in f]\n",
    "buses = aoc.to_int(lines[1].split(','))\n",
    "buses = {bus : offset for offset, bus in enumerate(buses) if bus != 'x'}\n",
    "\n",
    "n=0\n",
    "step = 1\n",
    "# step though all buses\n",
    "for bus, offset in buses.items():\n",
    "    # find the next solution satisfying all buses so far\n",
    "    # n + offset) % bus == 0\n",
    "    n = next(i for i in count(n, step) if (i + offset) % bus == 0)\n",
    "    # This is the key, increase the step size. Since the buses are coprime, just multiply. Otherwise take lcm\n",
    "    step *= bus\n",
    "    # step = step*bus//math.gcd(step,bus)\n",
    "n"
   ]
  },
  {
   "cell_type": "code",
   "execution_count": 4,
   "metadata": {},
   "outputs": [
    {
     "name": "stdout",
     "output_type": "stream",
     "text": [
      "600691418730595\n"
     ]
    }
   ],
   "source": [
    "# sophie implemented CRT herself\n",
    "import collections\n",
    "import math\n",
    "import re\n",
    "import sys\n",
    "\n",
    "def crt(pairs):\n",
    "    M = 1\n",
    "    for x, mx in pairs:\n",
    "        M *= mx\n",
    "    total = 0\n",
    "    for x, mx in pairs:\n",
    "        b = M // mx\n",
    "        total += x * b * pow(b, mx-2, mx)\n",
    "        total %= M\n",
    "    return total\n",
    "\n",
    "pairs = []\n",
    "for i, n in enumerate(lines[1].split(',')):\n",
    "    if n == 'x':\n",
    "        continue\n",
    "    n = int(n)\n",
    "    pairs.append((n - i, n))\n",
    "print(crt(pairs))"
   ]
  },
  {
   "cell_type": "code",
   "execution_count": 5,
   "metadata": {},
   "outputs": [
    {
     "name": "stdout",
     "output_type": "stream",
     "text": [
      "600691418730595\n"
     ]
    }
   ],
   "source": [
    "# Python 3.6\n",
    "from functools import reduce\n",
    "def chinese_remainder(n, a):\n",
    "    sum = 0\n",
    "    prod = reduce(lambda a, b: a*b, n)\n",
    "    for n_i, a_i in zip(n, a):\n",
    "        p = prod // n_i\n",
    "        sum += a_i * mul_inv(p, n_i) * p\n",
    "    return sum % prod\n",
    " \n",
    "def mul_inv(a, b):\n",
    "    b0 = b\n",
    "    x0, x1 = 0, 1\n",
    "    if b == 1: return 1\n",
    "    while a > 1:\n",
    "        q = a // b\n",
    "        a, b = b, a%b\n",
    "        x0, x1 = x1 - q * x0, x0\n",
    "    if x1 < 0: x1 += b0\n",
    "    return x1\n",
    " \n",
    "n = list(bus_offset.keys())\n",
    "a = list(bus_offset.values() )\n",
    "print(chinese_remainder(n, a))"
   ]
  },
  {
   "cell_type": "code",
   "execution_count": 7,
   "metadata": {},
   "outputs": [
    {
     "data": {
      "text/plain": [
       "600691418730595"
      ]
     },
     "execution_count": 7,
     "metadata": {},
     "output_type": "execute_result"
    }
   ],
   "source": [
    "# https://www.youtube.com/watch?v=zIFehsBHB8o&ab_channel=MathswithJay great explanation of computing CRT\n",
    "\n",
    "from functools import reduce\n",
    "from operator import mul\n",
    "def crt(mods, rests):\n",
    "    M = reduce(mul,mods) # calculate the product of all modulo\n",
    "    total = 0\n",
    "    for i in range(len(mods)):\n",
    "        b = rests[i]\n",
    "        n = M//mods[i] # calculate the product of all the mods except mods[i]\n",
    "        x = mul_inv(n, mods[i]) # solve e.g. \n",
    "        total += b*n* x\n",
    "    return total % M\n",
    "\n",
    "# https://www.youtube.com/watch?v=4-HSjLXrfPs&t=57s&ab_channel=MathswithJay\n",
    "def mul_inv(a, b):\n",
    "    # solves e.g. 40x === 1(mod 7) --> 3\n",
    "    # since 40-35 --> 5x === 1mod(7), if x would be 3, 15 === 1 (mod 7)\n",
    "    # this is called the multiplicative inverse\n",
    "    b0 = b\n",
    "    x0, x1 = 0, 1\n",
    "    if b == 1: return 1\n",
    "    while a > 1:\n",
    "        q = a // b\n",
    "        a, b = b, a%b\n",
    "        x0, x1 = x1 - q * x0, x0\n",
    "    if x1 < 0: x1 += b0\n",
    "    return x1\n",
    "\n",
    "mods = list(bus_offset.keys())\n",
    "rests = list(bus_offset.values() )\n",
    "crt(mods, rests)"
   ]
  },
  {
   "cell_type": "code",
   "execution_count": null,
   "metadata": {},
   "outputs": [],
   "source": []
  },
  {
   "cell_type": "code",
   "execution_count": 8,
   "metadata": {},
   "outputs": [
    {
     "name": "stdout",
     "output_type": "stream",
     "text": [
      "Returning remainder and modulo. First valid number is the remainder\n"
     ]
    },
    {
     "data": {
      "text/plain": [
       "(600691418730595, 1090937521514009)"
      ]
     },
     "execution_count": 8,
     "metadata": {},
     "output_type": "execute_result"
    }
   ],
   "source": [
    "from aocutils.math import crt\n",
    "mods = list(bus_offset.keys())\n",
    "rests = list(bus_offset.values() )\n",
    "crt(rests, mods)"
   ]
  }
 ],
 "metadata": {
  "file_extension": ".py",
  "kernelspec": {
   "display_name": "Python 3",
   "language": "python",
   "name": "python3"
  },
  "language_info": {
   "codemirror_mode": {
    "name": "ipython",
    "version": 3
   },
   "name": "python",
   "version": "3.7.3-final"
  },
  "mimetype": "text/x-python",
  "name": "python",
  "npconvert_exporter": "python",
  "orig_nbformat": 2,
  "pygments_lexer": "ipython3",
  "version": 3
 },
 "nbformat": 4,
 "nbformat_minor": 2
}
