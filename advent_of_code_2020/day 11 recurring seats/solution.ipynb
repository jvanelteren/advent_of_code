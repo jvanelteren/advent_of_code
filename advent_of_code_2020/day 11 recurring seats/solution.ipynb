{
 "nbformat": 4,
 "nbformat_minor": 2,
 "metadata": {
  "language_info": {
   "name": "python",
   "codemirror_mode": {
    "name": "ipython",
    "version": 3
   },
   "version": "3.7.3-final"
  },
  "orig_nbformat": 2,
  "file_extension": ".py",
  "mimetype": "text/x-python",
  "name": "python",
  "npconvert_exporter": "python",
  "pygments_lexer": "ipython3",
  "version": 3,
  "kernelspec": {
   "name": "python3",
   "display_name": "Python 3",
   "language": "python"
  }
 },
 "cells": [
  {
   "cell_type": "code",
   "execution_count": 1,
   "metadata": {},
   "outputs": [],
   "source": [
    "# it's not worth getting up at 6 when the site is down\n",
    "# again a reminder to be very careful van coding the logic of a statement e.g. not use != when\n",
    "# use re.match().groups() to output a tuple with the matching groups\n",
    "# if you have to go over the input once, do it once instead of parsing everything into lists and then iterate over len(list)\n",
    "# never forget: np.tile(arr, repeats=(r,c)) repeats an array\n",
    "# never forget 2: tiling is not necessary if you use modulo, e.g. % n_cols\n",
    "# when you have blank lines in the input file you can split using .split('\\n\\n')\n",
    "# you can make an integer with a certain base by int('11111', base = 2)\n",
    "# str.replace doesn't work inplace but returns a new string object\n",
    "# good parsing helps a ton. also make sure to think through the algo for a bit\n",
    "# it can be useful to declare a reversed dictionary, when you need to traverse the problem in the reversed way\n",
    "# reminder var = {} declares a dict not a set\n",
    "# when the description speaks about a trillion possibilities, DONT BE STUBBORN because you don't see the solution straightaway and try to enumerate\n",
    "# when you use your own library make sure to have tested the functions\n"
   ]
  },
  {
   "cell_type": "code",
   "execution_count": 9,
   "metadata": {},
   "outputs": [],
   "source": [
    "import numpy as np\n",
    "from scipy import signal\n",
    "\n",
    "f=open('input.txt')\n",
    "grid = np.array([list(line.rstrip('\\n')) for line in f])"
   ]
  },
  {
   "cell_type": "code",
   "execution_count": 11,
   "metadata": {},
   "outputs": [
    {
     "output_type": "stream",
     "name": "stdout",
     "text": [
      "2412\n"
     ]
    }
   ],
   "source": [
    "# part1\n",
    "kernel = np.ones((3,3))\n",
    "kernel[1,1]=0\n",
    "\n",
    "def findnext(grid):\n",
    "    bugs = signal.convolve2d(grid=='#', kernel, boundary='fill', mode='same')\n",
    "    grid = np.select([(grid=='L') & (bugs==0), (grid=='#') & (bugs>=4)],['#','L'],default=grid)\n",
    "    return grid\n",
    "def hashify(grid):\n",
    "    return ''.join(x for x in grid.flatten())\n",
    "\n",
    "while True:\n",
    "    newgrid = findnext(grid)\n",
    "    if hashify(grid) == hashify(newgrid):\n",
    "        print(hashify(newgrid).count('#'))\n",
    "        break\n",
    "    else:\n",
    "        grid = newgrid"
   ]
  },
  {
   "cell_type": "code",
   "execution_count": 47,
   "metadata": {
    "tags": []
   },
   "outputs": [
    {
     "output_type": "stream",
     "name": "stdout",
     "text": [
      "2176\n"
     ]
    }
   ],
   "source": [
    "f=open('input.txt')\n",
    "grid = np.array([list(line.rstrip('\\n')) for line in f])\n",
    "\n",
    "bugs = np.zeros(shape=grid.shape)\n",
    "r = [1,0,-1]\n",
    "c = [1,-1,0]\n",
    "deltas = {(dr, dc) for dr in r for dc in c if not (dr == 0 and dc == 0)}\n",
    "\n",
    "def checknumbers(grid):\n",
    "    for i, _ in np.ndenumerate(bugs): # nditer didnt work with chararray\n",
    "        ans = 0\n",
    "        for d in deltas:\n",
    "            for f in range(1,100): # to increment deltas\n",
    "                newr = i[0]+d[0]*f\n",
    "                newc = i[1]+d[1]*f\n",
    "                if newr in range(grid.shape[0]) and newc in range(grid.shape[1]):\n",
    "                    if grid[newr,newc] == '.': continue\n",
    "                    if grid[newr,newc] == 'L': break\n",
    "                    if grid[newr,newc] == '#': \n",
    "                        ans+=1\n",
    "                        break\n",
    "                else:\n",
    "                    break\n",
    "        bugs[i]=ans\n",
    "    return bugs\n",
    "def hashify(grid):\n",
    "    return ''.join(x for x in grid.flatten())\n",
    "def findnext(grid):\n",
    "    bugs = checknumbers(grid)\n",
    "    grid = np.select([(grid=='L') & (bugs==0), (grid=='#') & (bugs>=5)],['#','L'],default=grid)\n",
    "    return grid\n",
    "\n",
    "while True:\n",
    "    newgrid = findnext(grid)\n",
    "    if hashify(grid) == hashify(newgrid):\n",
    "        print(hashify(newgrid).count('#'))\n",
    "        break\n",
    "    else:\n",
    "        grid = newgrid"
   ]
  },
  {
   "cell_type": "code",
   "execution_count": 44,
   "metadata": {
    "tags": []
   },
   "outputs": [
    {
     "output_type": "stream",
     "name": "stdout",
     "text": [
      "2176\n"
     ]
    }
   ],
   "source": [
    "# faster implementation with dicts\n",
    "f=open('input.txt')\n",
    "grid = ([list(line.rstrip('\\n')) for line in f])\n",
    "import aoc\n",
    "grid = aoc.arr_to_dict(grid)\n",
    "\n",
    "r = [1,0,-1]\n",
    "c = [1,-1,0]\n",
    "deltas = {(dr, dc) for dr in r for dc in c if not (dr == 0 and dc == 0)}\n",
    "\n",
    "def checknumbers(grid):\n",
    "    bugs = grid.copy()\n",
    "    for k,v in grid.items():\n",
    "        if v == '.': continue \n",
    "        ans = 0\n",
    "        for d in deltas:\n",
    "            for f in range(1,100): # to increment deltas\n",
    "                newr = k[0]+d[0]*f\n",
    "                newc = k[1]+d[1]*f\n",
    "                res = grid.get((newr,newc),0)\n",
    "                if res == '.': continue\n",
    "                if res == 'L' or res == 0: break\n",
    "                if res == '#': \n",
    "                    ans+=1\n",
    "                    break\n",
    "        if v == 'L' and ans == 0: bugs[k] = '#'\n",
    "        if v == '#' and ans >= 5: bugs[k] = 'L'\n",
    "    return bugs\n",
    "\n",
    "def hashify(grid):\n",
    "    return ''.join(x for x in grid.values())\n",
    "\n",
    "while True:\n",
    "    newgrid = checknumbers(grid)\n",
    "    if hashify(grid) == hashify(newgrid):\n",
    "        print(hashify(newgrid).count('#'))\n",
    "        break\n",
    "    else:\n",
    "        grid = newgrid"
   ]
  }
 ]
}