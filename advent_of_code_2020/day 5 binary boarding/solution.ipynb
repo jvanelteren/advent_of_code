{
 "nbformat": 4,
 "nbformat_minor": 2,
 "metadata": {
  "language_info": {
   "name": "python",
   "codemirror_mode": {
    "name": "ipython",
    "version": 3
   },
   "version": "3.7.3-final"
  },
  "orig_nbformat": 2,
  "file_extension": ".py",
  "mimetype": "text/x-python",
  "name": "python",
  "npconvert_exporter": "python",
  "pygments_lexer": "ipython3",
  "version": 3,
  "kernelspec": {
   "name": "python3",
   "display_name": "Python 3"
  }
 },
 "cells": [
  {
   "cell_type": "code",
   "execution_count": 1,
   "metadata": {},
   "outputs": [],
   "source": [
    "# it's not worth getting up at 6 when the site is down\n",
    "# again a reminder to be very careful van coding the logic of a statement e.g. not use != when\n",
    "# use re.match().groups() to output a tuple with the matching groups\n",
    "# if you have to go over the input once, do it once instead of parsing everything into lists and then iterate over len(list)\n",
    "# never forget: np.tile(arr, repeats=(r,c)) repeats an array\n",
    "# never forget 2: tiling is not necessary if you use modulo, e.g. % n_cols\n",
    "# you can make an integer with a certain base by int('11111', base = 2)"
   ]
  },
  {
   "cell_type": "code",
   "execution_count": 73,
   "metadata": {},
   "outputs": [],
   "source": [
    "import numpy as np\n",
    "from collections import Counter, defaultdict, namedtuple, deque\n",
    "from math import gcd, ceil\n",
    "import re\n",
    "import networkx as nx\n",
    "from dataclasses import dataclass\n",
    "import itertools\n",
    "import aoc\n",
    "from matplotlib import pyplot as plt\n",
    "# plt.imshow(pic)"
   ]
  },
  {
   "cell_type": "code",
   "execution_count": 74,
   "metadata": {},
   "outputs": [
    {
     "output_type": "execute_result",
     "data": {
      "text/plain": [
       "'BFBFFBBRLR'"
      ]
     },
     "metadata": {},
     "execution_count": 74
    }
   ],
   "source": [
    "f=open('input.txt')\n",
    "lines = [line.rstrip('\\n') for line in f]\n",
    "lines[0]"
   ]
  },
  {
   "cell_type": "code",
   "execution_count": 75,
   "metadata": {},
   "outputs": [
    {
     "output_type": "execute_result",
     "data": {
      "text/plain": [
       "826"
      ]
     },
     "metadata": {},
     "execution_count": 75
    }
   ],
   "source": [
    "# A class 'Seatfinder' would have been nice to work with other base systems. Very extendable\n",
    "m = 0\n",
    "seats = [(i,j)for i in range(0,128) for j in range(0,8)]\n",
    "for b in lines:\n",
    "    row = int(''.join([str(0) if r =='F' else str(1) for r in b[:-3]]),base=2)\n",
    "    col = int(''.join([str(1) if r =='R' else str(0) for r in b[-3:]]),base=2)\n",
    "    id = row * 8 + col\n",
    "    if id > m: m = id\n",
    "    seats.remove((row,col))\n",
    "m\n"
   ]
  },
  {
   "cell_type": "code",
   "execution_count": 71,
   "metadata": {},
   "outputs": [
    {
     "output_type": "stream",
     "name": "stdout",
     "text": [
      "678\n"
     ]
    }
   ],
   "source": [
    "# part 2, made this after solving for completeness, initially i just printed the list and found the correst seat\n",
    "seats = [(i,j)for i in range(0,128) for j in range(0,8)]\n",
    "for s in seats:\n",
    "    if ((s[0]-1,s[1]) not in seats) and ((s[0]+1,s[1]) not in seats):\n",
    "        print(s[0] * 8 + s[1])"
   ]
  },
  {
   "cell_type": "code",
   "execution_count": 89,
   "metadata": {},
   "outputs": [
    {
     "output_type": "stream",
     "name": "stdout",
     "text": [
      "826\n678\n"
     ]
    }
   ],
   "source": [
    "# refractored based on https://github.com/sophiebits/adventofcode/blob/main/2020/day05.py\n",
    "# you dont have to distinguish between the rows and the columns, just treat is a one binary number\n",
    "f=open('input.txt')\n",
    "lines = [line.rstrip('\\n') for line in f]\n",
    "seats = {int(''.join([str(0) if r in 'LF' else str(1) for r in line]),base=2) for line in lines}\n",
    "print(max(seats))\n",
    "for s in range(1000):\n",
    "    if s not in seats and s-1 in seats and s+1 in seats:\n",
    "        print(s)"
   ]
  }
 ]
}