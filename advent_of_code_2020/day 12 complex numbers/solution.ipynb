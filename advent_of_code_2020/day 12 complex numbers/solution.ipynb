{
 "nbformat": 4,
 "nbformat_minor": 2,
 "metadata": {
  "language_info": {
   "name": "python",
   "codemirror_mode": {
    "name": "ipython",
    "version": 3
   },
   "version": "3.7.3-final"
  },
  "orig_nbformat": 2,
  "file_extension": ".py",
  "mimetype": "text/x-python",
  "name": "python",
  "npconvert_exporter": "python",
  "pygments_lexer": "ipython3",
  "version": 3,
  "kernelspec": {
   "name": "python3",
   "display_name": "Python 3",
   "language": "python"
  }
 },
 "cells": [
  {
   "cell_type": "code",
   "execution_count": 1,
   "metadata": {},
   "outputs": [],
   "source": [
    "# it's not worth getting up at 6 when the site is down\n",
    "# again a reminder to be very careful van coding the logic of a statement e.g. not use != when\n",
    "# use re.match().groups() to output a tuple with the matching groups\n",
    "# if you have to go over the input once, do it once instead of parsing everything into lists and then iterate over len(list)\n",
    "# never forget: np.tile(arr, repeats=(r,c)) repeats an array\n",
    "# never forget 2: tiling is not necessary if you use modulo, e.g. % n_cols\n",
    "# when you have blank lines in the input file you can split using .split('\\n\\n')\n",
    "# you can make an integer with a certain base by int('11111', base = 2)\n",
    "# str.replace doesn't work inplace but returns a new string object\n",
    "# good parsing helps a ton. also make sure to think through the algo for a bit\n",
    "# it can be useful to declare a reversed dictionary, when you need to traverse the problem in the reversed way\n",
    "# reminder var = {} declares a dict not a set\n",
    "# when the description speaks about a trillion possibilities, DONT BE STUBBORN because you don't see the solution straightaway and try to enumerate\n",
    "# when you use your own library make sure to have tested the functions\n",
    "# the x axis of complex numbers is the real number and y axis is imaginary\n",
    "# spend 30 minutes to find out I did -= instead of +=, worst time on LB\n"
   ]
  },
  {
   "cell_type": "code",
   "execution_count": 2,
   "metadata": {},
   "outputs": [
    {
     "output_type": "execute_result",
     "data": {
      "text/plain": [
       "521.0"
      ]
     },
     "metadata": {},
     "execution_count": 2
    }
   ],
   "source": [
    "# part 1\n",
    "f=open('input.txt')\n",
    "lines = [line.rstrip('\\n') for line in f]\n",
    "\n",
    "direc = complex(1,0)\n",
    "location = complex(0,0)\n",
    "\n",
    "for line in lines:\n",
    "    ins = line[0]\n",
    "    amount = int(line[1:])\n",
    "    if ins == 'N': location += complex(0,amount)\n",
    "    if ins == 'S': location += complex(0,-amount)\n",
    "    if ins == 'E': location += complex(amount,0)\n",
    "    if ins == 'W': location += complex(-amount,0)\n",
    "    if ins == 'F': location += direc*amount\n",
    "    if ins == 'L': \n",
    "        for i in range(amount//90):\n",
    "            direc *= 1j\n",
    "    if ins == 'R': \n",
    "        for i in range(amount//90):\n",
    "            direc *= -1j\n",
    "abs(location.real) + abs(location.imag) "
   ]
  },
  {
   "cell_type": "code",
   "execution_count": 134,
   "metadata": {
    "tags": []
   },
   "outputs": [
    {
     "output_type": "execute_result",
     "data": {
      "text/plain": [
       "22848.0"
      ]
     },
     "metadata": {},
     "execution_count": 134
    }
   ],
   "source": [
    "# part 2\n",
    "f=open('input.txt')\n",
    "lines = [line.rstrip('\\n') for line in f]\n",
    "\n",
    "location = complex(10,1)\n",
    "ship_loc = complex(0,0)\n",
    "\n",
    "for line in lines:\n",
    "    ins = line[0]\n",
    "    amount = int(line[1:])\n",
    "    if ins == 'N': location += complex(0,amount)\n",
    "    if ins == 'S': location += complex(0,-amount)\n",
    "    if ins == 'E': location += complex(amount,0)\n",
    "    if ins == 'W': location += complex(-amount,0)\n",
    "    if ins == 'F': \n",
    "        ship_loc += location * amount\n",
    "    if ins == 'L': \n",
    "        for i in range(amount//90):\n",
    "            location = complex (-location.imag,location.real)\n",
    "    if ins == 'R': \n",
    "        for i in range(amount//90):\n",
    "            location = complex (location.imag,-location.real)\n",
    "abs(ship_loc.real) + abs(ship_loc.imag)\n",
    "            "
   ]
  },
  {
   "cell_type": "code",
   "execution_count": null,
   "metadata": {},
   "outputs": [],
   "source": []
  }
 ]
}