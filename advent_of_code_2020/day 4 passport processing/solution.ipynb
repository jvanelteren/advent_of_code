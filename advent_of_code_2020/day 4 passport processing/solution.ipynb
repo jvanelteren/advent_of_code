{
 "nbformat": 4,
 "nbformat_minor": 2,
 "metadata": {
  "language_info": {
   "name": "python",
   "codemirror_mode": {
    "name": "ipython",
    "version": 3
   },
   "version": "3.7.3-final"
  },
  "orig_nbformat": 2,
  "file_extension": ".py",
  "mimetype": "text/x-python",
  "name": "python",
  "npconvert_exporter": "python",
  "pygments_lexer": "ipython3",
  "version": 3,
  "kernelspec": {
   "name": "python3",
   "display_name": "Python 3"
  }
 },
 "cells": [
  {
   "cell_type": "code",
   "execution_count": 1,
   "metadata": {},
   "outputs": [],
   "source": [
    "# it's not worth getting up at 6 when the site is down\n",
    "# again a reminder to be very careful van coding the logic of a statement e.g. not use != when\n",
    "# use re.match().groups() to output a tuple with the matching groups\n",
    "# if you have to go over the input once, do it once instead of parsing everything into lists and then iterate over len(list)\n",
    "# never forget: np.tile(arr, repeats=(r,c)) repeats an array\n",
    "# never forget 2: tiling is not necessary if you use modulo, e.g. % n_cols\n",
    "# when you have blank lines in the input file you can split using .split('\\n\\n')"
   ]
  },
  {
   "cell_type": "code",
   "execution_count": 61,
   "metadata": {},
   "outputs": [
    {
     "output_type": "execute_result",
     "data": {
      "text/plain": [
       "'iyr:1928 cid:150 pid:476113241 eyr:2039 hcl:a5ac0f\\necl:#25f8d2\\nbyr:2027 hgt:190'"
      ]
     },
     "metadata": {},
     "execution_count": 61
    }
   ],
   "source": [
    "import re\n",
    "f=open('input.txt').read()\n",
    "lines = [line.rstrip('\\n') for line in f.split('\\n\\n')] # this split here is key to the refractored solution\n",
    "lines[0]"
   ]
  },
  {
   "cell_type": "code",
   "execution_count": 64,
   "metadata": {},
   "outputs": [
    {
     "output_type": "execute_result",
     "data": {
      "text/plain": [
       "[('iyr', '1928'),\n",
       " ('cid', '150'),\n",
       " ('pid', '476113241'),\n",
       " ('eyr', '2039'),\n",
       " ('hcl', 'a5ac0f'),\n",
       " ('ecl', '#25f8d2'),\n",
       " ('byr', '2027'),\n",
       " ('hgt', '190')]"
      ]
     },
     "metadata": {},
     "execution_count": 64
    }
   ],
   "source": [
    "re.findall(r'(\\w+):(\\S+)', lines[0])"
   ]
  },
  {
   "cell_type": "code",
   "execution_count": 65,
   "metadata": {},
   "outputs": [
    {
     "output_type": "stream",
     "name": "stdout",
     "text": [
      "iyr 1928\ncid 150\npid 476113241\neyr 2039\nhcl a5ac0f\necl #25f8d2\nbyr 2027\nhgt 190\n"
     ]
    }
   ],
   "source": [
    "byr, iyr, eyr, hgt, hcl, ecl, pid = False,False,False,False,False,False,False\n",
    "for k,v in re.findall(r'(\\w+):(\\S+)', lines[0]):\n",
    "    if k = 'iyr':\n",
    "        if int(v) \n",
    "    if k = 'pid':\n",
    "    if k = 'eyr':\n",
    "    if k = 'hcl':\n",
    "    if k = 'ecl':\n",
    "    if k = 'byr':\n",
    "    if k = 'hgt':"
   ]
  },
  {
   "cell_type": "code",
   "execution_count": null,
   "metadata": {},
   "outputs": [],
   "source": [
    "        res = re.search(r'byr:(\\d{4})',line)\n",
    "        if res and 1920 <= int(res.group(1)) <= 2002: checks += 1\n",
    "        res = re.search(r'iyr:(\\d{4})',line)\n",
    "        if res and 2010 <= int(res.group(1)) <= 2020: checks += 1\n",
    "        res = re.search(r'eyr:(\\d{4})',line)\n",
    "        if res and 2020 <= int(res.group(1)) <= 2030: checks += 1\n",
    "        res = re.search(r'hgt:(\\d+)(\\w{2})',line)\n",
    "        if res and res.group(2) == 'cm':\n",
    "            if 150 <= int(res.group(1)) <= 193: checks += 1\n",
    "        elif res and res.group(2) == 'in':\n",
    "            if 59 <= int(res.group(1)) <= 76: checks += 1\n",
    "        res = re.search(r'hcl:#([0-9a-f]{6})',line)\n",
    "        if res and res.group(1): checks += 1\n",
    "        res = re.search(r'ecl:(\\w{3})',line)\n",
    "        if res and res.group(1):\n",
    "            if res.group(1) in ['amb','blu', 'brn', 'gry', 'grn', 'hzl', 'oth']: checks += 1\n",
    "        res = re.search(r'pid:(\\d+)',line)\n",
    "        if res and len(res.group(1))==9: checks += 1\n",
    "        if checks == 7: valid += 1"
   ]
  },
  {
   "cell_type": "code",
   "execution_count": 62,
   "metadata": {},
   "outputs": [
    {
     "output_type": "execute_result",
     "data": {
      "text/plain": [
       "190"
      ]
     },
     "metadata": {},
     "execution_count": 62
    }
   ],
   "source": [
    "# refractored part 1\n",
    "valid = 0\n",
    "for passport in lines:\n",
    "    if sum(1 for valid in ['byr', 'iyr', 'eyr', 'hgt', 'hcl','ecl', 'pid'] if valid in passport) == 7:\n",
    "        valid+=1\n",
    "valid"
   ]
  },
  {
   "cell_type": "code",
   "execution_count": null,
   "metadata": {},
   "outputs": [],
   "source": [
    "\n"
   ]
  },
  {
   "cell_type": "code",
   "execution_count": null,
   "metadata": {},
   "outputs": [],
   "source": []
  },
  {
   "cell_type": "code",
   "execution_count": 63,
   "metadata": {},
   "outputs": [
    {
     "output_type": "execute_result",
     "data": {
      "text/plain": [
       "121"
      ]
     },
     "metadata": {},
     "execution_count": 63
    }
   ],
   "source": [
    "# refractored part 2\n",
    "valid = 0\n",
    "for line in lines:\n",
    "    if sum(1 for valid in ['byr', 'iyr', 'eyr', 'hgt', 'hcl','ecl', 'pid'] if valid in line) == 7:\n",
    "        checks = 0\n",
    "        res = re.search(r'byr:(\\d{4})',line)\n",
    "        if res and 1920 <= int(res.group(1)) <= 2002: checks += 1\n",
    "        res = re.search(r'iyr:(\\d{4})',line)\n",
    "        if res and 2010 <= int(res.group(1)) <= 2020: checks += 1\n",
    "        res = re.search(r'eyr:(\\d{4})',line)\n",
    "        if res and 2020 <= int(res.group(1)) <= 2030: checks += 1\n",
    "        res = re.search(r'hgt:(\\d+)(\\w{2})',line)\n",
    "        if res and res.group(2) == 'cm':\n",
    "            if 150 <= int(res.group(1)) <= 193: checks += 1\n",
    "        elif res and res.group(2) == 'in':\n",
    "            if 59 <= int(res.group(1)) <= 76: checks += 1\n",
    "        res = re.search(r'hcl:#([0-9a-f]{6})',line)\n",
    "        if res and res.group(1): checks += 1\n",
    "        res = re.search(r'ecl:(\\w{3})',line)\n",
    "        if res and res.group(1):\n",
    "            if res.group(1) in ['amb','blu', 'brn', 'gry', 'grn', 'hzl', 'oth']: checks += 1\n",
    "        res = re.search(r'pid:(\\d+)',line)\n",
    "        if res and len(res.group(1))==9: checks += 1\n",
    "        if checks == 7: valid += 1\n",
    "valid"
   ]
  },
  {
   "cell_type": "code",
   "execution_count": null,
   "metadata": {},
   "outputs": [],
   "source": [
    "# original part 1\n",
    "valid = 0\n",
    "byr, iyr, eyr, hgt, hcl, ecl, pid = False,False,False,False,False,False,False\n",
    "for line in lines:\n",
    "    if 'byr:' in line: byr = True\n",
    "    if 'iyr:' in line: iyr = True\n",
    "    if 'eyr:' in line: eyr = True\n",
    "    if 'hgt:' in line: hgt = True\n",
    "    if 'hcl:' in line: hcl = True\n",
    "    if 'ecl:' in line: ecl = True\n",
    "    if 'pid:' in line: pid = True\n",
    "    if byr + iyr + eyr + hgt + hcl + ecl + pid == 7: \n",
    "        valid += 1\n",
    "        byr, iyr, eyr, hgt, hcl, ecl, pid = False,False,False,False,False,False,False\n",
    "\n",
    "    if not line:\n",
    "        byr, iyr, eyr, hgt, hcl, ecl, pid = False,False,False,False,False,False,False\n",
    "valid\n"
   ]
  },
  {
   "cell_type": "code",
   "execution_count": 44,
   "metadata": {
    "tags": []
   },
   "outputs": [
    {
     "output_type": "execute_result",
     "data": {
      "text/plain": [
       "121"
      ]
     },
     "metadata": {},
     "execution_count": 44
    }
   ],
   "source": [
    "# original part 2\n",
    "valid = 0\n",
    "byr, iyr, eyr, hgt, hcl, ecl, pid = False,False,False,False,False,False,False\n",
    "for line in lines:\n",
    "    if 'byr:' in line: \n",
    "        res = re.search(r'byr:(\\d{4})',line)\n",
    "        if res and 1920 <= int(res.group(1)) <= 2002:\n",
    "            byr = True\n",
    "    if 'iyr:' in line: \n",
    "        res = re.search(r'iyr:(\\d{4})',line)\n",
    "        if res and 2010 <= int(res.group(1)) <= 2020:\n",
    "            iyr = True\n",
    "    if 'eyr:' in line: \n",
    "        res = re.search(r'eyr:(\\d{4})',line)\n",
    "        if res and 2020 <= int(res.group(1)) <= 2030:\n",
    "            eyr = True\n",
    "    if 'hgt:' in line: \n",
    "        res = re.search(r'hgt:(\\d+)(\\w{2})',line)\n",
    "        if res and res.group(2) == 'cm':\n",
    "            if 150 <= int(res.group(1)) <= 193:\n",
    "                hgt = True\n",
    "        if res and res.group(2) == 'in':\n",
    "            if 59 <= int(res.group(1)) <= 76:\n",
    "                hgt = True\n",
    "    if 'hcl:' in line: \n",
    "        res = re.search(r'hcl:#([0-9a-f]{6})',line)\n",
    "        if res and res.group(1):\n",
    "            hcl = True\n",
    "    if 'ecl:' in line:\n",
    "        res = re.search(r'ecl:(\\w{3})',line)\n",
    "        if res:\n",
    "            for allow in ['amb','blu', 'brn', 'gry', 'grn', 'hzl', 'oth']:\n",
    "                if allow in res.group(1):\n",
    "                    ecl = True       \n",
    "\n",
    "    if 'pid:' in line: \n",
    "        res = re.search(r'pid:(\\d+)',line)\n",
    "        if res and len(res.group(1))==9:\n",
    "            pid = True\n",
    "\n",
    "    if byr + iyr + eyr + hgt + hcl + ecl + pid == 7: \n",
    "        valid += 1\n",
    "        byr, iyr, eyr, hgt, hcl, ecl, pid = False,False,False,False,False,False,False\n",
    "\n",
    "    if not line:\n",
    "        byr, iyr, eyr, hgt, hcl, ecl, pid = False,False,False,False,False,False,False\n",
    "valid\n"
   ]
  },
  {
   "cell_type": "code",
   "execution_count": 45,
   "metadata": {},
   "outputs": [
    {
     "output_type": "execute_result",
     "data": {
      "text/plain": [
       "190"
      ]
     },
     "metadata": {},
     "execution_count": 45
    }
   ],
   "source": []
  },
  {
   "cell_type": "code",
   "execution_count": null,
   "metadata": {},
   "outputs": [],
   "source": []
  }
 ]
}