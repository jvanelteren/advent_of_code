{
 "nbformat": 4,
 "nbformat_minor": 2,
 "metadata": {
  "language_info": {
   "name": "python",
   "codemirror_mode": {
    "name": "ipython",
    "version": 3
   },
   "version": "3.7.3-final"
  },
  "orig_nbformat": 2,
  "file_extension": ".py",
  "mimetype": "text/x-python",
  "name": "python",
  "npconvert_exporter": "python",
  "pygments_lexer": "ipython3",
  "version": 3,
  "kernelspec": {
   "name": "python3",
   "display_name": "Python 3",
   "language": "python"
  }
 },
 "cells": [
  {
   "cell_type": "code",
   "execution_count": 1,
   "metadata": {},
   "outputs": [],
   "source": [
    "import numpy as np\n",
    "from collections import Counter, defaultdict, namedtuple, deque\n",
    "from math import gcd, ceil\n",
    "import re\n",
    "import networkx as nx\n",
    "from dataclasses import dataclass\n",
    "import itertools\n",
    "from aoc_utils import *\n",
    "from matplotlib import pyplot as plt\n",
    "%load_ext autoreload\n",
    "autoreload = 2\n",
    "\n",
    "import string\n",
    "# plt.imshow(pic)"
   ]
  },
  {
   "cell_type": "code",
   "execution_count": null,
   "metadata": {},
   "outputs": [],
   "source": []
  },
  {
   "cell_type": "code",
   "execution_count": 2,
   "metadata": {},
   "outputs": [],
   "source": [
    "def get_orients(grid):\n",
    "    res = []\n",
    "    grid = np.array(grid)\n",
    "    for _ in range(2):\n",
    "        for j in range(4):\n",
    "            res.append(np.rot90(grid,j).tolist())\n",
    "        grid = np.flip(grid, axis = 1)\n",
    "    return res\n",
    " "
   ]
  },
  {
   "cell_type": "code",
   "execution_count": 5,
   "metadata": {},
   "outputs": [],
   "source": [
    "f =  open('input.txt').read()\n",
    "lines = [l.rstrip('\\n') for l in f.split('\\n\\n')]\n",
    "\n",
    "maxnum = int(len(lines)**0.5)\n",
    "tiles ={}\n",
    "for tile in lines:\n",
    "    id, grid = tile.split(':\\n')\n",
    "    _, idname = id.split()\n",
    "    idname = int(idname)\n",
    "    grid = [list(line)for line in grid.split('\\n')]\n",
    "    tiles[idname] = get_orients(grid)\n",
    "\n",
    "def findnext(tofill):\n",
    "    r, c = tofill\n",
    "    if c == maxnum - 1:\n",
    "        return (r+1, 0)\n",
    "    else:\n",
    "        return (r, c+1)"
   ]
  },
  {
   "cell_type": "code",
   "execution_count": 6,
   "metadata": {},
   "outputs": [
    {
     "output_type": "execute_result",
     "data": {
      "text/plain": [
       "8"
      ]
     },
     "metadata": {},
     "execution_count": 6
    }
   ],
   "source": [
    "len(tiles[3209])"
   ]
  },
  {
   "cell_type": "code",
   "execution_count": 7,
   "metadata": {},
   "outputs": [
    {
     "output_type": "stream",
     "name": "stdout",
     "text": [
      "8\n"
     ]
    },
    {
     "output_type": "execute_result",
     "data": {
      "text/plain": [
       "8"
      ]
     },
     "metadata": {},
     "execution_count": 7
    }
   ],
   "source": [
    "testing =tiles[3209]\n",
    "print(len(testing))\n",
    "test = [tuple(tuple(row) for row in test) for test in testing]\n",
    "len(list(set(test)))\n"
   ]
  },
  {
   "cell_type": "code",
   "execution_count": 8,
   "metadata": {},
   "outputs": [
    {
     "output_type": "execute_result",
     "data": {
      "text/plain": [
       "array([[['.', '.', '#', '#', '.', '#', '#', '#', '.', '#'],\n",
       "        ['#', '.', '.', '#', '.', '#', '.', '.', '.', '.'],\n",
       "        ['#', '.', '#', '#', '.', '.', '.', '.', '.', '#'],\n",
       "        ['#', '.', '.', '.', '.', '.', '.', '.', '.', '#'],\n",
       "        ['.', '.', '.', '.', '.', '.', '#', '.', '.', '.'],\n",
       "        ['.', '.', '#', '.', '.', '.', '#', '#', '#', '#'],\n",
       "        ['.', '.', '.', '.', '#', '.', '#', '.', '.', '.'],\n",
       "        ['#', '.', '.', '.', '.', '.', '.', '.', '.', '#'],\n",
       "        ['.', '.', '.', '.', '.', '#', '#', '#', '.', '.'],\n",
       "        ['.', '#', '#', '#', '#', '#', '.', '#', '.', '.']],\n",
       "\n",
       "       [['.', '.', '#', '.', '.', '.', '#', '#', '#', '.'],\n",
       "        ['#', '.', '.', '.', '.', '.', '.', '.', '.', '.'],\n",
       "        ['#', '.', '.', '.', '#', '.', '.', '#', '.', '#'],\n",
       "        ['#', '.', '.', '.', '.', '.', '.', '#', '#', '#'],\n",
       "        ['#', '.', '.', '#', '.', '.', '.', '.', '.', '.'],\n",
       "        ['#', '#', '.', '.', '.', '.', '.', '.', '#', '#'],\n",
       "        ['.', '#', '.', '#', '#', '#', '.', '.', '.', '#'],\n",
       "        ['#', '#', '.', '.', '#', '.', '.', '.', '.', '#'],\n",
       "        ['.', '.', '.', '.', '#', '.', '.', '.', '.', '.'],\n",
       "        ['.', '.', '#', '.', '#', '.', '#', '#', '.', '#']],\n",
       "\n",
       "       [['.', '.', '#', '.', '#', '#', '#', '#', '#', '.'],\n",
       "        ['.', '.', '#', '#', '#', '.', '.', '.', '.', '.'],\n",
       "        ['#', '.', '.', '.', '.', '.', '.', '.', '.', '#'],\n",
       "        ['.', '.', '.', '#', '.', '#', '.', '.', '.', '.'],\n",
       "        ['#', '#', '#', '#', '.', '.', '.', '#', '.', '.'],\n",
       "        ['.', '.', '.', '#', '.', '.', '.', '.', '.', '.'],\n",
       "        ['#', '.', '.', '.', '.', '.', '.', '.', '.', '#'],\n",
       "        ['#', '.', '.', '.', '.', '.', '#', '#', '.', '#'],\n",
       "        ['.', '.', '.', '.', '#', '.', '#', '.', '.', '#'],\n",
       "        ['#', '.', '#', '#', '#', '.', '#', '#', '.', '.']],\n",
       "\n",
       "       [['#', '.', '#', '#', '.', '#', '.', '#', '.', '.'],\n",
       "        ['.', '.', '.', '.', '.', '#', '.', '.', '.', '.'],\n",
       "        ['#', '.', '.', '.', '.', '#', '.', '.', '#', '#'],\n",
       "        ['#', '.', '.', '.', '#', '#', '#', '.', '#', '.'],\n",
       "        ['#', '#', '.', '.', '.', '.', '.', '.', '#', '#'],\n",
       "        ['.', '.', '.', '.', '.', '.', '#', '.', '.', '#'],\n",
       "        ['#', '#', '#', '.', '.', '.', '.', '.', '.', '#'],\n",
       "        ['#', '.', '#', '.', '.', '#', '.', '.', '.', '#'],\n",
       "        ['.', '.', '.', '.', '.', '.', '.', '.', '.', '#'],\n",
       "        ['.', '#', '#', '#', '.', '.', '.', '#', '.', '.']],\n",
       "\n",
       "       [['#', '.', '#', '#', '#', '.', '#', '#', '.', '.'],\n",
       "        ['.', '.', '.', '.', '#', '.', '#', '.', '.', '#'],\n",
       "        ['#', '.', '.', '.', '.', '.', '#', '#', '.', '#'],\n",
       "        ['#', '.', '.', '.', '.', '.', '.', '.', '.', '#'],\n",
       "        ['.', '.', '.', '#', '.', '.', '.', '.', '.', '.'],\n",
       "        ['#', '#', '#', '#', '.', '.', '.', '#', '.', '.'],\n",
       "        ['.', '.', '.', '#', '.', '#', '.', '.', '.', '.'],\n",
       "        ['#', '.', '.', '.', '.', '.', '.', '.', '.', '#'],\n",
       "        ['.', '.', '#', '#', '#', '.', '.', '.', '.', '.'],\n",
       "        ['.', '.', '#', '.', '#', '#', '#', '#', '#', '.']],\n",
       "\n",
       "       [['.', '.', '#', '.', '#', '.', '#', '#', '.', '#'],\n",
       "        ['.', '.', '.', '.', '#', '.', '.', '.', '.', '.'],\n",
       "        ['#', '#', '.', '.', '#', '.', '.', '.', '.', '#'],\n",
       "        ['.', '#', '.', '#', '#', '#', '.', '.', '.', '#'],\n",
       "        ['#', '#', '.', '.', '.', '.', '.', '.', '#', '#'],\n",
       "        ['#', '.', '.', '#', '.', '.', '.', '.', '.', '.'],\n",
       "        ['#', '.', '.', '.', '.', '.', '.', '#', '#', '#'],\n",
       "        ['#', '.', '.', '.', '#', '.', '.', '#', '.', '#'],\n",
       "        ['#', '.', '.', '.', '.', '.', '.', '.', '.', '.'],\n",
       "        ['.', '.', '#', '.', '.', '.', '#', '#', '#', '.']],\n",
       "\n",
       "       [['.', '#', '#', '#', '#', '#', '.', '#', '.', '.'],\n",
       "        ['.', '.', '.', '.', '.', '#', '#', '#', '.', '.'],\n",
       "        ['#', '.', '.', '.', '.', '.', '.', '.', '.', '#'],\n",
       "        ['.', '.', '.', '.', '#', '.', '#', '.', '.', '.'],\n",
       "        ['.', '.', '#', '.', '.', '.', '#', '#', '#', '#'],\n",
       "        ['.', '.', '.', '.', '.', '.', '#', '.', '.', '.'],\n",
       "        ['#', '.', '.', '.', '.', '.', '.', '.', '.', '#'],\n",
       "        ['#', '.', '#', '#', '.', '.', '.', '.', '.', '#'],\n",
       "        ['#', '.', '.', '#', '.', '#', '.', '.', '.', '.'],\n",
       "        ['.', '.', '#', '#', '.', '#', '#', '#', '.', '#']],\n",
       "\n",
       "       [['.', '#', '#', '#', '.', '.', '.', '#', '.', '.'],\n",
       "        ['.', '.', '.', '.', '.', '.', '.', '.', '.', '#'],\n",
       "        ['#', '.', '#', '.', '.', '#', '.', '.', '.', '#'],\n",
       "        ['#', '#', '#', '.', '.', '.', '.', '.', '.', '#'],\n",
       "        ['.', '.', '.', '.', '.', '.', '#', '.', '.', '#'],\n",
       "        ['#', '#', '.', '.', '.', '.', '.', '.', '#', '#'],\n",
       "        ['#', '.', '.', '.', '#', '#', '#', '.', '#', '.'],\n",
       "        ['#', '.', '.', '.', '.', '#', '.', '.', '#', '#'],\n",
       "        ['.', '.', '.', '.', '.', '#', '.', '.', '.', '.'],\n",
       "        ['#', '.', '#', '#', '.', '#', '.', '#', '.', '.']]], dtype='<U1')"
      ]
     },
     "metadata": {},
     "execution_count": 8
    }
   ],
   "source": [
    "np.flip(test, axis = 1)"
   ]
  },
  {
   "cell_type": "code",
   "execution_count": 10,
   "metadata": {},
   "outputs": [],
   "source": [
    "from typing      import Dict, Tuple, Set, List, Iterator, Optional, Union, Iterable\n",
    "\n",
    "ID = int\n",
    "Picture = List[str]\n",
    "def jigsaw_tiles(sections: List[List[str]]) -> Dict[ID, Picture]:\n",
    "    \"Return a dict of {tile_id: tile_picture}.\"\n",
    "    return {first(ints(header)): tile\n",
    "            for (header, *tile) in sections}\n",
    "    \n",
    "in20 = jigsaw_tiles(data(20, str.splitlines, sep='\\n\\n'))"
   ]
  },
  {
   "cell_type": "code",
   "execution_count": 17,
   "metadata": {},
   "outputs": [
    {
     "output_type": "execute_result",
     "data": {
      "text/plain": [
       "(450, 44)"
      ]
     },
     "metadata": {},
     "execution_count": 17
    }
   ],
   "source": [
    "(ints('blablabla 450 go44'))"
   ]
  },
  {
   "cell_type": "code",
   "execution_count": 14,
   "metadata": {
    "tags": []
   },
   "outputs": [],
   "source": [
    "\n",
    "def fits(assignments, tofill, cand_grid, debug=False):\n",
    "    valid = True\n",
    "    # print(assignments, tofill, cand_id)\n",
    "    if tofill == (0,0): return True\n",
    "    # print(str(cand_id) + 'tofill'+str(tofill))\n",
    "    for dr,dc in ((-1,0), (0,-1)):\n",
    "        r = tofill[0] + dr\n",
    "        c = tofill[1] + dc\n",
    "\n",
    "        if 0 <= r <= maxnum and 0 <= c <=maxnum:\n",
    "            if debug: print('checking with',r,c)\n",
    "            # valid nneighbor found\n",
    "            \n",
    "            if dr == -1:\n",
    "                first = cand_grid\n",
    "                second_id, second_orient = assignments[(r,c)] # has number and orient\n",
    "                second = tiles[second_id][second_orient]\n",
    "                # print(first, second)\n",
    "                if first[0] != second[-1]:\n",
    "                    if debug: print('dr false' + str(first[0]) + str(first[-1]))\n",
    "                    return False\n",
    "            \n",
    "            elif dc == -1:\n",
    "                first = cand_grid\n",
    "                second_id, second_orient = assignments[(r,c)] # has number and orient\n",
    "                second = tiles[second_id][second_orient]\n",
    "                \n",
    "                # print(first, second)\n",
    "                for i in range(10):\n",
    "                    if debug: print(first[i][0] + second[i][-1])\n",
    "                    if first[i][0] != second[i][-1]:\n",
    "                        if debug: print('dc false' + str(second))\n",
    "                        if debug: print('dc false' + str(first))\n",
    "                        return False\n",
    "    return valid\n",
    "# len(tiles[2909])\n"
   ]
  },
  {
   "cell_type": "code",
   "execution_count": 15,
   "metadata": {
    "tags": []
   },
   "outputs": [
    {
     "output_type": "error",
     "ename": "NameError",
     "evalue": "name 'bfs' is not defined",
     "traceback": [
      "\u001b[1;31m---------------------------------------------------------------------------\u001b[0m",
      "\u001b[1;31mNameError\u001b[0m                                 Traceback (most recent call last)",
      "\u001b[1;32m<ipython-input-15-87404227cf4a>\u001b[0m in \u001b[0;36m<module>\u001b[1;34m\u001b[0m\n\u001b[0;32m     36\u001b[0m \u001b[1;31m# cand = get_neigh(state)\u001b[0m\u001b[1;33m\u001b[0m\u001b[1;33m\u001b[0m\u001b[1;33m\u001b[0m\u001b[0m\n\u001b[0;32m     37\u001b[0m \u001b[1;31m# cand[1]\u001b[0m\u001b[1;33m\u001b[0m\u001b[1;33m\u001b[0m\u001b[1;33m\u001b[0m\u001b[0m\n\u001b[1;32m---> 38\u001b[1;33m \u001b[0mans\u001b[0m \u001b[1;33m=\u001b[0m \u001b[0mbfs\u001b[0m\u001b[1;33m(\u001b[0m\u001b[0mget_neigh\u001b[0m\u001b[1;33m,\u001b[0m \u001b[0mstate\u001b[0m\u001b[1;33m,\u001b[0m \u001b[1;33m(\u001b[0m\u001b[0mmaxnum\u001b[0m\u001b[1;33m,\u001b[0m\u001b[1;36m0\u001b[0m\u001b[1;33m)\u001b[0m\u001b[1;33m)\u001b[0m\u001b[1;33m\u001b[0m\u001b[1;33m\u001b[0m\u001b[0m\n\u001b[0m\u001b[0;32m     39\u001b[0m \u001b[1;31m# ans(0,0)[0]*ans(0,maxnum-1)[0]*ans(maxnum-1,0)[0]*ans(maxnum,maxnum)[0]\u001b[0m\u001b[1;33m\u001b[0m\u001b[1;33m\u001b[0m\u001b[1;33m\u001b[0m\u001b[0m\n",
      "\u001b[1;31mNameError\u001b[0m: name 'bfs' is not defined"
     ]
    }
   ],
   "source": [
    "count = 0\n",
    "def get_neigh(state):\n",
    "    neigh = []\n",
    "    tofill, assignments = state\n",
    "    # print(tofill)\n",
    "    global count\n",
    "    if tofill == (0,1): count+=1\n",
    "    assignments = eval(assignments)\n",
    "    # print(tofill)\n",
    "    assigned = [i[0] for i in assignments.values() if i]\n",
    "    # print(assigned)\n",
    "    for cand_id in tiles: # loop through all tiles\n",
    "        if cand_id not in assigned:\n",
    "            for orientation in range(0,8): # and per tile, through all orientations\n",
    "                cand_grid = tiles[cand_id][orientation]\n",
    "                # if assigned == [1951, 2311, 3079] and cand_id==2729 and orientation == 4: \n",
    "                #     # print('FOUNDDDDDD' + str(tofill)+ str(cand_id))\n",
    "                #     fits(assignments, tofill, cand_grid, debug=True)\n",
    "\n",
    "                # print(cand_grid)\n",
    "                if fits(assignments, tofill, cand_grid):\n",
    "                    # if assignments[(0,0)]==(1951,3): print('go for' + str(tofill)+ str(cand_id))\n",
    "                    nexttofill = findnext(tofill)\n",
    "                    nextstate = assignments.copy()\n",
    "                    nextstate[tofill] = (cand_id, orientation)\n",
    "                    # print(f'found candidate {tofill}:{cand_id} {orientation}, next to fill = {nexttofill}')\n",
    "\n",
    "                    neigh.append((nexttofill, str(nextstate)))\n",
    "    return neigh\n",
    "state = ((0,0), str({(i,j): None for i in range(maxnum) for j in range(maxnum)}))\n",
    "# tofill, assignments = state\n",
    "# assignments = eval(assignments)\n",
    "# tofill = (0,2)\n",
    "# assignments[(0,0)] = (1951,3)\n",
    "# state = (tofill, str(state))\n",
    "# cand = get_neigh(state)       \n",
    "# cand[1]\n",
    "ans = bfs(get_neigh, state, (maxnum,0))\n",
    "# ans(0,0)[0]*ans(0,maxnum-1)[0]*ans(maxnum-1,0)[0]*ans(maxnum,maxnum)[0]"
   ]
  },
  {
   "cell_type": "code",
   "execution_count": 157,
   "metadata": {},
   "outputs": [
    {
     "output_type": "execute_result",
     "data": {
      "text/plain": [
       "16937516456219"
      ]
     },
     "metadata": {},
     "execution_count": 157
    }
   ],
   "source": [
    "# nextval, answer = ans\n",
    "# answer = eval(answer)\n",
    "maxval = maxnum-1\n",
    "answer[0,maxval][0]*answer[maxval,0][0] * answer[0,0][0] * answer[maxval,maxval][0]"
   ]
  },
  {
   "cell_type": "code",
   "execution_count": 156,
   "metadata": {},
   "outputs": [
    {
     "output_type": "execute_result",
     "data": {
      "text/plain": [
       "{(0, 0): (2347, 0),\n",
       " (0, 1): (1871, 3),\n",
       " (0, 2): (2287, 6),\n",
       " (0, 3): (3709, 5),\n",
       " (0, 4): (3911, 6),\n",
       " (0, 5): (3529, 1),\n",
       " (0, 6): (1907, 5),\n",
       " (0, 7): (1319, 5),\n",
       " (0, 8): (1997, 5),\n",
       " (0, 9): (1399, 4),\n",
       " (0, 10): (1423, 4),\n",
       " (0, 11): (1747, 6),\n",
       " (1, 0): (1847, 1),\n",
       " (1, 1): (3803, 3),\n",
       " (1, 2): (3923, 0),\n",
       " (1, 3): (1361, 6),\n",
       " (1, 4): (2711, 5),\n",
       " (1, 5): (2039, 7),\n",
       " (1, 6): (1181, 1),\n",
       " (1, 7): (3361, 0),\n",
       " (1, 8): (1777, 1),\n",
       " (1, 9): (1103, 1),\n",
       " (1, 10): (3541, 5),\n",
       " (1, 11): (1601, 7),\n",
       " (2, 0): (1619, 0),\n",
       " (2, 1): (1097, 4),\n",
       " (2, 2): (1451, 0),\n",
       " (2, 3): (3089, 5),\n",
       " (2, 4): (1493, 0),\n",
       " (2, 5): (1439, 6),\n",
       " (2, 6): (3701, 0),\n",
       " (2, 7): (3917, 0),\n",
       " (2, 8): (3389, 6),\n",
       " (2, 9): (3251, 6),\n",
       " (2, 10): (3271, 6),\n",
       " (2, 11): (2503, 3),\n",
       " (3, 0): (2213, 4),\n",
       " (3, 1): (2081, 5),\n",
       " (3, 2): (2591, 0),\n",
       " (3, 3): (2957, 6),\n",
       " (3, 4): (1699, 0),\n",
       " (3, 5): (2909, 3),\n",
       " (3, 6): (2131, 3),\n",
       " (3, 7): (2273, 7),\n",
       " (3, 8): (2053, 1),\n",
       " (3, 9): (1163, 4),\n",
       " (3, 10): (3691, 0),\n",
       " (3, 11): (1289, 4),\n",
       " (4, 0): (1979, 3),\n",
       " (4, 1): (2683, 1),\n",
       " (4, 2): (1951, 7),\n",
       " (4, 3): (3517, 0),\n",
       " (4, 4): (3853, 7),\n",
       " (4, 5): (2621, 5),\n",
       " (4, 6): (1367, 7),\n",
       " (4, 7): (1697, 0),\n",
       " (4, 8): (2927, 6),\n",
       " (4, 9): (2393, 1),\n",
       " (4, 10): (1409, 4),\n",
       " (4, 11): (3767, 1),\n",
       " (5, 0): (1021, 5),\n",
       " (5, 1): (1483, 0),\n",
       " (5, 2): (2477, 7),\n",
       " (5, 3): (3623, 5),\n",
       " (5, 4): (2609, 6),\n",
       " (5, 5): (3209, 0),\n",
       " (5, 6): (2341, 4),\n",
       " (5, 7): (3467, 3),\n",
       " (5, 8): (3049, 1),\n",
       " (5, 9): (2269, 0),\n",
       " (5, 10): (1093, 4),\n",
       " (5, 11): (1823, 3),\n",
       " (6, 0): (2207, 1),\n",
       " (6, 1): (1129, 3),\n",
       " (6, 2): (1277, 1),\n",
       " (6, 3): (3137, 0),\n",
       " (6, 4): (2221, 0),\n",
       " (6, 5): (3019, 0),\n",
       " (6, 6): (2617, 4),\n",
       " (6, 7): (2029, 3),\n",
       " (6, 8): (3797, 7),\n",
       " (6, 9): (3329, 3),\n",
       " (6, 10): (3061, 0),\n",
       " (6, 11): (1733, 0),\n",
       " (7, 0): (3373, 6),\n",
       " (7, 1): (1231, 4),\n",
       " (7, 2): (2657, 0),\n",
       " (7, 3): (3673, 1),\n",
       " (7, 4): (1291, 6),\n",
       " (7, 5): (1223, 1),\n",
       " (7, 6): (2381, 0),\n",
       " (7, 7): (3083, 6),\n",
       " (7, 8): (3719, 0),\n",
       " (7, 9): (2267, 7),\n",
       " (7, 10): (2729, 4),\n",
       " (7, 11): (1889, 5),\n",
       " (8, 0): (3121, 4),\n",
       " (8, 1): (1171, 6),\n",
       " (8, 2): (2857, 6),\n",
       " (8, 3): (3347, 4),\n",
       " (8, 4): (2707, 7),\n",
       " (8, 5): (1933, 3),\n",
       " (8, 6): (2113, 5),\n",
       " (8, 7): (1427, 5),\n",
       " (8, 8): (2141, 6),\n",
       " (8, 9): (1787, 4),\n",
       " (8, 10): (1709, 5),\n",
       " (8, 11): (3449, 5),\n",
       " (9, 0): (2161, 6),\n",
       " (9, 1): (3581, 5),\n",
       " (9, 2): (2741, 5),\n",
       " (9, 3): (2027, 1),\n",
       " (9, 4): (3023, 5),\n",
       " (9, 5): (1213, 1),\n",
       " (9, 6): (1609, 3),\n",
       " (9, 7): (2557, 0),\n",
       " (9, 8): (1741, 5),\n",
       " (9, 9): (3889, 5),\n",
       " (9, 10): (2797, 1),\n",
       " (9, 11): (2467, 0),\n",
       " (10, 0): (1087, 5),\n",
       " (10, 1): (3677, 6),\n",
       " (10, 2): (2377, 7),\n",
       " (10, 3): (3407, 3),\n",
       " (10, 4): (2011, 6),\n",
       " (10, 5): (1627, 4),\n",
       " (10, 6): (2143, 1),\n",
       " (10, 7): (1667, 1),\n",
       " (10, 8): (3527, 5),\n",
       " (10, 9): (3793, 3),\n",
       " (10, 10): (2351, 4),\n",
       " (10, 11): (1597, 0),\n",
       " (11, 0): (2281, 1),\n",
       " (11, 1): (2579, 3),\n",
       " (11, 2): (3863, 4),\n",
       " (11, 3): (2339, 7),\n",
       " (11, 4): (1861, 4),\n",
       " (11, 5): (3821, 1),\n",
       " (11, 6): (3319, 0),\n",
       " (11, 7): (1549, 1),\n",
       " (11, 8): (1013, 0),\n",
       " (11, 9): (1151, 5),\n",
       " (11, 10): (2837, 4),\n",
       " (11, 11): (1811, 5)}"
      ]
     },
     "metadata": {},
     "execution_count": 156
    }
   ],
   "source": [
    "# # saving something as pickle file\n",
    "# import pickle\n",
    "# with open('dict', 'wb') as handle:\n",
    "#     pickle.dump(answer, handle, protocol=pickle.HIGHEST_PROTOCOL)\n",
    "# # opening pickle file\n",
    "import pickle\n",
    "f = open(\"dict\",\"rb\")\n",
    "answer = pickle.load(f)\n",
    "answer"
   ]
  },
  {
   "cell_type": "code",
   "execution_count": 166,
   "metadata": {},
   "outputs": [
    {
     "output_type": "stream",
     "name": "stdout",
     "text": [
      "0 0 0 2347 0\n",
      "[['#' '.' '.' '#' '.' '#' '.' '.']\n",
      " ['.' '#' '.' '.' '.' '.' '.' '.']\n",
      " ['.' '.' '#' '.' '.' '#' '#' '.']\n",
      " ['#' '.' '.' '#' '.' '.' '.' '#']\n",
      " ['.' '#' '.' '.' '#' '#' '#' '.']\n",
      " ['.' '.' '.' '.' '#' '#' '.' '#']\n",
      " ['.' '.' '.' '.' '#' '.' '.' '.']\n",
      " ['.' '.' '.' '.' '#' '.' '.' '.']]\n",
      "0 1 1 1871 3\n",
      "0 2 2 2287 6\n",
      "0 3 3 3709 5\n",
      "0 4 4 3911 6\n",
      "0 5 5 3529 1\n",
      "0 6 6 1907 5\n",
      "0 7 7 1319 5\n",
      "0 8 8 1997 5\n",
      "0 9 9 1399 4\n",
      "0 10 10 1423 4\n",
      "0 11 11 1747 6\n",
      "1 0 12 1847 1\n",
      "1 1 13 3803 3\n",
      "1 2 14 3923 0\n",
      "1 3 15 1361 6\n",
      "1 4 16 2711 5\n",
      "1 5 17 2039 7\n",
      "1 6 18 1181 1\n",
      "1 7 19 3361 0\n",
      "1 8 20 1777 1\n",
      "1 9 21 1103 1\n",
      "1 10 22 3541 5\n",
      "1 11 23 1601 7\n",
      "2 0 24 1619 0\n",
      "2 1 25 1097 4\n",
      "2 2 26 1451 0\n",
      "2 3 27 3089 5\n",
      "2 4 28 1493 0\n",
      "2 5 29 1439 6\n",
      "2 6 30 3701 0\n",
      "2 7 31 3917 0\n",
      "2 8 32 3389 6\n",
      "2 9 33 3251 6\n",
      "2 10 34 3271 6\n",
      "2 11 35 2503 3\n",
      "3 0 36 2213 4\n",
      "3 1 37 2081 5\n",
      "3 2 38 2591 0\n",
      "3 3 39 2957 6\n",
      "3 4 40 1699 0\n",
      "3 5 41 2909 3\n",
      "3 6 42 2131 3\n",
      "3 7 43 2273 7\n",
      "3 8 44 2053 1\n",
      "3 9 45 1163 4\n",
      "3 10 46 3691 0\n",
      "3 11 47 1289 4\n",
      "4 0 48 1979 3\n",
      "4 1 49 2683 1\n",
      "4 2 50 1951 7\n",
      "4 3 51 3517 0\n",
      "4 4 52 3853 7\n",
      "4 5 53 2621 5\n",
      "4 6 54 1367 7\n",
      "4 7 55 1697 0\n",
      "4 8 56 2927 6\n",
      "4 9 57 2393 1\n",
      "4 10 58 1409 4\n",
      "4 11 59 3767 1\n",
      "5 0 60 1021 5\n",
      "5 1 61 1483 0\n",
      "5 2 62 2477 7\n",
      "5 3 63 3623 5\n",
      "5 4 64 2609 6\n",
      "5 5 65 3209 0\n",
      "5 6 66 2341 4\n",
      "5 7 67 3467 3\n",
      "5 8 68 3049 1\n",
      "5 9 69 2269 0\n",
      "5 10 70 1093 4\n",
      "5 11 71 1823 3\n",
      "6 0 72 2207 1\n",
      "6 1 73 1129 3\n",
      "6 2 74 1277 1\n",
      "6 3 75 3137 0\n",
      "6 4 76 2221 0\n",
      "6 5 77 3019 0\n",
      "6 6 78 2617 4\n",
      "6 7 79 2029 3\n",
      "6 8 80 3797 7\n",
      "6 9 81 3329 3\n",
      "6 10 82 3061 0\n",
      "6 11 83 1733 0\n",
      "7 0 84 3373 6\n",
      "7 1 85 1231 4\n",
      "7 2 86 2657 0\n",
      "7 3 87 3673 1\n",
      "7 4 88 1291 6\n",
      "7 5 89 1223 1\n",
      "7 6 90 2381 0\n",
      "7 7 91 3083 6\n",
      "7 8 92 3719 0\n",
      "7 9 93 2267 7\n",
      "7 10 94 2729 4\n",
      "7 11 95 1889 5\n",
      "8 0 96 3121 4\n",
      "8 1 97 1171 6\n",
      "8 2 98 2857 6\n",
      "8 3 99 3347 4\n",
      "8 4 100 2707 7\n",
      "8 5 101 1933 3\n",
      "8 6 102 2113 5\n",
      "8 7 103 1427 5\n",
      "8 8 104 2141 6\n",
      "8 9 105 1787 4\n",
      "8 10 106 1709 5\n",
      "8 11 107 3449 5\n",
      "9 0 108 2161 6\n",
      "9 1 109 3581 5\n",
      "9 2 110 2741 5\n",
      "9 3 111 2027 1\n",
      "9 4 112 3023 5\n",
      "9 5 113 1213 1\n",
      "9 6 114 1609 3\n",
      "9 7 115 2557 0\n",
      "9 8 116 1741 5\n",
      "9 9 117 3889 5\n",
      "9 10 118 2797 1\n",
      "9 11 119 2467 0\n",
      "10 0 120 1087 5\n",
      "10 1 121 3677 6\n",
      "10 2 122 2377 7\n",
      "10 3 123 3407 3\n",
      "10 4 124 2011 6\n",
      "10 5 125 1627 4\n",
      "10 6 126 2143 1\n",
      "10 7 127 1667 1\n",
      "10 8 128 3527 5\n",
      "10 9 129 3793 3\n",
      "10 10 130 2351 4\n",
      "10 11 131 1597 0\n",
      "11 0 132 2281 1\n",
      "11 1 133 2579 3\n",
      "11 2 134 3863 4\n",
      "11 3 135 2339 7\n",
      "11 4 136 1861 4\n",
      "11 5 137 3821 1\n",
      "11 6 138 3319 0\n",
      "11 7 139 1549 1\n",
      "11 8 140 1013 0\n",
      "11 9 141 1151 5\n",
      "11 10 142 2837 4\n",
      "11 11 143 1811 5\n"
     ]
    },
    {
     "output_type": "execute_result",
     "data": {
      "text/plain": [
       "(96, 96)"
      ]
     },
     "metadata": {},
     "execution_count": 166
    }
   ],
   "source": [
    "def remove_pad(num, orient):\n",
    "    grid = tiles[num][orient]\n",
    "    arr = np.array(grid)\n",
    "    arr = arr[1:-1,1:-1]\n",
    "    return arr\n",
    "output = []\n",
    "for r in range(maxnum):\n",
    "    col = []\n",
    "    for c in range(maxnum):\n",
    "        index = r*maxnum+c\n",
    "        num, orient = list(answer.values())[index]\n",
    "        print (r,c,index, num, orient)\n",
    "        col.append(remove_pad(num,orient))\n",
    "        if index == 0:\n",
    "            print(col[0])\n",
    "    output.append(np.hstack(col))\n",
    "sea = np.vstack(output)\n",
    "sea.shape\n",
    "    \n",
    "        \n",
    "\n",
    "# seas = [remove_pad(num, orient) for num, orient in answer.values()]\n",
    "# sea = np.hstack(seas)"
   ]
  },
  {
   "cell_type": "code",
   "execution_count": 167,
   "metadata": {},
   "outputs": [
    {
     "output_type": "execute_result",
     "data": {
      "text/plain": [
       "(3, 20)"
      ]
     },
     "metadata": {},
     "execution_count": 167
    }
   ],
   "source": [
    "f=open('monster.txt')\n",
    "monster = [list(line.rstrip('\\n')) for line in f]\n",
    "for r in range(len(monster)):\n",
    "    for c in range(len(monster[0])):\n",
    "        if monster[r][c]==' ':monster[r][c]=False\n",
    "        if monster[r][c]=='#':monster[r][c]=True\n",
    "monster = np.array(monster)\n"
   ]
  },
  {
   "cell_type": "code",
   "execution_count": 168,
   "metadata": {},
   "outputs": [
    {
     "output_type": "execute_result",
     "data": {
      "text/plain": [
       "(96, 96)"
      ]
     },
     "metadata": {},
     "execution_count": 168
    }
   ],
   "source": [
    "sea.shape"
   ]
  },
  {
   "cell_type": "code",
   "execution_count": 169,
   "metadata": {},
   "outputs": [
    {
     "output_type": "stream",
     "name": "stdout",
     "text": [
      "8\n"
     ]
    }
   ],
   "source": [
    "seas = get_orients(sea)"
   ]
  },
  {
   "cell_type": "code",
   "execution_count": 170,
   "metadata": {},
   "outputs": [
    {
     "output_type": "stream",
     "name": "stdout",
     "text": [
      "foundm 2 1 11\n",
      "foundm 2 1 48\n",
      "foundm 2 8 19\n",
      "foundm 2 10 48\n",
      "foundm 2 16 22\n",
      "foundm 2 16 63\n",
      "foundm 2 21 54\n",
      "foundm 2 24 12\n",
      "foundm 2 30 65\n",
      "foundm 2 33 27\n",
      "foundm 2 36 5\n",
      "foundm 2 40 63\n",
      "foundm 2 44 10\n",
      "foundm 2 45 69\n",
      "foundm 2 50 19\n",
      "foundm 2 54 72\n",
      "foundm 2 55 33\n",
      "foundm 2 60 26\n",
      "foundm 2 65 71\n",
      "foundm 2 67 1\n",
      "foundm 2 71 63\n",
      "foundm 2 78 46\n",
      "foundm 2 84 35\n",
      "foundm 2 87 1\n",
      "foundm 2 90 72\n",
      "foundm 2 91 26\n"
     ]
    }
   ],
   "source": [
    "\n",
    "ans = 0\n",
    "# monsters = get_orients(monster)\n",
    "m = monster\n",
    "coor = {}\n",
    "for index, s in enumerate(seas):\n",
    "    sea = np.array(s)\n",
    "    for r in range(sea.shape[0]-m.shape[0]+1):\n",
    "        for c in range(sea.shape[1]-m.shape[1]+1):\n",
    "            if not '.' in sea[r:r+m.shape[0],c:c+m.shape[1]][m]:\n",
    "                print('foundm', index, r, c)\n",
    "                ans +=1"
   ]
  },
  {
   "cell_type": "code",
   "execution_count": 171,
   "metadata": {},
   "outputs": [
    {
     "output_type": "execute_result",
     "data": {
      "text/plain": [
       "1858"
      ]
     },
     "metadata": {},
     "execution_count": 171
    }
   ],
   "source": [
    "(sea=='#').sum() - ans*monster.sum()"
   ]
  },
  {
   "cell_type": "code",
   "execution_count": 142,
   "metadata": {},
   "outputs": [
    {
     "output_type": "execute_result",
     "data": {
      "text/plain": [
       "2204"
      ]
     },
     "metadata": {},
     "execution_count": 142
    }
   ],
   "source": [
    "(sea=='#').sum() "
   ]
  },
  {
   "cell_type": "code",
   "execution_count": 122,
   "metadata": {},
   "outputs": [
    {
     "output_type": "execute_result",
     "data": {
      "text/plain": [
       "14400"
      ]
     },
     "metadata": {},
     "execution_count": 122
    }
   ],
   "source": [
    "12*12*100"
   ]
  },
  {
   "cell_type": "code",
   "execution_count": null,
   "metadata": {},
   "outputs": [],
   "source": []
  },
  {
   "cell_type": "code",
   "execution_count": null,
   "metadata": {},
   "outputs": [],
   "source": []
  },
  {
   "cell_type": "code",
   "execution_count": 23,
   "metadata": {},
   "outputs": [],
   "source": [
    "from collections import deque\n",
    "def bfs(connections, start, goal=None):\n",
    "    \"\"\"\n",
    "    Requires a connections dict with tuples with neighbors per node.\n",
    "    Or a connections function returning neighbors per node\n",
    "\n",
    "    Returns\n",
    "    if goal == None:    return dict of locations with neighbor closest to start\n",
    "    elif goal found:    returns path to goal\n",
    "    else:               returns False\n",
    "    \"\"\"\n",
    "    seen = set() # the locations that have been explored\n",
    "    frontier = deque([start]) # the locations that still need to be visited\n",
    "    # paths = {start: [start]}\n",
    "    isfunction = callable(connections)\n",
    "    parents = {start: None}\n",
    "    counter = 0\n",
    "\n",
    "    def get_path(parents,start,goal):\n",
    "        # print(start,goals)\n",
    "        cur = goal\n",
    "        path = [cur]\n",
    "        while cur != start:\n",
    "            cur = parents[cur]\n",
    "            path.append(cur)\n",
    "        path.reverse()\n",
    "        return path\n",
    "\n",
    "    while frontier:\n",
    "        counter +=1\n",
    "        search = frontier.popleft()\n",
    "        if counter % 500 == 0: print(len(frontier))\n",
    "        # if counter % 500 == 0: print(search)\n",
    "        if isfunction: neighbors = connections(search)\n",
    "        else: neighbors = connections.get(search,None)\n",
    "        if neighbors:\n",
    "            for n in neighbors:\n",
    "                if n not in seen:\n",
    "\n",
    "                    seen.add(n)\n",
    "                    frontier.append(n)\n",
    "                    # paths[n] = paths[search]+[n]\n",
    "                    parents[n]= search\n",
    "                    if goal and n[0] == goal:\n",
    "                        # print('goal found')\n",
    "                        return n\n",
    "                        # return paths[goal],parents\n",
    "        seen.add(search)\n",
    "    if goal: return False\n",
    "    else: return parents"
   ]
  },
  {
   "cell_type": "code",
   "execution_count": null,
   "metadata": {},
   "outputs": [],
   "source": []
  },
  {
   "cell_type": "code",
   "execution_count": null,
   "metadata": {},
   "outputs": [],
   "source": []
  }
 ]
}