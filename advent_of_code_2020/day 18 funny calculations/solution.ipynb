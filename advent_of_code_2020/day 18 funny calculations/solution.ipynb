{
 "nbformat": 4,
 "nbformat_minor": 2,
 "metadata": {
  "language_info": {
   "name": "python",
   "codemirror_mode": {
    "name": "ipython",
    "version": 3
   },
   "version": "3.7.3-final"
  },
  "orig_nbformat": 2,
  "file_extension": ".py",
  "mimetype": "text/x-python",
  "name": "python",
  "npconvert_exporter": "python",
  "pygments_lexer": "ipython3",
  "version": 3,
  "kernelspec": {
   "name": "python3",
   "display_name": "Python 3",
   "language": "python"
  }
 },
 "cells": [
  {
   "cell_type": "code",
   "execution_count": null,
   "metadata": {},
   "outputs": [],
   "source": [
    "# use python eval sometimes. great trickdefining a class and operator overloading "
   ]
  },
  {
   "cell_type": "code",
   "execution_count": 16,
   "metadata": {},
   "outputs": [
    {
     "output_type": "execute_result",
     "data": {
      "text/plain": [
       "'4 * 3 * (2 * 6 + (3 * 3 + 8 + 7 + 2) + 9 + 8) * 4 * 6'"
      ]
     },
     "metadata": {},
     "execution_count": 16
    }
   ],
   "source": [
    "import aoc\n",
    "f = open('input.txt')\n",
    "lines = [line.rstrip('\\n') for line in f]\n",
    "lines[0]"
   ]
  },
  {
   "cell_type": "code",
   "execution_count": 53,
   "metadata": {
    "tags": []
   },
   "outputs": [
    {
     "output_type": "execute_result",
     "data": {
      "text/plain": [
       "21993583522852"
      ]
     },
     "metadata": {},
     "execution_count": 53
    }
   ],
   "source": [
    "# part 1\n",
    "def evaluate(line):\n",
    "    ans = 0\n",
    "    firstop = None\n",
    "    operator = None\n",
    "    wait = 0\n",
    "    for i, ch in enumerate(line):\n",
    "        if wait > 0: # still within parentheses, so ignore because the recursion took care of it\n",
    "            wait -= 1\n",
    "            continue\n",
    "        if ch == '(': # recurse the rest\n",
    "            ch, wait = evaluate(line[i+1:])\n",
    "        if ch == ')': \n",
    "            return firstop, i+1\n",
    "        if isinstance(ch, int):\n",
    "            if not firstop:\n",
    "                firstop = ch\n",
    "            else:\n",
    "                firstop = eval(f'{firstop}{operator}{ch}')\n",
    "        else:\n",
    "            operator = ch\n",
    "    return firstop\n",
    "ans = 0\n",
    "for line in lines:\n",
    "    line = line.replace(\"(\",\"( \").replace(\")\",\" )\")\n",
    "    line = aoc.to_int(line.split())\n",
    "    ans+= evaluate(line)\n",
    "ans\n"
   ]
  },
  {
   "cell_type": "code",
   "execution_count": 54,
   "metadata": {
    "tags": []
   },
   "outputs": [
    {
     "output_type": "execute_result",
     "data": {
      "text/plain": [
       "122438593522757"
      ]
     },
     "metadata": {},
     "execution_count": 54
    }
   ],
   "source": [
    "# part 2\n",
    "def findclosing(line):\n",
    "    count = 0\n",
    "    for index, i in enumerate(line):\n",
    "        if i  == \"(\": count+=1\n",
    "        if i == ')': count -=1\n",
    "        if count  == 0: return index\n",
    "\n",
    "def evaluate(line):\n",
    "    ans = 0\n",
    "    while '(' in line: # get rid of all the parenthesis blocks\n",
    "        first = line.index('(')\n",
    "        last = findclosing(line[first:])+first    \n",
    "        line[first:last+1] = [evaluate(line[first+1:last])]\n",
    "    while '+' in line: # reduce the '+' op_indexations\n",
    "        op_index = line.index('+')\n",
    "        line[op_index-1:op_index+2] = [line[op_index-1]+line[op_index+1]]\n",
    "\n",
    "    while '*' in line: # finally, reduce the '*'\n",
    "        op_index = line.index('*')\n",
    "        line[op_index-1:op_index+2] = [line[op_index-1]*line[op_index+1]]\n",
    "    return line[0]\n",
    "\n",
    "ans = 0\n",
    "for line in lines:\n",
    "    line = line.replace(\"(\",\"( \").replace(\")\",\" )\")\n",
    "    line = list(aoc.to_int(line.split()))\n",
    "    ans += evaluate(line)\n",
    "ans"
   ]
  },
  {
   "cell_type": "code",
   "execution_count": 39,
   "metadata": {
    "tags": []
   },
   "outputs": [
    {
     "output_type": "stream",
     "name": "stdout",
     "text": [
      "Part 1: 21993583522852\nPart 2: 122438593522757\n"
     ]
    }
   ],
   "source": [
    "# alternative solution from reddit, amazing idea with operator overloading\n",
    "import re\n",
    "class a(int):\n",
    "    def __mul__(self, b):\n",
    "        return a(int(self) + b)\n",
    "    def __add__(self, b):\n",
    "        return a(int(self) + b)\n",
    "    def __sub__(self, b):\n",
    "        return a(int(self) * b)\n",
    "\n",
    "def ev(expr, pt2=False):\n",
    "    expr = re.sub(r\"(\\d+)\", r\"a(\\1)\", expr)\n",
    "    expr = expr.replace(\"*\", \"-\")\n",
    "    if pt2:\n",
    "        expr = expr.replace(\"+\", \"*\")\n",
    "    return eval(expr, {}, {\"a\": a})\n",
    "\n",
    "print(\"Part 1:\", sum(ev(l) for l in lines))\n",
    "print(\"Part 2:\", sum(ev(l, pt2=True) for l in lines))"
   ]
  },
  {
   "cell_type": "code",
   "execution_count": 14,
   "metadata": {},
   "outputs": [
    {
     "output_type": "stream",
     "name": "stdout",
     "text": [
      "122438593522757\n"
     ]
    }
   ],
   "source": [
    "# another one from sophiebits, have to study the regex a bit\n",
    "\n",
    "def solve(line):\n",
    "    def doInner(inner):\n",
    "        # part 1:\n",
    "        # while '+' in inner or '*' in inner:\n",
    "        #     inner = re.sub('^(\\d+)\\s*\\+\\s*(\\d+)', lambda m: str(int(m.group(1)) + int(m.group(2))), inner)\n",
    "        #     inner = re.sub('^(\\d+)\\s*\\*\\s*(\\d+)', lambda m: str(int(m.group(1)) * int(m.group(2))), inner)\n",
    "        while '+' in inner:\n",
    "            inner = re.sub('(\\d+)\\s*\\+\\s*(\\d+)', lambda m: str(int(m.group(1)) + int(m.group(2))), inner)\n",
    "        while '*' in inner:\n",
    "            inner = re.sub('(\\d+)\\s*\\*\\s*(\\d+)', lambda m: str(int(m.group(1)) * int(m.group(2))), inner)\n",
    "        return inner\n",
    "    while '(' in line:\n",
    "        def doExpr(match):\n",
    "            inner = match.group(1)\n",
    "            return doInner(inner)\n",
    "        line = re.sub(r'\\(([^()]+)\\)', doExpr, line)\n",
    "    return doInner(line)\n",
    "\n",
    "total = 0\n",
    "for line in lines:\n",
    "    total += int(solve(line))\n",
    "\n",
    "print(total)"
   ]
  },
  {
   "cell_type": "code",
   "execution_count": null,
   "metadata": {},
   "outputs": [],
   "source": []
  }
 ]
}