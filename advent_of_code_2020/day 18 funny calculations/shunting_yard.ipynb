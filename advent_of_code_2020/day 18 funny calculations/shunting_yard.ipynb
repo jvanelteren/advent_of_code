{
 "metadata": {
  "language_info": {
   "codemirror_mode": {
    "name": "ipython",
    "version": 3
   },
   "file_extension": ".py",
   "mimetype": "text/x-python",
   "name": "python",
   "nbconvert_exporter": "python",
   "pygments_lexer": "ipython3",
   "version": "3.7.3-final"
  },
  "orig_nbformat": 2,
  "kernelspec": {
   "name": "python3",
   "display_name": "Python 3",
   "language": "python"
  }
 },
 "nbformat": 4,
 "nbformat_minor": 2,
 "cells": [
  {
   "cell_type": "code",
   "execution_count": 301,
   "metadata": {},
   "outputs": [],
   "source": [
    "# https://en.wikipedia.org/wiki/Associative_property\n",
    "# https://en.wikipedia.org/wiki/Shunting-yard_algorithm\n",
    "def is_callable_string(s):\n",
    "    try:\n",
    "        res = eval(f'callable({s})')\n",
    "    except Exception:\n",
    "        return False\n",
    "    return True\n",
    "\n",
    "from collections import defaultdict\n",
    "ops = {\n",
    "    '+' : operator.add,\n",
    "    '-' : operator.sub,\n",
    "    '*' : operator.mul,\n",
    "    '/' : operator.truediv,  # use operator.div for Python 2\n",
    "    ':' : operator.truediv,  # use operator.div for Python 2\n",
    "    '%' : operator.mod,\n",
    "    '^' : operator.xor,\n",
    "    '**' : pow,\n",
    "}\n",
    "\n",
    "\n",
    "left_associative = {'-', '/'}\n",
    "import math\n",
    "from collections import deque\n",
    "\n",
    "\n",
    "# 3 + 4 × 2 ÷ ( 1 − 5 ) ^ 2 ** 3\n",
    "string_of_interest = '3 + 4 * 2 / ( 1 - 5 ) ** 2 ** 3'\n",
    "string_of_interest = '8 * 5'\n",
    "# string_of_interest = '2 + 2 * 4'\n",
    "\n",
    "list_of_symbols = [int(s) if s.isnumeric() else s for s in string_of_interest.replace(',','').split()]\n",
    "def get_postfix(list_of_symbols):\n",
    "    op_stack = deque()\n",
    "    output_stack = deque()\n",
    "\n",
    "    for symbol in list_of_symbols:\n",
    "        # print(output_stack, op_stack)\n",
    "        if isinstance(symbol, int): \n",
    "            output_stack.append(symbol)\n",
    "        elif is_callable_string(symbol): \n",
    "            op_stack.append(symbol)\n",
    "        elif symbol in prec:\n",
    "            while (op_stack and op_stack[-1] != '(' and (\n",
    "                prec[op_stack[-1]] > prec[symbol] or \n",
    "                (prec[op_stack[-1]] == prec[symbol] and symbol in '-/*+'))):\n",
    "                output_stack.append(op_stack.pop())\n",
    "            op_stack.append(symbol)\n",
    "            # print('hi',op_stack)\n",
    "        \n",
    "        elif symbol == '(': op_stack.append(symbol)\n",
    "        elif symbol == ')': \n",
    "            while op_stack[-1] != '(':\n",
    "                output_stack.append(op_stack.pop())\n",
    "            if op_stack and op_stack[-1]=='(':\n",
    "                op_stack.pop() # remove the (\n",
    "            if op_stack and callable(op_stack[-1]):\n",
    "                output_stack.append(op_stack.pop())\n",
    "    while op_stack:\n",
    "        output_stack.append(op_stack.pop())\n",
    "    \n",
    "    return output_stack\n",
    "\n"
   ]
  },
  {
   "cell_type": "code",
   "execution_count": 302,
   "metadata": {},
   "outputs": [],
   "source": [
    "# string_of_interest = '2 3 1 * + 9 -'\n",
    "# output_stack = [int(s) if s.isnumeric() else s for s in string_of_interest.replace(',','').split()]\n",
    "\n",
    "def eval_postfix(output_stack):\n",
    "    res = []\n",
    "    for symbol in output_stack:\n",
    "        if isinstance(symbol, int): res.append(symbol)\n",
    "        else:\n",
    "            second, first = res.pop(), res.pop()\n",
    "            if symbol in ops:\n",
    "                temp = ops[symbol](first, second)\n",
    "            else:\n",
    "                temp = eval(f'{symbol}({first},{second})')\n",
    "            res.append(temp)\n",
    "    return res[0]\n"
   ]
  },
  {
   "cell_type": "code",
   "execution_count": 304,
   "metadata": {
    "tags": []
   },
   "outputs": [
    {
     "output_type": "execute_result",
     "data": {
      "text/plain": [
       "21993583522852"
      ]
     },
     "metadata": {},
     "execution_count": 304
    }
   ],
   "source": [
    "\n",
    "prec = defaultdict(lambda: int(9))\n",
    "prec.update({'*':4, \n",
    "            '+':4,\n",
    "            '/':4, \n",
    "            ':':4,\n",
    "            '-':2,\n",
    "            '^':5,\n",
    "            '**':8})\n",
    "            \n",
    "import aoc \n",
    "f = open('input.txt')\n",
    "lines = [line.rstrip('\\n') for line in f]\n",
    "ans = 0\n",
    "for line in lines:\n",
    "    line = line.replace(\"(\",\"( \").replace(\")\",\" )\")\n",
    "    line = aoc.to_int(line.split())\n",
    "    # print(line)\n",
    "    res = eval_postfix(get_postfix(line))\n",
    "    # print(res)\n",
    "    ans+=res\n",
    "ans"
   ]
  },
  {
   "cell_type": "code",
   "execution_count": 296,
   "metadata": {},
   "outputs": [],
   "source": []
  },
  {
   "cell_type": "code",
   "execution_count": null,
   "metadata": {},
   "outputs": [],
   "source": [
    "21993583522852\n",
    "122438593522757"
   ]
  }
 ]
}