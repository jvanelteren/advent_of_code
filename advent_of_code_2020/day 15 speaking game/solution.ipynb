{
 "nbformat": 4,
 "nbformat_minor": 2,
 "metadata": {
  "language_info": {
   "name": "python",
   "codemirror_mode": {
    "name": "ipython",
    "version": 3
   },
   "version": "3.7.3-final"
  },
  "orig_nbformat": 2,
  "file_extension": ".py",
  "mimetype": "text/x-python",
  "name": "python",
  "npconvert_exporter": "python",
  "pygments_lexer": "ipython3",
  "version": 3,
  "kernelspec": {
   "name": "python3",
   "display_name": "Python 3",
   "language": "python"
  }
 },
 "cells": [
  {
   "cell_type": "code",
   "execution_count": null,
   "metadata": {},
   "outputs": [],
   "source": [
    "# Learnings untill day 15\n",
    "# it's not worth getting up at 6 when the site is down\n",
    "# again a reminder to be very careful van coding the logic of a statement e.g. not use != when\n",
    "# use re.match().groups() to output a tuple with the matching groups\n",
    "# if you have to go over the input once, do it once instead of parsing everything into lists and then iterate over len(list)\n",
    "# never forget: np.tile(arr, repeats=(r,c)) repeats an array\n",
    "# never forget 2: tiling is not necessary if you use modulo, e.g. % n_cols\n",
    "# when you have blank lines in the input file you can split using .split('\\n\\n')\n",
    "# you can make an integer with a certain base by int('11111', base = 2)\n",
    "# str.replace doesn't work inplace but returns a new string object\n",
    "# good parsing helps a ton. also make sure to think through the algo for a bit\n",
    "# it can be useful to declare a reversed dictionary, when you need to traverse the problem in the reversed way\n",
    "# reminder var = {} declares a dict not a set\n",
    "# when the description speaks about a trillion possibilities, DONT BE STUBBORN because you don't see the solution straightaway and try to enumerate\n",
    "# when you use your own library make sure to have tested the functions\n",
    "# the x axis of complex numbers is the real number and y axis is imaginary\n",
    "# spend 30 minutes to find out I did -= instead of +=\n",
    "# i should learn some modular arithmathic\n",
    "# simple parsing rstrip('\\n').split(' = ') works much easier then some custom parsing, prevents problems later on\n",
    "# the test case for star 1 is not always applicable to start 2, in my case it froze the code (too many X's)\n",
    "# take care of parenthesis when i,(j,k) = [1,(2,3)] The tuple is only unpacked correctly if j,k are parenthesized\n",
    "# dont stick to a list or array when numbers are getting very large. often you need to switch to a dictionary"
   ]
  },
  {
   "cell_type": "code",
   "execution_count": 3,
   "metadata": {},
   "outputs": [
    {
     "output_type": "execute_result",
     "data": {
      "text/plain": [
       "981"
      ]
     },
     "metadata": {},
     "execution_count": 3
    }
   ],
   "source": [
    "s = [8,0,17,4,1,12]\n",
    "index = 2020\n",
    "start = [0]*index\n",
    "\n",
    "for i,val in enumerate(s):\n",
    "    start[i]=val\n",
    "current = len(s)\n",
    "\n",
    "prev = start[current]\n",
    "while current < index:\n",
    "    if start[:current].count(prev) > 1:\n",
    "        start[current] = start[current-2::-1].index(prev)+1\n",
    "        prev = start[current]\n",
    "    else:\n",
    "        start[current] = 0\n",
    "        prev = 0\n",
    "    current+=1\n",
    "start[index-1]"
   ]
  },
  {
   "cell_type": "code",
   "execution_count": 32,
   "metadata": {},
   "outputs": [
    {
     "output_type": "execute_result",
     "data": {
      "text/plain": [
       "164878"
      ]
     },
     "metadata": {},
     "execution_count": 32
    }
   ],
   "source": [
    "s = [8,0,17,4,1,12]\n",
    "\n",
    "lastpos = {}\n",
    "for i,val in enumerate(s):\n",
    "    lastpos[val] = i\n",
    "\n",
    "current = len(lastpos)\n",
    "first_insert = True\n",
    "\n",
    "while current < 30000000:\n",
    "    if first_insert:\n",
    "        prev = lastpos[0]\n",
    "        lastpos[0] = current\n",
    "        first_insert = False\n",
    "        lastspoken = 0\n",
    "    else:\n",
    "        to_ins = current-prev-1\n",
    "        lastspoken = to_ins\n",
    "\n",
    "        if to_ins in lastpos:\n",
    "            first_insert=False\n",
    "            prev = lastpos[to_ins]\n",
    "        else:\n",
    "            first_insert = True\n",
    "        lastpos[to_ins]=current\n",
    "    current+=1\n",
    "lastspoken"
   ]
  }
 ]
}