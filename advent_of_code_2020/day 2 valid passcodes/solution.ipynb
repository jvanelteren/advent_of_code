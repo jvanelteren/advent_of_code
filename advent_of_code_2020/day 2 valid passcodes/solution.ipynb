{
 "nbformat": 4,
 "nbformat_minor": 2,
 "metadata": {
  "language_info": {
   "name": "python",
   "codemirror_mode": {
    "name": "ipython",
    "version": 3
   },
   "version": "3.7.3-final"
  },
  "orig_nbformat": 2,
  "file_extension": ".py",
  "mimetype": "text/x-python",
  "name": "python",
  "npconvert_exporter": "python",
  "pygments_lexer": "ipython3",
  "version": 3,
  "kernelspec": {
   "name": "python3",
   "display_name": "Python 3"
  }
 },
 "cells": [
  {
   "cell_type": "code",
   "execution_count": 1,
   "metadata": {},
   "outputs": [],
   "source": [
    "# it's not worth getting up at 6 when the site is down\n",
    "# again a reminder to be very careful van coding the logic of a statement e.g. not use != when\n",
    "# use re.match().groups() to output a tuple with the matching groups\n",
    "# if you have to go over the input once, do it once instead of parsing everything into lists and then iterate over len(list)\n",
    "# it is possible to write a < b < c"
   ]
  },
  {
   "cell_type": "code",
   "execution_count": 2,
   "metadata": {},
   "outputs": [
    {
     "output_type": "execute_result",
     "data": {
      "text/plain": [
       "'13-17 s: ssssssssssssgsssj'"
      ]
     },
     "metadata": {},
     "execution_count": 2
    }
   ],
   "source": [
    "f=open('input.txt')\n",
    "lines = [line.rstrip('\\n') for line in f]\n",
    "lines[0]"
   ]
  },
  {
   "cell_type": "code",
   "execution_count": 3,
   "metadata": {
    "tags": []
   },
   "outputs": [
    {
     "output_type": "execute_result",
     "data": {
      "text/plain": [
       "(546, 275)"
      ]
     },
     "metadata": {},
     "execution_count": 3
    }
   ],
   "source": [
    "import aoc, re\n",
    "part1 = 0\n",
    "part2 = 0\n",
    "for line in lines:\n",
    "    bounds, key, code = line.split(' ')\n",
    "    bounds = aoc.to_int(bounds.split('-'))\n",
    "    key = key[0]\n",
    "    # print(bounds, key, code)\n",
    "    if bounds[0] <= code.count(key) <= bounds[1]: part1+=1\n",
    "    if (code[bounds[0]-1] == key) + (code[bounds[1]-1] == key) == 1: part2+=1\n",
    "part1, part2"
   ]
  },
  {
   "cell_type": "code",
   "execution_count": 4,
   "metadata": {
    "tags": []
   },
   "outputs": [
    {
     "output_type": "execute_result",
     "data": {
      "text/plain": [
       "(546, 275)"
      ]
     },
     "metadata": {},
     "execution_count": 4
    }
   ],
   "source": [
    "# with regex\n",
    "part1 = 0\n",
    "part2 = 0\n",
    "for line in lines:\n",
    "    a, b, code, check = re.match(r'(\\d+)-(\\d+) (.): (\\w+)',line).groups()\n",
    "    a,b = int(a), int(b)\n",
    "    if a <= check.count(code) <=  b: part1 += 1\n",
    "    if (check[a-1] == code) + (check[b-1] == code) == 1: part2+=1\n",
    "part1, part2"
   ]
  },
  {
   "cell_type": "code",
   "execution_count": null,
   "metadata": {},
   "outputs": [],
   "source": []
  }
 ]
}