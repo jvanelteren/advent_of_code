{
 "nbformat": 4,
 "nbformat_minor": 2,
 "metadata": {
  "language_info": {
   "name": "python",
   "codemirror_mode": {
    "name": "ipython",
    "version": 3
   },
   "version": "3.7.3-final"
  },
  "orig_nbformat": 2,
  "file_extension": ".py",
  "mimetype": "text/x-python",
  "name": "python",
  "npconvert_exporter": "python",
  "pygments_lexer": "ipython3",
  "version": 3,
  "kernelspec": {
   "name": "python3",
   "display_name": "Python 3",
   "language": "python"
  }
 },
 "cells": [
  {
   "cell_type": "code",
   "execution_count": 81,
   "metadata": {},
   "outputs": [],
   "source": [
    "import numpy as np\n",
    "from collections import Counter, defaultdict, namedtuple, deque\n",
    "from math import gcd, ceil\n",
    "import re\n",
    "import networkx as nx\n",
    "from dataclasses import dataclass\n",
    "import itertools\n",
    "import aoc_utils\n",
    "from matplotlib import pyplot as plt\n",
    "import string\n",
    "# plt.imshow(pic)\n",
    "from itertools import product"
   ]
  },
  {
   "cell_type": "code",
   "execution_count": 3,
   "metadata": {},
   "outputs": [],
   "source": [
    "f = open('test.txt').read().split('\\n\\n')\n",
    "rules, messages = [part.split('\\n') for part in f]\n",
    "\n",
    "rulebook = {}\n",
    "for r in rules:\n",
    "    num, ins = r.split(': ')\n",
    "    ins = ins.replace('\"','')\n",
    "    ins_piped = tuple(tuple(i.split()) for i in ins.split('|'))\n",
    "    if len(ins_piped[0])==1 and ins_piped[0][0] in 'ab':\n",
    "        ins_piped = ins_piped[0]\n",
    "    rulebook[num]=ins_piped"
   ]
  },
  {
   "cell_type": "code",
   "execution_count": 2,
   "metadata": {},
   "outputs": [
    {
     "output_type": "stream",
     "name": "stdout",
     "text": [
      "Part 1: 129\n",
      "Part 2: 243\n"
     ]
    }
   ],
   "source": [
    "def test(s,seq):\n",
    "    if s == '' or seq == []:\n",
    "        return s == '' and seq == [] # if both are empty, True. If only one, False.\n",
    "    \n",
    "    r = rules[seq[0]]\n",
    "    if '\"' in r:\n",
    "        if s[0] in r:\n",
    "            return test(s[1:], seq[1:]) # strip first character\n",
    "        else:\n",
    "            return False # wrong first character\n",
    "    else:\n",
    "        return any(test(s, t + seq[1:]) for t in r) # expand first term\n",
    "\n",
    "def parse_rule(s):\n",
    "    n,e = s.split(\": \")\n",
    "    if '\"' not in e:\n",
    "        e = [[int(r) for r in t.split()] for t in e.split(\"|\")]\n",
    "    return (int(n),e)\n",
    "\n",
    "rule_text, messages = [x.splitlines() for x in open(\"input.txt\").read().split(\"\\n\\n\")]\n",
    "rules = dict(parse_rule(s) for s in rule_text)            \n",
    "print(\"Part 1:\", sum(test(m,[0]) for m in messages))       \n",
    "\n",
    "rule_text += [\"8: 42 | 42 8\",\"11: 42 31 | 42 11 31\"]\n",
    "rules = dict(parse_rule(s) for s in rule_text)\n",
    "print(\"Part 2:\", sum(test(m,[0]) for m in messages)) "
   ]
  },
  {
   "cell_type": "code",
   "execution_count": null,
   "metadata": {},
   "outputs": [],
   "source": []
  },
  {
   "cell_type": "code",
   "execution_count": null,
   "metadata": {},
   "outputs": [],
   "source": []
  },
  {
   "cell_type": "code",
   "execution_count": null,
   "metadata": {},
   "outputs": [],
   "source": []
  },
  {
   "cell_type": "code",
   "execution_count": null,
   "metadata": {},
   "outputs": [],
   "source": []
  },
  {
   "cell_type": "code",
   "execution_count": null,
   "metadata": {},
   "outputs": [],
   "source": []
  },
  {
   "cell_type": "code",
   "execution_count": 182,
   "metadata": {},
   "outputs": [],
   "source": [
    "class CFG():\n",
    "    \"\"\"\"Takes a grammer as dict with tuple of options as values. Terminal values should not be in a tuple but as a string\n",
    "    Usage:\n",
    "        cfg = CFG(grammar_dict)\n",
    "            reverse as optional parameter when k,v are reversed\n",
    "        cfg converts the grammar to Choemsky Normal form by taking care of options and unit productions\n",
    "    \"\"\"\n",
    "    def __init__(self, grammar = None, reverse = True):\n",
    "        self.outcomes = defaultdict(set)\n",
    "        if grammar:\n",
    "            # convert grammar to CNF and add terminals to outcomes\n",
    "            self.grammar = self.grammar_to_cnf(grammar, reverse)\n",
    "            self.outcomes.update({k:v for k,v in self.grammar.items() if isinstance(k, str)})\n",
    "\n",
    "\n",
    "    def grammar_to_cnf(self, grammar, reverse):\n",
    "        grammar = self.remove_options(grammar, reverse)\n",
    "        grammar = self.remove_triplets(grammar)\n",
    "        return self.remove_unit_productions(grammar)\n",
    "\n",
    "    def remove_triplets(self, grammar):\n",
    "        new_grammar = defaultdict(set)\n",
    "        for k,v in grammar.items():\n",
    "            if len(k) > 2:\n",
    "                for i, t in enumerate(k[0:-2]):\n",
    "                    print(i,t)\n",
    "                    newvar = str(v) + '_' + str(i)\n",
    "                    oldvar = str(v) + '_' + str(i-1)\n",
    "                    if i == 0:\n",
    "                        new_grammar[t,newvar] = v\n",
    "                    else:\n",
    "                        new_grammar[t,newvar] = {oldvar}\n",
    "                new_grammar[k[-2:]].add(newvar)\n",
    "            else:\n",
    "                new_grammar[k] |= v\n",
    "        return new_grammar\n",
    "            \n",
    "\n",
    "    def remove_options(self, grammar, reverse):\n",
    "        # step to get to Chomsky Normal Form\n",
    "        new_grammar = defaultdict(set)\n",
    "        if reverse:\n",
    "            for k,v in grammar.items():\n",
    "                for option in v:\n",
    "                    new_grammar[option].add(k)\n",
    "        else:\n",
    "            for k,v in grammar.items():\n",
    "                for option in k:\n",
    "                    new_grammar[option].add(v)\n",
    "        return new_grammar\n",
    "        \n",
    "    def remove_unit_productions(self,grammar):\n",
    "        # step to get to Choemsky Normal Form\n",
    "        singulars = {k[0]:next(iter(v)) for k,v in grammar.items() if len(k)!=2 and not isinstance(k,str)}\n",
    "        for k,v in singulars.items():\n",
    "            for j in grammar.values():\n",
    "                if k in j:\n",
    "                    j.add(v)\n",
    "        return grammar\n",
    "\n",
    "\n",
    "    def pieces(self, test,l):\n",
    "        assert isinstance(test, str)\n",
    "        # gets all possibilities of len out of a string\n",
    "        # parts = [test[i:] for i in range(l)]\n",
    "        return {test[i:i+l] for i in range(len(test)-l+1) if test[i:i+l] not in self.outcomes}\n",
    "        # return {comb for comb in zip(*parts)}\n",
    "\n",
    "    def splitter(self,option):\n",
    "        assert isinstance(option, str)\n",
    "        # splits list into all options of two\n",
    "        return {(option[:i], option[i:]) for i in range(1,len(option))}\n",
    "\n",
    "    def check_possible_option(self, option):\n",
    "        first = self.outcomes.get(option[0],[])\n",
    "        second = self.outcomes.get(option[1],[])\n",
    "        res = set()\n",
    "        for potential in product(first,second):\n",
    "            if potential in self.grammar: res |= self.grammar[potential]\n",
    "        return res\n",
    "\n",
    "    def solve(self, messages):\n",
    "        for num, m in enumerate(messages):\n",
    "            if num % 40 == 0: print(num)\n",
    "            for i in range(2,len(m)+1):\n",
    "                for j in self.pieces(m, i):\n",
    "                    for k in self.splitter(j):\n",
    "                        res = self.check_possible_option(k)\n",
    "                        if res:\n",
    "                            self.outcomes[j] |= res\n",
    "        return self.outcomes\n",
    "          \n",
    "cfg = CFG()\n",
    "assert cfg.pieces('abcde',3) == {'abc', 'bcd', 'cde'}\n",
    "assert cfg.splitter('abcd') == {('a', 'bcd'), ('ab', 'cd'), ('abc', 'd')}\n"
   ]
  },
  {
   "cell_type": "code",
   "execution_count": 183,
   "metadata": {},
   "outputs": [
    {
     "output_type": "stream",
     "name": "stdout",
     "text": [
      "0 4\n0\n"
     ]
    },
    {
     "output_type": "execute_result",
     "data": {
      "text/plain": [
       "2"
      ]
     },
     "metadata": {},
     "execution_count": 183
    }
   ],
   "source": [
    "cfg = CFG(rulebook)\n",
    "out = cfg.solve(messages)\n",
    "sum([1 for m in messages if (m in out) and ('0' in out[m])])"
   ]
  },
  {
   "cell_type": "code",
   "execution_count": 184,
   "metadata": {},
   "outputs": [
    {
     "output_type": "execute_result",
     "data": {
      "text/plain": [
       "{'0': (('4', '1', '5'),),\n",
       " '1': (('2', '3'), ('3', '2')),\n",
       " '2': (('4', '4'), ('5', '5')),\n",
       " '3': (('4', '5'), ('5', '4')),\n",
       " '4': ('a',),\n",
       " '5': ('b',)}"
      ]
     },
     "metadata": {},
     "execution_count": 184
    }
   ],
   "source": [
    "rulebook"
   ]
  },
  {
   "cell_type": "code",
   "execution_count": 108,
   "metadata": {
    "tags": []
   },
   "outputs": [
    {
     "output_type": "stream",
     "name": "stdout",
     "text": [
      "called ababbb 0\ncalled ababbb 4\nendpoint reached True\ncalled babbb 1\ncalled babbb 2\ncalled babbb 4\nendpoint reached False\ncalled babbb 5\nendpoint reached True\ncalled abbb 5\nendpoint reached False\nreturning set()\ncalled babbb 3\ncalled babbb 4\nendpoint reached False\ncalled babbb 5\nendpoint reached True\ncalled abbb 4\nendpoint reached True\nreturning {2}\ncalled bbb 2\ncalled bbb 4\nendpoint reached False\ncalled bbb 5\nendpoint reached True\ncalled bb 5\nendpoint reached True\nreturning {2}\nreturning {4}\ncalled b 5\nendpoint reached True\nreturning {6}\ncalled bababa 0\ncalled bababa 4\nendpoint reached False\nreturning set()\ncalled abbbab 0\ncalled abbbab 4\nendpoint reached True\ncalled bbbab 1\ncalled bbbab 2\ncalled bbbab 4\nendpoint reached False\ncalled bbbab 5\nendpoint reached True\ncalled bbab 5\nendpoint reached True\nreturning {2}\ncalled bab 3\ncalled bab 4\nendpoint reached False\ncalled bab 5\nendpoint reached True\ncalled ab 4\nendpoint reached True\nreturning {2}\ncalled bbbab 3\ncalled bbbab 4\nendpoint reached False\ncalled bbbab 5\nendpoint reached True\ncalled bbab 4\nendpoint reached False\nreturning set()\nreturning {4}\ncalled b 5\nendpoint reached True\nreturning {6}\ncalled aaabbb 0\ncalled aaabbb 4\nendpoint reached True\ncalled aabbb 1\ncalled aabbb 2\ncalled aabbb 4\nendpoint reached True\ncalled abbb 4\nendpoint reached True\ncalled aabbb 5\nendpoint reached False\nreturning {2}\ncalled bbb 3\ncalled bbb 4\nendpoint reached False\ncalled bbb 5\nendpoint reached True\ncalled bb 4\nendpoint reached False\nreturning set()\ncalled aabbb 3\ncalled aabbb 4\nendpoint reached True\ncalled abbb 5\nendpoint reached False\ncalled aabbb 5\nendpoint reached False\nreturning set()\nreturning set()\nreturning set()\ncalled aaaabbb 0\ncalled aaaabbb 4\nendpoint reached True\ncalled aaabbb 1\ncalled aaabbb 2\ncalled aaabbb 4\nendpoint reached True\ncalled aabbb 4\nendpoint reached True\ncalled aaabbb 5\nendpoint reached False\nreturning {2}\ncalled abbb 3\ncalled abbb 4\nendpoint reached True\ncalled bbb 5\nendpoint reached True\ncalled abbb 5\nendpoint reached False\nreturning {2}\ncalled aaabbb 3\ncalled aaabbb 4\nendpoint reached True\ncalled aabbb 5\nendpoint reached False\ncalled aaabbb 5\nendpoint reached False\nreturning set()\nreturning {4}\ncalled bb 5\nendpoint reached True\nreturning {6}\nPart 1: 2\n"
     ]
    }
   ],
   "source": [
    "from collections import namedtuple\n",
    "\n",
    "def test(message, rules, r):\n",
    "    print('called', message, r)\n",
    "    if rules[r]=='a' or rules[r]=='b':\n",
    "        print('endpoint reached',message and message[0] == rules[r])\n",
    "        return {1,} if (message and message[0] == rules[r]) else set()\n",
    "    else:\n",
    "        overall_matches = set()\n",
    "        for opt in rules[r]:\n",
    "            opt_match = {0,}\n",
    "            for rule in opt:\n",
    "                new_match = set()\n",
    "                for n in opt_match:\n",
    "                    new_match |= {n+m for m in test(message[n:],rules,rule)}\n",
    "                opt_match = new_match\n",
    "            overall_matches |= opt_match\n",
    "        print('returning', overall_matches)\n",
    "        return overall_matches\n",
    "\n",
    "print(\"Part 1:\", sum(len(m) in test(m,rulebook,'0') for m in messages))"
   ]
  },
  {
   "cell_type": "code",
   "execution_count": 185,
   "metadata": {},
   "outputs": [
    {
     "output_type": "execute_result",
     "data": {
      "text/plain": [
       "['ababbb', 'bababa', 'abbbab', 'aaabbb', 'aaaabbb']"
      ]
     },
     "metadata": {},
     "execution_count": 185
    }
   ],
   "source": [
    "messages"
   ]
  },
  {
   "cell_type": "code",
   "execution_count": null,
   "metadata": {},
   "outputs": [],
   "source": []
  },
  {
   "cell_type": "code",
   "execution_count": null,
   "metadata": {},
   "outputs": [],
   "source": []
  },
  {
   "cell_type": "code",
   "execution_count": null,
   "metadata": {},
   "outputs": [],
   "source": []
  },
  {
   "cell_type": "code",
   "execution_count": 59,
   "metadata": {},
   "outputs": [
    {
     "output_type": "execute_result",
     "data": {
      "text/plain": [
       "{0: [[4, 1, 5]],\n",
       " 1: [[2, 3], [3, 2]],\n",
       " 2: [[4, 4], [5, 5]],\n",
       " 3: [[4, 5], [5, 4]],\n",
       " 4: [['a']],\n",
       " 5: [['b']]}"
      ]
     },
     "metadata": {},
     "execution_count": 59
    }
   ],
   "source": [
    "def check_valid(rulebook, rule, inp):\n",
    "    cur_rule = rulebook[rule]\n",
    "    if isinstance(cur_rule, string):\n",
    "        if cur_rule == inp[0]: yield inp[1:]\n",
    "    else:\n",
    "        for i in cur rul: yield from check_\n",
    "    else:\n",
    "        # len is longer so we have options\n",
    "        return valid_seq(rulebook, rule, input)\n",
    "\n",
    "\n",
    "def valid_single():\n",
    "    \n",
    "\n",
    "def valid_seq():\n",
    "    yield from valid"
   ]
  },
  {
   "cell_type": "code",
   "execution_count": null,
   "metadata": {},
   "outputs": [],
   "source": [
    "def test(message, rules, r):\n",
    "    if rules[r].val:\n",
    "        return {1,} if (message and message[0] == rules[r].val) else set()\n",
    "    else:\n",
    "        overall_matches = set()\n",
    "        for opt in rules[r].opts:\n",
    "            opt_match = {0,}\n",
    "            for rule in opt:\n",
    "                new_match = set()\n",
    "                for n in opt_match:\n",
    "                    new_match |= {n+m for m in test(message[n:],rules,rule)}\n",
    "                opt_match = new_match\n",
    "            overall_matches |= opt_match\n",
    "        return overall_matches"
   ]
  },
  {
   "cell_type": "code",
   "execution_count": 44,
   "metadata": {},
   "outputs": [],
   "source": [
    "def isvalid(test, option):\n",
    "    if len(option[0]) > 1: # multiple options, any of them is good\n",
    "        if any(isvalid(test, o for o in option):\n",
    "            return True\n",
    "    else:\n",
    "        if len(option[0][0]==1):\n",
    "            if option[0][0] == test:\n",
    "                return True\n",
    "            elif option[0][0] in rulebook:\n",
    "                yield from isvalid(test, option[0][0])\n",
    "            else:\n",
    "                return False\n",
    "        else:\n",
    "            for i \n",
    "\n",
    "    print(test, option)\n",
    "    \n",
    "    return False"
   ]
  },
  {
   "cell_type": "code",
   "execution_count": 60,
   "metadata": {},
   "outputs": [
    {
     "output_type": "stream",
     "name": "stdout",
     "text": [
      "a [['a']]\n"
     ]
    },
    {
     "output_type": "execute_result",
     "data": {
      "text/plain": [
       "False"
      ]
     },
     "metadata": {},
     "execution_count": 60
    }
   ],
   "source": []
  },
  {
   "cell_type": "code",
   "execution_count": null,
   "metadata": {},
   "outputs": [],
   "source": []
  },
  {
   "cell_type": "code",
   "execution_count": null,
   "metadata": {},
   "outputs": [],
   "source": []
  },
  {
   "cell_type": "code",
   "execution_count": 45,
   "metadata": {},
   "outputs": [
    {
     "output_type": "error",
     "ename": "KeyError",
     "evalue": "0",
     "traceback": [
      "\u001b[1;31m---------------------------------------------------------------------------\u001b[0m",
      "\u001b[1;31mKeyError\u001b[0m                                  Traceback (most recent call last)",
      "\u001b[1;32m<ipython-input-45-cd5aae83cf70>\u001b[0m in \u001b[0;36m<module>\u001b[1;34m\u001b[0m\n\u001b[0;32m      1\u001b[0m \u001b[0mtest\u001b[0m \u001b[1;33m=\u001b[0m \u001b[0mlines\u001b[0m\u001b[1;33m[\u001b[0m\u001b[1;36m0\u001b[0m\u001b[1;33m]\u001b[0m\u001b[1;33m\u001b[0m\u001b[1;33m\u001b[0m\u001b[0m\n\u001b[0;32m      2\u001b[0m \u001b[0mcurrent_rule\u001b[0m \u001b[1;33m=\u001b[0m \u001b[1;36m0\u001b[0m\u001b[1;33m\u001b[0m\u001b[1;33m\u001b[0m\u001b[0m\n\u001b[1;32m----> 3\u001b[1;33m \u001b[1;32mif\u001b[0m \u001b[0many\u001b[0m\u001b[1;33m(\u001b[0m\u001b[0misvalid\u001b[0m\u001b[1;33m(\u001b[0m\u001b[0mtest\u001b[0m\u001b[1;33m,\u001b[0m \u001b[0moption\u001b[0m\u001b[1;33m)\u001b[0m \u001b[1;32mfor\u001b[0m \u001b[0moption\u001b[0m \u001b[1;32min\u001b[0m \u001b[0mrulebook\u001b[0m\u001b[1;33m[\u001b[0m\u001b[0mcurrent_rule\u001b[0m\u001b[1;33m]\u001b[0m\u001b[1;33m)\u001b[0m\u001b[1;33m:\u001b[0m\u001b[1;33m\u001b[0m\u001b[1;33m\u001b[0m\u001b[0m\n\u001b[0m\u001b[0;32m      4\u001b[0m     \u001b[0mprint\u001b[0m\u001b[1;33m(\u001b[0m\u001b[1;34m'valid'\u001b[0m\u001b[1;33m)\u001b[0m\u001b[1;33m\u001b[0m\u001b[1;33m\u001b[0m\u001b[0m\n\u001b[0;32m      5\u001b[0m \u001b[1;32melse\u001b[0m\u001b[1;33m:\u001b[0m\u001b[1;33m\u001b[0m\u001b[1;33m\u001b[0m\u001b[0m\n",
      "\u001b[1;31mKeyError\u001b[0m: 0"
     ]
    }
   ],
   "source": [
    "test = lines[0]\n",
    "current_rule = 0\n",
    "if any(isvalid(test, option) for option in rulebook[current_rule]):\n",
    "    print('valid')\n",
    "else:\n",
    "    print('false')"
   ]
  },
  {
   "cell_type": "code",
   "execution_count": null,
   "metadata": {},
   "outputs": [],
   "source": []
  },
  {
   "cell_type": "code",
   "execution_count": null,
   "metadata": {},
   "outputs": [],
   "source": []
  },
  {
   "cell_type": "code",
   "execution_count": null,
   "metadata": {},
   "outputs": [],
   "source": []
  },
  {
   "cell_type": "code",
   "execution_count": null,
   "metadata": {},
   "outputs": [],
   "source": []
  },
  {
   "cell_type": "code",
   "execution_count": 63,
   "metadata": {
    "tags": []
   },
   "outputs": [
    {
     "output_type": "execute_result",
     "data": {
      "text/plain": [
       "128"
      ]
     },
     "metadata": {},
     "execution_count": 63
    }
   ],
   "source": [
    "f=open('rules.txt')\n",
    "f=open('rulestest.txt')\n",
    "f=open('oldrules.txt')\n",
    "lines = [line.rstrip('\\n') for line in f]\n",
    "rules = {}\n",
    "for line in lines:\n",
    "    num, ins = line.split(': ')\n",
    "    ins = ins.split('|')\n",
    "    rules[num] = [i.split() for i in ins]\n",
    "\n",
    "\n",
    "f=open('messages.txt')\n",
    "# f=open('messagestest.txt')\n",
    "mess = [line.rstrip('\\n') for line in f]\n",
    "\n",
    "\n",
    "def getoptions(key):\n",
    "    ins = rules[key]\n",
    "    alloptions = []\n",
    "    for option in ins: # go through all the options, can be 1 if 1 option. this can still yield multiple results through recursion\n",
    "        # print('option', option)\n",
    "        ans = []\n",
    "        for i in option:\n",
    "            if i.isnumeric():\n",
    "                res = getoptions(i)\n",
    "                ans.append(res)\n",
    "            else:\n",
    "                ans.append(i) # i is a or b\n",
    "\n",
    "        temp = [''.join(comb) for comb in itertools.product(*ans)]\n",
    "            # if len(temp)==1:\n",
    "            #     alloptions.append(temp[0])\n",
    "            # else:\n",
    "        alloptions.append(temp)\n",
    "    if len(alloptions)==1:\n",
    "        return alloptions[0]\n",
    "    else:\n",
    "        # print(aoc.flatten(alloptions))\n",
    "        return aoc.flatten(alloptions)\n"
   ]
  },
  {
   "cell_type": "code",
   "execution_count": 46,
   "metadata": {
    "tags": []
   },
   "outputs": [
    {
     "output_type": "execute_result",
     "data": {
      "text/plain": [
       "129"
      ]
     },
     "metadata": {},
     "execution_count": 46
    }
   ],
   "source": [
    "ins = getoptions('0')\n",
    "ans =0\n",
    "for line in mess:\n",
    "    if line in ins: ans +=1\n",
    "ans"
   ]
  },
  {
   "cell_type": "code",
   "execution_count": 50,
   "metadata": {},
   "outputs": [
    {
     "output_type": "error",
     "ename": "KeyError",
     "evalue": "'0'",
     "traceback": [
      "\u001b[1;31m---------------------------------------------------------------------------\u001b[0m",
      "\u001b[1;31mKeyError\u001b[0m                                  Traceback (most recent call last)",
      "\u001b[1;32m<ipython-input-50-ee247bb6b294>\u001b[0m in \u001b[0;36m<module>\u001b[1;34m\u001b[0m\n\u001b[0;32m      6\u001b[0m     \u001b[0mins\u001b[0m \u001b[1;33m=\u001b[0m \u001b[0mins\u001b[0m\u001b[1;33m.\u001b[0m\u001b[0msplit\u001b[0m\u001b[1;33m(\u001b[0m\u001b[1;34m'|'\u001b[0m\u001b[1;33m)\u001b[0m\u001b[1;33m\u001b[0m\u001b[1;33m\u001b[0m\u001b[0m\n\u001b[0;32m      7\u001b[0m     \u001b[0mrules\u001b[0m\u001b[1;33m[\u001b[0m\u001b[0mnum\u001b[0m\u001b[1;33m]\u001b[0m \u001b[1;33m=\u001b[0m \u001b[1;33m[\u001b[0m\u001b[0mi\u001b[0m\u001b[1;33m.\u001b[0m\u001b[0msplit\u001b[0m\u001b[1;33m(\u001b[0m\u001b[1;33m)\u001b[0m \u001b[1;32mfor\u001b[0m \u001b[0mi\u001b[0m \u001b[1;32min\u001b[0m \u001b[0mins\u001b[0m\u001b[1;33m]\u001b[0m\u001b[1;33m\u001b[0m\u001b[1;33m\u001b[0m\u001b[0m\n\u001b[1;32m----> 8\u001b[1;33m \u001b[0mgetoptions\u001b[0m\u001b[1;33m(\u001b[0m\u001b[1;34m'0'\u001b[0m\u001b[1;33m)\u001b[0m\u001b[1;33m\u001b[0m\u001b[1;33m\u001b[0m\u001b[0m\n\u001b[0m",
      "\u001b[1;32m<ipython-input-45-5bd493b9d85f>\u001b[0m in \u001b[0;36mgetoptions\u001b[1;34m(key)\u001b[0m\n\u001b[0;32m     15\u001b[0m \u001b[1;33m\u001b[0m\u001b[0m\n\u001b[0;32m     16\u001b[0m \u001b[1;32mdef\u001b[0m \u001b[0mgetoptions\u001b[0m\u001b[1;33m(\u001b[0m\u001b[0mkey\u001b[0m\u001b[1;33m)\u001b[0m\u001b[1;33m:\u001b[0m\u001b[1;33m\u001b[0m\u001b[1;33m\u001b[0m\u001b[0m\n\u001b[1;32m---> 17\u001b[1;33m     \u001b[0mins\u001b[0m \u001b[1;33m=\u001b[0m \u001b[0mrules\u001b[0m\u001b[1;33m[\u001b[0m\u001b[0mkey\u001b[0m\u001b[1;33m]\u001b[0m\u001b[1;33m\u001b[0m\u001b[1;33m\u001b[0m\u001b[0m\n\u001b[0m\u001b[0;32m     18\u001b[0m     \u001b[0malloptions\u001b[0m \u001b[1;33m=\u001b[0m \u001b[1;33m[\u001b[0m\u001b[1;33m]\u001b[0m\u001b[1;33m\u001b[0m\u001b[1;33m\u001b[0m\u001b[0m\n\u001b[0;32m     19\u001b[0m     \u001b[1;32mfor\u001b[0m \u001b[0moption\u001b[0m \u001b[1;32min\u001b[0m \u001b[0mins\u001b[0m\u001b[1;33m:\u001b[0m \u001b[1;31m# go through all the options, can be 1 if 1 option. this can still yield multiple results through recursion\u001b[0m\u001b[1;33m\u001b[0m\u001b[1;33m\u001b[0m\u001b[0m\n",
      "\u001b[1;31mKeyError\u001b[0m: '0'"
     ]
    }
   ],
   "source": [
    "# f=open('rulestest.txt')\n",
    "lines = [line.rstrip('\\n') for line in f]\n",
    "rules = {}\n",
    "for line in lines:\n",
    "    num, ins = line.split(': ')\n",
    "    ins = ins.split('|')\n",
    "    rules[num] = [i.split() for i in ins]\n",
    "getoptions('0')\n"
   ]
  },
  {
   "cell_type": "code",
   "execution_count": 70,
   "metadata": {},
   "outputs": [],
   "source": [
    "forty = getoptions('42')\n",
    "thirty = getoptions('31')\n",
    "8 + 11\n",
    "42 + optioneelzichzelf\n",
    "11: 42 31 | 42 11 31\n",
    "\n",
    "42 + (optioneel 42) + 42 (optioneel combo 42 en 31) 31\n"
   ]
  },
  {
   "cell_type": "code",
   "execution_count": 77,
   "metadata": {},
   "outputs": [
    {
     "output_type": "execute_result",
     "data": {
      "text/plain": [
       "12.0"
      ]
     },
     "metadata": {},
     "execution_count": 77
    }
   ],
   "source": [
    "cut = len(max((m for m in mess), key = len))\n",
    "combinations = cut/8\n",
    "combinations\n",
    "def gen_forty():\n",
    "    for i in range(1,combinations+1)\n",
    "    len = 1\n",
    "\n",
    "    "
   ]
  },
  {
   "cell_type": "code",
   "execution_count": 152,
   "metadata": {},
   "outputs": [
    {
     "output_type": "stream",
     "name": "stdout",
     "text": [
      "darkmode\ndarkmode\nnok\ndarkmode\ndarkmode\nnok\ndarkmode\ndarkmode\nnok\ndarkmode\ndarkmode\ndarkmode\nnok\ndarkmode\ndarkmode\ndarkmode\nnok\ndarkmode\ndarkmode\ndarkmode\ndarkmode\ndarkmode\ndarkmode\nnok\ndarkmode\ndarkmode\nnok\ndarkmode\ndarkmode\nnok\ndarkmode\ndarkmode\ndarkmode\ndarkmode\nnok\ndarkmode\ndarkmode\ndarkmode\ndarkmode\ndarkmode\ndarkmode\nnok\ndarkmode\ndarkmode\ndarkmode\ndarkmode\nnok\ndarkmode\ndarkmode\ndarkmode\ndarkmode\ndarkmode\ndarkmode\ndarkmode\nnok\ndarkmode\ndarkmode\ndarkmode\ndarkmode\ndarkmode\nnok\ndarkmode\ndarkmode\ndarkmode\ndarkmode\nnok\ndarkmode\ndarkmode\ndarkmode\ndarkmode\ndarkmode\ndarkmode\ndarkmode\ndarkmode\ndarkmode\nnok\ndarkmode\ndarkmode\ndarkmode\ndarkmode\ndarkmode\nnok\ndarkmode\ndarkmode\ndarkmode\ndarkmode\nnok\ndarkmode\ndarkmode\nnok\ndarkmode\ndarkmode\ndarkmode\nnok\ndarkmode\ndarkmode\nnok\ndarkmode\ndarkmode\ndarkmode\ndarkmode\ndarkmode\ndarkmode\ndarkmode\nnok\ndarkmode\ndarkmode\ndarkmode\ndarkmode\ndarkmode\nnok\ndarkmode\ndarkmode\ndarkmode\ndarkmode\ndarkmode\ndarkmode\nnok\ndarkmode\ndarkmode\ndarkmode\ndarkmode\ndarkmode\ndarkmode\ndarkmode\nnok\ndarkmode\ndarkmode\nnok\ndarkmode\ndarkmode\ndarkmode\nnok\ndarkmode\ndarkmode\ndarkmode\ndarkmode\ndarkmode\nnok\n"
     ]
    },
    {
     "output_type": "execute_result",
     "data": {
      "text/plain": [
       "243"
      ]
     },
     "metadata": {},
     "execution_count": 152
    }
   ],
   "source": [
    "m = mess[0]\n",
    "ans = 0\n",
    "nok = 0\n",
    "\n",
    "for m in mess:\n",
    "    \n",
    "    cut = len(m)//8\n",
    "    # print('new ', cut)\n",
    "    darkmode = False\n",
    "    nextforty = True\n",
    "    assert cut * 8 == len(m)\n",
    "    for i in range(cut):\n",
    "        # print(i)\n",
    "        # print(m[i*8:i*8+8])\n",
    "        temp = m[i*8:i*8+8]\n",
    "        # print(len(temp))\n",
    "        if (i == 0 and temp not in forty) or (i == 1 and temp not in forty):\n",
    "            # print('begin nok')\n",
    "            nok+=1\n",
    "            break\n",
    "        elif i > 1:\n",
    "            if (i == cut-1):\n",
    "                if temp in thirty:\n",
    "                    ans+=1\n",
    "                # print('valid')\n",
    "                    break\n",
    "                else:\n",
    "                    nok+=1\n",
    "                    break\n",
    "            if not darkmode:\n",
    "                if temp in forty:\n",
    "                    continue\n",
    "                if temp in thirty:\n",
    "                    print('darkmode')\n",
    "                    darkmode = True\n",
    "                    nextforty = True\n",
    "                    continue\n",
    "            elif darkmode:\n",
    "                print('darkmode')\n",
    "                if temp in forty and nextforty and i != cut -2:\n",
    "                    nextforty = False\n",
    "                    continue\n",
    "                elif temp in thirty and not nextforty:\n",
    "                    nextforty = True\n",
    "                    continue\n",
    "                else:\n",
    "                    print('nok')\n",
    "                    nok+=1\n",
    "                    break\n",
    "            else:\n",
    "                # nok+=1\n",
    "                break\n",
    "ans"
   ]
  },
  {
   "cell_type": "code",
   "execution_count": 153,
   "metadata": {},
   "outputs": [
    {
     "output_type": "execute_result",
     "data": {
      "text/plain": [
       "243"
      ]
     },
     "metadata": {},
     "execution_count": 153
    }
   ],
   "source": [
    "ans"
   ]
  },
  {
   "cell_type": "code",
   "execution_count": 147,
   "metadata": {},
   "outputs": [
    {
     "output_type": "execute_result",
     "data": {
      "text/plain": [
       "356"
      ]
     },
     "metadata": {},
     "execution_count": 147
    }
   ],
   "source": [
    "267+89"
   ]
  },
  {
   "cell_type": "code",
   "execution_count": null,
   "metadata": {},
   "outputs": [],
   "source": []
  },
  {
   "cell_type": "code",
   "execution_count": null,
   "metadata": {},
   "outputs": [],
   "source": []
  },
  {
   "cell_type": "code",
   "execution_count": 66,
   "metadata": {},
   "outputs": [
    {
     "output_type": "execute_result",
     "data": {
      "text/plain": [
       "['aa', 'bb', 'cc', 'dd']"
      ]
     },
     "metadata": {},
     "execution_count": 66
    }
   ],
   "source": [
    "aoc.flatten([['aa'],['bb'],[['cc','dd']]])"
   ]
  },
  {
   "cell_type": "code",
   "execution_count": 67,
   "metadata": {
    "tags": []
   },
   "outputs": [],
   "source": [
    "def is_single_list(item):\n",
    "    if isinstance(item, list):\n",
    "        for i in item:\n",
    "            if isinstance(i, list):\n",
    "                return False\n",
    "        else:\n",
    "            return True\n",
    "    else:\n",
    "        return True\n",
    "\n",
    "\n"
   ]
  },
  {
   "cell_type": "code",
   "execution_count": 68,
   "metadata": {},
   "outputs": [
    {
     "output_type": "execute_result",
     "data": {
      "text/plain": [
       "False"
      ]
     },
     "metadata": {},
     "execution_count": 68
    }
   ],
   "source": [
    "'2' in {'22'}"
   ]
  },
  {
   "cell_type": "code",
   "execution_count": null,
   "metadata": {},
   "outputs": [],
   "source": []
  },
  {
   "cell_type": "code",
   "execution_count": 69,
   "metadata": {},
   "outputs": [],
   "source": [
    "def getoptions(key):\n",
    "    ins = rules[key]\n",
    "    alloptions = []\n",
    "    for option in ins: # go through all the options, can be 1 if 1 option. this can still yield multiple results through recursion\n",
    "        # print('option', option)\n",
    "        ans = []\n",
    "        for i in option:\n",
    "            if i.isnumeric():\n",
    "                res = getoptions(i)\n",
    "                ans.append(res)\n",
    "            else:\n",
    "                ans.append(i) # i is a or b\n",
    "\n",
    "        temp = [''.join(comb) for comb in itertools.product(*ans)]\n",
    "            # if len(temp)==1:\n",
    "            #     alloptions.append(temp[0])\n",
    "            # else:\n",
    "        alloptions.append(temp)\n",
    "    if len(alloptions)==1:\n",
    "        return alloptions[0]\n",
    "    else:\n",
    "        # print(aoc.flatten(alloptions))\n",
    "        return aoc.flatten(alloptions)\n",
    "# getoptions('0')"
   ]
  },
  {
   "cell_type": "code",
   "execution_count": null,
   "metadata": {},
   "outputs": [],
   "source": []
  }
 ]
}