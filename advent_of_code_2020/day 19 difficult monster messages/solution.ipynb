{
 "nbformat": 4,
 "nbformat_minor": 2,
 "metadata": {
  "language_info": {
   "name": "python",
   "codemirror_mode": {
    "name": "ipython",
    "version": 3
   },
   "version": "3.7.3-final"
  },
  "orig_nbformat": 2,
  "file_extension": ".py",
  "mimetype": "text/x-python",
  "name": "python",
  "npconvert_exporter": "python",
  "pygments_lexer": "ipython3",
  "version": 3,
  "kernelspec": {
   "name": "python3",
   "display_name": "Python 3",
   "language": "python"
  }
 },
 "cells": [
  {
   "cell_type": "code",
   "execution_count": 54,
   "metadata": {},
   "outputs": [],
   "source": [
    "import numpy as np\n",
    "from collections import Counter, defaultdict, namedtuple, deque\n",
    "from math import gcd, ceil\n",
    "import re\n",
    "import networkx as nx\n",
    "from dataclasses import dataclass\n",
    "import itertools\n",
    "import aoc\n",
    "from matplotlib import pyplot as plt\n",
    "import string\n",
    "# plt.imshow(pic)"
   ]
  },
  {
   "cell_type": "code",
   "execution_count": 7,
   "metadata": {},
   "outputs": [
    {
     "output_type": "execute_result",
     "data": {
      "text/plain": [
       "'97: 138 57 | 12 83'"
      ]
     },
     "metadata": {},
     "execution_count": 7
    }
   ],
   "source": []
  },
  {
   "cell_type": "code",
   "execution_count": 21,
   "metadata": {},
   "outputs": [],
   "source": []
  },
  {
   "cell_type": "code",
   "execution_count": 22,
   "metadata": {},
   "outputs": [
    {
     "output_type": "execute_result",
     "data": {
      "text/plain": [
       "'babbaaaabbbbbbabaaaaabbb'"
      ]
     },
     "metadata": {},
     "execution_count": 22
    }
   ],
   "source": []
  },
  {
   "cell_type": "code",
   "execution_count": 63,
   "metadata": {
    "tags": []
   },
   "outputs": [
    {
     "output_type": "execute_result",
     "data": {
      "text/plain": [
       "128"
      ]
     },
     "metadata": {},
     "execution_count": 63
    }
   ],
   "source": [
    "f=open('rules.txt')\n",
    "f=open('rulestest.txt')\n",
    "f=open('oldrules.txt')\n",
    "lines = [line.rstrip('\\n') for line in f]\n",
    "rules = {}\n",
    "for line in lines:\n",
    "    num, ins = line.split(': ')\n",
    "    ins = ins.split('|')\n",
    "    rules[num] = [i.split() for i in ins]\n",
    "\n",
    "\n",
    "f=open('messages.txt')\n",
    "# f=open('messagestest.txt')\n",
    "mess = [line.rstrip('\\n') for line in f]\n",
    "\n",
    "\n",
    "def getoptions(key):\n",
    "    ins = rules[key]\n",
    "    alloptions = []\n",
    "    for option in ins: # go through all the options, can be 1 if 1 option. this can still yield multiple results through recursion\n",
    "        # print('option', option)\n",
    "        ans = []\n",
    "        for i in option:\n",
    "            if i.isnumeric():\n",
    "                res = getoptions(i)\n",
    "                ans.append(res)\n",
    "            else:\n",
    "                ans.append(i) # i is a or b\n",
    "\n",
    "        temp = [''.join(comb) for comb in itertools.product(*ans)]\n",
    "            # if len(temp)==1:\n",
    "            #     alloptions.append(temp[0])\n",
    "            # else:\n",
    "        alloptions.append(temp)\n",
    "    if len(alloptions)==1:\n",
    "        return alloptions[0]\n",
    "    else:\n",
    "        # print(aoc.flatten(alloptions))\n",
    "        return aoc.flatten(alloptions)\n"
   ]
  },
  {
   "cell_type": "code",
   "execution_count": 46,
   "metadata": {
    "tags": []
   },
   "outputs": [
    {
     "output_type": "execute_result",
     "data": {
      "text/plain": [
       "129"
      ]
     },
     "metadata": {},
     "execution_count": 46
    }
   ],
   "source": [
    "ins = getoptions('0')\n",
    "ans =0\n",
    "for line in mess:\n",
    "    if line in ins: ans +=1\n",
    "ans"
   ]
  },
  {
   "cell_type": "code",
   "execution_count": 50,
   "metadata": {},
   "outputs": [
    {
     "output_type": "error",
     "ename": "KeyError",
     "evalue": "'0'",
     "traceback": [
      "\u001b[1;31m---------------------------------------------------------------------------\u001b[0m",
      "\u001b[1;31mKeyError\u001b[0m                                  Traceback (most recent call last)",
      "\u001b[1;32m<ipython-input-50-ee247bb6b294>\u001b[0m in \u001b[0;36m<module>\u001b[1;34m\u001b[0m\n\u001b[0;32m      6\u001b[0m     \u001b[0mins\u001b[0m \u001b[1;33m=\u001b[0m \u001b[0mins\u001b[0m\u001b[1;33m.\u001b[0m\u001b[0msplit\u001b[0m\u001b[1;33m(\u001b[0m\u001b[1;34m'|'\u001b[0m\u001b[1;33m)\u001b[0m\u001b[1;33m\u001b[0m\u001b[1;33m\u001b[0m\u001b[0m\n\u001b[0;32m      7\u001b[0m     \u001b[0mrules\u001b[0m\u001b[1;33m[\u001b[0m\u001b[0mnum\u001b[0m\u001b[1;33m]\u001b[0m \u001b[1;33m=\u001b[0m \u001b[1;33m[\u001b[0m\u001b[0mi\u001b[0m\u001b[1;33m.\u001b[0m\u001b[0msplit\u001b[0m\u001b[1;33m(\u001b[0m\u001b[1;33m)\u001b[0m \u001b[1;32mfor\u001b[0m \u001b[0mi\u001b[0m \u001b[1;32min\u001b[0m \u001b[0mins\u001b[0m\u001b[1;33m]\u001b[0m\u001b[1;33m\u001b[0m\u001b[1;33m\u001b[0m\u001b[0m\n\u001b[1;32m----> 8\u001b[1;33m \u001b[0mgetoptions\u001b[0m\u001b[1;33m(\u001b[0m\u001b[1;34m'0'\u001b[0m\u001b[1;33m)\u001b[0m\u001b[1;33m\u001b[0m\u001b[1;33m\u001b[0m\u001b[0m\n\u001b[0m",
      "\u001b[1;32m<ipython-input-45-5bd493b9d85f>\u001b[0m in \u001b[0;36mgetoptions\u001b[1;34m(key)\u001b[0m\n\u001b[0;32m     15\u001b[0m \u001b[1;33m\u001b[0m\u001b[0m\n\u001b[0;32m     16\u001b[0m \u001b[1;32mdef\u001b[0m \u001b[0mgetoptions\u001b[0m\u001b[1;33m(\u001b[0m\u001b[0mkey\u001b[0m\u001b[1;33m)\u001b[0m\u001b[1;33m:\u001b[0m\u001b[1;33m\u001b[0m\u001b[1;33m\u001b[0m\u001b[0m\n\u001b[1;32m---> 17\u001b[1;33m     \u001b[0mins\u001b[0m \u001b[1;33m=\u001b[0m \u001b[0mrules\u001b[0m\u001b[1;33m[\u001b[0m\u001b[0mkey\u001b[0m\u001b[1;33m]\u001b[0m\u001b[1;33m\u001b[0m\u001b[1;33m\u001b[0m\u001b[0m\n\u001b[0m\u001b[0;32m     18\u001b[0m     \u001b[0malloptions\u001b[0m \u001b[1;33m=\u001b[0m \u001b[1;33m[\u001b[0m\u001b[1;33m]\u001b[0m\u001b[1;33m\u001b[0m\u001b[1;33m\u001b[0m\u001b[0m\n\u001b[0;32m     19\u001b[0m     \u001b[1;32mfor\u001b[0m \u001b[0moption\u001b[0m \u001b[1;32min\u001b[0m \u001b[0mins\u001b[0m\u001b[1;33m:\u001b[0m \u001b[1;31m# go through all the options, can be 1 if 1 option. this can still yield multiple results through recursion\u001b[0m\u001b[1;33m\u001b[0m\u001b[1;33m\u001b[0m\u001b[0m\n",
      "\u001b[1;31mKeyError\u001b[0m: '0'"
     ]
    }
   ],
   "source": [
    "# f=open('rulestest.txt')\n",
    "lines = [line.rstrip('\\n') for line in f]\n",
    "rules = {}\n",
    "for line in lines:\n",
    "    num, ins = line.split(': ')\n",
    "    ins = ins.split('|')\n",
    "    rules[num] = [i.split() for i in ins]\n",
    "getoptions('0')\n"
   ]
  },
  {
   "cell_type": "code",
   "execution_count": 70,
   "metadata": {},
   "outputs": [],
   "source": [
    "forty = getoptions('42')\n",
    "thirty = getoptions('31')\n",
    "8 + 11\n",
    "42 + optioneelzichzelf\n",
    "11: 42 31 | 42 11 31\n",
    "\n",
    "42 + (optioneel 42) + 42 (optioneel combo 42 en 31) 31\n"
   ]
  },
  {
   "cell_type": "code",
   "execution_count": 77,
   "metadata": {},
   "outputs": [
    {
     "output_type": "execute_result",
     "data": {
      "text/plain": [
       "12.0"
      ]
     },
     "metadata": {},
     "execution_count": 77
    }
   ],
   "source": [
    "cut = len(max((m for m in mess), key = len))\n",
    "combinations = cut/8\n",
    "combinations\n",
    "def gen_forty():\n",
    "    for i in range(1,combinations+1)\n",
    "    len = 1\n",
    "\n",
    "    "
   ]
  },
  {
   "cell_type": "code",
   "execution_count": 152,
   "metadata": {},
   "outputs": [
    {
     "output_type": "stream",
     "name": "stdout",
     "text": [
      "darkmode\ndarkmode\nnok\ndarkmode\ndarkmode\nnok\ndarkmode\ndarkmode\nnok\ndarkmode\ndarkmode\ndarkmode\nnok\ndarkmode\ndarkmode\ndarkmode\nnok\ndarkmode\ndarkmode\ndarkmode\ndarkmode\ndarkmode\ndarkmode\nnok\ndarkmode\ndarkmode\nnok\ndarkmode\ndarkmode\nnok\ndarkmode\ndarkmode\ndarkmode\ndarkmode\nnok\ndarkmode\ndarkmode\ndarkmode\ndarkmode\ndarkmode\ndarkmode\nnok\ndarkmode\ndarkmode\ndarkmode\ndarkmode\nnok\ndarkmode\ndarkmode\ndarkmode\ndarkmode\ndarkmode\ndarkmode\ndarkmode\nnok\ndarkmode\ndarkmode\ndarkmode\ndarkmode\ndarkmode\nnok\ndarkmode\ndarkmode\ndarkmode\ndarkmode\nnok\ndarkmode\ndarkmode\ndarkmode\ndarkmode\ndarkmode\ndarkmode\ndarkmode\ndarkmode\ndarkmode\nnok\ndarkmode\ndarkmode\ndarkmode\ndarkmode\ndarkmode\nnok\ndarkmode\ndarkmode\ndarkmode\ndarkmode\nnok\ndarkmode\ndarkmode\nnok\ndarkmode\ndarkmode\ndarkmode\nnok\ndarkmode\ndarkmode\nnok\ndarkmode\ndarkmode\ndarkmode\ndarkmode\ndarkmode\ndarkmode\ndarkmode\nnok\ndarkmode\ndarkmode\ndarkmode\ndarkmode\ndarkmode\nnok\ndarkmode\ndarkmode\ndarkmode\ndarkmode\ndarkmode\ndarkmode\nnok\ndarkmode\ndarkmode\ndarkmode\ndarkmode\ndarkmode\ndarkmode\ndarkmode\nnok\ndarkmode\ndarkmode\nnok\ndarkmode\ndarkmode\ndarkmode\nnok\ndarkmode\ndarkmode\ndarkmode\ndarkmode\ndarkmode\nnok\n"
     ]
    },
    {
     "output_type": "execute_result",
     "data": {
      "text/plain": [
       "243"
      ]
     },
     "metadata": {},
     "execution_count": 152
    }
   ],
   "source": [
    "m = mess[0]\n",
    "ans = 0\n",
    "nok = 0\n",
    "\n",
    "for m in mess:\n",
    "    \n",
    "    cut = len(m)//8\n",
    "    # print('new ', cut)\n",
    "    darkmode = False\n",
    "    nextforty = True\n",
    "    assert cut * 8 == len(m)\n",
    "    for i in range(cut):\n",
    "        # print(i)\n",
    "        # print(m[i*8:i*8+8])\n",
    "        temp = m[i*8:i*8+8]\n",
    "        # print(len(temp))\n",
    "        if (i == 0 and temp not in forty) or (i == 1 and temp not in forty):\n",
    "            # print('begin nok')\n",
    "            nok+=1\n",
    "            break\n",
    "        elif i > 1:\n",
    "            if (i == cut-1):\n",
    "                if temp in thirty:\n",
    "                    ans+=1\n",
    "                # print('valid')\n",
    "                    break\n",
    "                else:\n",
    "                    nok+=1\n",
    "                    break\n",
    "            if not darkmode:\n",
    "                if temp in forty:\n",
    "                    continue\n",
    "                if temp in thirty:\n",
    "                    print('darkmode')\n",
    "                    darkmode = True\n",
    "                    nextforty = True\n",
    "                    continue\n",
    "            elif darkmode:\n",
    "                print('darkmode')\n",
    "                if temp in forty and nextforty and i != cut -2:\n",
    "                    nextforty = False\n",
    "                    continue\n",
    "                elif temp in thirty and not nextforty:\n",
    "                    nextforty = True\n",
    "                    continue\n",
    "                else:\n",
    "                    print('nok')\n",
    "                    nok+=1\n",
    "                    break\n",
    "            else:\n",
    "                # nok+=1\n",
    "                break\n",
    "ans"
   ]
  },
  {
   "cell_type": "code",
   "execution_count": 153,
   "metadata": {},
   "outputs": [
    {
     "output_type": "execute_result",
     "data": {
      "text/plain": [
       "243"
      ]
     },
     "metadata": {},
     "execution_count": 153
    }
   ],
   "source": [
    "ans"
   ]
  },
  {
   "cell_type": "code",
   "execution_count": 147,
   "metadata": {},
   "outputs": [
    {
     "output_type": "execute_result",
     "data": {
      "text/plain": [
       "356"
      ]
     },
     "metadata": {},
     "execution_count": 147
    }
   ],
   "source": [
    "267+89"
   ]
  },
  {
   "cell_type": "code",
   "execution_count": null,
   "metadata": {},
   "outputs": [],
   "source": []
  },
  {
   "cell_type": "code",
   "execution_count": null,
   "metadata": {},
   "outputs": [],
   "source": []
  },
  {
   "cell_type": "code",
   "execution_count": 66,
   "metadata": {},
   "outputs": [
    {
     "output_type": "execute_result",
     "data": {
      "text/plain": [
       "['aa', 'bb', 'cc', 'dd']"
      ]
     },
     "metadata": {},
     "execution_count": 66
    }
   ],
   "source": [
    "aoc.flatten([['aa'],['bb'],[['cc','dd']]])"
   ]
  },
  {
   "cell_type": "code",
   "execution_count": 67,
   "metadata": {
    "tags": []
   },
   "outputs": [],
   "source": [
    "def is_single_list(item):\n",
    "    if isinstance(item, list):\n",
    "        for i in item:\n",
    "            if isinstance(i, list):\n",
    "                return False\n",
    "        else:\n",
    "            return True\n",
    "    else:\n",
    "        return True\n",
    "\n",
    "\n"
   ]
  },
  {
   "cell_type": "code",
   "execution_count": 68,
   "metadata": {},
   "outputs": [
    {
     "output_type": "execute_result",
     "data": {
      "text/plain": [
       "False"
      ]
     },
     "metadata": {},
     "execution_count": 68
    }
   ],
   "source": [
    "'2' in {'22'}"
   ]
  },
  {
   "cell_type": "code",
   "execution_count": null,
   "metadata": {},
   "outputs": [],
   "source": []
  },
  {
   "cell_type": "code",
   "execution_count": 69,
   "metadata": {},
   "outputs": [],
   "source": [
    "def getoptions(key):\n",
    "    ins = rules[key]\n",
    "    alloptions = []\n",
    "    for option in ins: # go through all the options, can be 1 if 1 option. this can still yield multiple results through recursion\n",
    "        # print('option', option)\n",
    "        ans = []\n",
    "        for i in option:\n",
    "            if i.isnumeric():\n",
    "                res = getoptions(i)\n",
    "                ans.append(res)\n",
    "            else:\n",
    "                ans.append(i) # i is a or b\n",
    "\n",
    "        temp = [''.join(comb) for comb in itertools.product(*ans)]\n",
    "            # if len(temp)==1:\n",
    "            #     alloptions.append(temp[0])\n",
    "            # else:\n",
    "        alloptions.append(temp)\n",
    "    if len(alloptions)==1:\n",
    "        return alloptions[0]\n",
    "    else:\n",
    "        # print(aoc.flatten(alloptions))\n",
    "        return aoc.flatten(alloptions)\n",
    "# getoptions('0')"
   ]
  },
  {
   "cell_type": "code",
   "execution_count": null,
   "metadata": {},
   "outputs": [],
   "source": []
  }
 ]
}