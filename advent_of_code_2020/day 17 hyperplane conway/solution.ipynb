{
 "nbformat": 4,
 "nbformat_minor": 2,
 "metadata": {
  "language_info": {
   "name": "python",
   "codemirror_mode": {
    "name": "ipython",
    "version": 3
   },
   "version": "3.7.3-final"
  },
  "orig_nbformat": 2,
  "file_extension": ".py",
  "mimetype": "text/x-python",
  "name": "python",
  "npconvert_exporter": "python",
  "pygments_lexer": "ipython3",
  "version": 3,
  "kernelspec": {
   "name": "python3",
   "display_name": "Python 3",
   "language": "python"
  }
 },
 "cells": [
  {
   "cell_type": "code",
   "execution_count": null,
   "metadata": {},
   "outputs": [],
   "source": [
    "# with you do an operation after a list comp, make sure to look at the results. "
   ]
  },
  {
   "cell_type": "code",
   "execution_count": 1,
   "metadata": {},
   "outputs": [
    {
     "output_type": "execute_result",
     "data": {
      "text/plain": [
       "[['#', '.', '.', '.', '.', '.', '.', '#'],\n",
       " ['#', '#', '.', '#', '.', '.', '#', '.'],\n",
       " ['#', '.', '#', '.', '#', '#', '#', '.'],\n",
       " ['.', '#', '#', '.', '.', '.', '.', '.'],\n",
       " ['.', '#', '#', '.', '#', '.', '.', '.'],\n",
       " ['#', '#', '.', '#', '.', '.', '.', '.'],\n",
       " ['#', '#', '#', '#', '#', '.', '#', '.'],\n",
       " ['#', '#', '.', '#', '.', '#', '#', '#']]"
      ]
     },
     "metadata": {},
     "execution_count": 1
    }
   ],
   "source": [
    "f=open('input.txt')\n",
    "lines = [list(line.rstrip('\\n')) for line in f]\n",
    "line = lines[0]\n",
    "lines"
   ]
  },
  {
   "cell_type": "code",
   "execution_count": 13,
   "metadata": {
    "tags": []
   },
   "outputs": [],
   "source": [
    "# the speedcoders just make a set or dict with all the cells that are on, and iterate over a full range. \n",
    "# I decided to go with the Joozd approach\n",
    "class Cube():\n",
    "\n",
    "    def __init__(self,x,y,z,v, val):\n",
    "        self.x, self.y, self.z, self.v, self.val = x,y,z,v, val\n",
    "        self.setneigh()\n",
    "    \n",
    "    def __repr__(self):\n",
    "        return f'x {str(self.x)}, y {str(self.y)}, z {str(self.z)} value: {str(self.val)}'\n",
    "    \n",
    "    def setneigh(self):\n",
    "        self.addr = set()\n",
    "        for i in range(-1,2):\n",
    "            for j in range(-1,2):\n",
    "                for k in range(-1,2):\n",
    "                    for m in range(-1,2):\n",
    "                        if not i==j==k==m==0:\n",
    "                            self.addr.add((self.x+i,self.y+j,self.z+k, self.v+m))\n",
    "        \n",
    "    def addneigh(self):\n",
    "        for n in self.addr:\n",
    "            if n not in pos and self.val == '#':\n",
    "                pos[n] = Cube(n[0],n[1],n[2],n[3],'.')\n",
    "\n",
    "    def getneighvals(self):\n",
    "        actives = [pos[n].val for n in self.addr if n in pos].count('#')\n",
    "        if self.val == '#':\n",
    "            if actives in [2,3]:\n",
    "                self.nextstate = '#'\n",
    "            else:\n",
    "                self.nextstate = '.'\n",
    "        elif self.val == '.':\n",
    "            if actives == 3:\n",
    "                self.nextstate = '#'\n",
    "            else:\n",
    "                self.nextstate = '.'\n",
    "    \n",
    "    def step(self):\n",
    "        self.val = self.nextstate\n",
    "\n",
    "pos = {}\n",
    "for i, line in enumerate(lines):\n",
    "    for j, val in enumerate(line):\n",
    "        pos[(i,j,0,0)] = Cube(i,j,0,0,val)"
   ]
  },
  {
   "cell_type": "code",
   "execution_count": 14,
   "metadata": {},
   "outputs": [
    {
     "output_type": "stream",
     "name": "stdout",
     "text": [
      "153\n",
      "220\n",
      "1076\n",
      "600\n",
      "2716\n",
      "2064\n"
     ]
    }
   ],
   "source": [
    "for cycle in range(6):\n",
    "    for v in list(pos.values()):\n",
    "        v.addneigh()\n",
    "    for v in pos.values():\n",
    "        v.getneighvals()\n",
    "    for v in pos.values():\n",
    "        v.step()\n",
    "    print([v.val for v in pos.values()].count('#'))"
   ]
  },
  {
   "cell_type": "code",
   "execution_count": null,
   "metadata": {},
   "outputs": [],
   "source": [
    "23"
   ]
  }
 ]
}