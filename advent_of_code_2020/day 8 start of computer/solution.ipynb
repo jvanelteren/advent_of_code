{
 "nbformat": 4,
 "nbformat_minor": 2,
 "metadata": {
  "language_info": {
   "name": "python",
   "codemirror_mode": {
    "name": "ipython",
    "version": 3
   },
   "version": "3.7.3-final"
  },
  "orig_nbformat": 2,
  "file_extension": ".py",
  "mimetype": "text/x-python",
  "name": "python",
  "npconvert_exporter": "python",
  "pygments_lexer": "ipython3",
  "version": 3,
  "kernelspec": {
   "name": "python3",
   "display_name": "Python 3"
  }
 },
 "cells": [
  {
   "cell_type": "code",
   "execution_count": null,
   "metadata": {},
   "outputs": [],
   "source": [
    "# it's not worth getting up at 6 when the site is down\n",
    "# again a reminder to be very careful van coding the logic of a statement e.g. not use != when\n",
    "# use re.match().groups() to output a tuple with the matching groups\n",
    "# if you have to go over the input once, do it once instead of parsing everything into lists and then iterate over len(list)\n",
    "# never forget: np.tile(arr, repeats=(r,c)) repeats an array\n",
    "# never forget 2: tiling is not necessary if you use modulo, e.g. % n_cols\n",
    "# when you have blank lines in the input file you can split using .split('\\n\\n')\n",
    "# you can make an integer with a certain base by int('11111', base = 2)\n",
    "# str.replace doesn't work inplace but returns a new string object\n",
    "# good parsing helps a ton. also make sure to think through the algo for a bit\n",
    "# it can be useful to declare a reversed dictionary, when you need to traverse the problem in the reversed way\n",
    "# reminder var = {} declares a dict not a set\n",
    "# sometimes the keyword 'continue' is useful, e.g. when executing a jmp instruction (to avoid increasing the pointer by accident)"
   ]
  },
  {
   "cell_type": "code",
   "execution_count": 11,
   "metadata": {
    "tags": []
   },
   "outputs": [
    {
     "output_type": "stream",
     "name": "stdout",
     "text": [
      "1446\n",
      "terminating 1403\n"
     ]
    },
    {
     "output_type": "error",
     "ename": "SystemExit",
     "evalue": "",
     "traceback": [
      "An exception has occurred, use %tb to see the full traceback.\n",
      "\u001b[1;31mSystemExit\u001b[0m\n"
     ]
    }
   ],
   "source": [
    "import copy\n",
    "import sys\n",
    "import aoc\n",
    "\n",
    "f=open('input.txt')\n",
    "lines = [aoc.to_int(line.rstrip('\\n').split()) for line in f]\n",
    "\n",
    "def run(lines):\n",
    "    acc = 0\n",
    "    p = 0\n",
    "    seen =set()\n",
    "    while p < len(lines):\n",
    "        ins, code = lines[p]\n",
    "        if p in seen:\n",
    "            # part 1\n",
    "            return acc\n",
    "        seen.add(p)\n",
    "        if ins == 'nop':\n",
    "            p+=1\n",
    "        elif ins == 'acc':\n",
    "            acc+= code\n",
    "            p += 1\n",
    "        elif ins == 'jmp':\n",
    "            p += code\n",
    "        else:\n",
    "            print(f'error ins not implemented {ins} @ {p}')\n",
    "    print('terminating', acc)\n",
    "    sys.exit()\n",
    "\n",
    "# part 1\n",
    "print(run(lines))\n",
    "\n",
    "# part 2\n",
    "for i, ins in enumerate(lines):\n",
    "    newlines = copy.deepcopy(lines)\n",
    "    if ins[0]=='jmp':\n",
    "        newlines[i] = ('nop',ins[1])\n",
    "    if ins[0] == 'nop':\n",
    "        newlines[i] = ('jmp', ins[1])\n",
    "    run(newlines)"
   ]
  },
  {
   "cell_type": "code",
   "execution_count": 13,
   "metadata": {},
   "outputs": [
    {
     "output_type": "stream",
     "name": "stdout",
     "text": [
      "1446\n",
      "terminating 1403\n"
     ]
    },
    {
     "output_type": "error",
     "ename": "SystemExit",
     "evalue": "",
     "traceback": [
      "An exception has occurred, use %tb to see the full traceback.\n",
      "\u001b[1;31mSystemExit\u001b[0m\n"
     ]
    }
   ],
   "source": [
    "class Comp():\n",
    "    def __init__(self,lines):\n",
    "        self.lines = lines\n",
    "    def run(self):\n",
    "        acc = 0\n",
    "        p = 0\n",
    "        seen =set()\n",
    "        while p < len(self.lines):\n",
    "            ins, code = self.lines[p]\n",
    "            if p in seen:\n",
    "                return acc\n",
    "            seen.add(p)\n",
    "            if ins == 'nop':\n",
    "                pass\n",
    "            elif ins == 'acc':\n",
    "                acc+= code\n",
    "            elif ins == 'jmp':\n",
    "                p += code\n",
    "                continue\n",
    "            else:\n",
    "                print(f'error ins not implemented {ins} @ {p}')\n",
    "            p += 1\n",
    "        print('terminating', acc)\n",
    "        sys.exit()\n",
    "\n",
    "f=open('input.txt')\n",
    "lines = [aoc.to_int(line.rstrip('\\n').split()) for line in f]\n",
    "print(Comp(lines).run())\n",
    "for i, ins in enumerate(lines):\n",
    "    newlines = copy.deepcopy(lines)\n",
    "    if ins[0]=='jmp':\n",
    "        newlines[i] = ('nop',ins[1])\n",
    "    if ins[0] == 'nop':\n",
    "        newlines[i] = ('jmp', ins[1])\n",
    "    Comp(newlines).run()"
   ]
  },
  {
   "cell_type": "code",
   "execution_count": null,
   "metadata": {},
   "outputs": [],
   "source": []
  }
 ]
}