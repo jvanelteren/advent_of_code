{
 "cells": [
  {
   "cell_type": "code",
   "execution_count": 76,
   "metadata": {},
   "outputs": [
    {
     "data": {
      "text/plain": [
       "(105620095782547, 105620095782547)"
      ]
     },
     "execution_count": 76,
     "metadata": {},
     "output_type": "execute_result"
    }
   ],
   "source": [
    "# pip install z3 and pip install z3-solver\n",
    "\n",
    "from z3 import *\n",
    "from aocutils.common import ints\n",
    "f = open(\"in.txt\").read().split(\"\\n\\n\")\n",
    "lines = [line for line in f]\n",
    "p1 = 0\n",
    "tokens = 0\n",
    "for machine in lines:\n",
    "    xa, ya, xb, yb, xprice, yprice = ints(machine)\n",
    "    xprice += 10000000000000\n",
    "    yprice += 10000000000000\n",
    "    \n",
    "    # i = (xprice - j*xb) / xa\n",
    "    # j = (yprice - i * ya) / yb\n",
    "    # j = (yprice - ya * xprice )\n",
    "    # j = yprice / yb - (ya*xprice - jxb * ya) / xa / yb\n",
    "    i, j = solve1([xa, xb, xprice],[ya, yb, yprice])\n",
    "    i = int(round(i))\n",
    "    j = int(round(j))\n",
    "    if i*xa + j*xb == xprice and i*ya + j* yb == yprice:\n",
    "        p1 += i*3 + j\n",
    "    ii, jj = i, j\n",
    "    tot = Int('tot')\n",
    "    i = Int('i')\n",
    "    j = Int('j')\n",
    "    \n",
    "    s = Optimize()\n",
    "    s.add(i*xa + j*xb == xprice)\n",
    "    s.add(i * ya + j * yb == yprice)\n",
    "    s.add(tot == 3*i + j)\n",
    "    s.minimize(tot)\n",
    "    if s.check() == sat:\n",
    "        m = s.model()\n",
    "        tokens += m[tot].as_long()\n",
    "        # print(yprice, ya * m[i].as_long(), yb * m[j].as_long(), ya, yb)\n",
    "        \n",
    "tokens,p1"
   ]
  },
  {
   "cell_type": "code",
   "execution_count": 77,
   "metadata": {},
   "outputs": [
    {
     "data": {
      "text/plain": [
       "(np.float64(80.0), np.float64(40.00000000000001))"
      ]
     },
     "execution_count": 77,
     "metadata": {},
     "output_type": "execute_result"
    }
   ],
   "source": [
    "# https://en.wikipedia.org/wiki/Row_echelon_form\n",
    "# Reduced row echelon form met dank aan Joozd\n",
    "\n",
    "import numpy as np\n",
    "def solve1(equation1, equation2):\n",
    "    ex = np.array([equation1, equation2]).astype('float64')\n",
    "    ex[0] = ex[0] / ex[0][0]\n",
    "    ex[1] = ex[1] - ex[0]*ex[1][0]\n",
    "    ex[1] = ex[1] / ex[1][1]\n",
    "    ex[0] = ex[0] - ex[1] * ex[0][1]\n",
    "    return ex[0][2], ex[1][2]\n",
    "\n",
    "    \n",
    "solve1([94,22,8400],[34,67, 5400])\n",
    "    \n",
    "    \n"
   ]
  },
  {
   "cell_type": "code",
   "execution_count": null,
   "metadata": {},
   "outputs": [],
   "source": []
  }
 ],
 "metadata": {
  "file_extension": ".py",
  "kernelspec": {
   "display_name": ".aocenvpy313",
   "language": "python",
   "name": "python3"
  },
  "language_info": {
   "codemirror_mode": {
    "name": "ipython",
    "version": 3
   },
   "file_extension": ".py",
   "mimetype": "text/x-python",
   "name": "python",
   "nbconvert_exporter": "python",
   "pygments_lexer": "ipython3",
   "version": "3.13.0"
  },
  "mimetype": "text/x-python",
  "name": "python",
  "npconvert_exporter": "python",
  "orig_nbformat": 2,
  "pygments_lexer": "ipython3",
  "version": 3
 },
 "nbformat": 4,
 "nbformat_minor": 2
}
