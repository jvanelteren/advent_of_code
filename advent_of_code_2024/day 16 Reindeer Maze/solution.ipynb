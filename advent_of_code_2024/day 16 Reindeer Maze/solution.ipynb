{
 "cells": [
  {
   "cell_type": "code",
   "execution_count": 1,
   "metadata": {},
   "outputs": [],
   "source": [
    "from networkx import DiGraph\n",
    "import networkx as nx\n",
    "from itertools import chain\n",
    "chainit = chain.from_iterable\n",
    "from aocutils.grid import TURNRIGHT, TURNLEFT, move, gridneigh\n",
    "E = (0,1); W = (0,-1); N = (-1,0); S = (1,0)\n",
    "winds = [N, E, S, W]"
   ]
  },
  {
   "cell_type": "code",
   "execution_count": 7,
   "metadata": {},
   "outputs": [
    {
     "name": "stdout",
     "output_type": "stream",
     "text": [
      "99416 471\n",
      "98416 471\n",
      "99416 471\n",
      "100416 471\n"
     ]
    }
   ],
   "source": [
    "grid, neigh = gridneigh(\"in.txt\", to_dict=True, parser=lambda x: [(ch) for ch in x])\n",
    "\n",
    "def getneigh(coor, wind, rev=False):\n",
    "    turn = [((coor, TURNLEFT(wind)), 1000), ((coor, TURNRIGHT(wind)), 1000)]\n",
    "    newloc = move(coor, wind)\n",
    "    if rev:\n",
    "        newloc = move(coor, {N:S, S:N, E:W, W:E}[wind])\n",
    "    if newloc in grid and grid[newloc] != '#':\n",
    "        turn.append(((newloc, wind), 1))\n",
    "    return turn\n",
    "\n",
    "\n",
    "start = ([k for k,v in grid.items() if v == 'S'].pop(), E)\n",
    "goal = [k for k,v in grid.items() if v == 'E'].pop()\n",
    "\n",
    "g = DiGraph()\n",
    "g.add_weighted_edges_from([\n",
    "    ((loc,w),*n) \n",
    "        for loc in grid if grid[loc] != '#' \n",
    "        for w in winds \n",
    "        for n in getneigh(loc, w)\n",
    "    ])\n",
    "\n",
    "\n",
    "for wind in winds:\n",
    "    print(\n",
    "            nx.shortest_path_length(g, start, (goal, wind), 'weight'),\n",
    "        len(\n",
    "            set(step[0]\n",
    "                  for l in nx.all_shortest_paths(g, start, (goal, wind), 'weight')\n",
    "                  for step in l)\n",
    "            )\n",
    "          )"
   ]
  },
  {
   "cell_type": "code",
   "execution_count": 9,
   "metadata": {},
   "outputs": [],
   "source": [
    "#| export\n",
    "import heapq\n",
    "def dijkstra(connections,start, goal=None):\n",
    "    \"\"\"\n",
    "    Requires a dict with as values a LIST of tuples (neighbor, weight)\n",
    "    Or a function returning a list of tuples with neighbors and weights per node\n",
    "\n",
    "    Returns\n",
    "    if goal == None:    return all paths from start\n",
    "    elif goal found:    returns path to goal\n",
    "    else:               returns False\n",
    "    \"\"\"\n",
    "    seen = set() # the locations that have been explored\n",
    "    frontier = [(0,start)] # the locations that still need to be visited\n",
    "    parents = {start: (None,0)}\n",
    "\n",
    "    while frontier:\n",
    "        # print('\\n\\n',frontier,'\\n',parents)\n",
    "        search_cost, search_node = heapq.heappop(frontier)\n",
    "        # print('looking for', search_node,search_cost)\n",
    "        if search_node == goal: break\n",
    "        neighbors = connections(*search_node)\n",
    "        if neighbors:\n",
    "            for n in neighbors:\n",
    "                if n[0] not in parents or n[1]+ search_cost < parents[n[0]][1]:\n",
    "                    heapq.heappush(frontier,(search_cost+n[1],n[0]))\n",
    "                    parents[n[0]]= (search_node,search_cost+n[1])\n",
    "        seen.add(search_node)\n",
    "    if goal is None: return parents\n",
    "\n",
    "    return parents\n",
    "\n"
   ]
  },
  {
   "cell_type": "code",
   "execution_count": 10,
   "metadata": {},
   "outputs": [],
   "source": [
    "# grid\n",
    "grid, neigh = gridneigh(\"t0.txt\", to_dict=True, parser=lambda x: [(ch) for ch in x])\n",
    "\n",
    "start = ([k for k,v in grid.items() if v == 'S'].pop(), E)\n",
    "goal = [k for k,v in grid.items() if v == 'E'].pop()\n",
    "goals = {(goal, w) for w in winds}\n",
    "\n",
    "parents = dijkstra(getneigh, start, goals)\n",
    "# locs = {loc for loc, wind in bestlocs}\n",
    "# tocheck = {(move(loc, wind), {N:S, S:N, E:W, W:E}[wind]) for loc, wind in goals if grid[move(loc, wind)] != '.' }\n",
    "# bestscore"
   ]
  },
  {
   "cell_type": "code",
   "execution_count": 11,
   "metadata": {},
   "outputs": [
    {
     "data": {
      "text/plain": [
       "[(((1, 13), (-1, 0)), 7036)]"
      ]
     },
     "execution_count": 11,
     "metadata": {},
     "output_type": "execute_result"
    }
   ],
   "source": [
    "def get_path(parents,goal):\n",
    "    cur = goal\n",
    "    path = [cur]\n",
    "    cost = parents[cur][1]\n",
    "    while cur != start:\n",
    "        cur = parents[cur][0]\n",
    "        path.append(cur)\n",
    "    path.reverse()\n",
    "    return path,cost\n",
    "res =  {g: get_path(parents,g)[1] for g in goals}\n",
    "from aocutils.common import sortdict\n",
    "bestscore = min(res.values())\n",
    "tocheck = [(loc, bestscore) for loc, score in sortdict(res) if score == bestscore]\n",
    "tocheck"
   ]
  },
  {
   "cell_type": "code",
   "execution_count": 12,
   "metadata": {},
   "outputs": [
    {
     "ename": "KeyError",
     "evalue": "(1, 13)",
     "output_type": "error",
     "traceback": [
      "\u001b[1;31m---------------------------------------------------------------------------\u001b[0m",
      "\u001b[1;31mKeyError\u001b[0m                                  Traceback (most recent call last)",
      "Cell \u001b[1;32mIn[12], line 3\u001b[0m\n\u001b[0;32m      1\u001b[0m \u001b[38;5;66;03m# how I initially solved it was wrong, I blocked each obstacle and ran dijkstras again\u001b[39;00m\n\u001b[0;32m      2\u001b[0m parents \u001b[38;5;241m=\u001b[39m dijkstra(getneigh, start, goals)\n\u001b[1;32m----> 3\u001b[0m (bestlocs, bestscore) \u001b[38;5;241m=\u001b[39m \u001b[43mget_path\u001b[49m\u001b[43m(\u001b[49m\u001b[43mparents\u001b[49m\u001b[43m,\u001b[49m\u001b[43m \u001b[49m\u001b[43mgoal\u001b[49m\u001b[43m)\u001b[49m\n\u001b[0;32m      4\u001b[0m locs \u001b[38;5;241m=\u001b[39m {loc \u001b[38;5;28;01mfor\u001b[39;00m loc, wind \u001b[38;5;129;01min\u001b[39;00m bestlocs}\n\u001b[0;32m      5\u001b[0m \u001b[38;5;28;01mfor\u001b[39;00m loc \u001b[38;5;129;01min\u001b[39;00m {loc \u001b[38;5;28;01mfor\u001b[39;00m loc, wind \u001b[38;5;129;01min\u001b[39;00m bestlocs}:\n",
      "Cell \u001b[1;32mIn[11], line 4\u001b[0m, in \u001b[0;36mget_path\u001b[1;34m(parents, goal)\u001b[0m\n\u001b[0;32m      2\u001b[0m cur \u001b[38;5;241m=\u001b[39m goal\n\u001b[0;32m      3\u001b[0m path \u001b[38;5;241m=\u001b[39m [cur]\n\u001b[1;32m----> 4\u001b[0m cost \u001b[38;5;241m=\u001b[39m \u001b[43mparents\u001b[49m\u001b[43m[\u001b[49m\u001b[43mcur\u001b[49m\u001b[43m]\u001b[49m[\u001b[38;5;241m1\u001b[39m]\n\u001b[0;32m      5\u001b[0m \u001b[38;5;28;01mwhile\u001b[39;00m cur \u001b[38;5;241m!=\u001b[39m start:\n\u001b[0;32m      6\u001b[0m     cur \u001b[38;5;241m=\u001b[39m parents[cur][\u001b[38;5;241m0\u001b[39m]\n",
      "\u001b[1;31mKeyError\u001b[0m: (1, 13)"
     ]
    }
   ],
   "source": [
    "# how I initially solved it was wrong, I blocked each obstacle and ran dijkstras again\n",
    "parents = dijkstra(getneigh, start, goals)\n",
    "(bestlocs, bestscore) = get_path(parents, goal)\n",
    "locs = {loc for loc, wind in bestlocs}\n",
    "for loc in {loc for loc, wind in bestlocs}:\n",
    "    grid[loc] = '#'\n",
    "    a = dijkstra(getneigh, start, goals)\n",
    "    if a != False:\n",
    "        newlocs, newscore = a\n",
    "        if newscore == bestscore:\n",
    "            locs |= {loc for loc, wind in newlocs}\n",
    "    grid[loc] = '.'\n",
    "len(locs)\n",
    "    "
   ]
  }
 ],
 "metadata": {
  "file_extension": ".py",
  "kernelspec": {
   "display_name": ".aocenvpy313",
   "language": "python",
   "name": "python3"
  },
  "language_info": {
   "codemirror_mode": {
    "name": "ipython",
    "version": 3
   },
   "file_extension": ".py",
   "mimetype": "text/x-python",
   "name": "python",
   "nbconvert_exporter": "python",
   "pygments_lexer": "ipython3",
   "version": "3.13.0"
  },
  "mimetype": "text/x-python",
  "name": "python",
  "npconvert_exporter": "python",
  "orig_nbformat": 2,
  "pygments_lexer": "ipython3",
  "version": 3
 },
 "nbformat": 4,
 "nbformat_minor": 2
}
