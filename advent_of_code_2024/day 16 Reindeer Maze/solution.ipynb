{
 "cells": [
  {
   "cell_type": "code",
   "execution_count": 56,
   "metadata": {},
   "outputs": [],
   "source": [
    "from aocutils.grid import TURNRIGHT, TURNLEFT, move, gridneigh\n",
    "E = (0,1); W = (0,-1); N = (-1,0); S = (1,0)\n",
    "winds = [N, E, S, W]"
   ]
  },
  {
   "cell_type": "code",
   "execution_count": 86,
   "metadata": {},
   "outputs": [],
   "source": [
    "from networkx import Graph\n",
    "import networkx as nx\n",
    "from itertools import chain\n",
    "chainit = chain.from_iterable"
   ]
  },
  {
   "cell_type": "code",
   "execution_count": 87,
   "metadata": {},
   "outputs": [
    {
     "data": {
      "text/plain": [
       "[(((5, 5), (-1, 0)), 1000), (((5, 5), (1, 0)), 1000), (((5, 6), (0, 1)), 1)]"
      ]
     },
     "execution_count": 87,
     "metadata": {},
     "output_type": "execute_result"
    }
   ],
   "source": [
    "def getneigh(loc, rev=False):\n",
    "    coor, wind = loc\n",
    "    turn = [((coor, TURNLEFT(wind)), 1000), ((coor, TURNRIGHT(wind)), 1000)]\n",
    "    newloc = move(coor, wind)\n",
    "    if rev:\n",
    "        newloc = move(coor, {N:S, S:N, E:W, W:E}[wind])\n",
    "    if newloc in grid and grid[newloc] != '#':\n",
    "        turn.append(((newloc, wind), 1))\n",
    "    return turn\n",
    "getneigh(((5,5), (0,1)))"
   ]
  },
  {
   "cell_type": "code",
   "execution_count": 109,
   "metadata": {},
   "outputs": [
    {
     "data": {
      "text/plain": [
       "37"
      ]
     },
     "execution_count": 109,
     "metadata": {},
     "output_type": "execute_result"
    }
   ],
   "source": [
    "grid, neigh = gridneigh(\"t0.txt\", to_dict=True, parser=lambda x: [(ch) for ch in x])\n",
    "\n",
    "start = ([k for k,v in grid.items() if v == 'S'].pop(), E)\n",
    "goal = [k for k,v in grid.items() if v == 'E'].pop()\n",
    "goals = {(goal, w) for w in winds}\n",
    "g = Graph()\n",
    "g.add_weighted_edges_from([\n",
    "    ((loc,w),n,cost) for loc in grid if grid[loc] != '#' for w in winds for (n,cost) in getneigh((loc, w)) \n",
    "    ])\n",
    "len(set(n for n, w in chainit(nx.all_shortest_paths(g, start, goals.pop()))))"
   ]
  },
  {
   "cell_type": "code",
   "execution_count": 112,
   "metadata": {},
   "outputs": [
    {
     "ename": "NodeNotFound",
     "evalue": "Source ((13, 1), (0, 1)) is not in G",
     "output_type": "error",
     "traceback": [
      "\u001b[1;31m---------------------------------------------------------------------------\u001b[0m",
      "\u001b[1;31mNodeNotFound\u001b[0m                              Traceback (most recent call last)",
      "Cell \u001b[1;32mIn[112], line 2\u001b[0m\n\u001b[0;32m      1\u001b[0m \u001b[38;5;28;01mfor\u001b[39;00m goal \u001b[38;5;129;01min\u001b[39;00m goals:\n\u001b[1;32m----> 2\u001b[0m     \u001b[38;5;28mprint\u001b[39m(\u001b[43mnx\u001b[49m\u001b[38;5;241;43m.\u001b[39;49m\u001b[43mshortest_path_length\u001b[49m\u001b[43m(\u001b[49m\u001b[43mg\u001b[49m\u001b[43m,\u001b[49m\u001b[43m \u001b[49m\u001b[43mstart\u001b[49m\u001b[43m,\u001b[49m\u001b[43mgoal\u001b[49m\u001b[43m)\u001b[49m)\n",
      "File \u001b[1;32md:\\Programmeren\\adventofcode\\.aocenvpy313\\Lib\\site-packages\\networkx\\utils\\decorators.py:789\u001b[0m, in \u001b[0;36margmap.__call__.<locals>.func\u001b[1;34m(_argmap__wrapper, *args, **kwargs)\u001b[0m\n\u001b[0;32m    788\u001b[0m \u001b[38;5;28;01mdef\u001b[39;00m \u001b[38;5;21mfunc\u001b[39m(\u001b[38;5;241m*\u001b[39margs, __wrapper\u001b[38;5;241m=\u001b[39m\u001b[38;5;28;01mNone\u001b[39;00m, \u001b[38;5;241m*\u001b[39m\u001b[38;5;241m*\u001b[39mkwargs):\n\u001b[1;32m--> 789\u001b[0m     \u001b[38;5;28;01mreturn\u001b[39;00m \u001b[43margmap\u001b[49m\u001b[38;5;241;43m.\u001b[39;49m\u001b[43m_lazy_compile\u001b[49m\u001b[43m(\u001b[49m\u001b[43m__wrapper\u001b[49m\u001b[43m)\u001b[49m\u001b[43m(\u001b[49m\u001b[38;5;241;43m*\u001b[39;49m\u001b[43margs\u001b[49m\u001b[43m,\u001b[49m\u001b[43m \u001b[49m\u001b[38;5;241;43m*\u001b[39;49m\u001b[38;5;241;43m*\u001b[39;49m\u001b[43mkwargs\u001b[49m\u001b[43m)\u001b[49m\n",
      "File \u001b[1;32m<class 'networkx.utils.decorators.argmap'> compilation 20:3\u001b[0m, in \u001b[0;36margmap_shortest_path_length_17\u001b[1;34m(G, source, target, weight, method, backend, **backend_kwargs)\u001b[0m\n\u001b[0;32m      1\u001b[0m \u001b[38;5;28;01mimport\u001b[39;00m \u001b[38;5;21;01mbz2\u001b[39;00m\n\u001b[0;32m      2\u001b[0m \u001b[38;5;28;01mimport\u001b[39;00m \u001b[38;5;21;01mcollections\u001b[39;00m\n\u001b[1;32m----> 3\u001b[0m \u001b[38;5;28;01mimport\u001b[39;00m \u001b[38;5;21;01mgzip\u001b[39;00m\n\u001b[0;32m      4\u001b[0m \u001b[38;5;28;01mimport\u001b[39;00m \u001b[38;5;21;01minspect\u001b[39;00m\n\u001b[0;32m      5\u001b[0m \u001b[38;5;28;01mimport\u001b[39;00m \u001b[38;5;21;01mitertools\u001b[39;00m\n",
      "File \u001b[1;32md:\\Programmeren\\adventofcode\\.aocenvpy313\\Lib\\site-packages\\networkx\\utils\\backends.py:948\u001b[0m, in \u001b[0;36m_dispatchable.__call__\u001b[1;34m(self, backend, *args, **kwargs)\u001b[0m\n\u001b[0;32m    946\u001b[0m     \u001b[38;5;28;01mif\u001b[39;00m backend \u001b[38;5;129;01mis\u001b[39;00m \u001b[38;5;129;01mnot\u001b[39;00m \u001b[38;5;28;01mNone\u001b[39;00m \u001b[38;5;129;01mand\u001b[39;00m backend \u001b[38;5;241m!=\u001b[39m \u001b[38;5;124m\"\u001b[39m\u001b[38;5;124mnetworkx\u001b[39m\u001b[38;5;124m\"\u001b[39m:\n\u001b[0;32m    947\u001b[0m         \u001b[38;5;28;01mraise\u001b[39;00m \u001b[38;5;167;01mImportError\u001b[39;00m(\u001b[38;5;124mf\u001b[39m\u001b[38;5;124m\"\u001b[39m\u001b[38;5;124m'\u001b[39m\u001b[38;5;132;01m{\u001b[39;00mbackend\u001b[38;5;132;01m}\u001b[39;00m\u001b[38;5;124m'\u001b[39m\u001b[38;5;124m backend is not installed\u001b[39m\u001b[38;5;124m\"\u001b[39m)\n\u001b[1;32m--> 948\u001b[0m     \u001b[38;5;28;01mreturn\u001b[39;00m \u001b[38;5;28;43mself\u001b[39;49m\u001b[38;5;241;43m.\u001b[39;49m\u001b[43morig_func\u001b[49m\u001b[43m(\u001b[49m\u001b[38;5;241;43m*\u001b[39;49m\u001b[43margs\u001b[49m\u001b[43m,\u001b[49m\u001b[43m \u001b[49m\u001b[38;5;241;43m*\u001b[39;49m\u001b[38;5;241;43m*\u001b[39;49m\u001b[43mkwargs\u001b[49m\u001b[43m)\u001b[49m\n\u001b[0;32m    950\u001b[0m \u001b[38;5;66;03m# Use `backend_name` in this function instead of `backend`.\u001b[39;00m\n\u001b[0;32m    951\u001b[0m \u001b[38;5;66;03m# This is purely for aesthetics and to make it easier to search for this\u001b[39;00m\n\u001b[0;32m    952\u001b[0m \u001b[38;5;66;03m# variable since \"backend\" is used in many comments and log/error messages.\u001b[39;00m\n\u001b[0;32m    953\u001b[0m backend_name \u001b[38;5;241m=\u001b[39m backend\n",
      "File \u001b[1;32md:\\Programmeren\\adventofcode\\.aocenvpy313\\Lib\\site-packages\\networkx\\algorithms\\shortest_paths\\generic.py:326\u001b[0m, in \u001b[0;36mshortest_path_length\u001b[1;34m(G, source, target, weight, method)\u001b[0m\n\u001b[0;32m    323\u001b[0m \u001b[38;5;28;01melse\u001b[39;00m:\n\u001b[0;32m    324\u001b[0m     \u001b[38;5;66;03m# Find shortest source-target path.\u001b[39;00m\n\u001b[0;32m    325\u001b[0m     \u001b[38;5;28;01mif\u001b[39;00m method \u001b[38;5;241m==\u001b[39m \u001b[38;5;124m\"\u001b[39m\u001b[38;5;124munweighted\u001b[39m\u001b[38;5;124m\"\u001b[39m:\n\u001b[1;32m--> 326\u001b[0m         p \u001b[38;5;241m=\u001b[39m \u001b[43mnx\u001b[49m\u001b[38;5;241;43m.\u001b[39;49m\u001b[43mbidirectional_shortest_path\u001b[49m\u001b[43m(\u001b[49m\u001b[43mG\u001b[49m\u001b[43m,\u001b[49m\u001b[43m \u001b[49m\u001b[43msource\u001b[49m\u001b[43m,\u001b[49m\u001b[43m \u001b[49m\u001b[43mtarget\u001b[49m\u001b[43m)\u001b[49m\n\u001b[0;32m    327\u001b[0m         paths \u001b[38;5;241m=\u001b[39m \u001b[38;5;28mlen\u001b[39m(p) \u001b[38;5;241m-\u001b[39m \u001b[38;5;241m1\u001b[39m\n\u001b[0;32m    328\u001b[0m     \u001b[38;5;28;01melif\u001b[39;00m method \u001b[38;5;241m==\u001b[39m \u001b[38;5;124m\"\u001b[39m\u001b[38;5;124mdijkstra\u001b[39m\u001b[38;5;124m\"\u001b[39m:\n",
      "File \u001b[1;32m<class 'networkx.utils.decorators.argmap'> compilation 8:3\u001b[0m, in \u001b[0;36margmap_bidirectional_shortest_path_5\u001b[1;34m(G, source, target, backend, **backend_kwargs)\u001b[0m\n\u001b[0;32m      1\u001b[0m \u001b[38;5;28;01mimport\u001b[39;00m \u001b[38;5;21;01mbz2\u001b[39;00m\n\u001b[0;32m      2\u001b[0m \u001b[38;5;28;01mimport\u001b[39;00m \u001b[38;5;21;01mcollections\u001b[39;00m\n\u001b[1;32m----> 3\u001b[0m \u001b[38;5;28;01mimport\u001b[39;00m \u001b[38;5;21;01mgzip\u001b[39;00m\n\u001b[0;32m      4\u001b[0m \u001b[38;5;28;01mimport\u001b[39;00m \u001b[38;5;21;01minspect\u001b[39;00m\n\u001b[0;32m      5\u001b[0m \u001b[38;5;28;01mimport\u001b[39;00m \u001b[38;5;21;01mitertools\u001b[39;00m\n",
      "File \u001b[1;32md:\\Programmeren\\adventofcode\\.aocenvpy313\\Lib\\site-packages\\networkx\\utils\\backends.py:948\u001b[0m, in \u001b[0;36m_dispatchable.__call__\u001b[1;34m(self, backend, *args, **kwargs)\u001b[0m\n\u001b[0;32m    946\u001b[0m     \u001b[38;5;28;01mif\u001b[39;00m backend \u001b[38;5;129;01mis\u001b[39;00m \u001b[38;5;129;01mnot\u001b[39;00m \u001b[38;5;28;01mNone\u001b[39;00m \u001b[38;5;129;01mand\u001b[39;00m backend \u001b[38;5;241m!=\u001b[39m \u001b[38;5;124m\"\u001b[39m\u001b[38;5;124mnetworkx\u001b[39m\u001b[38;5;124m\"\u001b[39m:\n\u001b[0;32m    947\u001b[0m         \u001b[38;5;28;01mraise\u001b[39;00m \u001b[38;5;167;01mImportError\u001b[39;00m(\u001b[38;5;124mf\u001b[39m\u001b[38;5;124m\"\u001b[39m\u001b[38;5;124m'\u001b[39m\u001b[38;5;132;01m{\u001b[39;00mbackend\u001b[38;5;132;01m}\u001b[39;00m\u001b[38;5;124m'\u001b[39m\u001b[38;5;124m backend is not installed\u001b[39m\u001b[38;5;124m\"\u001b[39m)\n\u001b[1;32m--> 948\u001b[0m     \u001b[38;5;28;01mreturn\u001b[39;00m \u001b[38;5;28;43mself\u001b[39;49m\u001b[38;5;241;43m.\u001b[39;49m\u001b[43morig_func\u001b[49m\u001b[43m(\u001b[49m\u001b[38;5;241;43m*\u001b[39;49m\u001b[43margs\u001b[49m\u001b[43m,\u001b[49m\u001b[43m \u001b[49m\u001b[38;5;241;43m*\u001b[39;49m\u001b[38;5;241;43m*\u001b[39;49m\u001b[43mkwargs\u001b[49m\u001b[43m)\u001b[49m\n\u001b[0;32m    950\u001b[0m \u001b[38;5;66;03m# Use `backend_name` in this function instead of `backend`.\u001b[39;00m\n\u001b[0;32m    951\u001b[0m \u001b[38;5;66;03m# This is purely for aesthetics and to make it easier to search for this\u001b[39;00m\n\u001b[0;32m    952\u001b[0m \u001b[38;5;66;03m# variable since \"backend\" is used in many comments and log/error messages.\u001b[39;00m\n\u001b[0;32m    953\u001b[0m backend_name \u001b[38;5;241m=\u001b[39m backend\n",
      "File \u001b[1;32md:\\Programmeren\\adventofcode\\.aocenvpy313\\Lib\\site-packages\\networkx\\algorithms\\shortest_paths\\unweighted.py:244\u001b[0m, in \u001b[0;36mbidirectional_shortest_path\u001b[1;34m(G, source, target)\u001b[0m\n\u001b[0;32m    205\u001b[0m \u001b[38;5;250m\u001b[39m\u001b[38;5;124;03m\"\"\"Returns a list of nodes in a shortest path between source and target.\u001b[39;00m\n\u001b[0;32m    206\u001b[0m \n\u001b[0;32m    207\u001b[0m \u001b[38;5;124;03mParameters\u001b[39;00m\n\u001b[1;32m   (...)\u001b[0m\n\u001b[0;32m    240\u001b[0m \u001b[38;5;124;03mThis algorithm is used by shortest_path(G, source, target).\u001b[39;00m\n\u001b[0;32m    241\u001b[0m \u001b[38;5;124;03m\"\"\"\u001b[39;00m\n\u001b[0;32m    243\u001b[0m \u001b[38;5;28;01mif\u001b[39;00m source \u001b[38;5;129;01mnot\u001b[39;00m \u001b[38;5;129;01min\u001b[39;00m G:\n\u001b[1;32m--> 244\u001b[0m     \u001b[38;5;28;01mraise\u001b[39;00m nx\u001b[38;5;241m.\u001b[39mNodeNotFound(\u001b[38;5;124mf\u001b[39m\u001b[38;5;124m\"\u001b[39m\u001b[38;5;124mSource \u001b[39m\u001b[38;5;132;01m{\u001b[39;00msource\u001b[38;5;132;01m}\u001b[39;00m\u001b[38;5;124m is not in G\u001b[39m\u001b[38;5;124m\"\u001b[39m)\n\u001b[0;32m    246\u001b[0m \u001b[38;5;28;01mif\u001b[39;00m target \u001b[38;5;129;01mnot\u001b[39;00m \u001b[38;5;129;01min\u001b[39;00m G:\n\u001b[0;32m    247\u001b[0m     \u001b[38;5;28;01mraise\u001b[39;00m nx\u001b[38;5;241m.\u001b[39mNodeNotFound(\u001b[38;5;124mf\u001b[39m\u001b[38;5;124m\"\u001b[39m\u001b[38;5;124mTarget \u001b[39m\u001b[38;5;132;01m{\u001b[39;00mtarget\u001b[38;5;132;01m}\u001b[39;00m\u001b[38;5;124m is not in G\u001b[39m\u001b[38;5;124m\"\u001b[39m)\n",
      "\u001b[1;31mNodeNotFound\u001b[0m: Source ((13, 1), (0, 1)) is not in G"
     ]
    }
   ],
   "source": [
    "for goal in goals:\n",
    "    print(nx.shortest_path_length(g, start,goal))"
   ]
  },
  {
   "cell_type": "code",
   "execution_count": null,
   "metadata": {},
   "outputs": [],
   "source": [
    "for dz in fourdir:\n",
    "    G.add_edge((end, dz), \"end\", weight=0)\n",
    "\n",
    "# Part 1\n",
    "print(nx.shortest_path_length(G, start, \"end\", weight=\"weight\"))"
   ]
  },
  {
   "cell_type": "code",
   "execution_count": null,
   "metadata": {},
   "outputs": [],
   "source": []
  },
  {
   "cell_type": "code",
   "execution_count": null,
   "metadata": {},
   "outputs": [
    {
     "data": {
      "text/plain": [
       "29"
      ]
     },
     "execution_count": 104,
     "metadata": {},
     "output_type": "execute_result"
    }
   ],
   "source": [
    "\n"
   ]
  },
  {
   "cell_type": "code",
   "execution_count": null,
   "metadata": {},
   "outputs": [],
   "source": []
  },
  {
   "cell_type": "code",
   "execution_count": null,
   "metadata": {},
   "outputs": [],
   "source": []
  },
  {
   "cell_type": "code",
   "execution_count": 47,
   "metadata": {},
   "outputs": [
    {
     "data": {
      "text/plain": [
       "[(((5, 5), (-1, 0)), 1000), (((5, 5), (1, 0)), 1000), (((5, 6), (0, 1)), 1)]"
      ]
     },
     "execution_count": 47,
     "metadata": {},
     "output_type": "execute_result"
    }
   ],
   "source": [
    "def getneigh(loc, rev=False):\n",
    "    coor, wind = loc\n",
    "    turn = [((coor, TURNLEFT(wind)), 1000), ((coor, TURNRIGHT(wind)), 1000)]\n",
    "    newloc = move(coor, wind)\n",
    "    if rev:\n",
    "        newloc = move(coor, {N:S, S:N, E:W, W:E}[wind])\n",
    "    if newloc in grid and grid[newloc] != '#':\n",
    "        turn.append(((newloc, wind), 1))\n",
    "    return turn\n",
    "getneigh(((5,5), (0,1)))"
   ]
  },
  {
   "cell_type": "code",
   "execution_count": 48,
   "metadata": {},
   "outputs": [],
   "source": [
    "#| export\n",
    "import heapq\n",
    "def dijkstra(connections,start, goal=None):\n",
    "    \"\"\"\n",
    "    Requires a dict with as values a LIST of tuples (neighbor, weight)\n",
    "    Or a function returning a list of tuples with neighbors and weights per node\n",
    "\n",
    "    Returns\n",
    "    if goal == None:    return all paths from start\n",
    "    elif goal found:    returns path to goal\n",
    "    else:               returns False\n",
    "    \"\"\"\n",
    "    seen = set() # the locations that have been explored\n",
    "    frontier = [(0,start)] # the locations that still need to be visited\n",
    "    isfunction = callable(connections)\n",
    "    parents = {start: (None,0)}\n",
    "\n",
    "    while frontier:\n",
    "        # print('\\n\\n',frontier,'\\n',parents)\n",
    "        search_cost, search_node = heapq.heappop(frontier)\n",
    "        # print('looking for', search_node,search_cost)\n",
    "        if search_node == goal: break\n",
    "        if isfunction: neighbors = connections(search_node)\n",
    "        else: neighbors = connections.get(search_node,None)\n",
    "        if neighbors:\n",
    "            for n in neighbors:\n",
    "                # print('n',n)\n",
    "                if n[0] not in parents or n[1]+ search_cost < parents[n[0]][1]:\n",
    "                    # print('updating')\n",
    "                    heapq.heappush(frontier,(search_cost+n[1],n[0]))\n",
    "                    # paths[n] = paths[search_node]+[n]\n",
    "                    parents[n[0]]= (search_node,search_cost+n[1])\n",
    "                        # return paths[goal],parents\n",
    "        seen.add(search_node)\n",
    "    if goal is None: return parents\n",
    "\n",
    "    return parents\n",
    "\n"
   ]
  },
  {
   "cell_type": "code",
   "execution_count": 49,
   "metadata": {},
   "outputs": [],
   "source": [
    "# grid\n",
    "grid, neigh = gridneigh(\"t0.txt\", to_dict=True, parser=lambda x: [(ch) for ch in x])\n",
    "\n",
    "start = ([k for k,v in grid.items() if v == 'S'].pop(), E)\n",
    "goal = [k for k,v in grid.items() if v == 'E'].pop()\n",
    "goals = {(goal, w) for w in winds}\n",
    "\n",
    "parents = dijkstra(getneigh, start, goals)\n",
    "# locs = {loc for loc, wind in bestlocs}\n",
    "# tocheck = {(move(loc, wind), {N:S, S:N, E:W, W:E}[wind]) for loc, wind in goals if grid[move(loc, wind)] != '.' }\n",
    "# bestscore"
   ]
  },
  {
   "cell_type": "code",
   "execution_count": 50,
   "metadata": {},
   "outputs": [
    {
     "data": {
      "text/plain": [
       "[(((1, 13), (-1, 0)), 7036)]"
      ]
     },
     "execution_count": 50,
     "metadata": {},
     "output_type": "execute_result"
    }
   ],
   "source": [
    "def get_path(parents,goal):\n",
    "    cur = goal\n",
    "    path = [cur]\n",
    "    cost = parents[cur][1]\n",
    "    while cur != start:\n",
    "        cur = parents[cur][0]\n",
    "        path.append(cur)\n",
    "    path.reverse()\n",
    "    return path,cost\n",
    "res =  {g: get_path(parents,g)[1] for g in goals}\n",
    "from aocutils.common import sortdict\n",
    "bestscore = min(res.values())\n",
    "tocheck = [(loc, bestscore) for loc, score in sortdict(res) if score == bestscore]\n",
    "tocheck"
   ]
  },
  {
   "cell_type": "code",
   "execution_count": null,
   "metadata": {},
   "outputs": [],
   "source": [
    "seen = set()\n",
    "while tocheck:\n",
    "    loc, score = tocheck.pop()\n",
    "    \n"
   ]
  },
  {
   "cell_type": "code",
   "execution_count": 53,
   "metadata": {},
   "outputs": [
    {
     "data": {
      "text/plain": [
       "[(((1, 13), (0, -1)), 1000), (((1, 13), (0, 1)), 1000)]"
      ]
     },
     "execution_count": 53,
     "metadata": {},
     "output_type": "execute_result"
    }
   ],
   "source": [
    "getneigh(tocheck[0][0])"
   ]
  },
  {
   "cell_type": "code",
   "execution_count": 55,
   "metadata": {},
   "outputs": [
    {
     "data": {
      "text/plain": [
       "((1, 13), (-1, 0))"
      ]
     },
     "execution_count": 55,
     "metadata": {},
     "output_type": "execute_result"
    }
   ],
   "source": [
    "tocheck[0][0]"
   ]
  },
  {
   "cell_type": "code",
   "execution_count": 52,
   "metadata": {},
   "outputs": [
    {
     "data": {
      "text/plain": [
       "(((2, 13), (-1, 0)), 7036)"
      ]
     },
     "execution_count": 52,
     "metadata": {},
     "output_type": "execute_result"
    }
   ],
   "source": [
    "parents[tocheck[0][0]]"
   ]
  },
  {
   "cell_type": "code",
   "execution_count": 51,
   "metadata": {},
   "outputs": [
    {
     "ename": "KeyError",
     "evalue": "(1, 13)",
     "output_type": "error",
     "traceback": [
      "\u001b[1;31m---------------------------------------------------------------------------\u001b[0m",
      "\u001b[1;31mKeyError\u001b[0m                                  Traceback (most recent call last)",
      "Cell \u001b[1;32mIn[51], line 3\u001b[0m\n\u001b[0;32m      1\u001b[0m \u001b[38;5;66;03m# how I initially solved it was wrong, I blocked each obstacle and ran dijkstras again\u001b[39;00m\n\u001b[0;32m      2\u001b[0m parents \u001b[38;5;241m=\u001b[39m dijkstra(getneigh, start, goals)\n\u001b[1;32m----> 3\u001b[0m (bestlocs, bestscore) \u001b[38;5;241m=\u001b[39m \u001b[43mget_path\u001b[49m\u001b[43m(\u001b[49m\u001b[43mparents\u001b[49m\u001b[43m,\u001b[49m\u001b[43m \u001b[49m\u001b[43mgoal\u001b[49m\u001b[43m)\u001b[49m\n\u001b[0;32m      4\u001b[0m locs \u001b[38;5;241m=\u001b[39m {loc \u001b[38;5;28;01mfor\u001b[39;00m loc, wind \u001b[38;5;129;01min\u001b[39;00m bestlocs}\n\u001b[0;32m      5\u001b[0m \u001b[38;5;28;01mfor\u001b[39;00m loc \u001b[38;5;129;01min\u001b[39;00m {loc \u001b[38;5;28;01mfor\u001b[39;00m loc, wind \u001b[38;5;129;01min\u001b[39;00m bestlocs}:\n",
      "Cell \u001b[1;32mIn[50], line 4\u001b[0m, in \u001b[0;36mget_path\u001b[1;34m(parents, goal)\u001b[0m\n\u001b[0;32m      2\u001b[0m cur \u001b[38;5;241m=\u001b[39m goal\n\u001b[0;32m      3\u001b[0m path \u001b[38;5;241m=\u001b[39m [cur]\n\u001b[1;32m----> 4\u001b[0m cost \u001b[38;5;241m=\u001b[39m \u001b[43mparents\u001b[49m\u001b[43m[\u001b[49m\u001b[43mcur\u001b[49m\u001b[43m]\u001b[49m[\u001b[38;5;241m1\u001b[39m]\n\u001b[0;32m      5\u001b[0m \u001b[38;5;28;01mwhile\u001b[39;00m cur \u001b[38;5;241m!=\u001b[39m start:\n\u001b[0;32m      6\u001b[0m     cur \u001b[38;5;241m=\u001b[39m parents[cur][\u001b[38;5;241m0\u001b[39m]\n",
      "\u001b[1;31mKeyError\u001b[0m: (1, 13)"
     ]
    }
   ],
   "source": [
    "# how I initially solved it was wrong, I blocked each obstacle and ran dijkstras again\n",
    "parents = dijkstra(getneigh, start, goals)\n",
    "(bestlocs, bestscore) = get_path(parents, goal)\n",
    "locs = {loc for loc, wind in bestlocs}\n",
    "for loc in {loc for loc, wind in bestlocs}:\n",
    "    grid[loc] = '#'\n",
    "    a = dijkstra(getneigh, start, goals)\n",
    "    if a != False:\n",
    "        newlocs, newscore = a\n",
    "        if newscore == bestscore:\n",
    "            locs |= {loc for loc, wind in newlocs}\n",
    "    grid[loc] = '.'\n",
    "len(locs)\n",
    "    \n",
    "    \n",
    "    "
   ]
  }
 ],
 "metadata": {
  "file_extension": ".py",
  "kernelspec": {
   "display_name": ".aocenvpy313",
   "language": "python",
   "name": "python3"
  },
  "language_info": {
   "codemirror_mode": {
    "name": "ipython",
    "version": 3
   },
   "file_extension": ".py",
   "mimetype": "text/x-python",
   "name": "python",
   "nbconvert_exporter": "python",
   "pygments_lexer": "ipython3",
   "version": "3.13.0"
  },
  "mimetype": "text/x-python",
  "name": "python",
  "npconvert_exporter": "python",
  "orig_nbformat": 2,
  "pygments_lexer": "ipython3",
  "version": 3
 },
 "nbformat": 4,
 "nbformat_minor": 2
}
