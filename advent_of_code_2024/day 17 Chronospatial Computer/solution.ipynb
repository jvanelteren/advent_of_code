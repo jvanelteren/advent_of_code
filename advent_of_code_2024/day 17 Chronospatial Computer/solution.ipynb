{
 "cells": [
  {
   "cell_type": "code",
   "execution_count": 12,
   "metadata": {},
   "outputs": [
    {
     "data": {
      "text/plain": [
       "[2, 4, 1, 5, 7, 5, 0, 3, 4, 1, 1, 6, 5, 5, 3, 0]"
      ]
     },
     "execution_count": 12,
     "metadata": {},
     "output_type": "execute_result"
    }
   ],
   "source": [
    "import sys\n",
    "from aocutils.common import ints\n",
    "\n",
    "f = open(\"in.txt\").read()\n",
    "a,b,c, *ins = ints(f)\n",
    "reg = [a,b,c]\n",
    "\n",
    "\n",
    "def run(rega=False):\n",
    "    def combo(val):\n",
    "        return val if val < 4 else reg[val-4]\n",
    "    p = 0\n",
    "    reg = r.copy()\n",
    "    if rega: reg[0] = rega\n",
    "    ans = []\n",
    "    while p < len(ins):\n",
    "        i = ins[p]\n",
    "        oper = ins[p+1]\n",
    "        match i:\n",
    "            case 0: reg[0] //= 2 ** combo(oper)\n",
    "            case 1: reg[1] ^= oper\n",
    "            case 2: reg[1] = combo(oper) % 8 \n",
    "            case 3: p = oper - 2 if reg[0] != 0 else p\n",
    "            case 4: reg[1] ^= reg[2]\n",
    "            case 5: ans.append(combo(oper) % 8)\n",
    "            case 6: reg[1] = reg[0] // 2 ** combo(oper)\n",
    "            case 7: reg[2] = reg[0] // 2 ** combo(oper)\n",
    "            case _: print('error'); break\n",
    "        p += 2\n",
    "    return ans\n",
    "run(109020013201563)"
   ]
  },
  {
   "cell_type": "code",
   "execution_count": null,
   "metadata": {},
   "outputs": [],
   "source": [
    "def find(idx, rega):\n",
    "    reg = [rega, 0,0]\n",
    "    newa = reg[0] * 2 ** 3\n",
    "    for val in range(newa, newa + 8):\n",
    "        reg[0] = val\n",
    "        reg[1] = (reg[0] % 8) ^ 5\n",
    "        reg[2] = reg[0] // (2 ** reg[1])\n",
    "        reg[1] = (reg[1] ^ reg[2] ) ^ 6\n",
    "        if reg[1] % 8 == ins[idx]:\n",
    "            if idx == 0:\n",
    "                print(val)\n",
    "                global ans\n",
    "                ans = val\n",
    "                sys.exit()\n",
    "            else:\n",
    "                find(idx-1, val)\n",
    "find(len(ins)-1,0)"
   ]
  },
  {
   "cell_type": "code",
   "execution_count": null,
   "metadata": {},
   "outputs": [
    {
     "data": {
      "text/plain": [
       "6"
      ]
     },
     "execution_count": 90,
     "metadata": {},
     "output_type": "execute_result"
    }
   ],
   "source": [
    "# eerdere debugging\n",
    "\n",
    "wishb = 0    # reg b moet een getal worden of een meervoud daarvan van 8\n",
    "regb = 6 ^wishb # dan kan je terugrekenen wat b daarvoor moet zijn\n",
    "regb = regb ^ reg[2] # dan kan je terugrekenen wat c daarvoor moet zijn\n",
    "regc = wisha * 2 ** 3 # dan kan je terugrekenen wat a daarvoor moet zijn\n",
    "2 ** reg b = wisha // regc # dan kan je terugrekenen wat b en c daarvoor moeten zijn\n",
    "regb = regb ^ 5  \n",
    "a moet iets zijn met modulo b\n"
   ]
  }
 ],
 "metadata": {
  "file_extension": ".py",
  "kernelspec": {
   "display_name": ".aocenvpy313",
   "language": "python",
   "name": "python3"
  },
  "language_info": {
   "codemirror_mode": {
    "name": "ipython",
    "version": 3
   },
   "file_extension": ".py",
   "mimetype": "text/x-python",
   "name": "python",
   "nbconvert_exporter": "python",
   "pygments_lexer": "ipython3",
   "version": "3.13.0"
  },
  "mimetype": "text/x-python",
  "name": "python",
  "npconvert_exporter": "python",
  "orig_nbformat": 2,
  "pygments_lexer": "ipython3",
  "version": 3
 },
 "nbformat": 4,
 "nbformat_minor": 2
}
