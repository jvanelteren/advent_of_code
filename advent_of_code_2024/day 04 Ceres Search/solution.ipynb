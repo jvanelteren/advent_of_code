{
 "cells": [
  {
   "cell_type": "code",
   "execution_count": null,
   "metadata": {},
   "outputs": [],
   "source": []
  },
  {
   "cell_type": "code",
   "execution_count": null,
   "metadata": {},
   "outputs": [
    {
     "data": {
      "text/plain": [
       "2454"
      ]
     },
     "execution_count": 3,
     "metadata": {},
     "output_type": "execute_result"
    }
   ],
   "source": [
    "#original\n",
    "\n",
    "from aocutils.grid import move, gridneigh\n",
    "grid, neigh = gridneigh(\"in.txt\", to_dict=True, diag=True, parser=lambda x: [(ch) for ch in x])\n",
    "\n",
    "dirs = [(0,1), (0,-1), (1,0), (-1,0), (-1,-1), (1,1), (-1,1), (1,-1)]\n",
    "ans = 0\n",
    "for loc, val in grid.items():\n",
    "    if val == 'X':\n",
    "        for wind in dirs:\n",
    "            newloc = move(loc, wind)\n",
    "            if newloc in grid and grid[newloc] == 'M':\n",
    "                newloc = move(newloc, wind)\n",
    "                if newloc in grid and grid[newloc] == 'A':\n",
    "                    newloc = move(newloc, wind)\n",
    "                    if newloc in grid and grid[newloc] == 'S':\n",
    "                        ans += 1\n",
    "ans\n",
    "        "
   ]
  },
  {
   "cell_type": "code",
   "execution_count": null,
   "metadata": {},
   "outputs": [
    {
     "data": {
      "text/plain": [
       "2454"
      ]
     },
     "execution_count": 6,
     "metadata": {},
     "output_type": "execute_result"
    }
   ],
   "source": [
    "# refactored p1\n",
    "dirs = [(0,1), (0,-1), (1,0), (-1,0), (-1,-1), (1,1), (-1,1), (1,-1)]\n",
    "ans = 0\n",
    "for loc, val in grid.items():\n",
    "    if val == 'X':\n",
    "        for wind in dirs:\n",
    "            \n",
    "            found = True\n",
    "            for (steps, letter) in [(1,'M'), (2, 'A'), (3,'S')]:\n",
    "                newloc = move(loc, [steps * wind[0], steps * wind[1]])\n",
    "                if newloc not in grid or  grid[newloc] != letter:\n",
    "                    found = False\n",
    "            ans += found\n",
    "ans"
   ]
  },
  {
   "cell_type": "code",
   "execution_count": null,
   "metadata": {},
   "outputs": [
    {
     "data": {
      "text/plain": [
       "1858"
      ]
     },
     "execution_count": 34,
     "metadata": {},
     "output_type": "execute_result"
    }
   ],
   "source": [
    "# original p2\n",
    "grid, neigh = gridneigh(\"in.txt\", to_dict=True, diag=True, parser=lambda x: [(ch) for ch in x])\n",
    "\n",
    "ans = 0\n",
    "for loc, val in grid.items():\n",
    "    if val == 'M':\n",
    "        m2 = move(loc, (0,2)) \n",
    "        a =  move(loc, (1,1)) \n",
    "        s1 =  move(loc, (2,0)) \n",
    "        s2 =  move(loc, (2,2)) \n",
    "        if m2 in grid and s1 in grid and s2 in grid and grid[m2] == 'M' and grid[s1]=='S' and grid[s2]=='S' and grid[a]=='A':\n",
    "            ans += 1\n",
    "        s1 = move(loc, (0,2)) \n",
    "        a =  move(loc, (1,1)) \n",
    "        m2 =  move(loc, (2,0)) \n",
    "        s2 =  move(loc, (2,2)) \n",
    "        if m2 in grid and s1 in grid and s2 in grid and grid[m2] == 'M' and grid[s1]=='S' and grid[s2]=='S' and grid[a]=='A':\n",
    "            ans += 1\n",
    "        m2 = move(loc, (0,-2)) \n",
    "        a =  move(loc, (-1,-1)) \n",
    "        s1 =  move(loc, (-2,0)) \n",
    "        s2 =  move(loc, (-2,-2)) \n",
    "        if m2 in grid and s1 in grid and s2 in grid and grid[m2] == 'M' and grid[s1]=='S' and grid[s2]=='S' and grid[a]=='A':\n",
    "            ans += 1\n",
    "        s1 = move(loc, (0,-2)) \n",
    "        a =  move(loc, (-1,-1)) \n",
    "        m2 =  move(loc, (-2,0)) \n",
    "        s2 =  move(loc, (-2,-2)) \n",
    "        if m2 in grid and s1 in grid and s2 in grid and grid[m2] == 'M' and grid[s1]=='S' and grid[s2]=='S' and grid[a]=='A':\n",
    "            ans += 1\n",
    "            \n",
    "\n",
    "ans\n",
    "        "
   ]
  }
 ],
 "metadata": {
  "file_extension": ".py",
  "kernelspec": {
   "display_name": ".aocenvpy313",
   "language": "python",
   "name": "python3"
  },
  "language_info": {
   "codemirror_mode": {
    "name": "ipython",
    "version": 3
   },
   "file_extension": ".py",
   "mimetype": "text/x-python",
   "name": "python",
   "nbconvert_exporter": "python",
   "pygments_lexer": "ipython3",
   "version": "3.13.0"
  },
  "mimetype": "text/x-python",
  "name": "python",
  "npconvert_exporter": "python",
  "orig_nbformat": 2,
  "pygments_lexer": "ipython3",
  "version": 3
 },
 "nbformat": 4,
 "nbformat_minor": 2
}
