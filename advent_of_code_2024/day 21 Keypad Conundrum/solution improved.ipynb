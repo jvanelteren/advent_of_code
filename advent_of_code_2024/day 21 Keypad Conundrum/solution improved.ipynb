{
 "cells": [
  {
   "cell_type": "code",
   "execution_count": 1,
   "metadata": {},
   "outputs": [
    {
     "data": {
      "text/plain": [
       "2427794491764423173954772214091068266651206652928444184567344648085230979414989712800952035640102418179274870124891352923780087141631516288012550166899028118785563999651122484693289125941676692258114075745860233111966343301798647507860734049335269111192197998916545074951941006406263771969437787201559649999901298098075350718621447786237193041322613561690971292"
      ]
     },
     "execution_count": 1,
     "metadata": {},
     "output_type": "execute_result"
    }
   ],
   "source": [
    "# below an improved version where we do dp but only for single steps\n",
    "from functools import cache\n",
    "import networkx as nx\n",
    "from aocutils.common import zippify\n",
    "inf = float('inf')\n",
    "def nextcells(start, goal, togo):\n",
    "    # generic function returns the cells that needs to be visited by the robot\n",
    "    if togo == -1: # numeric keypad\n",
    "        keys = {'7':(0,0), '8':(0,1), '9':(0,2), '4':(1,0), '5':(1,1), '6': (1,2), '1':(2,0), '2':(2,1), '3':(2,2), '0':(3,1), 'A':(3,2)}\n",
    "    else: # directional keypad\n",
    "        keys = {'^':(0,1), 'A':(0,2), '<':(1,0), 'v':(1,1), '>':(1,2)}\n",
    "        \n",
    "    G = nx.Graph()\n",
    "    for loc1 in keys.values():\n",
    "        for loc2 in keys.values():\n",
    "            if abs(loc1[0]-loc2[0]) + abs(loc1[1]-loc2[1]) == 1:\n",
    "                G.add_edge(loc1, loc2)\n",
    "    return tuple(nx.all_shortest_paths(G, keys[start], keys[goal]))\n",
    "\n",
    "def cell_to_instruction(path):\n",
    "    # given the cells that need to be visited, return the instruction for the next robot\n",
    "    if len(path) == 1: return ['A']\n",
    "    needed = []\n",
    "    for a,b in zippify(path,2):\n",
    "        assert abs(a[0] - b[0]) + abs(a[1] - b[1]) == 1\n",
    "        if a[0] - b[0] == 1: needed.append('^')\n",
    "        elif a[0] - b[0] == -1:needed.append('v')\n",
    "        elif a[1] - b[1] == 1:needed.append('<')\n",
    "        elif a[1] - b[1] == -1:needed.append('>')\n",
    "        else: print('error')\n",
    "    return needed + ['A']\n",
    "\n",
    "@cache\n",
    "def dp(togo, ins):\n",
    "    if togo == cutoff: return len(ins)\n",
    "    res = 0\n",
    "    for comb in zippify(('A',) + ins):\n",
    "        minn = inf\n",
    "        for option in nextcells(*comb, togo):\n",
    "            ins1 = tuple(cell_to_instruction(option))\n",
    "            minn = min(minn, dp(togo+1, ins1))\n",
    "        res += minn\n",
    "    return res\n",
    "\n",
    "ans = 0\n",
    "cutoff = 900 # set to the amount of robots you want, 25 for p2\n",
    "f = open(\"in.txt\").read().split(\"\\n\")\n",
    "for line in f:\n",
    "    ans += dp(-1, tuple(line)) * int(line[:-1])\n",
    "ans"
   ]
  },
  {
   "cell_type": "code",
   "execution_count": null,
   "metadata": {},
   "outputs": [],
   "source": []
  }
 ],
 "metadata": {
  "kernelspec": {
   "display_name": ".aocenvpy313",
   "language": "python",
   "name": "python3"
  },
  "language_info": {
   "codemirror_mode": {
    "name": "ipython",
    "version": 3
   },
   "file_extension": ".py",
   "mimetype": "text/x-python",
   "name": "python",
   "nbconvert_exporter": "python",
   "pygments_lexer": "ipython3",
   "version": "3.13.0"
  }
 },
 "nbformat": 4,
 "nbformat_minor": 2
}
