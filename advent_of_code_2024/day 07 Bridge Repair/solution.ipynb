{
 "cells": [
  {
   "cell_type": "code",
   "execution_count": 13,
   "metadata": {},
   "outputs": [],
   "source": [
    "from aocutils.common import ints\n",
    "from itertools import product\n",
    "import operator"
   ]
  },
  {
   "cell_type": "code",
   "execution_count": 14,
   "metadata": {},
   "outputs": [
    {
     "data": {
      "text/plain": [
       "7579994664753"
      ]
     },
     "execution_count": 14,
     "metadata": {},
     "output_type": "execute_result"
    }
   ],
   "source": [
    "f = open(\"in.txt\").read().split(\"\\n\")\n",
    "lines = [ints(line) for line in f]\n",
    "ans = 0\n",
    "for line in lines:\n",
    "    result = line[0]\n",
    "    options = product([operator.mul, operator.add], repeat = len(line)-2)\n",
    "    for o in options:\n",
    "        start = line[1]\n",
    "        for val, op in zip(line[2:], o):\n",
    "            start = op(start, val)\n",
    "        if start == result:\n",
    "            ans += result\n",
    "            break\n",
    "ans\n",
    "        \n",
    "        "
   ]
  },
  {
   "cell_type": "code",
   "execution_count": null,
   "metadata": {},
   "outputs": [
    {
     "data": {
      "text/plain": [
       "438024304605602"
      ]
     },
     "execution_count": 17,
     "metadata": {},
     "output_type": "execute_result"
    }
   ],
   "source": [
    "\n",
    "concat = lambda x,y: int(str(x)+str(y))\n",
    "        \n",
    "ans = 0\n",
    "for line in lines:\n",
    "    result = line[0]\n",
    "    options = product([operator.mul, operator.add, concat], repeat = len(line)-2)\n",
    "    for o in options:\n",
    "        start = line[1]\n",
    "        for val, op in zip(line[2:], o):\n",
    "            start = op(start, val)\n",
    "        if start == result:\n",
    "            ans += result\n",
    "            break\n",
    "ans\n",
    "        "
   ]
  }
 ],
 "metadata": {
  "file_extension": ".py",
  "kernelspec": {
   "display_name": ".aocenvpy313",
   "language": "python",
   "name": "python3"
  },
  "language_info": {
   "codemirror_mode": {
    "name": "ipython",
    "version": 3
   },
   "file_extension": ".py",
   "mimetype": "text/x-python",
   "name": "python",
   "nbconvert_exporter": "python",
   "pygments_lexer": "ipython3",
   "version": "3.13.0"
  },
  "mimetype": "text/x-python",
  "name": "python",
  "npconvert_exporter": "python",
  "orig_nbformat": 2,
  "pygments_lexer": "ipython3",
  "version": 3
 },
 "nbformat": 4,
 "nbformat_minor": 2
}
