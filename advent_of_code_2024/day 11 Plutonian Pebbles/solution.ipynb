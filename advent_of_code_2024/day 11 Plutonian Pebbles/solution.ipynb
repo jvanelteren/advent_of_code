{
 "cells": [
  {
   "cell_type": "code",
   "execution_count": 9,
   "metadata": {},
   "outputs": [
    {
     "name": "stdout",
     "output_type": "stream",
     "text": [
      "224529\n",
      "266820198587914\n"
     ]
    }
   ],
   "source": [
    "from collections import Counter\n",
    "from aocutils.common import ints\n",
    "\n",
    "stones = Counter(ints(open(\"in.txt\").read()))\n",
    "\n",
    "for blink in range(1,76):\n",
    "    newstones = Counter()\n",
    "    for s,cnt in stones.items():\n",
    "        strs = str(s)\n",
    "        if s == 0:\n",
    "            newstones[1] += cnt\n",
    "        elif not (l := len(strs)) % 2:\n",
    "            newstones[int(strs[:l//2])] += cnt\n",
    "            newstones[int(strs[l//2:])] += cnt\n",
    "        else:\n",
    "            newstones[s*2024] += cnt\n",
    "    stones  = newstones.copy()\n",
    "    if blink == 25 or blink == 75:\n",
    "        print(sum(stones.values()))"
   ]
  }
 ],
 "metadata": {
  "file_extension": ".py",
  "kernelspec": {
   "display_name": ".aocenvpy313",
   "language": "python",
   "name": "python3"
  },
  "language_info": {
   "codemirror_mode": {
    "name": "ipython",
    "version": 3
   },
   "file_extension": ".py",
   "mimetype": "text/x-python",
   "name": "python",
   "nbconvert_exporter": "python",
   "pygments_lexer": "ipython3",
   "version": "3.13.0"
  },
  "mimetype": "text/x-python",
  "name": "python",
  "npconvert_exporter": "python",
  "orig_nbformat": 2,
  "pygments_lexer": "ipython3",
  "version": 3
 },
 "nbformat": 4,
 "nbformat_minor": 2
}
