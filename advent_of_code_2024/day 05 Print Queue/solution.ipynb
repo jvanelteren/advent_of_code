{
 "cells": [
  {
   "cell_type": "code",
   "execution_count": 1,
   "metadata": {},
   "outputs": [],
   "source": [
    "from collections import Counter, defaultdict\n",
    "ins, updates = open(\"in.txt\").read().split(\"\\n\\n\")\n",
    "ins = [line.split('|') for line in ins.split('\\n')]\n",
    "updates = [line.split(',') for line in updates.split('\\n')]\n",
    "after = defaultdict(set)\n",
    "for x, y in ins:\n",
    "    after[y].add(x)"
   ]
  },
  {
   "cell_type": "code",
   "execution_count": null,
   "metadata": {},
   "outputs": [
    {
     "data": {
      "text/plain": [
       "6260"
      ]
     },
     "execution_count": 3,
     "metadata": {},
     "output_type": "execute_result"
    }
   ],
   "source": [
    "# stumbled a bit with the logic on this one. For each page you only need to check if it doesn't need to come after any of the pages remaining\n",
    "correct = 0\n",
    "incorrect = []\n",
    "for update in updates:\n",
    "    behindset = set(update)\n",
    "    for page in update:\n",
    "        behindset.remove(page)\n",
    "        if after[page] & behindset:\n",
    "            incorrect.append(update)\n",
    "            break\n",
    "    else:\n",
    "        correct += int(update[len(update)//2])\n",
    "correct   "
   ]
  },
  {
   "cell_type": "code",
   "execution_count": null,
   "metadata": {},
   "outputs": [
    {
     "data": {
      "text/plain": [
       "5346"
      ]
     },
     "execution_count": 4,
     "metadata": {},
     "output_type": "execute_result"
    }
   ],
   "source": [
    "newafter = defaultdict(set)\n",
    "p2 = 0\n",
    "for update in incorrect:\n",
    "    for page in update:\n",
    "        newafter[page] = (set(update) & after[page])\n",
    "    ans = []\n",
    "    for _ in range(len(update)):\n",
    "        for k,v in newafter.items():\n",
    "            if not v:\n",
    "                ans.append(k)\n",
    "        for k in ans:\n",
    "            if k in newafter:\n",
    "                del newafter[k]\n",
    "        for k in newafter.keys():\n",
    "            newafter[k] -= set(ans)\n",
    "    p2 += int(ans[len(ans)//2])\n",
    "p2"
   ]
  },
  {
   "cell_type": "code",
   "execution_count": 5,
   "metadata": {},
   "outputs": [
    {
     "ename": "KeyError",
     "evalue": "37",
     "output_type": "error",
     "traceback": [
      "\u001b[1;31m---------------------------------------------------------------------------\u001b[0m",
      "\u001b[1;31mKeyError\u001b[0m                                  Traceback (most recent call last)",
      "Cell \u001b[1;32mIn[5], line 71\u001b[0m\n\u001b[0;32m     68\u001b[0m total_middle_sum \u001b[38;5;241m=\u001b[39m \u001b[38;5;241m0\u001b[39m\n\u001b[0;32m     70\u001b[0m \u001b[38;5;28;01mfor\u001b[39;00m update \u001b[38;5;129;01min\u001b[39;00m updates:\n\u001b[1;32m---> 71\u001b[0m     \u001b[38;5;28;01mif\u001b[39;00m \u001b[43mcheck_order\u001b[49m\u001b[43m(\u001b[49m\u001b[43mupdate\u001b[49m\u001b[43m,\u001b[49m\u001b[43m \u001b[49m\u001b[43mgraph\u001b[49m\u001b[43m,\u001b[49m\u001b[43m \u001b[49m\u001b[43msorted_list\u001b[49m\u001b[43m)\u001b[49m:\n\u001b[0;32m     72\u001b[0m         middle_value \u001b[38;5;241m=\u001b[39m find_middle_value(update)\n\u001b[0;32m     73\u001b[0m         total_middle_sum \u001b[38;5;241m+\u001b[39m\u001b[38;5;241m=\u001b[39m middle_value\n",
      "Cell \u001b[1;32mIn[5], line 54\u001b[0m, in \u001b[0;36mcheck_order\u001b[1;34m(update, graph, sorted_list)\u001b[0m\n\u001b[0;32m     51\u001b[0m positions \u001b[38;5;241m=\u001b[39m {num: i \u001b[38;5;28;01mfor\u001b[39;00m i, num \u001b[38;5;129;01min\u001b[39;00m \u001b[38;5;28menumerate\u001b[39m(sorted_list) \u001b[38;5;28;01mif\u001b[39;00m num \u001b[38;5;129;01min\u001b[39;00m update}\n\u001b[0;32m     53\u001b[0m \u001b[38;5;28;01mfor\u001b[39;00m i \u001b[38;5;129;01min\u001b[39;00m \u001b[38;5;28mrange\u001b[39m(\u001b[38;5;28mlen\u001b[39m(update) \u001b[38;5;241m-\u001b[39m \u001b[38;5;241m1\u001b[39m):\n\u001b[1;32m---> 54\u001b[0m     \u001b[38;5;28;01mif\u001b[39;00m \u001b[43mpositions\u001b[49m\u001b[43m[\u001b[49m\u001b[43mupdate\u001b[49m\u001b[43m[\u001b[49m\u001b[43mi\u001b[49m\u001b[43m]\u001b[49m\u001b[43m]\u001b[49m \u001b[38;5;241m>\u001b[39m positions[update[i \u001b[38;5;241m+\u001b[39m \u001b[38;5;241m1\u001b[39m]]:\n\u001b[0;32m     55\u001b[0m         \u001b[38;5;28;01mreturn\u001b[39;00m \u001b[38;5;28;01mFalse\u001b[39;00m\n\u001b[0;32m     57\u001b[0m \u001b[38;5;28;01mreturn\u001b[39;00m \u001b[38;5;28;01mTrue\u001b[39;00m\n",
      "\u001b[1;31mKeyError\u001b[0m: 37"
     ]
    }
   ],
   "source": [
    "from collections import defaultdict, deque\n",
    "\n",
    "def parse_file(filename):\n",
    "    with open(filename, 'r') as file:\n",
    "        lines = file.read().strip().split('\\n')\n",
    "\n",
    "    rules = []\n",
    "    updates = []\n",
    "    reading_updates = False\n",
    "\n",
    "    for line in lines:\n",
    "        if ',' in line:\n",
    "            updates.append(list(map(int, line.split(','))))\n",
    "            reading_updates = True\n",
    "        elif '|' in line:\n",
    "            rules.append(tuple(map(int, line.split('|'))))\n",
    "\n",
    "    return rules, updates\n",
    "\n",
    "def build_graph(rules):\n",
    "    graph = defaultdict(list)\n",
    "    in_degree = defaultdict(int)\n",
    "\n",
    "    for x, y in rules:\n",
    "        graph[x].append(y)\n",
    "        in_degree[y] += 1\n",
    "        if x not in in_degree:\n",
    "            in_degree[x] = 0\n",
    "\n",
    "    return graph, in_degree\n",
    "\n",
    "def topological_sort(graph, in_degree):\n",
    "    queue = deque()\n",
    "    sorted_list = []\n",
    "\n",
    "    for node in in_degree:\n",
    "        if in_degree[node] == 0:\n",
    "            queue.append(node)\n",
    "\n",
    "    while queue:\n",
    "        node = queue.popleft()\n",
    "        sorted_list.append(node)\n",
    "        for neighbor in graph[node]:\n",
    "            in_degree[neighbor] -= 1\n",
    "            if in_degree[neighbor] == 0:\n",
    "                queue.append(neighbor)\n",
    "\n",
    "    return sorted_list\n",
    "\n",
    "def check_order(update, graph, sorted_list):\n",
    "    positions = {num: i for i, num in enumerate(sorted_list) if num in update}\n",
    "\n",
    "    for i in range(len(update) - 1):\n",
    "        if positions[update[i]] > positions[update[i + 1]]:\n",
    "            return False\n",
    "\n",
    "    return True\n",
    "\n",
    "def find_middle_value(lst):\n",
    "    n = len(lst)\n",
    "    middle_index = n // 2\n",
    "    return lst[middle_index]\n",
    "\n",
    "# Example usage\n",
    "rules, updates = parse_file('in.txt')\n",
    "graph, in_degree = build_graph(rules)\n",
    "sorted_list = topological_sort(graph, in_degree)\n",
    "total_middle_sum = 0\n",
    "\n",
    "for update in updates:\n",
    "    if check_order(update, graph, sorted_list):\n",
    "        middle_value = find_middle_value(update)\n",
    "        total_middle_sum += middle_value\n",
    "\n",
    "print(f\"The total sum of the middle page numbers of correctly-ordered updates is {total_middle_sum}\")\n"
   ]
  }
 ],
 "metadata": {
  "file_extension": ".py",
  "kernelspec": {
   "display_name": ".aocenvpy313",
   "language": "python",
   "name": "python3"
  },
  "language_info": {
   "codemirror_mode": {
    "name": "ipython",
    "version": 3
   },
   "file_extension": ".py",
   "mimetype": "text/x-python",
   "name": "python",
   "nbconvert_exporter": "python",
   "pygments_lexer": "ipython3",
   "version": "3.13.0"
  },
  "mimetype": "text/x-python",
  "name": "python",
  "npconvert_exporter": "python",
  "orig_nbformat": 2,
  "pygments_lexer": "ipython3",
  "version": 3
 },
 "nbformat": 4,
 "nbformat_minor": 2
}
