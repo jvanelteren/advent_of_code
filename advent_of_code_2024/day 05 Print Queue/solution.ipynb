{
 "cells": [
  {
   "cell_type": "code",
   "execution_count": 1,
   "metadata": {},
   "outputs": [],
   "source": [
    "from collections import Counter, defaultdict\n",
    "ins, updates = open(\"in.txt\").read().split(\"\\n\\n\")\n",
    "ins = [line.split('|') for line in ins.split('\\n')]\n",
    "updates = [line.split(',') for line in updates.split('\\n')]\n",
    "after = defaultdict(set)\n",
    "for x, y in ins:\n",
    "    after[y].add(x)"
   ]
  },
  {
   "cell_type": "code",
   "execution_count": 2,
   "metadata": {},
   "outputs": [
    {
     "data": {
      "text/plain": [
       "6260"
      ]
     },
     "execution_count": 2,
     "metadata": {},
     "output_type": "execute_result"
    }
   ],
   "source": [
    "correct = 0\n",
    "incorrect = []\n",
    "for update in updates:\n",
    "    behindset = set(update)\n",
    "    beforeset = set()\n",
    "    for page in update:\n",
    "        behindset.remove(page)\n",
    "        if (after[page] & behindset):\n",
    "            incorrect.append(update)\n",
    "            break\n",
    "        beforeset.add(page)\n",
    "    else:\n",
    "        correct += int(update[len(update)//2])\n",
    "correct\n",
    "            \n",
    "        \n",
    "    "
   ]
  },
  {
   "cell_type": "code",
   "execution_count": 3,
   "metadata": {},
   "outputs": [
    {
     "data": {
      "text/plain": [
       "5346"
      ]
     },
     "execution_count": 3,
     "metadata": {},
     "output_type": "execute_result"
    }
   ],
   "source": [
    "newafter = defaultdict(set)\n",
    "p2 = 0\n",
    "for update in incorrect:\n",
    "    for page in update:\n",
    "        newafter[page] = (set(update) & after[page])\n",
    "    ans = []\n",
    "    for _ in range(len(update)):\n",
    "        for k,v in newafter.items():\n",
    "            if not v:\n",
    "                ans.append(k)\n",
    "        for k in ans:\n",
    "            if k in newafter:\n",
    "                del newafter[k]\n",
    "        for k in newafter.keys():\n",
    "            newafter[k] -= set(ans)\n",
    "    p2 += int(ans[len(ans)//2])\n",
    "p2\n"
   ]
  },
  {
   "cell_type": "code",
   "execution_count": null,
   "metadata": {},
   "outputs": [],
   "source": []
  }
 ],
 "metadata": {
  "file_extension": ".py",
  "kernelspec": {
   "display_name": ".aocenvpy313",
   "language": "python",
   "name": "python3"
  },
  "language_info": {
   "codemirror_mode": {
    "name": "ipython",
    "version": 3
   },
   "file_extension": ".py",
   "mimetype": "text/x-python",
   "name": "python",
   "nbconvert_exporter": "python",
   "pygments_lexer": "ipython3",
   "version": "3.13.0"
  },
  "mimetype": "text/x-python",
  "name": "python",
  "npconvert_exporter": "python",
  "orig_nbformat": 2,
  "pygments_lexer": "ipython3",
  "version": 3
 },
 "nbformat": 4,
 "nbformat_minor": 2
}
