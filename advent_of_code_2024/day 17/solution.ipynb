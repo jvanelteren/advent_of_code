{
 "cells": [
  {
   "cell_type": "code",
   "execution_count": null,
   "metadata": {},
   "outputs": [
    {
     "name": "stdout",
     "output_type": "stream",
     "text": [
      "2,4,1,5,7,5,0,3,4,1,1,6,5,5,3,0\n"
     ]
    }
   ],
   "source": [
    "import sys\n",
    "from aocutils.common import ints\n",
    "\n",
    "f = open(\"in.txt\").read().split(\"\\n\\n\")\n",
    "reg, ins = list(ints(f[0])), ints(f[1])\n",
    "combo = {0:0, 1:1, 2:2, 3:3, 4:reg[0], 5:reg[1], 6:reg[2]}\n",
    "p = 0\n",
    "reg[0] = 109020013201563\n",
    "ans = []\n",
    "while p < len(ins):\n",
    "    i = ins[p]\n",
    "    oper = ins[p+1]\n",
    "    match i:\n",
    "        case 0:\n",
    "            reg[0] = reg[0] // 2** {0:0, 1:1, 2:2, 3:3, 4:reg[0], 5:reg[1], 6:reg[2]}[oper]\n",
    "        case 1:\n",
    "            reg[1] = reg[1] ^ oper\n",
    "        case 2:\n",
    "            reg[1] = {0:0, 1:1, 2:2, 3:3, 4:reg[0], 5:reg[1], 6:reg[2]}[oper] % 8 \n",
    "        case 3:\n",
    "            if reg[0] != 0:\n",
    "                p = oper - 2\n",
    "        case 4:\n",
    "            reg[1] = reg[1] ^ reg[2]\n",
    "        case 5:\n",
    "            val = {0:0, 1:1, 2:2, 3:3, 4:reg[0], 5:reg[1], 6:reg[2]}[oper] % 8\n",
    "            ans.append(val)\n",
    "        case 6:\n",
    "            reg[1] = reg[0] // 2** {0:0, 1:1, 2:2, 3:3, 4:reg[0], 5:reg[1], 6:reg[2]}[oper]\n",
    "        case 7:\n",
    "            reg[2] = reg[0] // 2** {0:0, 1:1, 2:2, 3:3, 4:reg[0], 5:reg[1], 6:reg[2]}[oper]\n",
    "        case _:\n",
    "            print('error')\n",
    "            break\n",
    "    p += 2\n",
    "print(','.join(str(a) for a in ans))"
   ]
  },
  {
   "cell_type": "code",
   "execution_count": null,
   "metadata": {},
   "outputs": [
    {
     "name": "stdout",
     "output_type": "stream",
     "text": [
      "109020013201563\n"
     ]
    },
    {
     "ename": "SystemExit",
     "evalue": "",
     "output_type": "error",
     "traceback": [
      "An exception has occurred, use %tb to see the full traceback.\n",
      "\u001b[1;31mSystemExit\u001b[0m\n"
     ]
    },
    {
     "name": "stderr",
     "output_type": "stream",
     "text": [
      "d:\\Programmeren\\adventofcode\\.aocenvpy313\\Lib\\site-packages\\IPython\\core\\interactiveshell.py:3585: UserWarning: To exit: use 'exit', 'quit', or Ctrl-D.\n",
      "  warn(\"To exit: use 'exit', 'quit', or Ctrl-D.\", stacklevel=1)\n"
     ]
    }
   ],
   "source": [
    "ans = []\n",
    "def find(idx, rega):\n",
    "    r = [rega, 0,0]\n",
    "    wish = ins[idx]\n",
    "    options = []\n",
    "    newa = r[0] * 2 ** 3\n",
    "    for addition in range(8):\n",
    "        reg = r.copy()\n",
    "        \n",
    "        reg[0] = newa + addition\n",
    "       \n",
    "        reg[1] = reg[0] % 8 \n",
    "        reg[1] = reg[1] ^5\n",
    "        reg[2] = reg[0] // (2 ** reg[1])\n",
    "        reg[0] = reg[0] // (2 ** 3)\n",
    "        reg[1] = reg[1] ^ reg[2]  \n",
    "        reg[1] = reg[1] ^6  # simpel\n",
    "        if reg[1] % 8 == wish:\n",
    "            reg[0] = newa + addition\n",
    "            options.append(reg[0])\n",
    "            r = reg.copy()\n",
    "    if idx == 0 and options:\n",
    "        print(min(options))\n",
    "        sys.exit()\n",
    "    else:\n",
    "        for o in options:\n",
    "            find(idx-1, o)\n",
    "find(len(ins)-1,0)\n"
   ]
  },
  {
   "cell_type": "code",
   "execution_count": null,
   "metadata": {},
   "outputs": [
    {
     "data": {
      "text/plain": [
       "6"
      ]
     },
     "execution_count": 90,
     "metadata": {},
     "output_type": "execute_result"
    }
   ],
   "source": [
    "# eerdere debugging\n",
    "\n",
    "wishb = 0    # reg b moet een getal worden of een meervoud daarvan van 8\n",
    "regb = 6 ^wishb # dan kan je terugrekenen wat b daarvoor moet zijn\n",
    "regb = regb ^ reg[2] # dan kan je terugrekenen wat c daarvoor moet zijn\n",
    "regc = wisha * 2 ** 3 # dan kan je terugrekenen wat a daarvoor moet zijn\n",
    "2 ** reg b = wisha // regc # dan kan je terugrekenen wat b en c daarvoor moeten zijn\n",
    "regb = regb ^ 5  \n",
    "a moet iets zijn met modulo b\n"
   ]
  }
 ],
 "metadata": {
  "file_extension": ".py",
  "kernelspec": {
   "display_name": ".aocenvpy313",
   "language": "python",
   "name": "python3"
  },
  "language_info": {
   "codemirror_mode": {
    "name": "ipython",
    "version": 3
   },
   "file_extension": ".py",
   "mimetype": "text/x-python",
   "name": "python",
   "nbconvert_exporter": "python",
   "pygments_lexer": "ipython3",
   "version": "3.13.0"
  },
  "mimetype": "text/x-python",
  "name": "python",
  "npconvert_exporter": "python",
  "orig_nbformat": 2,
  "pygments_lexer": "ipython3",
  "version": 3
 },
 "nbformat": 4,
 "nbformat_minor": 2
}
