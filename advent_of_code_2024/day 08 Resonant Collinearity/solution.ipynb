{
 "cells": [
  {
   "cell_type": "code",
   "execution_count": 1,
   "metadata": {},
   "outputs": [],
   "source": [
    "from collections import defaultdict\n",
    "from itertools import combinations\n",
    "from aocutils.grid import gridneigh, dimensions"
   ]
  },
  {
   "cell_type": "code",
   "execution_count": null,
   "metadata": {},
   "outputs": [
    {
     "data": {
      "text/plain": [
       "(220, 813)"
      ]
     },
     "execution_count": 6,
     "metadata": {},
     "output_type": "execute_result"
    }
   ],
   "source": [
    "grid, _ = gridneigh(\"in.txt\", to_dict=True, parser=lambda x: [(ch) for ch in x])\n",
    "maxr, maxc = dimensions(grid).max\n",
    "\n",
    "t = defaultdict(set)\n",
    "antip2 = set()\n",
    "antip1 = set()\n",
    "\n",
    "for k, v in grid.items():\n",
    "    if v != '.':\n",
    "        for seen in t[v]:\n",
    "            (r1,c1), (r2,c2) = sorted([k, seen])\n",
    "            for row in range(maxr+1):\n",
    "                dr = r2 - r1\n",
    "                dc = c2 - c1\n",
    "                delta = r1 - row\n",
    "                antip2.add((row, c1-delta/dr*dc))\n",
    "            antip1.add((r1-dr, c1-dc))\n",
    "            antip1.add((r2+dr, c2+dc))\n",
    "        t[v].add(k)\n",
    "len(antip1 & grid.keys()), len(antip2 & grid.keys())"
   ]
  }
 ],
 "metadata": {
  "file_extension": ".py",
  "kernelspec": {
   "display_name": ".aocenvpy313",
   "language": "python",
   "name": "python3"
  },
  "language_info": {
   "codemirror_mode": {
    "name": "ipython",
    "version": 3
   },
   "file_extension": ".py",
   "mimetype": "text/x-python",
   "name": "python",
   "nbconvert_exporter": "python",
   "pygments_lexer": "ipython3",
   "version": "3.13.0"
  },
  "mimetype": "text/x-python",
  "name": "python",
  "npconvert_exporter": "python",
  "orig_nbformat": 2,
  "pygments_lexer": "ipython3",
  "version": 3
 },
 "nbformat": 4,
 "nbformat_minor": 2
}
