{
 "cells": [
  {
   "cell_type": "code",
   "execution_count": 2,
   "metadata": {},
   "outputs": [
    {
     "data": {
      "text/plain": [
       "(379, 430)"
      ]
     },
     "execution_count": 2,
     "metadata": {},
     "output_type": "execute_result"
    }
   ],
   "source": [
    "import numpy as np\n",
    "from itertools import pairwise\n",
    "from aocutils.common import ints\n",
    "\n",
    "f = open(\"in.txt\").read().split(\"\\n\")\n",
    "lines = [ints(line) for line in f]\n",
    "p1 = 0\n",
    "p2 = 0\n",
    "\n",
    "def check(test, idx=False):\n",
    "    if idx is not False:\n",
    "        del test[idx]\n",
    "    deltas = [a-b for a,b in pairwise(test)]\n",
    "    sign = {np.sign(d) for d in deltas}\n",
    "    if len(sign) == 1 and all(0 < abs(d) <= 3 for d in deltas):\n",
    "        return True\n",
    "            \n",
    "for idx, line in enumerate(lines):\n",
    "    if check(line):\n",
    "        p1 += 1\n",
    "        p2 += 1\n",
    "    else:\n",
    "        p2 += any(check(list(line), i) for i in range(len(line)))\n",
    "p1, p2"
   ]
  },
  {
   "cell_type": "code",
   "execution_count": null,
   "metadata": {},
   "outputs": [],
   "source": []
  }
 ],
 "metadata": {
  "file_extension": ".py",
  "kernelspec": {
   "display_name": ".aocenvpy313",
   "language": "python",
   "name": "python3"
  },
  "language_info": {
   "codemirror_mode": {
    "name": "ipython",
    "version": 3
   },
   "file_extension": ".py",
   "mimetype": "text/x-python",
   "name": "python",
   "nbconvert_exporter": "python",
   "pygments_lexer": "ipython3",
   "version": "3.13.0"
  },
  "mimetype": "text/x-python",
  "name": "python",
  "npconvert_exporter": "python",
  "orig_nbformat": 2,
  "pygments_lexer": "ipython3",
  "version": 3
 },
 "nbformat": 4,
 "nbformat_minor": 2
}
