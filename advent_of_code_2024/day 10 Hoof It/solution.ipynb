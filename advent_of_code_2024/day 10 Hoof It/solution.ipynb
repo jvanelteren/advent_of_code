{
 "cells": [
  {
   "cell_type": "code",
   "execution_count": 3,
   "metadata": {},
   "outputs": [],
   "source": [
    "from collections import defaultdict\n",
    "from aocutils.grid import gridneigh"
   ]
  },
  {
   "cell_type": "code",
   "execution_count": 4,
   "metadata": {},
   "outputs": [
    {
     "data": {
      "text/plain": [
       "531"
      ]
     },
     "execution_count": 4,
     "metadata": {},
     "output_type": "execute_result"
    }
   ],
   "source": [
    "# \n",
    "grid, neigh = gridneigh(\"in.txt\", to_dict=True, parser=lambda x: [int(ch) for ch in x])\n",
    "heads = {k for k,v in grid.items() if v == 0}\n",
    "ans = 0\n",
    "for head in heads:\n",
    "    options = {head}\n",
    "    for step in range(1,10):\n",
    "        newoptions = set()\n",
    "        for o in options:\n",
    "            for n in neigh[o]:\n",
    "                if grid[n] == step:\n",
    "                    newoptions.add(n)\n",
    "        # lost 1 minute because I didn't ident this correctly\n",
    "        options = newoptions\n",
    "        if step == 9:\n",
    "            ans += len(options)\n",
    "ans"
   ]
  },
  {
   "cell_type": "code",
   "execution_count": 5,
   "metadata": {},
   "outputs": [
    {
     "data": {
      "text/plain": [
       "1210"
      ]
     },
     "execution_count": 5,
     "metadata": {},
     "output_type": "execute_result"
    }
   ],
   "source": [
    "# grid\n",
    "ans = 0\n",
    "for head in heads:\n",
    "    options = {head:1}\n",
    "    \n",
    "    for step in range(1,10):\n",
    "        newoptions = defaultdict(int)\n",
    "        for o in options:\n",
    "            cnt = options[o]\n",
    "            for n in neigh[o]:\n",
    "                if grid[n] == step:\n",
    "                    newoptions[n] += cnt\n",
    "        options = newoptions\n",
    "        if step == 9:\n",
    "            ans += sum(options.values())\n",
    "ans"
   ]
  }
 ],
 "metadata": {
  "file_extension": ".py",
  "kernelspec": {
   "display_name": ".aocenvpy313",
   "language": "python",
   "name": "python3"
  },
  "language_info": {
   "codemirror_mode": {
    "name": "ipython",
    "version": 3
   },
   "file_extension": ".py",
   "mimetype": "text/x-python",
   "name": "python",
   "nbconvert_exporter": "python",
   "pygments_lexer": "ipython3",
   "version": "3.13.0"
  },
  "mimetype": "text/x-python",
  "name": "python",
  "npconvert_exporter": "python",
  "orig_nbformat": 2,
  "pygments_lexer": "ipython3",
  "version": 3
 },
 "nbformat": 4,
 "nbformat_minor": 2
}
