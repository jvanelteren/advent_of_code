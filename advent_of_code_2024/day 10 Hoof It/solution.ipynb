{
 "cells": [
  {
   "cell_type": "code",
   "execution_count": 18,
   "metadata": {},
   "outputs": [],
   "source": [
    "from collections import defaultdict\n",
    "from aocutils.grid import gridneigh"
   ]
  },
  {
   "cell_type": "code",
   "execution_count": 34,
   "metadata": {},
   "outputs": [
    {
     "data": {
      "text/plain": [
       "(531, 1210)"
      ]
     },
     "execution_count": 34,
     "metadata": {},
     "output_type": "execute_result"
    }
   ],
   "source": [
    "grid, neigh = gridneigh(\"in.txt\", to_dict=True, parser=lambda x: [int(ch) for ch in x])\n",
    "heads = {loc for loc in grid if grid[loc] == 0}\n",
    "p1, p2 = 0, 0\n",
    "for head in heads:\n",
    "    options = [head]\n",
    "    for step in range(1,10):\n",
    "        newoptions = []\n",
    "        for o in options:\n",
    "            for n in neigh[o]:\n",
    "                if grid[n] == step:\n",
    "                    newoptions.append(n)\n",
    "        options = newoptions\n",
    "    p1 += len(set(options))\n",
    "    p2 += len(options)\n",
    "p1, p2"
   ]
  }
 ],
 "metadata": {
  "file_extension": ".py",
  "kernelspec": {
   "display_name": ".aocenvpy313",
   "language": "python",
   "name": "python3"
  },
  "language_info": {
   "codemirror_mode": {
    "name": "ipython",
    "version": 3
   },
   "file_extension": ".py",
   "mimetype": "text/x-python",
   "name": "python",
   "nbconvert_exporter": "python",
   "pygments_lexer": "ipython3",
   "version": "3.13.0"
  },
  "mimetype": "text/x-python",
  "name": "python",
  "npconvert_exporter": "python",
  "orig_nbformat": 2,
  "pygments_lexer": "ipython3",
  "version": 3
 },
 "nbformat": 4,
 "nbformat_minor": 2
}
