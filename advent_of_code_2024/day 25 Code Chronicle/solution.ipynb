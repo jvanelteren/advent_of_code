{
 "cells": [
  {
   "cell_type": "code",
   "execution_count": 12,
   "metadata": {},
   "outputs": [
    {
     "data": {
      "text/plain": [
       "3021"
      ]
     },
     "execution_count": 12,
     "metadata": {},
     "output_type": "execute_result"
    }
   ],
   "source": [
    "f = open(\"in.txt\").read().split(\"\\n\\n\")\n",
    "lines = [line.split('\\n') for line in f]\n",
    "\n",
    "keys, locks = [], []\n",
    "\n",
    "for keylock in lines:\n",
    "    check = [sum(1 if row[c]=='#' else 0 \n",
    "                for row in keylock) - 1 \n",
    "                for c in range(len(keylock[0]))]\n",
    "    # alternatively the below from 4HbQ is more elegant\n",
    "    check = [col.count('#')-1 for col in zip(*keylock)]\n",
    "    keys.append(check) if keylock[0][0] == '.' else locks.append(check)\n",
    "        \n",
    "sum(all(x+y < 6 for x,y in zip(k,l)) for k in keys for l in locks)"
   ]
  }
 ],
 "metadata": {
  "file_extension": ".py",
  "kernelspec": {
   "display_name": ".aocenvpy313",
   "language": "python",
   "name": "python3"
  },
  "language_info": {
   "codemirror_mode": {
    "name": "ipython",
    "version": 3
   },
   "file_extension": ".py",
   "mimetype": "text/x-python",
   "name": "python",
   "nbconvert_exporter": "python",
   "pygments_lexer": "ipython3",
   "version": "3.13.0"
  },
  "mimetype": "text/x-python",
  "name": "python",
  "npconvert_exporter": "python",
  "orig_nbformat": 2,
  "pygments_lexer": "ipython3",
  "version": 3
 },
 "nbformat": 4,
 "nbformat_minor": 2
}
