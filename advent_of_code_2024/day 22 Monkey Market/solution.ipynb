{
 "cells": [
  {
   "cell_type": "code",
   "execution_count": 14,
   "metadata": {},
   "outputs": [],
   "source": [
    "from aocutils.common import zippify\n",
    "import itertools\n",
    "\n",
    "def mixprune(secret, val):\n",
    "    return (secret ^ val) % 16777216\n",
    "\n",
    "def step(secret):\n",
    "    secret = mixprune(secret, secret * 64)\n",
    "    secret = mixprune(secret, secret//32)\n",
    "    return   mixprune(secret, secret * 2048)"
   ]
  },
  {
   "cell_type": "code",
   "execution_count": 15,
   "metadata": {},
   "outputs": [
    {
     "data": {
      "text/plain": [
       "20071921341"
      ]
     },
     "execution_count": 15,
     "metadata": {},
     "output_type": "execute_result"
    }
   ],
   "source": [
    "f = open(\"in.txt\").read().split(\"\\n\")\n",
    "lines = [line for line in f]\n",
    "\n",
    "ans = 0\n",
    "monkeys = []\n",
    "for line in lines:\n",
    "    secret = int(line)\n",
    "    numbers = [secret%10]\n",
    "    for _ in range(2000):\n",
    "        secret = step(secret)\n",
    "        numbers.append(secret % 10)\n",
    "    ans += secret \n",
    "    deltas = [b-a for a,b in zippify(numbers,2)]\n",
    "    changes = {}\n",
    "    for idx, change in enumerate(zippify(deltas, 4), start=4):\n",
    "        if change not in changes:\n",
    "            changes[change] = numbers[idx]\n",
    "    monkeys.append(changes)\n",
    "ans"
   ]
  },
  {
   "cell_type": "code",
   "execution_count": 13,
   "metadata": {},
   "outputs": [
    {
     "data": {
      "text/plain": [
       "2242"
      ]
     },
     "execution_count": 13,
     "metadata": {},
     "output_type": "execute_result"
    }
   ],
   "source": [
    "p2 = -float('inf')\n",
    "for comb in itertools.product(list(range(-9, 10)), repeat=4):   \n",
    "    p2 = max(p2, sum(m.get(comb, 0) for m in monkeys))\n",
    "p2"
   ]
  }
 ],
 "metadata": {
  "file_extension": ".py",
  "kernelspec": {
   "display_name": ".aocenvpy313",
   "language": "python",
   "name": "python3"
  },
  "language_info": {
   "codemirror_mode": {
    "name": "ipython",
    "version": 3
   },
   "file_extension": ".py",
   "mimetype": "text/x-python",
   "name": "python",
   "nbconvert_exporter": "python",
   "pygments_lexer": "ipython3",
   "version": "3.13.0"
  },
  "mimetype": "text/x-python",
  "name": "python",
  "npconvert_exporter": "python",
  "orig_nbformat": 2,
  "pygments_lexer": "ipython3",
  "version": 3
 },
 "nbformat": 4,
 "nbformat_minor": 2
}
