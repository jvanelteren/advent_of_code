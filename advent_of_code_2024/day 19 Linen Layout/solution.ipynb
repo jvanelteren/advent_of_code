{
 "cells": [
  {
   "cell_type": "code",
   "execution_count": 8,
   "metadata": {},
   "outputs": [
    {
     "data": {
      "text/plain": [
       "(344, 996172272010026)"
      ]
     },
     "execution_count": 8,
     "metadata": {},
     "output_type": "execute_result"
    }
   ],
   "source": [
    "from functools import cache\n",
    "\n",
    "f = open(\"in.txt\").read().split(\"\\n\\n\")\n",
    "lines = [line for line in f]\n",
    "options = set(lines[0].split(', '))\n",
    "maxlen = max(len(o) for o in options)\n",
    "\n",
    "@cache\n",
    "def find(towel, idx):\n",
    "    if idx == len(towel):\n",
    "        return 1\n",
    "    ans = 0\n",
    "    for step in range(1,maxlen+1):\n",
    "        if towel[idx:idx+step] in options:\n",
    "            ans += find(towel, idx + step)\n",
    "    return ans\n",
    "    \n",
    "p1, p2 = 0, 0\n",
    "for towel in lines[1].split('\\n'):\n",
    "    idx = 0\n",
    "    p1 += find(towel, 0) != False\n",
    "    p2 += find(towel, 0)\n",
    "p1, p2"
   ]
  }
 ],
 "metadata": {
  "file_extension": ".py",
  "kernelspec": {
   "display_name": ".aocenvpy313",
   "language": "python",
   "name": "python3"
  },
  "language_info": {
   "codemirror_mode": {
    "name": "ipython",
    "version": 3
   },
   "file_extension": ".py",
   "mimetype": "text/x-python",
   "name": "python",
   "nbconvert_exporter": "python",
   "pygments_lexer": "ipython3",
   "version": "3.13.0"
  },
  "mimetype": "text/x-python",
  "name": "python",
  "npconvert_exporter": "python",
  "orig_nbformat": 2,
  "pygments_lexer": "ipython3",
  "version": 3
 },
 "nbformat": 4,
 "nbformat_minor": 2
}
