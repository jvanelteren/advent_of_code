{
 "cells": [
  {
   "cell_type": "code",
   "execution_count": 1,
   "metadata": {},
   "outputs": [],
   "source": [
    "from collections import defaultdict\n",
    "from aocutils.grid import move, gridneigh, arr_to_dict, dimensions\n",
    "E = (0,1); W = (0,-1); N = (-1,0); S = (1,0)"
   ]
  },
  {
   "cell_type": "code",
   "execution_count": 2,
   "metadata": {},
   "outputs": [],
   "source": [
    "# grid\n",
    "grid, neigh = gridneigh(\"in.txt\", to_dict=True, parser=lambda x: [(ch) for ch in x])\n",
    "(minr, minc), (maxr, maxc), (rows, cols) = dimensions(grid)"
   ]
  },
  {
   "cell_type": "code",
   "execution_count": 3,
   "metadata": {},
   "outputs": [],
   "source": [
    "plots = defaultdict(set)\n",
    "seen = {}\n",
    "curplot = 0\n",
    "for k,v in grid.items():\n",
    "    if k not in seen:\n",
    "        curplot += 1\n",
    "        item = v\n",
    "        newseen = set()\n",
    "        tocheck = [k]\n",
    "        while tocheck:\n",
    "            cur = tocheck.pop()\n",
    "            if cur not in newseen:\n",
    "                newseen.add(cur)\n",
    "                for n in neigh[cur]:\n",
    "                    if grid[n] == item:\n",
    "                        tocheck.append(n)\n",
    "        for k in newseen:\n",
    "            seen[k] = curplot\n",
    "for k,v in seen.items():\n",
    "    plots[v].add(k)\n",
    "            "
   ]
  },
  {
   "cell_type": "code",
   "execution_count": 4,
   "metadata": {},
   "outputs": [
    {
     "data": {
      "text/plain": [
       "1431316"
      ]
     },
     "execution_count": 4,
     "metadata": {},
     "output_type": "execute_result"
    }
   ],
   "source": [
    "#p1\n",
    "ans = 0\n",
    "for k,v in plots.items():\n",
    "    fences = 0\n",
    "    for cell in v:\n",
    "        l = set(neigh[cell]) - v\n",
    "        fences += len(l)\n",
    "        # forgot to count edges initially\n",
    "        if cell[0] == minr or cell[0] == maxr:\n",
    "            fences += 1\n",
    "        if cell[1] == minc or cell[1] == maxc:\n",
    "            fences += 1\n",
    "        \n",
    "    ans += fences * len(v)\n",
    "ans"
   ]
  },
  {
   "cell_type": "code",
   "execution_count": 5,
   "metadata": {},
   "outputs": [
    {
     "data": {
      "text/plain": [
       "821428"
      ]
     },
     "execution_count": 5,
     "metadata": {},
     "output_type": "execute_result"
    }
   ],
   "source": [
    "# p2\n",
    "ans = 0\n",
    "for k,v in plots.items():\n",
    "    sides = defaultdict(list)\n",
    "    \n",
    "    for cell in v:\n",
    "        if move(cell, N) not in v:\n",
    "            sides[('r', cell[0], cell[0] - 0.5)].append(cell[1])\n",
    "        if move(cell, S) not in v:\n",
    "            sides[('r', cell[0], cell[0] + 0.5)].append(cell[1])\n",
    "        if move(cell, W) not in v:\n",
    "            sides[('c', cell[1], cell[1] - 0.5)].append(cell[0])\n",
    "        if move(cell, E) not in v:\n",
    "            sides[('c', cell[1], cell[1] + 0.5)].append(cell[0])\n",
    "    \n",
    "    fences = 0\n",
    "    for k1,v1 in sides.items():\n",
    "        elements = sorted(v1)\n",
    "        cur = elements.pop()\n",
    "        while elements:\n",
    "            newcur = elements.pop()\n",
    "            if newcur < cur - 1:\n",
    "                fences += 1\n",
    "            cur = newcur\n",
    "        fences += 1\n",
    "    ans += fences * len(v)\n",
    "ans"
   ]
  },
  {
   "cell_type": "code",
   "execution_count": null,
   "metadata": {},
   "outputs": [
    {
     "name": "stdout",
     "output_type": "stream",
     "text": [
      "[(0, 1), (1, 2), (2, 3), (3, 5), (4, 10), (5, 11)]\n",
      "[]\n"
     ]
    }
   ],
   "source": [
    "from itertools import groupby\n",
    "from operator import itemgetter\n",
    "\n",
    "def split_list(numbers):\n",
    "    # Enumerate the list to create pairs of index and value\n",
    "    indexed_numbers = enumerate(numbers)\n",
    "    print(list(indexed_numbers))\n",
    "\n",
    "    # Use groupby to group numbers by the difference between their value and their index\n",
    "    groups = groupby(indexed_numbers, key=lambda x: x[1] - x[0])\n",
    "\n",
    "    # Extract the values from the grouped items\n",
    "    result = [list(map(itemgetter(1), group)) for _, group in groups]\n",
    "\n",
    "    return result\n",
    "\n",
    "# Example usage\n",
    "numbers = [5, 10, 11, 12, 13, 11]\n",
    "result = split_list(numbers)\n",
    "print(result)  # Output: [[1, 2, 3], [5], [10, 11]]\n"
   ]
  }
 ],
 "metadata": {
  "file_extension": ".py",
  "kernelspec": {
   "display_name": ".aocenvpy313",
   "language": "python",
   "name": "python3"
  },
  "language_info": {
   "codemirror_mode": {
    "name": "ipython",
    "version": 3
   },
   "file_extension": ".py",
   "mimetype": "text/x-python",
   "name": "python",
   "nbconvert_exporter": "python",
   "pygments_lexer": "ipython3",
   "version": "3.13.0"
  },
  "mimetype": "text/x-python",
  "name": "python",
  "npconvert_exporter": "python",
  "orig_nbformat": 2,
  "pygments_lexer": "ipython3",
  "version": 3
 },
 "nbformat": 4,
 "nbformat_minor": 2
}
