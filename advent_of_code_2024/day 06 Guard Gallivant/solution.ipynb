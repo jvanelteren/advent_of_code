{
 "cells": [
  {
   "cell_type": "code",
   "execution_count": 5,
   "metadata": {},
   "outputs": [],
   "source": [
    "from aocutils.grid import TURNRIGHT, TURNLEFT, move, gridneigh, arr_to_dict\n",
    "E = (0,1); W = (0,-1); N = (-1,0); S = (1,0)\n",
    "winds = [N, E, S, W]"
   ]
  },
  {
   "cell_type": "code",
   "execution_count": 20,
   "metadata": {},
   "outputs": [
    {
     "name": "stdout",
     "output_type": "stream",
     "text": [
      "5453\n"
     ]
    }
   ],
   "source": [
    "\n",
    "grid, neigh = gridneigh(\"in.txt\", to_dict=True, parser=lambda x: [(ch) for ch in x])\n",
    "free = [k for k,v in grid.items() if v == '.']\n",
    "start = [k for k,v in grid.items() if v == '^'][0]\n",
    "\n",
    "ans = 0\n",
    "direc = N\n",
    "seen = set([start])\n",
    "loc = start\n",
    "try:\n",
    "    for _ in range(len(grid)):\n",
    "        newloc = move(loc, direc)\n",
    "        if grid[newloc] != '#':\n",
    "            seen.add(newloc)\n",
    "            loc = newloc\n",
    "        else:\n",
    "            direc = TURNRIGHT(direc)\n",
    "except:\n",
    "    print(len(seen))"
   ]
  },
  {
   "cell_type": "code",
   "execution_count": null,
   "metadata": {},
   "outputs": [
    {
     "data": {
      "text/plain": [
       "2188"
      ]
     },
     "execution_count": 8,
     "metadata": {},
     "output_type": "execute_result"
    }
   ],
   "source": [
    "# p2 brute force takes 35 sec\n",
    "ans = 0\n",
    "for cell in free:\n",
    "    grid[cell] = '#'\n",
    "    direc = N\n",
    "    seen = set([start])\n",
    "    loc = start\n",
    "    try:\n",
    "        for _ in range(len(grid)):\n",
    "            newloc = move(loc, direc)\n",
    "            if grid[newloc] != '#':\n",
    "                seen.add(newloc)\n",
    "                loc = newloc\n",
    "            else:\n",
    "                direc = TURNRIGHT(direc)\n",
    "    except:\n",
    "        pass\n",
    "    else:\n",
    "        ans += 1\n",
    "    grid[cell] = '.'\n",
    "ans\n",
    "    \n"
   ]
  },
  {
   "cell_type": "code",
   "execution_count": null,
   "metadata": {},
   "outputs": [
    {
     "data": {
      "text/plain": [
       "2188"
      ]
     },
     "execution_count": 11,
     "metadata": {},
     "output_type": "execute_result"
    }
   ],
   "source": [
    "# p2 brute force without storing seen locations takes 24 sec\n",
    "ans = 0\n",
    "for cell in free:\n",
    "    grid[cell] = '#'\n",
    "    direc = N\n",
    "    loc = start\n",
    "    try:\n",
    "        for _ in range(len(grid)):\n",
    "            newloc = move(loc, direc)\n",
    "            if grid[newloc] != '#':\n",
    "                loc = newloc\n",
    "            else:\n",
    "                direc = TURNRIGHT(direc)\n",
    "    except:\n",
    "        pass\n",
    "    else:\n",
    "        ans += 1\n",
    "    grid[cell] = '.'\n",
    "ans\n",
    "    \n"
   ]
  },
  {
   "cell_type": "code",
   "execution_count": 15,
   "metadata": {},
   "outputs": [
    {
     "data": {
      "text/plain": [
       "2188"
      ]
     },
     "execution_count": 15,
     "metadata": {},
     "output_type": "execute_result"
    }
   ],
   "source": [
    "\n",
    "# p2 with early detection if stuck in a loop takes 46 sec!\n",
    "ans = len(free)\n",
    "for cell in free:\n",
    "    grid[cell] = '#'\n",
    "    direc = N\n",
    "    seen = set([start, direc])\n",
    "    loc = start\n",
    "    try:\n",
    "        for _ in range(len(grid)):\n",
    "            newloc = move(loc, direc)\n",
    "            if grid[newloc] != '#':\n",
    "                if (newloc, direc) in seen:\n",
    "                    break\n",
    "                seen.add((newloc, direc))\n",
    "                loc = newloc\n",
    "            else:\n",
    "                direc = TURNRIGHT(direc)\n",
    "    except:\n",
    "        ans -= 1\n",
    "        \n",
    "    grid[cell] = '.'\n",
    "ans\n",
    "    \n"
   ]
  },
  {
   "cell_type": "code",
   "execution_count": 22,
   "metadata": {},
   "outputs": [
    {
     "name": "stdout",
     "output_type": "stream",
     "text": [
      "5453\n"
     ]
    },
    {
     "data": {
      "text/plain": [
       "2188"
      ]
     },
     "execution_count": 22,
     "metadata": {},
     "output_type": "execute_result"
    }
   ],
   "source": [
    "# p2 brute force without storing seen locations takes and only cells travelled for p1 takes 10 sec\n",
    "grid, neigh = gridneigh(\"in.txt\", to_dict=True, parser=lambda x: [(ch) for ch in x])\n",
    "free = [k for k,v in grid.items() if v == '.']\n",
    "start = [k for k,v in grid.items() if v == '^'][0]\n",
    "\n",
    "ans = 0\n",
    "direc = N\n",
    "seen = set([start])\n",
    "loc = start\n",
    "try:\n",
    "    for _ in range(len(grid)):\n",
    "        newloc = move(loc, direc)\n",
    "        if grid[newloc] != '#':\n",
    "            seen.add(newloc)\n",
    "            loc = newloc\n",
    "        else:\n",
    "            direc = TURNRIGHT(direc)\n",
    "except:\n",
    "    print(len(seen))\n",
    "    \n",
    "ans = 0\n",
    "for cell in seen - set([start]):\n",
    "    grid[cell] = '#'\n",
    "    direc = N\n",
    "    loc = start\n",
    "    try:\n",
    "        for _ in range(len(grid)):\n",
    "            newloc = move(loc, direc)\n",
    "            if grid[newloc] != '#':\n",
    "                loc = newloc\n",
    "            else:\n",
    "                direc = TURNRIGHT(direc)\n",
    "    except:\n",
    "        pass\n",
    "    else:\n",
    "        ans += 1\n",
    "    grid[cell] = '.'\n",
    "ans\n",
    "    \n"
   ]
  },
  {
   "cell_type": "code",
   "execution_count": null,
   "metadata": {},
   "outputs": [],
   "source": []
  },
  {
   "cell_type": "code",
   "execution_count": null,
   "metadata": {},
   "outputs": [],
   "source": []
  },
  {
   "cell_type": "code",
   "execution_count": null,
   "metadata": {},
   "outputs": [],
   "source": []
  },
  {
   "cell_type": "code",
   "execution_count": null,
   "metadata": {},
   "outputs": [],
   "source": []
  },
  {
   "cell_type": "code",
   "execution_count": null,
   "metadata": {},
   "outputs": [
    {
     "data": {
      "text/plain": [
       "16075"
      ]
     },
     "execution_count": 2,
     "metadata": {},
     "output_type": "execute_result"
    }
   ],
   "source": [
    "\n",
    "grid, neigh = gridneigh(\"in.txt\", to_dict=True, parser=lambda x: [(ch) for ch in x])\n",
    "free = [k for k,v in grid.items() if v == '.']\n",
    "loc = [k for k,v in grid.items() if v == '^'][0]\n",
    "\n",
    "ans = 0\n",
    "for cell in free:\n",
    "    grid[cell] = '#'\n",
    "    seen = set([start])\n",
    "    direc = N\n",
    "    try:\n",
    "        for _ in range(len(grid)):\n",
    "            newloc = move(start, direc)\n",
    "            if grid[newloc] != '#':\n",
    "                seen.add(newloc)\n",
    "                loc = newloc\n",
    "                # print(loc)\n",
    "            else:\n",
    "                direc = TURNRIGHT(direc)\n",
    "    except:\n",
    "        pass\n",
    "    else:\n",
    "        ans += 1\n",
    "    \n",
    "    grid[cell] = '.'\n",
    "ans\n",
    "    "
   ]
  }
 ],
 "metadata": {
  "file_extension": ".py",
  "kernelspec": {
   "display_name": ".aocenvpy313",
   "language": "python",
   "name": "python3"
  },
  "language_info": {
   "codemirror_mode": {
    "name": "ipython",
    "version": 3
   },
   "file_extension": ".py",
   "mimetype": "text/x-python",
   "name": "python",
   "nbconvert_exporter": "python",
   "pygments_lexer": "ipython3",
   "version": "3.13.0"
  },
  "mimetype": "text/x-python",
  "name": "python",
  "npconvert_exporter": "python",
  "orig_nbformat": 2,
  "pygments_lexer": "ipython3",
  "version": 3
 },
 "nbformat": 4,
 "nbformat_minor": 2
}
