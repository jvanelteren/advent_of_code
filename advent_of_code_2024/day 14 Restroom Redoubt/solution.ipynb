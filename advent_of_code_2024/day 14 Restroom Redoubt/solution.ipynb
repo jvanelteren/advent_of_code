{
 "cells": [
  {
   "cell_type": "code",
   "execution_count": 1,
   "metadata": {},
   "outputs": [],
   "source": [
    "from math import prod\n",
    "from collections import defaultdict\n",
    "from aocutils.common import ints\n",
    "from aocutils.grid import move\n",
    "from aocutils.visuals import plot, animate\n"
   ]
  },
  {
   "cell_type": "code",
   "execution_count": 2,
   "metadata": {},
   "outputs": [
    {
     "name": "stdout",
     "output_type": "stream",
     "text": [
      "[(0, 31), (1, 134), (2, 237), (3, 340), (4, 443), (5, 546), (6, 649), (7, 752), (8, 855), (9, 958), (10, 1061), (11, 1164), (12, 1267), (13, 1370), (14, 1473), (15, 1576), (16, 1679), (17, 1782), (18, 1885), (19, 1988), (20, 2091), (21, 2194), (22, 2297), (23, 2400), (24, 2503), (25, 2606), (26, 2709), (27, 2812), (28, 2915), (29, 3018), (30, 3121), (31, 3224), (32, 3327), (33, 3430), (34, 3533), (35, 3636), (36, 3739), (37, 3842), (38, 3945), (39, 4048), (40, 4151), (41, 4254), (42, 4357), (43, 4460), (44, 4563), (45, 4666), (46, 4769), (47, 4872), (48, 4975), (49, 5078), (50, 5181), (51, 5284), (52, 5387), (53, 5490), (54, 5593), (55, 5696), (56, 5799), (57, 5902), (58, 6005), (59, 6108), (60, 6211), (61, 6314), (62, 6417), (63, 6520), (64, 6623), (65, 6726), (66, 6829), (67, 6932), (68, 7035), (69, 7138), (70, 7241), (71, 7344), (72, 7447), (73, 7550), (74, 7653), (75, 7756), (76, 7859), (77, 7962), (78, 8065), (79, 8168), (80, 8271), (81, 8374), (82, 8477), (83, 8580), (84, 8683), (85, 8786), (86, 8889), (87, 8992), (88, 9095), (89, 9198), (90, 9301), (91, 9404), (92, 9507), (93, 9610), (94, 9713), (95, 9816), (96, 9919)]\n"
     ]
    },
    {
     "data": {
      "application/vnd.jupyter.widget-view+json": {
       "model_id": "30678e40ca3e4b86b2cd894b9708cabb",
       "version_major": 2,
       "version_minor": 0
      },
      "text/plain": [
       "interactive(children=(IntSlider(value=0, description='frame', max=96), Output()), _dom_classes=('widget-intera…"
      ]
     },
     "metadata": {},
     "output_type": "display_data"
    }
   ],
   "source": [
    "f = open(\"in.txt\").read().split(\"\\n\")\n",
    "maxx = 101\n",
    "maxy = 103\n",
    "\n",
    "robots = [list(ints(line)) for line in f]\n",
    "sets = []\n",
    "\n",
    "def getqscore(robots):\n",
    "    q = defaultdict(int)\n",
    "    for x,y,dx,dy in robots:\n",
    "        if x != maxx//2 and y != maxy //2:\n",
    "            q[(x < (maxx//2), y < (maxy//2))] += 1\n",
    "    return prod(q.values())\n",
    "\n",
    "for sec in range(1,10000):\n",
    "    counts = defaultdict(int)\n",
    "    for idx, (x,y,dx,dy) in enumerate(robots):\n",
    "        nx,ny = move((x,y), (dx,dy))\n",
    "        nx, ny = ((nx % maxx), (ny % maxy))\n",
    "        counts['x',nx] +=1\n",
    "        counts['y',ny]+=1\n",
    "        robots[idx][0] = nx\n",
    "        robots[idx][1] = ny\n",
    "    # you can have fewer frames by looking at the q score, or by looking when the maxcount for a row of column is high\n",
    "    if getqscore(robots) <  100163520:\n",
    "        sets.append((sec, {(r[0],r[1]) for r in robots}))\n",
    "print([(idx,a) for idx, (a,b) in enumerate(sets)])\n",
    "animate([b for a,b in sets])   \n",
    "    \n"
   ]
  }
 ],
 "metadata": {
  "file_extension": ".py",
  "kernelspec": {
   "display_name": ".aocenvpy313",
   "language": "python",
   "name": "python3"
  },
  "language_info": {
   "codemirror_mode": {
    "name": "ipython",
    "version": 3
   },
   "file_extension": ".py",
   "mimetype": "text/x-python",
   "name": "python",
   "nbconvert_exporter": "python",
   "pygments_lexer": "ipython3",
   "version": "3.13.0"
  },
  "mimetype": "text/x-python",
  "name": "python",
  "npconvert_exporter": "python",
  "orig_nbformat": 2,
  "pygments_lexer": "ipython3",
  "version": 3
 },
 "nbformat": 4,
 "nbformat_minor": 2
}
