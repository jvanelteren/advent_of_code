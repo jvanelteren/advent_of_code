{
 "cells": [
  {
   "cell_type": "code",
   "execution_count": 2,
   "metadata": {},
   "outputs": [],
   "source": [
    "from math import prod\n",
    "from collections import defaultdict\n",
    "from aocutils.common import ints\n",
    "from aocutils.grid import move\n",
    "from aocutils.visuals import plot, animate\n"
   ]
  },
  {
   "cell_type": "code",
   "execution_count": 3,
   "metadata": {},
   "outputs": [
    {
     "data": {
      "application/vnd.jupyter.widget-view+json": {
       "model_id": "8efbede24c404f6997fb51d5a33e38c1",
       "version_major": 2,
       "version_minor": 0
      },
      "text/plain": [
       "interactive(children=(IntSlider(value=0, description='frame', max=96), Output()), _dom_classes=('widget-intera…"
      ]
     },
     "metadata": {},
     "output_type": "display_data"
    }
   ],
   "source": [
    "f = open(\"in.txt\").read().split(\"\\n\")\n",
    "maxx = 101\n",
    "maxy = 103\n",
    "\n",
    "robots = [list(ints(line)) for line in f]\n",
    "sets = []\n",
    "\n",
    "def getqscore(robots):\n",
    "    q = defaultdict(int)\n",
    "    for x,y,dx,dy in robots:\n",
    "        if x != maxx//2 and y != maxy //2:\n",
    "            q[(x < (maxx//2), y < (maxy//2))] += 1\n",
    "    return prod(q.values())\n",
    "\n",
    "for sec in range(1,10000):\n",
    "    counts = defaultdict(int)\n",
    "    for idx, (x,y,dx,dy) in enumerate(robots):\n",
    "        nx,ny = move((x,y), (dx,dy))\n",
    "        nx, ny = ((nx % maxx), (ny % maxy))\n",
    "        counts['x',nx] +=1\n",
    "        counts['y',ny]+=1\n",
    "        robots[idx][0] = nx\n",
    "        robots[idx][1] = ny\n",
    "    # you can have fewer frames by looking at the q score, or by looking when the maxcount for a row of column is high\n",
    "    if getqscore(robots) <  100163520:\n",
    "        sets.append((sec, {(r[0],r[1]) for r in robots}))\n",
    "    # print(sec, getqscore(robots))\n",
    "# print([(idx,a) for idx, (a,b) in enumerate(sets)])\n",
    "animate([b for a,b in sets])   \n",
    "    \n"
   ]
  },
  {
   "cell_type": "code",
   "execution_count": null,
   "metadata": {},
   "outputs": [],
   "source": []
  }
 ],
 "metadata": {
  "file_extension": ".py",
  "kernelspec": {
   "display_name": ".aocenvpy313",
   "language": "python",
   "name": "python3"
  },
  "language_info": {
   "codemirror_mode": {
    "name": "ipython",
    "version": 3
   },
   "file_extension": ".py",
   "mimetype": "text/x-python",
   "name": "python",
   "nbconvert_exporter": "python",
   "pygments_lexer": "ipython3",
   "version": "3.13.0"
  },
  "mimetype": "text/x-python",
  "name": "python",
  "npconvert_exporter": "python",
  "orig_nbformat": 2,
  "pygments_lexer": "ipython3",
  "version": 3
 },
 "nbformat": 4,
 "nbformat_minor": 2
}
