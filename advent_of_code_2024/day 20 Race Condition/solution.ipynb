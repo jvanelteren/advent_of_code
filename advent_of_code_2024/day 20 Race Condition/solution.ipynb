{
 "cells": [
  {
   "cell_type": "code",
   "execution_count": 2,
   "metadata": {},
   "outputs": [],
   "source": [
    "from collections import defaultdict, deque\n",
    "from aocutils.grid import move, gridneigh \n",
    "E = (0,1); W = (0,-1); N = (-1,0); S = (1,0)\n",
    "winds = [N, E, S, W]"
   ]
  },
  {
   "cell_type": "code",
   "execution_count": 3,
   "metadata": {},
   "outputs": [],
   "source": [
    "def bfs(start, goal=None):\n",
    "    seen = {start}\n",
    "    dis = 0\n",
    "    d = defaultdict()\n",
    "    tocheck = deque([start])\n",
    "    while tocheck:\n",
    "        for _ in range(len(tocheck)):\n",
    "            cur = tocheck.popleft()\n",
    "            d[cur] = dis\n",
    "            for n in {newloc for wind in winds if (newloc := move(cur, wind)) in cells}:\n",
    "                if n not in seen:\n",
    "                    seen.add(n)\n",
    "                    if n == goal:\n",
    "                        return dis+1\n",
    "                    tocheck.append(n)\n",
    "        dis += 1\n",
    "    return d"
   ]
  },
  {
   "cell_type": "code",
   "execution_count": 4,
   "metadata": {},
   "outputs": [],
   "source": [
    "# grid\n",
    "grid, neigh = gridneigh(\"in.txt\", to_dict=True, parser=lambda x: [(ch) for ch in x])\n",
    "walls = {k for k,v in grid.items() if v == '#'}\n",
    "cells = {k for k,v in grid.items() if v != '#'}\n",
    "start = {k for k,v in grid.items() if v == 'S'}.pop()\n",
    "goal = {k for k,v in grid.items() if v == 'E'}.pop()\n",
    "\n",
    "disfromstart = bfs(start,(0,0))\n",
    "distogoal = bfs( goal, (0,0))"
   ]
  },
  {
   "cell_type": "code",
   "execution_count": 7,
   "metadata": {},
   "outputs": [
    {
     "data": {
      "text/plain": [
       "990096"
      ]
     },
     "execution_count": 7,
     "metadata": {},
     "output_type": "execute_result"
    }
   ],
   "source": [
    "maxcheat = 20\n",
    "jumps = defaultdict(lambda: defaultdict(list))\n",
    "for c in cells:\n",
    "    for dr in range(-maxcheat, maxcheat+1):\n",
    "        for dc in range(-maxcheat, maxcheat+1):\n",
    "            if abs(dr) + abs(dc) <= maxcheat:\n",
    "                newloc = c[0]+dr, c[1]+dc\n",
    "                if newloc in cells:\n",
    "                    jumps[c][abs(dr)+abs(dc)].append(newloc)\n",
    "ans = 0\n",
    "for cell, initialdistance in disfromstart.items():\n",
    "    for jumpdis, neighs in jumps[cell].items():\n",
    "        for n in neighs:\n",
    "            total = initialdistance + jumpdis + distogoal[n]\n",
    "            ans += disfromstart[goal] - total >= 100\n",
    "ans"
   ]
  }
 ],
 "metadata": {
  "file_extension": ".py",
  "kernelspec": {
   "display_name": ".aocenvpy313",
   "language": "python",
   "name": "python3"
  },
  "language_info": {
   "codemirror_mode": {
    "name": "ipython",
    "version": 3
   },
   "file_extension": ".py",
   "mimetype": "text/x-python",
   "name": "python",
   "nbconvert_exporter": "python",
   "pygments_lexer": "ipython3",
   "version": "3.13.0"
  },
  "mimetype": "text/x-python",
  "name": "python",
  "npconvert_exporter": "python",
  "orig_nbformat": 2,
  "pygments_lexer": "ipython3",
  "version": 3
 },
 "nbformat": 4,
 "nbformat_minor": 2
}
