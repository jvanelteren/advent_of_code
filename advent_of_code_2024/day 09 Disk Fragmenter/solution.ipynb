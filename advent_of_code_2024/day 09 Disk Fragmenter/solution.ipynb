{
 "cells": [
  {
   "cell_type": "code",
   "execution_count": 1,
   "metadata": {},
   "outputs": [],
   "source": [
    "from collections import deque\n",
    "from itertools import batched"
   ]
  },
  {
   "cell_type": "code",
   "execution_count": 12,
   "metadata": {},
   "outputs": [
    {
     "data": {
      "text/plain": [
       "6288599492129"
      ]
     },
     "execution_count": 12,
     "metadata": {},
     "output_type": "execute_result"
    }
   ],
   "source": [
    "f = open(\"in.txt\").read()\n",
    "files = deque([])\n",
    "frees = deque([])\n",
    "for file, free in batched(list(f),2):\n",
    "    files.append((int(file), len(files)))\n",
    "    frees.append(int(free))\n",
    "\n",
    "checksum = []\n",
    "pos = 0\n",
    "free = 0\n",
    "currentfile = [0,0] # blocks to go, idx\n",
    "while len(files):\n",
    "    if not free:\n",
    "        file, idx = files.popleft()\n",
    "        for _ in range(file):\n",
    "            checksum.append(idx)\n",
    "        pos += file\n",
    "        free = frees.popleft()\n",
    "    else:\n",
    "        if currentfile[0]:\n",
    "            checksum.append(currentfile[1])\n",
    "            pos += 1\n",
    "            currentfile[0] -= 1\n",
    "            free -= 1\n",
    "        else:\n",
    "            currentfile = list(files.pop())\n",
    "            \n",
    "for _ in range(currentfile[0]):\n",
    "    checksum.append(currentfile[1])\n",
    "        \n",
    "sum(idx * val for idx, val in enumerate(checksum))\n",
    "        \n",
    "    \n",
    "\n"
   ]
  },
  {
   "cell_type": "code",
   "execution_count": null,
   "metadata": {},
   "outputs": [
    {
     "data": {
      "text/plain": [
       "6321896265143"
      ]
     },
     "execution_count": 11,
     "metadata": {},
     "output_type": "execute_result"
    }
   ],
   "source": [
    "f = open(\"in.txt\").read()\n",
    "files = deque([])\n",
    "frees = []\n",
    "pos = 0\n",
    "for file, free in batched(list(f),2):\n",
    "    files.append((pos, int(file), len(files)))\n",
    "    pos += files[-1][1]\n",
    "    frees.append((pos, int(free)))\n",
    "    pos += frees[-1][1]\n",
    "\n",
    "newfiles = []\n",
    "\n",
    "for (pos, blocks, idx) in reversed(files):\n",
    "    for i in range(len(frees)):\n",
    "        posfree, lenfree = frees[i]\n",
    "        # first I forgot was also moving them, also the wrong way on disk! Had to add posfree < pos\n",
    "        if posfree > pos:\n",
    "            newfiles.append((pos, blocks, idx))\n",
    "            break\n",
    "        if lenfree >= blocks:\n",
    "            newfiles.append((posfree, blocks, idx))\n",
    "            newposfree = posfree + blocks\n",
    "            newlenfree = lenfree - blocks\n",
    "            frees[i] = (newposfree, newlenfree)\n",
    "            break\n",
    "    else:\n",
    "        newfiles.append((pos, blocks, idx))\n",
    "            \n",
    "check = 0\n",
    "for pos, blocks, idx in sorted(newfiles):\n",
    "    for i in range(blocks):\n",
    "        check += (pos + i) * idx\n",
    "check\n",
    "    "
   ]
  },
  {
   "cell_type": "code",
   "execution_count": null,
   "metadata": {},
   "outputs": [],
   "source": []
  }
 ],
 "metadata": {
  "file_extension": ".py",
  "kernelspec": {
   "display_name": ".aocenvpy313",
   "language": "python",
   "name": "python3"
  },
  "language_info": {
   "codemirror_mode": {
    "name": "ipython",
    "version": 3
   },
   "file_extension": ".py",
   "mimetype": "text/x-python",
   "name": "python",
   "nbconvert_exporter": "python",
   "pygments_lexer": "ipython3",
   "version": "3.13.0"
  },
  "mimetype": "text/x-python",
  "name": "python",
  "npconvert_exporter": "python",
  "orig_nbformat": 2,
  "pygments_lexer": "ipython3",
  "version": 3
 },
 "nbformat": 4,
 "nbformat_minor": 2
}
