{
 "cells": [
  {
   "cell_type": "code",
   "execution_count": 1,
   "metadata": {},
   "outputs": [],
   "source": [
    "import os\n",
    "from pathlib import Path\n",
    "import shutil\n",
    "\n",
    "core = Path(os.getcwd())/'solution.ipynb'\n",
    "p = Path(\"D:/Programmeren/adventofcode/advent_of_code_2024\")\n",
    "\n",
    "def copy_solution_template():\n",
    "    # overwrites all solutions for dirs that do not have the puzzle name yet\n",
    "    for i in range(1,26):\n",
    "        p = Path(os.getcwd())/('day '+str(i).zfill(2))/'solution.ipynb'\n",
    "        if p.exists():\n",
    "            p.unlink()\n",
    "            shutil.copy(core, p)\n",
    "        \n",
    "       \n",
    "def init_year():        \n",
    "    for i in range(1,26):\n",
    "        dir = p/('day '+str(i).zfill(2))\n",
    "        # shutil.rmtree(dir)\n",
    "        # dir = p/('day '+str(i).zfill(2))\n",
    "        print(dir)\n",
    "        os.chdir(p)\n",
    "        if not (os.path.isdir(dir)): \n",
    "            os.mkdir(dir)\n",
    "        os.chdir(dir)\n",
    "        try:\n",
    "            f = open('in.txt', 'w+')\n",
    "            f.write('This is day'+ str(i) + ' -999  ')\n",
    "            open('t0.txt', 'w+')\n",
    "            open('t1.txt', 'w+')\n",
    "            open('t2.txt', 'w+')\n",
    "            shutil.copyfile(core, dir/'solution.ipynb')\n",
    "        except FileExistsError:\n",
    "            pass"
   ]
  },
  {
   "cell_type": "code",
   "execution_count": 3,
   "metadata": {},
   "outputs": [
    {
     "name": "stdout",
     "output_type": "stream",
     "text": [
      "D:\\Programmeren\\adventofcode\\advent_of_code_2024\\day 01\n",
      "D:\\Programmeren\\adventofcode\\advent_of_code_2024\\day 02\n",
      "D:\\Programmeren\\adventofcode\\advent_of_code_2024\\day 03\n",
      "D:\\Programmeren\\adventofcode\\advent_of_code_2024\\day 04\n",
      "D:\\Programmeren\\adventofcode\\advent_of_code_2024\\day 05\n",
      "D:\\Programmeren\\adventofcode\\advent_of_code_2024\\day 06\n",
      "D:\\Programmeren\\adventofcode\\advent_of_code_2024\\day 07\n",
      "D:\\Programmeren\\adventofcode\\advent_of_code_2024\\day 08\n",
      "D:\\Programmeren\\adventofcode\\advent_of_code_2024\\day 09\n",
      "D:\\Programmeren\\adventofcode\\advent_of_code_2024\\day 10\n",
      "D:\\Programmeren\\adventofcode\\advent_of_code_2024\\day 11\n",
      "D:\\Programmeren\\adventofcode\\advent_of_code_2024\\day 12\n",
      "D:\\Programmeren\\adventofcode\\advent_of_code_2024\\day 13\n",
      "D:\\Programmeren\\adventofcode\\advent_of_code_2024\\day 14\n",
      "D:\\Programmeren\\adventofcode\\advent_of_code_2024\\day 15\n",
      "D:\\Programmeren\\adventofcode\\advent_of_code_2024\\day 16\n",
      "D:\\Programmeren\\adventofcode\\advent_of_code_2024\\day 17\n",
      "D:\\Programmeren\\adventofcode\\advent_of_code_2024\\day 18\n",
      "D:\\Programmeren\\adventofcode\\advent_of_code_2024\\day 19\n",
      "D:\\Programmeren\\adventofcode\\advent_of_code_2024\\day 20\n",
      "D:\\Programmeren\\adventofcode\\advent_of_code_2024\\day 21\n",
      "D:\\Programmeren\\adventofcode\\advent_of_code_2024\\day 22\n",
      "D:\\Programmeren\\adventofcode\\advent_of_code_2024\\day 23\n",
      "D:\\Programmeren\\adventofcode\\advent_of_code_2024\\day 24\n",
      "D:\\Programmeren\\adventofcode\\advent_of_code_2024\\day 25\n"
     ]
    }
   ],
   "source": [
    "init_year()\n",
    "copy_solution_template()\n",
    "# copy_solution_template()"
   ]
  },
  {
   "cell_type": "code",
   "execution_count": 3,
   "metadata": {},
   "outputs": [],
   "source": [
    "# to = dict(zip(['input', 'test0','test1','test2'], ['in', 't0', 't1', 't2']))\n",
    "# for day in range(10,26):\n",
    "#     for filename in ['input', 'test0','test1','test2']:\n",
    "        \n",
    "#         p = Path(os.getcwd())/('day '+str(day).zfill(2))/f'{filename}.txt'\n",
    "#         print(p)\n",
    "#         p.rename(p.parent/f'{to[filename]}.txt')\n"
   ]
  }
 ],
 "metadata": {
  "file_extension": ".py",
  "kernelspec": {
   "display_name": "Python 3.10.0 ('.aocenv': venv)",
   "language": "python",
   "name": "python3"
  },
  "language_info": {
   "codemirror_mode": {
    "name": "ipython",
    "version": 3
   },
   "file_extension": ".py",
   "mimetype": "text/x-python",
   "name": "python",
   "nbconvert_exporter": "python",
   "pygments_lexer": "ipython3",
   "version": "3.12.0"
  },
  "mimetype": "text/x-python",
  "name": "python",
  "npconvert_exporter": "python",
  "orig_nbformat": 2,
  "pygments_lexer": "ipython3",
  "version": 3,
  "vscode": {
   "interpreter": {
    "hash": "a292fecb04ead1807198b22395dbb599f43710a25b8e4823a30fedd04cdfd0f2"
   }
  }
 },
 "nbformat": 4,
 "nbformat_minor": 2
}
