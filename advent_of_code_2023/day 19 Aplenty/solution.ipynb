{
 "cells": [
  {
   "cell_type": "code",
   "execution_count": 1,
   "metadata": {},
   "outputs": [],
   "source": []
  },
  {
   "cell_type": "code",
   "execution_count": 2,
   "metadata": {},
   "outputs": [
    {
     "data": {
      "text/plain": [
       "122112157518711"
      ]
     },
     "execution_count": 2,
     "metadata": {},
     "output_type": "execute_result"
    }
   ],
   "source": [
    "from math import prod\n",
    "from collections import defaultdict\n",
    "from aocutils.common import ints\n",
    "workflows, ratings = open(\"in.txt\").read().split(\"\\n\\n\")\n",
    "flows = defaultdict(list)\n",
    "for work in workflows.split('\\n'):\n",
    "    left, right = work.split('{')\n",
    "    for rule in right[:-1].split(','):\n",
    "        if ':' in rule:\n",
    "            condition, outcome = rule.split(':')\n",
    "            flows[left].append((condition[0], condition[1], ints(condition)[0], outcome))\n",
    "        else:\n",
    "            flows[left].append(rule)"
   ]
  },
  {
   "cell_type": "code",
   "execution_count": 11,
   "metadata": {},
   "outputs": [
    {
     "data": {
      "text/plain": [
       "122112157518711"
      ]
     },
     "execution_count": 11,
     "metadata": {},
     "output_type": "execute_result"
    }
   ],
   "source": [
    "state = ['in', {'x':(1,4000),'m':(1,4000),'a':(1,4000),'s':(1,4000)}]\n",
    "tocheck = [state]\n",
    "ans = 0\n",
    "ops = 0\n",
    "while tocheck:\n",
    "    state = tocheck.pop()\n",
    "    cur, xmas = state\n",
    "    if cur == 'R':\n",
    "        pass\n",
    "    elif cur == 'A':\n",
    "        ans += prod(map(lambda x: x[1]-x[0]+1, xmas.values()))\n",
    "    else:\n",
    "        for rule in flows[cur]:\n",
    "            if isinstance(rule, tuple):\n",
    "                letter, op, value, target = rule\n",
    "                minn, maxx = xmas[letter]\n",
    "                if op == '>':\n",
    "                    xmas[letter] = [value + 1, maxx]\n",
    "                    tocheck.append((target,xmas.copy()))\n",
    "                    xmas[letter] = [minn, value]\n",
    "                else:\n",
    "                    xmas[letter] = [minn, value-1]\n",
    "                    tocheck.append((target,xmas.copy()))\n",
    "                    xmas[letter] = [value, maxx]\n",
    "            else:\n",
    "                tocheck.append((rule,xmas))\n",
    "ans"
   ]
  },
  {
   "cell_type": "code",
   "execution_count": 27,
   "metadata": {},
   "outputs": [
    {
     "data": {
      "text/plain": [
       "374873"
      ]
     },
     "execution_count": 27,
     "metadata": {},
     "output_type": "execute_result"
    }
   ],
   "source": [
    "# p1\n",
    "import operator\n",
    "ops = {'<':operator.lt, '>':operator.gt}\n",
    "\n",
    "ans = 0\n",
    "for part in ratings.split('\\n'):\n",
    "    x,m,a,s = ints(part)\n",
    "    var = {'m':m, 'x':x, 'a':a, 's':s}\n",
    "    \n",
    "    cur = 'in'\n",
    "    while True:\n",
    "        currule = flows[cur]\n",
    "        for rule in currule:\n",
    "            if isinstance(rule, tuple):\n",
    "                if ops[rule[1]](var[rule[0]], rule[2]):\n",
    "                    cur = rule[3]\n",
    "                    break\n",
    "            else:\n",
    "                cur = rule\n",
    "        if cur == 'R':\n",
    "            break\n",
    "        if cur == 'A':\n",
    "            ans += sum(ints(part))\n",
    "            break\n",
    "ans"
   ]
  },
  {
   "cell_type": "code",
   "execution_count": 28,
   "metadata": {},
   "outputs": [
    {
     "data": {
      "text/plain": [
       "True"
      ]
     },
     "execution_count": 28,
     "metadata": {},
     "output_type": "execute_result"
    }
   ],
   "source": [
    "# below is my original code. essentially I misunderstood below snippet:\n",
    "variable = 1\n",
    "d = {'key': variable}\n",
    "variable = 2\n",
    "d['key'] == 1 # not 2\n"
   ]
  },
  {
   "cell_type": "code",
   "execution_count": 29,
   "metadata": {},
   "outputs": [
    {
     "data": {
      "text/plain": [
       "(122112157518711, True)"
      ]
     },
     "execution_count": 29,
     "metadata": {},
     "output_type": "execute_result"
    }
   ],
   "source": [
    "# o\n",
    "state = ['in', (1,4000),(1,4000),(1,4000),(1,4000)]\n",
    "tocheck = [state]\n",
    "var2idx = {'x':1, 'm':2, 'a':3, 's':4}\n",
    "ans = 0\n",
    "nans = 0\n",
    "found = []\n",
    "from copy import deepcopy\n",
    "while tocheck:\n",
    "    state = tocheck.pop()\n",
    "    cur, x,m,a,s = state\n",
    "    var = {'m':m, 'x':x, 'a':a, 's':s}\n",
    "    currule = flows[cur]\n",
    "    if cur == 'R':\n",
    "        options = 1\n",
    "        for var in [x,m,a,s]:\n",
    "            options *= (var[1]-var[0]+1)\n",
    "        nans += options\n",
    "        continue\n",
    "    elif cur == 'A':\n",
    "        found.append(state)\n",
    "        options = 1\n",
    "        for var in [x,m,a,s]:\n",
    "            options *= (var[1]-var[0]+1)\n",
    "        ans += options\n",
    "        continue\n",
    "    \n",
    "    for rule in currule:\n",
    "        cur, x,m,a,s = state\n",
    "        assert cur != 'A' and cur != 'R'\n",
    "        if isinstance(rule, tuple):\n",
    "            minn, maxx = var[rule[0]] # incorrect, took me 1,5 hours of debugging\n",
    "            minn, maxx = state[var2idx[rule[0]]] # correct\n",
    "            assert minn < maxx\n",
    "            # minn, maxx = var[rule[0]]\n",
    "            assert minn < rule[2] < maxx\n",
    "            if rule[1] == '>':\n",
    "                if rule[2] > maxx:\n",
    "                    break\n",
    "                elif rule[2] <= minn:\n",
    "                    state[0] = rule[3]\n",
    "                    tocheck.append(state)\n",
    "                    continue\n",
    "                else:\n",
    "                    assert minn < rule[2] < maxx\n",
    "                    state[var2idx[rule[0]]] = (rule[2] + 1, maxx)\n",
    "                    state[0] = rule[3]\n",
    "                    tocheck.append(deepcopy(state))\n",
    "                    state[0] = cur\n",
    "                    state[var2idx[rule[0]]] = (minn, rule[2])\n",
    "            else:\n",
    "                assert rule[1] == '<'\n",
    "                if rule[2] < minn:\n",
    "                    print('hi')\n",
    "                    break\n",
    "                elif rule[2] >= maxx:\n",
    "                    print('hi')\n",
    "                    state[0] = rule[3]\n",
    "                    tocheck.append(state)\n",
    "                    continue\n",
    "                else:\n",
    "                    assert minn < rule[2] < maxx\n",
    "                    state[var2idx[rule[0]]] = (minn, rule[2]-1)\n",
    "                    state[0] = rule[3]\n",
    "                    tocheck.append(deepcopy(state))\n",
    "                    state[0] = cur\n",
    "                    state[var2idx[rule[0]]] = (rule[2], maxx)\n",
    "        else:\n",
    "            state[0] = rule\n",
    "            tocheck.append(deepcopy(state))\n",
    "            break\n",
    "\n",
    "ans, ans + nans == 4000**4\n",
    "    "
   ]
  },
  {
   "cell_type": "code",
   "execution_count": 25,
   "metadata": {},
   "outputs": [
    {
     "data": {
      "text/plain": [
       "1"
      ]
     },
     "execution_count": 25,
     "metadata": {},
     "output_type": "execute_result"
    }
   ],
   "source": []
  }
 ],
 "metadata": {
  "file_extension": ".py",
  "kernelspec": {
   "display_name": "Python 3.11.0 ('.aocenvpy311': venv)",
   "language": "python",
   "name": "python3"
  },
  "language_info": {
   "codemirror_mode": {
    "name": "ipython",
    "version": 3
   },
   "file_extension": ".py",
   "mimetype": "text/x-python",
   "name": "python",
   "nbconvert_exporter": "python",
   "pygments_lexer": "ipython3",
   "version": "3.12.0"
  },
  "mimetype": "text/x-python",
  "name": "python",
  "npconvert_exporter": "python",
  "orig_nbformat": 2,
  "pygments_lexer": "ipython3",
  "version": 3,
  "vscode": {
   "interpreter": {
    "hash": "7b5336723abeab741c71fcc933eb6e6f53a288e70399d841fc0756db1169ea34"
   }
  }
 },
 "nbformat": 4,
 "nbformat_minor": 2
}
