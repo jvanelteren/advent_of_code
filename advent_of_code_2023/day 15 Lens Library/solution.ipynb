{
 "cells": [
  {
   "cell_type": "code",
   "execution_count": 24,
   "metadata": {},
   "outputs": [
    {
     "data": {
      "text/plain": [
       "241094"
      ]
     },
     "execution_count": 24,
     "metadata": {},
     "output_type": "execute_result"
    }
   ],
   "source": [
    "from collections import defaultdict\n",
    "\n",
    "f = open(\"in.txt\").read()\n",
    "ans = 0\n",
    "boxes = defaultdict(dict)\n",
    "for ins in f.split(','):\n",
    "    cur = 0\n",
    "    label = ''\n",
    "    for ch in ins:\n",
    "        if ch in '=-':\n",
    "            break\n",
    "        label += ch\n",
    "        cur += ord(ch)\n",
    "        cur *= 17\n",
    "        cur = cur % 256\n",
    "    if ch == '-':\n",
    "        if label in boxes[cur]:\n",
    "            del boxes[cur][label]\n",
    "    elif ch == '=':\n",
    "        focus = int(ins[-1])\n",
    "        if label in boxes[cur]:\n",
    "            boxes[cur][label] = focus\n",
    "        else:\n",
    "            boxes[cur][label] = focus\n",
    "    ans += cur\n",
    "calc(boxes)"
   ]
  },
  {
   "cell_type": "code",
   "execution_count": 23,
   "metadata": {},
   "outputs": [
    {
     "data": {
      "text/plain": [
       "(501680, 241094)"
      ]
     },
     "execution_count": 23,
     "metadata": {},
     "output_type": "execute_result"
    }
   ],
   "source": [
    "import re\n",
    "\n",
    "def calc(boxes):\n",
    "    ans = 0\n",
    "    for boxnr, its in boxes.items():\n",
    "        for idx, focus in enumerate(list(its.values())):\n",
    "            ans += (boxnr+1) * (idx + 1) * focus\n",
    "    return ans\n",
    "\n",
    "def algo(word):\n",
    "    cur = 0\n",
    "    for ch in word:\n",
    "        cur += ord(ch)\n",
    "        cur *= 17\n",
    "        cur = cur % 256\n",
    "    return cur\n",
    "    \n",
    "f = open(\"in.txt\").read()\n",
    "p1 = 0\n",
    "boxes = defaultdict(dict)\n",
    "for ins in f.split(','):\n",
    "    p1 += algo(ins)\n",
    "    label, focus = re.split('[=-]', ins)\n",
    "    nr = algo(label)\n",
    "    if '-' in ins:\n",
    "        if label in boxes[nr]:\n",
    "            del boxes[nr][label]\n",
    "    else:\n",
    "        focus = int(focus)\n",
    "        if label in boxes[nr]:\n",
    "            boxes[nr][label] = focus\n",
    "        else:\n",
    "            boxes[nr][label] = focus\n",
    "p1, calc(boxes)"
   ]
  }
 ],
 "metadata": {
  "file_extension": ".py",
  "kernelspec": {
   "display_name": "Python 3.11.0 ('.aocenvpy311': venv)",
   "language": "python",
   "name": "python3"
  },
  "language_info": {
   "codemirror_mode": {
    "name": "ipython",
    "version": 3
   },
   "file_extension": ".py",
   "mimetype": "text/x-python",
   "name": "python",
   "nbconvert_exporter": "python",
   "pygments_lexer": "ipython3",
   "version": "3.12.0"
  },
  "mimetype": "text/x-python",
  "name": "python",
  "npconvert_exporter": "python",
  "orig_nbformat": 2,
  "pygments_lexer": "ipython3",
  "version": 3,
  "vscode": {
   "interpreter": {
    "hash": "7b5336723abeab741c71fcc933eb6e6f53a288e70399d841fc0756db1169ea34"
   }
  }
 },
 "nbformat": 4,
 "nbformat_minor": 2
}
