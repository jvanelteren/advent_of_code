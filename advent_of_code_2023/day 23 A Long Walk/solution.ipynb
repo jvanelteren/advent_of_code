{
 "cells": [
  {
   "cell_type": "code",
   "execution_count": 91,
   "metadata": {},
   "outputs": [],
   "source": [
    "from dataclasses import dataclass\n",
    "from math import gcd, ceil\n",
    "import re\n",
    "from collections import Counter, defaultdict, namedtuple, deque, OrderedDict\n",
    "from functools import cache\n",
    "from itertools import product, chain, combinations, combinations_with_replacement, permutations, accumulate, zip_longest, batched, pairwise\n",
    "import numpy as np\n",
    "from matplotlib import pyplot as plt\n",
    "import networkx as nx\n",
    "inf = float('inf')\n",
    "from aocutils.common import copy_func, patch_to, patch, to_int, ints, flatten, zippify, multidict, rev, data, quantify, atom, atoms, list_atoms, list_multiply, mapt\n",
    "from aocutils.grid import gridneigh, arr_to_dict, grid_to_dict, neighbors, complexneighbors, arr_neighbors, iterate, Dim, dimensions, positive, manhattan, conv1d, conv2d, rotate\n",
    "from aocutils.maze import graphparse, bfs, dijkstra, distances, get_path, dfs\n",
    "from aocutils.math import gcd, factors, lcm, crt, mul_inv, Segment, lis, angle, all_combinations, all_permutations, mst\n",
    "from aocutils.special import md5, binarysearch, deduce_matches, find_specific_pattern, find_repeat, find_cycle, UnionFind, Octree, LazySegmentTree, Trie\n",
    "from aocutils.visuals import visualize_graph, labelize, animate_grid, plot, animate\n",
    "from aocutils.cfg import CFG\n",
    "from aocutils.earley import State, Earley\n",
    "from aocutils.shunting import ShuntingYard\n",
    "E = (0,1); W = (0,-1); S = (1,0); N = (-1,0)"
   ]
  },
  {
   "cell_type": "code",
   "execution_count": 92,
   "metadata": {},
   "outputs": [],
   "source": [
    "file = 'in.txt'\n",
    "f = open(file).read().split(\"\\n\")\n",
    "lines = [(line) for line in f]\n",
    "rows, cols = len(lines), len(lines[0])"
   ]
  },
  {
   "cell_type": "code",
   "execution_count": 93,
   "metadata": {},
   "outputs": [],
   "source": [
    "# grid\n",
    "grid, neigh = gridneigh(file, to_dict=True, parser=lambda x: list(x))\n",
    "\n"
   ]
  },
  {
   "cell_type": "code",
   "execution_count": 94,
   "metadata": {},
   "outputs": [
    {
     "data": {
      "text/plain": [
       "((0, 1), (140, 139))"
      ]
     },
     "execution_count": 94,
     "metadata": {},
     "output_type": "execute_result"
    }
   ],
   "source": [
    "start = {k for k,v in grid.items() if k[0] == 0 and v == '.'}.pop()\n",
    "dest = {k for k,v in grid.items() if k[0] == rows-1 and v == '.'}.pop()\n",
    "start, dest"
   ]
  },
  {
   "cell_type": "code",
   "execution_count": 95,
   "metadata": {},
   "outputs": [],
   "source": [
    "def count(nei):\n",
    "    return sum(grid[tile] != '#' for tile in nei)\n",
    "splits = {k: count(neigh[k]) for k,v in grid.items() if v != '#' and count(neigh[k]) > 2}"
   ]
  },
  {
   "cell_type": "code",
   "execution_count": 84,
   "metadata": {},
   "outputs": [],
   "source": [
    "splits = {k for k,v in splits.items()}\n",
    "splits.add(start)\n",
    "splits.add(dest)"
   ]
  },
  {
   "cell_type": "code",
   "execution_count": null,
   "metadata": {},
   "outputs": [],
   "source": []
  },
  {
   "cell_type": "code",
   "execution_count": 85,
   "metadata": {},
   "outputs": [],
   "source": [
    "splitneigh = defaultdict(dict)\n",
    "for start in splits:\n",
    "    tocheck = deque([(start, {start})])\n",
    "    maxx = 0\n",
    "    found = []\n",
    "    while tocheck:\n",
    "        for _ in range(len(tocheck)):\n",
    "            loc, seen = tocheck.popleft()\n",
    "            if loc == dest:\n",
    "                maxx = max(maxx, len(seen))\n",
    "                found.append(len(seen))\n",
    "                continue\n",
    "            # if grid[loc] == '>':\n",
    "            #     nei = [(loc[0], loc[1]+1)]\n",
    "            # elif grid[loc] == '<':\n",
    "            #     nei = [(loc[0], loc[1]-1)]\n",
    "            # elif grid[loc] == 'v':\n",
    "            #     nei = [(loc[0]+1, loc[1])]\n",
    "            # elif grid[loc] == '^':\n",
    "            #     nei = [(loc[0]-1, loc[1])]\n",
    "            # else:\n",
    "            # assert grid[loc] == '.'\n",
    "            nei = neigh[loc]\n",
    "            for n in nei:\n",
    "                if n in grid and grid[n] != '#' and n not in seen:\n",
    "                    if n in splits:\n",
    "                        splitneigh[start][n] = len(seen)\n",
    "                    else:\n",
    "                        s = seen.copy()\n",
    "                        s.add(n)\n",
    "                        tocheck.append((n,s))\n",
    "                \n",
    "            \n"
   ]
  },
  {
   "cell_type": "code",
   "execution_count": 86,
   "metadata": {},
   "outputs": [
    {
     "data": {
      "text/plain": [
       "{(113, 105): 62, (131, 135): 158, (125, 87): 188}"
      ]
     },
     "execution_count": 86,
     "metadata": {},
     "output_type": "execute_result"
    }
   ],
   "source": [
    "splitneigh[(129, 111)]"
   ]
  },
  {
   "cell_type": "code",
   "execution_count": 87,
   "metadata": {},
   "outputs": [
    {
     "data": {
      "text/plain": [
       "((0, 1), (140, 139))"
      ]
     },
     "execution_count": 87,
     "metadata": {},
     "output_type": "execute_result"
    }
   ],
   "source": [
    "start = {k for k,v in grid.items() if k[0] == 0 and v == '.'}.pop()\n",
    "dest = {k for k,v in grid.items() if k[0] == rows-1 and v == '.'}.pop()\n",
    "start, dest\n",
    "start, dest"
   ]
  },
  {
   "cell_type": "code",
   "execution_count": 88,
   "metadata": {},
   "outputs": [
    {
     "data": {
      "text/plain": [
       "6898"
      ]
     },
     "execution_count": 88,
     "metadata": {},
     "output_type": "execute_result"
    }
   ],
   "source": [
    "tocheck = deque([(start, {start},0)])\n",
    "maxx = 0\n",
    "found = []\n",
    "while tocheck:\n",
    "    for _ in range(len(tocheck)):\n",
    "        loc, seen, dis = tocheck.popleft()\n",
    "        # print(loc, seen, dis)\n",
    "        if loc == dest:\n",
    "            maxx = max(maxx,dis)\n",
    "            found.append(seen)\n",
    "            continue\n",
    "        nei = splitneigh[loc]\n",
    "        for n,additional in nei.items():\n",
    "            if n in grid and grid[n] != '#' and n not in seen:\n",
    "                s = seen.copy()\n",
    "                s.add(n)\n",
    "                tocheck.append((n,s, dis + additional))\n",
    "                \n",
    "maxx\n",
    "            "
   ]
  },
  {
   "cell_type": "code",
   "execution_count": 98,
   "metadata": {},
   "outputs": [
    {
     "data": {
      "text/plain": [
       "9430"
      ]
     },
     "execution_count": 98,
     "metadata": {},
     "output_type": "execute_result"
    }
   ],
   "source": [
    "grid = {k for k,v in grid.items() if v != '#'}\n",
    "len(grid)"
   ]
  },
  {
   "cell_type": "code",
   "execution_count": 99,
   "metadata": {},
   "outputs": [
    {
     "ename": "KeyboardInterrupt",
     "evalue": "",
     "output_type": "error",
     "traceback": [
      "\u001b[1;31m---------------------------------------------------------------------------\u001b[0m",
      "\u001b[1;31mKeyboardInterrupt\u001b[0m                         Traceback (most recent call last)",
      "Cell \u001b[1;32mIn[99], line 25\u001b[0m\n\u001b[0;32m     23\u001b[0m             \u001b[38;5;28;01mif\u001b[39;00m n \u001b[38;5;129;01min\u001b[39;00m grid \u001b[38;5;129;01mand\u001b[39;00m n \u001b[38;5;129;01mnot\u001b[39;00m \u001b[38;5;129;01min\u001b[39;00m seen: \u001b[38;5;66;03m#and grid[n] != '#' \u001b[39;00m\n\u001b[0;32m     24\u001b[0m                 s \u001b[38;5;241m=\u001b[39m seen\u001b[38;5;241m.\u001b[39mcopy()\n\u001b[1;32m---> 25\u001b[0m                 \u001b[43ms\u001b[49m\u001b[38;5;241;43m.\u001b[39;49m\u001b[43madd\u001b[49m\u001b[43m(\u001b[49m\u001b[43mn\u001b[49m\u001b[43m)\u001b[49m\n\u001b[0;32m     26\u001b[0m                 tocheck\u001b[38;5;241m.\u001b[39mappend((n,s))\n\u001b[0;32m     29\u001b[0m maxx\n",
      "\u001b[1;31mKeyboardInterrupt\u001b[0m: "
     ]
    }
   ],
   "source": [
    "tocheck = deque([(start, {start})])\n",
    "maxx = 0\n",
    "found = []\n",
    "while tocheck:\n",
    "    for _ in range(len(tocheck)):\n",
    "        loc, seen = tocheck.popleft()\n",
    "        if loc == dest:\n",
    "            maxx = max(maxx, len(seen))\n",
    "            found.append(len(seen)-1)\n",
    "            continue\n",
    "        # if grid[loc] == '>':\n",
    "        #     nei = [(loc[0], loc[1]+1)]\n",
    "        # elif grid[loc] == '<':\n",
    "        #     nei = [(loc[0], loc[1]-1)]\n",
    "        # elif grid[loc] == 'v':\n",
    "        #     nei = [(loc[0]+1, loc[1])]\n",
    "        # elif grid[loc] == '^':\n",
    "        #     nei = [(loc[0]-1, loc[1])]\n",
    "        # else:\n",
    "        #     assert grid[loc] == '.'\n",
    "        nei = neigh[loc]\n",
    "        for n in nei:\n",
    "            if n in grid and n not in seen: #and grid[n] != '#' \n",
    "                s = seen.copy()\n",
    "                s.add(n)\n",
    "                tocheck.append((n,s))\n",
    "                \n",
    "            \n",
    "maxx"
   ]
  },
  {
   "cell_type": "code",
   "execution_count": 100,
   "metadata": {},
   "outputs": [
    {
     "data": {
      "text/plain": [
       "2103"
      ]
     },
     "execution_count": 100,
     "metadata": {},
     "output_type": "execute_result"
    }
   ],
   "source": [
    "maxx"
   ]
  },
  {
   "cell_type": "code",
   "execution_count": 39,
   "metadata": {},
   "outputs": [
    {
     "data": {
      "text/plain": [
       "95"
      ]
     },
     "execution_count": 39,
     "metadata": {},
     "output_type": "execute_result"
    }
   ],
   "source": [
    "seen"
   ]
  },
  {
   "cell_type": "code",
   "execution_count": null,
   "metadata": {},
   "outputs": [],
   "source": [
    "2443"
   ]
  },
  {
   "cell_type": "code",
   "execution_count": null,
   "metadata": {},
   "outputs": [],
   "source": []
  },
  {
   "cell_type": "code",
   "execution_count": null,
   "metadata": {},
   "outputs": [],
   "source": [
    "# graph\n",
    "conn = graphparse(\"in.txt\", parser=lambda line: [x for x in line.split()])\n",
    "conn = graphparse(\n",
    "    \"in.txt\",\n",
    "    parser=lambda line: [int(x) if x.isnumeric() else x for x in line.split()],\n",
    "    weights=True,\n",
    ")"
   ]
  },
  {
   "cell_type": "code",
   "execution_count": 6,
   "metadata": {},
   "outputs": [
    {
     "data": {
      "text/plain": [
       "{(2+2j), (3+1j), (3+3j), (4+2j)}"
      ]
     },
     "execution_count": 6,
     "metadata": {},
     "output_type": "execute_result"
    }
   ],
   "source": [
    "# parse grid with complex numbers\n",
    "f = open(\"in.txt\").read().split(\"\\n\")\n",
    "lines = [list(line.split()) for line in f]\n",
    "grid = arr_to_dict(lines, tocomplex=True)\n",
    "complexneighbors(3+2j)"
   ]
  },
  {
   "cell_type": "code",
   "execution_count": null,
   "metadata": {},
   "outputs": [],
   "source": []
  }
 ],
 "metadata": {
  "file_extension": ".py",
  "kernelspec": {
   "display_name": "Python 3.11.0 ('.aocenvpy311': venv)",
   "language": "python",
   "name": "python3"
  },
  "language_info": {
   "codemirror_mode": {
    "name": "ipython",
    "version": 3
   },
   "file_extension": ".py",
   "mimetype": "text/x-python",
   "name": "python",
   "nbconvert_exporter": "python",
   "pygments_lexer": "ipython3",
   "version": "3.12.0"
  },
  "mimetype": "text/x-python",
  "name": "python",
  "npconvert_exporter": "python",
  "orig_nbformat": 2,
  "pygments_lexer": "ipython3",
  "version": 3,
  "vscode": {
   "interpreter": {
    "hash": "7b5336723abeab741c71fcc933eb6e6f53a288e70399d841fc0756db1169ea34"
   }
  }
 },
 "nbformat": 4,
 "nbformat_minor": 2
}
