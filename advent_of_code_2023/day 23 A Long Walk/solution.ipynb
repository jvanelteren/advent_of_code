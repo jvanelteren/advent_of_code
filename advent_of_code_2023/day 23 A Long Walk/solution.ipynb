{
 "cells": [
  {
   "cell_type": "code",
   "execution_count": 16,
   "metadata": {},
   "outputs": [
    {
     "data": {
      "text/plain": [
       "2443"
      ]
     },
     "execution_count": 16,
     "metadata": {},
     "output_type": "execute_result"
    }
   ],
   "source": [
    "from collections import defaultdict, deque\n",
    "from aocutils.grid import gridneigh\n",
    "\n",
    "file = 'in.txt'\n",
    "f = open(file).read().split(\"\\n\")\n",
    "lines = [(line) for line in f]\n",
    "rows, cols = len(lines), len(lines[0])\n",
    "grid, neigh = gridneigh(file, to_dict=True, parser=lambda x: list(x))\n",
    "\n",
    "\n",
    "start = {k for k,v in grid.items() if k[0] == 0 and v == '.'}.pop()\n",
    "dest = {k for k,v in grid.items() if k[0] == rows-1 and v == '.'}.pop()\n",
    "\n",
    "tocheck = deque([(start, {start})])\n",
    "maxx = 0\n",
    "found = []\n",
    "while tocheck:\n",
    "    for _ in range(len(tocheck)):\n",
    "        loc, seen = tocheck.popleft()\n",
    "        if loc == dest:\n",
    "            maxx = max(maxx, len(seen))\n",
    "            found.append(len(seen)-1)\n",
    "            continue\n",
    "        if grid[loc] == '>':\n",
    "            nei = [(loc[0], loc[1]+1)]\n",
    "        elif grid[loc] == '<':\n",
    "            nei = [(loc[0], loc[1]-1)]\n",
    "        elif grid[loc] == 'v':\n",
    "            nei = [(loc[0]+1, loc[1])]\n",
    "        elif grid[loc] == '^':\n",
    "            nei = [(loc[0]-1, loc[1])]\n",
    "        else:\n",
    "            assert grid[loc] == '.'\n",
    "            nei = neigh[loc]\n",
    "        for n in nei:\n",
    "            if n in grid and n not in seen and grid[n] != '#':\n",
    "                s = seen.copy()\n",
    "                s.add(n)\n",
    "                tocheck.append((n,s))       \n",
    "maxx"
   ]
  },
  {
   "cell_type": "code",
   "execution_count": 17,
   "metadata": {},
   "outputs": [],
   "source": [
    "def count(nei):\n",
    "    return sum(grid[tile] != '#' for tile in nei)\n",
    "\n",
    "splits = {k for k,v in grid.items() if v != '#' and count(neigh[k]) > 2}\n",
    "splits.add(start)\n",
    "splits.add(dest)\n",
    "\n",
    "# calculate distances between splits\n",
    "splitneigh = defaultdict(dict)\n",
    "for s in splits:\n",
    "    tocheck = deque([(s, {s})])\n",
    "    found = []\n",
    "    while tocheck:\n",
    "        for _ in range(len(tocheck)):\n",
    "            loc, seen = tocheck.popleft()\n",
    "            nei = neigh[loc]\n",
    "            for n in nei:\n",
    "                if n in grid and grid[n] != '#' and n not in seen:\n",
    "                    if n in splits:\n",
    "                        splitneigh[start][n] = len(seen)\n",
    "                    else:\n",
    "                        s = seen.copy()\n",
    "                        s.add(n)\n",
    "                        tocheck.append((n,s))"
   ]
  },
  {
   "cell_type": "code",
   "execution_count": 7,
   "metadata": {},
   "outputs": [
    {
     "data": {
      "text/plain": [
       "6898"
      ]
     },
     "execution_count": 7,
     "metadata": {},
     "output_type": "execute_result"
    }
   ],
   "source": [
    "# check all paths from start to destination with basically same algo as p1, except state is a bit more convoluted\n",
    "tocheck = deque([(start, {start},0)])\n",
    "maxx = 0\n",
    "found = []\n",
    "while tocheck:\n",
    "    for _ in range(len(tocheck)):\n",
    "        loc, seen, dis = tocheck.popleft()\n",
    "        # print(loc, seen, dis)\n",
    "        if loc == dest:\n",
    "            maxx = max(maxx,dis)\n",
    "            found.append(seen)\n",
    "            continue\n",
    "        nei = splitneigh[loc]\n",
    "        for n,additional in nei.items():\n",
    "            if n in grid and grid[n] != '#' and n not in seen:\n",
    "                s = seen.copy()\n",
    "                s.add(n)\n",
    "                tocheck.append((n,s, dis + additional))\n",
    "                \n",
    "maxx\n",
    "            "
   ]
  }
 ],
 "metadata": {
  "file_extension": ".py",
  "kernelspec": {
   "display_name": "Python 3.11.0 ('.aocenvpy311': venv)",
   "language": "python",
   "name": "python3"
  },
  "language_info": {
   "codemirror_mode": {
    "name": "ipython",
    "version": 3
   },
   "file_extension": ".py",
   "mimetype": "text/x-python",
   "name": "python",
   "nbconvert_exporter": "python",
   "pygments_lexer": "ipython3",
   "version": "3.12.0"
  },
  "mimetype": "text/x-python",
  "name": "python",
  "npconvert_exporter": "python",
  "orig_nbformat": 2,
  "pygments_lexer": "ipython3",
  "version": 3,
  "vscode": {
   "interpreter": {
    "hash": "7b5336723abeab741c71fcc933eb6e6f53a288e70399d841fc0756db1169ea34"
   }
  }
 },
 "nbformat": 4,
 "nbformat_minor": 2
}
