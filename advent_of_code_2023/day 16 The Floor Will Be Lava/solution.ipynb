{
 "cells": [
  {
   "cell_type": "code",
   "execution_count": 33,
   "metadata": {},
   "outputs": [
    {
     "ename": "SyntaxError",
     "evalue": "cannot assign to literal here. Maybe you meant '==' instead of '='? (1328206469.py, line 4)",
     "output_type": "error",
     "traceback": [
      "\u001b[1;36m  Cell \u001b[1;32mIn[33], line 4\u001b[1;36m\u001b[0m\n\u001b[1;33m    '|' = 1\u001b[0m\n\u001b[1;37m    ^\u001b[0m\n\u001b[1;31mSyntaxError\u001b[0m\u001b[1;31m:\u001b[0m cannot assign to literal here. Maybe you meant '==' instead of '='?\n"
     ]
    }
   ],
   "source": [
    "R = 1; L = -1; U = 1j; D = -1j\n",
    "TURNLEFT = lambda x: x * 1j\n",
    "TURNRIGHT = lambda x: x * -1j\n",
    "\n",
    "def bfs(cur, grid, d):\n",
    "    seen = set()\n",
    "    tocheck = [(cur, d)]\n",
    "    while tocheck:\n",
    "        cur, d = tocheck.pop()\n",
    "        seen.add((cur, d))\n",
    "        if cur + d in grid:\n",
    "            newcur = cur + d \n",
    "            \n",
    "            if grid[newcur] == '/':\n",
    "                if d == U or d == D:\n",
    "                    d = TURNRIGHT(d)\n",
    "                else:\n",
    "                    d = TURNLEFT(d)\n",
    "            elif grid[newcur] == '\\\\':\n",
    "                if d == U or d == D:\n",
    "                    d = TURNLEFT(d)\n",
    "                else:\n",
    "                    d = TURNRIGHT(d)\n",
    "            elif grid[newcur] == '|':\n",
    "                if d == R or d == L:\n",
    "                    tocheck.append((newcur, TURNLEFT(d)))\n",
    "                    d = TURNRIGHT(d)\n",
    "            elif grid[newcur] == '-':\n",
    "                if d == U or d == D:\n",
    "                    tocheck.append((newcur, TURNLEFT(d)))\n",
    "                    d = TURNRIGHT(d)\n",
    "            if (newcur, d) not in seen:\n",
    "                tocheck.append((newcur, d))\n",
    "    return len({c for c,direc in seen})"
   ]
  },
  {
   "cell_type": "code",
   "execution_count": 31,
   "metadata": {},
   "outputs": [
    {
     "name": "stdout",
     "output_type": "stream",
     "text": [
      "6795\n"
     ]
    },
    {
     "data": {
      "text/plain": [
       "7154"
      ]
     },
     "execution_count": 31,
     "metadata": {},
     "output_type": "execute_result"
    }
   ],
   "source": [
    "\n",
    "# parse grid with complex numbers\n",
    "from aocutils.grid import arr_to_dict\n",
    "f = open(\"in.txt\").read().split(\"\\n\")\n",
    "lines = [list(line) for line in f]\n",
    "grid = arr_to_dict(lines, tocomplex=True)\n",
    "\n",
    "# p1\n",
    "cur = -1+0j\n",
    "d = R \n",
    "print(bfs(cur, grid, d))\n",
    "\n",
    "# p2\n",
    "rows, cols = len(lines), len(list(lines[0]))\n",
    "maxx = 0\n",
    "for row in range(cols):\n",
    "    cur = complex(row, 1)\n",
    "    d = D\n",
    "    maxx = max(maxx, bfs(cur, grid, d))\n",
    "    # this needs to be minus since the bottom row is -\n",
    "    cur = complex(row, -cols) \n",
    "    d = U\n",
    "    maxx = max(maxx, bfs(cur, grid, d))\n",
    "for col in range(rows):\n",
    "    cur = complex(-1,col)\n",
    "    d = R\n",
    "    maxx = max(maxx, bfs(cur, grid, d))\n",
    "    cur = complex(rows,col)\n",
    "    d = L\n",
    "    maxx = max(maxx, bfs(cur, grid, d))\n",
    "maxx\n",
    "        "
   ]
  }
 ],
 "metadata": {
  "file_extension": ".py",
  "kernelspec": {
   "display_name": "Python 3.11.0 ('.aocenvpy311': venv)",
   "language": "python",
   "name": "python3"
  },
  "language_info": {
   "codemirror_mode": {
    "name": "ipython",
    "version": 3
   },
   "file_extension": ".py",
   "mimetype": "text/x-python",
   "name": "python",
   "nbconvert_exporter": "python",
   "pygments_lexer": "ipython3",
   "version": "3.12.0"
  },
  "mimetype": "text/x-python",
  "name": "python",
  "npconvert_exporter": "python",
  "orig_nbformat": 2,
  "pygments_lexer": "ipython3",
  "version": 3,
  "vscode": {
   "interpreter": {
    "hash": "7b5336723abeab741c71fcc933eb6e6f53a288e70399d841fc0756db1169ea34"
   }
  }
 },
 "nbformat": 4,
 "nbformat_minor": 2
}
