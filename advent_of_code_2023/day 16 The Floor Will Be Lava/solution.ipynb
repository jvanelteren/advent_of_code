{
 "cells": [
  {
   "cell_type": "code",
   "execution_count": 3,
   "metadata": {},
   "outputs": [],
   "source": [
    "from aocutils.grid import arr_to_dict\n",
    "# parse grid with complex numbers\n",
    "f = open(\"in.txt\").read().split(\"\\n\")\n",
    "lines = [[ch for ch in line] for line in f]\n",
    "grid = arr_to_dict(lines, tocomplex=True)"
   ]
  },
  {
   "cell_type": "code",
   "execution_count": 4,
   "metadata": {},
   "outputs": [
    {
     "data": {
      "text/plain": [
       "7154"
      ]
     },
     "execution_count": 4,
     "metadata": {},
     "output_type": "execute_result"
    }
   ],
   "source": [
    "go = {1j:'U' , -1j:'D' , 1:'R' ,-1:'L'}\n",
    "\n",
    "def bfs(cur, grid, direc):\n",
    "    seen = set()\n",
    "    tocheck = [(cur, direc)]\n",
    "    while tocheck:\n",
    "        cur, direc = tocheck.pop()\n",
    "        seen.add((cur, direc))\n",
    "        if cur + direc not in grid:\n",
    "            continue\n",
    "        else:\n",
    "            newcur = cur + direc\n",
    "            if grid[newcur] == '.':\n",
    "                if (newcur, direc) not in seen:\n",
    "                    tocheck.append((newcur, direc))\n",
    "            elif grid[newcur] == '/':\n",
    "                if direc == -1j or direc == 1j:\n",
    "                    if (newcur, direc * -1j) not in seen:\n",
    "                        tocheck.append((newcur, direc * -1j))\n",
    "                if direc == 1 or direc == -1:\n",
    "                    if (newcur, direc * 1j) not in seen:\n",
    "                        tocheck.append((newcur, direc * 1j))\n",
    "            elif grid[newcur] == '\\\\':\n",
    "                if direc == -1j or direc == 1j:\n",
    "                    if (newcur, direc * 1j) not in seen:\n",
    "                        tocheck.append((newcur, direc * 1j))\n",
    "                else:\n",
    "                    if (newcur, direc * -1j) not in seen:\n",
    "                        tocheck.append((newcur, direc * -1j))\n",
    "            elif grid[newcur] == '|':\n",
    "                if direc == -1 or direc == 1:\n",
    "                    if (newcur, direc * -1j) not in seen:\n",
    "                        tocheck.append((newcur, direc * -1j))\n",
    "                    if (newcur, direc * 1j) not in seen:\n",
    "                        tocheck.append((newcur, direc * 1j))\n",
    "                else:\n",
    "                    if (newcur, direc) not in seen:\n",
    "                        tocheck.append((newcur, direc))\n",
    "            elif grid[newcur] == '-':\n",
    "                if direc == 1j or direc == -1j:\n",
    "                    if (newcur, direc * -1j) not in seen:\n",
    "                        tocheck.append((newcur, direc * -1j))\n",
    "                    if (newcur, direc * 1j) not in seen:\n",
    "                        tocheck.append((newcur, direc * 1j))\n",
    "                else:\n",
    "                    if (newcur, direc) not in seen:\n",
    "                        tocheck.append((newcur, direc))\n",
    "            else:\n",
    "                print('eerr')\n",
    "    found = {c for c,direc in seen}\n",
    "    return len(found) -1\n",
    "\n",
    "cur = -1+0j\n",
    "direc = 1          \n",
    "reals, imags = len(list(lines[0])), len((lines))\n",
    "maxx = 0\n",
    "for r in range(reals):\n",
    "    # top to south\n",
    "    cur = complex(r, 1)\n",
    "    direc = -1j\n",
    "    maxx = max(maxx, bfs(cur, grid, direc))\n",
    "for r in range(reals):\n",
    "    # bottom to north\n",
    "    cur = complex(r, -imags)\n",
    "    direc = 1j\n",
    "    maxx = max(maxx, bfs(cur, grid, direc))\n",
    "for i in range(imags):\n",
    "    # left to east\n",
    "    cur = complex(-1,i)\n",
    "    direc = 1\n",
    "    maxx = max(maxx, bfs(cur, grid, direc))\n",
    "for i in range(imags):\n",
    "    # right to west\n",
    "    cur = complex(reals,i)\n",
    "    direc = -1\n",
    "    maxx = max(maxx, bfs(cur, grid, direc))\n",
    "maxx\n",
    "        "
   ]
  }
 ],
 "metadata": {
  "file_extension": ".py",
  "kernelspec": {
   "display_name": "Python 3.11.0 ('.aocenvpy311': venv)",
   "language": "python",
   "name": "python3"
  },
  "language_info": {
   "codemirror_mode": {
    "name": "ipython",
    "version": 3
   },
   "file_extension": ".py",
   "mimetype": "text/x-python",
   "name": "python",
   "nbconvert_exporter": "python",
   "pygments_lexer": "ipython3",
   "version": "3.12.0"
  },
  "mimetype": "text/x-python",
  "name": "python",
  "npconvert_exporter": "python",
  "orig_nbformat": 2,
  "pygments_lexer": "ipython3",
  "version": 3,
  "vscode": {
   "interpreter": {
    "hash": "7b5336723abeab741c71fcc933eb6e6f53a288e70399d841fc0756db1169ea34"
   }
  }
 },
 "nbformat": 4,
 "nbformat_minor": 2
}
