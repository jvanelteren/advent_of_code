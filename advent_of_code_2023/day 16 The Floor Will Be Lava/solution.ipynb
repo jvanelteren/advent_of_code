{
 "cells": [
  {
   "cell_type": "code",
   "execution_count": 13,
   "metadata": {},
   "outputs": [
    {
     "name": "stdout",
     "output_type": "stream",
     "text": [
      "6795\n"
     ]
    },
    {
     "data": {
      "text/plain": [
       "7154"
      ]
     },
     "execution_count": 13,
     "metadata": {},
     "output_type": "execute_result"
    }
   ],
   "source": [
    "def bfs(cur, grid, direc):\n",
    "    seen = set()\n",
    "    tocheck = [(cur, direc)]\n",
    "    while tocheck:\n",
    "        cur, direc = tocheck.pop()\n",
    "        seen.add((cur, direc))\n",
    "        if cur + direc not in grid:\n",
    "            continue\n",
    "        else:\n",
    "            newcur = cur + direc\n",
    "            if grid[newcur] == '/':\n",
    "                if direc == -1j or direc == 1j:\n",
    "                    direc *= -1j\n",
    "                else:\n",
    "                    direc *= 1j\n",
    "            elif grid[newcur] == '\\\\':\n",
    "                if direc == -1j or direc == 1j:\n",
    "                    direc *= 1j\n",
    "                else:\n",
    "                    direc *= -1j\n",
    "            elif grid[newcur] == '|':\n",
    "                if direc == -1 or direc == 1:\n",
    "                    tocheck.append((newcur, direc * -1j))\n",
    "                    direc *= 1j\n",
    "            elif grid[newcur] == '-':\n",
    "                if direc == 1j or direc == -1j:\n",
    "                    tocheck.append((newcur, direc * -1j))\n",
    "                    direc *= 1j\n",
    "            if (newcur, direc) not in seen:\n",
    "                tocheck.append((newcur, direc))\n",
    "    found = {c for c,direc in seen}\n",
    "    return len(found) -1\n",
    "\n"
   ]
  },
  {
   "cell_type": "code",
   "execution_count": 16,
   "metadata": {},
   "outputs": [
    {
     "name": "stdout",
     "output_type": "stream",
     "text": [
      "6795\n"
     ]
    },
    {
     "data": {
      "text/plain": [
       "7154"
      ]
     },
     "execution_count": 16,
     "metadata": {},
     "output_type": "execute_result"
    }
   ],
   "source": [
    "R = 1; L = -1; U = 1j; D = -1j\n",
    "# parse grid with complex numbers\n",
    "from aocutils.grid import arr_to_dict\n",
    "f = open(\"in.txt\").read().split(\"\\n\")\n",
    "lines = [list(line) for line in f]\n",
    "grid = arr_to_dict(lines, tocomplex=True)\n",
    "\n",
    "# p1\n",
    "cur = -1+0j\n",
    "direc = 1   \n",
    "print(bfs(cur, grid, direc))\n",
    "\n",
    "# p2\n",
    "reals, imags = len(list(lines[0])), len((lines))\n",
    "maxx = 0\n",
    "for r in range(reals):\n",
    "    cur = complex(r, 1)\n",
    "    direc = D\n",
    "    maxx = max(maxx, bfs(cur, grid, direc))\n",
    "    cur = complex(r, -imags)\n",
    "    direc = U\n",
    "    maxx = max(maxx, bfs(cur, grid, direc))\n",
    "for i in range(imags):\n",
    "    cur = complex(-1,i)\n",
    "    direc = R\n",
    "    maxx = max(maxx, bfs(cur, grid, direc))\n",
    "    cur = complex(reals,i)\n",
    "    direc = L\n",
    "    maxx = max(maxx, bfs(cur, grid, direc))\n",
    "maxx\n",
    "        "
   ]
  },
  {
   "cell_type": "code",
   "execution_count": null,
   "metadata": {},
   "outputs": [],
   "source": []
  }
 ],
 "metadata": {
  "file_extension": ".py",
  "kernelspec": {
   "display_name": "Python 3.11.0 ('.aocenvpy311': venv)",
   "language": "python",
   "name": "python3"
  },
  "language_info": {
   "codemirror_mode": {
    "name": "ipython",
    "version": 3
   },
   "file_extension": ".py",
   "mimetype": "text/x-python",
   "name": "python",
   "nbconvert_exporter": "python",
   "pygments_lexer": "ipython3",
   "version": "3.12.0"
  },
  "mimetype": "text/x-python",
  "name": "python",
  "npconvert_exporter": "python",
  "orig_nbformat": 2,
  "pygments_lexer": "ipython3",
  "version": 3,
  "vscode": {
   "interpreter": {
    "hash": "7b5336723abeab741c71fcc933eb6e6f53a288e70399d841fc0756db1169ea34"
   }
  }
 },
 "nbformat": 4,
 "nbformat_minor": 2
}
