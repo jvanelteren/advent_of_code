{
 "cells": [
  {
   "cell_type": "code",
   "execution_count": 30,
   "metadata": {},
   "outputs": [],
   "source": [
    "from aocutils.common import copy_func, patch_to, patch, to_int, ints, flatten, zippify\n",
    "from functools import cache"
   ]
  },
  {
   "cell_type": "code",
   "execution_count": 25,
   "metadata": {},
   "outputs": [
    {
     "data": {
      "text/plain": [
       "7260"
      ]
     },
     "execution_count": 25,
     "metadata": {},
     "output_type": "execute_result"
    }
   ],
   "source": [
    "# original p1\n",
    "\n",
    "def check(cnt):\n",
    "    # print(cnt)\n",
    "    return tuple([len(list(g)) for i, g in groupby(ins, key=lambda x: x in '#') if i])\n",
    "\n",
    "from itertools import groupby\n",
    "f = open(\"in.txt\").read().split(\"\\n\")\n",
    "lines = [line.split() for line in f]\n",
    "\n",
    "\n",
    "def repl(ins, idx, i):\n",
    "    options = []\n",
    "    if i == len(idx):\n",
    "        yield ins\n",
    "    else:\n",
    "        ins[idx[i]] = '.'\n",
    "        yield from repl(ins, idx, i+1)\n",
    "        ins[idx[i]] = '#'\n",
    "        yield from repl(ins, idx, i+1)\n",
    "\n",
    "\n",
    "def b(ins):\n",
    "    idx = [i for i in range(len(ins)) if ins[i] == '?']\n",
    "    # print(idx)\n",
    "    yield from repl(ins, idx, 0)\n",
    "ans = 0\n",
    "for ins, cnt in lines:\n",
    "    ins = list(ins)\n",
    "    cnt = ints(cnt)\n",
    "    isl = sum(1 for i,g in groupby(ins, key = lambda x: x in '#') if i == True)\n",
    "    for option in b(ins):\n",
    "        if check(option) == cnt:\n",
    "            ans += 1\n",
    "ans"
   ]
  },
  {
   "cell_type": "code",
   "execution_count": null,
   "metadata": {},
   "outputs": [],
   "source": []
  },
  {
   "cell_type": "code",
   "execution_count": 31,
   "metadata": {},
   "outputs": [
    {
     "data": {
      "text/plain": [
       "(1, 1, 1, 1, 1, 1, 1, 1, 0)"
      ]
     },
     "execution_count": 31,
     "metadata": {},
     "output_type": "execute_result"
    }
   ],
   "source": [
    "@cache\n",
    "def pre(ins):\n",
    "    \n",
    "    ans = [0] * (len(ins) + 1)\n",
    "    for idx, ch in enumerate(reversed(ins)):\n",
    "        if ch in '#':\n",
    "            ans[idx+1] = ans[idx] + 1\n",
    "        else:\n",
    "            ans[idx+1] = ans[idx]\n",
    "    return tuple(ans[:-1][::-1])\n",
    "pre('???.....#')"
   ]
  },
  {
   "cell_type": "code",
   "execution_count": 47,
   "metadata": {},
   "outputs": [
    {
     "data": {
      "text/plain": [
       "78533079303987623020497174333852545110196753042991147785061342"
      ]
     },
     "execution_count": 47,
     "metadata": {},
     "output_type": "execute_result"
    }
   ],
   "source": [
    "@cache\n",
    "def dp(ins, i, cnt, c, cursize = 0):\n",
    "    # check for potential start of the first group\n",
    "    if i >= len(ins):\n",
    "        return 0\n",
    "    if cursize != cnt[c] and cursize != 0 and ins[i] == '.':\n",
    "        return 0\n",
    "\n",
    "    while ins[i] == '.':\n",
    "        if i < len(ins) - 1:\n",
    "            i += 1\n",
    "        else:\n",
    "            return 0\n",
    "        \n",
    "    ans = 0\n",
    "    if ins[i] == '?' and cursize == 0:\n",
    "        # we can only skip if ? and 0\n",
    "        ans = dp(ins, i+1, cnt, c, 0)\n",
    "            \n",
    "    cursize += 1\n",
    "    if cursize == cnt[c]:\n",
    "        if c == len(cnt) - 1:\n",
    "            ans += pre(ins)[i] == 0 #(ins[i+1:].count('#') == 0)\n",
    "        else:\n",
    "            # not done yet with all groups\n",
    "            if i == len(ins) -1 or ins[i+1] == '#':\n",
    "                ans += 0\n",
    "            else:\n",
    "                ans += dp(ins, i+2, cnt, c+1, 0)\n",
    "    else:\n",
    "        ans += dp(ins, i+1, cnt, c, cursize)\n",
    "    return ans\n",
    "\n",
    "ans = 0\n",
    "for ins, cnt in lines:\n",
    "    ins = (ins + '?') * 24 + ins\n",
    "    cnt = ints(cnt) * 25\n",
    "    ans += dp(ins, 0, cnt, 0, 0)\n",
    "ans"
   ]
  }
 ],
 "metadata": {
  "file_extension": ".py",
  "kernelspec": {
   "display_name": "Python 3.11.0 ('.aocenvpy311': venv)",
   "language": "python",
   "name": "python3"
  },
  "language_info": {
   "codemirror_mode": {
    "name": "ipython",
    "version": 3
   },
   "file_extension": ".py",
   "mimetype": "text/x-python",
   "name": "python",
   "nbconvert_exporter": "python",
   "pygments_lexer": "ipython3",
   "version": "3.12.0"
  },
  "mimetype": "text/x-python",
  "name": "python",
  "npconvert_exporter": "python",
  "orig_nbformat": 2,
  "pygments_lexer": "ipython3",
  "version": 3,
  "vscode": {
   "interpreter": {
    "hash": "7b5336723abeab741c71fcc933eb6e6f53a288e70399d841fc0756db1169ea34"
   }
  }
 },
 "nbformat": 4,
 "nbformat_minor": 2
}
