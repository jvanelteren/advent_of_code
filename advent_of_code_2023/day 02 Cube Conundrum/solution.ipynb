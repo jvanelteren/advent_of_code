{
 "cells": [
  {
   "cell_type": "code",
   "execution_count": 11,
   "metadata": {},
   "outputs": [
    {
     "data": {
      "text/plain": [
       "'Game 1: 1 green, 4 blue; 1 blue, 2 green, 1 red; 1 red, 1 green, 2 blue; 1 green, 1 red; 1 green; 1 green, 1 blue, 1 red'"
      ]
     },
     "execution_count": 11,
     "metadata": {},
     "output_type": "execute_result"
    }
   ],
   "source": [
    "from collections import defaultdict\n",
    "\n",
    "f = open(\"in.txt\").read().split(\"\\n\")\n",
    "lines = [(line) for line in f]\n",
    "lines[0]"
   ]
  },
  {
   "cell_type": "code",
   "execution_count": 12,
   "metadata": {},
   "outputs": [
    {
     "data": {
      "text/plain": [
       "(2486, 87984)"
      ]
     },
     "execution_count": 12,
     "metadata": {},
     "output_type": "execute_result"
    }
   ],
   "source": [
    "p1, p2 = 0, 0\n",
    "\n",
    "for line in lines:\n",
    "    game, inp = line.split(':')\n",
    "    _, gameid = game.split()\n",
    "    gameid = int(gameid)\n",
    "    games = inp.split(';')\n",
    "    minimum = {'green':0, 'red':0,'blue':0}\n",
    "    working = True\n",
    "    for g in games:\n",
    "        for draw in g.split(','):\n",
    "            colors = defaultdict(int)\n",
    "            amount, color = draw.split()\n",
    "            amount = int(amount)\n",
    "            color = color.strip()\n",
    "            colors[color] += amount\n",
    "            if colors['green'] > 13 or colors['red'] > 12 or colors['blue'] > 14:\n",
    "                working = False\n",
    "            minimum[color] = max(minimum[color], colors[color])\n",
    "    power = minimum['red'] * minimum['green'] * minimum['blue']\n",
    "    p2 += power\n",
    "    if working:\n",
    "        p1 += gameid\n",
    "p1, p2"
   ]
  },
  {
   "cell_type": "code",
   "execution_count": null,
   "metadata": {},
   "outputs": [],
   "source": []
  }
 ],
 "metadata": {
  "file_extension": ".py",
  "kernelspec": {
   "display_name": "Python 3.11.0 ('.aocenvpy311': venv)",
   "language": "python",
   "name": "python3"
  },
  "language_info": {
   "codemirror_mode": {
    "name": "ipython",
    "version": 3
   },
   "file_extension": ".py",
   "mimetype": "text/x-python",
   "name": "python",
   "nbconvert_exporter": "python",
   "pygments_lexer": "ipython3",
   "version": "3.12.0"
  },
  "mimetype": "text/x-python",
  "name": "python",
  "npconvert_exporter": "python",
  "orig_nbformat": 2,
  "pygments_lexer": "ipython3",
  "version": 3,
  "vscode": {
   "interpreter": {
    "hash": "7b5336723abeab741c71fcc933eb6e6f53a288e70399d841fc0756db1169ea34"
   }
  }
 },
 "nbformat": 4,
 "nbformat_minor": 2
}
