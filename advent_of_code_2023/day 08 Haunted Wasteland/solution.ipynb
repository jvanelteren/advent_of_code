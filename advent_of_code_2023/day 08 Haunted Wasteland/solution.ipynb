{
 "cells": [
  {
   "cell_type": "code",
   "execution_count": 59,
   "metadata": {},
   "outputs": [],
   "source": [
    "from aocutils.math import lcm\n",
    "from itertools import cycle\n",
    "\n",
    "ins, net = open(\"in.txt\").read().split(\"\\n\\n\")\n",
    "conn = {}\n",
    "for line in net.split('\\n'):\n",
    "    start, des = line.replace(' ','').split('=')\n",
    "    conn[start] = des[1:-1].split(',')\n",
    "starts = {node for node in conn if node.endswith('A')}\n",
    "dests = {node for node in conn if node.endswith('Z')}"
   ]
  },
  {
   "cell_type": "code",
   "execution_count": 63,
   "metadata": {},
   "outputs": [
    {
     "data": {
      "text/plain": [
       "(19241, 9606140307013)"
      ]
     },
     "execution_count": 63,
     "metadata": {},
     "output_type": "execute_result"
    }
   ],
   "source": [
    "def step(cur):\n",
    "    steps = 0\n",
    "    for d in cycle(ins):\n",
    "        steps += 1\n",
    "        if d == 'L':\n",
    "            cur = conn[cur][0]\n",
    "        else:\n",
    "            cur = conn[cur][1]\n",
    "        if cur.endswith('Z'):\n",
    "            return steps\n",
    "step('AAA'), lcm(list(map(step, starts)))"
   ]
  }
 ],
 "metadata": {
  "file_extension": ".py",
  "kernelspec": {
   "display_name": "Python 3.11.0 ('.aocenvpy311': venv)",
   "language": "python",
   "name": "python3"
  },
  "language_info": {
   "codemirror_mode": {
    "name": "ipython",
    "version": 3
   },
   "file_extension": ".py",
   "mimetype": "text/x-python",
   "name": "python",
   "nbconvert_exporter": "python",
   "pygments_lexer": "ipython3",
   "version": "3.12.0"
  },
  "mimetype": "text/x-python",
  "name": "python",
  "npconvert_exporter": "python",
  "orig_nbformat": 2,
  "pygments_lexer": "ipython3",
  "version": 3,
  "vscode": {
   "interpreter": {
    "hash": "7b5336723abeab741c71fcc933eb6e6f53a288e70399d841fc0756db1169ea34"
   }
  }
 },
 "nbformat": 4,
 "nbformat_minor": 2
}
