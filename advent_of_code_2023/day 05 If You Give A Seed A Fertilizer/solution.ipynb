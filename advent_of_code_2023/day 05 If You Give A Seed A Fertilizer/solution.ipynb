{
 "cells": [
  {
   "cell_type": "code",
   "execution_count": 38,
   "metadata": {},
   "outputs": [],
   "source": [
    "from aocutils.common import to_int, ints\n",
    "from itertools import batched\n"
   ]
  },
  {
   "cell_type": "code",
   "execution_count": 39,
   "metadata": {},
   "outputs": [
    {
     "data": {
      "text/plain": [
       "389056265"
      ]
     },
     "execution_count": 39,
     "metadata": {},
     "output_type": "execute_result"
    }
   ],
   "source": [
    "# p1\n",
    "f = open(\"in.txt\").read().split(\"\\n\\n\")\n",
    "lines = [(line) for line in f]\n",
    "seeds, *mappings = lines\n",
    "seeds = ints(seeds)\n",
    "\n",
    "conv = []\n",
    "for mapp in mappings:\n",
    "    mapp = mapp.split('\\n')\n",
    "    ranges = []\n",
    "    \n",
    "    for l in mapp[1:]:\n",
    "        l = ints(l)\n",
    "        if len(l) == 3:\n",
    "            des, sour, leng = l\n",
    "            ranges.append((int(sour), int(des), int(leng)))\n",
    "        else:\n",
    "            print(l)\n",
    "    ranges.sort()\n",
    "    conv.append(ranges)\n",
    "locs = []\n",
    "for s in seeds:\n",
    "    for i in conv:\n",
    "        changed = False\n",
    "        for sour, des, leng in i:\n",
    "            if sour <= s < sour + leng:\n",
    "                delta = s - sour\n",
    "                s = des + delta\n",
    "                changed = True\n",
    "            if changed:\n",
    "                break\n",
    "    locs.append(s)\n",
    "locs.sort()\n",
    "locs[0]\n",
    "    "
   ]
  },
  {
   "cell_type": "code",
   "execution_count": 40,
   "metadata": {},
   "outputs": [
    {
     "data": {
      "text/plain": [
       "(137516820, 170926001)"
      ]
     },
     "execution_count": 40,
     "metadata": {},
     "output_type": "execute_result"
    }
   ],
   "source": [
    "# p2\n",
    "f = open(\"in.txt\").read().split(\"\\n\\n\")\n",
    "lines = [(line) for line in f]\n",
    "seeds, *mappings = lines\n",
    "seeds = ints(seeds)\n",
    "\n",
    "conv = []\n",
    "for mapp in mappings:\n",
    "    mapp = mapp.split('\\n')\n",
    "    ranges = []\n",
    "    for l in mapp[1:]:\n",
    "        des, sour, leng = ints(l)\n",
    "        ranges.append((int(sour), int(des), int(leng)))\n",
    "    ranges.sort()\n",
    "    conv.append(ranges)\n",
    "    \n",
    "seeds = [(start, start+r) for start, r in batched(seeds, 2)]\n",
    "    \n",
    "for i in conv:\n",
    "    newseeds = []\n",
    "    for start, end in seeds:\n",
    "        cur = start\n",
    "        for sour, des, leng in i:\n",
    "            if cur >= end:\n",
    "                break\n",
    "            if sour + leng - 1 < cur: \n",
    "                continue\n",
    "            if sour > cur:\n",
    "                newseeds.append((cur, min(sour, end)))\n",
    "                cur = sour\n",
    "            if sour >= end:\n",
    "                break\n",
    "            realend = min(end, sour + leng)\n",
    "            newseeds.append((cur + (des - sour), realend + (des - sour)))\n",
    "            cur = realend\n",
    "        if cur < end:\n",
    "            newseeds.append((cur, end))\n",
    "    newseeds.sort()\n",
    "    seeds = newseeds\n",
    "seeds.sort()\n",
    "seeds[0]"
   ]
  },
  {
   "cell_type": "code",
   "execution_count": null,
   "metadata": {},
   "outputs": [],
   "source": []
  }
 ],
 "metadata": {
  "file_extension": ".py",
  "kernelspec": {
   "display_name": "Python 3.11.0 ('.aocenvpy311': venv)",
   "language": "python",
   "name": "python3"
  },
  "language_info": {
   "codemirror_mode": {
    "name": "ipython",
    "version": 3
   },
   "file_extension": ".py",
   "mimetype": "text/x-python",
   "name": "python",
   "nbconvert_exporter": "python",
   "pygments_lexer": "ipython3",
   "version": "3.12.0"
  },
  "mimetype": "text/x-python",
  "name": "python",
  "npconvert_exporter": "python",
  "orig_nbformat": 2,
  "pygments_lexer": "ipython3",
  "version": 3,
  "vscode": {
   "interpreter": {
    "hash": "7b5336723abeab741c71fcc933eb6e6f53a288e70399d841fc0756db1169ea34"
   }
  }
 },
 "nbformat": 4,
 "nbformat_minor": 2
}
