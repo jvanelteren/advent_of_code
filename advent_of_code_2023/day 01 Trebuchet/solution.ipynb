{
 "cells": [
  {
   "cell_type": "markdown",
   "metadata": {},
   "source": [
    "[This is much better, I didn't think of using replace neither of regex](https://topaz.github.io/paste/#XQAAAQAKAQAAAAAAAAA0m0pnuFI8c/T1e9we2IArg1JqtVSf4aOyaw/e0y6g8BUatJ+6LXbTB088VcWKCEmLa+PJC3fqGQlP5EOeW7jcJn86jQ8GHP/JLJAJEkgXNzECN70C7H978FOal73go+CxCQfDr8cqNprcSRZFw9+dpFC0lK2VFavUkEiZ3W2ECMwBy2ODG9POqeCO23BBmdjLYx5eh/S8GRZkrbGAX5/rlmghHPZxNe2FOFi3rJBEOyOvjXwPLml7LRwmYdQz31RV1UzzgxgCXz9QwC/x5f/xd4CA)"
   ]
  },
  {
   "cell_type": "code",
   "execution_count": 79,
   "metadata": {},
   "outputs": [
    {
     "data": {
      "text/plain": [
       "55447"
      ]
     },
     "execution_count": 79,
     "metadata": {},
     "output_type": "execute_result"
    }
   ],
   "source": [
    "from aocutils.common import ints, to_int\n",
    "\n",
    "def first(num):\n",
    "    dig = num %10\n",
    "    while num:\n",
    "        dig = num % 10\n",
    "        num //= 10\n",
    "    return dig\n",
    "\n",
    "f = open(\"in.txt\").read().split(\"\\n\")\n",
    "lines = [ints(line) for line in f]\n",
    "ans = 0\n",
    "for line in lines:\n",
    "    ans += first(line[0]) * 10\n",
    "    ans += line[-1] % 10\n",
    "ans\n"
   ]
  },
  {
   "cell_type": "code",
   "execution_count": 35,
   "metadata": {},
   "outputs": [
    {
     "data": {
      "text/plain": [
       "55447"
      ]
     },
     "execution_count": 35,
     "metadata": {},
     "output_type": "execute_result"
    }
   ],
   "source": [
    "f = open(\"in.txt\").read().split(\"\\n\")\n",
    "ans = 0\n",
    "for line in f:\n",
    "    found = []\n",
    "    digit = 0\n",
    "    for ch in line:\n",
    "        if ch.isdigit():\n",
    "            digit = int(ch)\n",
    "            if not found:\n",
    "                found.append(int(ch)*10)\n",
    "    found[0] += int(digit)\n",
    "    ans += found[0]\n",
    "ans"
   ]
  },
  {
   "cell_type": "code",
   "execution_count": 62,
   "metadata": {},
   "outputs": [
    {
     "data": {
      "text/plain": [
       "54706"
      ]
     },
     "execution_count": 62,
     "metadata": {},
     "output_type": "execute_result"
    }
   ],
   "source": [
    "f = open(\"in.txt\").read().split(\"\\n\")\n",
    "ans = 0\n",
    "for line in f:\n",
    "    found = []\n",
    "    digit = 0\n",
    "    for dig, num in dict(zip(['one', 'two', 'three', 'four', 'five', 'six', 'seven', 'eight', 'nine'], [1,2,3,4,5,6,7,8,9])).items():\n",
    "        if (idx := line.find(dig)) != -1:\n",
    "            found.append((idx, num))\n",
    "        if (idx := line.rfind(dig)) != -1:\n",
    "            found.append((idx, num))\n",
    "    found2 = []\n",
    "    for idx, ch in enumerate(line):\n",
    "        \n",
    "        if ch.isdigit():\n",
    "            i = idx\n",
    "            digit = int(ch)\n",
    "            if not found2:\n",
    "                found2.append((i, int(digit)))\n",
    "    \n",
    "    found2.append((i, int(digit)))\n",
    "    found += found2\n",
    "    found.sort()\n",
    "    ans += found[0][1]*10 + found[-1][1]\n",
    "ans"
   ]
  }
 ],
 "metadata": {
  "file_extension": ".py",
  "kernelspec": {
   "display_name": "Python 3.11.0 ('.aocenvpy311': venv)",
   "language": "python",
   "name": "python3"
  },
  "language_info": {
   "codemirror_mode": {
    "name": "ipython",
    "version": 3
   },
   "file_extension": ".py",
   "mimetype": "text/x-python",
   "name": "python",
   "nbconvert_exporter": "python",
   "pygments_lexer": "ipython3",
   "version": "3.12.0"
  },
  "mimetype": "text/x-python",
  "name": "python",
  "npconvert_exporter": "python",
  "orig_nbformat": 2,
  "pygments_lexer": "ipython3",
  "version": 3,
  "vscode": {
   "interpreter": {
    "hash": "7b5336723abeab741c71fcc933eb6e6f53a288e70399d841fc0756db1169ea34"
   }
  }
 },
 "nbformat": 4,
 "nbformat_minor": 2
}
