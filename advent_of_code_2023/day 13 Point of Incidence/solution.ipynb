{
 "cells": [
  {
   "cell_type": "code",
   "execution_count": 59,
   "metadata": {},
   "outputs": [
    {
     "data": {
      "text/plain": [
       "(33975, 29083)"
      ]
     },
     "execution_count": 59,
     "metadata": {},
     "output_type": "execute_result"
    }
   ],
   "source": [
    "from numpy import rot90\n",
    "from aocutils.grid import iterate\n",
    "\n",
    "def same(arr):\n",
    "    found = {0}\n",
    "    rows = len(arr)\n",
    "    # check elke rij als eerste spiegelpunt\n",
    "    for r in range(rows-1):\n",
    "        sym = True\n",
    "        for nr in range(r,-1,-1):\n",
    "            delta = r - nr\n",
    "            if r+1+delta >= len(arr):\n",
    "                break\n",
    "            if arr[nr] != arr[r+1+delta]:\n",
    "                sym = False\n",
    "        if sym:\n",
    "            found.add(r+1)\n",
    "    return found\n",
    "                        \n",
    "def change(arr, p2=True):\n",
    "    initial = same(arr)\n",
    "    if not p2:\n",
    "        return max(initial)\n",
    "    for r,c,val in iterate(arr):\n",
    "        arr[r][c] = {'#':'.', '.':'#'}[val]\n",
    "        res = same(arr)\n",
    "        arr[r][c] = val\n",
    "        if res - initial:\n",
    "            return (res - initial).pop()\n",
    "    return 0    \n",
    "        \n",
    "f = open(\"in.txt\").read().split(\"\\n\\n\")\n",
    "\n",
    "p1, p2 = 0, 0\n",
    "for pat in f:\n",
    "    p = [list(line) for line in pat.split('\\n')]\n",
    "    r = change(p, p2=False)\n",
    "    c = change(rot90(p,3).tolist(), p2=False)\n",
    "    p1 += c + r * 100\n",
    "    r = change(p)\n",
    "    c = change(rot90(p,3).tolist())\n",
    "    p2 += c + r * 100\n",
    "p1, p2"
   ]
  }
 ],
 "metadata": {
  "file_extension": ".py",
  "kernelspec": {
   "display_name": "Python 3.11.0 ('.aocenvpy311': venv)",
   "language": "python",
   "name": "python3"
  },
  "language_info": {
   "codemirror_mode": {
    "name": "ipython",
    "version": 3
   },
   "file_extension": ".py",
   "mimetype": "text/x-python",
   "name": "python",
   "nbconvert_exporter": "python",
   "pygments_lexer": "ipython3",
   "version": "3.12.0"
  },
  "mimetype": "text/x-python",
  "name": "python",
  "npconvert_exporter": "python",
  "orig_nbformat": 2,
  "pygments_lexer": "ipython3",
  "version": 3,
  "vscode": {
   "interpreter": {
    "hash": "7b5336723abeab741c71fcc933eb6e6f53a288e70399d841fc0756db1169ea34"
   }
  }
 },
 "nbformat": 4,
 "nbformat_minor": 2
}
