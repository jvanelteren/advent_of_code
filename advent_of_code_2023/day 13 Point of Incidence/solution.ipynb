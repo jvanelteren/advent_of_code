{
 "cells": [
  {
   "cell_type": "code",
   "execution_count": 10,
   "metadata": {},
   "outputs": [],
   "source": [
    "from collections import defaultdict\n",
    "from numpy import rot90\n",
    "from aocutils.grid import iterate"
   ]
  },
  {
   "cell_type": "code",
   "execution_count": 15,
   "metadata": {},
   "outputs": [
    {
     "data": {
      "text/plain": [
       "29083"
      ]
     },
     "execution_count": 15,
     "metadata": {},
     "output_type": "execute_result"
    }
   ],
   "source": [
    "def same(arr):\n",
    "    rows = defaultdict(list)\n",
    "    for idx, row in enumerate(arr):\n",
    "        rows[tuple(row)].append(idx+1)\n",
    "    options = []\n",
    "    for k,v in rows.items():\n",
    "        for a in v:\n",
    "            for b in v:\n",
    "                if a != b and a < b and b - a == 1:\n",
    "                    options.append((a+b)//2)\n",
    "    comb = {v : idx for idx, vals in enumerate(rows.values()) for v in vals}\n",
    "    best = []\n",
    "    for o in options:\n",
    "        same = True\n",
    "        for i in range(1,o):\n",
    "            if i in comb and o + 1 + (o-i) in comb:\n",
    "                if comb[i] != comb[o + 1 + (o-i)]:\n",
    "                    same = False\n",
    "        if same:\n",
    "            best.append(o)\n",
    "            \n",
    "    return [0] if not best else best\n",
    "                        \n",
    "def change(arr):\n",
    "    initial = same(arr)[0]\n",
    "    for r,c,val in iterate(arr):\n",
    "        arr[r][c] = {'#':'.', '.':'#'}[val]\n",
    "        res = same(arr)\n",
    "        arr[r][c] = val\n",
    "        if len(res) == 1 and res[0] != initial and res[0] != 0:\n",
    "            return res[0]\n",
    "        elif len(res) > 1:\n",
    "            for r in res:\n",
    "                if r != initial:\n",
    "                    return r\n",
    "    return 0    \n",
    "        \n",
    "    \n",
    "f = open(\"in.txt\").read().split(\"\\n\\n\")\n",
    "ans = 0\n",
    "for pat in f:\n",
    "    p = [list(line) for line in pat.split('\\n')]\n",
    "    r = change(p)\n",
    "    c = change(rot90(p,3))\n",
    "    ans += c + r * 100\n",
    "ans"
   ]
  },
  {
   "cell_type": "code",
   "execution_count": null,
   "metadata": {},
   "outputs": [],
   "source": []
  }
 ],
 "metadata": {
  "file_extension": ".py",
  "kernelspec": {
   "display_name": "Python 3.11.0 ('.aocenvpy311': venv)",
   "language": "python",
   "name": "python3"
  },
  "language_info": {
   "codemirror_mode": {
    "name": "ipython",
    "version": 3
   },
   "file_extension": ".py",
   "mimetype": "text/x-python",
   "name": "python",
   "nbconvert_exporter": "python",
   "pygments_lexer": "ipython3",
   "version": "3.12.0"
  },
  "mimetype": "text/x-python",
  "name": "python",
  "npconvert_exporter": "python",
  "orig_nbformat": 2,
  "pygments_lexer": "ipython3",
  "version": 3,
  "vscode": {
   "interpreter": {
    "hash": "7b5336723abeab741c71fcc933eb6e6f53a288e70399d841fc0756db1169ea34"
   }
  }
 },
 "nbformat": 4,
 "nbformat_minor": 2
}
