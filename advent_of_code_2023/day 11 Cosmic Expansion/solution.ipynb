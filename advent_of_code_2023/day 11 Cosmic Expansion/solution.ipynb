{
 "cells": [
  {
   "cell_type": "code",
   "execution_count": 20,
   "metadata": {},
   "outputs": [
    {
     "data": {
      "text/plain": [
       "(10227282, 446125335050)"
      ]
     },
     "execution_count": 20,
     "metadata": {},
     "output_type": "execute_result"
    }
   ],
   "source": [
    "import numpy as np\n",
    "from aocutils.grid import arr_to_dict, manhattan\n",
    "# numpy rot90 does counterclockwise rotating\n",
    "\n",
    "f = open(\"in.txt\").read().split(\"\\n\")\n",
    "lines = [list(line) for line in f]\n",
    "\n",
    "rows, cols = set(), set()\n",
    "for ax, lines in [(rows, lines), (cols, np.rot90(lines, 3).tolist())]:\n",
    "    for idx, line in enumerate(lines):\n",
    "        if all(ch == '.' for ch in line):\n",
    "            ax.add(idx)\n",
    "        \n",
    "locs = arr_to_dict(lines)\n",
    "gal = {k for k,v in locs.items() if v != '.'}\n",
    "\n",
    "def explode(x, rows, n):\n",
    "    points = set(range(x+1))\n",
    "    overlap = len(rows & points) \n",
    "    return overlap * n + len(points) - overlap - 1\n",
    "\n",
    "def solve(gal, n):\n",
    "    newgal = gal.copy()\n",
    "    newgal = {(explode(g[0],rows, n), explode(g[1], cols, n)) for g in newgal}\n",
    "    return sum(manhattan(g1,g2) for g1 in newgal for g2 in newgal)//2\n",
    "\n",
    "solve(gal.copy(), 2), solve(gal.copy(), 1000000), \n",
    "    "
   ]
  }
 ],
 "metadata": {
  "file_extension": ".py",
  "kernelspec": {
   "display_name": "Python 3.11.0 ('.aocenvpy311': venv)",
   "language": "python",
   "name": "python3"
  },
  "language_info": {
   "codemirror_mode": {
    "name": "ipython",
    "version": 3
   },
   "file_extension": ".py",
   "mimetype": "text/x-python",
   "name": "python",
   "nbconvert_exporter": "python",
   "pygments_lexer": "ipython3",
   "version": "3.12.0"
  },
  "mimetype": "text/x-python",
  "name": "python",
  "npconvert_exporter": "python",
  "orig_nbformat": 2,
  "pygments_lexer": "ipython3",
  "version": 3,
  "vscode": {
   "interpreter": {
    "hash": "7b5336723abeab741c71fcc933eb6e6f53a288e70399d841fc0756db1169ea34"
   }
  }
 },
 "nbformat": 4,
 "nbformat_minor": 2
}
