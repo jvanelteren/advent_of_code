{
 "cells": [
  {
   "cell_type": "code",
   "execution_count": 1,
   "metadata": {},
   "outputs": [],
   "source": [
    "from dataclasses import dataclass\n",
    "from math import gcd, ceil\n",
    "import re\n",
    "from collections import Counter, defaultdict, namedtuple, deque, OrderedDict\n",
    "from functools import cache\n",
    "from itertools import product, chain, combinations, combinations_with_replacement, permutations, accumulate, zip_longest, batched, pairwise\n",
    "import numpy as np\n",
    "from matplotlib import pyplot as plt\n",
    "import networkx as nx\n",
    "inf = float('inf')\n",
    "\n",
    "from aocutils.common import copy_func, patch_to, patch, to_int, ints, flatten, zippify, multidict, rev, data, quantify, atom, atoms, list_atoms, list_multiply, mapt\n",
    "from aocutils.grid import gridneigh, arr_to_dict, grid_to_dict, neighbors, complexneighbors, arr_neighbors, iterate, Dim, dimensions, positive, manhattan, conv1d, conv2d, rotate\n",
    "from aocutils.maze import graphparse, bfs, dijkstra, distances, get_path, dfs\n",
    "from aocutils.math import gcd, factors, lcm, crt, mul_inv, Segment, lis, angle, all_combinations, all_permutations, mst\n",
    "from aocutils.special import md5, binarysearch, deduce_matches, find_specific_pattern, find_repeat, find_cycle, UnionFind, Octree, LazySegmentTree, Trie\n",
    "from aocutils.visuals import visualize_graph, labelize, animate_grid, plot, animate\n",
    "from aocutils.cfg import CFG\n",
    "from aocutils.earley import State, Earley\n",
    "from aocutils.shunting import ShuntingYard"
   ]
  },
  {
   "cell_type": "code",
   "execution_count": 27,
   "metadata": {},
   "outputs": [
    {
     "data": {
      "text/plain": [
       "(10228230, 447073334102)"
      ]
     },
     "execution_count": 27,
     "metadata": {},
     "output_type": "execute_result"
    }
   ],
   "source": [
    "# numpy rot90 does counterclockwise rotating\n",
    "# multiply with n-1\n",
    "f = open(\"in.txt\").read().split(\"\\n\")\n",
    "lines = [list(line) for line in f]\n",
    "n = 1000000\n",
    "rows, cols = [], []\n",
    "newlines = []\n",
    "for line in lines:\n",
    "    if all(ch == '.' for ch in line):\n",
    "        rows.append(len(newlines))\n",
    "        newlines.append(line)\n",
    "        # newlines.append(line)\n",
    "    else:\n",
    "        newlines.append(line)\n",
    "        \n",
    "import numpy as np\n",
    "lines = np.rot90(np.rot90(np.rot90(newlines))).tolist()\n",
    "newlines = []\n",
    "for line in lines:\n",
    "    if all(ch == '.' for ch in line):\n",
    "        cols.append(len(newlines))\n",
    "        newlines.append(line)\n",
    "        newlines.append(line)\n",
    "lines = np.rot90(newlines).tolist()\n",
    "\n",
    "rows = set(rows)\n",
    "cols = set(cols)\n",
    " \n",
    "locs = arr_to_dict(lines)\n",
    "gal = {k for k,v in locs.items() if v != '.'}\n",
    "\n",
    "def explode(x, rows, n):\n",
    "    points = set(range(x+1))\n",
    "    overlap = len(rows & points) \n",
    "    return overlap * n + len(points) - overlap - 1\n",
    "\n",
    "def solve(gal, n):\n",
    "    gal = {(explode(g[0],rows, n), explode(g[1], cols, n)) for g in gal}\n",
    "    return sum(manhattan(g1,g2) for g1 in gal for g2 in gal)//2\n",
    "\n",
    "\n",
    "solve(gal, 2), solve(gal, 1000000), \n",
    "    "
   ]
  }
 ],
 "metadata": {
  "file_extension": ".py",
  "kernelspec": {
   "display_name": "Python 3.11.0 ('.aocenvpy311': venv)",
   "language": "python",
   "name": "python3"
  },
  "language_info": {
   "codemirror_mode": {
    "name": "ipython",
    "version": 3
   },
   "file_extension": ".py",
   "mimetype": "text/x-python",
   "name": "python",
   "nbconvert_exporter": "python",
   "pygments_lexer": "ipython3",
   "version": "3.12.0"
  },
  "mimetype": "text/x-python",
  "name": "python",
  "npconvert_exporter": "python",
  "orig_nbformat": 2,
  "pygments_lexer": "ipython3",
  "version": 3,
  "vscode": {
   "interpreter": {
    "hash": "7b5336723abeab741c71fcc933eb6e6f53a288e70399d841fc0756db1169ea34"
   }
  }
 },
 "nbformat": 4,
 "nbformat_minor": 2
}
