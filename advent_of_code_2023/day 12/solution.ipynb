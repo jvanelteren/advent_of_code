{
 "cells": [
  {
   "cell_type": "code",
   "execution_count": 98,
   "metadata": {},
   "outputs": [],
   "source": [
    "from dataclasses import dataclass\n",
    "from math import gcd, ceil\n",
    "import re\n",
    "from collections import Counter, defaultdict, namedtuple, deque, OrderedDict\n",
    "from functools import cache\n",
    "from itertools import product, chain, combinations, combinations_with_replacement, permutations, accumulate, zip_longest, batched, pairwise\n",
    "import numpy as np\n",
    "from matplotlib import pyplot as plt\n",
    "import networkx as nx\n",
    "inf = float('inf')\n",
    "\n",
    "from aocutils.common import copy_func, patch_to, patch, to_int, ints, flatten, zippify, multidict, rev, data, quantify, atom, atoms, list_atoms, list_multiply, mapt\n",
    "from aocutils.grid import gridneigh, arr_to_dict, grid_to_dict, neighbors, complexneighbors, arr_neighbors, iterate, Dim, dimensions, positive, manhattan, conv1d, conv2d, rotate\n",
    "from aocutils.maze import graphparse, bfs, dijkstra, distances, get_path, dfs\n",
    "from aocutils.math import gcd, factors, lcm, crt, mul_inv, Segment, lis, angle, all_combinations, all_permutations, mst\n",
    "from aocutils.special import md5, binarysearch, deduce_matches, find_specific_pattern, find_repeat, find_cycle, UnionFind, Octree, LazySegmentTree, Trie\n",
    "from aocutils.visuals import visualize_graph, labelize, animate_grid, plot, animate\n",
    "from aocutils.cfg import CFG\n",
    "from aocutils.earley import State, Earley\n",
    "from aocutils.shunting import ShuntingYard"
   ]
  },
  {
   "cell_type": "code",
   "execution_count": 99,
   "metadata": {},
   "outputs": [],
   "source": [
    "f = open(\"in.txt\").read().split(\"\\n\")\n",
    "lines = [list(line) for line in f]\n",
    "grid, neigh = gridneigh(\"in.txt\", to_dict=True, parser=lambda x: [(ch) for ch in x])\n"
   ]
  },
  {
   "cell_type": "code",
   "execution_count": 14,
   "metadata": {},
   "outputs": [],
   "source": [
    "def neigh(n):\n",
    "    if grid[n] == '|':\n",
    "        return [n+complex(0,1), n + complex(0,-1)]\n",
    "    elif grid[n] == '-':\n",
    "        return [n+complex(1,0), n + complex(-1,0)]\n",
    "    elif grid[n] == 'L':\n",
    "        return [n+complex(0,1), n + complex(1,0)]\n",
    "    elif grid[n] == 'J':\n",
    "        return [n+complex(0,1), n + complex(-1,0)]\n",
    "    elif grid[n] == '7':\n",
    "        return [n+complex(0,-1), n + complex(-1,0)]\n",
    "    elif grid[n] == 'F':\n",
    "        return [n+complex(0,-1), n + complex(1,0)]\n",
    "    elif grid[n] == '.':\n",
    "        print('error')\n",
    "    elif grid[n] == 'S':\n",
    "        return [n+complex(0,1), n+complex(0,-1)]\n",
    "        # return [n+i for i in [complex(1,0), complex(-1,0), complex(0,1), complex(0,-1)] if grid.get(n+i,'.') != '.']\n",
    "    else:\n",
    "        print('error')\n",
    "        \n",
    "def neigh2(node):\n",
    "    global safe, distances, sq\n",
    "    res = set()\n",
    "    n = node\n",
    "    if node.real.is_integer() and node.imag.is_integer():\n",
    "        # in grid\n",
    "        for i in [complex(1,0), complex(-1,0), complex(0,1), complex(0,-1)]:\n",
    "            if (node + i) in grid and (node+i) not in distances:\n",
    "                res.add(node+i)\n",
    "        for i in [complex(0.5,1), complex(-0.5,1), complex(0.5,-1), complex(-0.5,-1)]:\n",
    "            # print(node+i,grid.get(node+i, 'x'))\n",
    "            if grid.get(node+i, 'x') == '|':\n",
    "                res.add(node+i)\n",
    "        for i in [complex(1,0.5), complex(1,-0.5), complex(-1,0.5), complex(-1,-0.5)]:\n",
    "            if grid.get(node+i, 'x') == '-':\n",
    "                res.add(node+i)\n",
    "    elif grid[node] == '|':\n",
    "        # were in sq\n",
    "        for i in [complex(0,1), complex(0,-1)]:\n",
    "            if grid.get(node+i, 'x') == '|':\n",
    "                res.add(node+i)\n",
    "        for i in [complex(0.5,0.5), complex(-0.5,-0.5), complex(-0.5,0.5), complex(0.5,-0.5)]:\n",
    "            if grid.get(node+i, 'x') == '-':\n",
    "                res.add(node+i)\n",
    "                \n",
    "        for i in [complex(0.5,1), complex(-0.5,1), complex(0.5,-1), complex(-0.5,-1)]:\n",
    "            if (node + i) in grid and (node+i) not in distances:\n",
    "                res.add(node+i)\n",
    " \n",
    "        \n",
    "    elif grid[node] == '-':\n",
    "        for i in [complex(1,0), complex(-1,0)]:\n",
    "            if grid.get(node+i, 'x') == '-':\n",
    "                res.add(node+i)\n",
    "                \n",
    "        for i in [complex(0.5,0.5), complex(-0.5,-0.5), complex(-0.5,0.5), complex(0.5,-0.5)]:\n",
    "            if grid.get(node+i, 'x') == '|':\n",
    "                res.add(node+i)\n",
    "        for i in [complex(1,0.5), complex(1,-0.5), complex(-1,0.5), complex(-1,-0.5)]:\n",
    "            if (node + i) in grid and (node+i) not in distances:\n",
    "                res.add(node+i)\n",
    "        \n",
    "    return res\n",
    "# test = complex(5,-8)\n",
    "# grid[test+1j], neigh2(complex(5,-8))"
   ]
  },
  {
   "cell_type": "code",
   "execution_count": null,
   "metadata": {},
   "outputs": [],
   "source": []
  },
  {
   "cell_type": "code",
   "execution_count": null,
   "metadata": {},
   "outputs": [],
   "source": []
  },
  {
   "cell_type": "code",
   "execution_count": 95,
   "metadata": {},
   "outputs": [
    {
     "name": "stdout",
     "output_type": "stream",
     "text": [
      "264 160 80\n"
     ]
    }
   ],
   "source": [
    "# parse grid with complex numbers\n",
    "f = open(\"t0.txt\").read().split(\"\\n\")\n",
    "lines = [list(line) for line in f]\n",
    "lines = np.pad(lines,1)\n",
    "grid = arr_to_dict(lines, tocomplex=True)\n",
    "\n",
    "# E = 1,0\n",
    "# W = -1,0\n",
    "# N = 0,1\n",
    "# S = 0,-1    \n",
    "safe = set()\n",
    "safeground = set()   \n",
    "sq = {}\n",
    "tiles = len(grid)\n",
    "\n",
    "distances = {}\n",
    "start = [k for k,v in grid.items() if v == 'S'].pop()\n",
    "start\n",
    "grid[start] = '|'\n",
    "# t1\n",
    "grid[start] = 'F'\n",
    "# t0\n",
    "grid[start] = '7'\n",
    "border = set()\n",
    "def bfs(node):\n",
    "    dis = 0\n",
    "    tocheck = deque([node])\n",
    "    seen = set()\n",
    "    while tocheck:\n",
    "        for _ in range(len(tocheck)):\n",
    "            cur = tocheck.popleft()\n",
    "            # print(len(neigh2(cur)))\n",
    "            for n in neigh(cur):\n",
    "                if n not in seen:\n",
    "                    seen.add(n)\n",
    "                    distances[n] = dis + 1\n",
    "                    tocheck.append(n)\n",
    "        dis += 1\n",
    "bfs(start)\n",
    "\n",
    "\n",
    "loop = len(distances)        \n",
    "def bfs(node):\n",
    "    dis = 0\n",
    "    tocheck = deque([node])\n",
    "    seen = set()\n",
    "    while tocheck:\n",
    "        for _ in range(len(tocheck)):\n",
    "            cur = tocheck.popleft()\n",
    "            # print(len(neigh2(cur)))\n",
    "            for n in neigh2(cur):\n",
    "                if n not in seen:\n",
    "                    if n.real.is_integer() and n.imag.is_integer():\n",
    "                        safe.add(n)\n",
    "                    if grid[n] == '.':\n",
    "                        safeground.add(n)\n",
    "                    seen.add(n)\n",
    "                    tocheck.append(n)\n",
    "        dis += 1\n",
    "[(k,v) for k,v in distances.items() if v == max(distances.values())]\n",
    "print(len(grid), len(distances), max(distances.values()))\n",
    "\n",
    "for k,v in grid.items():\n",
    "    if grid[k] != '0' and k not in distances:\n",
    "        grid[k] = '.'\n",
    "        \n",
    "real = len(lines[0])\n",
    "imag = len(lines)\n",
    "for r in range(real):\n",
    "    for i in range(0,-imag,-1):\n",
    "        # print(r,c)\n",
    "        if (grid.get(complex(r,i), 'x')) == 'x':\n",
    "            print('error cannot be found')\n",
    "            sys.exit()\n",
    "            \n",
    "\n",
    "        if grid.get(complex(r,i), 'x') not in list('-FL') and grid.get(complex(r+1,i),'x') not in list('7J-') and (complex(r,i) in distances or complex(r+1,i) in distances):\n",
    "            # pipe N S\n",
    "            sq[complex(r+0.5, i)] = '|'\n",
    "        if grid.get(complex(r,i), 'x') not in list('7F|') and grid.get(complex(r,i-1),'x') not in list('LJ|')  and (complex(r,i) in distances or complex(r,i-1) in distances):\n",
    "            # pipe WE\n",
    "            sq[complex(r,i-0.5)] = '-'\n",
    "        # if grid.get(complex(r,i), 'x') in list('|7J') and grid.get(complex(r+1,i),'x') in list('FL|'):\n",
    "        #     # pipe N S\n",
    "        #     sq[complex(r+0.5, i)] = '|'\n",
    "        # if grid.get(complex(r,i), 'x') in list('-LJ') and grid.get(complex(r,i-1),'x') in list('F-7'):\n",
    "        #     # pipe WE\n",
    "        #     sq[complex(r,i-0.5)] = '-'\n",
    "\n",
    "grid |= sq\n",
    "\n",
    "        \n",
    "for node in grid:\n",
    "    if grid[node] == '0':\n",
    "        border.add(node)\n",
    "for node in border:\n",
    "    bfs(node)\n"
   ]
  },
  {
   "cell_type": "code",
   "execution_count": 96,
   "metadata": {},
   "outputs": [
    {
     "data": {
      "text/plain": [
       "(40, 30, 10)"
      ]
     },
     "execution_count": 96,
     "metadata": {},
     "output_type": "execute_result"
    }
   ],
   "source": [
    "ground = sum(1 for k,v in grid.items() if v == '.')\n",
    "ground, len(safeground), ground - len(safeground)"
   ]
  },
  {
   "cell_type": "code",
   "execution_count": 97,
   "metadata": {},
   "outputs": [
    {
     "data": {
      "text/plain": [
       "10"
      ]
     },
     "execution_count": 97,
     "metadata": {},
     "output_type": "execute_result"
    }
   ],
   "source": [
    "left = (set(grid) - set(sq) - set(distances) - set(safe) - border)\n",
    "len(left)"
   ]
  },
  {
   "cell_type": "code",
   "execution_count": 84,
   "metadata": {},
   "outputs": [
    {
     "data": {
      "text/plain": [
       "(32133, 11969, 13198, 6445)"
      ]
     },
     "execution_count": 84,
     "metadata": {},
     "output_type": "execute_result"
    }
   ],
   "source": [
    "len(grid), len(sq), len(distances), len(safe)"
   ]
  },
  {
   "cell_type": "code",
   "execution_count": null,
   "metadata": {},
   "outputs": [],
   "source": []
  },
  {
   "cell_type": "code",
   "execution_count": 329,
   "metadata": {},
   "outputs": [
    {
     "data": {
      "text/plain": [
       "(264, 160, 564, 30, -490)"
      ]
     },
     "execution_count": 329,
     "metadata": {},
     "output_type": "execute_result"
    }
   ],
   "source": [
    "tiles, loop, b, len(safe), tiles - loop - b - len(safe)"
   ]
  },
  {
   "cell_type": "code",
   "execution_count": 179,
   "metadata": {},
   "outputs": [
    {
     "data": {
      "text/plain": [
       "13198"
      ]
     },
     "execution_count": 179,
     "metadata": {},
     "output_type": "execute_result"
    }
   ],
   "source": [
    "[(k,v) for k,v in distances.items() if v == max(distances.values())]\n",
    "len(distances)"
   ]
  },
  {
   "cell_type": "code",
   "execution_count": null,
   "metadata": {},
   "outputs": [],
   "source": [
    "def neigh3(n):\n",
    "    if grid[n] == '|':\n",
    "        return [n+complex(0,1), n + complex(0,-1)]\n",
    "    elif grid[n] == '-':\n",
    "        return [n+complex(1,0), n + complex(-1,0)]\n",
    "    elif grid[n] == 'L':\n",
    "        return [n+complex(0,1), n + complex(1,0)]\n",
    "    elif grid[n] == 'J':\n",
    "        return [n+complex(0,1), n + complex(-1,0)]\n",
    "    elif grid[n] == '7':\n",
    "        return [n+complex(0,-1), n + complex(-1,0)]\n",
    "    elif grid[n] == 'F':\n",
    "        return [n+complex(0,-1), n + complex(1,0)]\n",
    "    elif grid[n] == '.':\n",
    "        print('error')\n",
    "    elif grid[n] == 'S':\n",
    "        return [n+complex(0,1), n+complex(0,-1)]\n",
    "        # return [n+i for i in [complex(1,0), complex(-1,0), complex(0,1), complex(0,-1)] if grid.get(n+i,'.') != '.']\n",
    "    else:\n",
    "        print('error')"
   ]
  },
  {
   "cell_type": "code",
   "execution_count": null,
   "metadata": {},
   "outputs": [],
   "source": [
    "def check(node):\n",
    "    tocheck = [node]\n",
    "    seen = set([node])\n",
    "    while tocheck:\n",
    "        cur = tocheck.pop()\n",
    "        # print(len(neigh2(cur)))\n",
    "        for n in neigh3(cur):\n",
    "            if n not in seen:\n",
    "                seen.add(n)\n",
    "                tocheck.append(n)\n",
    "                \n"
   ]
  },
  {
   "cell_type": "code",
   "execution_count": 120,
   "metadata": {},
   "outputs": [
    {
     "data": {
      "text/plain": [
       "(31, 0)"
      ]
     },
     "execution_count": 120,
     "metadata": {},
     "output_type": "execute_result"
    }
   ],
   "source": [
    "ground, len(safe)"
   ]
  }
 ],
 "metadata": {
  "file_extension": ".py",
  "kernelspec": {
   "display_name": "Python 3.11.0 ('.aocenvpy311': venv)",
   "language": "python",
   "name": "python3"
  },
  "language_info": {
   "codemirror_mode": {
    "name": "ipython",
    "version": 3
   },
   "file_extension": ".py",
   "mimetype": "text/x-python",
   "name": "python",
   "nbconvert_exporter": "python",
   "pygments_lexer": "ipython3",
   "version": "3.12.0"
  },
  "mimetype": "text/x-python",
  "name": "python",
  "npconvert_exporter": "python",
  "orig_nbformat": 2,
  "pygments_lexer": "ipython3",
  "version": 3,
  "vscode": {
   "interpreter": {
    "hash": "7b5336723abeab741c71fcc933eb6e6f53a288e70399d841fc0756db1169ea34"
   }
  }
 },
 "nbformat": 4,
 "nbformat_minor": 2
}
