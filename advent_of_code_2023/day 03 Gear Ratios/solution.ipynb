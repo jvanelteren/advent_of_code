{
 "cells": [
  {
   "cell_type": "code",
   "execution_count": 6,
   "metadata": {},
   "outputs": [],
   "source": [
    "from collections import defaultdict\n",
    "from aocutils.common import ints\n",
    "from aocutils.grid import gridneigh\n",
    "from math import prod\n"
   ]
  },
  {
   "cell_type": "code",
   "execution_count": 7,
   "metadata": {},
   "outputs": [],
   "source": [
    "# twee dingen mis: mijn ints functie geeft ook negatieve waarden test\n",
    "# testcase had ik aangepast, daarom leek het alsof mn test misging\n",
    "file = 'in.txt'\n",
    "grid, conn = gridneigh(file, parser = lambda line: list(line), diag=True, inc_self=False)"
   ]
  },
  {
   "cell_type": "code",
   "execution_count": 8,
   "metadata": {},
   "outputs": [],
   "source": [
    "gridtonum = {}\n",
    "\n",
    "f = open(file).read().split(\"\\n\")\n",
    "lines = [(line) for line in f]\n",
    "for row, line in enumerate(lines):\n",
    "    nums = ints(line)\n",
    "    nums = [abs(num) for num in nums]\n",
    "    p = 0\n",
    "    for num in nums:\n",
    "        stringnum = str(num)\n",
    "        while grid[row,p] != stringnum[0]:\n",
    "            p += 1\n",
    "        first = p\n",
    "        for l in range(len(stringnum)):\n",
    "            gridtonum[row, p] = (num, (row,first))\n",
    "            p += 1   "
   ]
  },
  {
   "cell_type": "code",
   "execution_count": 13,
   "metadata": {},
   "outputs": [
    {
     "data": {
      "text/plain": [
       "533775"
      ]
     },
     "execution_count": 13,
     "metadata": {},
     "output_type": "execute_result"
    }
   ],
   "source": [
    "part = 0\n",
    "seen = set()\n",
    "gears = defaultdict(set)\n",
    "for k,v in grid.items():\n",
    "    if v.isdigit():\n",
    "        for neigh in conn[k]:\n",
    "            if grid[neigh] != '.' and not grid[neigh].isdigit():\n",
    "                if gridtonum[k] not in seen:\n",
    "                    seen.add(gridtonum[k])\n",
    "                    part += gridtonum[k][0]\n",
    "            if grid[neigh] == '*':\n",
    "                gears[neigh].add(gridtonum[k])\n",
    "part\n",
    "        "
   ]
  },
  {
   "cell_type": "code",
   "execution_count": 14,
   "metadata": {},
   "outputs": [
    {
     "data": {
      "text/plain": [
       "78236071"
      ]
     },
     "execution_count": 14,
     "metadata": {},
     "output_type": "execute_result"
    }
   ],
   "source": [
    "ans = 0\n",
    "for k, v in gears.items():\n",
    "    if len(v) == 2:\n",
    "        ans += prod([val for (val, coor) in v])\n",
    "ans\n",
    "        "
   ]
  }
 ],
 "metadata": {
  "file_extension": ".py",
  "kernelspec": {
   "display_name": "Python 3.11.0 ('.aocenvpy311': venv)",
   "language": "python",
   "name": "python3"
  },
  "language_info": {
   "codemirror_mode": {
    "name": "ipython",
    "version": 3
   },
   "file_extension": ".py",
   "mimetype": "text/x-python",
   "name": "python",
   "nbconvert_exporter": "python",
   "pygments_lexer": "ipython3",
   "version": "3.12.0"
  },
  "mimetype": "text/x-python",
  "name": "python",
  "npconvert_exporter": "python",
  "orig_nbformat": 2,
  "pygments_lexer": "ipython3",
  "version": 3,
  "vscode": {
   "interpreter": {
    "hash": "7b5336723abeab741c71fcc933eb6e6f53a288e70399d841fc0756db1169ea34"
   }
  }
 },
 "nbformat": 4,
 "nbformat_minor": 2
}
