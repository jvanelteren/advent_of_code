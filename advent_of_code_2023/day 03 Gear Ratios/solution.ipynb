{
 "cells": [
  {
   "cell_type": "code",
   "execution_count": 1,
   "metadata": {},
   "outputs": [],
   "source": [
    "from collections import defaultdict\n",
    "from aocutils.common import ints\n",
    "from aocutils.grid import gridneigh\n",
    "from math import prod\n"
   ]
  },
  {
   "cell_type": "code",
   "execution_count": 7,
   "metadata": {},
   "outputs": [],
   "source": [
    "# twee dingen mis: mijn ints functie geeft ook negatieve waarden test\n",
    "# testcase had ik aangepast, daarom leek het alsof mn test misging\n",
    "file = 'in.txt'\n",
    "grid, conn = gridneigh(file, diag=True, inc_self=False)"
   ]
  },
  {
   "cell_type": "code",
   "execution_count": 8,
   "metadata": {},
   "outputs": [],
   "source": [
    "gridtonum = {}\n",
    "\n",
    "f = open(file).read().split(\"\\n\")\n",
    "lines = [(line) for line in f]\n",
    "for row, line in enumerate(lines):\n",
    "    nums = ints(line)\n",
    "    nums = [abs(num) for num in nums]\n",
    "    p = 0\n",
    "    for num in nums:\n",
    "        stringnum = str(num)\n",
    "        while grid[row,p] != stringnum[0]:\n",
    "            p += 1\n",
    "        first = p\n",
    "        for l in range(len(stringnum)):\n",
    "            gridtonum[row, p] = (num, (row,first))\n",
    "            p += 1   "
   ]
  },
  {
   "cell_type": "code",
   "execution_count": 12,
   "metadata": {},
   "outputs": [
    {
     "name": "stdout",
     "output_type": "stream",
     "text": [
      "416 0 3\n",
      "559 28 31\n",
      "417 46 49\n",
      "785 64 67\n",
      "900 74 77\n",
      "284 84 87\n",
      "503 98 101\n",
      "796 104 107\n",
      "992 111 114\n"
     ]
    }
   ],
   "source": [
    "# you could have also found the numbers with re.finditer\n",
    "import re\n",
    "for x in re.finditer(r\"-?\\d+\", lines[0]):\n",
    "    print(x.group(0), x.start(), x.end())"
   ]
  },
  {
   "cell_type": "code",
   "execution_count": 10,
   "metadata": {},
   "outputs": [
    {
     "data": {
      "text/plain": [
       "533775"
      ]
     },
     "execution_count": 10,
     "metadata": {},
     "output_type": "execute_result"
    }
   ],
   "source": [
    "part = 0\n",
    "seen = set()\n",
    "gears = defaultdict(set)\n",
    "for k,v in grid.items():\n",
    "    if v.isdigit():\n",
    "        for neigh in conn[k]:\n",
    "            if grid[neigh] != '.' and not grid[neigh].isdigit():\n",
    "                if gridtonum[k] not in seen:\n",
    "                    seen.add(gridtonum[k])\n",
    "                    part += gridtonum[k][0]\n",
    "            if grid[neigh] == '*':\n",
    "                gears[neigh].add(gridtonum[k])\n",
    "part\n",
    "        "
   ]
  },
  {
   "cell_type": "code",
   "execution_count": 11,
   "metadata": {},
   "outputs": [
    {
     "data": {
      "text/plain": [
       "78236071"
      ]
     },
     "execution_count": 11,
     "metadata": {},
     "output_type": "execute_result"
    }
   ],
   "source": [
    "ans = 0\n",
    "for k, v in gears.items():\n",
    "    if len(v) == 2:\n",
    "        ans += prod([val for (val, coor) in v])\n",
    "ans\n",
    "        "
   ]
  },
  {
   "cell_type": "code",
   "execution_count": null,
   "metadata": {},
   "outputs": [],
   "source": [
    "# 4HbQ at it again\n",
    "# https://topaz.github.io/paste/#XQAAAQAcAgAAAAAAAAA0m0pnuFI8c+fPp4G3Y5M2miSs3R6AnrKm3fbDkugpdVsCgQOTZL/yzxGwy/N08UeBslxE7G36XluuSq4Y/2FE0+4nPcdj9lpkrrjBk5HRCFLEKuPjUV8tYPx04VDoJ1c6yyLzScmAGwNvzpPoqb5PkRyyy4dSEcuEDe/k0/U7h7pZVh4eTrNAIPsTNZohcltxuwuA4lrZSN37i0QZiufFpvLVyhV/dLBnmSr+2jwFcFE+W6OEIFQxK6MIJ2z7TWKj8lg6yV4yhJzTm+c+QHh2omzhGVLd2WdcHdhjmCyC+Btbr3yCqemYb/6tMUvz8VchnyHstx7QKKeLVmTOEyYqHH/qRDhlKXSQ23RWuPibCf4quQUPGpPDRsH4KITzLbIUVUdssnSp6ffcHO+dAISdzBOiznl5/+PI+jE=\n",
    "\n",
    "import math as m, re\n",
    "\n",
    "board = list(open('in.txt'))\n",
    "chars = {(r, c): [] for r in range(140) for c in range(140)\n",
    "                    if board[r][c] not in '01234566789.'}\n",
    "\n",
    "for r, row in enumerate(board):\n",
    "    for n in re.finditer(r'\\d+', row):\n",
    "        edge = {(r, c) for r in (r-1, r, r+1)\n",
    "                       for c in range(n.start()-1, n.end()+1)}\n",
    "\n",
    "        for o in edge & chars.keys():\n",
    "            chars[o].append(int(n.group()))\n",
    "            \n",
    "print(chars)\n",
    "print(sum(sum(p)    for p in chars.values()),\n",
    "      sum(m.prod(p) for p in chars.values() if len(p)==2))\n"
   ]
  }
 ],
 "metadata": {
  "file_extension": ".py",
  "kernelspec": {
   "display_name": "Python 3.11.0 ('.aocenvpy311': venv)",
   "language": "python",
   "name": "python3"
  },
  "language_info": {
   "codemirror_mode": {
    "name": "ipython",
    "version": 3
   },
   "file_extension": ".py",
   "mimetype": "text/x-python",
   "name": "python",
   "nbconvert_exporter": "python",
   "pygments_lexer": "ipython3",
   "version": "3.12.0"
  },
  "mimetype": "text/x-python",
  "name": "python",
  "npconvert_exporter": "python",
  "orig_nbformat": 2,
  "pygments_lexer": "ipython3",
  "version": 3,
  "vscode": {
   "interpreter": {
    "hash": "7b5336723abeab741c71fcc933eb6e6f53a288e70399d841fc0756db1169ea34"
   }
  }
 },
 "nbformat": 4,
 "nbformat_minor": 2
}
