{
 "cells": [
  {
   "cell_type": "code",
   "execution_count": 82,
   "metadata": {},
   "outputs": [
    {
     "name": "stdout",
     "output_type": "stream",
     "text": [
      "found (734, 4, (140, 140), (1, 0)) 734\n",
      "found (734, 6, (140, 140), (1, 0)) 734\n",
      "found (735, 5, (140, 140), (1, 0)) 735\n",
      "found (737, 9, (140, 140), (1, 0)) 737\n",
      "found (737, 10, (140, 140), (1, 0)) 737\n",
      "found (738, 8, (140, 140), (1, 0)) 738\n",
      "found (739, 7, (140, 140), (1, 0)) 739\n",
      "found (744, 6, (140, 140), (0, 1)) 744\n",
      "found (744, 7, (140, 140), (0, 1)) 744\n",
      "found (744, 10, (140, 140), (0, 1)) 744\n",
      "found (745, 5, (140, 140), (0, 1)) 745\n",
      "found (746, 4, (140, 140), (0, 1)) 746\n",
      "found (750, 8, (140, 140), (0, 1)) 750\n",
      "found (751, 9, (140, 140), (0, 1)) 751\n"
     ]
    }
   ],
   "source": [
    "import heapq\n",
    "from aocutils.grid import arr_to_dict\n",
    "\n",
    "f = open(\"in.txt\").read().split(\"\\n\")\n",
    "lines = [[int(ch) for ch in list(line)] for line in f]\n",
    "lines[0][0]\n",
    "\n",
    "S = (1,0); N = (-1,0); E = (0,1); W = (0,-1)\n",
    "\n",
    "def TURNRIGHT(x):\n",
    "    if x == S: return W\n",
    "    if x == W : return N\n",
    "    if x == N  : return E\n",
    "    if x == E  : return S\n",
    "    \n",
    "def TURNLEFT(x):\n",
    "    if x ==  S: return E\n",
    "    if x ==  E: return N\n",
    "    if x ==  N: return W\n",
    "    if x ==  W: return S\n",
    "    \n",
    "def go(loc, direc):\n",
    "    return (loc[0] + direc[0], loc[1] + direc[1])\n",
    "\n",
    "def neigh(loc, direc, repeat):\n",
    "    ans = []\n",
    "    if repeat < 3:\n",
    "        ans.append((repeat + 1, go(loc,direc), direc))\n",
    "    newd = TURNLEFT(direc)\n",
    "    ans.append((1, go(loc,newd), newd))\n",
    "    newd = TURNRIGHT(direc)\n",
    "    ans.append((1, go(loc,newd), newd))\n",
    "    return ans\n",
    "\n",
    "def neighp2(loc, direc, repeat):\n",
    "    ans = []\n",
    "    if repeat < 10:\n",
    "        ans.append((repeat + 1, go(loc,direc), direc))\n",
    "    if repeat >= 4:\n",
    "        newd = TURNLEFT(direc)\n",
    "        ans.append((1, go(loc,newd), newd))\n",
    "        newd = TURNRIGHT(direc)\n",
    "        ans.append((1, go(loc,newd), newd))\n",
    "    return ans\n",
    "\n",
    "grid = arr_to_dict(lines)\n",
    "dest = len(lines) -1, len(lines[0])-1\n",
    "\n",
    "start = (0,0)\n",
    "direc = E\n",
    "repeat = 0\n",
    "costs = 0\n",
    "tocheck = [(costs, repeat, start, direc)]\n",
    "\n",
    "seen = set()\n",
    "\n",
    "while tocheck:\n",
    "    costs, repeat, loc, direc = heapq.heappop(tocheck)\n",
    "    # lost time because first checked only for loc and direc\n",
    "    if (loc, direc, repeat) not in seen:\n",
    "        seen.add((loc, direc, repeat))\n",
    "        for newrepeat, newloc, newdirec in neighp2(loc, direc, repeat):\n",
    "            if newloc in grid:\n",
    "                # lost time because i checked on repeat and not newrepeat\n",
    "                if newloc == dest and newrepeat >=4:\n",
    "                    print('found', (costs + grid[newloc], newrepeat, newloc, newdirec), costs + grid[newloc])\n",
    "                heapq.heappush(tocheck, (costs + grid[newloc], newrepeat, newloc, newdirec))\n",
    "            "
   ]
  },
  {
   "cell_type": "code",
   "execution_count": null,
   "metadata": {},
   "outputs": [],
   "source": []
  }
 ],
 "metadata": {
  "file_extension": ".py",
  "kernelspec": {
   "display_name": "Python 3.11.0 ('.aocenvpy311': venv)",
   "language": "python",
   "name": "python3"
  },
  "language_info": {
   "codemirror_mode": {
    "name": "ipython",
    "version": 3
   },
   "file_extension": ".py",
   "mimetype": "text/x-python",
   "name": "python",
   "nbconvert_exporter": "python",
   "pygments_lexer": "ipython3",
   "version": "3.12.0"
  },
  "mimetype": "text/x-python",
  "name": "python",
  "npconvert_exporter": "python",
  "orig_nbformat": 2,
  "pygments_lexer": "ipython3",
  "version": 3,
  "vscode": {
   "interpreter": {
    "hash": "7b5336723abeab741c71fcc933eb6e6f53a288e70399d841fc0756db1169ea34"
   }
  }
 },
 "nbformat": 4,
 "nbformat_minor": 2
}
