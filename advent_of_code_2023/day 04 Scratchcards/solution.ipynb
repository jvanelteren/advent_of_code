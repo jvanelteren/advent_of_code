{
 "cells": [
  {
   "cell_type": "code",
   "execution_count": 1,
   "metadata": {},
   "outputs": [
    {
     "data": {
      "text/plain": [
       "(21959, 5132675)"
      ]
     },
     "execution_count": 1,
     "metadata": {},
     "output_type": "execute_result"
    }
   ],
   "source": [
    "# mistake won**2 instead of 2**won\n",
    "\n",
    "from collections import defaultdict\n",
    "from aocutils.common import ints\n",
    "f = open(\"in.txt\").read().split(\"\\n\")\n",
    "\n",
    "ans = 0\n",
    "amount = 0\n",
    "having = defaultdict(lambda: 1)\n",
    "for idx, line in enumerate(f, 1):\n",
    "    having[idx]\n",
    "    l, r = line.split('|')\n",
    "    _, l = l.split(':')\n",
    "    winning = set(ints(l))\n",
    "    have = set(ints(r))\n",
    "    won = len(winning & have)\n",
    "    for i in range(idx +1, idx + 1 + won):\n",
    "        having[i] += having[idx]\n",
    "    if won:\n",
    "        ans += 2**(won-1)\n",
    "ans, sum(having.values())\n"
   ]
  }
 ],
 "metadata": {
  "file_extension": ".py",
  "kernelspec": {
   "display_name": "Python 3.11.0 ('.aocenvpy311': venv)",
   "language": "python",
   "name": "python3"
  },
  "language_info": {
   "codemirror_mode": {
    "name": "ipython",
    "version": 3
   },
   "file_extension": ".py",
   "mimetype": "text/x-python",
   "name": "python",
   "nbconvert_exporter": "python",
   "pygments_lexer": "ipython3",
   "version": "3.12.0"
  },
  "mimetype": "text/x-python",
  "name": "python",
  "npconvert_exporter": "python",
  "orig_nbformat": 2,
  "pygments_lexer": "ipython3",
  "version": 3,
  "vscode": {
   "interpreter": {
    "hash": "7b5336723abeab741c71fcc933eb6e6f53a288e70399d841fc0756db1169ea34"
   }
  }
 },
 "nbformat": 4,
 "nbformat_minor": 2
}
