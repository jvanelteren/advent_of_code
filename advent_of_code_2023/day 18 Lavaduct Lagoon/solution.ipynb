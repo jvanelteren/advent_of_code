{
 "cells": [
  {
   "cell_type": "code",
   "execution_count": 9,
   "metadata": {},
   "outputs": [],
   "source": [
    "from collections import defaultdict\n",
    "from aocutils.grid import neighbors\n",
    "S = (1,0); N = (-1,0); E = (0,1); W = (0,-1)\n",
    "def go(loc, direc, steps=1):\n",
    "    if direc in 'RLUD':\n",
    "        direc = {'R':E, 'D':S, 'L':W, 'U':N }[direc]\n",
    "    else:\n",
    "        direc = {'0':E, '1':S, '2':W, '3':N }[direc]\n",
    "    return (loc[0] + steps * direc[0], loc[1] + steps * direc[1])\n"
   ]
  },
  {
   "cell_type": "code",
   "execution_count": 24,
   "metadata": {},
   "outputs": [
    {
     "data": {
      "text/plain": [
       "56923"
      ]
     },
     "execution_count": 24,
     "metadata": {},
     "output_type": "execute_result"
    }
   ],
   "source": [
    "start = (0,0)\n",
    "dug = {(0,0)}\n",
    "notdug = set()\n",
    "f = open(\"in.txt\").read().split(\"\\n\")\n",
    "lines = [(line) for line in f]\n",
    "for line in lines:\n",
    "    direc, steps, color = line.split()\n",
    "    for _ in range(int(steps)):\n",
    "        start = go(start, direc)\n",
    "        dug.add(start)\n",
    "\n",
    "minrows = min(cell[0] for cell in dug) -2 \n",
    "maxrows = max(cell[0] for cell in dug) + 2\n",
    "mincols = min(cell[1] for cell in dug) -2 \n",
    "maxcols = max(cell[1] for cell in dug) + 2\n",
    "\n",
    "\n",
    "walls = set()\n",
    "for r in range(minrows, maxrows + 1):\n",
    "    walls.add((r, mincols))\n",
    "    walls.add((r, maxcols))\n",
    "    \n",
    "for c in range(mincols, maxcols + 1):\n",
    "    walls.add((minrows, c))\n",
    "    walls.add((maxrows, c))\n",
    "    \n",
    "\n",
    "tocheck = [(minrows+1, mincols +1)]\n",
    "while tocheck:\n",
    "    cur = tocheck.pop()\n",
    "    for n in neighbors(cur):\n",
    "        if n not in dug and n not in walls and n not in notdug:\n",
    "            notdug.add(n)\n",
    "            tocheck.append(n)\n",
    "            \n",
    "ans = 0\n",
    "for r in range(minrows, maxrows + 1):\n",
    "    for c in range(mincols, maxcols + 1):\n",
    "        cell = (r,c)\n",
    "        if (r,c) not in walls and (r,c) not in notdug:\n",
    "            ans += 1\n",
    "ans"
   ]
  },
  {
   "cell_type": "code",
   "execution_count": 25,
   "metadata": {},
   "outputs": [
    {
     "data": {
      "text/plain": [
       "56923"
      ]
     },
     "execution_count": 25,
     "metadata": {},
     "output_type": "execute_result"
    }
   ],
   "source": [
    "(maxrows-minrows+1) * (maxcols-mincols+1) - len(walls) - len(notdug)"
   ]
  },
  {
   "cell_type": "code",
   "execution_count": 26,
   "metadata": {},
   "outputs": [
    {
     "data": {
      "text/plain": [
       "66296566363189"
      ]
     },
     "execution_count": 26,
     "metadata": {},
     "output_type": "execute_result"
    }
   ],
   "source": [
    "def det(a,c,b,d):\n",
    "    return a * d - b * c\n",
    "\n",
    "start = (0,0)\n",
    "prev = start\n",
    "ans = 0\n",
    "dis = 0\n",
    "\n",
    "for line in lines:\n",
    "    direc, steps, color = line.split()\n",
    "    direc = color[-2]\n",
    "    steps = int(color[2:-2], 16)\n",
    "    start = go(start, direc, steps)\n",
    "    dis += steps\n",
    "    ans += det(prev[0], prev[1], start[0], start[1])\n",
    "    prev = start\n",
    "ans += det(prev[0], prev[1], 0, 0)\n",
    "-ans//2 + dis //2  + 1"
   ]
  }
 ],
 "metadata": {
  "file_extension": ".py",
  "kernelspec": {
   "display_name": "Python 3.11.0 ('.aocenvpy311': venv)",
   "language": "python",
   "name": "python3"
  },
  "language_info": {
   "codemirror_mode": {
    "name": "ipython",
    "version": 3
   },
   "file_extension": ".py",
   "mimetype": "text/x-python",
   "name": "python",
   "nbconvert_exporter": "python",
   "pygments_lexer": "ipython3",
   "version": "3.12.0"
  },
  "mimetype": "text/x-python",
  "name": "python",
  "npconvert_exporter": "python",
  "orig_nbformat": 2,
  "pygments_lexer": "ipython3",
  "version": 3,
  "vscode": {
   "interpreter": {
    "hash": "7b5336723abeab741c71fcc933eb6e6f53a288e70399d841fc0756db1169ea34"
   }
  }
 },
 "nbformat": 4,
 "nbformat_minor": 2
}
