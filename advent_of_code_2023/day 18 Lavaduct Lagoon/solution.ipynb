{
 "cells": [
  {
   "cell_type": "code",
   "execution_count": 3,
   "metadata": {},
   "outputs": [],
   "source": [
    "from collections import defaultdict\n",
    "from aocutils.grid import neighbors\n",
    "S = (1,0); N = (-1,0); E = (0,1); W = (0,-1)\n",
    "def go(loc, direc, steps=1):\n",
    "    if direc in 'RLUD':\n",
    "        direc = {'R':E, 'D':S, 'L':W, 'U':N }[direc]\n",
    "    else:\n",
    "        direc = {'0':E, '1':S, '2':W, '3':N }[direc]\n",
    "    return (loc[0] + steps * direc[0], loc[1] + steps * direc[1])\n"
   ]
  },
  {
   "cell_type": "code",
   "execution_count": 4,
   "metadata": {},
   "outputs": [
    {
     "data": {
      "text/plain": [
       "56923"
      ]
     },
     "execution_count": 4,
     "metadata": {},
     "output_type": "execute_result"
    }
   ],
   "source": [
    "start = (0,0)\n",
    "dug = {(0,0)}\n",
    "notdug = set()\n",
    "f = open(\"in.txt\").read().split(\"\\n\")\n",
    "lines = [(line) for line in f]\n",
    "for line in lines:\n",
    "    direc, steps, color = line.split()\n",
    "    for _ in range(int(steps)):\n",
    "        start = go(start, direc)\n",
    "        dug.add(start)\n",
    "\n",
    "minrows = min(cell[0] for cell in dug) -2 \n",
    "maxrows = max(cell[0] for cell in dug) + 2\n",
    "mincols = min(cell[1] for cell in dug) -2 \n",
    "maxcols = max(cell[1] for cell in dug) + 2\n",
    "\n",
    "\n",
    "walls = set()\n",
    "for r in range(minrows, maxrows + 1):\n",
    "    walls.add((r, mincols))\n",
    "    walls.add((r, maxcols))\n",
    "    \n",
    "for c in range(mincols, maxcols + 1):\n",
    "    walls.add((minrows, c))\n",
    "    walls.add((maxrows, c))\n",
    "    \n",
    "\n",
    "tocheck = [(minrows+1, mincols +1)]\n",
    "while tocheck:\n",
    "    cur = tocheck.pop()\n",
    "    for n in neighbors(cur):\n",
    "        if n not in dug and n not in walls and n not in notdug:\n",
    "            notdug.add(n)\n",
    "            tocheck.append(n)\n",
    "            \n",
    "ans = 0\n",
    "for r in range(minrows, maxrows + 1):\n",
    "    for c in range(mincols, maxcols + 1):\n",
    "        cell = (r,c)\n",
    "        if (r,c) not in walls and (r,c) not in notdug:\n",
    "            ans += 1\n",
    "ans"
   ]
  },
  {
   "cell_type": "code",
   "execution_count": null,
   "metadata": {},
   "outputs": [],
   "source": []
  },
  {
   "cell_type": "code",
   "execution_count": 5,
   "metadata": {},
   "outputs": [
    {
     "data": {
      "text/plain": [
       "56923"
      ]
     },
     "execution_count": 5,
     "metadata": {},
     "output_type": "execute_result"
    }
   ],
   "source": [
    "# instead of iterating over the cells could also have been computed with:\n",
    "(maxrows-minrows+1) * (maxcols-mincols+1) - len(walls) - len(notdug)"
   ]
  },
  {
   "cell_type": "code",
   "execution_count": 25,
   "metadata": {},
   "outputs": [],
   "source": [
    "\n",
    "\n",
    "start = (0,0)\n",
    "ans = 0\n",
    "green = 0\n",
    "dis = 0\n",
    "corners = [(0,0)]\n",
    "dug = defaultdict(set)\n",
    "for line in lines:\n",
    "    direc, steps, color = line.split()\n",
    "    direc = color[-2]\n",
    "    steps = int(color[2:-2], 16)\n",
    "    for _ in range(int(steps)):\n",
    "        start = go(start, direc)\n",
    "        dug[start[0]].add(start[1])\n",
    "    dis += steps"
   ]
  },
  {
   "cell_type": "code",
   "execution_count": 26,
   "metadata": {},
   "outputs": [],
   "source": [
    "dug[0].add(0)"
   ]
  },
  {
   "cell_type": "code",
   "execution_count": 28,
   "metadata": {},
   "outputs": [
    {
     "ename": "ValueError",
     "evalue": "not enough values to unpack (expected 2, got 1)",
     "output_type": "error",
     "traceback": [
      "\u001b[1;31m---------------------------------------------------------------------------\u001b[0m",
      "\u001b[1;31mValueError\u001b[0m                                Traceback (most recent call last)",
      "Cell \u001b[1;32mIn[28], line 5\u001b[0m\n\u001b[0;32m      3\u001b[0m \u001b[38;5;28;01mfor\u001b[39;00m cells \u001b[38;5;129;01min\u001b[39;00m dug\u001b[38;5;241m.\u001b[39mvalues():\n\u001b[0;32m      4\u001b[0m     cells \u001b[38;5;241m=\u001b[39m \u001b[38;5;28mlist\u001b[39m(\u001b[38;5;28msorted\u001b[39m(cells))\n\u001b[1;32m----> 5\u001b[0m     \u001b[38;5;28;01mfor\u001b[39;00m a,b \u001b[38;5;129;01min\u001b[39;00m batched(cells, \u001b[38;5;241m2\u001b[39m):\n\u001b[0;32m      6\u001b[0m         ans \u001b[38;5;241m+\u001b[39m\u001b[38;5;241m=\u001b[39m b \u001b[38;5;241m-\u001b[39m a \u001b[38;5;241m+\u001b[39m \u001b[38;5;241m1\u001b[39m\n\u001b[0;32m      7\u001b[0m ans \u001b[38;5;241m+\u001b[39m dis\n",
      "\u001b[1;31mValueError\u001b[0m: not enough values to unpack (expected 2, got 1)"
     ]
    }
   ],
   "source": [
    "from itertools import batched\n",
    "ans = 0\n",
    "for cells in dug.values():\n",
    "    cells = list(sorted(cells))\n",
    "    for a,b in batched(cells, 2):\n",
    "        ans += b - a + 1\n",
    "ans + dis\n",
    "    \n",
    "    "
   ]
  },
  {
   "cell_type": "code",
   "execution_count": 22,
   "metadata": {},
   "outputs": [],
   "source": [
    "\n",
    "\n",
    "start = (0,0)\n",
    "ans = 0\n",
    "green = 0\n",
    "dis = 0\n",
    "corners = [(0,0)]\n",
    "for line in lines:\n",
    "    direc, steps, color = line.split()\n",
    "    direc = color[-2]\n",
    "    steps = int(color[2:-2], 16)\n",
    "    start = go(start, direc, steps)\n",
    "    dis += steps\n",
    "    corners.append(start)\n",
    "corners.append((0,0))"
   ]
  },
  {
   "cell_type": "code",
   "execution_count": 23,
   "metadata": {},
   "outputs": [
    {
     "data": {
      "text/plain": [
       "True"
      ]
     },
     "execution_count": 23,
     "metadata": {},
     "output_type": "execute_result"
    }
   ],
   "source": [
    "def det(a,c,b,d):\n",
    "    return a * d - b * c\n",
    "shoelace = -sum(det(*i,*j) for i, j in zip(corners, corners[1:]))//2\n",
    "green = -sum(j[0] * (j[1] - i[1]) for i, j in zip(corners, corners[1:]))\n",
    "shoelace == green"
   ]
  },
  {
   "cell_type": "code",
   "execution_count": 24,
   "metadata": {},
   "outputs": [
    {
     "data": {
      "text/plain": [
       "66296566363189"
      ]
     },
     "execution_count": 24,
     "metadata": {},
     "output_type": "execute_result"
    }
   ],
   "source": [
    "shoelace + dis // 2 + 1"
   ]
  },
  {
   "cell_type": "code",
   "execution_count": null,
   "metadata": {},
   "outputs": [],
   "source": []
  }
 ],
 "metadata": {
  "file_extension": ".py",
  "kernelspec": {
   "display_name": "Python 3.11.0 ('.aocenvpy311': venv)",
   "language": "python",
   "name": "python3"
  },
  "language_info": {
   "codemirror_mode": {
    "name": "ipython",
    "version": 3
   },
   "file_extension": ".py",
   "mimetype": "text/x-python",
   "name": "python",
   "nbconvert_exporter": "python",
   "pygments_lexer": "ipython3",
   "version": "3.12.0"
  },
  "mimetype": "text/x-python",
  "name": "python",
  "npconvert_exporter": "python",
  "orig_nbformat": 2,
  "pygments_lexer": "ipython3",
  "version": 3,
  "vscode": {
   "interpreter": {
    "hash": "7b5336723abeab741c71fcc933eb6e6f53a288e70399d841fc0756db1169ea34"
   }
  }
 },
 "nbformat": 4,
 "nbformat_minor": 2
}
