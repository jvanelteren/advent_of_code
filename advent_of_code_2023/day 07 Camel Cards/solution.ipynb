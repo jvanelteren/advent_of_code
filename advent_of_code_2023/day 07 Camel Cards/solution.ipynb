{
 "cells": [
  {
   "cell_type": "code",
   "execution_count": 11,
   "metadata": {},
   "outputs": [
    {
     "data": {
      "text/plain": [
       "246424613"
      ]
     },
     "execution_count": 11,
     "metadata": {},
     "output_type": "execute_result"
    }
   ],
   "source": [
    "# TFW you implement real poker rules....\n",
    "# forgot to use Counter instead of groupby\n",
    "\n",
    "suits = dict(zip(list('AKQJT987654321'), list(range(1,15))[::-1]))\n",
    "from itertools import groupby\n",
    "from collections import Counter\n",
    "\n",
    "def rank(hand):\n",
    "    groups = []\n",
    "    types = list(Counter(hand).values())\n",
    "    \n",
    "    orig = hand\n",
    "    hand = ''.join(sorted(list(hand)))\n",
    "    for i, g in groupby(hand):\n",
    "        groups.append((len(list(g)), suits[i]))\n",
    "\n",
    "    if 5 in types:\n",
    "        t = 5\n",
    "    elif 4 in types:\n",
    "        t = 4\n",
    "    elif 3 in types and 2 in types:\n",
    "        t = 3\n",
    "    elif 3 in types:\n",
    "        t = 2\n",
    "    elif types.count(2) == 2:\n",
    "        t = 1\n",
    "    elif 2 in types:\n",
    "        t = 0\n",
    "    else:\n",
    "        t = -1\n",
    "    \n",
    "    order = [suits[card] for card in orig]\n",
    "    return [(t,t), order]\n",
    "    # true poker rules:\n",
    "    groups.sort(reverse=True)\n",
    "    return [(t,t)] + groups\n",
    "\n",
    "\n",
    "f = open(\"in.txt\").read().split(\"\\n\")\n",
    "lines = [(line) for line in f]\n",
    "handbid = {}\n",
    "hands = []\n",
    "for line in lines:\n",
    "    hand, bid = line.split()\n",
    "    handbid[hand] = int(bid)\n",
    "    hands.append(hand)\n",
    "hands.sort(key=rank)\n",
    "\n",
    "\n",
    "sum(handbid[h] * (hands.index(h) + 1) for h in hands)"
   ]
  },
  {
   "cell_type": "code",
   "execution_count": 7,
   "metadata": {},
   "outputs": [
    {
     "data": {
      "text/plain": [
       "248256639"
      ]
     },
     "execution_count": 7,
     "metadata": {},
     "output_type": "execute_result"
    }
   ],
   "source": [
    "suits = dict(zip(list('AKQT987654321J'), list(range(1,15))[::-1]))\n",
    "\n",
    "def rank(hand):\n",
    "    jokers = hand.count('J')\n",
    "    if jokers == 5:\n",
    "        return [(5, 5), [1,1,1,1,1]]\n",
    "        # pass\n",
    "    groups = []\n",
    "    types = []\n",
    "    orig = hand\n",
    "    hand = ''.join(sorted(list(hand)))\n",
    "    for i, g in groupby(hand):\n",
    "        if i == 'J':\n",
    "            continue\n",
    "        groups.append([len(list(g)), suits[i]])\n",
    "        types.append(groups[-1][0])\n",
    "    groups.sort(reverse=True)\n",
    "    # print(hand, groups, types)\n",
    "    groups[0][0] += jokers\n",
    "    types.sort(reverse=True)\n",
    "    types[0] += jokers\n",
    "    # print(groups)\n",
    "    if 5 in types:\n",
    "        t = 5\n",
    "    elif 4 in types:\n",
    "        t = 4\n",
    "    elif 3 in types and 2 in types:\n",
    "        t = 3\n",
    "    elif 3 in types:\n",
    "        t = 2\n",
    "    elif types.count(2) == 2:\n",
    "        t = 1\n",
    "    elif 2 in types:\n",
    "        t = 0\n",
    "    else:\n",
    "        t = -1\n",
    "    groups = [(t,t)] + groups\n",
    "    \n",
    "    order = [suits[card] for card in orig]\n",
    "    return [(t,t), order]\n",
    "    return groups\n",
    "\n",
    "\n",
    "f = open(\"in.txt\").read().split(\"\\n\")\n",
    "lines = [(line) for line in f]\n",
    "handbid = {}\n",
    "hands = []\n",
    "for line in lines:\n",
    "    hand, bid = line.split()\n",
    "    handbid[hand] = int(bid)\n",
    "    hands.append(hand)\n",
    "hands.sort(key=rank)\n",
    "sum(handbid[h] * (hands.index(h) + 1) for h in hands)\n",
    "\n"
   ]
  }
 ],
 "metadata": {
  "file_extension": ".py",
  "kernelspec": {
   "display_name": "Python 3.11.0 ('.aocenvpy311': venv)",
   "language": "python",
   "name": "python3"
  },
  "language_info": {
   "codemirror_mode": {
    "name": "ipython",
    "version": 3
   },
   "file_extension": ".py",
   "mimetype": "text/x-python",
   "name": "python",
   "nbconvert_exporter": "python",
   "pygments_lexer": "ipython3",
   "version": "3.12.0"
  },
  "mimetype": "text/x-python",
  "name": "python",
  "npconvert_exporter": "python",
  "orig_nbformat": 2,
  "pygments_lexer": "ipython3",
  "version": 3,
  "vscode": {
   "interpreter": {
    "hash": "7b5336723abeab741c71fcc933eb6e6f53a288e70399d841fc0756db1169ea34"
   }
  }
 },
 "nbformat": 4,
 "nbformat_minor": 2
}
