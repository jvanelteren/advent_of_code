{
 "nbformat": 4,
 "nbformat_minor": 2,
 "metadata": {
  "language_info": {
   "name": "python",
   "codemirror_mode": {
    "name": "ipython",
    "version": 3
   },
   "version": "3.7.3"
  },
  "orig_nbformat": 2,
  "file_extension": ".py",
  "mimetype": "text/x-python",
  "name": "python",
  "npconvert_exporter": "python",
  "pygments_lexer": "ipython3",
  "version": 3
 },
 "cells": [
  {
   "cell_type": "code",
   "execution_count": 56,
   "metadata": {},
   "outputs": [
    {
     "data": {
      "text/plain": "245089"
     },
     "execution_count": 56,
     "metadata": {},
     "output_type": "execute_result"
    }
   ],
   "source": [
    "def get_orbit_map():\n",
    "    f=open('input.txt') #not with read because thats probably the whole file\n",
    "    lines = [line.rstrip('\\n').split(')') for line in f]\n",
    "    return {l[1]:l[0] for l in lines}\n",
    "\n",
    "o = get_orbit_map()\n",
    "search = {'COM'}\n",
    "dis = 1 # distance to COM\n",
    "totaldis = 0 # total distance of processed planets to COM\n",
    "while len(o)>0:\n",
    "    new = {i[0]:i[1] for i in o.items() if i[1] not in search} # make new orbitlist\n",
    "    search = o.keys() - new.keys() # the new planets to search for\n",
    "    totaldis += dis * (len(o)-len(new)) # add just removed planets to distance\n",
    "    o = new.copy()\n",
    "    dis +=1\n",
    "totaldis"
   ]
  },
  {
   "cell_type": "code",
   "execution_count": 57,
   "metadata": {},
   "outputs": [
    {
     "data": {
      "text/plain": "511"
     },
     "execution_count": 57,
     "metadata": {},
     "output_type": "execute_result"
    }
   ],
   "source": [
    "# part 2\n",
    "o = get_orbit_map()\n",
    "def get_path(poi):\n",
    "    path = []\n",
    "    while poi != 'COM':\n",
    "        path.append(o[poi])\n",
    "        poi = o[poi]\n",
    "    return set(path)\n",
    "you = get_path('YOU')\n",
    "santa = get_path('SAN')\n",
    "len(you ^ santa) #this works because santa and you should not be counted (-2), but two steps where the paths intersect are not in here (+2)"
   ]
  },
  {
   "cell_type": "code",
   "execution_count": 58,
   "metadata": {},
   "outputs": [
    {
     "data": {
      "text/plain": "511"
     },
     "execution_count": 58,
     "metadata": {},
     "output_type": "execute_result"
    }
   ],
   "source": [
    "# part 2 with networkx\n",
    "import networkx as nx\n",
    "o = get_orbit_map()\n",
    "G=nx.Graph()\n",
    "G.add_edges_from(o.items())\n",
    "len(nx.shortest_path(G, source='YOU', target='SAN'))-3 \n",
    "#-3 because santa and you should not be counted (-2) and arrival and destination are both in here (-1)"
   ]
  }
 ]
}