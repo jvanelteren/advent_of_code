{
 "nbformat": 4,
 "nbformat_minor": 2,
 "metadata": {
  "language_info": {
   "name": "python",
   "codemirror_mode": {
    "name": "ipython",
    "version": 3
   },
   "version": "3.7.3"
  },
  "orig_nbformat": 2,
  "file_extension": ".py",
  "mimetype": "text/x-python",
  "name": "python",
  "npconvert_exporter": "python",
  "pygments_lexer": "ipython3",
  "version": 3
 },
 "cells": [
  {
   "cell_type": "code",
   "execution_count": 1,
   "metadata": {},
   "outputs": [],
   "source": [
    "import numpy as np\n",
    "import networkx as nx\n",
    "np.set_printoptions(threshold=100)\n",
    "\n",
    "f=open('inputdef.txt') #not with read because thats probably the whole file\n",
    "lines = [list(line.rstrip('\\n')) for line in f]\n",
    "grid = np.array(lines)"
   ]
  },
  {
   "cell_type": "code",
   "execution_count": 2,
   "metadata": {},
   "outputs": [],
   "source": [
    "# this day I solved by hand basically\n",
    "class Pos():\n",
    "    def __init__(self,input):\n",
    "        self.x,self.y = input[0],input[1]\n",
    "        self.loc = input\n",
    "        self.n = getneigh((self.x,self.y))\n",
    "        self.value = grid[input]\n",
    "        self.door,self.key = False,False\n",
    "        if self.value.isupper(): self.door = True\n",
    "        elif self.value.islower(): self.key = True\n",
    "    def enter(self,keys):\n",
    "        if self.door:\n",
    "            values = [(locations[k].value).upper() for k in keys]\n",
    "            if self.value in values: return self.loc\n",
    "            else: return False\n",
    "        else: return self.loc\n",
    "    def __repr__(self):\n",
    "        return f'({self.x},{self.y}) {self.value} is door {self.door} is key {self.key}'"
   ]
  },
  {
   "cell_type": "code",
   "execution_count": 31,
   "metadata": {},
   "outputs": [],
   "source": [
    "locations = {tuple(i)  for i in np.argwhere(grid!='#')}\n",
    "\n",
    "def getlocations():\n",
    "    return {tuple(i):Pos(tuple(i)) for i in np.argwhere(grid!='#')}\n",
    "def getneigh(i):\n",
    "  res = []\n",
    "  if (i[0],i[1]+1) in locations: res.append((i[0],i[1]+1))\n",
    "  if (i[0],i[1]-1) in locations: res.append((i[0],i[1]-1))\n",
    "  if (i[0]+1,i[1]) in locations: res.append((i[0]+1,i[1]))\n",
    "  if (i[0]-1,i[1]) in locations: res.append((i[0]-1,i[1]))\n",
    "  return res\n",
    "locations = getlocations()\n",
    "doors = [i.loc for i in locations.values() if i.door]\n",
    "keys = [i.loc for i in locations.values() if i.key]\n",
    "\n",
    "neigh = {tuple(i):getneigh(tuple(i)) for i in np.argwhere(grid!='#')}"
   ]
  },
  {
   "cell_type": "code",
   "execution_count": 356,
   "metadata": {},
   "outputs": [
    {
     "name": "stdout",
     "output_type": "stream",
     "text": "0\n"
    }
   ],
   "source": [
    "counter = 0\n",
    "for _ in range(200):\n",
    "    for k,v in locations.items():\n",
    "        if len(v.n)==1 and not v.key:\n",
    "            grid[k]='#'\n",
    "            counter +=1\n",
    "    locations = getlocations()\n",
    "print(counter)"
   ]
  },
  {
   "cell_type": "code",
   "execution_count": 8,
   "metadata": {},
   "outputs": [],
   "source": [
    "for k,v in locations.items():\n",
    "    # print(len(v.n),v.key)\n",
    "    if len(v.n)==1 and v.key:\n",
    "        print(v)"
   ]
  },
  {
   "cell_type": "code",
   "execution_count": null,
   "metadata": {},
   "outputs": [],
   "source": []
  },
  {
   "cell_type": "code",
   "execution_count": 358,
   "metadata": {},
   "outputs": [],
   "source": [
    "with open('inputdef.txt', 'a') as the_file:\n",
    "    for i in range(grid.shape[0]):\n",
    "        for j in range(grid.shape[1]):\n",
    "            the_file.write(str(grid[i,j]))\n",
    "        the_file.write('\\n')\n",
    "\n"
   ]
  },
  {
   "cell_type": "code",
   "execution_count": 9,
   "metadata": {},
   "outputs": [
    {
     "data": {
      "text/plain": "1755"
     },
     "execution_count": 9,
     "metadata": {},
     "output_type": "execute_result"
    }
   ],
   "source": [
    "len(locations)"
   ]
  },
  {
   "cell_type": "code",
   "execution_count": 12,
   "metadata": {},
   "outputs": [],
   "source": [
    "\n",
    "def get_potentials(keyset,current_loc): #return keys that are reachable, given a keyset and current_loc\n",
    "    # print('getpotentials',keyset,current_loc)\n",
    "    access = [v.enter(keyset) for v in locations.values() if v.enter(keyset) ]\n",
    "    noaccess = [v.loc for v in locations.values() if not v.enter(keyset) ]\n",
    "\n",
    "    g = nx.Graph()\n",
    "    g.add_nodes_from(access)\n",
    "    for a in locations: # for each location (without the doors)\n",
    "        for n in locations[a].n: #for each neighbor\n",
    "            g.add_edge(a,n)\n",
    "    g.remove_nodes_from(noaccess)\n",
    "    reachable =  nx.algorithms.descendants(g, current_loc)\n",
    "    reachable_keys = {k for k in keys if k in reachable}\n",
    "    relevant_keys  = reachable_keys-set(keyset)\n",
    "    #potentially look if shortest path includes a key from relevant keys, since then it can be added?\n",
    "    return {k: nx.shortest_path_length(g,current_loc,k) for k in relevant_keys}\n",
    "    "
   ]
  },
  {
   "cell_type": "code",
   "execution_count": 16,
   "metadata": {},
   "outputs": [],
   "source": [
    "paths = []\n",
    "distances = []\n",
    "from copy import deepcopy\n",
    "def step(keyset,loc,length):\n",
    "    res = get_potentials(keyset,loc)\n",
    "    # print('possible keys for',keyset,loc,res)\n",
    "    # print(len(res))\n",
    "    if not res: \n",
    "        paths.append(keyset)\n",
    "        distances.append(length)\n",
    "    else:\n",
    "        if len(res)==1:\n",
    "            i = next(iter(res))\n",
    "            return step(deepcopy(keyset)+[i],i,deepcopy(length)+[res[i]])\n",
    "        else:\n",
    "            return [step(deepcopy(keyset)+[k],k,deepcopy(length)+[v]) for k,v in res.items()]\n",
    "current_loc = tuple(np.argwhere(grid=='@')[0])\n",
    "test = step([],current_loc,[])"
   ]
  },
  {
   "cell_type": "code",
   "execution_count": 37,
   "metadata": {},
   "outputs": [
    {
     "name": "stdout",
     "output_type": "stream",
     "text": "26\n27\n"
    }
   ],
   "source": [
    "sol = 'ogbuvrmtincyafzplkhexsdwqj'\n",
    "changedkeys = {locations[k].value:k for k in keys}\n",
    "solcoor = [changedkeys[c] for c in sol]\n",
    "print(len(solcoor))\n",
    "solcoor = [current_loc]+solcoor\n",
    "print(len(solcoor))\n"
   ]
  },
  {
   "cell_type": "code",
   "execution_count": 48,
   "metadata": {},
   "outputs": [
    {
     "data": {
      "text/plain": "322"
     },
     "execution_count": 48,
     "metadata": {},
     "output_type": "execute_result"
    }
   ],
   "source": [
    "\n",
    "g = nx.Graph()\n",
    "g.add_nodes_from(locations)\n",
    "for a in locations: # for each location (without the doors)\n",
    "    for n in locations[a].n: #for each neighbor\n",
    "        g.add_edge(a,n)\n",
    "sum([nx.shortest_path_length(g,x,y) for x,y in zip(solcoor,solcoor[1:])])"
   ]
  },
  {
   "cell_type": "code",
   "execution_count": 49,
   "metadata": {},
   "outputs": [
    {
     "data": {
      "text/plain": "2014"
     },
     "execution_count": 49,
     "metadata": {},
     "output_type": "execute_result"
    }
   ],
   "source": [
    "508+582+602+322"
   ]
  },
  {
   "cell_type": "code",
   "execution_count": 47,
   "metadata": {},
   "outputs": [
    {
     "name": "stdout",
     "output_type": "stream",
     "text": "4\n5\n"
    }
   ],
   "source": [
    "current_loc = (41,41)\n",
    "sol = 'fzpl'\n",
    "changedkeys = {locations[k].value:k for k in keys}\n",
    "solcoor = [changedkeys[c] for c in sol]\n",
    "print(len(solcoor))\n",
    "solcoor = [current_loc]+solcoor\n",
    "print(len(solcoor))\n"
   ]
  },
  {
   "cell_type": "code",
   "execution_count": null,
   "metadata": {},
   "outputs": [],
   "source": [
    "current_loc = (39,39)\n",
    "sol = 'ogj'\n",
    "current_loc = (39,41)\n",
    "sol = 'mtinhexsdwq'\n",
    "current_loc = (41,39)\n",
    "sol = 'buvrcya'"
   ]
  }
 ]
}