{
 "nbformat": 4,
 "nbformat_minor": 2,
 "metadata": {
  "language_info": {
   "name": "python",
   "codemirror_mode": {
    "name": "ipython",
    "version": 3
   },
   "version": "3.7.3"
  },
  "orig_nbformat": 2,
  "file_extension": ".py",
  "mimetype": "text/x-python",
  "name": "python",
  "npconvert_exporter": "python",
  "pygments_lexer": "ipython3",
  "version": 3
 },
 "cells": [
  {
   "cell_type": "code",
   "execution_count": 1,
   "metadata": {},
   "outputs": [
    {
     "data": {
      "text/plain": "array(['#', '.', '#', '.', '#', '#', '.', '.', '#', '.', '#', '#', '#',\n       '.', '.', '.', '#', '#', '.', '#'], dtype='<U1')"
     },
     "execution_count": 1,
     "metadata": {},
     "output_type": "execute_result"
    }
   ],
   "source": [
    "import math\n",
    "import numpy as np\n",
    "from copy import deepcopy\n",
    "\n",
    "f=open('input.txt') #not with read because thats probably the whole file\n",
    "lines = np.array([list(line.rstrip('\\n')) for line in f])\n",
    "lines[0][:20]"
   ]
  },
  {
   "cell_type": "code",
   "execution_count": 2,
   "metadata": {},
   "outputs": [
    {
     "name": "stdout",
     "output_type": "stream",
     "text": "most stations seen from coordinate [28 22] amount of stations: 327\n"
    }
   ],
   "source": [
    "def angle(i,j): # returns the angle in degrees, 0 being up, clockwise\n",
    "    dx = i[0]-j[0]\n",
    "    dy = i[1]-j[1]\n",
    "    if dx != 0 or dy !=0:\n",
    "        res = math.degrees(math.atan2(dx,dy))-90 # rotate a bit due the transposed nature of the notation\n",
    "        if res <0: res+=360\n",
    "        return res\n",
    "\n",
    "def manhattan(i,j):\n",
    "    dx = i[0]-j[0]\n",
    "    dy = i[1]-j[1]\n",
    "    return (abs(dx)+abs(dy))\n",
    "\n",
    "res = []\n",
    "for i in np.argwhere(lines == '#'):\n",
    "    res.append((len({angle(i,j) for j in np.argwhere(lines == '#') if (i is not j)}),i))\n",
    "most = (max([r[0] for r in res]))\n",
    "for r in res:\n",
    "    if r[0]==most: \n",
    "        base = tuple(r[1])\n",
    "        print(f'most stations seen from coordinate {r[1]} amount of stations: {r[0]}')"
   ]
  },
  {
   "cell_type": "code",
   "execution_count": 10,
   "metadata": {},
   "outputs": [],
   "source": [
    "# now we sort, first on angle and then on distance\n",
    "angles  = [(tuple(j),angle(base,j),manhattan(base,j))  for j in np.argwhere(lines == '#') if any(base!=j)]\n",
    "angles.sort(key=lambda x:(x[1],x[2]))"
   ]
  },
  {
   "cell_type": "code",
   "execution_count": 11,
   "metadata": {},
   "outputs": [
    {
     "name": "stdout",
     "output_type": "stream",
     "text": "result found((23, 16), 309.8055710922652, 11), solution 1623\n"
    }
   ],
   "source": [
    "def fire_giant_laser(angles):\n",
    "    lastangle = 1000\n",
    "    counter = 0\n",
    "    while angles:\n",
    "        for i,m in enumerate((angles[:])):\n",
    "            if m[1]!=lastangle:\n",
    "                lastangle = m[1]\n",
    "                counter +=1\n",
    "                if counter == 200: \n",
    "                    print(f'result found{m}, solution {m[0][1]*100+m[0][0]}')\n",
    "                    return\n",
    "                angles.remove(m)\n",
    "    return counter\n",
    "fire_giant_laser(deepcopy(angles))"
   ]
  },
  {
   "cell_type": "code",
   "execution_count": 12,
   "metadata": {},
   "outputs": [
    {
     "data": {
      "text/plain": "(0.0, 90.0, 180.0, 270.0)"
     },
     "execution_count": 12,
     "metadata": {},
     "output_type": "execute_result"
    }
   ],
   "source": [
    "# this was some code I used to make sure the correction I applied in angle resuted in up being 0\n",
    "orig = (4,4)\n",
    "to = (3,4)\n",
    "up = angle(orig,to)\n",
    "to = (5,4)\n",
    "down = angle(orig,to)\n",
    "to = (4,5)\n",
    "right = angle(orig,to)\n",
    "to = (4,3)\n",
    "left = angle(orig,to)\n",
    "up,right,down,left #should be from 0 to 360 to make sorting possible"
   ]
  },
  {
   "cell_type": "code",
   "execution_count": null,
   "metadata": {},
   "outputs": [],
   "source": []
  }
 ]
}