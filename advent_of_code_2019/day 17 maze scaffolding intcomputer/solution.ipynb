{
 "nbformat": 4,
 "nbformat_minor": 2,
 "metadata": {
  "language_info": {
   "name": "python",
   "codemirror_mode": {
    "name": "ipython",
    "version": 3
   },
   "version": "3.7.3"
  },
  "orig_nbformat": 2,
  "file_extension": ".py",
  "mimetype": "text/x-python",
  "name": "python",
  "npconvert_exporter": "python",
  "pygments_lexer": "ipython3",
  "version": 3
 },
 "cells": [
  {
   "cell_type": "code",
   "execution_count": 1,
   "metadata": {},
   "outputs": [],
   "source": [
    "import numpy as np\n",
    "import matplotlib.pyplot as plt\n",
    "from computerrefractored import Computer\n",
    "import re\n",
    "%load_ext autoreload\n",
    "%autoreload 2\n"
   ]
  },
  {
   "cell_type": "code",
   "execution_count": 6,
   "metadata": {},
   "outputs": [],
   "source": [
    "noun, verb = 0,0\n",
    "f=open('input.txt').read()\n",
    "memory = tuple(int(i) for i in f.split(',')) # let's make it immutable as a tuple\n",
    "memsize = 100000\n",
    "memory = tuple(list(memory)+[0]*memsize)\n",
    "c = Computer(list(memory),noun,verb,[1])\n",
    "c.code[0]=2\n",
    "def getview(c):\n",
    "    lines = []\n",
    "    line = []\n",
    "    while c.running:\n",
    "        char = c.run()\n",
    "        if char == 10: \n",
    "            if len(line)==0:\n",
    "              break\n",
    "            lines.append(line)\n",
    "            line = []\n",
    "        else:\n",
    "            if char =='ending execution': pass \n",
    "            else: line.append(int(char))  \n",
    "    view = np.array(lines)\n",
    "    return view"
   ]
  },
  {
   "cell_type": "code",
   "execution_count": 3,
   "metadata": {},
   "outputs": [
    {
     "name": "stdout",
     "output_type": "stream",
     "text": "read memory\n"
    }
   ],
   "source": [
    "def sendfunction(function):\n",
    "    res =[]\n",
    "    for i in range(len(function)):\n",
    "        f = ord(function[i])\n",
    "        res.append(f)\n",
    "        if i != len(function)-1:res.append(ord(','))\n",
    "    res.append(10)\n",
    "    return res\n",
    "\n",
    "a = 'AABCBCBCBA'\n",
    "b = 'R55L66R6'\n",
    "co = 'R6R55R66R6'\n",
    "d = 'R55L66L66'\n",
    "e = 'n'\n",
    "ins = [a,b,co,d,e]\n",
    "tosend = [sendfunction(i) for i in ins]\n",
    "tosend = [i for l in tosend for i in l]\n",
    "c.receiveinput(tosend)\n",
    "while True:\n",
    "    c.run()\n",
    "    if len(c.input)==0: \n",
    "        print('read memory')\n",
    "        break"
   ]
  },
  {
   "cell_type": "code",
   "execution_count": 4,
   "metadata": {},
   "outputs": [
    {
     "name": "stdout",
     "output_type": "stream",
     "text": "952010\nopcode 99 computer finished\n"
    }
   ],
   "source": [
    "while c.running:\n",
    "    res = c.run()\n",
    "    if res != 'ending execution' and res >100: print(res)"
   ]
  },
  {
   "cell_type": "code",
   "execution_count": 7,
   "metadata": {},
   "outputs": [
    {
     "data": {
      "text/plain": "<matplotlib.image.AxesImage at 0x2776ead9198>"
     },
     "execution_count": 7,
     "metadata": {},
     "output_type": "execute_result"
    },
    {
     "data": {
      "image/png": "[encoded data removed]",
      "image/svg+xml": "<?xml version=\"1.0\" encoding=\"utf-8\" standalone=\"no\"?>\r\n<!DOCTYPE svg PUBLIC \"-//W3C//DTD SVG 1.1//EN\"\r\n  \"http://www.w3.org/Graphics/SVG/1.1/DTD/svg11.dtd\">\r\n<!-- Created with matplotlib (https://matplotlib.org/) -->\r\n<svg height=\"248.230285pt\" version=\"1.1\" viewBox=\"0 0 372.005147 248.230285\" width=\"372.005147pt\" xmlns=\"http://www.w3.org/2000/svg\" xmlns:xlink=\"http://www.w3.org/1999/xlink\">\r\n <defs>\r\n  <style type=\"text/css\">\r\n*{stroke-linecap:butt;stroke-linejoin:round;}\r\n  </style>\r\n </defs>\r\n <g id=\"figure_1\">\r\n  <g id=\"patch_1\">\r\n   <path d=\"M -0 248.230285 \r\nL 372.005147 248.230285 \r\nL 372.005147 0 \r\nL -0 0 \r\nz\r\n\" style=\"fill:none;\"/>\r\n  </g>\r\n  <g id=\"axes_1\">\r\n   <g id=\"patch_2\">\r\n    <path d=\"M 26.925 224.35216 \r\nL 361.725 224.35216 \r\nL 361.725 7.716866 \r\nL 26.925 7.716866 \r\nz\r\n\" style=\"fill:#ffffff;\"/>\r\n   </g>\r\n   <g clip-path=\"url(#p5ee239489b)\">\r\n    <image height=\"217\" id=\"image75727975d6\" transform=\"scale(1 -1)translate(0 -217)\" width=\"335\" x=\"26.925\" xlink:href=\"data:image/png;base64,\r\niVBORw0KGgoAAAANSUhEUgAAAU8AAADZCAYAAACghbIYAAAABHNCSVQICAgIfAhkiAAABGVJREFUeJzt3cGNFUcUQNEPmigcBQ4AFpYsQmDtYBwHa2Lw0gGQke0NS35j7vTvfvX7nO0sqBGjqyfVU/Wb3z78+e8NFvD2769nH2G0f97/evYRLuXt2QcAWJF4AgTiCRCIJ0AgngCBeAIEL2cfAF7rSis61rXmMHkCBOIJEIgnQCCeAIF4AgRu22EHE27BJ5xhb5M3KUyeAIF4AgTiCRCIJ0AgngCBeAIEVpXgwfZct9laR5q81rNl1RUrkydAIJ4AgXgCBOIJEIgnQOC2HS5g2Rvtwec2eQIE4gkQiCdAIJ4AgXgCBOIJEFhVggub8JjI5MdOts5m8gQIxBMgEE+AQDwBAvEECNy2c4o9H3yY/HjE7Tb/fDQmT4BAPAEC8QQIxBMgEE+AQDwBAqtKjLL1EMS9lZ+zH4+43WY/bsFjmDwBAvEECMQTIBBPgEA8AQLxBAjEEyAQT4BAPAEC8QQIxBMgEE+AQDwBAvEECMQTIBBPgEA8AQLxBAjEEyDwDSO4sK1vL01w1PnKd6ZMngCBeAIE4gkQiCdAIJ4Agdt2uIBym3yUrRv1Pc+99829yRMgEE+AQDwBAvEECMQTIBBPgMCqEsub/rgFz8nkCRCIJ0AgngCBeAIE4gkQuG1nGZMft+B6TJ4AgXgCBOIJEIgnQCCeAIF4AgRWlXiV3b8Lc9AjH9ae1nDU30P5d0yeAIF4AgTiCRCIJ0AgngCBeAIEVpV4mK11oHurIXuvEPm+0XxHrY1t/S2UM5g8AQLxBAjEEyAQT4BAPAECt+3Ad626qXDY7f0h/wrAkxFPgEA8AQLxBAjEEyAQT4DAqhLwUyZ8/2nCGpXJEyAQT4BAPAEC8QQIxBMgePnry+e7P/z4y7sDjzLThJvFKznqFnXCbe0Wf3fzmTwBAvEECMQTIBBPgEA8AQLxBAhefv/0x/2fvj/uIGebvrrybA77zsyd/9cJq0D+5tZm8gQIxBMgEE+AQDwBAvEECMQTIPANowWsutKy6rnh/zB5AgTiCRCIJ0AgngCBeAIEbtsXd/YDF1s36mefDR7J5AkQiCdAIJ4AgXgCBOIJEIgnQGBVCRYy4bGVCWfYctT5TJ4AgXgCBOIJEIgnQCCeAIHbdngSez/Ecu/WesKDLxMepDF5AgTiCRCIJ0AgngCBeAIE4gkQWFXiYaY/IAGvYfIECMQTIBBPgEA8AQLxBAjctvMqEx6JgDOYPAEC8QQIxBMgEE+AQDwBAvEECKwq8dSu9DjJlX7XCUyeAIF4AgTiCRCIJ0AgngCBeAIEVpW4pFVfg9paR1r1d1qVyRMgEE+AQDwBAvEECMQTIHDbDk/CwyDHMnkCBOIJEIgnQCCeAIF4AgTiCRBYVYKFePxjDpMnQCCeAIF4AgTiCRCIJ0Dgtv0HPLYAfI/JEyAQT4BAPAEC8QQIxBMgEE+AwKrSNx5cAH6GyRMgEE+AQDwBAvEECMQTIBBPgEA8AQLxBAjEEyAQT4BAPAEC8QQI/gO/F4VCYSAtZQAAAABJRU5ErkJggg==\" y=\"-7.35216\"/>\r\n   </g>\r\n   <g id=\"matplotlib.axis_1\">\r\n    <g id=\"xtick_1\">\r\n     <g id=\"line2d_1\">\r\n      <defs>\r\n       <path d=\"M 0 0 \r\nL 0 3.5 \r\n\" id=\"mff12f50554\" style=\"stroke:#000000;stroke-width:0.8;\"/>\r\n      </defs>\r\n      <g>\r\n       <use style=\"stroke:#000000;stroke-width:0.8;\" x=\"30.207353\" xlink:href=\"#mff12f50554\" y=\"224.35216\"/>\r\n      </g>\r\n     </g>\r\n     <g id=\"text_1\">\r\n      <!-- 0 -->\r\n      <defs>\r\n       <path d=\"M 31.78125 66.40625 \r\nQ 24.171875 66.40625 20.328125 58.90625 \r\nQ 16.5 51.421875 16.5 36.375 \r\nQ 16.5 21.390625 20.328125 13.890625 \r\nQ 24.171875 6.390625 31.78125 6.390625 \r\nQ 39.453125 6.390625 43.28125 13.890625 \r\nQ 47.125 21.390625 47.125 36.375 \r\nQ 47.125 51.421875 43.28125 58.90625 \r\nQ 39.453125 66.40625 31.78125 66.40625 \r\nz\r\nM 31.78125 74.21875 \r\nQ 44.046875 74.21875 50.515625 64.515625 \r\nQ 56.984375 54.828125 56.984375 36.375 \r\nQ 56.984375 17.96875 50.515625 8.265625 \r\nQ 44.046875 -1.421875 31.78125 -1.421875 \r\nQ 19.53125 -1.421875 13.0625 8.265625 \r\nQ 6.59375 17.96875 6.59375 36.375 \r\nQ 6.59375 54.828125 13.0625 64.515625 \r\nQ 19.53125 74.21875 31.78125 74.21875 \r\nz\r\n\" id=\"DejaVuSans-48\"/>\r\n      </defs>\r\n      <g transform=\"translate(27.026103 238.950597)scale(0.1 -0.1)\">\r\n       <use xlink:href=\"#DejaVuSans-48\"/>\r\n      </g>\r\n     </g>\r\n    </g>\r\n    <g id=\"xtick_2\">\r\n     <g id=\"line2d_2\">\r\n      <g>\r\n       <use style=\"stroke:#000000;stroke-width:0.8;\" x=\"95.854412\" xlink:href=\"#mff12f50554\" y=\"224.35216\"/>\r\n      </g>\r\n     </g>\r\n     <g id=\"text_2\">\r\n      <!-- 10 -->\r\n      <defs>\r\n       <path d=\"M 12.40625 8.296875 \r\nL 28.515625 8.296875 \r\nL 28.515625 63.921875 \r\nL 10.984375 60.40625 \r\nL 10.984375 69.390625 \r\nL 28.421875 72.90625 \r\nL 38.28125 72.90625 \r\nL 38.28125 8.296875 \r\nL 54.390625 8.296875 \r\nL 54.390625 0 \r\nL 12.40625 0 \r\nz\r\n\" id=\"DejaVuSans-49\"/>\r\n      </defs>\r\n      <g transform=\"translate(89.491912 238.950597)scale(0.1 -0.1)\">\r\n       <use xlink:href=\"#DejaVuSans-49\"/>\r\n       <use x=\"63.623047\" xlink:href=\"#DejaVuSans-48\"/>\r\n      </g>\r\n     </g>\r\n    </g>\r\n    <g id=\"xtick_3\">\r\n     <g id=\"line2d_3\">\r\n      <g>\r\n       <use style=\"stroke:#000000;stroke-width:0.8;\" x=\"161.501471\" xlink:href=\"#mff12f50554\" y=\"224.35216\"/>\r\n      </g>\r\n     </g>\r\n     <g id=\"text_3\">\r\n      <!-- 20 -->\r\n      <defs>\r\n       <path d=\"M 19.1875 8.296875 \r\nL 53.609375 8.296875 \r\nL 53.609375 0 \r\nL 7.328125 0 \r\nL 7.328125 8.296875 \r\nQ 12.9375 14.109375 22.625 23.890625 \r\nQ 32.328125 33.6875 34.8125 36.53125 \r\nQ 39.546875 41.84375 41.421875 45.53125 \r\nQ 43.3125 49.21875 43.3125 52.78125 \r\nQ 43.3125 58.59375 39.234375 62.25 \r\nQ 35.15625 65.921875 28.609375 65.921875 \r\nQ 23.96875 65.921875 18.8125 64.3125 \r\nQ 13.671875 62.703125 7.8125 59.421875 \r\nL 7.8125 69.390625 \r\nQ 13.765625 71.78125 18.9375 73 \r\nQ 24.125 74.21875 28.421875 74.21875 \r\nQ 39.75 74.21875 46.484375 68.546875 \r\nQ 53.21875 62.890625 53.21875 53.421875 \r\nQ 53.21875 48.921875 51.53125 44.890625 \r\nQ 49.859375 40.875 45.40625 35.40625 \r\nQ 44.1875 33.984375 37.640625 27.21875 \r\nQ 31.109375 20.453125 19.1875 8.296875 \r\nz\r\n\" id=\"DejaVuSans-50\"/>\r\n      </defs>\r\n      <g transform=\"translate(155.138971 238.950597)scale(0.1 -0.1)\">\r\n       <use xlink:href=\"#DejaVuSans-50\"/>\r\n       <use x=\"63.623047\" xlink:href=\"#DejaVuSans-48\"/>\r\n      </g>\r\n     </g>\r\n    </g>\r\n    <g id=\"xtick_4\">\r\n     <g id=\"line2d_4\">\r\n      <g>\r\n       <use style=\"stroke:#000000;stroke-width:0.8;\" x=\"227.148529\" xlink:href=\"#mff12f50554\" y=\"224.35216\"/>\r\n      </g>\r\n     </g>\r\n     <g id=\"text_4\">\r\n      <!-- 30 -->\r\n      <defs>\r\n       <path d=\"M 40.578125 39.3125 \r\nQ 47.65625 37.796875 51.625 33 \r\nQ 55.609375 28.21875 55.609375 21.1875 \r\nQ 55.609375 10.40625 48.1875 4.484375 \r\nQ 40.765625 -1.421875 27.09375 -1.421875 \r\nQ 22.515625 -1.421875 17.65625 -0.515625 \r\nQ 12.796875 0.390625 7.625 2.203125 \r\nL 7.625 11.71875 \r\nQ 11.71875 9.328125 16.59375 8.109375 \r\nQ 21.484375 6.890625 26.8125 6.890625 \r\nQ 36.078125 6.890625 40.9375 10.546875 \r\nQ 45.796875 14.203125 45.796875 21.1875 \r\nQ 45.796875 27.640625 41.28125 31.265625 \r\nQ 36.765625 34.90625 28.71875 34.90625 \r\nL 20.21875 34.90625 \r\nL 20.21875 43.015625 \r\nL 29.109375 43.015625 \r\nQ 36.375 43.015625 40.234375 45.921875 \r\nQ 44.09375 48.828125 44.09375 54.296875 \r\nQ 44.09375 59.90625 40.109375 62.90625 \r\nQ 36.140625 65.921875 28.71875 65.921875 \r\nQ 24.65625 65.921875 20.015625 65.03125 \r\nQ 15.375 64.15625 9.8125 62.3125 \r\nL 9.8125 71.09375 \r\nQ 15.4375 72.65625 20.34375 73.4375 \r\nQ 25.25 74.21875 29.59375 74.21875 \r\nQ 40.828125 74.21875 47.359375 69.109375 \r\nQ 53.90625 64.015625 53.90625 55.328125 \r\nQ 53.90625 49.265625 50.4375 45.09375 \r\nQ 46.96875 40.921875 40.578125 39.3125 \r\nz\r\n\" id=\"DejaVuSans-51\"/>\r\n      </defs>\r\n      <g transform=\"translate(220.786029 238.950597)scale(0.1 -0.1)\">\r\n       <use xlink:href=\"#DejaVuSans-51\"/>\r\n       <use x=\"63.623047\" xlink:href=\"#DejaVuSans-48\"/>\r\n      </g>\r\n     </g>\r\n    </g>\r\n    <g id=\"xtick_5\">\r\n     <g id=\"line2d_5\">\r\n      <g>\r\n       <use style=\"stroke:#000000;stroke-width:0.8;\" x=\"292.795588\" xlink:href=\"#mff12f50554\" y=\"224.35216\"/>\r\n      </g>\r\n     </g>\r\n     <g id=\"text_5\">\r\n      <!-- 40 -->\r\n      <defs>\r\n       <path d=\"M 37.796875 64.3125 \r\nL 12.890625 25.390625 \r\nL 37.796875 25.390625 \r\nz\r\nM 35.203125 72.90625 \r\nL 47.609375 72.90625 \r\nL 47.609375 25.390625 \r\nL 58.015625 25.390625 \r\nL 58.015625 17.1875 \r\nL 47.609375 17.1875 \r\nL 47.609375 0 \r\nL 37.796875 0 \r\nL 37.796875 17.1875 \r\nL 4.890625 17.1875 \r\nL 4.890625 26.703125 \r\nz\r\n\" id=\"DejaVuSans-52\"/>\r\n      </defs>\r\n      <g transform=\"translate(286.433088 238.950597)scale(0.1 -0.1)\">\r\n       <use xlink:href=\"#DejaVuSans-52\"/>\r\n       <use x=\"63.623047\" xlink:href=\"#DejaVuSans-48\"/>\r\n      </g>\r\n     </g>\r\n    </g>\r\n    <g id=\"xtick_6\">\r\n     <g id=\"line2d_6\">\r\n      <g>\r\n       <use style=\"stroke:#000000;stroke-width:0.8;\" x=\"358.442647\" xlink:href=\"#mff12f50554\" y=\"224.35216\"/>\r\n      </g>\r\n     </g>\r\n     <g id=\"text_6\">\r\n      <!-- 50 -->\r\n      <defs>\r\n       <path d=\"M 10.796875 72.90625 \r\nL 49.515625 72.90625 \r\nL 49.515625 64.59375 \r\nL 19.828125 64.59375 \r\nL 19.828125 46.734375 \r\nQ 21.96875 47.46875 24.109375 47.828125 \r\nQ 26.265625 48.1875 28.421875 48.1875 \r\nQ 40.625 48.1875 47.75 41.5 \r\nQ 54.890625 34.8125 54.890625 23.390625 \r\nQ 54.890625 11.625 47.5625 5.09375 \r\nQ 40.234375 -1.421875 26.90625 -1.421875 \r\nQ 22.3125 -1.421875 17.546875 -0.640625 \r\nQ 12.796875 0.140625 7.71875 1.703125 \r\nL 7.71875 11.625 \r\nQ 12.109375 9.234375 16.796875 8.0625 \r\nQ 21.484375 6.890625 26.703125 6.890625 \r\nQ 35.15625 6.890625 40.078125 11.328125 \r\nQ 45.015625 15.765625 45.015625 23.390625 \r\nQ 45.015625 31 40.078125 35.4375 \r\nQ 35.15625 39.890625 26.703125 39.890625 \r\nQ 22.75 39.890625 18.8125 39.015625 \r\nQ 14.890625 38.140625 10.796875 36.28125 \r\nz\r\n\" id=\"DejaVuSans-53\"/>\r\n      </defs>\r\n      <g transform=\"translate(352.080147 238.950597)scale(0.1 -0.1)\">\r\n       <use xlink:href=\"#DejaVuSans-53\"/>\r\n       <use x=\"63.623047\" xlink:href=\"#DejaVuSans-48\"/>\r\n      </g>\r\n     </g>\r\n    </g>\r\n   </g>\r\n   <g id=\"matplotlib.axis_2\">\r\n    <g id=\"ytick_1\">\r\n     <g id=\"line2d_7\">\r\n      <defs>\r\n       <path d=\"M 0 0 \r\nL -3.5 0 \r\n\" id=\"m328f948341\" style=\"stroke:#000000;stroke-width:0.8;\"/>\r\n      </defs>\r\n      <g>\r\n       <use style=\"stroke:#000000;stroke-width:0.8;\" x=\"26.925\" xlink:href=\"#m328f948341\" y=\"10.999219\"/>\r\n      </g>\r\n     </g>\r\n     <g id=\"text_7\">\r\n      <!-- 0 -->\r\n      <g transform=\"translate(13.5625 14.798437)scale(0.1 -0.1)\">\r\n       <use xlink:href=\"#DejaVuSans-48\"/>\r\n      </g>\r\n     </g>\r\n    </g>\r\n    <g id=\"ytick_2\">\r\n     <g id=\"line2d_8\">\r\n      <g>\r\n       <use style=\"stroke:#000000;stroke-width:0.8;\" x=\"26.925\" xlink:href=\"#m328f948341\" y=\"43.822748\"/>\r\n      </g>\r\n     </g>\r\n     <g id=\"text_8\">\r\n      <!-- 5 -->\r\n      <g transform=\"translate(13.5625 47.621967)scale(0.1 -0.1)\">\r\n       <use xlink:href=\"#DejaVuSans-53\"/>\r\n      </g>\r\n     </g>\r\n    </g>\r\n    <g id=\"ytick_3\">\r\n     <g id=\"line2d_9\">\r\n      <g>\r\n       <use style=\"stroke:#000000;stroke-width:0.8;\" x=\"26.925\" xlink:href=\"#m328f948341\" y=\"76.646278\"/>\r\n      </g>\r\n     </g>\r\n     <g id=\"text_9\">\r\n      <!-- 10 -->\r\n      <g transform=\"translate(7.2 80.445496)scale(0.1 -0.1)\">\r\n       <use xlink:href=\"#DejaVuSans-49\"/>\r\n       <use x=\"63.623047\" xlink:href=\"#DejaVuSans-48\"/>\r\n      </g>\r\n     </g>\r\n    </g>\r\n    <g id=\"ytick_4\">\r\n     <g id=\"line2d_10\">\r\n      <g>\r\n       <use style=\"stroke:#000000;stroke-width:0.8;\" x=\"26.925\" xlink:href=\"#m328f948341\" y=\"109.469807\"/>\r\n      </g>\r\n     </g>\r\n     <g id=\"text_10\">\r\n      <!-- 15 -->\r\n      <g transform=\"translate(7.2 113.269026)scale(0.1 -0.1)\">\r\n       <use xlink:href=\"#DejaVuSans-49\"/>\r\n       <use x=\"63.623047\" xlink:href=\"#DejaVuSans-53\"/>\r\n      </g>\r\n     </g>\r\n    </g>\r\n    <g id=\"ytick_5\">\r\n     <g id=\"line2d_11\">\r\n      <g>\r\n       <use style=\"stroke:#000000;stroke-width:0.8;\" x=\"26.925\" xlink:href=\"#m328f948341\" y=\"142.293336\"/>\r\n      </g>\r\n     </g>\r\n     <g id=\"text_11\">\r\n      <!-- 20 -->\r\n      <g transform=\"translate(7.2 146.092555)scale(0.1 -0.1)\">\r\n       <use xlink:href=\"#DejaVuSans-50\"/>\r\n       <use x=\"63.623047\" xlink:href=\"#DejaVuSans-48\"/>\r\n      </g>\r\n     </g>\r\n    </g>\r\n    <g id=\"ytick_6\">\r\n     <g id=\"line2d_12\">\r\n      <g>\r\n       <use style=\"stroke:#000000;stroke-width:0.8;\" x=\"26.925\" xlink:href=\"#m328f948341\" y=\"175.116866\"/>\r\n      </g>\r\n     </g>\r\n     <g id=\"text_12\">\r\n      <!-- 25 -->\r\n      <g transform=\"translate(7.2 178.916085)scale(0.1 -0.1)\">\r\n       <use xlink:href=\"#DejaVuSans-50\"/>\r\n       <use x=\"63.623047\" xlink:href=\"#DejaVuSans-53\"/>\r\n      </g>\r\n     </g>\r\n    </g>\r\n    <g id=\"ytick_7\">\r\n     <g id=\"line2d_13\">\r\n      <g>\r\n       <use style=\"stroke:#000000;stroke-width:0.8;\" x=\"26.925\" xlink:href=\"#m328f948341\" y=\"207.940395\"/>\r\n      </g>\r\n     </g>\r\n     <g id=\"text_13\">\r\n      <!-- 30 -->\r\n      <g transform=\"translate(7.2 211.739614)scale(0.1 -0.1)\">\r\n       <use xlink:href=\"#DejaVuSans-51\"/>\r\n       <use x=\"63.623047\" xlink:href=\"#DejaVuSans-48\"/>\r\n      </g>\r\n     </g>\r\n    </g>\r\n   </g>\r\n   <g id=\"patch_3\">\r\n    <path d=\"M 26.925 224.35216 \r\nL 26.925 7.716866 \r\n\" style=\"fill:none;stroke:#000000;stroke-linecap:square;stroke-linejoin:miter;stroke-width:0.8;\"/>\r\n   </g>\r\n   <g id=\"patch_4\">\r\n    <path d=\"M 361.725 224.35216 \r\nL 361.725 7.716866 \r\n\" style=\"fill:none;stroke:#000000;stroke-linecap:square;stroke-linejoin:miter;stroke-width:0.8;\"/>\r\n   </g>\r\n   <g id=\"patch_5\">\r\n    <path d=\"M 26.925 224.35216 \r\nL 361.725 224.35216 \r\n\" style=\"fill:none;stroke:#000000;stroke-linecap:square;stroke-linejoin:miter;stroke-width:0.8;\"/>\r\n   </g>\r\n   <g id=\"patch_6\">\r\n    <path d=\"M 26.925 7.716866 \r\nL 361.725 7.716866 \r\n\" style=\"fill:none;stroke:#000000;stroke-linecap:square;stroke-linejoin:miter;stroke-width:0.8;\"/>\r\n   </g>\r\n  </g>\r\n </g>\r\n <defs>\r\n  <clipPath id=\"p5ee239489b\">\r\n   <rect height=\"216.635294\" width=\"334.8\" x=\"26.925\" y=\"7.716866\"/>\r\n  </clipPath>\r\n </defs>\r\n</svg>\r\n",
      "text/plain": "<Figure size 432x288 with 1 Axes>"
     },
     "metadata": {
      "needs_background": "light"
     },
     "output_type": "display_data"
    }
   ],
   "source": [
    "view = getview(c)\n",
    "plt.imshow(view)"
   ]
  },
  {
   "cell_type": "code",
   "execution_count": 8,
   "metadata": {},
   "outputs": [],
   "source": [
    "scaf = set([tuple(i) for i in np.argwhere(view!=46)])\n",
    "\n",
    "def getneigh(i):\n",
    "  res = []\n",
    "  if (i[0],i[1]+1) in scaf: res.append((i[0],i[1]+1))\n",
    "  if (i[0],i[1]-1) in scaf: res.append((i[0],i[1]-1))\n",
    "  if (i[0]+1,i[1]) in scaf: res.append((i[0]+1,i[1]))\n",
    "  if (i[0]-1,i[1]) in scaf: res.append((i[0]-1,i[1]))\n",
    "  return res\n",
    "neigh = {tuple(i):getneigh(tuple(i)) for i in np.argwhere(view!=46)}"
   ]
  },
  {
   "cell_type": "code",
   "execution_count": 9,
   "metadata": {},
   "outputs": [],
   "source": [
    "class Pos():\n",
    "    def __init__(self,input):\n",
    "        self.x,self.y = input[0],input[1]\n",
    "        self.n = getneigh((self.x,self.y))\n",
    "        if len(self.n)==2 and abs(self.n[0][0]-self.n[1][0])==1:\n",
    "            self.isturn = True\n",
    "        else:\n",
    "            self.isturn = False\n",
    "    \n",
    "    def getturn(self,old,new):\n",
    "        if old == (0,1) and new == (1,0): return 'R'\n",
    "        if old == (0,1) and new == (-1,0): return 'L'\n",
    "        if old == (-1,0) and new == (0,1): return 'R'\n",
    "        if old == (-1,0) and new == (0,-1): return 'L'\n",
    "        if old == (1,0) and new == (0,-1): return 'R'\n",
    "        if old == (1,0) and new == (0,1): return 'L'\n",
    "        if old == (0,-1) and new == (-1,0): return 'R'\n",
    "        if old == (0,-1) and new == (1,0): return 'L'\n",
    "        print('error turning',old,new)\n",
    "\n",
    "    def getnext(self,dx,dy):\n",
    "        new = None\n",
    "        turn = None\n",
    "        n = self.n\n",
    "        if len(n)==1:\n",
    "            # print('done')\n",
    "            new = n[0]\n",
    "            turn = self.getturn((dx,dy),(new[0]-self.x,new[1]-self.y))\n",
    "            dx = new[0]-self.x\n",
    "            dy = new[1]-self.y\n",
    "            \n",
    "        elif len(n)==2:\n",
    "            # print('ongoing')\n",
    "            if self.isturn:\n",
    "                # print('turn')\n",
    "                for neigh in n:\n",
    "                    if (self.x-dx,self.y-dy)== neigh: n.remove((self.x-dx,self.y-dy))\n",
    "                # print(len(n))\n",
    "                newx = n[0][0]\n",
    "                newy = n[0][1]\n",
    "                new = (newx,newy)\n",
    "                turn = self.getturn((dx,dy),(newx-self.x,newy-self.y))\n",
    "                dx = newx-self.x\n",
    "                dy = newy-self.y\n",
    "            else:\n",
    "                # print('no turn')\n",
    "                new = (self.x+dx,self.y+dy)\n",
    "                turn = None\n",
    "        elif len(n)==4:\n",
    "            # print('intersection')\n",
    "            new = (self.x+dx,self.y+dy)\n",
    "            \n",
    "        return dx,dy,new,turn\n",
    "  "
   ]
  },
  {
   "cell_type": "code",
   "execution_count": 10,
   "metadata": {},
   "outputs": [
    {
     "data": {
      "text/plain": "7816"
     },
     "execution_count": 10,
     "metadata": {},
     "output_type": "execute_result"
    }
   ],
   "source": [
    "res = []\n",
    "view.shape\n",
    "for i in np.argwhere(view==35):\n",
    "    if i[0]!=32 and i[0]!=0 and i[1]!=50 and i[1] != 0:\n",
    "        if view[i[0],i[1]+1]==35 and view[i[0],i[1]-1]==35 and view[i[0]+1,i[1]]==35 and view[i[0]-1,i[1]]==35:\n",
    "            res.append(i[0]*i[1])\n",
    "sum(res)         "
   ]
  },
  {
   "cell_type": "code",
   "execution_count": 11,
   "metadata": {},
   "outputs": [
    {
     "name": "stdout",
     "output_type": "stream",
     "text": "(14, 0)\nR1111111111L111111111111R111111R1111111111L111111111111R111111R111111R1111111111R111111111111R111111R1111111111L111111111111L111111111111R111111R1111111111R111111111111R111111R1111111111L111111111111L111111111111R111111R1111111111R111111111111R111111R1111111111L111111111111L111111111111R111111R1111111111R111111111111R111111R1111111111L111111111111R111111\n"
    }
   ],
   "source": [
    "start = tuple(np.argwhere(view == 94)[0])\n",
    "dx,dy  = -1,0\n",
    "print(start)\n",
    "\n",
    "counter = 0\n",
    "ins = []\n",
    "while counter != 2:\n",
    "    if len(Pos(start).n)==1: counter +=1\n",
    "    if counter==2: break\n",
    "    dx,dy,start,turn = Pos(start).getnext(dx,dy)\n",
    "    if turn: ins.append(turn)\n",
    "    ins.append(1)\n",
    "    # print(dx,dy,start,turn)\n",
    "ins = ''.join([str(i) for i in ins])   \n",
    "print(ins)"
   ]
  },
  {
   "cell_type": "code",
   "execution_count": 12,
   "metadata": {},
   "outputs": [],
   "source": [
    "a = re.findall(r'((\\w)\\2*)',ins)\n",
    "ins = [i[0] for i in a]\n",
    "ins = [len(i) if i[0]=='1' else i for i in ins]"
   ]
  },
  {
   "cell_type": "code",
   "execution_count": 13,
   "metadata": {},
   "outputs": [
    {
     "data": {
      "text/plain": "'R10L12R6R10L12R6R6R10R12R6R10L12L12R6R10R12R6R10L12L12R6R10R12R6R10L12L12R6R10R12R6R10L12R6'"
     },
     "execution_count": 13,
     "metadata": {},
     "output_type": "execute_result"
    }
   ],
   "source": [
    "''.join([str(i) for i in ins])"
   ]
  },
  {
   "cell_type": "code",
   "execution_count": null,
   "metadata": {},
   "outputs": [],
   "source": []
  }
 ]
}