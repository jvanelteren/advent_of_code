{
 "nbformat": 4,
 "nbformat_minor": 2,
 "metadata": {
  "language_info": {
   "name": "python",
   "codemirror_mode": {
    "name": "ipython",
    "version": 3
   },
   "version": "3.7.3"
  },
  "orig_nbformat": 2,
  "file_extension": ".py",
  "mimetype": "text/x-python",
  "name": "python",
  "npconvert_exporter": "python",
  "pygments_lexer": "ipython3",
  "version": 3
 },
 "cells": [
  {
   "cell_type": "code",
   "execution_count": 75,
   "metadata": {},
   "outputs": [
    {
     "name": "stdout",
     "output_type": "stream",
     "text": "The autoreload extension is already loaded. To reload it, use:\n  %reload_ext autoreload\n"
    }
   ],
   "source": [
    "import numpy as np\n",
    "import networkx as nx\n",
    "import matplotlib.pyplot as plt\n",
    "from computerrefractored import Computer\n",
    "import utils\n",
    "%load_ext autoreload\n",
    "%autoreload 2"
   ]
  },
  {
   "cell_type": "code",
   "execution_count": 3,
   "metadata": {},
   "outputs": [
    {
     "name": "stdout",
     "output_type": "stream",
     "text": "0\n10000\n20000\n30000\n40000\n50000\n60000\n70000\n80000\n90000\n100000\n110000\n120000\n130000\n140000\n150000\n160000\n170000\n180000\n190000\n200000\n210000\n220000\n230000\n240000\n250000\n260000\n270000\n280000\n290000\n300000\n310000\n320000\n330000\n340000\n350000\n360000\n370000\n380000\n390000\n400000\n410000\n420000\n430000\n440000\n450000\n460000\n470000\n480000\n490000\n"
    }
   ],
   "source": [
    "noun, verb = 0,0\n",
    "f=open('input.txt').read()\n",
    "memory = tuple(int(i) for i in f.split(',')) # let's make it immutable as a tuple\n",
    "memsize = 100000\n",
    "memory = tuple(list(memory)+[0]*memsize)\n",
    "c = Computer(list(memory),noun,verb,[1])\n",
    "\n",
    "# # north (1), south (2), west (3), and east (4)\n",
    "# 0: The repair droid hit a wall. Its position has not changed.\n",
    "# 1: The repair droid has moved one step in the requested direction.\n",
    "# 2: The repair droid has moved one step in the requested direction; its new position is the location of the oxygen system.\n",
    "\n",
    "def newlocation(loc, chosen):\n",
    "    if chosen ==1: return (loc[0]+1,loc[1])\n",
    "    elif chosen ==2: return (loc[0]-1,loc[1])\n",
    "    elif chosen==3: return (loc[0],loc[1]-1)\n",
    "    elif chosen ==4: return (loc[0],loc[1]+1)\n",
    "\n",
    "empty = set()\n",
    "wall = set()\n",
    "\n",
    "loc = (0,0)\n",
    "direction = [1,2,3,4]\n",
    "\n",
    "while True:\n",
    "    if i % 10000 == 0: print(i)\n",
    "    chosen = np.random.choice(direction)\n",
    "    c.receiveinput(chosen)\n",
    "    answer = c.run()\n",
    "    newloc = newlocation(loc,chosen)\n",
    "\n",
    "    if answer == 0: \n",
    "        wall.add(newloc) \n",
    "    if answer == 1: \n",
    "        empty.add(newloc)\n",
    "        loc = newloc\n",
    "    if answer == 2: \n",
    "        empty.add(newloc)\n",
    "        loc = newloc\n",
    "        print('location found',newloc)"
   ]
  },
  {
   "cell_type": "code",
   "execution_count": 251,
   "metadata": {},
   "outputs": [
    {
     "data": {
      "text/plain": "<matplotlib.image.AxesImage at 0x178efb23160>"
     },
     "execution_count": 251,
     "metadata": {},
     "output_type": "execute_result"
    },
    {
     "data": {
      "image/png": "[encoded data removed]",
      "image/svg+xml": "<?xml version=\"1.0\" encoding=\"utf-8\" standalone=\"no\"?>\r\n<!DOCTYPE svg PUBLIC \"-//W3C//DTD SVG 1.1//EN\"\r\n  \"http://www.w3.org/Graphics/SVG/1.1/DTD/svg11.dtd\">\r\n<!-- Created with matplotlib (https://matplotlib.org/) -->\r\n<svg height=\"249.665636pt\" version=\"1.1\" viewBox=\"0 0 255.275793 249.665636\" width=\"255.275793pt\" xmlns=\"http://www.w3.org/2000/svg\" xmlns:xlink=\"http://www.w3.org/1999/xlink\">\r\n <defs>\r\n  <style type=\"text/css\">\r\n*{stroke-linecap:butt;stroke-linejoin:round;}\r\n  </style>\r\n </defs>\r\n <g id=\"figure_1\">\r\n  <g id=\"patch_1\">\r\n   <path d=\"M 0 249.665636 \r\nL 255.275793 249.665636 \r\nL 255.275793 0 \r\nL 0 0 \r\nz\r\n\" style=\"fill:none;\"/>\r\n  </g>\r\n  <g id=\"axes_1\">\r\n   <g id=\"patch_2\">\r\n    <path d=\"M 26.925 225.787511 \r\nL 244.365 225.787511 \r\nL 244.365 8.347511 \r\nL 26.925 8.347511 \r\nz\r\n\" style=\"fill:#ffffff;\"/>\r\n   </g>\r\n   <g clip-path=\"url(#pa5c1bf40b0)\">\r\n    <image height=\"218\" id=\"image9d60fe8c5d\" transform=\"scale(1 -1)translate(0 -218)\" width=\"218\" x=\"26.925\" xlink:href=\"data:image/png;base64,\r\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\" y=\"-7.787511\"/>\r\n   </g>\r\n   <g id=\"matplotlib.axis_1\">\r\n    <g id=\"xtick_1\">\r\n     <g id=\"line2d_1\">\r\n      <defs>\r\n       <path d=\"M 0 0 \r\nL 0 3.5 \r\n\" id=\"m953701e545\" style=\"stroke:#000000;stroke-width:0.8;\"/>\r\n      </defs>\r\n      <g>\r\n       <use style=\"stroke:#000000;stroke-width:0.8;\" x=\"29.576707\" xlink:href=\"#m953701e545\" y=\"225.787511\"/>\r\n      </g>\r\n     </g>\r\n     <g id=\"text_1\">\r\n      <!-- 0 -->\r\n      <defs>\r\n       <path d=\"M 31.78125 66.40625 \r\nQ 24.171875 66.40625 20.328125 58.90625 \r\nQ 16.5 51.421875 16.5 36.375 \r\nQ 16.5 21.390625 20.328125 13.890625 \r\nQ 24.171875 6.390625 31.78125 6.390625 \r\nQ 39.453125 6.390625 43.28125 13.890625 \r\nQ 47.125 21.390625 47.125 36.375 \r\nQ 47.125 51.421875 43.28125 58.90625 \r\nQ 39.453125 66.40625 31.78125 66.40625 \r\nz\r\nM 31.78125 74.21875 \r\nQ 44.046875 74.21875 50.515625 64.515625 \r\nQ 56.984375 54.828125 56.984375 36.375 \r\nQ 56.984375 17.96875 50.515625 8.265625 \r\nQ 44.046875 -1.421875 31.78125 -1.421875 \r\nQ 19.53125 -1.421875 13.0625 8.265625 \r\nQ 6.59375 17.96875 6.59375 36.375 \r\nQ 6.59375 54.828125 13.0625 64.515625 \r\nQ 19.53125 74.21875 31.78125 74.21875 \r\nz\r\n\" id=\"DejaVuSans-48\"/>\r\n      </defs>\r\n      <g transform=\"translate(26.395457 240.385949)scale(0.1 -0.1)\">\r\n       <use xlink:href=\"#DejaVuSans-48\"/>\r\n      </g>\r\n     </g>\r\n    </g>\r\n    <g id=\"xtick_2\">\r\n     <g id=\"line2d_2\">\r\n      <g>\r\n       <use style=\"stroke:#000000;stroke-width:0.8;\" x=\"82.610854\" xlink:href=\"#m953701e545\" y=\"225.787511\"/>\r\n      </g>\r\n     </g>\r\n     <g id=\"text_2\">\r\n      <!-- 10 -->\r\n      <defs>\r\n       <path d=\"M 12.40625 8.296875 \r\nL 28.515625 8.296875 \r\nL 28.515625 63.921875 \r\nL 10.984375 60.40625 \r\nL 10.984375 69.390625 \r\nL 28.421875 72.90625 \r\nL 38.28125 72.90625 \r\nL 38.28125 8.296875 \r\nL 54.390625 8.296875 \r\nL 54.390625 0 \r\nL 12.40625 0 \r\nz\r\n\" id=\"DejaVuSans-49\"/>\r\n      </defs>\r\n      <g transform=\"translate(76.248354 240.385949)scale(0.1 -0.1)\">\r\n       <use xlink:href=\"#DejaVuSans-49\"/>\r\n       <use x=\"63.623047\" xlink:href=\"#DejaVuSans-48\"/>\r\n      </g>\r\n     </g>\r\n    </g>\r\n    <g id=\"xtick_3\">\r\n     <g id=\"line2d_3\">\r\n      <g>\r\n       <use style=\"stroke:#000000;stroke-width:0.8;\" x=\"135.645\" xlink:href=\"#m953701e545\" y=\"225.787511\"/>\r\n      </g>\r\n     </g>\r\n     <g id=\"text_3\">\r\n      <!-- 20 -->\r\n      <defs>\r\n       <path d=\"M 19.1875 8.296875 \r\nL 53.609375 8.296875 \r\nL 53.609375 0 \r\nL 7.328125 0 \r\nL 7.328125 8.296875 \r\nQ 12.9375 14.109375 22.625 23.890625 \r\nQ 32.328125 33.6875 34.8125 36.53125 \r\nQ 39.546875 41.84375 41.421875 45.53125 \r\nQ 43.3125 49.21875 43.3125 52.78125 \r\nQ 43.3125 58.59375 39.234375 62.25 \r\nQ 35.15625 65.921875 28.609375 65.921875 \r\nQ 23.96875 65.921875 18.8125 64.3125 \r\nQ 13.671875 62.703125 7.8125 59.421875 \r\nL 7.8125 69.390625 \r\nQ 13.765625 71.78125 18.9375 73 \r\nQ 24.125 74.21875 28.421875 74.21875 \r\nQ 39.75 74.21875 46.484375 68.546875 \r\nQ 53.21875 62.890625 53.21875 53.421875 \r\nQ 53.21875 48.921875 51.53125 44.890625 \r\nQ 49.859375 40.875 45.40625 35.40625 \r\nQ 44.1875 33.984375 37.640625 27.21875 \r\nQ 31.109375 20.453125 19.1875 8.296875 \r\nz\r\n\" id=\"DejaVuSans-50\"/>\r\n      </defs>\r\n      <g transform=\"translate(129.2825 240.385949)scale(0.1 -0.1)\">\r\n       <use xlink:href=\"#DejaVuSans-50\"/>\r\n       <use x=\"63.623047\" xlink:href=\"#DejaVuSans-48\"/>\r\n      </g>\r\n     </g>\r\n    </g>\r\n    <g id=\"xtick_4\">\r\n     <g id=\"line2d_4\">\r\n      <g>\r\n       <use style=\"stroke:#000000;stroke-width:0.8;\" x=\"188.679146\" xlink:href=\"#m953701e545\" y=\"225.787511\"/>\r\n      </g>\r\n     </g>\r\n     <g id=\"text_4\">\r\n      <!-- 30 -->\r\n      <defs>\r\n       <path d=\"M 40.578125 39.3125 \r\nQ 47.65625 37.796875 51.625 33 \r\nQ 55.609375 28.21875 55.609375 21.1875 \r\nQ 55.609375 10.40625 48.1875 4.484375 \r\nQ 40.765625 -1.421875 27.09375 -1.421875 \r\nQ 22.515625 -1.421875 17.65625 -0.515625 \r\nQ 12.796875 0.390625 7.625 2.203125 \r\nL 7.625 11.71875 \r\nQ 11.71875 9.328125 16.59375 8.109375 \r\nQ 21.484375 6.890625 26.8125 6.890625 \r\nQ 36.078125 6.890625 40.9375 10.546875 \r\nQ 45.796875 14.203125 45.796875 21.1875 \r\nQ 45.796875 27.640625 41.28125 31.265625 \r\nQ 36.765625 34.90625 28.71875 34.90625 \r\nL 20.21875 34.90625 \r\nL 20.21875 43.015625 \r\nL 29.109375 43.015625 \r\nQ 36.375 43.015625 40.234375 45.921875 \r\nQ 44.09375 48.828125 44.09375 54.296875 \r\nQ 44.09375 59.90625 40.109375 62.90625 \r\nQ 36.140625 65.921875 28.71875 65.921875 \r\nQ 24.65625 65.921875 20.015625 65.03125 \r\nQ 15.375 64.15625 9.8125 62.3125 \r\nL 9.8125 71.09375 \r\nQ 15.4375 72.65625 20.34375 73.4375 \r\nQ 25.25 74.21875 29.59375 74.21875 \r\nQ 40.828125 74.21875 47.359375 69.109375 \r\nQ 53.90625 64.015625 53.90625 55.328125 \r\nQ 53.90625 49.265625 50.4375 45.09375 \r\nQ 46.96875 40.921875 40.578125 39.3125 \r\nz\r\n\" id=\"DejaVuSans-51\"/>\r\n      </defs>\r\n      <g transform=\"translate(182.316646 240.385949)scale(0.1 -0.1)\">\r\n       <use xlink:href=\"#DejaVuSans-51\"/>\r\n       <use x=\"63.623047\" xlink:href=\"#DejaVuSans-48\"/>\r\n      </g>\r\n     </g>\r\n    </g>\r\n    <g id=\"xtick_5\">\r\n     <g id=\"line2d_5\">\r\n      <g>\r\n       <use style=\"stroke:#000000;stroke-width:0.8;\" x=\"241.713293\" xlink:href=\"#m953701e545\" y=\"225.787511\"/>\r\n      </g>\r\n     </g>\r\n     <g id=\"text_5\">\r\n      <!-- 40 -->\r\n      <defs>\r\n       <path d=\"M 37.796875 64.3125 \r\nL 12.890625 25.390625 \r\nL 37.796875 25.390625 \r\nz\r\nM 35.203125 72.90625 \r\nL 47.609375 72.90625 \r\nL 47.609375 25.390625 \r\nL 58.015625 25.390625 \r\nL 58.015625 17.1875 \r\nL 47.609375 17.1875 \r\nL 47.609375 0 \r\nL 37.796875 0 \r\nL 37.796875 17.1875 \r\nL 4.890625 17.1875 \r\nL 4.890625 26.703125 \r\nz\r\n\" id=\"DejaVuSans-52\"/>\r\n      </defs>\r\n      <g transform=\"translate(235.350793 240.385949)scale(0.1 -0.1)\">\r\n       <use xlink:href=\"#DejaVuSans-52\"/>\r\n       <use x=\"63.623047\" xlink:href=\"#DejaVuSans-48\"/>\r\n      </g>\r\n     </g>\r\n    </g>\r\n   </g>\r\n   <g id=\"matplotlib.axis_2\">\r\n    <g id=\"ytick_1\">\r\n     <g id=\"line2d_6\">\r\n      <defs>\r\n       <path d=\"M 0 0 \r\nL -3.5 0 \r\n\" id=\"m39cb9886a3\" style=\"stroke:#000000;stroke-width:0.8;\"/>\r\n      </defs>\r\n      <g>\r\n       <use style=\"stroke:#000000;stroke-width:0.8;\" x=\"26.925\" xlink:href=\"#m39cb9886a3\" y=\"10.999219\"/>\r\n      </g>\r\n     </g>\r\n     <g id=\"text_6\">\r\n      <!-- 0 -->\r\n      <g transform=\"translate(13.5625 14.798437)scale(0.1 -0.1)\">\r\n       <use xlink:href=\"#DejaVuSans-48\"/>\r\n      </g>\r\n     </g>\r\n    </g>\r\n    <g id=\"ytick_2\">\r\n     <g id=\"line2d_7\">\r\n      <g>\r\n       <use style=\"stroke:#000000;stroke-width:0.8;\" x=\"26.925\" xlink:href=\"#m39cb9886a3\" y=\"37.516292\"/>\r\n      </g>\r\n     </g>\r\n     <g id=\"text_7\">\r\n      <!-- 5 -->\r\n      <defs>\r\n       <path d=\"M 10.796875 72.90625 \r\nL 49.515625 72.90625 \r\nL 49.515625 64.59375 \r\nL 19.828125 64.59375 \r\nL 19.828125 46.734375 \r\nQ 21.96875 47.46875 24.109375 47.828125 \r\nQ 26.265625 48.1875 28.421875 48.1875 \r\nQ 40.625 48.1875 47.75 41.5 \r\nQ 54.890625 34.8125 54.890625 23.390625 \r\nQ 54.890625 11.625 47.5625 5.09375 \r\nQ 40.234375 -1.421875 26.90625 -1.421875 \r\nQ 22.3125 -1.421875 17.546875 -0.640625 \r\nQ 12.796875 0.140625 7.71875 1.703125 \r\nL 7.71875 11.625 \r\nQ 12.109375 9.234375 16.796875 8.0625 \r\nQ 21.484375 6.890625 26.703125 6.890625 \r\nQ 35.15625 6.890625 40.078125 11.328125 \r\nQ 45.015625 15.765625 45.015625 23.390625 \r\nQ 45.015625 31 40.078125 35.4375 \r\nQ 35.15625 39.890625 26.703125 39.890625 \r\nQ 22.75 39.890625 18.8125 39.015625 \r\nQ 14.890625 38.140625 10.796875 36.28125 \r\nz\r\n\" id=\"DejaVuSans-53\"/>\r\n      </defs>\r\n      <g transform=\"translate(13.5625 41.315511)scale(0.1 -0.1)\">\r\n       <use xlink:href=\"#DejaVuSans-53\"/>\r\n      </g>\r\n     </g>\r\n    </g>\r\n    <g id=\"ytick_3\">\r\n     <g id=\"line2d_8\">\r\n      <g>\r\n       <use style=\"stroke:#000000;stroke-width:0.8;\" x=\"26.925\" xlink:href=\"#m39cb9886a3\" y=\"64.033365\"/>\r\n      </g>\r\n     </g>\r\n     <g id=\"text_8\">\r\n      <!-- 10 -->\r\n      <g transform=\"translate(7.2 67.832584)scale(0.1 -0.1)\">\r\n       <use xlink:href=\"#DejaVuSans-49\"/>\r\n       <use x=\"63.623047\" xlink:href=\"#DejaVuSans-48\"/>\r\n      </g>\r\n     </g>\r\n    </g>\r\n    <g id=\"ytick_4\">\r\n     <g id=\"line2d_9\">\r\n      <g>\r\n       <use style=\"stroke:#000000;stroke-width:0.8;\" x=\"26.925\" xlink:href=\"#m39cb9886a3\" y=\"90.550438\"/>\r\n      </g>\r\n     </g>\r\n     <g id=\"text_9\">\r\n      <!-- 15 -->\r\n      <g transform=\"translate(7.2 94.349657)scale(0.1 -0.1)\">\r\n       <use xlink:href=\"#DejaVuSans-49\"/>\r\n       <use x=\"63.623047\" xlink:href=\"#DejaVuSans-53\"/>\r\n      </g>\r\n     </g>\r\n    </g>\r\n    <g id=\"ytick_5\">\r\n     <g id=\"line2d_10\">\r\n      <g>\r\n       <use style=\"stroke:#000000;stroke-width:0.8;\" x=\"26.925\" xlink:href=\"#m39cb9886a3\" y=\"117.067511\"/>\r\n      </g>\r\n     </g>\r\n     <g id=\"text_10\">\r\n      <!-- 20 -->\r\n      <g transform=\"translate(7.2 120.86673)scale(0.1 -0.1)\">\r\n       <use xlink:href=\"#DejaVuSans-50\"/>\r\n       <use x=\"63.623047\" xlink:href=\"#DejaVuSans-48\"/>\r\n      </g>\r\n     </g>\r\n    </g>\r\n    <g id=\"ytick_6\">\r\n     <g id=\"line2d_11\">\r\n      <g>\r\n       <use style=\"stroke:#000000;stroke-width:0.8;\" x=\"26.925\" xlink:href=\"#m39cb9886a3\" y=\"143.584585\"/>\r\n      </g>\r\n     </g>\r\n     <g id=\"text_11\">\r\n      <!-- 25 -->\r\n      <g transform=\"translate(7.2 147.383803)scale(0.1 -0.1)\">\r\n       <use xlink:href=\"#DejaVuSans-50\"/>\r\n       <use x=\"63.623047\" xlink:href=\"#DejaVuSans-53\"/>\r\n      </g>\r\n     </g>\r\n    </g>\r\n    <g id=\"ytick_7\">\r\n     <g id=\"line2d_12\">\r\n      <g>\r\n       <use style=\"stroke:#000000;stroke-width:0.8;\" x=\"26.925\" xlink:href=\"#m39cb9886a3\" y=\"170.101658\"/>\r\n      </g>\r\n     </g>\r\n     <g id=\"text_12\">\r\n      <!-- 30 -->\r\n      <g transform=\"translate(7.2 173.900877)scale(0.1 -0.1)\">\r\n       <use xlink:href=\"#DejaVuSans-51\"/>\r\n       <use x=\"63.623047\" xlink:href=\"#DejaVuSans-48\"/>\r\n      </g>\r\n     </g>\r\n    </g>\r\n    <g id=\"ytick_8\">\r\n     <g id=\"line2d_13\">\r\n      <g>\r\n       <use style=\"stroke:#000000;stroke-width:0.8;\" x=\"26.925\" xlink:href=\"#m39cb9886a3\" y=\"196.618731\"/>\r\n      </g>\r\n     </g>\r\n     <g id=\"text_13\">\r\n      <!-- 35 -->\r\n      <g transform=\"translate(7.2 200.41795)scale(0.1 -0.1)\">\r\n       <use xlink:href=\"#DejaVuSans-51\"/>\r\n       <use x=\"63.623047\" xlink:href=\"#DejaVuSans-53\"/>\r\n      </g>\r\n     </g>\r\n    </g>\r\n    <g id=\"ytick_9\">\r\n     <g id=\"line2d_14\">\r\n      <g>\r\n       <use style=\"stroke:#000000;stroke-width:0.8;\" x=\"26.925\" xlink:href=\"#m39cb9886a3\" y=\"223.135804\"/>\r\n      </g>\r\n     </g>\r\n     <g id=\"text_14\">\r\n      <!-- 40 -->\r\n      <g transform=\"translate(7.2 226.935023)scale(0.1 -0.1)\">\r\n       <use xlink:href=\"#DejaVuSans-52\"/>\r\n       <use x=\"63.623047\" xlink:href=\"#DejaVuSans-48\"/>\r\n      </g>\r\n     </g>\r\n    </g>\r\n   </g>\r\n   <g id=\"patch_3\">\r\n    <path d=\"M 26.925 225.787511 \r\nL 26.925 8.347511 \r\n\" style=\"fill:none;stroke:#000000;stroke-linecap:square;stroke-linejoin:miter;stroke-width:0.8;\"/>\r\n   </g>\r\n   <g id=\"patch_4\">\r\n    <path d=\"M 244.365 225.787511 \r\nL 244.365 8.347511 \r\n\" style=\"fill:none;stroke:#000000;stroke-linecap:square;stroke-linejoin:miter;stroke-width:0.8;\"/>\r\n   </g>\r\n   <g id=\"patch_5\">\r\n    <path d=\"M 26.925 225.787511 \r\nL 244.365 225.787511 \r\n\" style=\"fill:none;stroke:#000000;stroke-linecap:square;stroke-linejoin:miter;stroke-width:0.8;\"/>\r\n   </g>\r\n   <g id=\"patch_6\">\r\n    <path d=\"M 26.925 8.347511 \r\nL 244.365 8.347511 \r\n\" style=\"fill:none;stroke:#000000;stroke-linecap:square;stroke-linejoin:miter;stroke-width:0.8;\"/>\r\n   </g>\r\n  </g>\r\n </g>\r\n <defs>\r\n  <clipPath id=\"pa5c1bf40b0\">\r\n   <rect height=\"217.44\" width=\"217.44\" x=\"26.925\" y=\"8.347511\"/>\r\n  </clipPath>\r\n </defs>\r\n</svg>\r\n",
      "text/plain": "<Figure size 432x288 with 1 Axes>"
     },
     "metadata": {
      "needs_background": "light"
     },
     "output_type": "display_data"
    }
   ],
   "source": [
    "dim = utils.dimensions(list(wall|empty))\n",
    "walls,emptys = utils.normalize(list(wall),list(empty))\n",
    "\n",
    "pic = np.zeros(np.product(dim.range)).reshape(dim.range)\n",
    "# no need to draw the walls, consider them 0\n",
    "pic[tuple(zip(*emptys))]=2 # list needs to be converted by index in multidemensional indexing\n",
    "pic[(-14-dim.min[0],-16-dim.min[1])]=3\n",
    "pic[(dim.min[0],dim.min[1])]=3\n",
    "plt.imshow(pic)"
   ]
  },
  {
   "cell_type": "code",
   "execution_count": 35,
   "metadata": {},
   "outputs": [
    {
     "data": {
      "text/plain": "298"
     },
     "execution_count": 35,
     "metadata": {},
     "output_type": "execute_result"
    }
   ],
   "source": [
    "part 1\n",
    "import networkx as nx\n",
    "G=nx.Graph()\n",
    "for e in empty:\n",
    "    if newlocation(e,1) in empty: G.add_edge(e,newlocation(e,1))\n",
    "    if newlocation(e,2) in empty: G.add_edge(e,newlocation(e,2))\n",
    "    if newlocation(e,3) in empty: G.add_edge(e,newlocation(e,3))\n",
    "    if newlocation(e,4) in empty: G.add_edge(e,newlocation(e,4))\n",
    "G.add_nodes_from(empty)\n",
    "len(nx.shortest_path(G, source=(0,0), target=(-14,-16)))-1"
   ]
  },
  {
   "cell_type": "code",
   "execution_count": 39,
   "metadata": {},
   "outputs": [
    {
     "data": {
      "text/plain": "346"
     },
     "execution_count": 39,
     "metadata": {},
     "output_type": "execute_result"
    }
   ],
   "source": [
    "# part 2\n",
    "dis = []\n",
    "for e in empty:\n",
    "    dis.append(len(nx.shortest_path(G, source=(-14,-16), target=e))-1)\n",
    "max(dis)"
   ]
  },
  {
   "cell_type": "code",
   "execution_count": 1,
   "metadata": {},
   "outputs": [
    {
     "ename": "SyntaxError",
     "evalue": "invalid syntax (<ipython-input-1-d7b9741023be>, line 6)",
     "output_type": "error",
     "traceback": [
      "\u001b[1;36m  File \u001b[1;32m\"<ipython-input-1-d7b9741023be>\"\u001b[1;36m, line \u001b[1;32m6\u001b[0m\n\u001b[1;33m    if loc[0]+1 == dest[0] return 1\u001b[0m\n\u001b[1;37m                                ^\u001b[0m\n\u001b[1;31mSyntaxError\u001b[0m\u001b[1;31m:\u001b[0m invalid syntax\n"
     ]
    }
   ],
   "source": [
    "# didnt need this for the brute force approach\n",
    "def navigate(loc,dest):\n",
    "    return nx.shortest_path(G, source=(-14,-16), target=e)[:0]\n",
    "\n",
    "def getnext(loc,dest):\n",
    "    if loc[0]+1 == dest[0] return 1\n",
    "    if (loc[0]-1,loc[1]): return 2\n",
    "    if (loc[0],loc[1]-1): return 3\n",
    "    if (loc[0],loc[1]+1): return 4\n",
    "    else: print('error')\n",
    "\n",
    "target = (0,0)\n",
    "navigation = navigate(loc,target)\n",
    "while navigation:\n",
    "    chosen = getnext(navigation[0])\n",
    "    del navigation[0]\n",
    "    c.receiveinput(chosen)\n",
    "    answer = c.run()\n",
    "    newloc = newlocation(loc,chosen)\n",
    "\n",
    "    if answer == 0: \n",
    "        wall.add(newloc) \n",
    "    if answer == 1: \n",
    "        empty.add(newloc)\n",
    "        loc = newloc\n",
    "    if answer == 2: \n",
    "        empty.add(newloc)\n",
    "        print('location found',newloc)\n",
    "print('arrived')\n"
   ]
  }
 ]
}