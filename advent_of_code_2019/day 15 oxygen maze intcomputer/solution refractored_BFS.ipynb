{
 "nbformat": 4,
 "nbformat_minor": 2,
 "metadata": {
  "language_info": {
   "name": "python",
   "codemirror_mode": {
    "name": "ipython",
    "version": 3
   },
   "version": "3.7.3"
  },
  "orig_nbformat": 2,
  "file_extension": ".py",
  "mimetype": "text/x-python",
  "name": "python",
  "npconvert_exporter": "python",
  "pygments_lexer": "ipython3",
  "version": 3
 },
 "cells": [
  {
   "cell_type": "code",
   "execution_count": 1,
   "metadata": {},
   "outputs": [],
   "source": [
    "import numpy as np\n",
    "import networkx as nx\n",
    "import matplotlib.pyplot as plt\n",
    "from computerrefractored import Computer\n",
    "import utils\n",
    "import queue\n",
    "from collections import defaultdict\n",
    "%load_ext autoreload\n",
    "%autoreload 2\n"
   ]
  },
  {
   "cell_type": "code",
   "execution_count": 2,
   "metadata": {},
   "outputs": [],
   "source": [
    "def step(c,chosen):\n",
    "    c.receiveinput(chosen)\n",
    "    res = c.run()\n",
    "    # print('res1',res)\n",
    "    # print('chosesn1',chosen)\n",
    "    if res != 0:\n",
    "        # # north (1), south (2), west (3), and east (4)\n",
    "        if chosen %2 == 0: chosen -=1\n",
    "        else: chosen += 1\n",
    "        # print('chosesn2',chosen)\n",
    "        c.receiveinput(chosen)\n",
    "        c.run()   \n",
    "    return res\n",
    "# # north (1), south (2), west (3), and east (4)\n",
    "# 0: The repair droid hit a wall. Its position has not changed.\n",
    "# 1: The repair droid has moved one step in the requested direction.\n",
    "# 2: The repair droid has moved one step in the requested direction; its new position is the location of the oxygen system.\n",
    "def edges(current_path,loc):\n",
    "    direction = [1,2,3,4]\n",
    "    edge = []\n",
    "    path = []\n",
    "\n",
    "    c = Computer(list(memory),noun,verb,[1])\n",
    "    for p in current_path:\n",
    "        c.receiveinput(p)\n",
    "        c.run()\n",
    "    for i in direction:\n",
    "        # print(i)\n",
    "        res = step(c,i)\n",
    "        # print('res2',res)\n",
    "        if res != 0:\n",
    "            path.append(i)\n",
    "            if i ==1: edge.append ((loc[0]+1,loc[1]))\n",
    "            elif i ==2: edge.append ((loc[0]-1,loc[1]))\n",
    "            elif i==3: edge.append ((loc[0],loc[1]-1))\n",
    "            elif i ==4:edge.append ((loc[0],loc[1]+1))\n",
    "        if res==2:\n",
    "            print('found',loc,i)       \n",
    "    # print(path, edge)\n",
    "    return (path,edge)"
   ]
  },
  {
   "cell_type": "code",
   "execution_count": 3,
   "metadata": {},
   "outputs": [
    {
     "name": "stdout",
     "output_type": "stream",
     "text": "found (-14, -15) 3\n"
    }
   ],
   "source": [
    "noun, verb = 0,0\n",
    "f=open('input.txt').read()\n",
    "memory = tuple(int(i) for i in f.split(',')) # let's make it immutable as a tuple\n",
    "memsize = 1000\n",
    "memory = tuple(list(memory)+[0]*memsize)\n",
    "discovered,paths = utils.bfs(edges=edges)"
   ]
  },
  {
   "cell_type": "code",
   "execution_count": 4,
   "metadata": {},
   "outputs": [
    {
     "data": {
      "text/plain": "298"
     },
     "execution_count": 4,
     "metadata": {},
     "output_type": "execute_result"
    }
   ],
   "source": [
    "len(paths[(-14,-16)])"
   ]
  },
  {
   "cell_type": "code",
   "execution_count": 5,
   "metadata": {},
   "outputs": [
    {
     "data": {
      "text/plain": "<matplotlib.image.AxesImage at 0x2d136e59fd0>"
     },
     "execution_count": 5,
     "metadata": {},
     "output_type": "execute_result"
    },
    {
     "data": {
      "image/png": "[encoded data removed]",
      "image/svg+xml": "<?xml version=\"1.0\" encoding=\"utf-8\" standalone=\"no\"?>\r\n<!DOCTYPE svg PUBLIC \"-//W3C//DTD SVG 1.1//EN\"\r\n  \"http://www.w3.org/Graphics/SVG/1.1/DTD/svg11.dtd\">\r\n<!-- Created with matplotlib (https://matplotlib.org/) -->\r\n<svg height=\"249.529651pt\" version=\"1.1\" viewBox=\"0 0 251.565 249.529651\" width=\"251.565pt\" xmlns=\"http://www.w3.org/2000/svg\" xmlns:xlink=\"http://www.w3.org/1999/xlink\">\r\n <defs>\r\n  <style type=\"text/css\">\r\n*{stroke-linecap:butt;stroke-linejoin:round;}\r\n  </style>\r\n </defs>\r\n <g id=\"figure_1\">\r\n  <g id=\"patch_1\">\r\n   <path d=\"M 0 249.529651 \r\nL 251.565 249.529651 \r\nL 251.565 0 \r\nL 0 0 \r\nz\r\n\" style=\"fill:none;\"/>\r\n  </g>\r\n  <g id=\"axes_1\">\r\n   <g id=\"patch_2\">\r\n    <path d=\"M 26.925 225.651526 \r\nL 244.365 225.651526 \r\nL 244.365 8.211526 \r\nL 26.925 8.211526 \r\nz\r\n\" style=\"fill:#ffffff;\"/>\r\n   </g>\r\n   <g clip-path=\"url(#p4f1f020890)\">\r\n    <image height=\"218\" id=\"image352843fd3b\" transform=\"scale(1 -1)translate(0 -218)\" width=\"218\" x=\"26.925\" xlink:href=\"data:image/png;base64,\r\niVBORw0KGgoAAAANSUhEUgAAANoAAADaCAYAAADAHVzbAAAABHNCSVQICAgIfAhkiAAABftJREFUeJzt3TGO3EYQBdCVMblyxz6AEwG6gQDHPoxOZkG32AM4Vu4TSKEDkYAb7Pr7OX4vXMtkkzMfjSlUd7/78OXz95eL3v/x909/++ev365e9vC6u649ZepdTGoY89Rn3fId+iV6N/ifEjQIEDQIEDQIEDQIeJz9h7tVEleue/Zv03aMOf18V6/d/B06u/bZdVf+rRkNAgQNAgQNAgQNAk6LISum2llartvQorRD+n2uFE7u+D5XmNEgQNAgQNAgQNAgQNAgYKnq2Nzas+O6k+1BU3bcLznmlva3NDMaBAgaBAgaBAgaBCwVQ9rXEl0dww4rz9HcorTjflNjvmNBxYwGAYIGAYIGAYIGAYIGAVsWfqZ3zFrRUPnasdC0RXpsd1sQevZ+zGgQIGgQIGgQIGgQIGgQcFp1bNnqbeoa7vevhv3072jluc1oECBoECBoECBoEPBo2H2q5X53bH26emjh6v1WNL/PFTva7cxoECBoECBoECBoECBoEPCYWqDZvPBzcsu7O54OmhzfM72Lle+nGQ0CBA0CBA0CBA0CTtejXf1Rv1rIaP6R3Fzsabhf+kyGOx6IaUaDAEGDAEGDAEGDAEGDgC177zdXDI9Mjnfl2i2ng96xbexI885tZjQIEDQIEDQIEDQIGDuIsNkz7fA0WSS5er8drt4v3a5lFyx4Q4IGAYIGAYIGAYIGAVuqjkeaK1wt7UWTu3FNaWkbu+rsfhZ+wo0JGgQIGgQIGgQIGgQsVR0newSTVaeWPsUVU+cQTN5vxR0/kyNnz2FGgwBBgwBBgwBBg4DTYkhDG1BLW06z5p2fplqwGgpqq/czo0GAoEGAoEGAoEGAoEHA0omfk9IVqhXpd3G3Vqnmk2B3VCh3fDfNaBAgaBAgaBAgaBCwpQVr6iC7O+6ilNYyjiPPvmPWCjMaBAgaBAgaBAgaBAgaBDxaToxsbjtqGMPXb6+Hf//4+vN7a2jLOrP6Hbpba54WLHhDggYBggYBggYBggYBj2fplWsx1fd5VF1ctXLKZcu7b95Ob4UZDQIEDQIEDQIEDQKWWrAmtYzjv0ovbG3RMObJMVy9toMI4Q0JGgQIGgQIGgQIGgRsacF69pMdm/fePzI53qltCFsWeE59t8xoECBoECBoECBoELB0EGHzj9AdBYCWNVhHnmlnq6uaD5e0Cxa8IUGDAEGDAEGDAEGDgNOq44qGal1LRfSOp1E2nHuQfo4dVt6FGQ0CBA0CBA0CBA0CBA0ClqqODVuNnblj/9uU5r7P5p7NMzvehRkNAgQNAgQNAgQNApaKIZM7Zj3LgXPNBaP0DlQT//8u6XdhRoMAQYMAQYMAQYMAQYOALQs/r25Nd3aNKem2nOZK5Jk7tkpN2VGJNKNBgKBBgKBBgKBBwJZiyA7JvfcnCzV3LJK0tEUdSZ/J4CBCuDFBgwBBgwBBgwBBg4CaquORHYtEGyqGzVW9l5ds9bN98fDUuzCjQYCgQYCgQYCgQYCgQcBp1fFu27+1nLT5LNXI5gpemr334SYEDQIEDQIEDQIeUz9YJ38I3+1Hdst4pw5rbC7qTFp5F2Y0CBA0CBA0CBA0CBA0CHg0V4zSp4PusGPx6NE1WrbTW9H8OaWZ0SBA0CBA0CBA0CDgdD3a1R/Iq+u1Gvas37HGbOW6OzSsf2tpMWtmRoMAQYMAQYMAQYMAQYOApb33W3aaapDeBWuyKnv1PTd/Ti3MaBAgaBAgaBAgaBCw5SDCqd2VnsXkszW0rrXcb8qO5zCjQYCgQYCgQYCgQYCgQcCWquORr99eD//+8fXPqVtWaGhH2rELVvOBkelqpoMI4SYEDQIEDQIEDQIEDQLGqo6ffv398O/vX56j/+2Opip+k5XEZ+nlNKNBgKBBgKBBgKBBwJZiyNThe3eUbGdaGcNbaG7j2mFlHGY0CBA0CBA0CBA0CBA0CFiqOqZPl2ypnh1peb6GFqXJz6nhO7Dje29GgwBBgwBBgwBBg4B3H758/n71Ig1tR5Manu/ZW9eenRkNAgQNAgQNAgQNAgQNAn4AQyByhfZ6pJAAAAAASUVORK5CYII=\" y=\"-7.651526\"/>\r\n   </g>\r\n   <g id=\"matplotlib.axis_1\">\r\n    <g id=\"xtick_1\">\r\n     <g id=\"line2d_1\">\r\n      <defs>\r\n       <path d=\"M 0 0 \r\nL 0 3.5 \r\n\" id=\"m0ba9fc2bb3\" style=\"stroke:#000000;stroke-width:0.8;\"/>\r\n      </defs>\r\n      <g>\r\n       <use style=\"stroke:#000000;stroke-width:0.8;\" x=\"29.712692\" xlink:href=\"#m0ba9fc2bb3\" y=\"225.651526\"/>\r\n      </g>\r\n     </g>\r\n     <g id=\"text_1\">\r\n      <!-- 0 -->\r\n      <defs>\r\n       <path d=\"M 31.78125 66.40625 \r\nQ 24.171875 66.40625 20.328125 58.90625 \r\nQ 16.5 51.421875 16.5 36.375 \r\nQ 16.5 21.390625 20.328125 13.890625 \r\nQ 24.171875 6.390625 31.78125 6.390625 \r\nQ 39.453125 6.390625 43.28125 13.890625 \r\nQ 47.125 21.390625 47.125 36.375 \r\nQ 47.125 51.421875 43.28125 58.90625 \r\nQ 39.453125 66.40625 31.78125 66.40625 \r\nz\r\nM 31.78125 74.21875 \r\nQ 44.046875 74.21875 50.515625 64.515625 \r\nQ 56.984375 54.828125 56.984375 36.375 \r\nQ 56.984375 17.96875 50.515625 8.265625 \r\nQ 44.046875 -1.421875 31.78125 -1.421875 \r\nQ 19.53125 -1.421875 13.0625 8.265625 \r\nQ 6.59375 17.96875 6.59375 36.375 \r\nQ 6.59375 54.828125 13.0625 64.515625 \r\nQ 19.53125 74.21875 31.78125 74.21875 \r\nz\r\n\" id=\"DejaVuSans-48\"/>\r\n      </defs>\r\n      <g transform=\"translate(26.531442 240.249964)scale(0.1 -0.1)\">\r\n       <use xlink:href=\"#DejaVuSans-48\"/>\r\n      </g>\r\n     </g>\r\n    </g>\r\n    <g id=\"xtick_2\">\r\n     <g id=\"line2d_2\">\r\n      <g>\r\n       <use style=\"stroke:#000000;stroke-width:0.8;\" x=\"85.466538\" xlink:href=\"#m0ba9fc2bb3\" y=\"225.651526\"/>\r\n      </g>\r\n     </g>\r\n     <g id=\"text_2\">\r\n      <!-- 10 -->\r\n      <defs>\r\n       <path d=\"M 12.40625 8.296875 \r\nL 28.515625 8.296875 \r\nL 28.515625 63.921875 \r\nL 10.984375 60.40625 \r\nL 10.984375 69.390625 \r\nL 28.421875 72.90625 \r\nL 38.28125 72.90625 \r\nL 38.28125 8.296875 \r\nL 54.390625 8.296875 \r\nL 54.390625 0 \r\nL 12.40625 0 \r\nz\r\n\" id=\"DejaVuSans-49\"/>\r\n      </defs>\r\n      <g transform=\"translate(79.104038 240.249964)scale(0.1 -0.1)\">\r\n       <use xlink:href=\"#DejaVuSans-49\"/>\r\n       <use x=\"63.623047\" xlink:href=\"#DejaVuSans-48\"/>\r\n      </g>\r\n     </g>\r\n    </g>\r\n    <g id=\"xtick_3\">\r\n     <g id=\"line2d_3\">\r\n      <g>\r\n       <use style=\"stroke:#000000;stroke-width:0.8;\" x=\"141.220385\" xlink:href=\"#m0ba9fc2bb3\" y=\"225.651526\"/>\r\n      </g>\r\n     </g>\r\n     <g id=\"text_3\">\r\n      <!-- 20 -->\r\n      <defs>\r\n       <path d=\"M 19.1875 8.296875 \r\nL 53.609375 8.296875 \r\nL 53.609375 0 \r\nL 7.328125 0 \r\nL 7.328125 8.296875 \r\nQ 12.9375 14.109375 22.625 23.890625 \r\nQ 32.328125 33.6875 34.8125 36.53125 \r\nQ 39.546875 41.84375 41.421875 45.53125 \r\nQ 43.3125 49.21875 43.3125 52.78125 \r\nQ 43.3125 58.59375 39.234375 62.25 \r\nQ 35.15625 65.921875 28.609375 65.921875 \r\nQ 23.96875 65.921875 18.8125 64.3125 \r\nQ 13.671875 62.703125 7.8125 59.421875 \r\nL 7.8125 69.390625 \r\nQ 13.765625 71.78125 18.9375 73 \r\nQ 24.125 74.21875 28.421875 74.21875 \r\nQ 39.75 74.21875 46.484375 68.546875 \r\nQ 53.21875 62.890625 53.21875 53.421875 \r\nQ 53.21875 48.921875 51.53125 44.890625 \r\nQ 49.859375 40.875 45.40625 35.40625 \r\nQ 44.1875 33.984375 37.640625 27.21875 \r\nQ 31.109375 20.453125 19.1875 8.296875 \r\nz\r\n\" id=\"DejaVuSans-50\"/>\r\n      </defs>\r\n      <g transform=\"translate(134.857885 240.249964)scale(0.1 -0.1)\">\r\n       <use xlink:href=\"#DejaVuSans-50\"/>\r\n       <use x=\"63.623047\" xlink:href=\"#DejaVuSans-48\"/>\r\n      </g>\r\n     </g>\r\n    </g>\r\n    <g id=\"xtick_4\">\r\n     <g id=\"line2d_4\">\r\n      <g>\r\n       <use style=\"stroke:#000000;stroke-width:0.8;\" x=\"196.974231\" xlink:href=\"#m0ba9fc2bb3\" y=\"225.651526\"/>\r\n      </g>\r\n     </g>\r\n     <g id=\"text_4\">\r\n      <!-- 30 -->\r\n      <defs>\r\n       <path d=\"M 40.578125 39.3125 \r\nQ 47.65625 37.796875 51.625 33 \r\nQ 55.609375 28.21875 55.609375 21.1875 \r\nQ 55.609375 10.40625 48.1875 4.484375 \r\nQ 40.765625 -1.421875 27.09375 -1.421875 \r\nQ 22.515625 -1.421875 17.65625 -0.515625 \r\nQ 12.796875 0.390625 7.625 2.203125 \r\nL 7.625 11.71875 \r\nQ 11.71875 9.328125 16.59375 8.109375 \r\nQ 21.484375 6.890625 26.8125 6.890625 \r\nQ 36.078125 6.890625 40.9375 10.546875 \r\nQ 45.796875 14.203125 45.796875 21.1875 \r\nQ 45.796875 27.640625 41.28125 31.265625 \r\nQ 36.765625 34.90625 28.71875 34.90625 \r\nL 20.21875 34.90625 \r\nL 20.21875 43.015625 \r\nL 29.109375 43.015625 \r\nQ 36.375 43.015625 40.234375 45.921875 \r\nQ 44.09375 48.828125 44.09375 54.296875 \r\nQ 44.09375 59.90625 40.109375 62.90625 \r\nQ 36.140625 65.921875 28.71875 65.921875 \r\nQ 24.65625 65.921875 20.015625 65.03125 \r\nQ 15.375 64.15625 9.8125 62.3125 \r\nL 9.8125 71.09375 \r\nQ 15.4375 72.65625 20.34375 73.4375 \r\nQ 25.25 74.21875 29.59375 74.21875 \r\nQ 40.828125 74.21875 47.359375 69.109375 \r\nQ 53.90625 64.015625 53.90625 55.328125 \r\nQ 53.90625 49.265625 50.4375 45.09375 \r\nQ 46.96875 40.921875 40.578125 39.3125 \r\nz\r\n\" id=\"DejaVuSans-51\"/>\r\n      </defs>\r\n      <g transform=\"translate(190.611731 240.249964)scale(0.1 -0.1)\">\r\n       <use xlink:href=\"#DejaVuSans-51\"/>\r\n       <use x=\"63.623047\" xlink:href=\"#DejaVuSans-48\"/>\r\n      </g>\r\n     </g>\r\n    </g>\r\n   </g>\r\n   <g id=\"matplotlib.axis_2\">\r\n    <g id=\"ytick_1\">\r\n     <g id=\"line2d_5\">\r\n      <defs>\r\n       <path d=\"M 0 0 \r\nL -3.5 0 \r\n\" id=\"m7e8d2a770d\" style=\"stroke:#000000;stroke-width:0.8;\"/>\r\n      </defs>\r\n      <g>\r\n       <use style=\"stroke:#000000;stroke-width:0.8;\" x=\"26.925\" xlink:href=\"#m7e8d2a770d\" y=\"10.999219\"/>\r\n      </g>\r\n     </g>\r\n     <g id=\"text_5\">\r\n      <!-- 0 -->\r\n      <g transform=\"translate(13.5625 14.798437)scale(0.1 -0.1)\">\r\n       <use xlink:href=\"#DejaVuSans-48\"/>\r\n      </g>\r\n     </g>\r\n    </g>\r\n    <g id=\"ytick_2\">\r\n     <g id=\"line2d_6\">\r\n      <g>\r\n       <use style=\"stroke:#000000;stroke-width:0.8;\" x=\"26.925\" xlink:href=\"#m7e8d2a770d\" y=\"38.876142\"/>\r\n      </g>\r\n     </g>\r\n     <g id=\"text_6\">\r\n      <!-- 5 -->\r\n      <defs>\r\n       <path d=\"M 10.796875 72.90625 \r\nL 49.515625 72.90625 \r\nL 49.515625 64.59375 \r\nL 19.828125 64.59375 \r\nL 19.828125 46.734375 \r\nQ 21.96875 47.46875 24.109375 47.828125 \r\nQ 26.265625 48.1875 28.421875 48.1875 \r\nQ 40.625 48.1875 47.75 41.5 \r\nQ 54.890625 34.8125 54.890625 23.390625 \r\nQ 54.890625 11.625 47.5625 5.09375 \r\nQ 40.234375 -1.421875 26.90625 -1.421875 \r\nQ 22.3125 -1.421875 17.546875 -0.640625 \r\nQ 12.796875 0.140625 7.71875 1.703125 \r\nL 7.71875 11.625 \r\nQ 12.109375 9.234375 16.796875 8.0625 \r\nQ 21.484375 6.890625 26.703125 6.890625 \r\nQ 35.15625 6.890625 40.078125 11.328125 \r\nQ 45.015625 15.765625 45.015625 23.390625 \r\nQ 45.015625 31 40.078125 35.4375 \r\nQ 35.15625 39.890625 26.703125 39.890625 \r\nQ 22.75 39.890625 18.8125 39.015625 \r\nQ 14.890625 38.140625 10.796875 36.28125 \r\nz\r\n\" id=\"DejaVuSans-53\"/>\r\n      </defs>\r\n      <g transform=\"translate(13.5625 42.675361)scale(0.1 -0.1)\">\r\n       <use xlink:href=\"#DejaVuSans-53\"/>\r\n      </g>\r\n     </g>\r\n    </g>\r\n    <g id=\"ytick_3\">\r\n     <g id=\"line2d_7\">\r\n      <g>\r\n       <use style=\"stroke:#000000;stroke-width:0.8;\" x=\"26.925\" xlink:href=\"#m7e8d2a770d\" y=\"66.753065\"/>\r\n      </g>\r\n     </g>\r\n     <g id=\"text_7\">\r\n      <!-- 10 -->\r\n      <g transform=\"translate(7.2 70.552284)scale(0.1 -0.1)\">\r\n       <use xlink:href=\"#DejaVuSans-49\"/>\r\n       <use x=\"63.623047\" xlink:href=\"#DejaVuSans-48\"/>\r\n      </g>\r\n     </g>\r\n    </g>\r\n    <g id=\"ytick_4\">\r\n     <g id=\"line2d_8\">\r\n      <g>\r\n       <use style=\"stroke:#000000;stroke-width:0.8;\" x=\"26.925\" xlink:href=\"#m7e8d2a770d\" y=\"94.629988\"/>\r\n      </g>\r\n     </g>\r\n     <g id=\"text_8\">\r\n      <!-- 15 -->\r\n      <g transform=\"translate(7.2 98.429207)scale(0.1 -0.1)\">\r\n       <use xlink:href=\"#DejaVuSans-49\"/>\r\n       <use x=\"63.623047\" xlink:href=\"#DejaVuSans-53\"/>\r\n      </g>\r\n     </g>\r\n    </g>\r\n    <g id=\"ytick_5\">\r\n     <g id=\"line2d_9\">\r\n      <g>\r\n       <use style=\"stroke:#000000;stroke-width:0.8;\" x=\"26.925\" xlink:href=\"#m7e8d2a770d\" y=\"122.506911\"/>\r\n      </g>\r\n     </g>\r\n     <g id=\"text_9\">\r\n      <!-- 20 -->\r\n      <g transform=\"translate(7.2 126.30613)scale(0.1 -0.1)\">\r\n       <use xlink:href=\"#DejaVuSans-50\"/>\r\n       <use x=\"63.623047\" xlink:href=\"#DejaVuSans-48\"/>\r\n      </g>\r\n     </g>\r\n    </g>\r\n    <g id=\"ytick_6\">\r\n     <g id=\"line2d_10\">\r\n      <g>\r\n       <use style=\"stroke:#000000;stroke-width:0.8;\" x=\"26.925\" xlink:href=\"#m7e8d2a770d\" y=\"150.383834\"/>\r\n      </g>\r\n     </g>\r\n     <g id=\"text_10\">\r\n      <!-- 25 -->\r\n      <g transform=\"translate(7.2 154.183053)scale(0.1 -0.1)\">\r\n       <use xlink:href=\"#DejaVuSans-50\"/>\r\n       <use x=\"63.623047\" xlink:href=\"#DejaVuSans-53\"/>\r\n      </g>\r\n     </g>\r\n    </g>\r\n    <g id=\"ytick_7\">\r\n     <g id=\"line2d_11\">\r\n      <g>\r\n       <use style=\"stroke:#000000;stroke-width:0.8;\" x=\"26.925\" xlink:href=\"#m7e8d2a770d\" y=\"178.260757\"/>\r\n      </g>\r\n     </g>\r\n     <g id=\"text_11\">\r\n      <!-- 30 -->\r\n      <g transform=\"translate(7.2 182.059976)scale(0.1 -0.1)\">\r\n       <use xlink:href=\"#DejaVuSans-51\"/>\r\n       <use x=\"63.623047\" xlink:href=\"#DejaVuSans-48\"/>\r\n      </g>\r\n     </g>\r\n    </g>\r\n    <g id=\"ytick_8\">\r\n     <g id=\"line2d_12\">\r\n      <g>\r\n       <use style=\"stroke:#000000;stroke-width:0.8;\" x=\"26.925\" xlink:href=\"#m7e8d2a770d\" y=\"206.13768\"/>\r\n      </g>\r\n     </g>\r\n     <g id=\"text_12\">\r\n      <!-- 35 -->\r\n      <g transform=\"translate(7.2 209.936899)scale(0.1 -0.1)\">\r\n       <use xlink:href=\"#DejaVuSans-51\"/>\r\n       <use x=\"63.623047\" xlink:href=\"#DejaVuSans-53\"/>\r\n      </g>\r\n     </g>\r\n    </g>\r\n   </g>\r\n   <g id=\"patch_3\">\r\n    <path d=\"M 26.925 225.651526 \r\nL 26.925 8.211526 \r\n\" style=\"fill:none;stroke:#000000;stroke-linecap:square;stroke-linejoin:miter;stroke-width:0.8;\"/>\r\n   </g>\r\n   <g id=\"patch_4\">\r\n    <path d=\"M 244.365 225.651526 \r\nL 244.365 8.211526 \r\n\" style=\"fill:none;stroke:#000000;stroke-linecap:square;stroke-linejoin:miter;stroke-width:0.8;\"/>\r\n   </g>\r\n   <g id=\"patch_5\">\r\n    <path d=\"M 26.925 225.651526 \r\nL 244.365 225.651526 \r\n\" style=\"fill:none;stroke:#000000;stroke-linecap:square;stroke-linejoin:miter;stroke-width:0.8;\"/>\r\n   </g>\r\n   <g id=\"patch_6\">\r\n    <path d=\"M 26.925 8.211526 \r\nL 244.365 8.211526 \r\n\" style=\"fill:none;stroke:#000000;stroke-linecap:square;stroke-linejoin:miter;stroke-width:0.8;\"/>\r\n   </g>\r\n  </g>\r\n </g>\r\n <defs>\r\n  <clipPath id=\"p4f1f020890\">\r\n   <rect height=\"217.44\" width=\"217.44\" x=\"26.925\" y=\"8.211526\"/>\r\n  </clipPath>\r\n </defs>\r\n</svg>\r\n",
      "text/plain": "<Figure size 432x288 with 1 Axes>"
     },
     "metadata": {
      "needs_background": "light"
     },
     "output_type": "display_data"
    }
   ],
   "source": [
    "dim = utils.dimensions(list(discovered))\n",
    "disc = utils.normalize(list(discovered))\n",
    "\n",
    "pic = np.zeros(np.product(dim.range)).reshape(dim.range)\n",
    "# no need to draw the walls, consider them 0\n",
    "pic[tuple(zip(*disc))]=2 # list needs to be converted by index in multidemensional indexing\n",
    "pic[(-14-dim.min[0],-16-dim.min[1])]=3\n",
    "pic[(dim.min[0],dim.min[1])]=3\n",
    "plt.imshow(pic)"
   ]
  },
  {
   "cell_type": "code",
   "execution_count": 6,
   "metadata": {},
   "outputs": [
    {
     "data": {
      "text/plain": "298"
     },
     "execution_count": 6,
     "metadata": {},
     "output_type": "execute_result"
    }
   ],
   "source": [
    "# part 1\n",
    "def newlocation(loc, chosen):\n",
    "    if chosen ==1: return (loc[0]+1,loc[1])\n",
    "    elif chosen ==2: return (loc[0]-1,loc[1])\n",
    "    elif chosen==3: return (loc[0],loc[1]-1)\n",
    "    elif chosen ==4: return (loc[0],loc[1]+1)\n",
    "\n",
    "G=nx.Graph()\n",
    "G.add_nodes_from(discovered)\n",
    "for e in discovered:\n",
    "    if newlocation(e,1) in discovered: G.add_edge(e,newlocation(e,1))\n",
    "    if newlocation(e,2) in discovered: G.add_edge(e,newlocation(e,2))\n",
    "    if newlocation(e,3) in discovered: G.add_edge(e,newlocation(e,3))\n",
    "    if newlocation(e,4) in discovered: G.add_edge(e,newlocation(e,4))\n",
    "len(nx.shortest_path(G, source=(0,0), target=(-14,-16)))-1"
   ]
  },
  {
   "cell_type": "code",
   "execution_count": 7,
   "metadata": {},
   "outputs": [
    {
     "data": {
      "text/plain": "346"
     },
     "execution_count": 7,
     "metadata": {},
     "output_type": "execute_result"
    }
   ],
   "source": [
    "# part 2\n",
    "dis = []\n",
    "for e in discovered:\n",
    "    dis.append(len(nx.shortest_path(G, source=(-14,-16), target=e))-1)\n",
    "max(dis)"
   ]
  },
  {
   "cell_type": "code",
   "execution_count": 9,
   "metadata": {},
   "outputs": [
    {
     "data": {
      "text/plain": "(799, 799)"
     },
     "execution_count": 9,
     "metadata": {},
     "output_type": "execute_result"
    }
   ],
   "source": [
    "len(discovered),len(dis)"
   ]
  },
  {
   "cell_type": "code",
   "execution_count": 30,
   "metadata": {},
   "outputs": [
    {
     "data": {
      "text/plain": "<matplotlib.image.AxesImage at 0x2d13b739908>"
     },
     "execution_count": 30,
     "metadata": {},
     "output_type": "execute_result"
    },
    {
     "data": {
      "image/png": "[encoded data removed]",
      "image/svg+xml": "<?xml version=\"1.0\" encoding=\"utf-8\" standalone=\"no\"?>\r\n<!DOCTYPE svg PUBLIC \"-//W3C//DTD SVG 1.1//EN\"\r\n  \"http://www.w3.org/Graphics/SVG/1.1/DTD/svg11.dtd\">\r\n<!-- Created with matplotlib (https://matplotlib.org/) -->\r\n<svg height=\"249.529651pt\" version=\"1.1\" viewBox=\"0 0 251.565 249.529651\" width=\"251.565pt\" xmlns=\"http://www.w3.org/2000/svg\" xmlns:xlink=\"http://www.w3.org/1999/xlink\">\r\n <defs>\r\n  <style type=\"text/css\">\r\n*{stroke-linecap:butt;stroke-linejoin:round;}\r\n  </style>\r\n </defs>\r\n <g id=\"figure_1\">\r\n  <g id=\"patch_1\">\r\n   <path d=\"M 0 249.529651 \r\nL 251.565 249.529651 \r\nL 251.565 0 \r\nL 0 0 \r\nz\r\n\" style=\"fill:none;\"/>\r\n  </g>\r\n  <g id=\"axes_1\">\r\n   <g id=\"patch_2\">\r\n    <path d=\"M 26.925 225.651526 \r\nL 244.365 225.651526 \r\nL 244.365 8.211526 \r\nL 26.925 8.211526 \r\nz\r\n\" style=\"fill:#ffffff;\"/>\r\n   </g>\r\n   <g clip-path=\"url(#p02dc6ab49a)\">\r\n    <image height=\"218\" id=\"image92e9efd0eb\" transform=\"scale(1 -1)translate(0 -218)\" width=\"218\" x=\"26.925\" xlink:href=\"data:image/png;base64,\r\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\" y=\"-7.651526\"/>\r\n   </g>\r\n   <g id=\"matplotlib.axis_1\">\r\n    <g id=\"xtick_1\">\r\n     <g id=\"line2d_1\">\r\n      <defs>\r\n       <path d=\"M 0 0 \r\nL 0 3.5 \r\n\" id=\"m78bd468427\" style=\"stroke:#000000;stroke-width:0.8;\"/>\r\n      </defs>\r\n      <g>\r\n       <use style=\"stroke:#000000;stroke-width:0.8;\" x=\"29.712692\" xlink:href=\"#m78bd468427\" y=\"225.651526\"/>\r\n      </g>\r\n     </g>\r\n     <g id=\"text_1\">\r\n      <!-- 0 -->\r\n      <defs>\r\n       <path d=\"M 31.78125 66.40625 \r\nQ 24.171875 66.40625 20.328125 58.90625 \r\nQ 16.5 51.421875 16.5 36.375 \r\nQ 16.5 21.390625 20.328125 13.890625 \r\nQ 24.171875 6.390625 31.78125 6.390625 \r\nQ 39.453125 6.390625 43.28125 13.890625 \r\nQ 47.125 21.390625 47.125 36.375 \r\nQ 47.125 51.421875 43.28125 58.90625 \r\nQ 39.453125 66.40625 31.78125 66.40625 \r\nz\r\nM 31.78125 74.21875 \r\nQ 44.046875 74.21875 50.515625 64.515625 \r\nQ 56.984375 54.828125 56.984375 36.375 \r\nQ 56.984375 17.96875 50.515625 8.265625 \r\nQ 44.046875 -1.421875 31.78125 -1.421875 \r\nQ 19.53125 -1.421875 13.0625 8.265625 \r\nQ 6.59375 17.96875 6.59375 36.375 \r\nQ 6.59375 54.828125 13.0625 64.515625 \r\nQ 19.53125 74.21875 31.78125 74.21875 \r\nz\r\n\" id=\"DejaVuSans-48\"/>\r\n      </defs>\r\n      <g transform=\"translate(26.531442 240.249964)scale(0.1 -0.1)\">\r\n       <use xlink:href=\"#DejaVuSans-48\"/>\r\n      </g>\r\n     </g>\r\n    </g>\r\n    <g id=\"xtick_2\">\r\n     <g id=\"line2d_2\">\r\n      <g>\r\n       <use style=\"stroke:#000000;stroke-width:0.8;\" x=\"85.466538\" xlink:href=\"#m78bd468427\" y=\"225.651526\"/>\r\n      </g>\r\n     </g>\r\n     <g id=\"text_2\">\r\n      <!-- 10 -->\r\n      <defs>\r\n       <path d=\"M 12.40625 8.296875 \r\nL 28.515625 8.296875 \r\nL 28.515625 63.921875 \r\nL 10.984375 60.40625 \r\nL 10.984375 69.390625 \r\nL 28.421875 72.90625 \r\nL 38.28125 72.90625 \r\nL 38.28125 8.296875 \r\nL 54.390625 8.296875 \r\nL 54.390625 0 \r\nL 12.40625 0 \r\nz\r\n\" id=\"DejaVuSans-49\"/>\r\n      </defs>\r\n      <g transform=\"translate(79.104038 240.249964)scale(0.1 -0.1)\">\r\n       <use xlink:href=\"#DejaVuSans-49\"/>\r\n       <use x=\"63.623047\" xlink:href=\"#DejaVuSans-48\"/>\r\n      </g>\r\n     </g>\r\n    </g>\r\n    <g id=\"xtick_3\">\r\n     <g id=\"line2d_3\">\r\n      <g>\r\n       <use style=\"stroke:#000000;stroke-width:0.8;\" x=\"141.220385\" xlink:href=\"#m78bd468427\" y=\"225.651526\"/>\r\n      </g>\r\n     </g>\r\n     <g id=\"text_3\">\r\n      <!-- 20 -->\r\n      <defs>\r\n       <path d=\"M 19.1875 8.296875 \r\nL 53.609375 8.296875 \r\nL 53.609375 0 \r\nL 7.328125 0 \r\nL 7.328125 8.296875 \r\nQ 12.9375 14.109375 22.625 23.890625 \r\nQ 32.328125 33.6875 34.8125 36.53125 \r\nQ 39.546875 41.84375 41.421875 45.53125 \r\nQ 43.3125 49.21875 43.3125 52.78125 \r\nQ 43.3125 58.59375 39.234375 62.25 \r\nQ 35.15625 65.921875 28.609375 65.921875 \r\nQ 23.96875 65.921875 18.8125 64.3125 \r\nQ 13.671875 62.703125 7.8125 59.421875 \r\nL 7.8125 69.390625 \r\nQ 13.765625 71.78125 18.9375 73 \r\nQ 24.125 74.21875 28.421875 74.21875 \r\nQ 39.75 74.21875 46.484375 68.546875 \r\nQ 53.21875 62.890625 53.21875 53.421875 \r\nQ 53.21875 48.921875 51.53125 44.890625 \r\nQ 49.859375 40.875 45.40625 35.40625 \r\nQ 44.1875 33.984375 37.640625 27.21875 \r\nQ 31.109375 20.453125 19.1875 8.296875 \r\nz\r\n\" id=\"DejaVuSans-50\"/>\r\n      </defs>\r\n      <g transform=\"translate(134.857885 240.249964)scale(0.1 -0.1)\">\r\n       <use xlink:href=\"#DejaVuSans-50\"/>\r\n       <use x=\"63.623047\" xlink:href=\"#DejaVuSans-48\"/>\r\n      </g>\r\n     </g>\r\n    </g>\r\n    <g id=\"xtick_4\">\r\n     <g id=\"line2d_4\">\r\n      <g>\r\n       <use style=\"stroke:#000000;stroke-width:0.8;\" x=\"196.974231\" xlink:href=\"#m78bd468427\" y=\"225.651526\"/>\r\n      </g>\r\n     </g>\r\n     <g id=\"text_4\">\r\n      <!-- 30 -->\r\n      <defs>\r\n       <path d=\"M 40.578125 39.3125 \r\nQ 47.65625 37.796875 51.625 33 \r\nQ 55.609375 28.21875 55.609375 21.1875 \r\nQ 55.609375 10.40625 48.1875 4.484375 \r\nQ 40.765625 -1.421875 27.09375 -1.421875 \r\nQ 22.515625 -1.421875 17.65625 -0.515625 \r\nQ 12.796875 0.390625 7.625 2.203125 \r\nL 7.625 11.71875 \r\nQ 11.71875 9.328125 16.59375 8.109375 \r\nQ 21.484375 6.890625 26.8125 6.890625 \r\nQ 36.078125 6.890625 40.9375 10.546875 \r\nQ 45.796875 14.203125 45.796875 21.1875 \r\nQ 45.796875 27.640625 41.28125 31.265625 \r\nQ 36.765625 34.90625 28.71875 34.90625 \r\nL 20.21875 34.90625 \r\nL 20.21875 43.015625 \r\nL 29.109375 43.015625 \r\nQ 36.375 43.015625 40.234375 45.921875 \r\nQ 44.09375 48.828125 44.09375 54.296875 \r\nQ 44.09375 59.90625 40.109375 62.90625 \r\nQ 36.140625 65.921875 28.71875 65.921875 \r\nQ 24.65625 65.921875 20.015625 65.03125 \r\nQ 15.375 64.15625 9.8125 62.3125 \r\nL 9.8125 71.09375 \r\nQ 15.4375 72.65625 20.34375 73.4375 \r\nQ 25.25 74.21875 29.59375 74.21875 \r\nQ 40.828125 74.21875 47.359375 69.109375 \r\nQ 53.90625 64.015625 53.90625 55.328125 \r\nQ 53.90625 49.265625 50.4375 45.09375 \r\nQ 46.96875 40.921875 40.578125 39.3125 \r\nz\r\n\" id=\"DejaVuSans-51\"/>\r\n      </defs>\r\n      <g transform=\"translate(190.611731 240.249964)scale(0.1 -0.1)\">\r\n       <use xlink:href=\"#DejaVuSans-51\"/>\r\n       <use x=\"63.623047\" xlink:href=\"#DejaVuSans-48\"/>\r\n      </g>\r\n     </g>\r\n    </g>\r\n   </g>\r\n   <g id=\"matplotlib.axis_2\">\r\n    <g id=\"ytick_1\">\r\n     <g id=\"line2d_5\">\r\n      <defs>\r\n       <path d=\"M 0 0 \r\nL -3.5 0 \r\n\" id=\"maa68843a71\" style=\"stroke:#000000;stroke-width:0.8;\"/>\r\n      </defs>\r\n      <g>\r\n       <use style=\"stroke:#000000;stroke-width:0.8;\" x=\"26.925\" xlink:href=\"#maa68843a71\" y=\"10.999219\"/>\r\n      </g>\r\n     </g>\r\n     <g id=\"text_5\">\r\n      <!-- 0 -->\r\n      <g transform=\"translate(13.5625 14.798437)scale(0.1 -0.1)\">\r\n       <use xlink:href=\"#DejaVuSans-48\"/>\r\n      </g>\r\n     </g>\r\n    </g>\r\n    <g id=\"ytick_2\">\r\n     <g id=\"line2d_6\">\r\n      <g>\r\n       <use style=\"stroke:#000000;stroke-width:0.8;\" x=\"26.925\" xlink:href=\"#maa68843a71\" y=\"38.876142\"/>\r\n      </g>\r\n     </g>\r\n     <g id=\"text_6\">\r\n      <!-- 5 -->\r\n      <defs>\r\n       <path d=\"M 10.796875 72.90625 \r\nL 49.515625 72.90625 \r\nL 49.515625 64.59375 \r\nL 19.828125 64.59375 \r\nL 19.828125 46.734375 \r\nQ 21.96875 47.46875 24.109375 47.828125 \r\nQ 26.265625 48.1875 28.421875 48.1875 \r\nQ 40.625 48.1875 47.75 41.5 \r\nQ 54.890625 34.8125 54.890625 23.390625 \r\nQ 54.890625 11.625 47.5625 5.09375 \r\nQ 40.234375 -1.421875 26.90625 -1.421875 \r\nQ 22.3125 -1.421875 17.546875 -0.640625 \r\nQ 12.796875 0.140625 7.71875 1.703125 \r\nL 7.71875 11.625 \r\nQ 12.109375 9.234375 16.796875 8.0625 \r\nQ 21.484375 6.890625 26.703125 6.890625 \r\nQ 35.15625 6.890625 40.078125 11.328125 \r\nQ 45.015625 15.765625 45.015625 23.390625 \r\nQ 45.015625 31 40.078125 35.4375 \r\nQ 35.15625 39.890625 26.703125 39.890625 \r\nQ 22.75 39.890625 18.8125 39.015625 \r\nQ 14.890625 38.140625 10.796875 36.28125 \r\nz\r\n\" id=\"DejaVuSans-53\"/>\r\n      </defs>\r\n      <g transform=\"translate(13.5625 42.675361)scale(0.1 -0.1)\">\r\n       <use xlink:href=\"#DejaVuSans-53\"/>\r\n      </g>\r\n     </g>\r\n    </g>\r\n    <g id=\"ytick_3\">\r\n     <g id=\"line2d_7\">\r\n      <g>\r\n       <use style=\"stroke:#000000;stroke-width:0.8;\" x=\"26.925\" xlink:href=\"#maa68843a71\" y=\"66.753065\"/>\r\n      </g>\r\n     </g>\r\n     <g id=\"text_7\">\r\n      <!-- 10 -->\r\n      <g transform=\"translate(7.2 70.552284)scale(0.1 -0.1)\">\r\n       <use xlink:href=\"#DejaVuSans-49\"/>\r\n       <use x=\"63.623047\" xlink:href=\"#DejaVuSans-48\"/>\r\n      </g>\r\n     </g>\r\n    </g>\r\n    <g id=\"ytick_4\">\r\n     <g id=\"line2d_8\">\r\n      <g>\r\n       <use style=\"stroke:#000000;stroke-width:0.8;\" x=\"26.925\" xlink:href=\"#maa68843a71\" y=\"94.629988\"/>\r\n      </g>\r\n     </g>\r\n     <g id=\"text_8\">\r\n      <!-- 15 -->\r\n      <g transform=\"translate(7.2 98.429207)scale(0.1 -0.1)\">\r\n       <use xlink:href=\"#DejaVuSans-49\"/>\r\n       <use x=\"63.623047\" xlink:href=\"#DejaVuSans-53\"/>\r\n      </g>\r\n     </g>\r\n    </g>\r\n    <g id=\"ytick_5\">\r\n     <g id=\"line2d_9\">\r\n      <g>\r\n       <use style=\"stroke:#000000;stroke-width:0.8;\" x=\"26.925\" xlink:href=\"#maa68843a71\" y=\"122.506911\"/>\r\n      </g>\r\n     </g>\r\n     <g id=\"text_9\">\r\n      <!-- 20 -->\r\n      <g transform=\"translate(7.2 126.30613)scale(0.1 -0.1)\">\r\n       <use xlink:href=\"#DejaVuSans-50\"/>\r\n       <use x=\"63.623047\" xlink:href=\"#DejaVuSans-48\"/>\r\n      </g>\r\n     </g>\r\n    </g>\r\n    <g id=\"ytick_6\">\r\n     <g id=\"line2d_10\">\r\n      <g>\r\n       <use style=\"stroke:#000000;stroke-width:0.8;\" x=\"26.925\" xlink:href=\"#maa68843a71\" y=\"150.383834\"/>\r\n      </g>\r\n     </g>\r\n     <g id=\"text_10\">\r\n      <!-- 25 -->\r\n      <g transform=\"translate(7.2 154.183053)scale(0.1 -0.1)\">\r\n       <use xlink:href=\"#DejaVuSans-50\"/>\r\n       <use x=\"63.623047\" xlink:href=\"#DejaVuSans-53\"/>\r\n      </g>\r\n     </g>\r\n    </g>\r\n    <g id=\"ytick_7\">\r\n     <g id=\"line2d_11\">\r\n      <g>\r\n       <use style=\"stroke:#000000;stroke-width:0.8;\" x=\"26.925\" xlink:href=\"#maa68843a71\" y=\"178.260757\"/>\r\n      </g>\r\n     </g>\r\n     <g id=\"text_11\">\r\n      <!-- 30 -->\r\n      <g transform=\"translate(7.2 182.059976)scale(0.1 -0.1)\">\r\n       <use xlink:href=\"#DejaVuSans-51\"/>\r\n       <use x=\"63.623047\" xlink:href=\"#DejaVuSans-48\"/>\r\n      </g>\r\n     </g>\r\n    </g>\r\n    <g id=\"ytick_8\">\r\n     <g id=\"line2d_12\">\r\n      <g>\r\n       <use style=\"stroke:#000000;stroke-width:0.8;\" x=\"26.925\" xlink:href=\"#maa68843a71\" y=\"206.13768\"/>\r\n      </g>\r\n     </g>\r\n     <g id=\"text_12\">\r\n      <!-- 35 -->\r\n      <g transform=\"translate(7.2 209.936899)scale(0.1 -0.1)\">\r\n       <use xlink:href=\"#DejaVuSans-51\"/>\r\n       <use x=\"63.623047\" xlink:href=\"#DejaVuSans-53\"/>\r\n      </g>\r\n     </g>\r\n    </g>\r\n   </g>\r\n   <g id=\"patch_3\">\r\n    <path d=\"M 26.925 225.651526 \r\nL 26.925 8.211526 \r\n\" style=\"fill:none;stroke:#000000;stroke-linecap:square;stroke-linejoin:miter;stroke-width:0.8;\"/>\r\n   </g>\r\n   <g id=\"patch_4\">\r\n    <path d=\"M 244.365 225.651526 \r\nL 244.365 8.211526 \r\n\" style=\"fill:none;stroke:#000000;stroke-linecap:square;stroke-linejoin:miter;stroke-width:0.8;\"/>\r\n   </g>\r\n   <g id=\"patch_5\">\r\n    <path d=\"M 26.925 225.651526 \r\nL 244.365 225.651526 \r\n\" style=\"fill:none;stroke:#000000;stroke-linecap:square;stroke-linejoin:miter;stroke-width:0.8;\"/>\r\n   </g>\r\n   <g id=\"patch_6\">\r\n    <path d=\"M 26.925 8.211526 \r\nL 244.365 8.211526 \r\n\" style=\"fill:none;stroke:#000000;stroke-linecap:square;stroke-linejoin:miter;stroke-width:0.8;\"/>\r\n   </g>\r\n  </g>\r\n </g>\r\n <defs>\r\n  <clipPath id=\"p02dc6ab49a\">\r\n   <rect height=\"217.44\" width=\"217.44\" x=\"26.925\" y=\"8.211526\"/>\r\n  </clipPath>\r\n </defs>\r\n</svg>\r\n",
      "text/plain": "<Figure size 432x288 with 1 Axes>"
     },
     "metadata": {
      "needs_background": "light"
     },
     "output_type": "display_data"
    }
   ],
   "source": [
    "pic = np.zeros(np.product(dim.range)).reshape(dim.range)\n",
    "# no need to draw the walls, consider them 0\n",
    "pic[tuple(zip(*disc))] = dis # list needs to be converted by\n",
    "pic[pic==0] = np.nan\n",
    "# index in multidemensional indexing\n",
    "pic[(-14-dim.min[0],-16-dim.min[1])]=0\n",
    "pic[(dim.min[0],dim.min[1])]=0\n",
    "plt.imshow(pic)"
   ]
  },
  {
   "cell_type": "code",
   "execution_count": null,
   "metadata": {},
   "outputs": [],
   "source": [
    "import numpy as np\n",
    "from matplotlib import pyplot as plt\n",
    "\n",
    "x, y = zip(*maze.keys())\n",
    "xmin, xmax = min(x), max(x)\n",
    "ymin, ymax = min(y), max(y)\n",
    "rows = ymax - ymin + 1\n",
    "cols = xmax - xmin + 1\n",
    "Z = np.zeros((rows, cols))\n",
    "for row in range(rows):\n",
    "    for col in range(cols):\n",
    "        x, y = col + xmin, ymax - row\n",
    "        Z[row, col] = distances[(x, y)] if maze[(x, y)] > 0 else np.nan\n",
    "plt.imshow(Z)\n",
    "plt.colorbar()\n",
    "plt.show()"
   ]
  }
 ]
}