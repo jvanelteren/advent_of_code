{
 "nbformat": 4,
 "nbformat_minor": 2,
 "metadata": {
  "language_info": {
   "name": "python",
   "codemirror_mode": {
    "name": "ipython",
    "version": 3
   },
   "version": "3.7.3"
  },
  "orig_nbformat": 2,
  "file_extension": ".py",
  "mimetype": "text/x-python",
  "name": "python",
  "npconvert_exporter": "python",
  "pygments_lexer": "ipython3",
  "version": 3
 },
 "cells": [
  {
   "cell_type": "code",
   "execution_count": 30,
   "metadata": {},
   "outputs": [],
   "source": [
    "import numpy as np\n",
    "input = range(178416,676461)"
   ]
  },
  {
   "cell_type": "code",
   "execution_count": 31,
   "metadata": {},
   "outputs": [
    {
     "data": {
      "text/plain": "1650"
     },
     "execution_count": 31,
     "metadata": {},
     "output_type": "execute_result"
    }
   ],
   "source": [
    "def asc(i,j):\n",
    "    if j>=i: return True\n",
    "    else: return False\n",
    "\n",
    "def same(i,j):\n",
    "    if j==i: return True\n",
    "    else: return False\n",
    "\n",
    "def determine_ok(password):  \n",
    "    a = [asc(x,y) for x,y in zip(password,password[1:])]\n",
    "    b = [same(x,y) for x,y in zip(password,password[1:])]\n",
    "    return all([all(a),any(b)])\n",
    "\n",
    "res = [determine_ok(str(i)) for i in input]\n",
    "sum(res)"
   ]
  },
  {
   "cell_type": "code",
   "execution_count": 32,
   "metadata": {},
   "outputs": [
    {
     "data": {
      "text/plain": "1129"
     },
     "execution_count": 32,
     "metadata": {},
     "output_type": "execute_result"
    }
   ],
   "source": [
    "ans = 0\n",
    "for s in input:\n",
    "    x = str(s)\n",
    "    if any(d*2 in x and d*3 not in x for d in '0123456789') and all(l<=r for l,r in zip(x[::], x[1::])):\n",
    "        ans += 1\n",
    "ans"
   ]
  }
 ]
}