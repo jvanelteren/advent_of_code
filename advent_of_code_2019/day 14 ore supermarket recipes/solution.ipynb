{
 "nbformat": 4,
 "nbformat_minor": 2,
 "metadata": {
  "language_info": {
   "name": "python",
   "codemirror_mode": {
    "name": "ipython",
    "version": 3
   },
   "version": "3.7.3"
  },
  "orig_nbformat": 2,
  "file_extension": ".py",
  "mimetype": "text/x-python",
  "name": "python",
  "npconvert_exporter": "python",
  "pygments_lexer": "ipython3",
  "version": 3
 },
 "cells": [
  {
   "cell_type": "code",
   "execution_count": 5,
   "metadata": {},
   "outputs": [],
   "source": [
    "from collections import defaultdict\n",
    "import math\n",
    "f=open('input.txt') #not with read because thats probably the whole file\n",
    "lines = [line.rstrip('\\n') for line in f]\n",
    "cook = [[[j.split() for j in i.split(\", \")] for i in line.split(' => ')] for line in lines]\n",
    "cook = {c[1][0][1]: {'out':c[1][0][0], 'in': {i[1]:i[0] for i in c[0]}} for c in cook}"
   ]
  },
  {
   "cell_type": "code",
   "execution_count": 7,
   "metadata": {},
   "outputs": [
    {
     "name": "stdout",
     "output_type": "stream",
     "text": "part 1 899155\npart 2, 2390226,  0.999999853464\n"
    }
   ],
   "source": [
    "def cooking(needed,have,consumed):\n",
    "    while needed:\n",
    "        add_ing, add_amount = x,y = needed.popitem()\n",
    "        materials = cook[add_ing]['in']\n",
    "        out_amount = int(cook[add_ing]['out'])\n",
    "        multiplier = math.ceil(add_amount/out_amount)\n",
    "        rest = multiplier * out_amount - add_amount\n",
    "        for k,v in materials.items():\n",
    "            consumed[k]+=multiplier*int(v)\n",
    "            if k=='ORE': # if its ore then just add it to have\n",
    "                pass\n",
    "            elif have[k]>= multiplier*int(v): #you have enough\n",
    "                have[k]-= multiplier*int(v)\n",
    "            else: # add to the needs\n",
    "                new_need = multiplier*int(v) - have[k]\n",
    "                have[k] = 0\n",
    "                needed[k]+=new_need  \n",
    "        if rest>0:\n",
    "            have[add_ing]+=rest      \n",
    "    return\n",
    "\n",
    "have = defaultdict(int)\n",
    "consumed = defaultdict(int)\n",
    "for i in range(1):\n",
    "    needed = defaultdict(int)\n",
    "    needed['FUEL'] = 1\n",
    "    cooking(needed,have,consumed)\n",
    "print('part 1',consumed['ORE'])\n",
    "\n",
    "#part 2\n",
    "have = defaultdict(int)\n",
    "consumed = defaultdict(int)\n",
    "for i in range(1):\n",
    "    needed = defaultdict(int)\n",
    "    needed['FUEL'] = 2390226\n",
    "    cooking(needed,have,consumed)\n",
    "print('part 2, 2390226, ',consumed['ORE']/1000000000000)"
   ]
  },
  {
   "cell_type": "code",
   "execution_count": null,
   "metadata": {},
   "outputs": [],
   "source": []
  }
 ]
}