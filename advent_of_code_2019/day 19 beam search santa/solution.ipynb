{
 "nbformat": 4,
 "nbformat_minor": 2,
 "metadata": {
  "language_info": {
   "name": "python",
   "codemirror_mode": {
    "name": "ipython",
    "version": 3
   },
   "version": "3.7.3"
  },
  "orig_nbformat": 2,
  "file_extension": ".py",
  "mimetype": "text/x-python",
  "name": "python",
  "npconvert_exporter": "python",
  "pygments_lexer": "ipython3",
  "version": 3
 },
 "cells": [
  {
   "cell_type": "code",
   "execution_count": 3,
   "metadata": {},
   "outputs": [],
   "source": [
    "from computerrefractored import Computer\n",
    "noun, verb = 0,0\n",
    "f=open('input.txt').read()\n",
    "memory = tuple(int(i) for i in f.split(',')) # let's make it immutable as a tuple\n",
    "memsize = 100000\n",
    "memory = tuple(list(memory)+[0]*memsize)"
   ]
  },
  {
   "cell_type": "code",
   "execution_count": 4,
   "metadata": {},
   "outputs": [
    {
     "data": {
      "text/plain": "110"
     },
     "execution_count": 4,
     "metadata": {},
     "output_type": "execute_result"
    }
   ],
   "source": [
    "# part1\n",
    "beam = []\n",
    "for x in range(50):\n",
    "    for y in range(50):\n",
    "        c = Computer(list(memory),noun,verb,[1])\n",
    "        c.input = [x,y]\n",
    "        res = c.run()\n",
    "        beam.append(res)\n",
    "sum(beam)"
   ]
  },
  {
   "cell_type": "code",
   "execution_count": 8,
   "metadata": {},
   "outputs": [],
   "source": [
    "def get_value(x,y):\n",
    "    c = Computer(list(memory),noun,verb,[1])\n",
    "    c.input = [x,y]\n",
    "    return c.run()  \n",
    "\n",
    "def is_solution(x,y):\n",
    "    if get_value(x,y) and get_value(x,y-99) and get_value(x+99,y-99) and get_value(x+99,y):\n",
    "        print(f'solution found, x {x},y {y}, answer {x*10000+y-99}') \n",
    "        return True\n",
    "    return False\n",
    "\n",
    "dy = 0.799900789 # manually determined by checking bottom row\n",
    "def findlo(start,dy):\n",
    "    safety= 10\n",
    "    for i in range(int(start*dy-safety),int(start*dy+safety)):\n",
    "        if get_value(i,start):\n",
    "            return i,start"
   ]
  },
  {
   "cell_type": "code",
   "execution_count": 9,
   "metadata": {},
   "outputs": [
    {
     "name": "stdout",
     "output_type": "stream",
     "text": "solution found, x 399980,y 500050, answer 4000299951\nsolution found, x 200024,y 250074, answer 2000489975\nsolution found, x 100046,y 125086, answer 1000584987\nsolution found, x 50057,y 62592, answer 500632493\nsolution found, x 25062,y 31345, answer 250651246\nsolution found, x 12568,y 15722, answer 125695623\nsolution found, x 6323,y 7910, answer 63237811\nsolution found, x 3201,y 4004, answer 32013905\nsolution found, x 2420,y 3027, answer 24202928\nsolution found, x 2030,y 2539, answer 20302440\nsolution found, x 1835,y 2295, answer 18352196\nsolution found, x 1738,y 2173, answer 17382074\nsolution found, x 1731,y 2165, answer 17312066\nsolution found, x 1730,y 2164, answer 17302065\n"
    }
   ],
   "source": [
    "minim = 100\n",
    "maxim = 1000000\n",
    "while True:\n",
    "    newy = (minim+maxim)//2\n",
    "    x,y = findlo(newy,dy)\n",
    "    if is_solution(x,y):\n",
    "        if newy == maxim: break\n",
    "        maxim= newy-1\n",
    "    else: minim=newy+1"
   ]
  },
  {
   "cell_type": "code",
   "execution_count": null,
   "metadata": {},
   "outputs": [],
   "source": []
  }
 ]
}