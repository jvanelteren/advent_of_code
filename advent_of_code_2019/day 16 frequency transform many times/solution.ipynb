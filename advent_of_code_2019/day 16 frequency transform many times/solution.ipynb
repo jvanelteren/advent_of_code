{
 "nbformat": 4,
 "nbformat_minor": 2,
 "metadata": {
  "language_info": {
   "name": "python",
   "codemirror_mode": {
    "name": "ipython",
    "version": 3
   },
   "version": "3.7.3"
  },
  "orig_nbformat": 2,
  "file_extension": ".py",
  "mimetype": "text/x-python",
  "name": "python",
  "npconvert_exporter": "python",
  "pygments_lexer": "ipython3",
  "version": 3
 },
 "cells": [
  {
   "cell_type": "code",
   "execution_count": 10,
   "metadata": {},
   "outputs": [
    {
     "name": "stdout",
     "output_type": "stream",
     "text": "[2, 2, 1, 2, 2, 8, 1, 6]\n"
    }
   ],
   "source": [
    "# original part 1 took about 18 seconds\n",
    "import numpy as np\n",
    "pattern = [0,1,0,-1]\n",
    "f=open('input.txt').read()\n",
    "inp = np.array([int(i) for i in list(f)])\n",
    "\n",
    "def getmultiplier(p,i):\n",
    "    return (i+1)//(p)%4\n",
    "\n",
    "def getpattern(p):\n",
    "    return [pattern[getmultiplier(p,i)] for i,v in enumerate(inp)]\n",
    "\n",
    "patterns = np.array([getpattern(p) for p in range(1,len(inp)+1)])\n",
    "rounds = 100\n",
    "for r in range(rounds): # number of rounds of FFT\n",
    "    inp = [abs(np.sum(inp*patterns[p]))%10 for p in range(650)]\n",
    "print (inp[:8])"
   ]
  },
  {
   "cell_type": "code",
   "execution_count": 40,
   "metadata": {},
   "outputs": [
    {
     "name": "stdout",
     "output_type": "stream",
     "text": "[2. 2. 1. 2. 2. 8. 1. 6.]\n"
    }
   ],
   "source": [
    "# improved day 1, was 3 seconds but still wayy to slow \n",
    "import numpy as np\n",
    "phases = range(1,3)\n",
    "pattern = np.array([0,1,0,-1])\n",
    "f=open('input.txt').read()\n",
    "inp = np.array([int(i) for i in list(f)])\n",
    "inp = np.tile(inp,1)\n",
    "\n",
    "def getpattern(p):\n",
    "    return [pattern[(i+1)//(p)%4] for i in range(len(inp))]\n",
    "\n",
    "patterns = np.array([getpattern(p) for p in range(1,len(inp)+1)]) # .astype(int)\n",
    "rounds = 100\n",
    "for r in range(rounds): # number of rounds of FFT\n",
    "    one = inp+np.zeros((len(inp),len(inp)))\n",
    "    inp = np.abs(np.sum(patterns * one,axis=1))%10\n",
    "print(inp[:8])"
   ]
  },
  {
   "cell_type": "code",
   "execution_count": 13,
   "metadata": {},
   "outputs": [],
   "source": [
    "# part 2\n",
    "def calculatenext(inp):\n",
    "  startvalue = np.sum(inp)%10 # the first number of the array\n",
    "  oldprevious = inp[0]\n",
    "  inp[0]= startvalue\n",
    "  for i in range(1,len(inp)):\n",
    "    newprevious=inp[i]\n",
    "    inp[i] = (startvalue-oldprevious)%10\n",
    "    startvalue = inp[i]\n",
    "    oldprevious=newprevious\n",
    "  return inp"
   ]
  },
  {
   "cell_type": "code",
   "execution_count": 22,
   "metadata": {},
   "outputs": [
    {
     "name": "stdout",
     "output_type": "stream",
     "text": "5975483\n"
    }
   ],
   "source": [
    "f=open('input.txt').read()\n",
    "original = [int(i) for i in list(f)]\n",
    "offset = original[:7]\n",
    "newoffset = ''.join([str(o) for o in offset])\n",
    "print(newoffset)\n",
    "newoffset = int(newoffset)"
   ]
  },
  {
   "cell_type": "code",
   "execution_count": 23,
   "metadata": {},
   "outputs": [
    {
     "name": "stdout",
     "output_type": "stream",
     "text": "[4 1 4 0 2 1 7 1 7]\n"
    }
   ],
   "source": [
    "inp = np.array([int(i) for i in list(f)])\n",
    "inp = np.tile(inp,10000)[newoffset:]\n",
    "for i in range(100): inp = calculatenext(inp)"
   ]
  },
  {
   "cell_type": "code",
   "execution_count": 28,
   "metadata": {},
   "outputs": [
    {
     "name": "stdout",
     "output_type": "stream",
     "text": "41402171\n"
    }
   ],
   "source": [
    "print (''.join(inp[:8].astype(str)))"
   ]
  }
 ]
}