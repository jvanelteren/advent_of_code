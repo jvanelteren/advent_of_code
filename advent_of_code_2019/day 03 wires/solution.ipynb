{
 "nbformat": 4,
 "nbformat_minor": 2,
 "metadata": {
  "language_info": {
   "name": "python",
   "codemirror_mode": {
    "name": "ipython",
    "version": 3
   },
   "version": "3.7.3"
  },
  "orig_nbformat": 2,
  "file_extension": ".py",
  "mimetype": "text/x-python",
  "name": "python",
  "npconvert_exporter": "python",
  "pygments_lexer": "ipython3",
  "version": 3
 },
 "cells": [
  {
   "cell_type": "code",
   "execution_count": 307,
   "metadata": {},
   "outputs": [],
   "source": [
    "import numpy as np\n",
    "import copy\n",
    "f=open('input.txt')\n",
    "lines = [line.rstrip('\\n') for line in f]"
   ]
  },
  {
   "cell_type": "code",
   "execution_count": 308,
   "metadata": {},
   "outputs": [],
   "source": [
    "def conv_coordinate(instruction):\n",
    "    if instruction[0] == 'U': return (instruction[1],0)\n",
    "    if instruction[0] == 'D': return (-instruction[1],0)\n",
    "    if instruction[0] == 'R': return (0,instruction[1])\n",
    "    if instruction[0] == 'L': return (0,-instruction[1])\n",
    "\n",
    "wires = [l.split(',') for l in lines]\n",
    "wires[0] = [conv_coordinate((s[0],int(s[1:]))) for s in wires[0]]\n",
    "wires[1] = [conv_coordinate((s[0],int(s[1:]))) for s in wires[1]]"
   ]
  },
  {
   "cell_type": "code",
   "execution_count": 309,
   "metadata": {},
   "outputs": [],
   "source": [
    "def counter(wire): # to explore extremes of the grid\n",
    "    lr = np.array([0,0])\n",
    "    ud = np.array([0,0])\n",
    "    point=np.array([0,0])\n",
    "    for m in wire:\n",
    "        point = point+m\n",
    "        if point[1] < lr[0]: lr[0] = point[1]\n",
    "        if point[1] > lr[1]: lr[1] = point[1]\n",
    "        if point[0] < ud[0]: ud[0] = point[0]\n",
    "        if point[0] > ud[1]: ud[1] = point[0]\n",
    "    return lr,ud "
   ]
  },
  {
   "cell_type": "code",
   "execution_count": 310,
   "metadata": {},
   "outputs": [],
   "source": [
    "\n",
    "def draw_wire(grid, wire,point):\n",
    "    # print(wire)\n",
    "    for s in wire:\n",
    "        # print((grid))\n",
    "        new = point + s\n",
    "        # print(point,new)\n",
    "        # print(slice(min(point[0],new[0]),max(point[0],new[0])+1),slice(min(point[1],new[1]),max(point[1],new[1])+1))\n",
    "        grid[min(point[0],new[0]):max(point[0],new[0])+1,min(point[1],new[1]):max(point[1],new[1])+1]=1\n",
    "        point = copy.deepcopy(new)\n",
    "    return grid"
   ]
  },
  {
   "cell_type": "code",
   "execution_count": 311,
   "metadata": {},
   "outputs": [
    {
     "name": "stdout",
     "output_type": "stream",
     "text": "minmax -7032 1776 -9369 3272\n"
    }
   ],
   "source": [
    "coor = [counter(w) for w in wires] \n",
    "mind = min(coor[0][1][0],coor[1][1][0])-2\n",
    "maxu = max(coor[0][1][1],coor[1][1][1])+2\n",
    "minl = min(coor[0][0][0],coor[1][0][0])-2\n",
    "maxr = max(coor[0][0][1],coor[1][0][1])+2\n",
    "print('minmax',mind,maxu,minl,maxr)\n",
    "\n",
    "start = np.array([-mind-1,-minl-1])\n",
    "\n",
    "grids = [draw_wire(np.zeros((maxu-mind,maxr-minl)),w,start) for w in wires]\n"
   ]
  },
  {
   "cell_type": "code",
   "execution_count": 312,
   "metadata": {},
   "outputs": [],
   "source": [
    "def manhattan(x,y):\n",
    "    return abs(x[0]-y[0])+abs(x[1]-y[1])"
   ]
  },
  {
   "cell_type": "code",
   "execution_count": 325,
   "metadata": {},
   "outputs": [
    {
     "data": {
      "text/plain": "352"
     },
     "execution_count": 325,
     "metadata": {},
     "output_type": "execute_result"
    }
   ],
   "source": [
    "totalgrid = np.multiply(grids[0],grids[1])\n",
    "cuts = np.argwhere(totalgrid==1)\n",
    "distances = [manhattan(start,c) for c in cuts]\n",
    "distances.sort()\n",
    "distances[1]"
   ]
  },
  {
   "cell_type": "code",
   "execution_count": 315,
   "metadata": {},
   "outputs": [],
   "source": [
    "// part 2\n",
    "def draw_count_wire(grid, wire,point):\n",
    "    count = 0\n",
    "    for s in wire:\n",
    "\n",
    "        new = point + s\n",
    "        distance = manhattan(point,new)\n",
    "        # print(f'c{count},d{distance}')\n",
    "        # print(point,new)\n",
    "        # print(min(point[0],new[0]):max(point[0],new[0])+1,min(point[1],new[1]):max(point[1],new[1])+1)\n",
    "        if new[0]<point[0] or new[1]<point[1]: \n",
    "            # print('rev')\n",
    "            dis = range(count+distance,count-1,-1)\n",
    "        else: dis = range(count,count+distance+1)\n",
    "        if abs(point[0]-new[0])==0:steps = np.array(dis)[None] \n",
    "        else:  steps = np.array(dis)[None].T\n",
    "        \n",
    "        grid[min(point[0],new[0]):max(point[0],new[0])+1,min(point[1],new[1]):max(point[1],new[1])+1]=steps\n",
    "        count += distance\n",
    "        point = copy.deepcopy(new)\n",
    "        # print((np.flip(grid,axis=0)))\n",
    "    return grid"
   ]
  },
  {
   "cell_type": "code",
   "execution_count": 316,
   "metadata": {},
   "outputs": [],
   "source": [
    "countgrids = [draw_count_wire(np.zeros((maxu-mind,maxr-minl)),w,start) for w in wires]"
   ]
  },
  {
   "cell_type": "code",
   "execution_count": 317,
   "metadata": {},
   "outputs": [],
   "source": [
    "sumsteps = countgrids[0]+countgrids[1]\n",
    "cuts = np.argwhere(totalgrid==1)"
   ]
  },
  {
   "cell_type": "code",
   "execution_count": 318,
   "metadata": {},
   "outputs": [],
   "source": [
    "distances = [sumsteps[tuple(c)] for c in cuts]"
   ]
  },
  {
   "cell_type": "code",
   "execution_count": 319,
   "metadata": {},
   "outputs": [],
   "source": [
    "distances.sort()"
   ]
  },
  {
   "cell_type": "code",
   "execution_count": 322,
   "metadata": {},
   "outputs": [
    {
     "data": {
      "text/plain": "43848.0"
     },
     "execution_count": 322,
     "metadata": {},
     "output_type": "execute_result"
    }
   ],
   "source": [
    "distances[1]"
   ]
  },
  {
   "cell_type": "code",
   "execution_count": null,
   "metadata": {},
   "outputs": [],
   "source": []
  }
 ]
}