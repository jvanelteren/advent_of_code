{
 "nbformat": 4,
 "nbformat_minor": 2,
 "metadata": {
  "language_info": {
   "name": "python",
   "codemirror_mode": {
    "name": "ipython",
    "version": 3
   },
   "version": "3.7.3-final"
  },
  "orig_nbformat": 2,
  "file_extension": ".py",
  "mimetype": "text/x-python",
  "name": "python",
  "npconvert_exporter": "python",
  "pygments_lexer": "ipython3",
  "version": 3,
  "kernelspec": {
   "name": "python3",
   "display_name": "Python 3"
  }
 },
 "cells": [
  {
   "cell_type": "code",
   "execution_count": 1,
   "metadata": {},
   "outputs": [],
   "source": [
    "import sys\n",
    "from collections import namedtuple\n",
    "Output = namedtuple('Output',['code', 'noun', 'verb','error'])\n",
    "\n",
    "f=open('input.txt').read()\n",
    "memory = tuple(int(i) for i in f.split(',')) # let's make it immutable as a tuple\n",
    "\n",
    "class Computer:\n",
    "    def __init__(self,code,opcode, noun,verb):\n",
    "        self.code, self.opcode, self.noun, self.verb, self.p = code, opcode, noun, verb, 0\n",
    "    def restoregap(self):\n",
    "        self.code[1] = self.noun\n",
    "        self.code[2] = self.verb\n",
    "    def run(self):\n",
    "        self.restoregap()\n",
    "        while True:\n",
    "            try:\n",
    "                instruction, num_param = self.opcode[self.code[self.p]]\n",
    "                if instruction == exit:\n",
    "                    out = Output(self.code,self.noun,self.verb,None)\n",
    "                    return out\n",
    "                params = self.code[self.p+1:self.p+1+num_param]\n",
    "                res = instruction(*params,self.code)\n",
    "                self.code[res[1]]=res[0]\n",
    "                self.p += num_param+1\n",
    "            except Exception as e: \n",
    "                out = Output(self.code, self.noun,self.verb,error)\n",
    "                return out"
   ]
  },
  {
   "cell_type": "code",
   "execution_count": null,
   "metadata": {},
   "outputs": [],
   "source": []
  },
  {
   "cell_type": "code",
   "execution_count": 21,
   "metadata": {},
   "outputs": [],
   "source": [
    "def sum(x,y,z,code): return code[x]+code[y],z\n",
    "def multiply(x,y,z,code): return code[x]*code[y],z\n",
    "\n",
    "opcode = {  1:(sum,3),\n",
    "            2:(multiply,3),\n",
    "            99:(exit,0)}"
   ]
  },
  {
   "cell_type": "code",
   "execution_count": 23,
   "metadata": {},
   "outputs": [
    {
     "name": "stdout",
     "output_type": "stream",
     "text": "4714701\n5121\n"
    },
    {
     "ename": "SystemExit",
     "evalue": "",
     "output_type": "error",
     "traceback": [
      "An exception has occurred, use %tb to see the full traceback.\n",
      "\u001b[1;31mSystemExit\u001b[0m\n"
     ]
    }
   ],
   "source": [
    "# puzzle 1\n",
    "c = Computer(list(memory),opcode,12,2)\n",
    "print(c.run().code[0])\n",
    "# puzzle 2\n",
    "for noun in range(100):\n",
    "    for verb in range(100):\n",
    "        res = Computer(list(memory),opcode,noun,verb).run()\n",
    "        if res.code[0]==19690720: \n",
    "            print(res.noun*100+res.verb)\n",
    "            sys.exit()"
   ]
  },
  {
   "cell_type": "code",
   "execution_count": null,
   "metadata": {},
   "outputs": [],
   "source": []
  }
 ]
}