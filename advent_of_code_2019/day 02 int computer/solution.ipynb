{
 "nbformat": 4,
 "nbformat_minor": 2,
 "metadata": {
  "language_info": {
   "name": "python",
   "codemirror_mode": {
    "name": "ipython",
    "version": 3
   },
   "version": "3.7.3"
  },
  "orig_nbformat": 2,
  "file_extension": ".py",
  "mimetype": "text/x-python",
  "name": "python",
  "npconvert_exporter": "python",
  "pygments_lexer": "ipython3",
  "version": 3
 },
 "cells": [
  {
   "cell_type": "code",
   "execution_count": 10,
   "metadata": {},
   "outputs": [
    {
     "name": "stdout",
     "output_type": "stream",
     "text": "4714701\n5121\n"
    },
    {
     "ename": "SystemExit",
     "evalue": "",
     "output_type": "error",
     "traceback": [
      "An exception has occurred, use %tb to see the full traceback.\n",
      "\u001b[1;31mSystemExit\u001b[0m\n"
     ]
    }
   ],
   "source": [
    "import sys\n",
    "from collections import namedtuple\n",
    "Output = namedtuple('Output',['code', 'noun', 'verb','error'])\n",
    "\n",
    "f=open('input.txt').read()\n",
    "memory = tuple(int(i) for i in f.split(',')) # let's make it immutable as a tuple\n",
    "\n",
    "def solve(code,noun,verb):\n",
    "    code = restoregap(code,noun,verb)\n",
    "    p = 0\n",
    "    while True:\n",
    "        try:\n",
    "            instruction, num_param = opcode[code[p]]\n",
    "            if instruction == exit:\n",
    "                out = Output(code,noun,verb,None)\n",
    "                return out\n",
    "            params = code[p+1:p+1+num_param]\n",
    "            res = instruction(*params,code)\n",
    "            code[res[1]]=res[0]\n",
    "            p += num_param+1\n",
    "        except Exception as e: \n",
    "            out = Output(code, noun,verb,error)\n",
    "            return out\n",
    "\n",
    "def sum(x,y,z,code): return code[x]+code[y],z\n",
    "def multiply(x,y,z,code): return code[x]*code[y],z\n",
    "\n",
    "opcode = {  1:(sum,3),\n",
    "            2:(multiply,3),\n",
    "            99:(exit,0)}\n",
    "\n",
    "def restoregap(code,noun,verb):\n",
    "    code[1]=noun\n",
    "    code[2]=verb\n",
    "    return code\n",
    "\n",
    "# puzzle 1\n",
    "print(solve(list(memory),12,2).code[0])\n",
    "\n",
    "# puzzle 2\n",
    "for noun in range(100):\n",
    "    for verb in range(100):\n",
    "        res = solve(list(memory),noun,verb)\n",
    "        if res.code[0]==19690720: \n",
    "            print(res.noun*100+res.verb)\n",
    "            sys.exit()"
   ]
  },
  {
   "cell_type": "code",
   "execution_count": null,
   "metadata": {},
   "outputs": [],
   "source": []
  }
 ]
}