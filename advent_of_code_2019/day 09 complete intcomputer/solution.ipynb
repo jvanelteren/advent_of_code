{
 "cells": [
  {
   "cell_type": "code",
   "execution_count": 3,
   "metadata": {
    "Collapsed": "false"
   },
   "outputs": [],
   "source": [
    "# ms-python.python added\n",
    "import os\n",
    "try:\n",
    "\tos.chdir(os.path.join(os.getcwd(), 'day 09'))\n",
    "\tprint(os.getcwd())\n",
    "except:\n",
    "\tpass"
   ]
  },
  {
   "cell_type": "code",
   "execution_count": 7,
   "metadata": {
    "Collapsed": "false"
   },
   "outputs": [
    {
     "name": "stdout",
     "output_type": "stream",
     "text": [
      "The autoreload extension is already loaded. To reload it, use:\n",
      "  %reload_ext autoreload\n"
     ]
    }
   ],
   "source": [
    "from computerrefractored import Computer\n",
    "import copy\n",
    "%load_ext autoreload\n",
    "%autoreload 2"
   ]
  },
  {
   "cell_type": "code",
   "execution_count": 32,
   "metadata": {
    "Collapsed": "false"
   },
   "outputs": [
    {
     "name": "stdout",
     "output_type": "stream",
     "text": [
      "2932210790\n",
      "opcode 99 computer finished\n"
     ]
    },
    {
     "data": {
      "text/plain": [
       "'ending execution'"
      ]
     },
     "execution_count": 32,
     "metadata": {},
     "output_type": "execute_result"
    }
   ],
   "source": [
    "noun, verb = 0,0\n",
    "f=open('input.txt').read()\n",
    "memory = tuple(int(i) for i in f.split(',')) # let's make it immutable as a tuple\n",
    "memsize = 100000\n",
    "memory = tuple(list(memory)+[0]*memsize)\n",
    "c = Computer(list(memory),noun,verb,[1])\n",
    "c.run()\n",
    "c.run()"
   ]
  },
  {
   "cell_type": "code",
   "execution_count": 37,
   "metadata": {
    "Collapsed": "false"
   },
   "outputs": [
    {
     "name": "stdout",
     "output_type": "stream",
     "text": [
      "The line_profiler extension is already loaded. To reload it, use:\n",
      "  %reload_ext line_profiler\n",
      "73144\n"
     ]
    },
    {
     "data": {
      "text/plain": [
       "Timer unit: 1e-07 s\n",
       "\n",
       "Total time: 7.4612 s\n",
       "File: C:\\Users\\Jesse\\Documents\\GitHub\\advent_of_code_2019\\day 09 complete intcomputer\\computerrefractored.py\n",
       "Function: run at line 66\n",
       "\n",
       "Line #      Hits         Time  Per Hit   % Time  Line Contents\n",
       "==============================================================\n",
       "    66                                               def run(self):\n",
       "    67                                                   # self.restoregap() skip this step for day 5\n",
       "    68    371205    3914680.0     10.5      5.2          while self.running:\n",
       "    69    371205    3501600.0      9.4      4.7              try:\n",
       "    70    371205    4806423.0     12.9      6.4                  op = self.code[self.p] % 100\n",
       "    71    371205    4552515.0     12.3      6.1                  instruction, num_param = self.opcode[op]\n",
       "    72    371205    7336380.0     19.8      9.8                  parameters = str(self.code[self.p])[-3::-1]\n",
       "    73    371205    8688615.0     23.4     11.6                  indices = [*range(self.p+1, self.p+1+num_param)]\n",
       "    74    371205   10100208.0     27.2     13.5                  parameters = self.parametermodes(indices,parameters)\n",
       "    75    371205   26310711.0     70.9     35.3                  if instruction(indices,parameters): return\n",
       "    76    371204    5400888.0     14.5      7.2                  self.p += num_param+1\n",
       "    77                                                       except Exception as e:\n",
       "    78                                                           print('error',e)\n",
       "    79                                                           return\n",
       "    80                                                   return  'ending execution'"
      ]
     },
     "metadata": {},
     "output_type": "display_data"
    }
   ],
   "source": [
    "c = Computer(list(memory),noun,verb,[2])\n",
    "%load_ext line_profiler\n",
    "%lprun -f c.run c.run()"
   ]
  },
  {
   "cell_type": "code",
   "execution_count": null,
   "metadata": {
    "Collapsed": "false"
   },
   "outputs": [],
   "source": []
  }
 ],
 "metadata": {
  "file_extension": ".py",
  "kernelspec": {
   "display_name": "Python 3",
   "language": "python",
   "name": "python3"
  },
  "language_info": {
   "codemirror_mode": {
    "name": "ipython",
    "version": 3
   },
   "file_extension": ".py",
   "mimetype": "text/x-python",
   "name": "python",
   "nbconvert_exporter": "python",
   "pygments_lexer": "ipython3",
   "version": "3.7.3"
  },
  "mimetype": "text/x-python",
  "name": "python",
  "npconvert_exporter": "python",
  "pygments_lexer": "ipython3",
  "version": 3
 },
 "nbformat": 4,
 "nbformat_minor": 4
}
