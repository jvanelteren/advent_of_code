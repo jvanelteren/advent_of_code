{
 "nbformat": 4,
 "nbformat_minor": 2,
 "metadata": {
  "language_info": {
   "name": "python",
   "codemirror_mode": {
    "name": "ipython",
    "version": 3
   },
   "version": "3.7.3"
  },
  "orig_nbformat": 2,
  "file_extension": ".py",
  "mimetype": "text/x-python",
  "name": "python",
  "npconvert_exporter": "python",
  "pygments_lexer": "ipython3",
  "version": 3
 },
 "cells": [
  {
   "cell_type": "code",
   "execution_count": 1,
   "metadata": {},
   "outputs": [],
   "source": [
    "import numpy as np\n",
    "import networkx as nx\n",
    "import string\n",
    "\n",
    "f=open('input.txt') #not with read because thats probably the whole file\n",
    "lines = [list(line.rstrip('\\n')) for line in f]\n",
    "grid = np.array(lines)\n",
    "\n",
    "def getneigh(i): # to determine neighboring cells\n",
    "  res = []\n",
    "  if (i[0],i[1]+1) in locations: res.append((i,(i[0],i[1]+1)))\n",
    "  if (i[0],i[1]-1) in locations: res.append((i,(i[0],i[1]-1)))\n",
    "  if (i[0]+1,i[1]) in locations: res.append((i,(i[0]+1,i[1])))\n",
    "  if (i[0]-1,i[1]) in locations: res.append((i,(i[0]-1,i[1])))\n",
    "  return res\n",
    "\n",
    "def innerrouter(input):\n",
    "    if input[0]<2 or input[0]>grid.shape[0]-3 or input[1]<2 or input[1]>grid.shape[1]-3:\n",
    "        return -1\n",
    "    else: return 1\n",
    "\n",
    "def getneighportals(i):\n",
    "  if (i[0],i[1]+1) in portals.keys(): return {grid[(i[0],i[1]+1)],grid[(i[0],i[1]+2)]},innerrouter((i[0],i[1]+1))\n",
    "  if (i[0],i[1]-1) in portals.keys(): return {grid[(i[0],i[1]-1)],grid[(i[0],i[1]-2)]},innerrouter((i[0],i[1]-1))\n",
    "  if (i[0]+1,i[1]) in portals.keys(): return {grid[(i[0]+1,i[1])],grid[(i[0]+2,i[1])]},innerrouter((i[0]+1,i[1]))\n",
    "  if (i[0]-1,i[1]) in portals.keys(): return {grid[(i[0]-1,i[1])],grid[(i[0]-2,i[1])]},innerrouter((i[0]-1,i[1]))\n",
    "\n",
    "locations = {tuple(i)  for i in np.argwhere(grid=='.')}\n",
    "portals = np.argwhere(np.isin(grid, list(string.ascii_uppercase)))\n",
    "portals = {tuple(p): grid[tuple(p)] for p in portals}\n",
    "adj_to_portal = {l: getneighportals(l) for l in locations if getneighportals(l)}\n",
    "\n",
    "for k,v in adj_to_portal.items():\n",
    "    if len(v[0])==1:\n",
    "        if 'A' in v[0]: start = k\n",
    "        if 'Z' in v[0]: end = k"
   ]
  },
  {
   "cell_type": "code",
   "execution_count": 2,
   "metadata": {},
   "outputs": [
    {
     "data": {
      "text/plain": "522"
     },
     "execution_count": 2,
     "metadata": {},
     "output_type": "execute_result"
    }
   ],
   "source": [
    "g = nx.Graph()\n",
    "g.add_nodes_from(locations)\n",
    "for a in locations: # for each location (without the doors)\n",
    "    g.add_edges_from(getneigh(a))\n",
    "\n",
    "count = 0\n",
    "for k,v in adj_to_portal.items():\n",
    "    if v[0]!={'A'} and v[0]!={'Z'}:\n",
    "        for l,w in adj_to_portal.items():\n",
    "            if v[0]==w[0] and k!=l:\n",
    "                # print(k,l)\n",
    "                count+=1\n",
    "                g.add_edge(k,l)\n",
    "nx.shortest_path_length(g,start,end)"
   ]
  },
  {
   "cell_type": "code",
   "execution_count": 3,
   "metadata": {},
   "outputs": [
    {
     "data": {
      "text/plain": "6300"
     },
     "execution_count": 3,
     "metadata": {},
     "output_type": "execute_result"
    }
   ],
   "source": [
    "# part2\n",
    "def getneigh(inp):\n",
    "  res = []\n",
    "  i = inp[0]\n",
    "  if (i[0],i[1]+1) in locations: res.append((inp,((i[0],i[1]+1),inp[1])))\n",
    "  if (i[0],i[1]-1) in locations: res.append((inp,((i[0],i[1]-1),inp[1])))\n",
    "  if (i[0]+1,i[1]) in locations: res.append((inp,((i[0]+1,i[1]),inp[1])))\n",
    "  if (i[0]-1,i[1]) in locations: res.append((inp,((i[0]-1,i[1]),inp[1])))\n",
    "  return res\n",
    "\n",
    "def getneighportals(inp,layer):\n",
    "    i = inp[0]\n",
    "    if (i[0],i[1]+1) in portals.keys(): return {grid[(i[0],i[1]+1)],grid[(i[0],i[1]+2)]},layer+innerrouter((i[0],i[1]+1))\n",
    "    if (i[0],i[1]-1) in portals.keys(): return {grid[(i[0],i[1]-1)],grid[(i[0],i[1]-2)]},layer+innerrouter((i[0],i[1]-1))\n",
    "    if (i[0]+1,i[1]) in portals.keys(): return {grid[(i[0]+1,i[1])],grid[(i[0]+2,i[1])]},layer+innerrouter((i[0]+1,i[1]))\n",
    "    if (i[0]-1,i[1]) in portals.keys(): return {grid[(i[0]-1,i[1])],grid[(i[0]-2,i[1])]},layer+innerrouter((i[0]-1,i[1]))\n",
    "\n",
    "layerlocations = [(x[0],0) for x in zip(locations)]\n",
    "adj_to_portal = {l: getneighportals(l,0) for l in layerlocations if getneighportals(l,0)}\n",
    "for k,v in adj_to_portal.items():\n",
    "    if len(v[0])==1:\n",
    "        if 'A' in v[0]: start = k\n",
    "        if 'Z' in v[0]: end = k\n",
    "        \n",
    "g = nx.DiGraph()\n",
    "numlayers = 30\n",
    "for layer in range(numlayers):\n",
    "    layerlocations = [(x[0],layer) for x in zip(locations)]\n",
    "    # print(layerlocations)\n",
    "    adj_to_portal = {l: getneighportals(l,layer) for l in layerlocations if getneighportals(l,layer)}\n",
    "\n",
    "    g.add_nodes_from(layerlocations)\n",
    "    for a in layerlocations: # for each location (without the doors)\n",
    "        g.add_edges_from(getneigh(a))\n",
    "\n",
    "    count = 0\n",
    "    for k,v in adj_to_portal.items(): # k = (loc, layer), v = connected portal numbers, layer)\n",
    "        if v[0]!={'A'} and v[0]!={'Z'}:\n",
    "            if numlayers>v[1]>=0:\n",
    "                for l,w in adj_to_portal.items():\n",
    "                    if numlayers>l[1]>=0:\n",
    "                        if v[0]==w[0] and k!=l:\n",
    "                            count+=1\n",
    "                            g.add_edge(k,(l[0],v[1]))\n",
    "nx.shortest_path_length(g,start,end)"
   ]
  },
  {
   "cell_type": "code",
   "execution_count": null,
   "metadata": {},
   "outputs": [],
   "source": []
  }
 ]
}