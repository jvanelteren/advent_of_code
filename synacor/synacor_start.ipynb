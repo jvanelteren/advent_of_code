{
 "metadata": {
  "language_info": {
   "codemirror_mode": {
    "name": "ipython",
    "version": 3
   },
   "file_extension": ".py",
   "mimetype": "text/x-python",
   "name": "python",
   "nbconvert_exporter": "python",
   "pygments_lexer": "ipython3",
   "version": "3.7.3-final"
  },
  "orig_nbformat": 2,
  "kernelspec": {
   "name": "python3",
   "display_name": "Python 3.7.3 64-bit ('ProgramData': virtualenv)",
   "metadata": {
    "interpreter": {
     "hash": "ecf5722fdaf1897a315d257d89d94520bfcaa453217d5becf09b39e73618b0de"
    }
   }
  }
 },
 "nbformat": 4,
 "nbformat_minor": 2,
 "cells": [
  {
   "cell_type": "code",
   "execution_count": 1,
   "metadata": {},
   "outputs": [],
   "source": [
    "from aoc_utils import *"
   ]
  },
  {
   "cell_type": "code",
   "execution_count": 14,
   "metadata": {},
   "outputs": [],
   "source": [
    "import tarfile\n",
    "fname = 'synacor-challenge.tgz'\n",
    "if fname.endswith(\"tar.gz\"):\n",
    "    tar = tarfile.open(fname, \"r:gz\")\n",
    "elif fname.endswith(\"tar\"):\n",
    "    tar = tarfile.open(fname, \"r:\")\n",
    "elif fname.endswith(\"tgz\"):\n",
    "    tar = tarfile.open(fname, \"r:gz\")\n",
    "tar.extractall()\n",
    "tar.close()"
   ]
  },
  {
   "cell_type": "code",
   "execution_count": null,
   "metadata": {},
   "outputs": [],
   "source": [
    "halt: 0\n",
    "  stop execution and terminate the program\n",
    "set: 1 a b\n",
    "  set register <a> to the value of <b>\n",
    "push: 2 a\n",
    "  push <a> onto the stack\n",
    "pop: 3 a\n",
    "  remove the top element from the stack and write it into <a>; empty stack = error\n",
    "eq: 4 a b c\n",
    "  set <a> to 1 if <b> is equal to <c>; set it to 0 otherwise\n",
    "gt: 5 a b c\n",
    "  set <a> to 1 if <b> is greater than <c>; set it to 0 otherwise\n",
    "jmp: 6 a\n",
    "  jump to <a>\n",
    "jt: 7 a b\n",
    "  if <a> is nonzero, jump to <b>\n",
    "jf: 8 a b\n",
    "  if <a> is zero, jump to <b>\n",
    "add: 9 a b c\n",
    "  assign into <a> the sum of <b> and <c> (modulo 32768)\n",
    "mult: 10 a b c\n",
    "  store into <a> the product of <b> and <c> (modulo 32768)\n",
    "mod: 11 a b c\n",
    "  store into <a> the remainder of <b> divided by <c>\n",
    "and: 12 a b c\n",
    "  stores into <a> the bitwise and of <b> and <c>\n",
    "or: 13 a b c\n",
    "  stores into <a> the bitwise or of <b> and <c>\n",
    "not: 14 a b\n",
    "  stores 15-bit bitwise inverse of <b> in <a>\n",
    "rmem: 15 a b\n",
    "  read memory at address <b> and write it to <a>\n",
    "wmem: 16 a b\n",
    "  write the value from <b> into memory at address <a>\n",
    "call: 17 a\n",
    "  write the address of the next instruction to the stack and jump to <a>\n",
    "ret: 18\n",
    "  remove the top element from the stack and jump to it; empty stack = halt\n",
    "out: 19 a\n",
    "  write the character represented by ascii code <a> to the terminal\n",
    "in: 20 a\n",
    "  read a character from the terminal and write its ascii code to <a>; it can be assumed that once input starts, it will continue until a newline is encountered; this means that you can safely read whole lines from the keyboard and trust that they will be fully read\n",
    "noop: 21\n",
    "  no operation"
   ]
  },
  {
   "cell_type": "code",
   "execution_count": 43,
   "metadata": {},
   "outputs": [],
   "source": [
    "import numpy as np\n",
    "f = open('challenge.bin', 'rb')\n",
    "ins = np.fromfile(f, dtype=np.uint16)\n"
   ]
  },
  {
   "cell_type": "code",
   "execution_count": 45,
   "metadata": {},
   "outputs": [
    {
     "output_type": "execute_result",
     "data": {
      "text/plain": [
       "21"
      ]
     },
     "metadata": {},
     "execution_count": 45
    }
   ],
   "source": [
    "pnt = 0\n",
    "ins[pnt]"
   ]
  },
  {
   "cell_type": "code",
   "execution_count": 50,
   "metadata": {},
   "outputs": [
    {
     "output_type": "error",
     "ename": "NameError",
     "evalue": "name 'self' is not defined",
     "traceback": [
      "\u001b[1;31m---------------------------------------------------------------------------\u001b[0m",
      "\u001b[1;31mNameError\u001b[0m                                 Traceback (most recent call last)",
      "\u001b[1;32m<ipython-input-50-c7edefe4ee57>\u001b[0m in \u001b[0;36m<module>\u001b[1;34m\u001b[0m\n\u001b[1;32m----> 1\u001b[1;33m \u001b[1;32mclass\u001b[0m \u001b[0mComp\u001b[0m\u001b[1;33m(\u001b[0m\u001b[1;33m)\u001b[0m\u001b[1;33m:\u001b[0m\u001b[1;33m\u001b[0m\u001b[1;33m\u001b[0m\u001b[0m\n\u001b[0m\u001b[0;32m      2\u001b[0m     \u001b[1;32mdef\u001b[0m \u001b[0m__init__\u001b[0m\u001b[1;33m(\u001b[0m\u001b[0mself\u001b[0m\u001b[1;33m,\u001b[0m \u001b[0mins\u001b[0m\u001b[1;33m)\u001b[0m\u001b[1;33m:\u001b[0m\u001b[1;33m\u001b[0m\u001b[1;33m\u001b[0m\u001b[0m\n\u001b[0;32m      3\u001b[0m         \u001b[0mself\u001b[0m\u001b[1;33m.\u001b[0m\u001b[0mpnt\u001b[0m \u001b[1;33m=\u001b[0m \u001b[1;36m0\u001b[0m\u001b[1;33m\u001b[0m\u001b[1;33m\u001b[0m\u001b[0m\n\u001b[0;32m      4\u001b[0m         \u001b[0mself\u001b[0m\u001b[1;33m.\u001b[0m\u001b[0mins\u001b[0m \u001b[1;33m=\u001b[0m \u001b[0mins\u001b[0m\u001b[1;33m\u001b[0m\u001b[1;33m\u001b[0m\u001b[0m\n\u001b[0;32m      5\u001b[0m \u001b[1;33m\u001b[0m\u001b[0m\n",
      "\u001b[1;32m<ipython-input-50-c7edefe4ee57>\u001b[0m in \u001b[0;36mComp\u001b[1;34m()\u001b[0m\n\u001b[0;32m     11\u001b[0m \u001b[1;33m\u001b[0m\u001b[0m\n\u001b[0;32m     12\u001b[0m     self.functions = {\n\u001b[1;32m---> 13\u001b[1;33m         \u001b[1;36m0\u001b[0m\u001b[1;33m:\u001b[0m \u001b[0mhalt\u001b[0m\u001b[1;33m\u001b[0m\u001b[1;33m\u001b[0m\u001b[0m\n\u001b[0m\u001b[0;32m     14\u001b[0m     }\n\u001b[0;32m     15\u001b[0m \u001b[0mc\u001b[0m \u001b[1;33m=\u001b[0m \u001b[0mComp\u001b[0m\u001b[1;33m(\u001b[0m\u001b[0mins\u001b[0m\u001b[1;33m)\u001b[0m\u001b[1;33m\u001b[0m\u001b[1;33m\u001b[0m\u001b[0m\n",
      "\u001b[1;31mNameError\u001b[0m: name 'self' is not defined"
     ]
    }
   ],
   "source": []
  },
  {
   "cell_type": "code",
   "execution_count": 93,
   "metadata": {},
   "outputs": [
    {
     "output_type": "error",
     "ename": "AttributeError",
     "evalue": "'Comp' object has no attribute 'jt'",
     "traceback": [
      "\u001b[1;31m---------------------------------------------------------------------------\u001b[0m",
      "\u001b[1;31mAttributeError\u001b[0m                            Traceback (most recent call last)",
      "\u001b[1;32m<ipython-input-93-7f8c6fcfb1e2>\u001b[0m in \u001b[0;36m<module>\u001b[1;34m\u001b[0m\n\u001b[0;32m     79\u001b[0m \u001b[1;33m\u001b[0m\u001b[0m\n\u001b[0;32m     80\u001b[0m \u001b[1;33m\u001b[0m\u001b[0m\n\u001b[1;32m---> 81\u001b[1;33m \u001b[0mc\u001b[0m \u001b[1;33m=\u001b[0m \u001b[0mComp\u001b[0m\u001b[1;33m(\u001b[0m\u001b[0mins\u001b[0m\u001b[1;33m)\u001b[0m\u001b[1;33m\u001b[0m\u001b[1;33m\u001b[0m\u001b[0m\n\u001b[0m\u001b[0;32m     82\u001b[0m \u001b[0mc\u001b[0m\u001b[1;33m.\u001b[0m\u001b[0mrun\u001b[0m\u001b[1;33m(\u001b[0m\u001b[1;36m0\u001b[0m\u001b[1;33m,\u001b[0m \u001b[1;36m1100\u001b[0m\u001b[1;33m)\u001b[0m\u001b[1;33m\u001b[0m\u001b[1;33m\u001b[0m\u001b[0m\n",
      "\u001b[1;32m<ipython-input-93-7f8c6fcfb1e2>\u001b[0m in \u001b[0;36m__init__\u001b[1;34m(self, ins)\u001b[0m\n\u001b[0;32m     11\u001b[0m             \u001b[1;36m5\u001b[0m \u001b[1;33m:\u001b[0m \u001b[1;33m(\u001b[0m\u001b[0mself\u001b[0m\u001b[1;33m.\u001b[0m\u001b[0mgt\u001b[0m\u001b[1;33m,\u001b[0m\u001b[1;36m3\u001b[0m\u001b[1;33m)\u001b[0m\u001b[1;33m,\u001b[0m\u001b[1;33m\u001b[0m\u001b[1;33m\u001b[0m\u001b[0m\n\u001b[0;32m     12\u001b[0m             \u001b[1;36m6\u001b[0m \u001b[1;33m:\u001b[0m \u001b[1;33m(\u001b[0m\u001b[0mself\u001b[0m\u001b[1;33m.\u001b[0m\u001b[0mjmp\u001b[0m\u001b[1;33m,\u001b[0m \u001b[1;36m1\u001b[0m\u001b[1;33m)\u001b[0m\u001b[1;33m,\u001b[0m\u001b[1;33m\u001b[0m\u001b[1;33m\u001b[0m\u001b[0m\n\u001b[1;32m---> 13\u001b[1;33m             \u001b[1;36m7\u001b[0m \u001b[1;33m:\u001b[0m \u001b[1;33m(\u001b[0m\u001b[0mself\u001b[0m\u001b[1;33m.\u001b[0m\u001b[0mjt\u001b[0m\u001b[1;33m,\u001b[0m \u001b[1;36m2\u001b[0m\u001b[1;33m)\u001b[0m\u001b[1;33m,\u001b[0m\u001b[1;33m\u001b[0m\u001b[1;33m\u001b[0m\u001b[0m\n\u001b[0m\u001b[0;32m     14\u001b[0m             \u001b[1;36m8\u001b[0m \u001b[1;33m:\u001b[0m \u001b[1;33m(\u001b[0m\u001b[0mself\u001b[0m\u001b[1;33m.\u001b[0m\u001b[0mjf\u001b[0m\u001b[1;33m,\u001b[0m \u001b[1;36m2\u001b[0m\u001b[1;33m)\u001b[0m\u001b[1;33m,\u001b[0m\u001b[1;33m\u001b[0m\u001b[1;33m\u001b[0m\u001b[0m\n\u001b[0;32m     15\u001b[0m             \u001b[1;36m9\u001b[0m \u001b[1;33m:\u001b[0m \u001b[1;33m(\u001b[0m\u001b[0mself\u001b[0m\u001b[1;33m.\u001b[0m\u001b[0madd\u001b[0m\u001b[1;33m,\u001b[0m \u001b[1;36m3\u001b[0m\u001b[1;33m)\u001b[0m\u001b[1;33m,\u001b[0m\u001b[1;33m\u001b[0m\u001b[1;33m\u001b[0m\u001b[0m\n",
      "\u001b[1;31mAttributeError\u001b[0m: 'Comp' object has no attribute 'jt'"
     ]
    }
   ],
   "source": [
    "class Comp():\n",
    "    def __init__(self, ins):\n",
    "        self.pnt = 0\n",
    "        self.ins = ins\n",
    "        self.functions = {\n",
    "            0 : (self.halt,0),\n",
    "            1 : (self.set,2),\n",
    "            2 : (self.push,1),\n",
    "            3 : (self.pop,1),\n",
    "            4 : (self.eq,3),\n",
    "            5 : (self.gt,3),\n",
    "            6 : (self.jmp, 1),\n",
    "            7 : (self.jt, 2),\n",
    "            8 : (self.jf, 2),\n",
    "            9 : (self.add, 3),\n",
    "            10 : (self.mult, 3),\n",
    "            19: (self.out,1),\n",
    "            21: (self.noop,0),\n",
    "            \n",
    "        }\n",
    "\n",
    "    def halt(self, args):\n",
    "        #should not be called\n",
    "        sys.exit()\n",
    "\n",
    "    def set(self, args):\n",
    "        print('set not implemented')\n",
    "        sys.exit()\n",
    "\n",
    "    def push(self, args):\n",
    "        print('push not implemented')\n",
    "        sys.exit()\n",
    "\n",
    "    def pop(self, args):\n",
    "        print('pop not implemented')\n",
    "        sys.exit()\n",
    "\n",
    "    def eq(self, args):\n",
    "        print('eq not implemented')\n",
    "        sys.exit()\n",
    "\n",
    "    def gt(self, args):\n",
    "        print('gt not implemented')\n",
    "        sys.exit()\n",
    "\n",
    "    def jmp(self, args):\n",
    "        return args[0]\n",
    "\n",
    "    def jt(self, args):\n",
    "        print('jt not implemented')\n",
    "        sys.exit()\n",
    "        \n",
    "    def jf(self, args):\n",
    "        print('jf not implemented')\n",
    "        sys.exit()\n",
    "        \n",
    "    def add(self, args):\n",
    "        print('add not implemented')\n",
    "        sys.exit()\n",
    "\n",
    "    def mult(self, args):\n",
    "        print('mult not implemented')\n",
    "        sys.exit()\n",
    "\n",
    "    def out(self,args):\n",
    "        print(chr(args[0]), end='')\n",
    "\n",
    "    def noop(self,args):\n",
    "        pass\n",
    "\n",
    "\n",
    "    def do_function(self, pnt):\n",
    "        # read opcode\n",
    "        opcode = self.ins[pnt]\n",
    "        pnt += 1\n",
    "        func, numargs = self.functions[opcode]\n",
    "        if func == self.halt:\n",
    "            return False\n",
    "        # read arguments\n",
    "        args = tuple(ins[pnt+i] for i in range(numargs))\n",
    "        pnt += numargs\n",
    "        # optional: change pointer\n",
    "        res = func(args)\n",
    "        if res: # could do this with walrus\n",
    "            pnt = res\n",
    "        # print(opcode, args, func, numargs, pnt)\n",
    "        return pnt\n",
    "    \n",
    "    def run(self,pnt, amount=1000000000000000):\n",
    "        for i in range(amount):\n",
    "            pnt = self.do_function(pnt)\n",
    "            if not pnt:\n",
    "                print('ending')\n",
    "                return\n",
    "\n",
    "    \n",
    "c = Comp(ins)\n",
    "c.run(0, 1100)"
   ]
  },
  {
   "cell_type": "code",
   "execution_count": 73,
   "metadata": {},
   "outputs": [
    {
     "output_type": "execute_result",
     "data": {
      "text/plain": [
       "array([ 21,  21,  19,  87,  19, 101,  19, 108,  19,  99], dtype=uint16)"
      ]
     },
     "metadata": {},
     "execution_count": 73
    }
   ],
   "source": [
    "ins[:10]"
   ]
  },
  {
   "cell_type": "code",
   "execution_count": null,
   "metadata": {},
   "outputs": [],
   "source": []
  }
 ]
}