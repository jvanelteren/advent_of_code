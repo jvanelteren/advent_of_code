{
 "metadata": {
  "language_info": {
   "codemirror_mode": {
    "name": "ipython",
    "version": 3
   },
   "file_extension": ".py",
   "mimetype": "text/x-python",
   "name": "python",
   "nbconvert_exporter": "python",
   "pygments_lexer": "ipython3",
   "version": "3.7.3-final"
  },
  "orig_nbformat": 2,
  "kernelspec": {
   "name": "python3",
   "display_name": "Python 3.7.3 64-bit ('ProgramData': virtualenv)",
   "metadata": {
    "interpreter": {
     "hash": "ecf5722fdaf1897a315d257d89d94520bfcaa453217d5becf09b39e73618b0de"
    }
   }
  }
 },
 "nbformat": 4,
 "nbformat_minor": 2,
 "cells": [
  {
   "cell_type": "code",
   "execution_count": 1,
   "metadata": {},
   "outputs": [],
   "source": [
    "from aoc_utils import *"
   ]
  },
  {
   "cell_type": "code",
   "execution_count": 14,
   "metadata": {},
   "outputs": [],
   "source": [
    "import tarfile\n",
    "fname = 'synacor-challenge.tgz'\n",
    "if fname.endswith(\"tar.gz\"):\n",
    "    tar = tarfile.open(fname, \"r:gz\")\n",
    "elif fname.endswith(\"tar\"):\n",
    "    tar = tarfile.open(fname, \"r:\")\n",
    "elif fname.endswith(\"tgz\"):\n",
    "    tar = tarfile.open(fname, \"r:gz\")\n",
    "tar.extractall()\n",
    "tar.close()"
   ]
  },
  {
   "cell_type": "code",
   "execution_count": 43,
   "metadata": {},
   "outputs": [],
   "source": [
    "import numpy as np\n",
    "f = open('challenge.bin', 'rb')\n",
    "ins = np.fromfile(f, dtype=np.uint16)\n"
   ]
  },
  {
   "cell_type": "code",
   "execution_count": 45,
   "metadata": {},
   "outputs": [
    {
     "output_type": "execute_result",
     "data": {
      "text/plain": [
       "21"
      ]
     },
     "metadata": {},
     "execution_count": 45
    }
   ],
   "source": [
    "pnt = 0\n",
    "ins[pnt]"
   ]
  },
  {
   "cell_type": "code",
   "execution_count": 50,
   "metadata": {},
   "outputs": [
    {
     "output_type": "error",
     "ename": "NameError",
     "evalue": "name 'self' is not defined",
     "traceback": [
      "\u001b[1;31m---------------------------------------------------------------------------\u001b[0m",
      "\u001b[1;31mNameError\u001b[0m                                 Traceback (most recent call last)",
      "\u001b[1;32m<ipython-input-50-c7edefe4ee57>\u001b[0m in \u001b[0;36m<module>\u001b[1;34m\u001b[0m\n\u001b[1;32m----> 1\u001b[1;33m \u001b[1;32mclass\u001b[0m \u001b[0mComp\u001b[0m\u001b[1;33m(\u001b[0m\u001b[1;33m)\u001b[0m\u001b[1;33m:\u001b[0m\u001b[1;33m\u001b[0m\u001b[1;33m\u001b[0m\u001b[0m\n\u001b[0m\u001b[0;32m      2\u001b[0m     \u001b[1;32mdef\u001b[0m \u001b[0m__init__\u001b[0m\u001b[1;33m(\u001b[0m\u001b[0mself\u001b[0m\u001b[1;33m,\u001b[0m \u001b[0mins\u001b[0m\u001b[1;33m)\u001b[0m\u001b[1;33m:\u001b[0m\u001b[1;33m\u001b[0m\u001b[1;33m\u001b[0m\u001b[0m\n\u001b[0;32m      3\u001b[0m         \u001b[0mself\u001b[0m\u001b[1;33m.\u001b[0m\u001b[0mpnt\u001b[0m \u001b[1;33m=\u001b[0m \u001b[1;36m0\u001b[0m\u001b[1;33m\u001b[0m\u001b[1;33m\u001b[0m\u001b[0m\n\u001b[0;32m      4\u001b[0m         \u001b[0mself\u001b[0m\u001b[1;33m.\u001b[0m\u001b[0mins\u001b[0m \u001b[1;33m=\u001b[0m \u001b[0mins\u001b[0m\u001b[1;33m\u001b[0m\u001b[1;33m\u001b[0m\u001b[0m\n\u001b[0;32m      5\u001b[0m \u001b[1;33m\u001b[0m\u001b[0m\n",
      "\u001b[1;32m<ipython-input-50-c7edefe4ee57>\u001b[0m in \u001b[0;36mComp\u001b[1;34m()\u001b[0m\n\u001b[0;32m     11\u001b[0m \u001b[1;33m\u001b[0m\u001b[0m\n\u001b[0;32m     12\u001b[0m     self.functions = {\n\u001b[1;32m---> 13\u001b[1;33m         \u001b[1;36m0\u001b[0m\u001b[1;33m:\u001b[0m \u001b[0mhalt\u001b[0m\u001b[1;33m\u001b[0m\u001b[1;33m\u001b[0m\u001b[0m\n\u001b[0m\u001b[0;32m     14\u001b[0m     }\n\u001b[0;32m     15\u001b[0m \u001b[0mc\u001b[0m \u001b[1;33m=\u001b[0m \u001b[0mComp\u001b[0m\u001b[1;33m(\u001b[0m\u001b[0mins\u001b[0m\u001b[1;33m)\u001b[0m\u001b[1;33m\u001b[0m\u001b[1;33m\u001b[0m\u001b[0m\n",
      "\u001b[1;31mNameError\u001b[0m: name 'self' is not defined"
     ]
    }
   ],
   "source": []
  },
  {
   "cell_type": "code",
   "execution_count": 95,
   "metadata": {},
   "outputs": [
    {
     "output_type": "stream",
     "name": "stdout",
     "text": [
      "Welcome to the Synacor Challenge!\nPlease record your progress by putting codes like\nthis one into the challenge website: SFKTSngncBUh\n\nExecuting self-test...\n\njt not implemented\n"
     ]
    },
    {
     "output_type": "error",
     "ename": "SystemExit",
     "evalue": "",
     "traceback": [
      "An exception has occurred, use %tb to see the full traceback.\n",
      "\u001b[1;31mSystemExit\u001b[0m\n"
     ]
    }
   ],
   "source": [
    "class Comp():\n",
    "    def __init__(self, ins):\n",
    "        self.pnt = 0\n",
    "        self.ins = ins\n",
    "        self.functions = {\n",
    "            0 : (self.halt,0),\n",
    "            1 : (self.set,2),\n",
    "            2 : (self.push,1),\n",
    "            3 : (self.pop,1),\n",
    "            4 : (self.eq,3),\n",
    "            5 : (self.gt,3),\n",
    "            6 : (self.jmp, 1),\n",
    "            7 : (self.jt, 2),\n",
    "            8 : (self.jf, 2),\n",
    "            9 : (self.add, 3),\n",
    "            10 : (self.mult, 3),\n",
    "            11 : (self.mod, 3),\n",
    "            12: (self.func_and, 3),\n",
    "            13 : (self.func_or, 3),\n",
    "            14 : (self.func_not, 2),\n",
    "            15 : (self.rmem, 2),\n",
    "            16 : (self.wmem, 2),\n",
    "            17 : (self.call, 1),\n",
    "            18 : (self.ret, 18),\n",
    "            19: (self.out,1),\n",
    "            20: (self.func_in,1),\n",
    "            21: (self.noop,0),\n",
    "        }\n",
    "\n",
    "    def halt(self, args):\n",
    "        #should not be called\n",
    "        sys.exit()\n",
    "\n",
    "    def set(self, args):\n",
    "        print('set not implemented')\n",
    "        sys.exit()\n",
    "\n",
    "    def push(self, args):\n",
    "        print('push not implemented')\n",
    "        sys.exit()\n",
    "\n",
    "    def pop(self, args):\n",
    "        print('pop not implemented')\n",
    "        sys.exit()\n",
    "\n",
    "    def eq(self, args):\n",
    "        print('eq not implemented')\n",
    "        sys.exit()\n",
    "\n",
    "    def gt(self, args):\n",
    "        print('gt not implemented')\n",
    "        sys.exit()\n",
    "\n",
    "    def jmp(self, args):\n",
    "        return args[0]\n",
    "\n",
    "    def jt(self, args):\n",
    "        print('jt not implemented')\n",
    "        sys.exit()\n",
    "        \n",
    "    def jf(self, args):\n",
    "        print('jf not implemented')\n",
    "        sys.exit()\n",
    "        \n",
    "    def add(self, args):\n",
    "        print('add not implemented')\n",
    "        sys.exit()\n",
    "\n",
    "    def mult(self, args):\n",
    "        print('mult not implemented')\n",
    "        sys.exit()\n",
    "\n",
    "    def mod(self, args):\n",
    "        print('mod not implemented')\n",
    "        sys.exit()\n",
    "\n",
    "    def func_and(self, args):\n",
    "        print('and not implemented')\n",
    "        sys.exit()\n",
    "\n",
    "    def func_or(self, args):\n",
    "        print('or not implemented')\n",
    "        sys.exit()\n",
    "\n",
    "    def func_not(self, args):\n",
    "        print('not not implemented')\n",
    "        sys.exit()\n",
    "\n",
    "    def rmem(self, args):\n",
    "        print('rmem not implemented')\n",
    "        sys.exit()\n",
    "\n",
    "    def wmem(self, args):\n",
    "        print('wmem not implemented')\n",
    "        sys.exit()\n",
    "\n",
    "    def call(self, args):\n",
    "        print('call not implemented')\n",
    "        sys.exit()\n",
    "\n",
    "    def ret(self, args):\n",
    "        print('ret not implemented')\n",
    "        sys.exit()\n",
    "\n",
    "    def out(self,args):\n",
    "        print(chr(args[0]), end='')\n",
    "\n",
    "    def func_in(self, args):\n",
    "        print('get_in not implemented')\n",
    "        sys.exit()\n",
    "\n",
    "    def noop(self,args):\n",
    "        pass\n",
    "\n",
    "\n",
    "    def do_function(self, pnt):\n",
    "        # read opcode\n",
    "        opcode = self.ins[pnt]\n",
    "        pnt += 1\n",
    "        func, numargs = self.functions[opcode]\n",
    "        if func == self.halt:\n",
    "            return False\n",
    "        # read arguments\n",
    "        args = tuple(ins[pnt+i] for i in range(numargs))\n",
    "        pnt += numargs\n",
    "        # optional: change pointer\n",
    "        res = func(args)\n",
    "        if res: # could do this with walrus\n",
    "            pnt = res\n",
    "        # print(opcode, args, func, numargs, pnt)\n",
    "        return pnt\n",
    "    \n",
    "    def run(self,pnt, amount=1000000000000000):\n",
    "        for i in range(amount):\n",
    "            pnt = self.do_function(pnt)\n",
    "            if not pnt:\n",
    "                print('ending')\n",
    "                return\n",
    "\n",
    "    \n",
    "c = Comp(ins)\n",
    "c.run(0, 1100)"
   ]
  },
  {
   "cell_type": "code",
   "execution_count": 73,
   "metadata": {},
   "outputs": [
    {
     "output_type": "execute_result",
     "data": {
      "text/plain": [
       "array([ 21,  21,  19,  87,  19, 101,  19, 108,  19,  99], dtype=uint16)"
      ]
     },
     "metadata": {},
     "execution_count": 73
    }
   ],
   "source": [
    "ins[:10]"
   ]
  },
  {
   "cell_type": "code",
   "execution_count": null,
   "metadata": {},
   "outputs": [],
   "source": []
  }
 ]
}