{
 "metadata": {
  "language_info": {
   "codemirror_mode": {
    "name": "ipython",
    "version": 3
   },
   "file_extension": ".py",
   "mimetype": "text/x-python",
   "name": "python",
   "nbconvert_exporter": "python",
   "pygments_lexer": "ipython3",
   "version": "3.7.3"
  },
  "orig_nbformat": 2,
  "kernelspec": {
   "name": "python3",
   "display_name": "Python 3.7.3 64-bit ('base': conda)",
   "metadata": {
    "interpreter": {
     "hash": "ecf5722fdaf1897a315d257d89d94520bfcaa453217d5becf09b39e73618b0de"
    }
   }
  }
 },
 "nbformat": 4,
 "nbformat_minor": 2,
 "cells": [
  {
   "cell_type": "code",
   "execution_count": 1,
   "metadata": {},
   "outputs": [],
   "source": [
    "import pickle\n",
    "from pathlib import Path\n",
    "DATA_DIR = Path('')\n",
    "def load(filename):\n",
    "    f = open(DATA_DIR/filename,\"rb\")\n",
    "    return pickle.load(f)\n",
    "    \n",
    "def save(data, filename):\n",
    "    with open(DATA_DIR/filename, 'wb') as handle:\n",
    "        pickle.dump(data, handle, protocol=pickle.HIGHEST_PROTOCOL)"
   ]
  },
  {
   "cell_type": "code",
   "execution_count": 2,
   "metadata": {},
   "outputs": [],
   "source": [
    "from aoc_utils import *\n",
    "import tarfile\n",
    "fname = 'synacor-challenge.tgz'\n",
    "if fname.endswith(\"tar.gz\"):\n",
    "    tar = tarfile.open(fname, \"r:gz\")\n",
    "elif fname.endswith(\"tar\"):\n",
    "    tar = tarfile.open(fname, \"r:\")\n",
    "elif fname.endswith(\"tgz\"):\n",
    "    tar = tarfile.open(fname, \"r:gz\")\n",
    "tar.extractall()\n",
    "tar.close()\n"
   ]
  },
  {
   "cell_type": "code",
   "execution_count": 323,
   "metadata": {},
   "outputs": [
    {
     "output_type": "stream",
     "name": "stdout",
     "text": [
      "res 0\n"
     ]
    },
    {
     "output_type": "error",
     "ename": "SystemExit",
     "evalue": "",
     "traceback": [
      "An exception has occurred, use %tb to see the full traceback.\n",
      "\u001b[1;31mSystemExit\u001b[0m\n"
     ]
    }
   ],
   "source": []
  },
  {
   "cell_type": "code",
   "execution_count": 21,
   "metadata": {},
   "outputs": [],
   "source": [
    "import numpy as np\n",
    "\n",
    "f = open('challenge.bin', 'rb')\n",
    "ins = np.fromfile(f, dtype=np.uint16)\n",
    "\n",
    "\n",
    "class Comp():\n",
    "    def __init__(self, ins, verbose=False):\n",
    "        self.pnt = 0\n",
    "        self.ins = ins\n",
    "        self.functions = {\n",
    "            0 : (self.halt,0,0),\n",
    "            1 : (self.set,1,1),\n",
    "            2 : (self.push,0,1),\n",
    "            3 : (self.pop,1,0),\n",
    "            4 : (self.eq,1,2),\n",
    "            5 : (self.gt,1,2),\n",
    "            6 : (self.jmp, 0,1),\n",
    "            7 : (self.jt, 0,2),\n",
    "            8 : (self.jf, 0,2),\n",
    "            9 : (self.add, 1,2),\n",
    "            10 : (self.mult, 1,2),\n",
    "            11 : (self.mod, 1,2),\n",
    "            12: (self.func_and, 1,2),\n",
    "            13 : (self.func_or, 1,2),\n",
    "            14 : (self.func_not, 1,1),\n",
    "            15 : (self.rmem, 1,1),\n",
    "            16 : (self.wmem, 0,2),\n",
    "            17 : (self.call, 0,1),\n",
    "            18 : (self.ret, 0,0),\n",
    "            19: (self.out,0,1),\n",
    "            20: (self.func_in,1,0),\n",
    "            21: (self.noop,0,0),\n",
    "        }\n",
    "        self.M = 32768\n",
    "        self.reg = {i:0 for i in range(8)}\n",
    "        self.stack = []\n",
    "        self.verbose = verbose\n",
    "        self.in_loc = 0\n",
    "        self.hunting = False\n",
    "\n",
    "    def halt(self, args):\n",
    "        #should not be called\n",
    "        sys.exit()\n",
    "\n",
    "    def set(self, args):\n",
    "        self.reg[args[0]] = args[1]\n",
    "        if self.verbose: print(f'reg {args[0]} is now {self.reg[args[0]]}')\n",
    "\n",
    "    def push(self, args):\n",
    "        #   push <a> onto the stack\n",
    "        self.stack.append(args[0])\n",
    "        if self.verbose: print('new stack', self.stack)\n",
    "\n",
    "    def pop(self, args):\n",
    "        top = self.stack.pop()\n",
    "        self.reg[args[0]] = top\n",
    "        if self.verbose: print('new stack', self.stack)\n",
    "\n",
    "    def eq(self, args):\n",
    "        #   set <a> to 1 if <b> is equal to <c>; set it to 0 otherwise\n",
    "        a,b,c = args\n",
    "        self.reg[a] = 1 if b == c else 0\n",
    "        if self.verbose: print(f'reg {a} is now {self.reg[a]}')\n",
    "\n",
    "    def gt(self, args):\n",
    "        # set <a> to 1 if <b> is greater than <c>; set it to 0 otherwise\n",
    "        a,b,c = args\n",
    "        self.reg[a] = 1 if b > c else 0\n",
    "\n",
    "    def jmp(self, args):\n",
    "        return args[0]\n",
    "\n",
    "    def jt(self, args):\n",
    "        if args[0] != 0:\n",
    "            return args[1]\n",
    "\n",
    "    def jf(self, args):\n",
    "        if args[0] == 0:\n",
    "            return args[1]\n",
    "\n",
    "    def add(self, args):\n",
    "        # assign into <a> the sum of <b> and <c> (modulo 32768)\n",
    "        a, b, c = args\n",
    "        self.reg[a] = (b + c) % self.M\n",
    "\n",
    "    def mult(self, args):\n",
    "        # assign into <a> the product of <b> and <c> (modulo 32768)\n",
    "        a, b, c = args\n",
    "        self.reg[a] = (b * c) % self.M\n",
    "\n",
    "    def mod(self, args):\n",
    "        # store into <a> the remainder of <b> divided by <c>\n",
    "        a, b, c = args\n",
    "        self.reg[a] = (b % c) % self.M\n",
    "\n",
    "    def func_and(self, args):\n",
    "        # stores into <a> the bitwise and of <b> and <c>\n",
    "        a, b, c = args\n",
    "        self.reg[a] = (b & c) % self.M\n",
    "\n",
    "    def func_or(self, args):\n",
    "        # stores into <a> the bitwise or of <b> and <c>\n",
    "        a, b, c = args\n",
    "        self.reg[a] = (b | c) % self.M\n",
    "\n",
    "    def func_not(self, args):\n",
    "        # stores 15-bit bitwise inverse of <b> in <a>\n",
    "        a, b = args\n",
    "        self.reg[a] = (~ b) % self.M\n",
    "\n",
    "    def rmem(self, args):\n",
    "        #   read memory at address <b> and write it to <a>\n",
    "        a , b = args\n",
    "        self.reg[a] = self.ins[b]\n",
    "        if self.verbose: print(f'written to reg {a} val {self.ins[b]} from pnt {b}')\n",
    "\n",
    "    def wmem(self, args):\n",
    "        #   write the value from <b> into memory at address <a>\n",
    "        a , b = args\n",
    "        self.ins[a] = b\n",
    "        if self.verbose: print(f'written {b} to address {a}')\n",
    "\n",
    "    def call(self, args): \n",
    "        if self.verbose: print(self.pnt)\n",
    "        self.stack.append(self.pnt)\n",
    "        return args[0]\n",
    "\n",
    "    def ret(self, args):\n",
    "        # remove the top element from the stack and jump to it; empty stack = halt\n",
    "        if self.verbose: print('retting')\n",
    "        \n",
    "        return self.stack.pop()\n",
    "        # sys.exit()\n",
    "\n",
    "    def out(self,args):\n",
    "        print(chr(args[0]), end='')\n",
    "\n",
    "    def func_in(self, args):\n",
    "        self.reg[self.in_loc] = args\n",
    "        self.run()  \n",
    "\n",
    "    def receive_input(self, args):\n",
    "        self.reg[self.in_loc] = args\n",
    "        return self.run()  \n",
    "\n",
    "    def noop(self,args):\n",
    "        pass\n",
    "\n",
    "\n",
    "    def do_function(self):\n",
    "        \n",
    "        # read opcode\n",
    "        if self.verbose: print('pointer', self.pnt, '\\nregisters', self.reg, '\\nstack', self.stack)\n",
    "        opcode = self.ins[self.pnt]\n",
    "        # if opcode == 18: print('ret', self.stack[-1])\n",
    "        self.pnt += 1\n",
    "        func, num_write, num_read = self.functions[opcode]\n",
    "        if func == self.halt:\n",
    "            print('halting')\n",
    "            sys.exit()\n",
    "            return False\n",
    "        # read arguments\n",
    "        if self.verbose: \n",
    "            print('arguments from addresses',[self.ins[self.pnt+i] for i in range(num_write+num_read)])\n",
    "        args = [self.ins[self.pnt+i] for i in range(num_write+num_read)]\n",
    "        if 32775 in args: print('reg 7',self.pnt-1)\n",
    "        # if 7+self.M in [self.ins[self.pnt+i] for i in range(num_write+num_read)]:\n",
    "        #     print('found mtf')\n",
    "        #     self.verbose = True\n",
    "        #     self.hunting = 20\n",
    "        # if self.hunting > 0 : self.hunting -= 1\n",
    "        # if self.hunting == 0:\n",
    "        #     self.verbose=False\n",
    "        args = tuple(self.ins[self.pnt+i] % self.M for i in range(num_write))\n",
    "        self.pnt += num_write\n",
    "        args += tuple(self.ins[self.pnt+i] if self.ins[self.pnt+i] < 32768 else self.reg[self.ins[self.pnt+i] % self.M] for i in range(num_read))\n",
    "        self.pnt += num_read\n",
    "        if self.verbose: print('................',func.__name__, args)\n",
    "\n",
    "        if func == self.func_in:\n",
    "            print('waiting for input')\n",
    "            self.in_loc = args[0]\n",
    "            return False\n",
    "\n",
    "        # optional: change pointer\n",
    "        res = func(args)\n",
    "        if res: # could do this with walrus\n",
    "            if self.verbose: print('new pointer', res)\n",
    "            self.pnt = res\n",
    "        if res == 0:\n",
    "            print('res 0')\n",
    "            sys.exit()\n",
    "        \n",
    "        # print(opcode, args, func, numargs, pnt)\n",
    "        return True\n",
    "    \n",
    "    def run(self,amount=1000000):\n",
    "        for i in range(amount):\n",
    "            # if self.pnt == 6035:\n",
    "            #     self.reg[1]=6048\n",
    "            #     self.reg[0]=6035\n",
    "                # print(i)\n",
    "            # if i == 10751: self.reg[5]=0\n",
    "            # if i == 10753: self.reg[3]=0\n",
    "            # if self.pnt == 5491:\n",
    "            #     print(self.pnt,i)\n",
    "            #     self.verbose=True\n",
    "            # if self.stack[-1]==4: \n",
    "            #     print(i)\n",
    "\n",
    "            # if i > 4980: self.verbose=True\n",
    "            # if i > 5100: \n",
    "            #     self.verbose=False\n",
    "            #     sys.exit()\n",
    "            # # if i > 5200: self.verbose=True\n",
    "            # if i > 5202: self.verbose=False\n",
    "            # if i > 5100: self.verbose=True\n",
    "            # if i > 5102: self.verbose=False\n",
    "            # if i > 16121: self.verbose=True\n",
    "            # if i > 16128: self.verbose=False\n",
    "            if self.verbose: print('\\n',i,self.pnt)\n",
    "            res = self.do_function()\n",
    "            if not res:\n",
    "                # print(i)\n",
    "                return\n",
    "c = load('read_book.pickle')\n",
    "new = Comp({i:val for i, val in enumerate(list(ins))},verbose=False)\n",
    "new.reg = c.reg\n",
    "new.ins = c.ins\n",
    "new.pnt = c.pnt\n",
    "new.in_loc = c.in_loc\n",
    "new.stack = c.stack"
   ]
  },
  {
   "cell_type": "code",
   "execution_count": 23,
   "metadata": {
    "tags": []
   },
   "outputs": [
    {
     "output_type": "stream",
     "name": "stdout",
     "text": [
      "You wake up on a sandy beach with a slight headache.  The last thing you remember is activating that teleporter... but now you can't find it anywhere in your pack.  Someone seems to have drawn a message in the sand here:\n",
      "\n",
      "    reg 7 5522\n",
      "YwUphNaWynHP\n",
      "\n",
      "It begins to rain.  The message washes away.  You take a deep breath and feel firmly grounded in reality as the effects of the teleportation wear off.\n",
      "\n",
      "== Beach ==\n",
      "This is a sandy beach in a cove on some tropical island.  It is raining.  The ocean is to your south, and heavy foliage is to your north; the beach extends west and east.\n",
      "\n",
      "There are 3 exits:\n",
      "- west\n",
      "- east\n",
      "- north\n",
      "\n",
      "What do you do?\n",
      "waiting for input\n"
     ]
    }
   ],
   "source": [
    "new.pnt = 5491\n",
    "new.reg = {0: 6, 1: 5, 2: 3, 3: 10, 4: 101, 5: 0, 6: 0, 7: 25734}\n",
    "new.stack = [6080, 16, 6124, 1, 2952, 25978, 3568, 3599, 2708, 5445, 3] \n",
    "new.run()\n",
    "save(new, 'teleport_succes.pickle')"
   ]
  },
  {
   "cell_type": "code",
   "execution_count": 83,
   "metadata": {
    "tags": []
   },
   "outputs": [],
   "source": [
    "new = load('finalpuzzle.pickle')\n"
   ]
  },
  {
   "cell_type": "code",
   "execution_count": 90,
   "metadata": {},
   "outputs": [
    {
     "output_type": "stream",
     "name": "stdout",
     "text": [
      "waiting for input\n",
      "waiting for input\n",
      "waiting for input\n",
      "waiting for input\n",
      "waiting for input\n",
      "waiting for input\n",
      "waiting for input\n",
      "waiting for input\n",
      "waiting for input\n",
      "waiting for input\n",
      "\n",
      "\n",
      "You gaze into the mirror, and you see yourself gazing back.  But wait!  It looks like someone wrote on your face while you were unconscious on the beach!  Through the mirror, you see \"uMipOAHxMdwx\" scrawled in charcoal on your forehead.\n",
      "\n",
      "Congratulations; you have reached the end of the challenge!\n",
      "\n",
      "\n",
      "What do you do?\n",
      "waiting for input\n"
     ]
    }
   ],
   "source": [
    "def send_text(text):\n",
    "    if text == 'n' : text = 'north'\n",
    "    if text == 's' : text = 'south'\n",
    "    if text == 'e' : text = 'east'\n",
    "    if text == 'w' : text = 'west'\n",
    "    for chr in text:\n",
    "        new.receive_input(ord(chr))\n",
    "    new.receive_input(ord('\\n'))\n",
    "def send_multiple(commands):\n",
    "    for text in commands:\n",
    "        send_text(text)\n",
    "\n",
    "# new.reg[7]=30000\n",
    "# new.ins[6035]=8\n",
    "new.verbose=False\n",
    "# send_multiple('neenwseewnn')\n",
    "# send_multiple('sssssss')\n",
    "send_text('use mirror')"
   ]
  },
  {
   "cell_type": "code",
   "execution_count": 85,
   "metadata": {},
   "outputs": [],
   "source": [
    "save(new, 'finalpuzzle.pickle')\n",
    "uMipOAHxMdwx\n",
    "xwbMxHAOqiMn\n",
    "goede: xwbMxHAOqiMu"
   ]
  },
  {
   "cell_type": "code",
   "execution_count": 20,
   "metadata": {},
   "outputs": [
    {
     "output_type": "execute_result",
     "data": {
      "text/plain": [
       "'xwdMxHAOpiMu'"
      ]
     },
     "metadata": {},
     "execution_count": 20
    }
   ],
   "source": [
    "''.join(c for c in 'uMipOAHxMdwx'[::-1])"
   ]
  },
  {
   "cell_type": "code",
   "execution_count": null,
   "metadata": {},
   "outputs": [],
   "source": []
  },
  {
   "cell_type": "code",
   "execution_count": 14,
   "metadata": {},
   "outputs": [
    {
     "output_type": "display_data",
     "data": {
      "text/plain": "<Figure size 1728x864 with 1 Axes>",
      "image/svg+xml": "<?xml version=\"1.0\" encoding=\"utf-8\" standalone=\"no\"?>\r\n<!DOCTYPE svg PUBLIC \"-//W3C//DTD SVG 1.1//EN\"\r\n  \"http://www.w3.org/Graphics/SVG/1.1/DTD/svg11.dtd\">\r\n<!-- Created with matplotlib (https://matplotlib.org/) -->\r\n<svg height=\"666.72pt\" version=\"1.1\" viewBox=\"0 0 1353.6 666.72\" width=\"1353.6pt\" xmlns=\"http://www.w3.org/2000/svg\" xmlns:xlink=\"http://www.w3.org/1999/xlink\">\r\n <defs>\r\n  <style type=\"text/css\">\r\n*{stroke-linecap:butt;stroke-linejoin:round;}\r\n  </style>\r\n </defs>\r\n <g id=\"figure_1\">\r\n  <g id=\"patch_1\">\r\n   <path d=\"M 0 666.72 \r\nL 1353.6 666.72 \r\nL 1353.6 0 \r\nL 0 0 \r\nz\r\n\" style=\"fill:none;\"/>\r\n  </g>\r\n  <g id=\"axes_1\">\r\n   <g id=\"patch_2\">\r\n    <path d=\"M 7.2 659.52 \r\nL 1346.4 659.52 \r\nL 1346.4 7.2 \r\nL 7.2 7.2 \r\nz\r\n\" style=\"fill:#ffffff;\"/>\r\n   </g>\r\n   <g id=\"matplotlib.axis_1\">\r\n    <g id=\"xtick_1\"/>\r\n    <g id=\"xtick_2\"/>\r\n    <g id=\"xtick_3\"/>\r\n    <g id=\"xtick_4\"/>\r\n    <g id=\"xtick_5\"/>\r\n    <g id=\"xtick_6\"/>\r\n    <g id=\"xtick_7\"/>\r\n   </g>\r\n   <g id=\"matplotlib.axis_2\">\r\n    <g id=\"ytick_1\"/>\r\n    <g id=\"ytick_2\"/>\r\n    <g id=\"ytick_3\"/>\r\n    <g id=\"ytick_4\"/>\r\n    <g id=\"ytick_5\"/>\r\n    <g id=\"ytick_6\"/>\r\n    <g id=\"ytick_7\"/>\r\n   </g>\r\n   <g id=\"patch_3\">\r\n    <path d=\"M 7.2 659.52 \r\nL 7.2 7.2 \r\n\" style=\"fill:none;stroke:#000000;stroke-linecap:square;stroke-linejoin:miter;stroke-width:0.8;\"/>\r\n   </g>\r\n   <g id=\"patch_4\">\r\n    <path d=\"M 1346.4 659.52 \r\nL 1346.4 7.2 \r\n\" style=\"fill:none;stroke:#000000;stroke-linecap:square;stroke-linejoin:miter;stroke-width:0.8;\"/>\r\n   </g>\r\n   <g id=\"patch_5\">\r\n    <path d=\"M 7.2 659.52 \r\nL 1346.4 659.52 \r\n\" style=\"fill:none;stroke:#000000;stroke-linecap:square;stroke-linejoin:miter;stroke-width:0.8;\"/>\r\n   </g>\r\n   <g id=\"patch_6\">\r\n    <path d=\"M 7.2 7.2 \r\nL 1346.4 7.2 \r\n\" style=\"fill:none;stroke:#000000;stroke-linecap:square;stroke-linejoin:miter;stroke-width:0.8;\"/>\r\n   </g>\r\n  </g>\r\n </g>\r\n</svg>\r\n",
      "image/png": "[encoded data removed]"
     },
     "metadata": {}
    }
   ],
   "source": [
    "c = load('read_book.pickle')\n",
    "new = Comp({i:val for i, val in enumerate(list(ins))},verbose=False)\n",
    "new.reg = c.reg\n",
    "new.ins = c.ins\n",
    "new.pnt = c.pnt\n",
    "new.in_loc = c.in_loc\n",
    "new.stack = c.stack\n",
    "\n",
    "# read opcode\n",
    "from collections import defaultdict\n",
    "edges = defaultdict(set)\n",
    "node_names = dict()\n",
    "jumps = set()\n",
    "to_check = set([ 5481,6035,6056,6030,6067,6047,6027]) #5491 is the exit\n",
    "# to_check = set([ 6042,5483 ]) #5491 is the exit\n",
    "# to_check = set([ 5491]) #5491 is the exit\n",
    "to_check = set([ 6047, 6056]) #5491 is the exit\n",
    "to_check = set([ 6067]) #5491 is the exit\n",
    "# # to_check = set([2952, 25978, 3568, 3599, 2708, 5445, 3]) # decrypt\n",
    "# to_check = set([1915]) # decrypt\n",
    "def get_edges(new, pnt):\n",
    "    new.pnt = pnt\n",
    "    opcode = new.ins[new.pnt]\n",
    "    new.pnt += 1\n",
    "    func, num_write, num_read = new.functions[opcode]\n",
    "    args = [new.ins[new.pnt+i] for i in range(num_write+num_read)]\n",
    "    arg_names =[a if a<new.M else f'reg {a%new.M}' for a in args]\n",
    "    new.pnt += num_write+num_read\n",
    "    func_name = new.functions[new.ins[pnt]][0].__name__\n",
    "    if pnt not in node_names:\n",
    "        node_names[pnt] = f'{pnt} {func_name} {arg_names}'\n",
    "\n",
    "    # print(func_name)\n",
    "    if func_name in ['jmp', 'jf','jt', 'call']:\n",
    "        edges[pnt].add(args[-1])\n",
    "        # print(args)\n",
    "        jumps.add((pnt, args[-1]))\n",
    "        if args[-1] not in edges:\n",
    "            to_check.add(args[-1])\n",
    "\n",
    "    if func_name == 'ret': # cannot do nice things with ret\n",
    "        return\n",
    "\n",
    "    if func_name not in ['jmp', 'call']:\n",
    "        edges[pnt].add(new.pnt)\n",
    "        if new.pnt not in edges:\n",
    "            to_check.add(new.pnt)\n",
    "    \n",
    "START_POS = to_check.pop()\n",
    "to_check.add(START_POS)\n",
    "while to_check and len(edges)<30:\n",
    "    get_edges(new,to_check.pop())\n",
    "\n",
    "import matplotlib.pyplot as plt\n",
    "%matplotlib inline\n",
    "\n",
    "def get_name(pnt):\n",
    "    return node_names[pnt] if pnt in node_names else f'{pnt} {new.functions[new.ins[pnt]][0].__name__}' if pnt <32768 else 'error'\n",
    "\n",
    "import networkx as nx\n",
    "\n",
    "G = nx.DiGraph()\n",
    "# G.add_nodes_from([get_name(n) for n in node_names])\n",
    "for k,v in edges.items():\n",
    "    for pnt in v:\n",
    "        weight = 'jmp' if (k,pnt) in jumps else ''\n",
    "        G.add_edge(get_name(k),get_name(pnt), weight=weight)\n",
    "# color_map = [party_colors[node] for node in G]\n",
    "pos = nx.nx_agraph.graphviz_layout(G,prog='neato', args ='')\n",
    "\n",
    "plt.figure(figsize=(24,12))\n",
    "nx.draw_networkx(G, pos,font_size=12, node_color='y')\n",
    "labels = nx.get_edge_attributes(G,'weight')\n",
    "nx.draw_networkx_edge_labels(G,pos,edge_labels=labels,label_pos=0.5, font_size=12)\n",
    "plt.margins(0.2,0.2)"
   ]
  },
  {
   "cell_type": "code",
   "execution_count": 26,
   "metadata": {},
   "outputs": [
    {
     "output_type": "execute_result",
     "data": {
      "text/plain": [
       "18"
      ]
     },
     "metadata": {},
     "execution_count": 26
    }
   ],
   "source": [
    "ins[6067]"
   ]
  },
  {
   "cell_type": "code",
   "execution_count": null,
   "metadata": {},
   "outputs": [],
   "source": [
    "magic = 5\n",
    "reg = {0:4,1:1, 7:magic}\n",
    "def run()\n",
    "    if reg[0] != 0: #center \n",
    "        if reg[1] != 0:\n",
    "            #jmp\n",
    "            stack.append(reg[0])\n",
    "            reg[1] -= 1\n",
    "            run()\n",
    "        else:\n",
    "            reg[0] -= 1\n",
    "            reg[1] = reg[7]\n",
    "            run()\n",
    "    else: #6027 reg0==0\n",
    "        reg[0] = reg[1]+1\n",
    "        if stack[-1] == 5491: \n",
    "            print('done, reg[0] should now be 6')\n",
    "        else:\n",
    "            GOTO TOP STACK\n"
   ]
  },
  {
   "cell_type": "code",
   "execution_count": 83,
   "metadata": {
    "tags": []
   },
   "outputs": [
    {
     "output_type": "execute_result",
     "data": {
      "text/plain": [
       "998"
      ]
     },
     "metadata": {},
     "execution_count": 83
    }
   ],
   "source": [
    " 5006 6027\n",
    "pointer 6027 \n",
    "registers {0: 4, 1: 1, 2: 3, 3: 10, 4: 101, 5: 0, 6: 0, 7: 30000} \n",
    "stack [6080, 16, 6124, 1, 2952, 25978, 3568, 3599, 2708, 5445, 3, 5491]\n",
    "arguments from addresses [32768, 6035]\n",
    "................ jt (4, 6035)\n",
    "new pointer 6035\n",
    "\n",
    " 5006 6027\n",
    "pointer 6027 \n",
    "registers {0: 4, 1: 1, 2: 3, 3: 10, 4: 101, 5: 0, 6: 0, 7: 5} \n",
    "stack [6080, 16, 6124, 1, 2952, 25978, 3568, 3599, 2708, 5445, 3, 5491]\n",
    "arguments from addresses [32768, 6035]\n",
    "................ jt (4, 6035)\n",
    "new pointer 6035"
   ]
  },
  {
   "cell_type": "code",
   "execution_count": 86,
   "metadata": {},
   "outputs": [
    {
     "output_type": "execute_result",
     "data": {
      "text/plain": [
       "7"
      ]
     },
     "metadata": {},
     "execution_count": 86
    }
   ],
   "source": [
    "qamHPfkEUpxt\n",
    "qamHPfkEUpxt\n",
    "HjbymqFNVYsE\n",
    "HjbymqFNVYsE\n",
    "HjbymqFNVYsE\n",
    "rnneuyhJRoco\n",
    "HjbymqFNVYsE\n",
    "CmWvrnAQQVxB\n",
    "CmWvrnAQQVxB\n",
    "EIolltGmKvbv\n",
    "DHniiqJpNwcw\n",
    "COqLLboAgttp"
   ]
  },
  {
   "cell_type": "code",
   "execution_count": 71,
   "metadata": {},
   "outputs": [],
   "source": [
    "save(c,'pedestal.pickle')"
   ]
  },
  {
   "cell_type": "code",
   "execution_count": 198,
   "metadata": {},
   "outputs": [],
   "source": [
    "c = load('readyforteleport.pickle')"
   ]
  },
  {
   "cell_type": "code",
   "execution_count": 259,
   "metadata": {},
   "outputs": [
    {
     "output_type": "stream",
     "name": "stdout",
     "text": [
      "(9, 2, 5, 7, 3)\n"
     ]
    }
   ],
   "source": [
    "# solving the calculation puzzle\n",
    "from itertools import permutations\n",
    "for comb in permutations([3,9,2,5,7]):\n",
    "    if comb[0] + comb[1]*(comb[2]**2) + comb[3]**3 - comb[4] == 399:\n",
    "        print (comb)\n",
    "        break"
   ]
  },
  {
   "cell_type": "code",
   "execution_count": 7,
   "metadata": {},
   "outputs": [
    {
     "output_type": "execute_result",
     "data": {
      "text/plain": [
       "[state(cell=1, val=22),\n",
       " state(cell=3, val=26),\n",
       " state(cell=6, val=15),\n",
       " state(cell=3, val=60),\n",
       " state(cell=7, val=42),\n",
       " state(cell=6, val=31),\n",
       " state(cell=8, val=30)]"
      ]
     },
     "metadata": {},
     "execution_count": 7
    }
   ],
   "source": [
    "# option 1 to solve final puzzle\n",
    "cell2val = {2:4,3:4,4:8,5:9,6:11,7:18,8:1}\n",
    "from aoc_utils import *\n",
    "from collections import namedtuple\n",
    "from operator import mul, sub, add\n",
    "conn = {\n",
    "    1: ((add,2) , (add, 3), (sub, 3), (sub, 5)),\n",
    "    2: ((mul, 4),(mul,6),(mul,3), (add,3)),\n",
    "    3: ((add,2), (mul,2), (mul,4),(mul,6), (sub,6),(sub,5),(sub,7)),\n",
    "    4: ((mul,2),(mul,3),(mul,6),(sub,6),(sub,8)),\n",
    "    5: ((sub,3),(sub,7),(mul,7),(sub,6)),\n",
    "    6: ((mul,2),(mul,3),(sub,3),(mul,4),(sub,4),(sub,5),(sub,7),(mul,7),(mul,8),(sub,8)),\n",
    "    7: ((sub,3),(sub,5),(mul,5),(sub,6),(mul,6),(mul,8)),\n",
    "    8: ((sub,4),(sub,6),(mul,6),(mul,7))\n",
    "}\n",
    "state = namedtuple('state', ['cell','val'])\n",
    "options = set()\n",
    "def getneigh(s):\n",
    "    for c in conn[s.cell]:\n",
    "        res = state(c[1], c[0](s.val,cell2val[c[1]]))\n",
    "        if 0<res.val<100: options.add(res)\n",
    "    return options\n",
    "s = state(1,22)\n",
    "getneigh(s)\n",
    "bfs(getneigh, start = state(1,22),goal=state(8,30))"
   ]
  },
  {
   "cell_type": "code",
   "execution_count": 8,
   "metadata": {},
   "outputs": [
    {
     "output_type": "stream",
     "name": "stdout",
     "text": [
      "neenwseewnne\n"
     ]
    }
   ],
   "source": [
    "# option 2 to solve. Easier to code and gives answer fully. Bit more code though\n",
    "lines = [[mul,8,sub,1],[4,mul,11,mul],[add,4,sub,18],[22,sub,9,mul]]\n",
    "valid = {(row,col) for row in range(len(lines)) for col in range(len(lines[0]))}\n",
    "valid.remove((3,0))\n",
    "\n",
    "from collections import namedtuple\n",
    "state = namedtuple('state', ['cell','val'])\n",
    "s = state((3,0),22)\n",
    "dr = [0,1,0,-1]\n",
    "dc = [1,0,-1,0]\n",
    "def getneigh(s):\n",
    "    r,c = s.cell\n",
    "    options = set()\n",
    "\n",
    "    for i in range(4):\n",
    "        newr = r+dr[i]\n",
    "        newc = c+dc[i]\n",
    "        if (newr,newc) in valid:\n",
    "            if isinstance(lines[newr][newc], int):\n",
    "                op = lines[r][c]\n",
    "                # print(op)\n",
    "                options.add(state((newr,newc),op(s.val,lines[newr][newc])))\n",
    "            else:\n",
    "                options.add(state((newr,newc),s.val))\n",
    "    return options\n",
    "states = bfs(getneigh, start=s, goal=state((0,3),30))\n",
    "ans = []\n",
    "\n",
    "for comb in zippify(states,2):\n",
    "    dr = comb[1].cell[0] - comb[0].cell[0]\n",
    "    dc = comb[1].cell[1] - comb[0].cell[1]\n",
    "    if dr == -1: ans.append('n')\n",
    "    if dr ==  1: ans.append('s')\n",
    "    if dc ==  1: ans.append('e')\n",
    "    if dc == -1: ans.append('w')\n",
    "print(''.join(ans))"
   ]
  },
  {
   "cell_type": "code",
   "execution_count": 106,
   "metadata": {},
   "outputs": [
    {
     "output_type": "execute_result",
     "data": {
      "text/plain": [
       "['\\uf8c1',\n",
       " 'ሁ',\n",
       " '⟁',\n",
       " '\\x00',\n",
       " '\\x00',\n",
       " 'ሁ',\n",
       " '⟁',\n",
       " '企',\n",
       " '\\x00',\n",
       " '\\uf581',\n",
       " '닁',\n",
       " '\\x00',\n",
       " '\\x00',\n",
       " '\\x00',\n",
       " '닁',\n",
       " '企',\n",
       " '꺁',\n",
       " '䅁',\n",
       " '\\x00',\n",
       " 'ሁ',\n",
       " '\\x00',\n",
       " '\\x00',\n",
       " '첁',\n",
       " '企',\n",
       " '\\uf8c1']"
      ]
     },
     "metadata": {},
     "execution_count": 106
    }
   ],
   "source": [
    "def func(k):\n",
    "  c = [29,31,19,94,2,31,19,17,30,9,3,48,28,4,3,17,7,21,74,31,4,28,25,17,29]\n",
    "  return [chr((pow(ch,k))%65536) for ch in c]\n",
    "func(16*7)"
   ]
  },
  {
   "cell_type": "code",
   "execution_count": 104,
   "metadata": {},
   "outputs": [
    {
     "output_type": "execute_result",
     "data": {
      "text/plain": [
       "'\\uf8c1'"
      ]
     },
     "metadata": {},
     "execution_count": 104
    }
   ],
   "source": [
    "chr(61457623802428291151176307604619059252335431261125297032951727227626804959891359697802810346254769584729613791049421441456286496122769540115504659303709621830351041%65536 )"
   ]
  },
  {
   "cell_type": "code",
   "execution_count": null,
   "metadata": {},
   "outputs": [],
   "source": []
  }
 ]
}