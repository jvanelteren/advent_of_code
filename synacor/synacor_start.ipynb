{
 "metadata": {
  "language_info": {
   "codemirror_mode": {
    "name": "ipython",
    "version": 3
   },
   "file_extension": ".py",
   "mimetype": "text/x-python",
   "name": "python",
   "nbconvert_exporter": "python",
   "pygments_lexer": "ipython3",
   "version": "3.7.3-final"
  },
  "orig_nbformat": 2,
  "kernelspec": {
   "name": "python3",
   "display_name": "Python 3.7.3 64-bit (conda)",
   "metadata": {
    "interpreter": {
     "hash": "ecf5722fdaf1897a315d257d89d94520bfcaa453217d5becf09b39e73618b0de"
    }
   }
  }
 },
 "nbformat": 4,
 "nbformat_minor": 2,
 "cells": [
  {
   "cell_type": "code",
   "execution_count": 1,
   "metadata": {},
   "outputs": [],
   "source": [
    "import pickle\n",
    "from pathlib import Path\n",
    "DATA_DIR = Path('')\n",
    "def load(filename):\n",
    "    f = open(DATA_DIR/filename,\"rb\")\n",
    "    return pickle.load(f)\n",
    "    \n",
    "def save(data, filename):\n",
    "    with open(DATA_DIR/filename, 'wb') as handle:\n",
    "        pickle.dump(data, handle, protocol=pickle.HIGHEST_PROTOCOL)"
   ]
  },
  {
   "cell_type": "code",
   "execution_count": 2,
   "metadata": {},
   "outputs": [],
   "source": [
    "from aoc_utils import *\n",
    "import tarfile\n",
    "fname = 'synacor-challenge.tgz'\n",
    "if fname.endswith(\"tar.gz\"):\n",
    "    tar = tarfile.open(fname, \"r:gz\")\n",
    "elif fname.endswith(\"tar\"):\n",
    "    tar = tarfile.open(fname, \"r:\")\n",
    "elif fname.endswith(\"tgz\"):\n",
    "    tar = tarfile.open(fname, \"r:gz\")\n",
    "tar.extractall()\n",
    "tar.close()\n"
   ]
  },
  {
   "cell_type": "code",
   "execution_count": 47,
   "metadata": {},
   "outputs": [],
   "source": [
    "import numpy as np\n",
    "\n",
    "f = open('challenge.bin', 'rb')\n",
    "ins = np.fromfile(f, dtype=np.uint16)\n",
    "\n",
    "\n",
    "class Comp():\n",
    "    def __init__(self, ins, verbose=False):\n",
    "        self.pnt = 0\n",
    "        self.ins = ins\n",
    "        self.functions = {\n",
    "            0 : (self.halt,0,0),\n",
    "            1 : (self.set,1,1),\n",
    "            2 : (self.push,0,1),\n",
    "            3 : (self.pop,1,0),\n",
    "            4 : (self.eq,1,2),\n",
    "            5 : (self.gt,1,2),\n",
    "            6 : (self.jmp, 0,1),\n",
    "            7 : (self.jt, 0,2),\n",
    "            8 : (self.jf, 0,2),\n",
    "            9 : (self.add, 1,2),\n",
    "            10 : (self.mult, 1,2),\n",
    "            11 : (self.mod, 1,2),\n",
    "            12: (self.func_and, 1,2),\n",
    "            13 : (self.func_or, 1,2),\n",
    "            14 : (self.func_not, 1,1),\n",
    "            15 : (self.rmem, 1,1),\n",
    "            16 : (self.wmem, 0,2),\n",
    "            17 : (self.call, 0,1),\n",
    "            18 : (self.ret, 0,0),\n",
    "            19: (self.out,0,1),\n",
    "            20: (self.func_in,1,0),\n",
    "            21: (self.noop,0,0),\n",
    "        }\n",
    "        self.M = 32768\n",
    "        self.reg = {i:0 for i in range(8)}\n",
    "        self.stack = []\n",
    "        self.verbose = verbose\n",
    "        self.in_loc = 0\n",
    "        self.hunting = False\n",
    "\n",
    "    def halt(self, args):\n",
    "        #should not be called\n",
    "        sys.exit()\n",
    "\n",
    "    def set(self, args):\n",
    "        self.reg[args[0]] = args[1]\n",
    "        if self.verbose: print(f'reg {args[0]} is now {self.reg[args[0]]}')\n",
    "\n",
    "    def push(self, args):\n",
    "        #   push <a> onto the stack\n",
    "        self.stack.append(args[0])\n",
    "        if self.verbose: print('new stack', self.stack)\n",
    "\n",
    "    def pop(self, args):\n",
    "        top = self.stack.pop()\n",
    "        self.reg[args[0]] = top\n",
    "        if self.verbose: print('new stack', self.stack)\n",
    "\n",
    "    def eq(self, args):\n",
    "        #   set <a> to 1 if <b> is equal to <c>; set it to 0 otherwise\n",
    "        a,b,c = args\n",
    "        self.reg[a] = 1 if b == c else 0\n",
    "        if self.verbose: print(f'reg {a} is now {self.reg[a]}')\n",
    "\n",
    "    def gt(self, args):\n",
    "        # set <a> to 1 if <b> is greater than <c>; set it to 0 otherwise\n",
    "        a,b,c = args\n",
    "        self.reg[a] = 1 if b > c else 0\n",
    "\n",
    "    def jmp(self, args):\n",
    "        return args[0]\n",
    "\n",
    "    def jt(self, args):\n",
    "        if args[0] != 0:\n",
    "            return args[1]\n",
    "\n",
    "    def jf(self, args):\n",
    "        if args[0] == 0:\n",
    "            return args[1]\n",
    "\n",
    "    def add(self, args):\n",
    "        # assign into <a> the sum of <b> and <c> (modulo 32768)\n",
    "        a, b, c = args\n",
    "        self.reg[a] = (b + c) % self.M\n",
    "\n",
    "    def mult(self, args):\n",
    "        # assign into <a> the product of <b> and <c> (modulo 32768)\n",
    "        a, b, c = args\n",
    "        self.reg[a] = (b * c) % self.M\n",
    "\n",
    "    def mod(self, args):\n",
    "        # store into <a> the remainder of <b> divided by <c>\n",
    "        a, b, c = args\n",
    "        self.reg[a] = (b % c) % self.M\n",
    "\n",
    "    def func_and(self, args):\n",
    "        # stores into <a> the bitwise and of <b> and <c>\n",
    "        a, b, c = args\n",
    "        self.reg[a] = (b & c) % self.M\n",
    "\n",
    "    def func_or(self, args):\n",
    "        # stores into <a> the bitwise or of <b> and <c>\n",
    "        a, b, c = args\n",
    "        self.reg[a] = (b | c) % self.M\n",
    "\n",
    "    def func_not(self, args):\n",
    "        # stores 15-bit bitwise inverse of <b> in <a>\n",
    "        a, b = args\n",
    "        self.reg[a] = (~ b) % self.M\n",
    "\n",
    "    def rmem(self, args):\n",
    "        #   read memory at address <b> and write it to <a>\n",
    "        a , b = args\n",
    "        self.reg[a] = self.ins[b]\n",
    "        if self.verbose: print(f'written to reg {a} val {self.ins[b]} from pnt {b}')\n",
    "\n",
    "    def wmem(self, args):\n",
    "        #   write the value from <b> into memory at address <a>\n",
    "        a , b = args\n",
    "        self.ins[a] = b\n",
    "        if self.verbose: print(f'written {b} to address {a}')\n",
    "\n",
    "    def call(self, args): \n",
    "        if self.verbose: print(self.pnt)\n",
    "        self.stack.append(self.pnt)\n",
    "        return args[0]\n",
    "\n",
    "    def ret(self, args):\n",
    "        # remove the top element from the stack and jump to it; empty stack = halt\n",
    "        if self.verbose: print('retting')\n",
    "        \n",
    "        return self.stack.pop()\n",
    "        # sys.exit()\n",
    "\n",
    "    def out(self,args):\n",
    "        print(chr(args[0]), end='')\n",
    "\n",
    "    def func_in(self, args):\n",
    "        self.reg[self.in_loc] = args\n",
    "        self.run()  \n",
    "\n",
    "    def receive_input(self, args):\n",
    "        self.reg[self.in_loc] = args\n",
    "        return self.run()  \n",
    "\n",
    "    def noop(self,args):\n",
    "        pass\n",
    "\n",
    "\n",
    "    def do_function(self):\n",
    "        \n",
    "        # read opcode\n",
    "        if self.verbose: print('pointer', self.pnt, '\\nregisters', self.reg, '\\nstack', self.stack)\n",
    "        opcode = self.ins[self.pnt]\n",
    "        self.pnt += 1\n",
    "        func, num_write, num_read = self.functions[opcode]\n",
    "        if func == self.halt:\n",
    "            print('halting')\n",
    "            sys.exit()\n",
    "            return False\n",
    "        # read arguments\n",
    "        if self.verbose: print('arguments from addresses',[self.ins[self.pnt+i] for i in range(num_write+num_read)])\n",
    "        # if 7+self.M in [self.ins[self.pnt+i] for i in range(num_write+num_read)]:\n",
    "        #     print('found mtf')\n",
    "        #     self.verbose = True\n",
    "        #     self.hunting = 20\n",
    "        # if self.hunting > 0 : self.hunting -= 1\n",
    "        # if self.hunting == 0:\n",
    "        #     self.verbose=False\n",
    "        args = tuple(self.ins[self.pnt+i] % self.M for i in range(num_write))\n",
    "        self.pnt += num_write\n",
    "        args += tuple(self.ins[self.pnt+i] if self.ins[self.pnt+i] < 32768 else self.reg[self.ins[self.pnt+i] % self.M] for i in range(num_read))\n",
    "        self.pnt += num_read\n",
    "        if self.verbose: print('................',func.__name__, args)\n",
    "\n",
    "        if func == self.func_in:\n",
    "            print('waiting for input')\n",
    "            self.in_loc = args[0]\n",
    "            return False\n",
    "\n",
    "        # optional: change pointer\n",
    "        res = func(args)\n",
    "        if res: # could do this with walrus\n",
    "            if self.verbose: print('new pointer', res)\n",
    "            self.pnt = res\n",
    "        if res == 0:\n",
    "            print('res 0')\n",
    "            sys.exit()\n",
    "        \n",
    "        # print(opcode, args, func, numargs, pnt)\n",
    "        return True\n",
    "    \n",
    "    def run(self,amount=1000000):\n",
    "        for i in range(amount):\n",
    "            # if i == 10751: self.reg[5]=0\n",
    "            # if i == 10753: self.reg[3]=0\n",
    "            # if i > 10279: self.verbose=True\n",
    "            # if i > 11279: self.verbose=False\n",
    "            if self.verbose: print('\\n',i,self.pnt)\n",
    "            res = self.do_function()\n",
    "            if not res:\n",
    "                # print(i)\n",
    "                return\n",
    "c = load('readyforteleport.pickle')\n",
    "new = Comp({i:val for i, val in enumerate(list(ins))},verbose=False)\n",
    "new.reg = c.reg\n",
    "new.ins = c.ins\n",
    "new.pnt = c.pnt\n",
    "new.in_loc = c.in_loc\n",
    "new.stack = c.stack"
   ]
  },
  {
   "cell_type": "code",
   "execution_count": 165,
   "metadata": {
    "tags": []
   },
   "outputs": [
    {
     "output_type": "stream",
     "name": "stdout",
     "text": [
      "waiting for input\n",
      "waiting for input\n",
      "waiting for input\n",
      "waiting for input\n",
      "waiting for input\n",
      "waiting for input\n",
      "waiting for input\n",
      "waiting for input\n",
      "waiting for input\n",
      "waiting for input\n",
      "\n",
      "\n",
      "You gaze into the mirror, and you see yourself gazing back.  But wait!  It looks like someone wrote on your face while you were unconscious on the beach!  Through the mirror, you see \"uMipOAHxMdwx\" scrawled in charcoal on your forehead.\n",
      "\n",
      "Congratulations; you have reached the end of the challenge!\n",
      "\n",
      "\n",
      "What do you do?\n",
      "waiting for input\n"
     ]
    }
   ],
   "source": [
    "def send_text(text):\n",
    "    if text == 'n' : text = 'north'\n",
    "    if text == 's' : text = 'south'\n",
    "    if text == 'e' : text = 'east'\n",
    "    if text == 'w' : text = 'west'\n",
    "    for chr in text:\n",
    "        new.receive_input(ord(chr))\n",
    "    new.receive_input(ord('\\n'))\n",
    "def send_multiple(commands):\n",
    "    for text in commands:\n",
    "        send_text(text)\n",
    "# new.reg[7]=5\n",
    "# new.ins[6035]=7\n",
    "new.verbose=False\n",
    "\n",
    "# new = load('pedestal.pickle')\n",
    "send_text('use mirror')\n",
    "# send_multiple('neenwseewnne')\n",
    "neenwseewnne"
   ]
  },
  {
   "cell_type": "code",
   "execution_count": 197,
   "metadata": {},
   "outputs": [
    {
     "output_type": "execute_result",
     "data": {
      "text/plain": [
       "[state(cell=1, val=22),\n",
       " state(cell=3, val=26),\n",
       " state(cell=6, val=15),\n",
       " state(cell=3, val=60),\n",
       " state(cell=7, val=42),\n",
       " state(cell=6, val=31),\n",
       " state(cell=8, val=30)]"
      ]
     },
     "metadata": {},
     "execution_count": 197
    }
   ],
   "source": [
    "# option 1 to solve\n",
    "cell2val = {2:4,3:4,4:8,5:9,6:11,7:18,8:1}\n",
    "from aoc_utils import *\n",
    "from collections import namedtuple\n",
    "from operator import mul, sub, add\n",
    "conn = {\n",
    "    1: ((add,2) , (add, 3), (sub, 3), (sub, 5)),\n",
    "    2: ((mul, 4),(mul,6),(mul,3), (add,3)),\n",
    "    3: ((add,2), (mul,2), (mul,4),(mul,6), (sub,6),(sub,5),(sub,7)),\n",
    "    4: ((mul,2),(mul,3),(mul,6),(sub,6),(sub,8)),\n",
    "    5: ((sub,3),(sub,7),(mul,7),(sub,6)),\n",
    "    6: ((mul,2),(mul,3),(sub,3),(mul,4),(sub,4),(sub,5),(sub,7),(mul,7),(mul,8),(sub,8)),\n",
    "    7: ((sub,3),(sub,5),(mul,5),(sub,6),(mul,6),(mul,8)),\n",
    "    8: ((sub,4),(sub,6),(mul,6),(mul,7))\n",
    "}\n",
    "state = namedtuple('state', ['cell','val'])\n",
    "options = set()\n",
    "def getneigh(s):\n",
    "    for c in conn[s.cell]:\n",
    "        res = state(c[1], c[0](s.val,cell2val[c[1]]))\n",
    "        if 0<res.val<100: options.add(res)\n",
    "    return options\n",
    "s = state(1,22)\n",
    "getneigh(s)\n",
    "bfs(getneigh, start = state(1,22),goal=state(8,30))"
   ]
  },
  {
   "cell_type": "code",
   "execution_count": 195,
   "metadata": {},
   "outputs": [
    {
     "output_type": "stream",
     "name": "stdout",
     "text": [
      "neenwseewnne\n"
     ]
    }
   ],
   "source": [
    "# option 2 to solve. Easier to code and gives answer fully. Bit more code though\n",
    "lines = [[mul,8,sub,1],[4,mul,11,mul],[add,4,sub,18],[22,sub,9,mul]]\n",
    "valid = {(row,col) for row in range(len(lines)) for col in range(len(lines[0]))}\n",
    "valid.remove((3,0))\n",
    "\n",
    "from collections import namedtuple\n",
    "state = namedtuple('state', ['cell','val'])\n",
    "s = state((3,0),22)\n",
    "dr = [0,1,0,-1]\n",
    "dc = [1,0,-1,0]\n",
    "def getneigh(s):\n",
    "    r,c = s.cell\n",
    "    options = set()\n",
    "\n",
    "    for i in range(4):\n",
    "        newr = r+dr[i]\n",
    "        newc = c+dc[i]\n",
    "        if (newr,newc) in valid:\n",
    "            if isinstance(lines[newr][newc], int):\n",
    "                op = lines[r][c]\n",
    "                # print(op)\n",
    "                options.add(state((newr,newc),op(s.val,lines[newr][newc])))\n",
    "            else:\n",
    "                options.add(state((newr,newc),s.val))\n",
    "    return options\n",
    "states = bfs(getneigh, start=s, goal=state((0,3),30))\n",
    "ans = []\n",
    "\n",
    "for comb in zippify(states,2):\n",
    "    dr = comb[1].cell[0] - comb[0].cell[0]\n",
    "    dc = comb[1].cell[1] - comb[0].cell[1]\n",
    "    if dr == -1: ans.append('n')\n",
    "    if dr ==  1: ans.append('s')\n",
    "    if dc ==  1: ans.append('e')\n",
    "    if dc == -1: ans.append('w')\n",
    "print(''.join(ans))"
   ]
  },
  {
   "cell_type": "code",
   "execution_count": 86,
   "metadata": {},
   "outputs": [
    {
     "output_type": "execute_result",
     "data": {
      "text/plain": [
       "7"
      ]
     },
     "metadata": {},
     "execution_count": 86
    }
   ],
   "source": [
    "qamHPfkEUpxt\n",
    "qamHPfkEUpxt\n",
    "HjbymqFNVYsE\n",
    "HjbymqFNVYsE\n",
    "rnneuyhJRoco\n",
    "HjbymqFNVYsE"
   ]
  },
  {
   "cell_type": "code",
   "execution_count": 71,
   "metadata": {},
   "outputs": [],
   "source": [
    "save(c,'pedestal.pickle')"
   ]
  },
  {
   "cell_type": "code",
   "execution_count": 30,
   "metadata": {},
   "outputs": [],
   "source": [
    "c = load('readyforteleport.pickle')"
   ]
  },
  {
   "cell_type": "code",
   "execution_count": 90,
   "metadata": {},
   "outputs": [
    {
     "output_type": "execute_result",
     "data": {
      "text/plain": [
       "8"
      ]
     },
     "metadata": {},
     "execution_count": 90
    }
   ],
   "source": [
    "Fireflies were using this dusty old journal as a resting spot until you scared them off.  It reads:\n",
    "\n",
    "Day 1: We have reached what seems to be the final in a series of puzzles guarding an ancient treasure.  I suspect most adventurers give up long before this point, but we're so close!  We must press on!\n",
    "\n",
    "Day 1: P.S.: It's a good thing the island is tropical.  We should have food for weeks!\n",
    "\n",
    "Day 2: The vault appears to be sealed by a mysterious force - the door won't budge an inch.  We don't have the resources to blow it open, and I wouldn't risk damaging the contents even if we did.  We'll have to figure out the lock mechanism.\n",
    "\n",
    "Day 3: The door to the vault has a number carved into it.  Each room leading up to the vault has more numbers or symbols embedded in mosaics in the floors.  We even found a strange glass orb in the antechamber on a pedestal itself labeled with a number.  What could they mean?\n",
    "\n",
    "Day 5: We finally built up the courage to touch the strange orb in the antechamber.  It flashes colors as we carry it from room to room, and sometimes the symbols in the rooms flash colors as well.  It simply evaporates if we try to leave with it, but another appears on the pedestal in the antechamber shortly thereafter.  It also seems to do this even when we return with it to the antechamber from the other rooms.\n",
    "\n",
    "Day 8: When the orb is carried to the vault door, the numbers on the door flash black, and then the orb evaporates.  Did we do something wrong?  Doesn't the door like us?  We also found a small hourglass near the door, endlessly running.  Is it waiting for something?\n",
    "\n",
    "Day 13: Some of my crew swear the orb actually gets heaver or lighter as they walk around with it.  Is that even possible?  They say that if they walk through certain rooms repeatedly, they feel it getting lighter and lighter, but it eventually just evaporates and a new one appears as usual.\n",
    "\n",
    "Day 21: Now I can feel the orb changing weight as I walk around.  It depends on the area - the change is very subtle in some places, but certainly more noticeable in others, especially when I walk into a room with a larger number or out of a room marked '*'.  Perhaps we can actually control the weight of this mysterious orb?\n",
    "\n",
    "Day 34: One of the crewmembers was wandering the rooms today and claimed that the numbers on the door flashed white as he approached!  He said the door still didn't open, but he noticed that the hourglass had run out and flashed black.  When we went to check on it, it was still running like it always does.  Perhaps he is going mad?  If not, which do we need to appease: the door or the hourglass?  Both?\n",
    "\n",
    "Day 55: The fireflies are getting suspicious.  One of them looked at me funny today and then flew off.  I think I saw another one blinking a little faster than usual.  Or was it a little slower?  We are getting better at controlling the weight of the orb, and we think that's what the numbers are all about.  The orb starts at the weight labeled on the pedestal, and goes down as we leave a room marked '-', up as we leave a room marked '+', and up even more as we leave a room marked '*'.  Entering rooms with larger numbers has a greater effect.\n",
    "\n",
    "Day 89: Every once in a great while, one of the crewmembers has the same story: that the door flashes white, the hourglass had already run out, it flashes black, and the orb evaporates.  Are we too slow?  We can't seem to find a way to make the orb's weight match what the door wants before the hourglass runs out.  If only we could find a shorter route through the rooms...\n",
    "\n",
    "Day 144: We are abandoning the mission.  None of us can work out the solution to the puzzle.  I will leave this journal here to help future adventurers, though I am not sure what help it will give.  Good luck!\n",
    "\n",
    "What do you do?\n",
    "waiting for input"
   ]
  },
  {
   "cell_type": "code",
   "execution_count": 259,
   "metadata": {},
   "outputs": [
    {
     "output_type": "stream",
     "name": "stdout",
     "text": [
      "(9, 2, 5, 7, 3)\n"
     ]
    }
   ],
   "source": [
    "from itertools import permutations\n",
    "for comb in permutations([3,9,2,5,7]):\n",
    "    if comb[0] + comb[1]*(comb[2]**2) + comb[3]**3 - comb[4] == 399:\n",
    "        print (comb)\n",
    "        break"
   ]
  },
  {
   "cell_type": "code",
   "execution_count": 7,
   "metadata": {},
   "outputs": [
    {
     "output_type": "execute_result",
     "data": {
      "text/plain": [
       "32776"
      ]
     },
     "metadata": {},
     "execution_count": 7
    }
   ],
   "source": [
    "c.M+8"
   ]
  },
  {
   "cell_type": "code",
   "execution_count": 8,
   "metadata": {},
   "outputs": [
    {
     "output_type": "execute_result",
     "data": {
      "text/plain": [
       "8"
      ]
     },
     "metadata": {},
     "execution_count": 8
    }
   ],
   "source": [
    "32776%c.M"
   ]
  },
  {
   "cell_type": "code",
   "execution_count": null,
   "metadata": {},
   "outputs": [],
   "source": []
  }
 ]
}