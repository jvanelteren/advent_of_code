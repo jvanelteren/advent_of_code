{
 "cells": [
  {
   "cell_type": "code",
   "execution_count": 9,
   "metadata": {},
   "outputs": [],
   "source": [
    "from dataclasses import dataclass\n",
    "from math import gcd, ceil\n",
    "import re\n",
    "import numpy as np\n",
    "from collections import Counter, defaultdict, namedtuple, deque, OrderedDict\n",
    "from functools import cache\n",
    "from itertools import product, chain, combinations, combinations_with_replacement, permutations, accumulate, zip_longest, batched, pairwise\n",
    "import numpy as np\n",
    "from matplotlib import pyplot as plt\n",
    "import networkx as nx\n",
    "\n",
    "from aocutils.common import copy_func, patch_to, patch, to_int, ints, flatten, zippify, multidict, rev, data, quantify, atom, atoms, list_atoms, list_multiply, mapt\n",
    "from aocutils.grid import gridneigh, arr_to_dict, grid_to_dict, neighbors, complexneighbors, arr_neighbors, iterate, Dim, dimensions, positive, manhattan, conv1d, conv2d, rotate, E, W, N, S, winds, TURNLEFT, TURNRIGHT\n",
    "from aocutils.maze import graphparse, bfs, dijkstra, distances, get_path, dfs\n",
    "from aocutils.math import gcd, factors, lcm, crt, mul_inv, Segment, lis, angle, all_combinations, all_permutations, mst, shoelace\n",
    "from aocutils.special import md5, binarysearch, deduce_matches, find_specific_pattern, find_repeat, find_cycle, UnionFind, Octree, LazySegmentTree, Trie\n",
    "from aocutils.visuals import visualize_graph, labelize, animate_grid, plot, animate\n",
    "from aocutils.cfg import CFG\n",
    "from aocutils.earley import State, Earley\n",
    "from aocutils.shunting import ShuntingYard\n",
    "\n",
    "inf = float('inf')"
   ]
  },
  {
   "cell_type": "code",
   "execution_count": 52,
   "metadata": {},
   "outputs": [
    {
     "name": "stdout",
     "output_type": "stream",
     "text": [
      "found\n"
     ]
    },
    {
     "data": {
      "text/plain": [
       "20195115"
      ]
     },
     "execution_count": 52,
     "metadata": {},
     "output_type": "execute_result"
    }
   ],
   "source": [
    "\n",
    "class Node():\n",
    "    def __init__(self, val):\n",
    "        self.val = val\n",
    "        self.l = None\n",
    "        self.r = None\n",
    "    \n",
    "    def addr(self, neigh):\n",
    "        neigh.r = self.r\n",
    "        self.r.l = neigh\n",
    "        self.r = neigh\n",
    "        neigh.l = self\n",
    "        return neigh\n",
    "\n",
    "    def delr(self):\n",
    "        rem = self.r\n",
    "        self.r = rem.r\n",
    "        self.r.l = self\n",
    "        return rem\n",
    "        \n",
    "\n",
    "cur = rec(3)\n",
    "cur.l = cur\n",
    "cur.r = cur\n",
    "cur2 = rec(7)\n",
    "cur.addr(cur2)\n",
    "last = cur2\n",
    "ans = []\n",
    "i = 2\n",
    "r = 20195114\n",
    "find = '286051'\n",
    "ans = ''\n",
    "while i < r + 10:\n",
    "    \n",
    "    total = cur.score + cur2.score\n",
    "    if total > 9:\n",
    "        i += 2\n",
    "        last = last.addr(rec(1))\n",
    "        last = last.addr(rec(total % 10))\n",
    "    else:\n",
    "        i  += 1\n",
    "        last = last.addr(rec(total))\n",
    "    for _ in range(cur.score + 1):\n",
    "        cur = cur.r\n",
    "    for _ in range(cur2.score + 1):\n",
    "        cur2 = cur2.r\n",
    "    # print(total, cur.score, cur2.score, last.score)\n",
    "    ans += str(total)\n",
    "    if find in ans[-10:]:\n",
    "        print('found')\n",
    "        break\n",
    "    else:\n",
    "        ans = ans[-10:]\n",
    "        \n",
    "# ''.join(ans)[r-2:r-2+10]\n",
    "        \n",
    "        \n",
    "i- len(find)\n",
    "    \n",
    "\n"
   ]
  },
  {
   "cell_type": "code",
   "execution_count": 49,
   "metadata": {},
   "outputs": [
    {
     "data": {
      "text/plain": [
       "18"
      ]
     },
     "execution_count": 49,
     "metadata": {},
     "output_type": "execute_result"
    }
   ],
   "source": []
  },
  {
   "cell_type": "code",
   "execution_count": 28,
   "metadata": {},
   "outputs": [
    {
     "data": {
      "text/plain": [
       "False"
      ]
     },
     "execution_count": 28,
     "metadata": {},
     "output_type": "execute_result"
    }
   ],
   "source": [
    "[1,2] in [1,2,3]"
   ]
  },
  {
   "cell_type": "code",
   "execution_count": null,
   "metadata": {},
   "outputs": [],
   "source": []
  },
  {
   "cell_type": "code",
   "execution_count": null,
   "metadata": {},
   "outputs": [],
   "source": []
  },
  {
   "cell_type": "code",
   "execution_count": 5,
   "metadata": {},
   "outputs": [],
   "source": [
    "# grid\n",
    "grid, neigh = gridneigh(\"in.txt\", to_dict=True, parser=lambda x: [(ch) for ch in x])\n"
   ]
  },
  {
   "cell_type": "code",
   "execution_count": null,
   "metadata": {},
   "outputs": [],
   "source": [
    "# graph\n",
    "conn = graphparse(\"in.txt\", parser=lambda line: [x for x in line.split()])\n",
    "conn = graphparse(\n",
    "    \"in.txt\",\n",
    "    parser=lambda line: [int(x) if x.isnumeric() else x for x in line.split()],\n",
    "    weights=True,\n",
    ")"
   ]
  },
  {
   "cell_type": "code",
   "execution_count": 7,
   "metadata": {},
   "outputs": [
    {
     "data": {
      "text/plain": [
       "{(2+2j), (3+1j), (3+3j), (4+2j)}"
      ]
     },
     "execution_count": 7,
     "metadata": {},
     "output_type": "execute_result"
    }
   ],
   "source": [
    "E = 1; W = -1; N = 1j; S = -1j\n",
    "TURNLEFT = lambda x: x * 1j\n",
    "TURNRIGHT = lambda x: x * -1j\n",
    "\n",
    "# parse grid with complex numbers\n",
    "f = open(\"in.txt\").read().split(\"\\n\")\n",
    "lines = [list(line.split()) for line in f]\n",
    "grid = arr_to_dict(lines, tocomplex=True)\n",
    "complexneighbors(3+2j)"
   ]
  },
  {
   "cell_type": "code",
   "execution_count": null,
   "metadata": {},
   "outputs": [],
   "source": []
  }
 ],
 "metadata": {
  "file_extension": ".py",
  "kernelspec": {
   "display_name": ".aocenvpy313",
   "language": "python",
   "name": "python3"
  },
  "language_info": {
   "codemirror_mode": {
    "name": "ipython",
    "version": 3
   },
   "file_extension": ".py",
   "mimetype": "text/x-python",
   "name": "python",
   "nbconvert_exporter": "python",
   "pygments_lexer": "ipython3",
   "version": "3.13.0"
  },
  "mimetype": "text/x-python",
  "name": "python",
  "npconvert_exporter": "python",
  "orig_nbformat": 2,
  "pygments_lexer": "ipython3",
  "version": 3
 },
 "nbformat": 4,
 "nbformat_minor": 2
}
