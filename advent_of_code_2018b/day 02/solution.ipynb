{
 "cells": [
  {
   "cell_type": "code",
   "execution_count": 11,
   "metadata": {},
   "outputs": [
    {
     "data": {
      "text/plain": [
       "8892"
      ]
     },
     "execution_count": 11,
     "metadata": {},
     "output_type": "execute_result"
    }
   ],
   "source": [
    "f = open(\"in.txt\").read().split(\"\\n\")\n",
    "lines = [line for line in f]\n",
    "\n",
    "twos, threes = 0,0\n",
    "for line in lines:\n",
    "    counts = set(Counter(line).values())\n",
    "    twos += 2 in counts\n",
    "    threes += 3 in counts\n",
    "twos * threes"
   ]
  },
  {
   "cell_type": "code",
   "execution_count": 12,
   "metadata": {},
   "outputs": [
    {
     "name": "stdout",
     "output_type": "stream",
     "text": [
      "zihwtxagifpbsnwleydukjmqv\n",
      "zihwtxagifpbsnwleydukjmqv\n"
     ]
    }
   ],
   "source": [
    "len(lines)\n",
    "for line in lines:\n",
    "    for line2 in lines:\n",
    "        if line != line2:\n",
    "            delta = 0\n",
    "            ans = ''\n",
    "            for a,b in zip(line, line2):\n",
    "                if a != b:\n",
    "                    delta += 1\n",
    "                else:\n",
    "                    ans += a\n",
    "            if delta == 1:\n",
    "                print(ans)"
   ]
  }
 ],
 "metadata": {
  "file_extension": ".py",
  "kernelspec": {
   "display_name": "Python 3.11.0 ('.aocenvpy311': venv)",
   "language": "python",
   "name": "python3"
  },
  "language_info": {
   "codemirror_mode": {
    "name": "ipython",
    "version": 3
   },
   "file_extension": ".py",
   "mimetype": "text/x-python",
   "name": "python",
   "nbconvert_exporter": "python",
   "pygments_lexer": "ipython3",
   "version": "3.12.0"
  },
  "mimetype": "text/x-python",
  "name": "python",
  "npconvert_exporter": "python",
  "orig_nbformat": 2,
  "pygments_lexer": "ipython3",
  "version": 3,
  "vscode": {
   "interpreter": {
    "hash": "7b5336723abeab741c71fcc933eb6e6f53a288e70399d841fc0756db1169ea34"
   }
  }
 },
 "nbformat": 4,
 "nbformat_minor": 2
}
