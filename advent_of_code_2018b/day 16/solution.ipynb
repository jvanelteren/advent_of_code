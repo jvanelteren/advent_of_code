{
 "cells": [
  {
   "cell_type": "code",
   "execution_count": 2,
   "metadata": {},
   "outputs": [],
   "source": [
    "from dataclasses import dataclass\n",
    "from math import gcd, ceil\n",
    "import re\n",
    "import numpy as np\n",
    "from collections import Counter, defaultdict, namedtuple, deque, OrderedDict\n",
    "from functools import cache\n",
    "from itertools import product, chain, combinations, combinations_with_replacement, permutations, accumulate, zip_longest, batched, pairwise\n",
    "import numpy as np\n",
    "from matplotlib import pyplot as plt\n",
    "import networkx as nx\n",
    "\n",
    "from aocutils.common import copy_func, patch_to, patch, to_int, ints, flatten, zippify, multidict, rev, data, quantify, atom, atoms, list_atoms, list_multiply, mapt\n",
    "from aocutils.grid import gridneigh, arr_to_dict, grid_to_dict, neighbors, complexneighbors, arr_neighbors, iterate, Dim, dimensions, positive, manhattan, conv1d, conv2d, rotate, E, W, N, S, winds, TURNLEFT, TURNRIGHT\n",
    "from aocutils.maze import graphparse, bfs, dijkstra, distances, get_path, dfs\n",
    "from aocutils.math import gcd, factors, lcm, crt, mul_inv, Segment, lis, angle, all_combinations, all_permutations, mst, shoelace\n",
    "from aocutils.special import md5, binarysearch, deduce_matches, find_specific_pattern, find_repeat, find_cycle, UnionFind, Octree, LazySegmentTree, Trie\n",
    "from aocutils.visuals import visualize_graph, labelize, animate_grid, plot, animate\n",
    "from aocutils.cfg import CFG\n",
    "from aocutils.earley import State, Earley\n",
    "from aocutils.shunting import ShuntingYard\n",
    "\n",
    "inf = float('inf')"
   ]
  },
  {
   "cell_type": "code",
   "execution_count": 118,
   "metadata": {},
   "outputs": [
    {
     "data": {
      "text/plain": [
       "612"
      ]
     },
     "execution_count": 118,
     "metadata": {},
     "output_type": "execute_result"
    }
   ],
   "source": [
    "f = open(\"in.txt\").read().split(\"\\n\\n\\n\\n\")\n",
    "samples, ins = [line for line in f]\n",
    "\n",
    "def addr(reg, ins):\n",
    "    A, B, C = ins[1:]\n",
    "    reg[C] = reg[A] + reg[B]\n",
    "\n",
    "def addi(reg, ins):\n",
    "    A, B, C = ins[1:]\n",
    "    reg[C] = reg[A] + B\n",
    "\n",
    "def mulr(reg, ins):\n",
    "    A, B, C = ins[1:]\n",
    "    reg[C] = reg[A] * reg[B]\n",
    "\n",
    "def muli(reg, ins):\n",
    "    A, B, C = ins[1:]\n",
    "    reg[C] = reg[A] * B\n",
    "\n",
    "def banr(reg, ins):\n",
    "    A, B, C = ins[1:]\n",
    "    reg[C] = reg[A] & reg[B]\n",
    "\n",
    "def bani(reg, ins):\n",
    "    A, B, C = ins[1:]\n",
    "    reg[C] = reg[A] & B\n",
    "\n",
    "def borr(reg, ins):\n",
    "    A, B, C = ins[1:]\n",
    "    reg[C] = reg[A] | reg[B]\n",
    "\n",
    "def bori(reg, ins):\n",
    "    A, B, C = ins[1:]\n",
    "    reg[C] = reg[A] | B\n",
    "\n",
    "def setr(reg, ins):\n",
    "    A, B, C = ins[1:]\n",
    "    reg[C] = reg[A]\n",
    "\n",
    "def seti(reg, ins):\n",
    "    A, B, C = ins[1:]\n",
    "    reg[C] = A\n",
    "\n",
    "def gtir(reg, ins):\n",
    "    A, B, C = ins[1:]\n",
    "    if A > reg[B]:\n",
    "        reg[C] = 1\n",
    "    else:\n",
    "        reg[C] = 0\n",
    "\n",
    "def gtri(reg, ins):\n",
    "    A, B, C = ins[1:]\n",
    "    if reg[A] > B:\n",
    "        reg[C] = 1\n",
    "    else:\n",
    "        reg[C] = 0\n",
    "\n",
    "def gtrr(reg, ins):\n",
    "    A, B, C = ins[1:]\n",
    "    if reg[A] > reg[B]:\n",
    "        reg[C] = 1\n",
    "    else:\n",
    "        reg[C] = 0\n",
    "\n",
    "def eqir(reg, ins):\n",
    "    A, B, C = ins[1:]\n",
    "    if A == reg[B]:\n",
    "        reg[C] = 1\n",
    "    else:\n",
    "        reg[C] = 0\n",
    "def eqri(reg, ins):\n",
    "    A, B, C = ins[1:]\n",
    "    if reg[A] == B:\n",
    "        reg[C] = 1\n",
    "    else:\n",
    "        reg[C] = 0\n",
    "def eqrr(reg, ins):\n",
    "    A, B, C = ins[1:]\n",
    "    if reg[A] == reg[B]:\n",
    "        reg[C] = 1\n",
    "    else:\n",
    "        reg[C] = 0\n",
    "\n",
    "funcs = [addr, addi, mulr, muli, banr, bani, borr, bori, setr, seti, gtir, gtri, gtrr, eqir, eqri, eqrr]\n",
    "\n",
    "def apply(reg, ins, func):\n",
    "    return func(reg, ins)\n",
    "ans = 0\n",
    "options = defaultdict(set)\n",
    "for s in samples.split('\\n\\n'):\n",
    "    before, i, after = [list(ints(i)) for i in s.split('\\n')]\n",
    "    cnt = 0\n",
    "    \n",
    "    for f in funcs:\n",
    "        f((a2:= copy(before)), i)\n",
    "        if a2 == after:\n",
    "            cnt += 1\n",
    "            options[i[0]].add(f)\n",
    "    if cnt >= 3: ans+=1\n",
    "ans\n",
    "    \n",
    "    \n",
    "    \n",
    "    "
   ]
  },
  {
   "cell_type": "code",
   "execution_count": 119,
   "metadata": {},
   "outputs": [
    {
     "name": "stdout",
     "output_type": "stream",
     "text": [
      "<class 'function'>\n"
     ]
    }
   ],
   "source": [
    "input_dict = options\n",
    "for v in input_dict.values():\n",
    "    # Checks the first element of iterable to infer the option type (e.g. string or tuple)\n",
    "    option_type = type(addr)\n",
    "    print(option_type)\n",
    "    break\n",
    "\n",
    "found = 0\n",
    "while found < len(input_dict):\n",
    "    for k, v in input_dict.items():\n",
    "        if not isinstance(v, option_type) and len(v) == 1: # found one\n",
    "            to_rem = v.pop()\n",
    "            input_dict[k] = to_rem\n",
    "            found += 1\n",
    "            for _ , v2 in input_dict.items(): # remove the item from other lists\n",
    "                if not isinstance(v2, option_type) and to_rem in v2:\n",
    "                    v2.remove(to_rem)"
   ]
  },
  {
   "cell_type": "code",
   "execution_count": 120,
   "metadata": {},
   "outputs": [
    {
     "data": {
      "text/plain": [
       "[485, 3, 6, 485]"
      ]
     },
     "execution_count": 120,
     "metadata": {},
     "output_type": "execute_result"
    }
   ],
   "source": [
    "reg = [0,0,0,0]\n",
    "for i in ins.split('\\n'):\n",
    "    nums = list(ints(i))\n",
    "    options[nums[0]](reg, nums)\n",
    "reg"
   ]
  }
 ],
 "metadata": {
  "file_extension": ".py",
  "kernelspec": {
   "display_name": ".aocenvpy313",
   "language": "python",
   "name": "python3"
  },
  "language_info": {
   "codemirror_mode": {
    "name": "ipython",
    "version": 3
   },
   "file_extension": ".py",
   "mimetype": "text/x-python",
   "name": "python",
   "nbconvert_exporter": "python",
   "pygments_lexer": "ipython3",
   "version": "3.13.0"
  },
  "mimetype": "text/x-python",
  "name": "python",
  "npconvert_exporter": "python",
  "orig_nbformat": 2,
  "pygments_lexer": "ipython3",
  "version": 3
 },
 "nbformat": 4,
 "nbformat_minor": 2
}
