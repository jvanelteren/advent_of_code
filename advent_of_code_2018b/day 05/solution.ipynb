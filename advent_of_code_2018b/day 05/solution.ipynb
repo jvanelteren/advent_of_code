{
 "cells": [
  {
   "cell_type": "code",
   "execution_count": 3,
   "metadata": {},
   "outputs": [
    {
     "data": {
      "text/plain": [
       "(5330, 10366)"
      ]
     },
     "execution_count": 3,
     "metadata": {},
     "output_type": "execute_result"
    }
   ],
   "source": [
    "import string\n",
    "line = open('in.txt').read()\n",
    "def reduce(line, char):\n",
    "    l = line.replace(char.lower(), '').replace(char.upper(), '')\n",
    "    ans = []\n",
    "    for ch in l:\n",
    "        if ans and ans[-1].swapcase() == ch:\n",
    "            ans.pop()\n",
    "        else:\n",
    "            ans.append(ch)\n",
    "    return ans\n",
    "ans = sorted([reduce(line, char) for char in string.ascii_lowercase], key=len)\n",
    "len(ans[0]), len(ans[-1])"
   ]
  }
 ],
 "metadata": {
  "file_extension": ".py",
  "kernelspec": {
   "display_name": ".aocenvpy313",
   "language": "python",
   "name": "python3"
  },
  "language_info": {
   "codemirror_mode": {
    "name": "ipython",
    "version": 3
   },
   "file_extension": ".py",
   "mimetype": "text/x-python",
   "name": "python",
   "nbconvert_exporter": "python",
   "pygments_lexer": "ipython3",
   "version": "3.13.0"
  },
  "mimetype": "text/x-python",
  "name": "python",
  "npconvert_exporter": "python",
  "orig_nbformat": 2,
  "pygments_lexer": "ipython3",
  "version": 3
 },
 "nbformat": 4,
 "nbformat_minor": 2
}
