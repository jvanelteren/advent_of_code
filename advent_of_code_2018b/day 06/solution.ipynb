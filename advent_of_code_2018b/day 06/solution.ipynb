{
 "cells": [
  {
   "cell_type": "code",
   "execution_count": 25,
   "metadata": {},
   "outputs": [
    {
     "data": {
      "text/plain": [
       "(156, 193)"
      ]
     },
     "execution_count": 25,
     "metadata": {},
     "output_type": "execute_result"
    }
   ],
   "source": [
    "f = open(\"in.txt\").read().split(\"\\n\")\n",
    "lines = [ints(line) for line in f]\n",
    "lines[0]"
   ]
  },
  {
   "cell_type": "code",
   "execution_count": 46,
   "metadata": {},
   "outputs": [],
   "source": [
    "lines.sort()\n",
    "minx, maxx = lines[0][0], lines[-1][0]\n",
    "lines.sort(key=lambda x: x[1])\n",
    "miny, maxy = lines[0][1], lines[-1][1]\n",
    "ans = defaultdict(int)\n",
    "p2 = 0\n",
    "ex = set()\n",
    "for x in range(minx, maxx+1):\n",
    "    for y in range(miny, maxy+1):\n",
    "        dis = [(manhattan(point, (x,y)), point) for point in lines]\n",
    "        if sum(d for d, point in dis) < 10000:\n",
    "            p2 += 1\n",
    "        dis.sort()\n",
    "        if dis[0][0] != dis[1][0]:\n",
    "            ans[dis[0][1]] += 1\n",
    "        if x == minx or x == maxx or y == miny or y == maxy:\n",
    "            ex.add(dis[0][1])"
   ]
  },
  {
   "cell_type": "code",
   "execution_count": 47,
   "metadata": {},
   "outputs": [
    {
     "data": {
      "text/plain": [
       "(((214, 232), 4342), 42966)"
      ]
     },
     "execution_count": 47,
     "metadata": {},
     "output_type": "execute_result"
    }
   ],
   "source": [
    "for point in ex:\n",
    "    del ans[point]\n",
    "sortdict(ans)[-1], p2"
   ]
  }
 ],
 "metadata": {
  "file_extension": ".py",
  "kernelspec": {
   "display_name": ".aocenvpy313",
   "language": "python",
   "name": "python3"
  },
  "language_info": {
   "codemirror_mode": {
    "name": "ipython",
    "version": 3
   },
   "file_extension": ".py",
   "mimetype": "text/x-python",
   "name": "python",
   "nbconvert_exporter": "python",
   "pygments_lexer": "ipython3",
   "version": "3.13.0"
  },
  "mimetype": "text/x-python",
  "name": "python",
  "npconvert_exporter": "python",
  "orig_nbformat": 2,
  "pygments_lexer": "ipython3",
  "version": 3
 },
 "nbformat": 4,
 "nbformat_minor": 2
}
