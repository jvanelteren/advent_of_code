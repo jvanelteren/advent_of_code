{
 "cells": [
  {
   "cell_type": "code",
   "execution_count": 1,
   "metadata": {},
   "outputs": [],
   "source": [
    "from dataclasses import dataclass\n",
    "from math import gcd, ceil\n",
    "import re\n",
    "import numpy as np\n",
    "from collections import Counter, defaultdict, namedtuple, deque, OrderedDict\n",
    "from functools import cache\n",
    "from itertools import product, chain, combinations, combinations_with_replacement, permutations, accumulate, zip_longest, batched, pairwise\n",
    "import numpy as np\n",
    "from matplotlib import pyplot as plt\n",
    "import networkx as nx\n",
    "\n",
    "from aocutils.common import copy_func, patch_to, patch, to_int, ints, flatten, zippify, multidict, rev, data, quantify, atom, atoms, list_atoms, list_multiply, mapt, sortdict\n",
    "from aocutils.grid import gridneigh, arr_to_dict, grid_to_dict, neighbors, complexneighbors, arr_neighbors, iterate, Dim, dimensions, positive, manhattan, conv1d, conv2d, rotate, E, W, N, S, winds, TURNLEFT, TURNRIGHT\n",
    "from aocutils.maze import graphparse, bfs, dijkstra, distances, get_path, dfs\n",
    "from aocutils.math import gcd, factors, lcm, crt, mul_inv, Segment, lis, angle, all_combinations, all_permutations, mst, shoelace\n",
    "from aocutils.special import md5, binarysearch, deduce_matches, find_specific_pattern, find_repeat, find_cycle, UnionFind, Octree, LazySegmentTree, Trie\n",
    "from aocutils.visuals import visualize_graph, labelize, animate_grid, plot, animate\n",
    "from aocutils.cfg import CFG\n",
    "from aocutils.earley import State, Earley\n",
    "from aocutils.shunting import ShuntingYard\n",
    "\n",
    "inf = float('inf')"
   ]
  },
  {
   "cell_type": "code",
   "execution_count": 2,
   "metadata": {},
   "outputs": [
    {
     "data": {
      "text/plain": [
       "'[1518-03-25 00:01] Guard #743 begins shift'"
      ]
     },
     "execution_count": 2,
     "metadata": {},
     "output_type": "execute_result"
    }
   ],
   "source": [
    "f = open(\"in.txt\").read().split(\"\\n\")\n",
    "lines = [line for line in f]\n",
    "lines[0]"
   ]
  },
  {
   "cell_type": "code",
   "execution_count": 3,
   "metadata": {},
   "outputs": [],
   "source": [
    "totalsleep = defaultdict(list)\n",
    "from datetime import timedelta, datetime\n",
    "\n",
    "lines.sort()    \n",
    "logs = []\n",
    "\n",
    "for log in lines:\n",
    "    start = log[1:17]\n",
    "    start = start.replace('-','*')\n",
    "    dt = datetime(*ints(start))\n",
    "    logs.append((dt, log[18:]))\n",
    "    \n",
    "\n",
    "\n",
    "idx = 1\n",
    "curguard = -1\n",
    "curdt = logs[0][0]\n",
    "asleep = False\n",
    "while idx < len(logs):\n",
    "    curdt += timedelta(1/24/60)\n",
    "    if curdt == logs[idx][0]:\n",
    "        if 'begin' in logs[idx][1]:\n",
    "            asleep = False\n",
    "            t = logs[idx][1]\n",
    "            curguard = ints(logs[idx][1])[0]\n",
    "            \n",
    "        elif 'wakes' in logs[idx][1]:\n",
    "            asleep = False\n",
    "        elif 'falls' in logs[idx][1]:\n",
    "            asleep = True\n",
    "        else:\n",
    "            print('error')\n",
    "        idx += 1\n",
    "    if asleep:\n",
    "        totalsleep[curguard].append(curdt.minute)\n",
    "            \n",
    "    \n",
    "    "
   ]
  },
  {
   "cell_type": "code",
   "execution_count": 4,
   "metadata": {},
   "outputs": [
    {
     "data": {
      "text/plain": [
       "1439"
      ]
     },
     "execution_count": 4,
     "metadata": {},
     "output_type": "execute_result"
    }
   ],
   "source": [
    "maxx = 0\n",
    "maxguard = 0\n",
    "for guard, minutes in totalsleep.items():\n",
    "    total = len(minutes)\n",
    "    if total > maxx:\n",
    "        maxx = total\n",
    "        maxguard = guard\n",
    "maxguard\n"
   ]
  },
  {
   "cell_type": "code",
   "execution_count": 13,
   "metadata": {},
   "outputs": [
    {
     "data": {
      "text/plain": [
       "60438"
      ]
     },
     "execution_count": 13,
     "metadata": {},
     "output_type": "execute_result"
    }
   ],
   "source": [
    "guard, minutes = sortdict(totalsleep, key=len)[-1]\n",
    "guard * Counter(minutes).most_common(1)[0][0]"
   ]
  },
  {
   "cell_type": "code",
   "execution_count": 82,
   "metadata": {},
   "outputs": [],
   "source": [
    "maxx = 0\n",
    "maxguard = 0\n",
    "for guard, minutes in totalsleep.items():\n",
    "    if minutes:\n",
    "        total = Counter(minutes).most_common(1)[0][1]\n",
    "        if total > maxx:\n",
    "            maxx = total\n",
    "            maxguard = guard"
   ]
  },
  {
   "cell_type": "code",
   "execution_count": 15,
   "metadata": {},
   "outputs": [
    {
     "data": {
      "text/plain": [
       "47989"
      ]
     },
     "execution_count": 15,
     "metadata": {},
     "output_type": "execute_result"
    }
   ],
   "source": [
    "# equivalent to\n",
    "guard, minutes = sortdict(totalsleep, key=lambda x: Counter(x).most_common(1)[0][1])[-1]\n",
    "guard * Counter(minutes).most_common(1)[0][0]"
   ]
  }
 ],
 "metadata": {
  "file_extension": ".py",
  "kernelspec": {
   "display_name": ".aocenvpy312",
   "language": "python",
   "name": "python3"
  },
  "language_info": {
   "codemirror_mode": {
    "name": "ipython",
    "version": 3
   },
   "file_extension": ".py",
   "mimetype": "text/x-python",
   "name": "python",
   "nbconvert_exporter": "python",
   "pygments_lexer": "ipython3",
   "version": "3.12.0"
  },
  "mimetype": "text/x-python",
  "name": "python",
  "npconvert_exporter": "python",
  "orig_nbformat": 2,
  "pygments_lexer": "ipython3",
  "version": 3
 },
 "nbformat": 4,
 "nbformat_minor": 2
}
