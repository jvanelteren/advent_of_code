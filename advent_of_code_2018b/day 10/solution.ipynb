{
 "cells": [
  {
   "cell_type": "code",
   "execution_count": 1,
   "metadata": {},
   "outputs": [],
   "source": [
    "from dataclasses import dataclass\n",
    "from math import gcd, ceil\n",
    "import re\n",
    "import numpy as np\n",
    "from collections import Counter, defaultdict, namedtuple, deque, OrderedDict\n",
    "from functools import cache\n",
    "from itertools import product, chain, combinations, combinations_with_replacement, permutations, accumulate, zip_longest, batched, pairwise\n",
    "import numpy as np\n",
    "from matplotlib import pyplot as plt\n",
    "import networkx as nx\n",
    "\n",
    "from aocutils.common import copy_func, patch_to, patch, to_int, ints, flatten, zippify, multidict, rev, data, quantify, atom, atoms, list_atoms, list_multiply, mapt\n",
    "from aocutils.grid import gridneigh, arr_to_dict, grid_to_dict, neighbors, complexneighbors, arr_neighbors, iterate, Dim, dimensions, positive, manhattan, conv1d, conv2d, rotate, E, W, N, S, winds, TURNLEFT, TURNRIGHT, ranges2grid\n",
    "from aocutils.maze import graphparse, bfs, dijkstra, distances, get_path, dfs\n",
    "from aocutils.math import gcd, factors, lcm, crt, mul_inv, Segment, lis, angle, all_combinations, all_permutations, mst, shoelace\n",
    "from aocutils.special import md5, binarysearch, deduce_matches, find_specific_pattern, find_repeat, find_cycle, UnionFind, Octree, LazySegmentTree, Trie\n",
    "from aocutils.visuals import visualize_graph, labelize, animate_grid, plot, animate\n",
    "from aocutils.cfg import CFG\n",
    "from aocutils.earley import State, Earley\n",
    "from aocutils.shunting import ShuntingYard\n",
    "\n",
    "inf = float('inf')"
   ]
  },
  {
   "cell_type": "code",
   "execution_count": null,
   "metadata": {},
   "outputs": [],
   "source": []
  },
  {
   "cell_type": "code",
   "execution_count": 2,
   "metadata": {},
   "outputs": [
    {
     "name": "stdout",
     "output_type": "stream",
     "text": [
      "364\n",
      "104601 104549\n",
      "10451\n",
      "10452\n",
      "10453\n",
      "10454\n",
      "10454 end\n"
     ]
    },
    {
     "data": {
      "image/png": "[encoded data removed]",
      "text/plain": [
       "<Figure size 640x480 with 1 Axes>"
      ]
     },
     "metadata": {},
     "output_type": "display_data"
    }
   ],
   "source": [
    "@dataclass\n",
    "class Star():\n",
    "    x:int\n",
    "    y:int\n",
    "    dx:int\n",
    "    dy:int\n",
    "    def step(self):\n",
    "        self.x += self.dx\n",
    "        self.y += self.dy\n",
    "   \n",
    "f = open(\"in.txt\").read().split(\"\\n\")\n",
    "stars = [Star(*ints(line)) for line in f]\n",
    "print(len({(s.x, s.y)for s in stars}))\n",
    "def dis():\n",
    "    return max(s.x for s in stars) - min(s.x for s in stars)\n",
    "def disy():\n",
    "    return max(s.y for s in stars) - min(s.y for s in stars)\n",
    "    \n",
    "cur = dis()\n",
    "cury = disy()\n",
    "print(cur, cury)\n",
    "for i in range(20000):\n",
    "    if i > 10450:\n",
    "        d = dimensions([(s.x, s.y) for s in stars])\n",
    "        grid = ranges2grid(*d.range)\n",
    "        for s in stars:\n",
    "            grid[s.y - d.min[1]][s.x - d.min[0]]=1\n",
    "            plot(grid)\n",
    "        print(i)\n",
    "        \n",
    "    for s in stars:\n",
    "        s.step()\n",
    "    newx = dis()\n",
    "    newy = disy()\n",
    "    if newy <= cury:\n",
    "        cur = newx\n",
    "        cury = newy\n",
    "        continue\n",
    "    else:\n",
    "        cur = newx\n",
    "        cury = newy\n",
    "        print(i, 'end')\n",
    "        break"
   ]
  },
  {
   "cell_type": "code",
   "execution_count": null,
   "metadata": {},
   "outputs": [],
   "source": []
  }
 ],
 "metadata": {
  "file_extension": ".py",
  "kernelspec": {
   "display_name": ".aocenvpy313",
   "language": "python",
   "name": "python3"
  },
  "language_info": {
   "codemirror_mode": {
    "name": "ipython",
    "version": 3
   },
   "file_extension": ".py",
   "mimetype": "text/x-python",
   "name": "python",
   "nbconvert_exporter": "python",
   "pygments_lexer": "ipython3",
   "version": "3.13.0"
  },
  "mimetype": "text/x-python",
  "name": "python",
  "npconvert_exporter": "python",
  "orig_nbformat": 2,
  "pygments_lexer": "ipython3",
  "version": 3
 },
 "nbformat": 4,
 "nbformat_minor": 2
}
