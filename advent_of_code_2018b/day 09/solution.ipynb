{
 "cells": [
  {
   "cell_type": "code",
   "execution_count": 1,
   "metadata": {},
   "outputs": [],
   "source": [
    "from dataclasses import dataclass\n",
    "from collections import Counter, defaultdict, namedtuple, deque, OrderedDict"
   ]
  },
  {
   "cell_type": "code",
   "execution_count": 2,
   "metadata": {},
   "outputs": [],
   "source": [
    "players = 411\n",
    "last = 71170 * 100\n",
    "\n",
    "\n",
    "class Marble:\n",
    "    left = None\n",
    "    right = None\n",
    "    points = 0\n",
    "\n",
    "    def __init__(self, points):\n",
    "        self.points = points\n",
    "\n",
    "    def insertright(self, m):\n",
    "        rneigh = self.right\n",
    "        self.right = m\n",
    "        rneigh.left = m\n",
    "        m.left = self\n",
    "        m.right = rneigh\n",
    "\n",
    "    def remove(self):\n",
    "        self.left.right = self.right\n",
    "        self.right.left = self.left\n",
    "        return self.points\n",
    "\n",
    "    def __repr__(self):\n",
    "        return f\"{self.left.points}, {self.points}, {self.right.points}\""
   ]
  },
  {
   "cell_type": "code",
   "execution_count": 3,
   "metadata": {},
   "outputs": [
    {
     "data": {
      "text/plain": [
       "3526561003"
      ]
     },
     "execution_count": 3,
     "metadata": {},
     "output_type": "execute_result"
    }
   ],
   "source": [
    "cur = Marble(0)\n",
    "cur.left, cur.right = cur, cur\n",
    "\n",
    "scores = defaultdict(int)\n",
    "for i in range(1, last+1):\n",
    "    if i % 23:\n",
    "        cur = cur.right\n",
    "        cur.insertright(Marble(i))\n",
    "        cur = cur.right\n",
    "    else:\n",
    "        scores[i%players] += i\n",
    "        for _ in range(7):\n",
    "            cur = cur.left\n",
    "        scores[i%players] += cur.remove()\n",
    "        cur = cur.right\n",
    "max(scores.values())"
   ]
  }
 ],
 "metadata": {
  "file_extension": ".py",
  "kernelspec": {
   "display_name": ".aocenvpy313",
   "language": "python",
   "name": "python3"
  },
  "language_info": {
   "codemirror_mode": {
    "name": "ipython",
    "version": 3
   },
   "file_extension": ".py",
   "mimetype": "text/x-python",
   "name": "python",
   "nbconvert_exporter": "python",
   "pygments_lexer": "ipython3",
   "version": "3.13.0"
  },
  "mimetype": "text/x-python",
  "name": "python",
  "npconvert_exporter": "python",
  "orig_nbformat": 2,
  "pygments_lexer": "ipython3",
  "version": 3
 },
 "nbformat": 4,
 "nbformat_minor": 2
}
