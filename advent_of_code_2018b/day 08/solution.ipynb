{
 "cells": [
  {
   "cell_type": "code",
   "execution_count": 69,
   "metadata": {},
   "outputs": [
    {
     "data": {
      "text/plain": [
       "(21502, 43351)"
      ]
     },
     "execution_count": 69,
     "metadata": {},
     "output_type": "execute_result"
    }
   ],
   "source": [
    "from aocutils.common import ints\n",
    "f = open(\"in.txt\").read()\n",
    "ins = list(ints(f))\n",
    "idx = 0\n",
    "meta = 0\n",
    "def parse():\n",
    "    global meta\n",
    "    children, metanum = ins.pop(0), ins.pop(0)\n",
    "    vals = [parse() for _ in range(children)]   \n",
    "    metavals = [ins.pop(0) for _ in range(metanum)]\n",
    "    meta += sum(metavals)\n",
    "    if children:\n",
    "        return sum(vals[m-1] for m in metavals if 0 <= m - 1 < len(vals))\n",
    "    return sum(metavals) \n",
    "parse(), meta\n"
   ]
  }
 ],
 "metadata": {
  "file_extension": ".py",
  "kernelspec": {
   "display_name": ".aocenvpy313",
   "language": "python",
   "name": "python3"
  },
  "language_info": {
   "codemirror_mode": {
    "name": "ipython",
    "version": 3
   },
   "file_extension": ".py",
   "mimetype": "text/x-python",
   "name": "python",
   "nbconvert_exporter": "python",
   "pygments_lexer": "ipython3",
   "version": "3.13.0"
  },
  "mimetype": "text/x-python",
  "name": "python",
  "npconvert_exporter": "python",
  "orig_nbformat": 2,
  "pygments_lexer": "ipython3",
  "version": 3
 },
 "nbformat": 4,
 "nbformat_minor": 2
}
