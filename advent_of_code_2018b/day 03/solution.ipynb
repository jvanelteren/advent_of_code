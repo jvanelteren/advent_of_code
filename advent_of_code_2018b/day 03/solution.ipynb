{
 "cells": [
  {
   "cell_type": "code",
   "execution_count": 41,
   "metadata": {},
   "outputs": [
    {
     "data": {
      "text/plain": [
       "(117948, {567})"
      ]
     },
     "execution_count": 41,
     "metadata": {},
     "output_type": "execute_result"
    }
   ],
   "source": [
    "from collections import defaultdict\n",
    "f = open(\"in.txt\").read().split(\"\\n\")\n",
    "lines = [line for line in f]\n",
    "counts = defaultdict(list)\n",
    "for line in lines:\n",
    "    i, x, y, sx, sy = ints(line)\n",
    "    for dx in range(sx):\n",
    "        for dy in range(sy):\n",
    "            counts[x+dx, y+dy].append(i)\n",
    "    \n",
    "seen = set()\n",
    "double = set()\n",
    "for k,v in counts.items():\n",
    "    if len(v) > 1:\n",
    "        double |= set(v)\n",
    "    seen |= set(v)\n",
    "sum(len(v) > 1 for k,v in counts.items()), seen - double    "
   ]
  }
 ],
 "metadata": {
  "file_extension": ".py",
  "kernelspec": {
   "display_name": "Python 3.11.0 ('.aocenvpy311': venv)",
   "language": "python",
   "name": "python3"
  },
  "language_info": {
   "codemirror_mode": {
    "name": "ipython",
    "version": 3
   },
   "file_extension": ".py",
   "mimetype": "text/x-python",
   "name": "python",
   "nbconvert_exporter": "python",
   "pygments_lexer": "ipython3",
   "version": "3.12.0"
  },
  "mimetype": "text/x-python",
  "name": "python",
  "npconvert_exporter": "python",
  "orig_nbformat": 2,
  "pygments_lexer": "ipython3",
  "version": 3,
  "vscode": {
   "interpreter": {
    "hash": "7b5336723abeab741c71fcc933eb6e6f53a288e70399d841fc0756db1169ea34"
   }
  }
 },
 "nbformat": 4,
 "nbformat_minor": 2
}
