{
 "cells": [
  {
   "cell_type": "code",
   "execution_count": 1,
   "metadata": {},
   "outputs": [
    {
     "data": {
      "text/plain": [
       "'AHJDBEMNFQUPVXGCTYLWZKSROI'"
      ]
     },
     "execution_count": 1,
     "metadata": {},
     "output_type": "execute_result"
    }
   ],
   "source": [
    "import string\n",
    "from collections import defaultdict\n",
    "f = open(\"in.txt\").read().split(\"\\n\")\n",
    "lines = [line for line in f]\n",
    "conn = defaultdict(set)\n",
    "for line in lines:\n",
    "    _, par, _, _, _, _, _, child, _, _ = line.split()\n",
    "    conn[child].add(par)\n",
    "    if par not in conn:\n",
    "        conn[par] = set()\n",
    "ans = []\n",
    "while conn:\n",
    "    options = {k for k, v in conn.items() if not v}\n",
    "    ans.append(min(options))\n",
    "    del conn[ans[-1]]\n",
    "    for k,v in conn.items():\n",
    "        v -= set(ans)\n",
    "''.join(ans)"
   ]
  },
  {
   "cell_type": "code",
   "execution_count": 2,
   "metadata": {},
   "outputs": [
    {
     "data": {
      "text/plain": [
       "('AHJXDUBENGMQFTPYVCLWZKSROI', 1031)"
      ]
     },
     "execution_count": 2,
     "metadata": {},
     "output_type": "execute_result"
    }
   ],
   "source": [
    "import string\n",
    "from collections import defaultdict\n",
    "f = open(\"in.txt\").read().split(\"\\n\")\n",
    "lines = [line for line in f]\n",
    "conn = defaultdict(set)\n",
    "for line in lines:\n",
    "    _, par, _, _, _, _, _, child, _, _ = line.split()\n",
    "    conn[child].add(par)\n",
    "    if par not in conn:\n",
    "        conn[par] = set()\n",
    "times = {char : ord(char)-64+60   for char in string.ascii_uppercase}\n",
    "busy = defaultdict(int)\n",
    "ans = []\n",
    "time = -1\n",
    "while conn or options or busy:\n",
    "    for k,v in busy.items():\n",
    "        busy[k] -= 1\n",
    "    for k in list(busy.keys()):\n",
    "        if not busy[k]:\n",
    "            del busy[k]\n",
    "            ans.append(k)\n",
    "    for k,v in conn.items():\n",
    "        v -= set(ans)\n",
    "            \n",
    "    options = {k for k, v in conn.items() if not v}\n",
    "    while len(busy) < 6 and options:\n",
    "        busy[min(options)] = times[min(options)]\n",
    "        del conn[min(options)]\n",
    "        options.remove(min(options))\n",
    "    time += 1\n",
    "              \n",
    "    \n",
    "''.join(ans), time"
   ]
  }
 ],
 "metadata": {
  "file_extension": ".py",
  "kernelspec": {
   "display_name": ".aocenvpy313",
   "language": "python",
   "name": "python3"
  },
  "language_info": {
   "codemirror_mode": {
    "name": "ipython",
    "version": 3
   },
   "file_extension": ".py",
   "mimetype": "text/x-python",
   "name": "python",
   "nbconvert_exporter": "python",
   "pygments_lexer": "ipython3",
   "version": "3.13.0"
  },
  "mimetype": "text/x-python",
  "name": "python",
  "npconvert_exporter": "python",
  "orig_nbformat": 2,
  "pygments_lexer": "ipython3",
  "version": 3
 },
 "nbformat": 4,
 "nbformat_minor": 2
}
