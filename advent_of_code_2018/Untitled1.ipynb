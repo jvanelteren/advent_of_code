{
 "cells": [
  {
   "cell_type": "code",
   "execution_count": null,
   "metadata": {
    "Collapsed": "false"
   },
   "outputs": [],
   "source": [
    "1  procedure BFS(G,start_v):\n",
    "2      let Q be a queue\n",
    "3      label start_v as discovered\n",
    "4      Q.enqueue(start_v)\n",
    "5      while Q is not empty\n",
    "6          v = Q.dequeue()\n",
    "7          if v is the goal:\n",
    "8              return v\n",
    "9          for all edges from v to w in G.adjacentEdges(v) do\n",
    "10             if w is not labeled as discovered:\n",
    "11                 label w as discovered\n",
    "12                 w.parent = v\n",
    "13                 Q.enqueue(w) "
   ]
  },
  {
   "cell_type": "code",
   "execution_count": 1,
   "metadata": {
    "Collapsed": "false"
   },
   "outputs": [],
   "source": [
    "def bfs(G, start_v):\n",
    "    to_visit= queue()"
   ]
  },
  {
   "cell_type": "code",
   "execution_count": 13,
   "metadata": {
    "Collapsed": "false"
   },
   "outputs": [
    {
     "ename": "SyntaxError",
     "evalue": "invalid syntax (<ipython-input-13-5d031e18a213>, line 6)",
     "output_type": "error",
     "traceback": [
      "\u001b[1;36m  File \u001b[1;32m\"<ipython-input-13-5d031e18a213>\"\u001b[1;36m, line \u001b[1;32m6\u001b[0m\n\u001b[1;33m    while visit\u001b[0m\n\u001b[1;37m               ^\u001b[0m\n\u001b[1;31mSyntaxError\u001b[0m\u001b[1;31m:\u001b[0m invalid syntax\n"
     ]
    }
   ],
   "source": [
    "import queue\n",
    "to_visit = queue.Queue()\n",
    "print(to_visit ==False)\n",
    "start = (0,1)\n",
    "to_visit.put(start)\n",
    "while to_visit:\n",
    "    visiting = to_visit.get()\n",
    "    \n",
    "    "
   ]
  },
  {
   "cell_type": "code",
   "execution_count": 12,
   "metadata": {
    "Collapsed": "false"
   },
   "outputs": [
    {
     "data": {
      "text/plain": [
       "[(0, 1)]"
      ]
     },
     "execution_count": 12,
     "metadata": {},
     "output_type": "execute_result"
    }
   ],
   "source": [
    "list(visit.queue)"
   ]
  },
  {
   "cell_type": "code",
   "execution_count": null,
   "metadata": {
    "Collapsed": "false"
   },
   "outputs": [],
   "source": []
  }
 ],
 "metadata": {
  "kernelspec": {
   "display_name": "Python 3",
   "language": "python",
   "name": "python3"
  },
  "language_info": {
   "codemirror_mode": {
    "name": "ipython",
    "version": 3
   },
   "file_extension": ".py",
   "mimetype": "text/x-python",
   "name": "python",
   "nbconvert_exporter": "python",
   "pygments_lexer": "ipython3",
   "version": "3.7.3"
  }
 },
 "nbformat": 4,
 "nbformat_minor": 4
}
