{
 "cells": [
  {
   "cell_type": "code",
   "execution_count": 454,
   "metadata": {
    "collapsed": true,
    "jupyter": {
     "outputs_hidden": true
    }
   },
   "outputs": [],
   "source": [
    "from IPython.core.debugger import set_trace\n",
    "import numpy as np\n",
    "import sys\n",
    "#import collections\n",
    "import re\n",
    "import pprint\n",
    "pp = pprint.PrettyPrinter(indent=1)\n",
    "f=open('day24input.txt') #not with read because thats probably the whole file\n",
    "lines = [line.rstrip('\\n') for line in f]"
   ]
  },
  {
   "cell_type": "code",
   "execution_count": 455,
   "metadata": {
    "collapsed": true,
    "jupyter": {
     "outputs_hidden": true
    }
   },
   "outputs": [],
   "source": [
    "def initialize(boost):\n",
    "    f=[]\n",
    "    type = 'immune'\n",
    "    id = 0\n",
    "    for line in lines[1:]:\n",
    "        #print (line)\n",
    "        if line == \"\":\n",
    "            pass\n",
    "        elif line =='Infection:':\n",
    "            type = 'infection'\n",
    "            id=0\n",
    "        else:\n",
    "            #print(line)\n",
    "            id+=1\n",
    "            if '(' in line:\n",
    "                b= re.search('(.*) units each with (.*) hit points \\((.*)\\) with an attack that does (.*) (.*) damage at initiative (.*)',line)\n",
    "            else:\n",
    "                b= re.search('(.*) units each with (.*) hit points w(.*)th an attack that does (.*) (.*) damage at initiative (.*)',line)\n",
    "            group ={'id':type+str(id),\n",
    "                   'alliance':type,\n",
    "                   'units':int(b[1]),\n",
    "                   'hp':int(b[2]),\n",
    "                   'attackpower':int(b[4]),\n",
    "                    'weak':[],\n",
    "                    'immune':[],\n",
    "                   'attacktype':b[5],\n",
    "                    'initiative':int(b[6]),\n",
    "                    'target':None,\n",
    "                    'istarget':False,\n",
    "                    'ingame':True\n",
    "\n",
    "                   }\n",
    "            group['ep']=group['attackpower']*group['units']\n",
    "\n",
    "            if len(b[3])>2:\n",
    "                specials = b[3].split('; ')\n",
    "                for item in specials:\n",
    "                    specialresult = re.search('(.*) to (.*)',item)\n",
    "                    if specialresult[1]=='weak':\n",
    "                        group['weak']=specialresult[2].split(', ')\n",
    "                    elif specialresult[1]=='immune':\n",
    "                        group['immune']=specialresult[2].split(', ')\n",
    "                    else:\n",
    "                        print ('specialresult[1]')\n",
    "                        sys.exit()\n",
    "            if group['alliance']=='immune':\n",
    "                group['attackpower']+=boost\n",
    "            group['ep']=group['attackpower']*group['units']\n",
    "            f.append(group)        \n",
    "            #pp.pprint(group)\n",
    "\n",
    "    return (f)"
   ]
  },
  {
   "cell_type": "code",
   "execution_count": 456,
   "metadata": {
    "collapsed": true,
    "jupyter": {
     "outputs_hidden": true
    }
   },
   "outputs": [],
   "source": [
    "def checkend(f):\n",
    "    imm=[group for group in f if group['alliance']=='immune']\n",
    "    inf=[group for group in f if group['alliance']=='infection']\n",
    "    if (len(imm)==0) or (len(inf))==0:\n",
    "        print ('battle-end')\n",
    "        print ('immune system',sum([x['units'] for x in imm]))\n",
    "        print ('infection',sum([x['units'] for x in inf]))\n",
    "        if  sum([x['units'] for x in imm])>0:\n",
    "            print ('winner')\n",
    "            print (f)\n",
    "            sys.exit()\n",
    "        return True\n",
    "    else: return False\n",
    "    \n",
    "def update_ep(group):\n",
    "    pass\n",
    "    #group['attackpower']*group['units']\n",
    "\n",
    "\n",
    "def select_target(group,potentialtargets):# returns a groups ID to attack or none if none is selected\n",
    "    #print (potentialtargets)\n",
    "    for p in potentialtargets:\n",
    "        p['potentialdamage']=calc_damage(group,p)\n",
    "    #potentialdamage, effective power; if there is still a tie, it chooses the defending group with the highest initiative. \n",
    "    potentialtargets.sort(key=lambda x:(x['potentialdamage'],x['ep'],x['initiative']),reverse=True)\n",
    "    \n",
    "    #if target exists with nonnegative potential damage, return that target\n",
    "    #print (potentialtargets)\n",
    "    if potentialtargets[0]['potentialdamage']>0:\n",
    "        #print ('attacker {}, potentialdamage {}, potentialtargetid {}'.format(group['id'],potentialtargets[0]['potentialdamage'],potentialtargets[0]['id']))\n",
    "\n",
    "        return potentialtargets[0]['id']\n",
    "    else:\n",
    "        #print ('no target found',[[x['id'],x['potentialdamage'],x['ep'],x['initiative']] for x in potentialtargets])\n",
    "        return None\n",
    "    \n",
    "    \n",
    "def select_targets(f):\n",
    "    f.sort(key=lambda x:(x['ep'],x['initiative']),reverse=True)\n",
    "    #print ('selecting targets',[[x['id'],x['ep'],x['initiative']] for x in f])\n",
    "    for group in f:\n",
    "        #select enemy army that is from other alliance and is not a target already and is in game\n",
    "        #print ('selecting target for ',group['id'])\n",
    "        potentialtargets = [potential for potential in f if (potential['alliance']!=group['alliance'])and (potential['ingame']) and (potential['istarget'] is False)]\n",
    "        if len(potentialtargets)==0:\n",
    "            #print ('no potential targets\\n',group)\n",
    "            pass\n",
    "        else:\n",
    "            group['target'] = select_target(group,potentialtargets)\n",
    "            #print ('target found ', group['target'])\n",
    "            if group['target']!=None:\n",
    "                for g in f:\n",
    "                    if g['id'] == group['target']:\n",
    "                        g['istarget'] = True \n",
    "    return f\n",
    "\n",
    "def deal_damage(f):\n",
    "    f.sort(key=lambda x:(x['initiative']),reverse=True)\n",
    "    #print ('selecting target\\n',[[x['id'],x['initiative']] for x in f])\n",
    "    for group in f:\n",
    "        if group['ingame'] and group['target'] is not False:\n",
    "            for g in f:\n",
    "                if g['id'] == group['target']:\n",
    "                    #target found it's g\n",
    "                    killed = calc_damage(group,g)//g['hp']\n",
    "                    #print (group['id'],'killed ',killed, 'from',g['id'])\n",
    "                    g['units']-= killed\n",
    "                    if g['units']<=0:\n",
    "                        g['ingame']=False\n",
    "                        #print (g['id'],' is dead')\n",
    "                    else:\n",
    "                        g['ep']=g['attackpower']*g['units']\n",
    "                        #print (g['id'],' new ep ',g['ep'])\n",
    "    return f\n",
    "\n",
    "def removedeadandresettargets(f):\n",
    "    #print ('removedead',[[x['id'],x['ingame'],x['units'] ]for x in f])\n",
    "    f= [group for group in f if group['ingame']]\n",
    "    for group in f:\n",
    "        group['istarget']=False\n",
    "        group['target']=False\n",
    "    #print ('units remaining ',len(f))\n",
    "    #if len(f)==4:\n",
    "    #    #print (f)\n",
    "    return f\n",
    "        \n",
    "    \n",
    "def fight(f):\n",
    "    #print ('start fight')\n",
    "    f=select_targets(f)\n",
    "    f=deal_damage(f)\n",
    "    f=removedeadandresettargets(f)\n",
    "    if checkend(f):\n",
    "        print ('end')\n",
    "        return(True,f)\n",
    "    else:##\n",
    "        return (False,f)\n",
    "\n",
    "def calc_damage(attacker,defender):\n",
    "    if attacker['attacktype'] in defender['weak']:\n",
    "        return attacker['ep']*2\n",
    "    elif attacker['attacktype'] in defender['immune']:\n",
    "        return 0\n",
    "    else:#\n",
    "        return attacker['ep']\n",
    "    \n",
    "def combat(f):\n",
    "    fightready = False\n",
    "    i=0\n",
    "    while fightready is False:\n",
    "        result =fight(f) \n",
    "        fightready=result[0]\n",
    "        f=result[1]\n",
    "        i+=1\n",
    "        if i>10000:\n",
    "            print (f)\n",
    "            print (len(f))\n",
    "            print ('units',[[x['id'],x['units'],x['attacktype'],x['immune']]for x in f])\n",
    "            sys.exit(0)\n",
    "    return "
   ]
  },
  {
   "cell_type": "code",
   "execution_count": 461,
   "metadata": {
    "collapsed": true,
    "jupyter": {
     "outputs_hidden": true
    }
   },
   "outputs": [
    {
     "name": "stdout",
     "output_type": "stream",
     "text": [
      "current boost 36\n",
      "battle-end\n",
      "immune system 9174\n",
      "infection 0\n",
      "winner\n",
      "[{'id': 'immune2', 'alliance': 'immune', 'units': 210, 'hp': 5535, 'attackpower': 91, 'weak': ['bludgeoning'], 'immune': [], 'attacktype': 'slashing', 'initiative': 20, 'target': False, 'istarget': False, 'ingame': True, 'ep': 19110, 'potentialdamage': 63}, {'id': 'immune8', 'alliance': 'immune', 'units': 958, 'hp': 10067, 'attackpower': 65, 'weak': ['bludgeoning'], 'immune': [], 'attacktype': 'cold', 'initiative': 13, 'target': False, 'istarget': False, 'ingame': True, 'ep': 62270, 'potentialdamage': 63}, {'id': 'immune10', 'alliance': 'immune', 'units': 1111, 'hp': 3593, 'attackpower': 45, 'weak': [], 'immune': [], 'attacktype': 'bludgeoning', 'initiative': 11, 'target': False, 'istarget': False, 'ingame': True, 'ep': 49995, 'potentialdamage': 63}, {'id': 'immune4', 'alliance': 'immune', 'units': 42, 'hp': 4951, 'attackpower': 396, 'weak': [], 'immune': ['cold'], 'attacktype': 'fire', 'initiative': 9, 'target': False, 'istarget': False, 'ingame': True, 'ep': 16632, 'potentialdamage': 63}, {'id': 'immune5', 'alliance': 'immune', 'units': 6853, 'hp': 6574, 'attackpower': 43, 'weak': [], 'immune': ['cold', 'slashing', 'fire'], 'attacktype': 'bludgeoning', 'initiative': 4, 'target': False, 'istarget': False, 'ingame': True, 'ep': 294679, 'potentialdamage': 0}]\n"
     ]
    },
    {
     "ename": "SystemExit",
     "evalue": "",
     "output_type": "error",
     "traceback": [
      "An exception has occurred, use %tb to see the full traceback.\n",
      "\u001b[1;31mSystemExit\u001b[0m\n"
     ]
    },
    {
     "name": "stderr",
     "output_type": "stream",
     "text": [
      "C:\\Users\\Jesse\\Anaconda3\\lib\\site-packages\\IPython\\core\\interactiveshell.py:2889: UserWarning: To exit: use 'exit', 'quit', or Ctrl-D.\n",
      "  warn(\"To exit: use 'exit', 'quit', or Ctrl-D.\", stacklevel=1)\n"
     ]
    }
   ],
   "source": [
    "boostmax = 40\n",
    "for x in range(36,boostmax):\n",
    "    print ('current boost',x)\n",
    "    f=initialize(x)\n",
    "    result = combat(f)\n",
    "    pass"
   ]
  },
  {
   "cell_type": "code",
   "execution_count": null,
   "metadata": {
    "collapsed": true,
    "jupyter": {
     "outputs_hidden": true
    }
   },
   "outputs": [],
   "source": [
    "a=True\n",
    "not a is False"
   ]
  },
  {
   "cell_type": "code",
   "execution_count": 383,
   "metadata": {
    "collapsed": true,
    "jupyter": {
     "outputs_hidden": true
    }
   },
   "outputs": [],
   "source": [
    "27\n",
    "a=[{'id': 'infection7', 'alliance': 'infection', 'units': 62, 'hp': 44733, 'attackpower': 258, 'weak': ['radiation', 'fire'], 'immune': ['cold', 'bludgeoning'], 'attacktype': 'cold', 'initiative': 18, 'target': False, 'istarget': False, 'ingame': True, 'ep': 15996, 'potentialdamage': 0}, {'id': 'infection3', 'alliance': 'infection', 'units': 1113, 'hp': 41570, 'attackpower': 63, 'weak': [], 'immune': ['fire', 'bludgeoning'], 'attacktype': 'fire', 'initiative': 14, 'target': False, 'istarget': False, 'ingame': True, 'ep': 70119, 'potentialdamage': 0}, {'id': 'immune5', 'alliance': 'immune', 'units': 6019, 'hp': 6574, 'attackpower': 35, 'weak': [], 'immune': ['cold', 'slashing', 'fire'], 'attacktype': 'bludgeoning', 'initiative': 4, 'target': False, 'istarget': False, 'ingame': True, 'ep': 210665, 'potentialdamage': 768}, {'id': 'infection10', 'alliance': 'infection', 'units': 32, 'hp': 36170, 'attackpower': 24, 'weak': ['slashing', 'cold'], 'immune': ['bludgeoning'], 'attacktype': 'radiation', 'initiative': 1, 'target': False, 'istarget': False, 'ingame': True, 'ep': 768, 'potentialdamage': 0}]"
   ]
  },
  {
   "cell_type": "code",
   "execution_count": 384,
   "metadata": {
    "collapsed": true,
    "jupyter": {
     "outputs_hidden": true
    }
   },
   "outputs": [
    {
     "name": "stdout",
     "output_type": "stream",
     "text": [
      "[{'alliance': 'infection',\n",
      "  'attackpower': 258,\n",
      "  'attacktype': 'cold',\n",
      "  'ep': 15996,\n",
      "  'hp': 44733,\n",
      "  'id': 'infection7',\n",
      "  'immune': ['cold', 'bludgeoning'],\n",
      "  'ingame': True,\n",
      "  'initiative': 18,\n",
      "  'istarget': False,\n",
      "  'potentialdamage': 0,\n",
      "  'target': False,\n",
      "  'units': 62,\n",
      "  'weak': ['radiation', 'fire']},\n",
      " {'alliance': 'infection',\n",
      "  'attackpower': 63,\n",
      "  'attacktype': 'fire',\n",
      "  'ep': 70119,\n",
      "  'hp': 41570,\n",
      "  'id': 'infection3',\n",
      "  'immune': ['fire', 'bludgeoning'],\n",
      "  'ingame': True,\n",
      "  'initiative': 14,\n",
      "  'istarget': False,\n",
      "  'potentialdamage': 0,\n",
      "  'target': False,\n",
      "  'units': 1113,\n",
      "  'weak': []},\n",
      " {'alliance': 'immune',\n",
      "  'attackpower': 35,\n",
      "  'attacktype': 'bludgeoning',\n",
      "  'ep': 210665,\n",
      "  'hp': 6574,\n",
      "  'id': 'immune5',\n",
      "  'immune': ['cold', 'slashing', 'fire'],\n",
      "  'ingame': True,\n",
      "  'initiative': 4,\n",
      "  'istarget': False,\n",
      "  'potentialdamage': 768,\n",
      "  'target': False,\n",
      "  'units': 6019,\n",
      "  'weak': []},\n",
      " {'alliance': 'infection',\n",
      "  'attackpower': 24,\n",
      "  'attacktype': 'radiation',\n",
      "  'ep': 768,\n",
      "  'hp': 36170,\n",
      "  'id': 'infection10',\n",
      "  'immune': ['bludgeoning'],\n",
      "  'ingame': True,\n",
      "  'initiative': 1,\n",
      "  'istarget': False,\n",
      "  'potentialdamage': 0,\n",
      "  'target': False,\n",
      "  'units': 32,\n",
      "  'weak': ['slashing', 'cold']}]\n"
     ]
    }
   ],
   "source": [
    "pp.pprint(a)"
   ]
  },
  {
   "cell_type": "code",
   "execution_count": null,
   "metadata": {
    "collapsed": true,
    "jupyter": {
     "outputs_hidden": true
    }
   },
   "outputs": [],
   "source": []
  },
  {
   "cell_type": "code",
   "execution_count": null,
   "metadata": {
    "collapsed": true,
    "jupyter": {
     "outputs_hidden": true
    }
   },
   "outputs": [],
   "source": []
  },
  {
   "cell_type": "code",
   "execution_count": null,
   "metadata": {
    "collapsed": true,
    "jupyter": {
     "outputs_hidden": true
    }
   },
   "outputs": [],
   "source": [
    "current boost 37\n",
    "battle-end\n",
    "immune system 8826\n",
    "infection 0\n",
    "winner\n",
    "too low"
   ]
  },
  {
   "cell_type": "code",
   "execution_count": null,
   "metadata": {
    "collapsed": true,
    "jupyter": {
     "outputs_hidden": true
    }
   },
   "outputs": [],
   "source": [
    "units': 6275, bij boost 29\n",
    "maar infinite loop\n",
    "\n",
    "28 wordt immune langzaam gesloopt nog"
   ]
  },
  {
   "cell_type": "code",
   "execution_count": null,
   "metadata": {
    "collapsed": true,
    "jupyter": {
     "outputs_hidden": true
    }
   },
   "outputs": [],
   "source": []
  },
  {
   "cell_type": "code",
   "execution_count": 379,
   "metadata": {
    "collapsed": true,
    "jupyter": {
     "outputs_hidden": true
    }
   },
   "outputs": [],
   "source": [
    "test = [1,2,3]\n",
    "test.sort(reverse=True)"
   ]
  },
  {
   "cell_type": "code",
   "execution_count": 380,
   "metadata": {
    "collapsed": true,
    "jupyter": {
     "outputs_hidden": true
    }
   },
   "outputs": [
    {
     "data": {
      "text/plain": [
       "[3, 2, 1]"
      ]
     },
     "execution_count": 380,
     "metadata": {},
     "output_type": "execute_result"
    }
   ],
   "source": [
    "test"
   ]
  },
  {
   "cell_type": "code",
   "execution_count": 411,
   "metadata": {
    "collapsed": true,
    "jupyter": {
     "outputs_hidden": true
    }
   },
   "outputs": [
    {
     "data": {
      "text/plain": [
       "8826"
      ]
     },
     "execution_count": 411,
     "metadata": {},
     "output_type": "execute_result"
    }
   ],
   "source": [
    "1288+569+6969"
   ]
  },
  {
   "cell_type": "code",
   "execution_count": null,
   "metadata": {
    "collapsed": true,
    "jupyter": {
     "outputs_hidden": true
    }
   },
   "outputs": [],
   "source": []
  }
 ],
 "metadata": {
  "kernelspec": {
   "display_name": "Python 3",
   "language": "python",
   "name": "python3"
  },
  "language_info": {
   "codemirror_mode": {
    "name": "ipython",
    "version": 3
   },
   "file_extension": ".py",
   "mimetype": "text/x-python",
   "name": "python",
   "nbconvert_exporter": "python",
   "pygments_lexer": "ipython3",
   "version": "3.7.3"
  }
 },
 "nbformat": 4,
 "nbformat_minor": 4
}
