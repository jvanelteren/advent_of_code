{
 "cells": [
  {
   "cell_type": "code",
   "execution_count": 136,
   "metadata": {
    "collapsed": true
   },
   "outputs": [],
   "source": [
    "from IPython.core.debugger import set_trace\n",
    "import numpy as np\n",
    "import sys\n",
    "import collections\n",
    "import matplotlib\n",
    "import matplotlib.pyplot as plt\n",
    "\n",
    "\n",
    "f=open('day18input.txt') #not with read because thats probably the whole file\n",
    "lines = [line.rstrip('\\n') for line in f]"
   ]
  },
  {
   "cell_type": "code",
   "execution_count": 137,
   "metadata": {},
   "outputs": [],
   "source": [
    "neighborarray = np.array([(-1,-1),(-1,0),(-1,1),(0,-1),(0,1),(1,-1),(1,0),(1,1)])\n",
    "\n",
    "def getneighbors(cell,forest):\n",
    "    neighbors = cell+neighborarray\n",
    "\n",
    "    return [tuple(x) for x in neighbors if (x[0]>=0 and x[1]>=0 and x[0]<forest.shape[0] and x[1]<forest.shape[1])]\n",
    "    \n",
    "\n",
    "def transformforest(forest):\n",
    "    newforest = forest.copy()\n",
    "    for cell, value in np.ndenumerate(forest):\n",
    "        neighborindices = getneighbors(cell,forest)\n",
    "        neighborvalues = [forest[n] for n in neighborindices]\n",
    "        neighbortotal = sum(neighborvalues)          \n",
    "        if value == 0:#open becomes forest is 3 or more trees\n",
    "            if neighbortotal//10>=3: newforest[cell]=10\n",
    "        elif value == 1:#lumbercamp becomes open is not >=1 lumber and >=1 forest\n",
    "            if not (neighbortotal%10>=1 and neighbortotal//10>=1): newforest[cell]=0\n",
    "        elif value ==10: #trees become lumberyard if at least 3 lumberyards\n",
    "            if neighbortotal%10>=3: newforest[cell]=1\n",
    "    return newforest\n"
   ]
  },
  {
   "cell_type": "code",
   "execution_count": 138,
   "metadata": {
    "collapsed": true
   },
   "outputs": [],
   "source": [
    "forest =[]\n",
    "dic = {'.':0, '#':1, '|':10}\n",
    "forestsum = []\n",
    "foresttrees = []\n",
    "forestlumber = []\n",
    "for line in lines:\n",
    "    #print (list(line))\n",
    "    forest.append(([dic[b] for b in list(line)]))\n",
    "forest = np.array(forest)"
   ]
  },
  {
   "cell_type": "code",
   "execution_count": 139,
   "metadata": {},
   "outputs": [
    {
     "name": "stdout",
     "output_type": "stream",
     "text": [
      "after round 0\n",
      " [[10 10  0 ...,  0  1  0]\n",
      " [ 0  0  0 ...,  0  1  0]\n",
      " [ 1  1  0 ..., 10  0  0]\n",
      " ..., \n",
      " [ 1  0 10 ..., 10  1 10]\n",
      " [ 0  0 10 ...,  1  0  0]\n",
      " [ 0  0 10 ...,  1  0  0]]\n",
      "100 \n",
      " [[ 0  0  0 ...,  0  0  0]\n",
      " [ 0  0  0 ...,  0  0  0]\n",
      " [ 0  0  0 ...,  0  0  0]\n",
      " ..., \n",
      " [ 0  0  0 ...,  0  1  1]\n",
      " [ 0  0  0 ...,  1  1  1]\n",
      " [ 0  0  0 ...,  1 10 10]]\n",
      "200 \n",
      " [[10  1  1 ...,  0  0  0]\n",
      " [10  1  1 ...,  0  0  0]\n",
      " [ 1  1  0 ..., 10  0  0]\n",
      " ..., \n",
      " [ 0  0  0 ...,  0  0  0]\n",
      " [ 0  0  0 ...,  0  0  0]\n",
      " [ 0  0  0 ...,  0  0  0]]\n",
      "300 \n",
      " [[ 0  0  0 ...,  0  0  0]\n",
      " [ 0  0  0 ...,  0  0  0]\n",
      " [ 0  0  0 ...,  0  0  0]\n",
      " ..., \n",
      " [ 0  0  0 ...,  0  1  1]\n",
      " [ 0  0  0 ...,  1  1  1]\n",
      " [ 0  0  0 ...,  1 10 10]]\n",
      "400 \n",
      " [[ 0  0  0 ..., 10  0  0]\n",
      " [ 0  0  0 ..., 10 10  0]\n",
      " [ 0  0  0 ..., 10 10  0]\n",
      " ..., \n",
      " [ 1  1  0 ...,  1 10 10]\n",
      " [ 1  1  1 ..., 10 10 10]\n",
      " [10 10  1 ..., 10 10  0]]\n",
      "500 \n",
      " [[ 0  0 10 ...,  0  0  0]\n",
      " [ 0 10 10 ...,  0  0  0]\n",
      " [ 0 10 10 ...,  0  0  0]\n",
      " ..., \n",
      " [ 0  0  0 ...,  1  1 10]\n",
      " [ 0  0  0 ...,  1  1 10]\n",
      " [ 0  0  0 ...,  1 10 10]]\n",
      "600 \n",
      " [[ 0  0  0 ..., 10 10 10]\n",
      " [ 0  0  0 ..., 10 10 10]\n",
      " [ 0  0  0 ...,  1 10 10]\n",
      " ..., \n",
      " [ 0  0  0 ...,  0  0  0]\n",
      " [ 0  0  0 ...,  0  0  0]\n",
      " [ 0  0  0 ...,  0  0  0]]\n",
      "700 \n",
      " [[10 10 10 ...,  0  0  0]\n",
      " [10 10 10 ...,  0  0  0]\n",
      " [10 10  1 ...,  0  0  0]\n",
      " ..., \n",
      " [10 10 10 ...,  0  0  0]\n",
      " [ 0 10 10 ...,  0  0  0]\n",
      " [ 0  0  0 ...,  0  0  0]]\n",
      "800 \n",
      " [[ 0  0  0 ...,  1  1 10]\n",
      " [ 0  0  0 ...,  1  1 10]\n",
      " [ 0  0  0 ...,  0  1  1]\n",
      " ..., \n",
      " [ 0  0  0 ..., 10  0  0]\n",
      " [ 0  0  0 ..., 10  0  0]\n",
      " [ 0  0  0 ...,  0  0  0]]\n",
      "900 \n",
      " [[10  1  1 ...,  0  0  0]\n",
      " [10  1  1 ...,  0  0  0]\n",
      " [ 1  1  0 ...,  0  0  0]\n",
      " ..., \n",
      " [10 10  1 ...,  0  0  0]\n",
      " [10 10 10 ...,  0  0  0]\n",
      " [10 10 10 ...,  0  0  0]]\n"
     ]
    }
   ],
   "source": [
    "def iterate():\n",
    "    global forest\n",
    "    print ('after round 0\\n', forest)\n",
    "    for i in range(1,1000):\n",
    "        if i%100==0:print(i,'\\n',forest)\n",
    "        forest = transformforest(forest)\n",
    "        foresttrees.append(np.count_nonzero(np.array(forest==10)))\n",
    "        forestlumber.append(np.count_nonzero(np.array(forest==1)))\n",
    "        \n",
    "        \n",
    "        forestsum.append(np.sum(forest))\n",
    "        #print ('after round',i,',\\n',forest)\n",
    "    return (forestsum,foresttrees,forestlumber,forest)\n",
    "            \n",
    "#%load_ext line_profiler           \n",
    "#%lprun -f transformforest end=iterate()\n",
    "forestsum,foresttrees,forestlumber,forest = iterate()"
   ]
  },
  {
   "cell_type": "code",
   "execution_count": 142,
   "metadata": {},
   "outputs": [
    {
     "data": {
      "image/png": "[encoded data removed]",
      "text/plain": [
       "<Figure size 432x288 with 1 Axes>"
      ]
     },
     "metadata": {},
     "output_type": "display_data"
    }
   ],
   "source": [
    "\n",
    "# Data for plotting\n",
    "y = forestsum\n",
    "x = range(1,1000)\n",
    "\n",
    "fig, ax = plt.subplots()\n",
    "ax.plot(x, y)\n",
    "\n",
    "ax.set(xlabel='time (s)', ylabel='voltage (mV)',\n",
    "       title='About as simple as it gets, folks')\n",
    "ax.grid()\n",
    "\n",
    "fig.savefig(\"test.png\")\n",
    "plt.show()"
   ]
  },
  {
   "cell_type": "code",
   "execution_count": 143,
   "metadata": {},
   "outputs": [
    {
     "data": {
      "image/png": "[encoded data removed]",
      "text/plain": [
       "<Figure size 432x288 with 1 Axes>"
      ]
     },
     "metadata": {},
     "output_type": "display_data"
    }
   ],
   "source": [
    "\n",
    "# Data for plotting\n",
    "y = forestsum[600:650]\n",
    "x = range(600,650)\n",
    "\n",
    "fig, ax = plt.subplots()\n",
    "ax.plot(x, y)\n",
    "\n",
    "ax.set(xlabel='time (s)', ylabel='voltage (mV)',\n",
    "       title='About as simple as it gets, folks')\n",
    "ax.grid()\n",
    "\n",
    "fig.savefig(\"test.png\")\n",
    "plt.show()"
   ]
  },
  {
   "cell_type": "code",
   "execution_count": 144,
   "metadata": {},
   "outputs": [
    {
     "data": {
      "text/plain": [
       "6196"
      ]
     },
     "execution_count": 144,
     "metadata": {},
     "output_type": "execute_result"
    }
   ],
   "source": [
    "forestsum[610]"
   ]
  },
  {
   "cell_type": "code",
   "execution_count": 145,
   "metadata": {},
   "outputs": [
    {
     "data": {
      "text/plain": [
       "6196"
      ]
     },
     "execution_count": 145,
     "metadata": {},
     "output_type": "execute_result"
    }
   ],
   "source": [
    "forestsum[638]"
   ]
  },
  {
   "cell_type": "code",
   "execution_count": 146,
   "metadata": {},
   "outputs": [
    {
     "data": {
      "text/plain": [
       "28"
      ]
     },
     "execution_count": 146,
     "metadata": {},
     "output_type": "execute_result"
    }
   ],
   "source": [
    "638-610"
   ]
  },
  {
   "cell_type": "code",
   "execution_count": 147,
   "metadata": {},
   "outputs": [
    {
     "data": {
      "text/plain": [
       "22"
      ]
     },
     "execution_count": 147,
     "metadata": {},
     "output_type": "execute_result"
    }
   ],
   "source": [
    "610%28"
   ]
  },
  {
   "cell_type": "code",
   "execution_count": 153,
   "metadata": {},
   "outputs": [
    {
     "data": {
      "text/plain": [
       "417020"
      ]
     },
     "execution_count": 153,
     "metadata": {},
     "output_type": "execute_result"
    }
   ],
   "source": [
    "i = 10\n",
    "foresttrees[i]*forestlumber[i]"
   ]
  },
  {
   "cell_type": "code",
   "execution_count": 149,
   "metadata": {},
   "outputs": [
    {
     "data": {
      "text/plain": [
       "202410"
      ]
     },
     "execution_count": 149,
     "metadata": {},
     "output_type": "execute_result"
    }
   ],
   "source": [
    "i = 638\n",
    "foresttrees[i]*forestlumber[i]"
   ]
  },
  {
   "cell_type": "code",
   "execution_count": 151,
   "metadata": {},
   "outputs": [
    {
     "data": {
      "text/plain": [
       "20"
      ]
     },
     "execution_count": 151,
     "metadata": {},
     "output_type": "execute_result"
    }
   ],
   "source": [
    "1000000000%28"
   ]
  },
  {
   "cell_type": "code",
   "execution_count": 156,
   "metadata": {},
   "outputs": [
    {
     "data": {
      "text/plain": [
       "190836"
      ]
     },
     "execution_count": 156,
     "metadata": {},
     "output_type": "execute_result"
    }
   ],
   "source": [
    "i = 607\n",
    "foresttrees[i]*forestlumber[i]"
   ]
  },
  {
   "cell_type": "code",
   "execution_count": 155,
   "metadata": {},
   "outputs": [
    {
     "name": "stdout",
     "output_type": "stream",
     "text": [
      "8 528814\n",
      "9 486878\n",
      "10 417020\n",
      "11 312374\n"
     ]
    }
   ],
   "source": [
    "for i in range (8,12):\n",
    "    print (i,foresttrees[i]*forestlumber[i])"
   ]
  },
  {
   "cell_type": "code",
   "execution_count": null,
   "metadata": {
    "collapsed": true
   },
   "outputs": [],
   "source": [
    "608 196392 too high"
   ]
  }
 ],
 "metadata": {
  "kernelspec": {
   "display_name": "Python 3",
   "language": "python",
   "name": "python3"
  },
  "language_info": {
   "codemirror_mode": {
    "name": "ipython",
    "version": 3
   },
   "file_extension": ".py",
   "mimetype": "text/x-python",
   "name": "python",
   "nbconvert_exporter": "python",
   "pygments_lexer": "ipython3",
   "version": "3.7.1"
  }
 },
 "nbformat": 4,
 "nbformat_minor": 2
}
