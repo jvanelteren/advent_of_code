{
 "cells": [
  {
   "cell_type": "code",
   "execution_count": null,
   "metadata": {},
   "outputs": [],
   "source": [
    "Aflevering\tBella\tEmilio\tJan\tJean-Marc\tLoes\tOlcay\tRon\tRuben\tSimone\tStine\n",
    "Een verhaal apart\t?\t?\t?\t?\t?\t?\t?\t?\t?\t?\n",
    "Wisseltruc\tStine\tBella\tRuben\t?\tStine Emilio Olcay Simone\t?\t?\tEmilio Stine Olcay Loes Simone\tJan Ruben Loes Stine\t?\n",
    "Kreupelstraat\t?\tLoes\t?\t\tEmilio\tRuben\t\tSimone\tRuben Jan\t?\n",
    "Vooruitzicht\t\tLoes Ruben Simone Olcay\t?\t\tEmilio\t?\t\tEmilio Simone\tRuben Jan\tEmilio\n",
    "Zienswijzen\t\t\tSimone Ruben\t\tStine Olcay\t?\t\tLoes\tRuben Jan\tLoes Jan\n",
    "Verlost\t\t\tRuben\t\t\tSimone\t\t?\tRuben\t?\n",
    "Schijn Werper\t\t\t?\t\t\t?\t\t?\t?\t?\n",
    "Gelijkgestemd\t\t\tRuben\t\t\tRuben\t\tJan\tRuben\t\n",
    "Finalist\t\t\tRuben\t\t\tRuben\t\tJan\t\t"
   ]
  }
 ],
 "metadata": {
  "kernelspec": {
   "display_name": "Python 3",
   "language": "python",
   "name": "python3"
  },
  "language_info": {
   "codemirror_mode": {
    "name": "ipython",
    "version": 3
   },
   "file_extension": ".py",
   "mimetype": "text/x-python",
   "name": "python",
   "nbconvert_exporter": "python",
   "pygments_lexer": "ipython3",
   "version": "3.7.1"
  }
 },
 "nbformat": 4,
 "nbformat_minor": 2
}
