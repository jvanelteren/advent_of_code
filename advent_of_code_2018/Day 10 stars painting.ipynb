{
 "cells": [
  {
   "cell_type": "code",
   "execution_count": 13,
   "metadata": {
    "collapsed": true,
    "jupyter": {
     "outputs_hidden": true
    }
   },
   "outputs": [],
   "source": [
    "%matplotlib inline\n",
    "import numpy as np\n",
    "import matplotlib.pyplot as plt\n",
    "\n",
    "from matplotlib import animation, rc\n",
    "from IPython.display import HTML\n"
   ]
  },
  {
   "cell_type": "code",
   "execution_count": 14,
   "metadata": {
    "collapsed": true,
    "jupyter": {
     "outputs_hidden": true
    }
   },
   "outputs": [],
   "source": [
    "stars = [[( 52484, -20780),(-5,  2)] ,[(-52068,  31483),( 5, -3)] ,[( 21120,  52398),(-2, -5)] ,[(-10264, -31236),( 1,  3)] ,[( 52501,  52392),(-5, -5)] ,[(-31144,  52394),( 3, -5)] ,[(-41603,  21031),( 4, -2)] ,[(-41630, -31239),( 4,  3)] ,[( 21126, -20780),(-2,  2)] ,[(-31150, -10326),( 3,  1)] ,[(-41598,  21033),( 4, -2)] ,[(-10252, -20787),( 1,  2)] ,[(-20677, -52149),( 2,  5)] ,[( 21102, -31236),(-2,  3)] ,[(-20734,  41942),( 2, -4)] ,[( 42018, -41696),(-4,  4)] ,[(-52071, -41691),( 5,  4)] ,[(-20720, -41693),( 2,  4)] ,[(-20710,  10574),( 2, -1)] ,[( 31540,  10578),(-3, -1)] ,[( 31581, -41693),(-3,  4)] ,[( 31540,  10576),(-3, -1)] ,[(-31184,  31490),( 3, -3)] ,[(-31168, -41689),( 3,  4)] ,[(-41641,  10575),( 4, -1)] ,[(-41590,  41940),( 4, -4)] ,[(-31179, -41695),( 3,  4)] ,[(-10232,  31481),( 1, -3)] ,[( 42012,  31481),(-4, -3)] ,[(-31192,  31486),( 3, -3)] ,[( 10685,  21029),(-1, -2)] ,[( 31535, -41692),(-3,  4)] ,[( 31561,  41942),(-3, -4)] ,[(-20719,  31481),( 2, -3)] ,[( 42007,  10581),(-4, -1)] ,[(-20726,  21027),( 2, -2)] ,[(-31136,  21034),( 3, -2)] ,[( 10680, -31241),(-1,  3)] ,[( 31559,  21027),(-3, -2)] ,[( 21088, -20780),(-2,  2)] ,[( 52472,  41939),(-5, -4)] ,[( 21126, -41692),(-2,  4)] ,[(-10268,  41937),( 1, -4)] ,[( 31551,  52393),(-3, -5)] ,[(-52097,  10578),( 5, -1)] ,[(-52087, -52145),( 5,  5)] ,[(-10223,  21034),( 1, -2)] ,[( 52483, -20785),(-5,  2)] ,[( 10660, -20780),(-1,  2)] ,[( 10648, -41694),(-1,  4)] ,[( 41988, -31239),(-4,  3)] ,[( 42010, -52149),(-4,  5)] ,[( 52440, -10327),(-5,  1)] ,[( 41991,  41943),(-4, -4)] ,[( 10636, -52142),(-1,  5)] ,[(-52071, -52146),( 5,  5)] ,[( 10672, -31237),(-1,  3)] ,[(-52095,  31484),( 5, -3)] ,[( 31568, -41688),(-3,  4)] ,[(-10236, -10331),( 1,  1)] ,[(-52095,  21031),( 5, -2)] ,[(-31187,  21027),( 3, -2)] ,[( 31577,  21036),(-3, -2)] ,[(-10284, -20784),( 1,  2)] ,[(-10271, -20783),( 1,  2)] ,[( 10650, -10335),(-1,  1)] ,[(-20706, -41694),( 2,  4)] ,[( 10636,  31490),(-1, -3)] ,[(-41590,  21028),( 4, -2)] ,[( 52480, -52142),(-5,  5)] ,[(-52050, -31239),( 5,  3)] ,[(-31183, -10326),( 3,  1)] ,[( 42038,  52393),(-4, -5)] ,[(-31176,  31486),( 3, -3)] ,[(-10276,  10581),( 1, -1)] ,[(-31168, -31236),( 3,  3)] ,[( 41986, -52151),(-4,  5)] ,[( 10656,  52398),(-1, -5)] ,[( 42046,  52393),(-4, -5)] ,[(-31139,  41936),( 3, -4)] ,[( 41991, -20786),(-4,  2)] ,[(-10243,  21033),( 1, -2)] ,[(-41641,  31488),( 4, -3)] ,[(-52095,  21032),( 5, -2)] ,[(-20728,  31490),( 2, -3)] ,[(-31163, -31237),( 3,  3)] ,[( 41999,  52392),(-4, -5)] ,[(-10279,  31485),( 1, -3)] ,[(-10275,  31481),( 1, -3)] ,[( 52484,  21030),(-5, -2)] ,[( 31537, -20785),(-3,  2)] ,[( 52493, -52148),(-5,  5)] ,[( 21129, -52147),(-2,  5)] ,[(-10241,  52398),( 1, -5)] ,[(-10279,  31489),( 1, -3)] ,[( 52496, -10330),(-5,  1)] ,[( 10651, -41692),(-1,  4)] ,[( 52480, -10326),(-5,  1)] ,[(-41596,  41939),( 4, -4)] ,[(-31174, -52151),( 3,  5)] ,[( 42014, -41692),(-4,  4)] ,[( 41986, -10334),(-4,  1)] ,[( 10656, -20781),(-1,  2)] ,[( 31564,  41935),(-3, -4)] ,[(-20717, -20787),( 2,  2)] ,[( 31540, -20789),(-3,  2)] ,[(-10265, -41692),( 1,  4)] ,[(-10260,  41940),( 1, -4)] ,[(-10247, -10326),( 1,  1)] ,[( 21094, -10328),(-2,  1)] ,[(-41646, -52142),( 4,  5)] ,[(-10284,  52395),( 1, -5)] ,[( 21086,  52394),(-2, -5)] ,[( 52500, -31239),(-5,  3)] ,[(-20689, -41697),( 2,  4)] ,[(-41636,  52389),( 4, -5)] ,[( 42026,  41943),(-4, -4)] ,[( 31549, -31239),(-3,  3)] ,[( 52488,  52398),(-5, -5)] ,[( 21086, -52145),(-2,  5)] ,[( 31573, -31237),(-3,  3)] ,[( 21139,  10573),(-2, -1)] ,[(-31188, -20781),( 3,  2)] ,[( 52488,  21035),(-5, -2)] ,[(-10273,  52398),( 1, -5)] ,[(-41642,  10581),( 4, -1)] ,[( 42034, -10328),(-4,  1)] ,[(-31187,  31489),( 3, -3)] ,[( 41994, -10328),(-4,  1)] ,[( 21110, -41692),(-2,  4)] ,[( 41994, -31236),(-4,  3)] ,[( 31532, -41692),(-3,  4)] ,[(-41645, -41696),( 4,  4)] ,[(-41617, -52148),( 4,  5)] ,[( 42027,  21036),(-4, -2)] ,[(-10268,  21029),( 1, -2)] ,[(-41614, -20785),( 4,  2)] ,[( 21097, -31238),(-2,  3)] ,[( 10645,  10575),(-1, -1)] ,[(-10243,  41944),( 1, -4)] ,[( 21118,  21034),(-2, -2)] ,[( 41994, -41691),(-4,  4)] ,[( 21083, -31240),(-2,  3)] ,[(-41596,  52389),( 4, -5)] ,[(-31172, -10328),( 3,  1)] ,[( 52464,  41944),(-5, -4)] ,[(-31176,  52398),( 3, -5)] ,[( 10669, -10326),(-1,  1)] ,[(-31172, -10328),( 3,  1)] ,[( 10653,  41940),(-1, -4)] ,[(-10242, -20784),( 1,  2)] ,[(-10279, -31234),( 1,  3)] ,[( 21134,  10573),(-2, -1)] ,[(-31160, -31239),( 3,  3)] ,[( 21126,  41935),(-2, -4)] ,[(-41617,  31485),( 4, -3)] ,[(-10279,  10574),( 1, -1)] ,[( 10672,  21027),(-1, -2)] ,[( 42022, -20780),(-4,  2)] ,[(-52100,  10573),( 5, -1)] ,[(-52052, -20788),( 5,  2)] ,[( 52461,  31489),(-5, -3)] ,[( 10672,  10577),(-1, -1)] ,[( 21094, -10334),(-2,  1)] ,[(-52074, -31238),( 5,  3)] ,[(-10249,  10582),( 1, -1)] ,[( 52480, -31235),(-5,  3)] ,[( 42042,  10582),(-4, -1)] ,[( 52496,  31481),(-5, -3)] ,[(-31136,  10578),( 3, -1)] ,[(-52095, -41695),( 5,  4)] ,[( 52460,  21027),(-5, -2)] ,[( 21107, -41695),(-2,  4)] ,[(-52051, -52147),( 5,  5)] ,[( 31564,  31487),(-3, -3)] ,[( 52481, -31237),(-5,  3)] ,[(-20722, -31241),( 2,  3)] ,[(-20735, -41692),( 2,  4)] ,[(-52079,  52390),( 5, -5)] ,[( 41994, -52142),(-4,  5)] ,[( 52497, -20785),(-5,  2)] ,[(-41638,  10577),( 4, -1)] ,[(-31175, -20789),( 3,  2)] ,[(-20719,  21031),( 2, -2)] ,[( 52460,  52389),(-5, -5)] ,[(-31136, -31237),( 3,  3)] ,[( 21086,  52397),(-2, -5)] ,[(-52084,  21027),( 5, -2)] ,[( 41994, -41694),(-4,  4)] ,[(-20706,  31486),( 2, -3)] ,[(-20682, -52147),( 2,  5)] ,[( 41999,  41942),(-4, -4)] ,[( 41994, -52151),(-4,  5)] ,[( 41986,  41943),(-4, -4)] ,[(-20738, -20788),( 2,  2)] ,[( 52464, -20780),(-5,  2)] ,[( 31543,  31485),(-3, -3)] ,[( 52448, -10334),(-5,  1)] ,[(-20713,  31486),( 2, -3)] ,[( 21099,  10576),(-2, -1)] ,[( 52440,  31490),(-5, -3)] ,[( 52441, -31241),(-5,  3)] ,[( 42002, -52147),(-4,  5)] ,[( 52469,  31483),(-5, -3)] ,[( 10658, -41688),(-1,  4)] ,[(-10273,  21031),( 1, -2)] ,[(-52083, -10331),( 5,  1)] ,[(-52044, -31234),( 5,  3)] ,[( 21110,  31482),(-2, -3)] ,[(-41590, -52145),( 4,  5)] ,[(-20689,  10577),( 2, -1)] ,[( 31593, -41697),(-3,  4)] ,[( 10673,  41935),(-1, -4)] ,[(-20677, -10331),( 2,  1)] ,[( 52469,  41940),(-5, -4)] ,[( 31593, -31242),(-3,  3)] ,[( 52467, -41697),(-5,  4)] ,[( 42007,  10582),(-4, -1)] ,[(-31173, -41692),( 3,  4)] ,[( 21083,  21032),(-2, -2)] ,[(-20730,  41939),( 2, -4)] ,[( 31574, -10335),(-3,  1)] ,[( 21139, -52143),(-2,  5)] ,[(-52099, -52150),( 5,  5)] ,[(-10252,  52398),( 1, -5)] ,[( 42047,  21029),(-4, -2)] ,[( 42030,  31484),(-4, -3)] ,[(-10268, -41697),( 1,  4)] ,[( 21080,  31484),(-2, -3)] ,[( 41997,  41935),(-4, -4)] ,[( 10653, -41693),(-1,  4)] ,[( 21089, -52142),(-2,  5)] ,[( 10652,  31486),(-1, -3)] ,[( 21107, -52145),(-2,  5)] ,[(-20718, -10335),( 2,  1)] ,[( 21094,  41941),(-2, -4)] ,[( 21097,  41935),(-2, -4)] ,[( 10624, -20785),(-1,  2)] ,[( 21078, -10328),(-2,  1)] ,[( 52464,  41938),(-5, -4)] ,[( 42006,  21031),(-4, -2)] ,[( 10675, -20789),(-1,  2)] ,[(-20677,  52396),( 2, -5)] ,[(-52095,  52396),( 5, -5)] ,[( 21079, -10333),(-2,  1)] ,[(-41589,  10577),( 4, -1)] ,[( 31556, -41691),(-3,  4)] ,[( 31545,  31482),(-3, -3)] ,[( 10644,  31487),(-1, -3)] ,[(-20706, -41690),( 2,  4)] ,[(-10266,  31481),( 1, -3)] ,[( 21087, -41693),(-2,  4)] ,[(-10239, -41695),( 1,  4)] ,[(-52090,  21031),( 5, -2)] ,[(-10236,  10578),( 1, -1)] ,[(-10236,  41942),( 1, -4)] ,[( 21086,  31483),(-2, -3)] ,[(-31176, -10330),( 3,  1)] ,[( 31574, -10330),(-3,  1)] ,[(-41598,  31482),( 4, -3)] ,[(-52087, -52144),( 5,  5)] ,[( 21090, -31243),(-2,  3)] ,[(-20695, -41693),( 2,  4)] ,[( 31574, -41692),(-3,  4)] ,[(-10240, -52148),( 1,  5)] ,[( 42042,  31481),(-4, -3)] ,[( 41986,  31481),(-4, -3)] ,[( 52484, -10326),(-5,  1)] ,[( 31593, -10330),(-3,  1)] ,[( 31548,  52398),(-3, -5)] ,[(-20719,  21027),( 2, -2)] ,[(-20697, -31243),( 2,  3)] ,[( 10680, -20781),(-1,  2)] ,[(-52088,  21031),( 5, -2)] ,[(-31176,  41943),( 3, -4)] ,[( 41996, -52147),(-4,  5)] ,[(-31176,  41944),( 3, -4)] ,[(-52056, -41697),( 5,  4)] ,[( 31593,  41944),(-3, -4)] ,[( 21099, -41695),(-2,  4)] ,[(-20697, -31243),( 2,  3)] ,[( 31588,  41938),(-3, -4)] ,[(-20728,  21031),( 2, -2)] ,[(-31149,  21027),( 3, -2)] ,[(-10223, -10329),( 1,  1)] ,[(-10236,  21034),( 1, -2)] ,[( 10632, -10333),(-1,  1)] ,[( 10680,  10581),(-1, -1)] ,[(-41641, -41688),( 4,  4)] ,[( 31545, -41696),(-3,  4)] ,[(-31139,  41937),( 3, -4)] ,[(-31189,  52395),( 3, -5)] ,[( 42036, -10335),(-4,  1)] ,[( 41998,  31485),(-4, -3)] ,[(-41637, -10326),( 4,  1)] ,[(-20682, -20787),( 2,  2)] ,[(-10241,  31490),( 1, -3)] ,[( 21135, -31239),(-2,  3)] ,[( 31561, -31240),(-3,  3)] ,[(-31192, -20786),( 3,  2)] ,[(-10236,  41944),( 1, -4)] ,[(-52059, -41697),( 5,  4)] ,[(-20733, -20787),( 2,  2)] ,[( 31540, -20781),(-3,  2)] ,[(-52055,  10573),( 5, -1)] ,[(-31152, -31236),( 3,  3)] ,[( 52496, -31240),(-5,  3)] ,[(-52052,  31484),( 5, -3)] ,[( 52453,  41940),(-5, -4)] ,[(-41646, -10333),( 4,  1)] ,[( 42042,  41941),(-4, -4)] ,[(-31131,  21036),( 3, -2)] ,[(-10281, -52145),( 1,  5)] ,[(-41598,  31485),( 4, -3)] ,[(-31179, -10327),( 3,  1)] ,[( 41988, -10332),(-4,  1)] ,[( 52456,  41936),(-5, -4)] ,[(-41595, -10335),( 4,  1)] ,[( 52445,  52390),(-5, -5)] ,[(-20693,  31483),( 2, -3)] ,[(-41630,  31484),( 4, -3)] ,[( 41986,  10581),(-4, -1)] ,[(-20734,  21035),( 2, -2)] ,[(-10223,  52395),( 1, -5)] ,[( 42012, -31238),(-4,  3)] ,[( 52445, -31237),(-5,  3)] ,[( 21110, -20784),(-2,  2)] ,[(-31179, -10328),( 3,  1)] ,[(-10251,  41944),( 1, -4)] ,[( 31593,  21028),(-3, -2)] ,[(-31167, -52150),( 3,  5)] ,[( 42003, -52151),(-4,  5)] ,[( 52485, -10334),(-5,  1)] ,[(-20690, -20786),( 2,  2)] ,[( 10625, -31242),(-1,  3)] ,[(-52087, -10332),( 5,  1)] ,[( 10672, -20783),(-1,  2)] ,[( 42026,  31489),(-4, -3)] ,[( 10672,  41937),(-1, -4)] ,[( 41995, -41697),(-4,  4)] ,[( 31572,  31481),(-3, -3)] ,[(-20688,  52389),( 2, -5)] ,[(-20725,  10574),( 2, -1)] ,[(-10260, -10328),( 1,  1)] ,[( 10685,  21034),(-1, -2)] ,[( 52499,  10577),(-5, -1)] ,[( 31536,  31488),(-3, -3)] ,[(-10260,  41941),( 1, -4)] ,[(-52089, -20789),( 5,  2)] ,[( 41994,  21034),(-4, -2)] ,[( 31549, -52147),(-3,  5)] ,[( 31564, -10328),(-3,  1)] ,[( 10645,  41943),(-1, -4)] ,[(-31168, -52147),( 3,  5)] ,[(-31187,  21034),( 3, -2)] ,[(-41598, -31241),( 4,  3)] ,[( 10653,  21035),(-1, -2)] ,[( 31576,  52398),(-3, -5)] ,[(-10249,  10582),( 1, -1)] ,[(-31136, -31240),( 3,  3)] ,[(-20712, -52151),( 2,  5)] ,[(-10279,  10579),( 1, -1)] ,[( 52469, -10326),(-5,  1)] ,[( 21103, -20784),(-2,  2)] ,[( 21136, -20785),(-2,  2)] ,[(-41605, -52142),( 4,  5)] ,[( 31551, -52147),(-3,  5)]]"
   ]
  },
  {
   "cell_type": "code",
   "execution_count": 15,
   "metadata": {},
   "outputs": [
    {
     "data": {
      "text/plain": [
       "367"
      ]
     },
     "execution_count": 15,
     "metadata": {},
     "output_type": "execute_result"
    }
   ],
   "source": [
    "len(stars)"
   ]
  },
  {
   "cell_type": "code",
   "execution_count": 16,
   "metadata": {},
   "outputs": [
    {
     "data": {
      "text/plain": [
       "-52100"
      ]
     },
     "execution_count": 16,
     "metadata": {},
     "output_type": "execute_result"
    }
   ],
   "source": [
    "stars[0][0]\n",
    "import operator\n",
    "min(x[0][0] for x in stars)"
   ]
  },
  {
   "cell_type": "code",
   "execution_count": 17,
   "metadata": {},
   "outputs": [
    {
     "data": {
      "text/plain": [
       "52501"
      ]
     },
     "execution_count": 17,
     "metadata": {},
     "output_type": "execute_result"
    }
   ],
   "source": [
    "max(x[0][0] for x in stars)"
   ]
  },
  {
   "cell_type": "code",
   "execution_count": 18,
   "metadata": {},
   "outputs": [
    {
     "data": {
      "text/plain": [
       "-52151"
      ]
     },
     "execution_count": 18,
     "metadata": {},
     "output_type": "execute_result"
    }
   ],
   "source": [
    "min(x[0][1] for x in stars)"
   ]
  },
  {
   "cell_type": "code",
   "execution_count": 19,
   "metadata": {},
   "outputs": [
    {
     "data": {
      "text/plain": [
       "52398"
      ]
     },
     "execution_count": 19,
     "metadata": {},
     "output_type": "execute_result"
    }
   ],
   "source": [
    "max(x[0][1] for x in stars)"
   ]
  },
  {
   "cell_type": "code",
   "execution_count": 20,
   "metadata": {
    "collapsed": true,
    "jupyter": {
     "outputs_hidden": true
    }
   },
   "outputs": [],
   "source": [
    "def getx(i,step,begin):\n",
    "    return np.array([star[0][0] for star in stars])+(begin+i*step)*np.array([star[1][0] for star in stars])\n",
    "def gety(i,step,begin):\n",
    "    return [star[0][1] for star in stars]+(begin+i*step)*np.array([star[1][1] for star in stars])\n",
    "def buildxy(frames,step,begin):\n",
    "    dimensions = len(stars)*frames\n",
    "    fullx=np.zeros(dimensions).reshape(len(stars),frames)\n",
    "    fully=np.zeros(dimensions).reshape(len(stars),frames)\n",
    "    for frame in range(frames):\n",
    "        fullx[:,frame]=getx(frame,step,begin)\n",
    "        fully[:,frame]=gety(frame,step,begin)\n",
    "    return (fullx,fully)\n",
    "fullx,fully = buildxy(6000,0.001,10453)\n",
    "#at 10454 the message appears\n",
    "#ax.set_xlim(( 160, 240))\n",
    "#ax.set_ylim((140, 110))"
   ]
  },
  {
   "cell_type": "code",
   "execution_count": 21,
   "metadata": {},
   "outputs": [
    {
     "data": {
      "text/plain": [
       "0"
      ]
     },
     "execution_count": 21,
     "metadata": {},
     "output_type": "execute_result"
    }
   ],
   "source": [
    "a=np.ptp(fullx,axis=0)\n",
    "np.argmax(a<80)"
   ]
  },
  {
   "cell_type": "code",
   "execution_count": 22,
   "metadata": {},
   "outputs": [
    {
     "data": {
      "image/png": "[encoded data removed]",
      "text/plain": [
       "<Figure size 432x288 with 1 Axes>"
      ]
     },
     "metadata": {
      "needs_background": "light"
     },
     "output_type": "display_data"
    }
   ],
   "source": [
    "%matplotlib inline\n",
    "\n",
    "fig, ax = plt.subplots()\n",
    "#\n",
    "#ax.set_xlim(( -60000, 60000))\n",
    "#ax.set_ylim((60000, -60000))\n",
    "\n",
    "ax.set_xlim(( 160, 240))\n",
    "ax.set_ylim((140, 110))\n",
    "\n",
    "#line, = ax.plot([], [], lw=2)\n",
    "# particles holds the locations of the particles\n",
    "particles, = ax.plot([], [], 'bo', ms=4)\n",
    "\n",
    "def init():\n",
    "    particles.set_data([], [])\n",
    "    return (particles,)\n",
    "\n",
    "def animate(i):\n",
    "    x = fullx[:,i]\n",
    "    y = fully[:,i]\n",
    "    particles.set_data(x, y)\n",
    "    return (particles,)\n",
    "\n",
    "anim = animation.FuncAnimation(fig, animate, init_func=init,\n",
    "                               frames=6000, interval=5, \n",
    "                               blit=True)\n",
    "\n",
    "plt.show()\n",
    "#rc('animation', html='jshtml')\n",
    "#anim\n",
    "\n",
    "\n",
    "\n",
    "\n",
    "#    particles.set_data(box.state[:, 0], box.state[:, 1])\n",
    "#    particles.set_markersize(ms)\n",
    "#    return particles, rect"
   ]
  },
  {
   "cell_type": "code",
   "execution_count": null,
   "metadata": {
    "collapsed": true,
    "jupyter": {
     "outputs_hidden": true
    }
   },
   "outputs": [],
   "source": []
  },
  {
   "cell_type": "code",
   "execution_count": null,
   "metadata": {
    "collapsed": true,
    "jupyter": {
     "outputs_hidden": true
    }
   },
   "outputs": [],
   "source": []
  },
  {
   "cell_type": "code",
   "execution_count": null,
   "metadata": {},
   "outputs": [],
   "source": []
  },
  {
   "cell_type": "code",
   "execution_count": 11,
   "metadata": {},
   "outputs": [
    {
     "ename": "NameError",
     "evalue": "name 'box' is not defined",
     "output_type": "error",
     "traceback": [
      "\u001b[1;31m---------------------------------------------------------------------------\u001b[0m",
      "\u001b[1;31mNameError\u001b[0m                                 Traceback (most recent call last)",
      "\u001b[1;32m<ipython-input-11-05367a8f47cd>\u001b[0m in \u001b[0;36m<module>\u001b[1;34m\u001b[0m\n\u001b[0;32m      6\u001b[0m \u001b[1;33m\u001b[0m\u001b[0m\n\u001b[0;32m      7\u001b[0m \u001b[1;31m# rect is the box edge\u001b[0m\u001b[1;33m\u001b[0m\u001b[1;33m\u001b[0m\u001b[1;33m\u001b[0m\u001b[0m\n\u001b[1;32m----> 8\u001b[1;33m rect = plt.Rectangle(box.bounds[::2],\n\u001b[0m\u001b[0;32m      9\u001b[0m                      \u001b[0mbox\u001b[0m\u001b[1;33m.\u001b[0m\u001b[0mbounds\u001b[0m\u001b[1;33m[\u001b[0m\u001b[1;36m1\u001b[0m\u001b[1;33m]\u001b[0m \u001b[1;33m-\u001b[0m \u001b[0mbox\u001b[0m\u001b[1;33m.\u001b[0m\u001b[0mbounds\u001b[0m\u001b[1;33m[\u001b[0m\u001b[1;36m0\u001b[0m\u001b[1;33m]\u001b[0m\u001b[1;33m,\u001b[0m\u001b[1;33m\u001b[0m\u001b[1;33m\u001b[0m\u001b[0m\n\u001b[0;32m     10\u001b[0m                      \u001b[0mbox\u001b[0m\u001b[1;33m.\u001b[0m\u001b[0mbounds\u001b[0m\u001b[1;33m[\u001b[0m\u001b[1;36m3\u001b[0m\u001b[1;33m]\u001b[0m \u001b[1;33m-\u001b[0m \u001b[0mbox\u001b[0m\u001b[1;33m.\u001b[0m\u001b[0mbounds\u001b[0m\u001b[1;33m[\u001b[0m\u001b[1;36m2\u001b[0m\u001b[1;33m]\u001b[0m\u001b[1;33m,\u001b[0m\u001b[1;33m\u001b[0m\u001b[1;33m\u001b[0m\u001b[0m\n",
      "\u001b[1;31mNameError\u001b[0m: name 'box' is not defined"
     ]
    }
   ],
   "source": [
    "ax = fig.add_subplot(111, aspect='equal', autoscale_on=False,\n",
    "                     xlim=(-3.2, 3.2), ylim=(-2.4, 2.4))\n",
    "\n",
    "# particles holds the locations of the particles\n",
    "particles, = ax.plot([], [], 'bo', ms=6)\n",
    "\n",
    "# rect is the box edge\n",
    "rect = plt.Rectangle(box.bounds[::2],\n",
    "                     box.bounds[1] - box.bounds[0],\n",
    "                     box.bounds[3] - box.bounds[2],\n",
    "                     ec='none', lw=2, fc='none')\n",
    "ax.add_patch(rect)\n",
    "\n",
    "def init():\n",
    "    \"\"\"initialize animation\"\"\"\n",
    "    global box, rect\n",
    "    particles.set_data([], [])\n",
    "    rect.set_edgecolor('none')\n",
    "    return particles, rect\n",
    "\n",
    "def animate(i):\n",
    "    \"\"\"perform animation step\"\"\"\n",
    "    global box, rect, dt, ax, fig\n",
    "    box.step(dt)\n",
    "\n",
    "    ms = int(fig.dpi * 2 * box.size * fig.get_figwidth()\n",
    "             / np.diff(ax.get_xbound())[0])\n",
    "    \n",
    "    # update pieces of the animation\n",
    "    rect.set_edgecolor('k')\n",
    "    particles.set_data(box.state[:, 0], box.state[:, 1])\n",
    "    particles.set_markersize(ms)\n",
    "    return particles, rect\n",
    "\n",
    "ani = animation.FuncAnimation(fig, animate, frames=600,\n",
    "                              interval=10, blit=True, init_func=init)"
   ]
  },
  {
   "cell_type": "code",
   "execution_count": null,
   "metadata": {
    "collapsed": true,
    "jupyter": {
     "outputs_hidden": true
    }
   },
   "outputs": [],
   "source": []
  },
  {
   "cell_type": "code",
   "execution_count": null,
   "metadata": {
    "collapsed": true,
    "jupyter": {
     "outputs_hidden": true
    }
   },
   "outputs": [],
   "source": []
  },
  {
   "cell_type": "code",
   "execution_count": null,
   "metadata": {
    "collapsed": true,
    "jupyter": {
     "outputs_hidden": true
    }
   },
   "outputs": [],
   "source": [
    "import matplotlib.pyplot as plt\n",
    "import matplotlib.animation\n",
    "import numpy as np\n",
    "\n",
    "fig, ax = plt.subplots()\n",
    "x, y = [],[]\n",
    "sc = ax.scatter(x,y,s=10, facecolor='blue')\n",
    "plt.xlim(-60000,60000)\n",
    "plt.ylim(60000,-60000)\n",
    "\n",
    "def animate(i):\n",
    "    j = 10\n",
    "    x = getx(j)\n",
    "    y= gety(j)\n",
    "    \n",
    "    #x.append(getx(i))\n",
    "    #y.append(getx(i))\n",
    "    sc.set_offsets(np.c_[x,y])\n",
    "\n",
    "ani = matplotlib.animation.FuncAnimation(fig, animate, \n",
    "                frames=2, interval=100, repeat=True) \n",
    "#HTML(anim.to_html5_video())\n",
    "plt.show()"
   ]
  },
  {
   "cell_type": "code",
   "execution_count": null,
   "metadata": {
    "collapsed": true,
    "jupyter": {
     "outputs_hidden": true
    }
   },
   "outputs": [],
   "source": [
    "%matplotlib inline\n",
    "import numpy as np\n",
    "import matplotlib.pyplot as plt\n",
    "\n",
    "from matplotlib import animation, rc\n",
    "from IPython.display import HTML"
   ]
  },
  {
   "cell_type": "code",
   "execution_count": null,
   "metadata": {
    "collapsed": true,
    "jupyter": {
     "outputs_hidden": true
    }
   },
   "outputs": [],
   "source": [
    "x = np.linspace(0, 2, 1000)"
   ]
  },
  {
   "cell_type": "code",
   "execution_count": null,
   "metadata": {
    "collapsed": true,
    "jupyter": {
     "outputs_hidden": true
    }
   },
   "outputs": [],
   "source": [
    "x.shape"
   ]
  },
  {
   "cell_type": "code",
   "execution_count": null,
   "metadata": {
    "collapsed": true,
    "jupyter": {
     "outputs_hidden": true
    }
   },
   "outputs": [],
   "source": []
  },
  {
   "cell_type": "code",
   "execution_count": null,
   "metadata": {
    "collapsed": true,
    "jupyter": {
     "outputs_hidden": true
    }
   },
   "outputs": [],
   "source": []
  },
  {
   "cell_type": "code",
   "execution_count": null,
   "metadata": {
    "collapsed": true,
    "jupyter": {
     "outputs_hidden": true
    }
   },
   "outputs": [],
   "source": []
  },
  {
   "cell_type": "code",
   "execution_count": null,
   "metadata": {
    "collapsed": true,
    "jupyter": {
     "outputs_hidden": true
    }
   },
   "outputs": [],
   "source": []
  },
  {
   "cell_type": "code",
   "execution_count": null,
   "metadata": {
    "collapsed": true,
    "jupyter": {
     "outputs_hidden": true
    }
   },
   "outputs": [],
   "source": [
    "import matplotlib.pyplot as plt\n",
    "import matplotlib.animation\n",
    "import numpy as np\n",
    "plt.rcParams[\"animation.html\"] = \"jshtml\"\n",
    "\n",
    "\n",
    "\n",
    "fig, ax = plt.subplots()\n",
    "\n",
    "ax.set_xlim(( -60000, 60000))\n",
    "ax.set_ylim((60000, -60000))\n",
    "l, = ax.plot([],[])\n",
    "\n",
    "def animate(i):\n",
    "    l.set_data(getx(i), gety(i))\n",
    "\n",
    "ani = matplotlib.animation.FuncAnimation(fig, animate, frames=10)\n",
    "\n",
    "HTML(ani.to_jshtml())"
   ]
  },
  {
   "cell_type": "code",
   "execution_count": null,
   "metadata": {
    "collapsed": true,
    "jupyter": {
     "outputs_hidden": true
    }
   },
   "outputs": [],
   "source": []
  },
  {
   "cell_type": "code",
   "execution_count": null,
   "metadata": {
    "collapsed": true,
    "jupyter": {
     "outputs_hidden": true
    }
   },
   "outputs": [],
   "source": [
    "\"\"\"\n",
    "Animation of Elastic collisions with Gravity\n",
    "\n",
    "author: Jake Vanderplas\n",
    "email: vanderplas@astro.washington.edu\n",
    "website: http://jakevdp.github.com\n",
    "license: BSD\n",
    "Please feel free to use and modify this, but keep the above information. Thanks!\n",
    "\"\"\"\n",
    "import numpy as np\n",
    "from scipy.spatial.distance import pdist, squareform\n",
    "\n",
    "import matplotlib.pyplot as plt\n",
    "import scipy.integrate as integrate\n",
    "import matplotlib.animation as animation\n",
    "jupyter notebook --NotebookApp.iopub_data_rate_limit=1.0e10"
   ]
  },
  {
   "cell_type": "code",
   "execution_count": null,
   "metadata": {
    "collapsed": true,
    "jupyter": {
     "outputs_hidden": true
    },
    "scrolled": true
   },
   "outputs": [],
   "source": [
    "class ParticleBox:\n",
    "    \"\"\"Orbits class\n",
    "    \n",
    "    init_state is an [N x 4] array, where N is the number of particles:\n",
    "       [[x1, y1, vx1, vy1],\n",
    "        [x2, y2, vx2, vy2],\n",
    "        ...               ]\n",
    "\n",
    "    bounds is the size of the box: [xmin, xmax, ymin, ymax]\n",
    "    \"\"\"\n",
    "    def __init__(self,\n",
    "                 init_state = [[1, 0, 0, -1],\n",
    "                               [-0.5, 0.5, 0.5, 0.5],\n",
    "                               [-0.5, -0.5, -0.5, 0.5]],\n",
    "                 bounds = [-2, 2, -2, 2],\n",
    "                 size = 0.04,\n",
    "                 M = 0.05,\n",
    "                 G = 9.8):\n",
    "        self.init_state = np.asarray(init_state, dtype=float)\n",
    "        self.M = M * np.ones(self.init_state.shape[0])\n",
    "        self.size = size\n",
    "        self.state = self.init_state.copy()\n",
    "        self.time_elapsed = 0\n",
    "        self.bounds = bounds\n",
    "        self.G = G\n",
    "\n",
    "    def step(self, dt):\n",
    "        \"\"\"step once by dt seconds\"\"\"\n",
    "        self.time_elapsed += dt\n",
    "        \n",
    "        # update positions\n",
    "        self.state[:, :2] += dt * self.state[:, 2:]\n",
    "\n",
    "        # find pairs of particles undergoing a collision\n",
    "        D = squareform(pdist(self.state[:, :2]))\n",
    "        ind1, ind2 = np.where(D < 2 * self.size)\n",
    "        unique = (ind1 < ind2)\n",
    "        ind1 = ind1[unique]\n",
    "        ind2 = ind2[unique]\n",
    "\n",
    "        # update velocities of colliding pairs\n",
    "        for i1, i2 in zip(ind1, ind2):\n",
    "            # mass\n",
    "            m1 = self.M[i1]\n",
    "            m2 = self.M[i2]\n",
    "\n",
    "            # location vector\n",
    "            r1 = self.state[i1, :2]\n",
    "            r2 = self.state[i2, :2]\n",
    "\n",
    "            # velocity vector\n",
    "            v1 = self.state[i1, 2:]\n",
    "            v2 = self.state[i2, 2:]\n",
    "\n",
    "            # relative location & velocity vectors\n",
    "            r_rel = r1 - r2\n",
    "            v_rel = v1 - v2\n",
    "\n",
    "            # momentum vector of the center of mass\n",
    "            v_cm = (m1 * v1 + m2 * v2) / (m1 + m2)\n",
    "\n",
    "            # collisions of spheres reflect v_rel over r_rel\n",
    "            rr_rel = np.dot(r_rel, r_rel)\n",
    "            vr_rel = np.dot(v_rel, r_rel)\n",
    "            v_rel = 2 * r_rel * vr_rel / rr_rel - v_rel\n",
    "\n",
    "            # assign new velocities\n",
    "            self.state[i1, 2:] = v_cm + v_rel * m2 / (m1 + m2)\n",
    "            self.state[i2, 2:] = v_cm - v_rel * m1 / (m1 + m2) \n",
    "\n",
    "        # check for crossing boundary\n",
    "        crossed_x1 = (self.state[:, 0] < self.bounds[0] + self.size)\n",
    "        crossed_x2 = (self.state[:, 0] > self.bounds[1] - self.size)\n",
    "        crossed_y1 = (self.state[:, 1] < self.bounds[2] + self.size)\n",
    "        crossed_y2 = (self.state[:, 1] > self.bounds[3] - self.size)\n",
    "\n",
    "        self.state[crossed_x1, 0] = self.bounds[0] + self.size\n",
    "        self.state[crossed_x2, 0] = self.bounds[1] - self.size\n",
    "\n",
    "        self.state[crossed_y1, 1] = self.bounds[2] + self.size\n",
    "        self.state[crossed_y2, 1] = self.bounds[3] - self.size\n",
    "\n",
    "        self.state[crossed_x1 | crossed_x2, 2] *= -1\n",
    "        self.state[crossed_y1 | crossed_y2, 3] *= -1\n",
    "\n",
    "        # add gravity\n",
    "        self.state[:, 3] -= self.M * self.G * dt\n",
    "\n",
    "\n",
    "#------------------------------------------------------------\n",
    "# set up initial state\n",
    "np.random.seed(0)\n",
    "init_state = -0.5 + np.random.random((50, 4))\n",
    "init_state[:, :2] *= 3.9\n",
    "\n",
    "box = ParticleBox(init_state, size=0.04)\n",
    "dt = 1. / 30 # 30fps\n",
    "\n",
    "\n",
    "#------------------------------------------------------------\n",
    "# set up figure and animation\n",
    "fig = plt.figure()\n",
    "fig.subplots_adjust(left=0, right=1, bottom=0, top=1)\n",
    "ax = fig.add_subplot(111, aspect='equal', autoscale_on=False,\n",
    "                     xlim=(-3.2, 3.2), ylim=(-2.4, 2.4))\n",
    "\n",
    "# particles holds the locations of the particles\n",
    "particles, = ax.plot([], [], 'bo', ms=6)\n",
    "\n",
    "# rect is the box edge\n",
    "rect = plt.Rectangle(box.bounds[::2],\n",
    "                     box.bounds[1] - box.bounds[0],\n",
    "                     box.bounds[3] - box.bounds[2],\n",
    "                     ec='none', lw=2, fc='none')\n",
    "ax.add_patch(rect)\n",
    "\n",
    "def init():\n",
    "    \"\"\"initialize animation\"\"\"\n",
    "    global box, rect\n",
    "    particles.set_data([], [])\n",
    "    rect.set_edgecolor('none')\n",
    "    return particles, rect\n",
    "\n",
    "def animate(i):\n",
    "    \"\"\"perform animation step\"\"\"\n",
    "    global box, rect, dt, ax, fig\n",
    "    box.step(dt)\n",
    "\n",
    "    ms = int(fig.dpi * 2 * box.size * fig.get_figwidth()\n",
    "             / np.diff(ax.get_xbound())[0])\n",
    "    \n",
    "    # update pieces of the animation\n",
    "    rect.set_edgecolor('k')\n",
    "    particles.set_data(box.state[:, 0], box.state[:, 1])\n",
    "    particles.set_markersize(ms)\n",
    "    return particles, rect\n",
    "\n",
    "ani = animation.FuncAnimation(fig, animate, frames=600,\n",
    "                              interval=10, blit=True, init_func=init)\n",
    "\n",
    "\n",
    "# save the animation as an mp4.  This requires ffmpeg or mencoder to be\n",
    "# installed.  The extra_args ensure that the x264 codec is used, so that\n",
    "# the video can be embedded in html5.  You may need to adjust this for\n",
    "# your system: for more information, see\n",
    "# http://matplotlib.sourceforge.net/api/animation_api.html\n",
    "#ani.save('particle_box.mp4', fps=30, extra_args=['-vcodec', 'libx264'])\n",
    "rc('animation', html='jshtml')\n",
    "ani"
   ]
  },
  {
   "cell_type": "code",
   "execution_count": null,
   "metadata": {
    "collapsed": true,
    "jupyter": {
     "outputs_hidden": true
    }
   },
   "outputs": [],
   "source": []
  }
 ],
 "metadata": {
  "kernelspec": {
   "display_name": "Python 3",
   "language": "python",
   "name": "python3"
  },
  "language_info": {
   "codemirror_mode": {
    "name": "ipython",
    "version": 3
   },
   "file_extension": ".py",
   "mimetype": "text/x-python",
   "name": "python",
   "nbconvert_exporter": "python",
   "pygments_lexer": "ipython3",
   "version": "3.7.3"
  }
 },
 "nbformat": 4,
 "nbformat_minor": 4
}
