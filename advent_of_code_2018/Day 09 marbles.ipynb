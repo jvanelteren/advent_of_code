{
 "cells": [
  {
   "cell_type": "code",
   "execution_count": 130,
   "metadata": {
    "collapsed": true
   },
   "outputs": [],
   "source": [
    "import numpy as np\n",
    "import sys"
   ]
  },
  {
   "cell_type": "code",
   "execution_count": 132,
   "metadata": {},
   "outputs": [
    {
     "name": "stdout",
     "output_type": "stream",
     "text": [
      "The line_profiler extension is already loaded. To reload it, use:\n",
      "  %reload_ext line_profiler\n",
      "116\n",
      "231\n",
      "507\n",
      "1174\n",
      "2692\n",
      "6234\n",
      "14376\n",
      "33213\n",
      "76798\n",
      "177584\n",
      "410666\n",
      "949648\n",
      "2196018\n",
      "5078286\n",
      "winning player score 3526561003\n"
     ]
    }
   ],
   "source": [
    "#templist = []\n",
    "\n",
    "def get_index(numbers,current_marble_index):\n",
    "    if current_marble_index+2>len(numbers):\n",
    "        #templist.append(len(numbers))\n",
    "\n",
    "        #print ('we have  a newline at',current_marble_index, current_marble_index-len(numbers)+2)\n",
    "       \n",
    "        return current_marble_index-len(numbers)+2,True\n",
    "        \n",
    "    \n",
    "    else:\n",
    "        return current_marble_index + 2,False\n",
    "    \n",
    "%load_ext line_profiler\n",
    "\n",
    "import operator\n",
    "def marbles(input_marbles,current_marble_index,marble_to_add,num_players,stop_score):\n",
    "    players_score={}\n",
    "    for player in range(num_players):\n",
    "        players_score[player]=np.int64(0)\n",
    "    \n",
    "    numbers = input_marbles\n",
    "    current_player = 0\n",
    "    current_score = 0\n",
    "    newline = False\n",
    "    while marble_to_add<=stop_score:\n",
    "        #print ('mta',marble_to_add,marble_to_add%23==1, newline, 'cmi',current_marble_index,'lennumbers',len(numbers))\n",
    "        if marble_to_add%23==1 and newline and marble_to_add>80 and current_marble_index<50:\n",
    "            num_iterations  = ((len(numbers)-current_marble_index)//16)-1\n",
    "            print(marble_to_add)\n",
    "            #print ('num_iterations',num_iterations)\n",
    "            if num_iterations > 0:\n",
    "                for i in range(num_iterations):\n",
    "                    #print ('iteration number',i,'mta',marble_to_add,newline, 'cmi',current_marble_index,'lennumbers',len(numbers))\n",
    "                    #print ('currentplayer',current_player)   \n",
    "                    #print (numbers)\n",
    "                    emptylist=[numbers[:current_marble_index+1]]\n",
    "                    for i in range (22):\n",
    "                        if i != 18:\n",
    "                            emptylist.append([numbers[current_marble_index+1+i]])\n",
    "                        else:\n",
    "                            current_score = numbers[current_marble_index+1+i]\n",
    "                        emptylist.append([marble_to_add+i])\n",
    "                    marble_to_add +=22\n",
    "\n",
    "                    emptylist.append(numbers[current_marble_index+23:])\n",
    "                    current_marble_index = current_marble_index+44\n",
    "                    \n",
    "                    newline = False\n",
    "                    \n",
    "                    current_player+=22 \n",
    "                    \n",
    "                    while current_player >= num_players:\n",
    "                        current_player += -num_players\n",
    "                        \n",
    "\n",
    "                    if marble_to_add%23==0:\n",
    "                        #special jackpot\n",
    "                        current_score += marble_to_add\n",
    "                        current_marble_index += -7\n",
    "                        if current_marble_index <0:\n",
    "                            ####current_marble_index=len(numbers)+current_marble_index\n",
    "                            newline = True\n",
    "                            print ('error newline')\n",
    "                            sys.exit()\n",
    "                            #templist.append(len(numbers))\n",
    "                        if marble_to_add<=stop_score:\n",
    "                            players_score[current_player]+=current_score\n",
    "                        else:\n",
    "                            #numbers = np.delete(arr=numbers,obj=current_marble_index)\n",
    "                            numbers = np.concatenate(emptylist)\n",
    "                            print ('winning player score',max(players_score.items(), key=operator.itemgetter(1))[1])\n",
    "                            return numbers\n",
    "                        #numbers = np.delete(arr=numbers,obj=current_marble_index)\n",
    "                        numbers = np.concatenate(emptylist)\n",
    "                        marble_to_add +=1\n",
    "                        #print (numbers)\n",
    "                        if current_player+1 == num_players:\n",
    "                            current_player = 0\n",
    "                        else:\n",
    "                            current_player+=1\n",
    "                    else:\n",
    "                        print('error')\n",
    "                        sys.exit()\n",
    "        #print ('currentplayer',current_player)    \n",
    "            \n",
    "        \n",
    "        if marble_to_add%23==0:\n",
    "            #special jackpot\n",
    "            current_score = marble_to_add\n",
    "            current_marble_index += -7\n",
    "            if current_marble_index <0:\n",
    "                current_marble_index=len(numbers)+current_marble_index\n",
    "\n",
    "                #templist.append(len(numbers))\n",
    "            players_score[current_player]+=current_score+numbers[current_marble_index]\n",
    "            numbers = np.delete(arr=numbers,obj=current_marble_index)\n",
    "            marble_to_add +=1\n",
    "            #print (numbers)\n",
    " \n",
    "            \n",
    "        else:\n",
    "            result = get_index(numbers,current_marble_index)\n",
    "            current_marble_index = result[0]\n",
    "            if newline == False: newline = result[1]\n",
    "            \n",
    "            #numbers = np.insert(arr=numbers,obj=current_marble_index,values=marble_to_add)\n",
    "            numbers = np.concatenate((numbers[:current_marble_index], [marble_to_add], numbers[current_marble_index:]))\n",
    "            marble_to_add+=1\n",
    "            #print (numbers)\n",
    "        if current_player+1 == num_players:\n",
    "            current_player =0\n",
    "        else:\n",
    "            current_player+=1\n",
    "        #print (numbers)\n",
    "        if marble_to_add%50000==0:\n",
    "            print(marble_to_add)\n",
    "    #print ('cmi',current_marble_index,'mta',marble_to_add,'currplayer',current_player)\n",
    "    print ('winning player score',max(players_score.items(), key=operator.itemgetter(1))[1])    \n",
    "    return (numbers)\n",
    "    \n",
    "\n",
    "%lprun -f marbles a= marbles(np.array([0]),0,1,411,7117000  )\n",
    "#b = marbles(np.array([0]),0,1,13,7999  )\n",
    "\n",
    "#marbles(np.array([0]),0,1,13,7999 )"
   ]
  },
  {
   "cell_type": "code",
   "execution_count": null,
   "metadata": {
    "collapsed": true
   },
   "outputs": [],
   "source": [
    "768406293"
   ]
  },
  {
   "cell_type": "code",
   "execution_count": null,
   "metadata": {
    "collapsed": true
   },
   "outputs": [],
   "source": [
    "a = np.array([2147483647],dtype='int32')\n",
    "a+100"
   ]
  },
  {
   "cell_type": "code",
   "execution_count": 126,
   "metadata": {},
   "outputs": [
    {
     "data": {
      "text/plain": [
       "3526561099"
      ]
     },
     "execution_count": 126,
     "metadata": {},
     "output_type": "execute_result"
    }
   ],
   "source": [
    "1379077354+98+2147483647"
   ]
  },
  {
   "cell_type": "code",
   "execution_count": 53,
   "metadata": {},
   "outputs": [
    {
     "name": "stdout",
     "output_type": "stream",
     "text": [
      "0\n",
      "1\n",
      "2\n",
      "3\n",
      "4\n",
      "5\n",
      "6\n",
      "7\n",
      "8\n",
      "9\n",
      "10\n",
      "11\n",
      "12\n",
      "13\n",
      "14\n",
      "15\n",
      "16\n",
      "17\n",
      "18\n",
      "19\n",
      "20\n",
      "21\n"
     ]
    }
   ],
   "source": [
    "ta 1174 True True cmi 16 lennumbers 1072\n",
    "num_iterations 67\n",
    "iteration number 0 mta 1174 True cmi 16 lennumbers 1072\n",
    "iteration number 1 mta 1197 False cmi 53 lennumbers 1093\n",
    "iteration number 2 mta 1220 False cmi 90 lennumbers 1114\n",
    "iteration number 3 mta 1243 False cmi 127 lennumbers 1135\n",
    "iteration number 4 mta 1266 False cmi 164 lennumbers 1156\n",
    "iteration number 5 mta 1289 False cmi 201 lennumbers 1177\n",
    "iteration number 6 mta 1312 False cmi 238 lennumbers 1198\n",
    "iteration number 7 mta 1335 False cmi 275 lennumbers 1219\n",
    "iteration number 8 mta 1358 False cmi 312 lennumbers 1240\n",
    "iteration number 9 mta 1381 False cmi 349 lennumbers 1261\n",
    "iteration number 10 mta 1404 False cmi 386 lennumbers 1282\n",
    "iteration number 11 mta 1427 False cmi 423 lennumbers 1303\n",
    "iteration number 12 mta 1450 False cmi 460 lennumbers 1324\n",
    "iteration number 13 mta 1473 False cmi 497 lennumbers 1345\n",
    "iteration number 14 mta 1496 False cmi 534 lennumbers 1366\n",
    "iteration number 15 mta 1519 False cmi 571 lennumbers 1387\n",
    "iteration number 16 mta 1542 False cmi 608 lennumbers 1408\n",
    "iteration number 17 mta 1565 False cmi 645 lennumbers 1429\n",
    "iteration number 18 mta 1588 False cmi 682 lennumbers 1450\n",
    "iteration number 19 mta 1611 False cmi 719 lennumbers 1471\n",
    "iteration number 20 mta 1634 False cmi 756 lennumbers 1492\n",
    "iteration number 21 mta 1657 False cmi 793 lennumbers 1513\n",
    "iteration number 22 mta 1680 False cmi 830 lennumbers 1534\n",
    "iteration number 23 mta 1703 False cmi 867 lennumbers 1555\n",
    "iteration number 24 mta 1726 False cmi 904 lennumbers 1576\n",
    "iteration number 25 mta 1749 False cmi 941 lennumbers 1597\n",
    "iteration number 26 mta 1772 False cmi 978 lennumbers 1618\n",
    "iteration number 27 mta 1795 False cmi 1015 lennumbers 1639\n",
    "iteration number 28 mta 1818 False cmi 1052 lennumbers 1660\n",
    "iteration number 29 mta 1841 False cmi 1089 lennumbers 1681\n",
    "iteration number 30 mta 1864 False cmi 1126 lennumbers 1702\n",
    "iteration number 31 mta 1887 False cmi 1163 lennumbers 1723\n",
    "iteration number 32 mta 1910 False cmi 1200 lennumbers 1744\n",
    "iteration number 33 mta 1933 False cmi 1237 lennumbers 1765\n",
    "iteration number 34 mta 1956 False cmi 1274 lennumbers 1786\n",
    "iteration number 35 mta 1979 False cmi 1311 lennumbers 1807\n",
    "iteration number 36 mta 2002 False cmi 1348 lennumbers 1828\n",
    "iteration number 37 mta 2025 False cmi 1385 lennumbers 1849\n",
    "iteration number 38 mta 2048 False cmi 1422 lennumbers 1870\n",
    "iteration number 39 mta 2071 False cmi 1459 lennumbers 1891\n",
    "iteration number 40 mta 2094 False cmi 1496 lennumbers 1912\n",
    "iteration number 41 mta 2117 False cmi 1533 lennumbers 1933\n",
    "iteration number 42 mta 2140 False cmi 1570 lennumbers 1954\n",
    "iteration number 43 mta 2163 False cmi 1607 lennumbers 1975\n",
    "iteration number 44 mta 2186 False cmi 1644 lennumbers 1996\n",
    "iteration number 45 mta 2209 False cmi 1681 lennumbers 2017\n",
    "iteration number 46 mta 2232 False cmi 1718 lennumbers 2038\n",
    "iteration number 47 mta 2255 False cmi 1755 lennumbers 2059\n",
    "iteration number 48 mta 2278 False cmi 1792 lennumbers 2080\n",
    "iteration number 49 mta 2301 False cmi 1829 lennumbers 2101\n",
    "iteration number 50 mta 2324 False cmi 1866 lennumbers 2122\n",
    "iteration number 51 mta 2347 False cmi 1903 lennumbers 2143\n",
    "iteration number 52 mta 2370 False cmi 1940 lennumbers 2164\n",
    "iteration number 53 mta 2393 False cmi 1977 lennumbers 2185\n",
    "iteration number 54 mta 2416 False cmi 2014 lennumbers 2206\n",
    "iteration number 55 mta 2439 False cmi 2051 lennumbers 2227\n",
    "iteration number 56 mta 2462 False cmi 2088 lennumbers 2248\n",
    "iteration number 57 mta 2485 False cmi 2125 lennumbers 2269\n",
    "iteration number 58 mta 2508 False cmi 2162 lennumbers 2290\n",
    "iteration number 59 mta 2531 False cmi 2199 lennumbers 2311\n",
    "iteration number 60 mta 2554 False cmi 2236 lennumbers 2332\n",
    "iteration number 61 mta 2577 False cmi 2273 lennumbers 2353\n",
    "iteration number 62 mta 2600 False cmi 2310 lennumbers 2374\n",
    "iteration number 63 mta 2623 False cmi 2347 lennumbers 2395\n",
    "iteration number 64 mta 2646 False cmi 2384 lennumbers 2416\n",
    "iteration number 65 mta 2669 False cmi 2421 lennumbers 2437"
   ]
  },
  {
   "cell_type": "code",
   "execution_count": 94,
   "metadata": {},
   "outputs": [
    {
     "name": "stdout",
     "output_type": "stream",
     "text": [
      "[array([ 0,  1,  2,  3,  4,  5,  6,  7,  8,  9, 10]), [11], [50], [12], [51], [13], [52], [14], [53], [15], [54], array([15, 16, 17, 18, 19])]\n"
     ]
    },
    {
     "data": {
      "text/plain": [
       "array([ 0,  1,  2,  3,  4,  5,  6,  7,  8,  9, 10, 11, 50, 12, 51, 13, 52,\n",
       "       14, 53, 15, 54, 15, 16, 17, 18, 19])"
      ]
     },
     "execution_count": 94,
     "metadata": {},
     "output_type": "execute_result"
    }
   ],
   "source": [
    "\n",
    "numbers = np.arange(20)\n",
    "current_marble_index = 10\n",
    "marble_to_add=50\n",
    "emptylist = []\n",
    "emptylist=[numbers[:current_marble_index+1]]\n",
    "for i in range (5):\n",
    "    emptylist.append([numbers[current_marble_index+1+i]])\n",
    "    emptylist.append([marble_to_add+i])\n",
    "marble_to_add +=5\n",
    "current_marble_index = current_marble_index+5\n",
    "emptylist.append(numbers[current_marble_index:])\n",
    "print (emptylist)\n",
    "numbers = np.concatenate(emptylist)\n",
    "numbers"
   ]
  },
  {
   "cell_type": "code",
   "execution_count": 65,
   "metadata": {},
   "outputs": [
    {
     "data": {
      "text/plain": [
       "35581.0"
      ]
     },
     "execution_count": 65,
     "metadata": {},
     "output_type": "execute_result"
    }
   ],
   "source": [
    "3094/2*23\n"
   ]
  },
  {
   "cell_type": "code",
   "execution_count": 34,
   "metadata": {},
   "outputs": [
    {
     "data": {
      "text/plain": [
       "5"
      ]
     },
     "execution_count": 34,
     "metadata": {},
     "output_type": "execute_result"
    }
   ],
   "source": [
    "len(a)"
   ]
  },
  {
   "cell_type": "code",
   "execution_count": 125,
   "metadata": {},
   "outputs": [
    {
     "data": {
      "text/plain": [
       "56"
      ]
     },
     "execution_count": 125,
     "metadata": {},
     "output_type": "execute_result"
    }
   ],
   "source": [
    "30+15 + 7+3+1"
   ]
  },
  {
   "cell_type": "code",
   "execution_count": 76,
   "metadata": {},
   "outputs": [
    {
     "name": "stdout",
     "output_type": "stream",
     "text": [
      "The line_profiler extension is already loaded. To reload it, use:\n",
      "  %reload_ext line_profiler\n",
      "50000\n",
      "100000\n",
      "cmi 37610 mta 100171 currplayer 297\n"
     ]
    }
   ],
   "source": [
    "#puzzle1\n",
    "%load_ext line_profiler\n",
    "import operator\n",
    "def marbles(input_marbles,current_marble_index,marble_to_add,num_players,stop_score):\n",
    "    players_score={}\n",
    "    for player in range(num_players):\n",
    "        players_score[player]=0\n",
    "    templist = []\n",
    "    numbers = input_marbles\n",
    "    current_player = 0\n",
    "    current_score = 0\n",
    "    while marble_to_add<=stop_score:\n",
    "        if marble_to_add%23==0:\n",
    "            #special\n",
    "            current_score = marble_to_add\n",
    "            current_marble_index += -7\n",
    "            if current_marble_index <0:\n",
    "                current_marble_index=len(numbers)+current_marble_index\n",
    "            templist.append(current_marble_index)\n",
    "            players_score[current_player]+=current_score+numbers[current_marble_index]\n",
    "            numbers = np.delete(arr=numbers,obj=current_marble_index)\n",
    "            marble_to_add +=1\n",
    "        else:\n",
    "            current_marble_index = get_index(numbers,current_marble_index)\n",
    "            #numbers = np.insert(arr=numbers,obj=current_marble_index,values=marble_to_add)\n",
    "            numbers = np.concatenate((numbers[:current_marble_index], [marble_to_add], numbers[current_marble_index:]))\n",
    "            marble_to_add+=1\n",
    "        if current_player+1 == num_players:\n",
    "            current_player =0\n",
    "        else:\n",
    "            current_player+=1\n",
    "        #print (numbers)\n",
    "        if marble_to_add%50000==0:\n",
    "            print(marble_to_add)\n",
    "    print ('cmi',current_marble_index,'mta',marble_to_add,'currplayer',current_player)\n",
    "    \n",
    "    return (templist)\n",
    "    print ('winning player score',max(players_score.items(), key=operator.itemgetter(1))[1])\n",
    "%lprun -f marbles a=marbles(np.array([0]),0,1,411,100170 )\n",
    "#marbles(np.array([0]),0,1,13,7999 )"
   ]
  },
  {
   "cell_type": "code",
   "execution_count": null,
   "metadata": {
    "collapsed": true
   },
   "outputs": [],
   "source": [
    "#templist = []\n",
    "\n",
    "def get_index(numbers,current_marble_index):\n",
    "    if current_marble_index+2>len(numbers):\n",
    "        #templist.append(len(numbers))\n",
    "\n",
    "        #print ('we have  a newline at',current_marble_index, current_marble_index-len(numbers)+2)\n",
    "       \n",
    "        return current_marble_index-len(numbers)+2,True\n",
    "        \n",
    "    \n",
    "    else:\n",
    "        return current_marble_index + 2,False\n",
    "    \n",
    "%load_ext line_profiler\n",
    "\n",
    "import operator\n",
    "def marbles(input_marbles,current_marble_index,marble_to_add,num_players,stop_score):\n",
    "    players_score={}\n",
    "    for player in range(num_players):\n",
    "        players_score[player]=0\n",
    "    \n",
    "    numbers = input_marbles\n",
    "    current_player = 0\n",
    "    current_score = 0\n",
    "    newline = False\n",
    "    while marble_to_add<=stop_score:\n",
    "        #print ('mta',marble_to_add,marble_to_add%23==1, newline, 'cmi',current_marble_index,'lennumbers',len(numbers))\n",
    "        if marble_to_add%23==1 and newline and marble_to_add>80 and current_marble_index<50:\n",
    "            num_iterations  = ((len(numbers)-current_marble_index)//16)-1\n",
    "            print(marble_to_add)\n",
    "            #print ('num_iterations',num_iterations)\n",
    "            if num_iterations > 0:\n",
    "                for i in range(num_iterations):\n",
    "                    #print ('iteration number',i,'mta',marble_to_add,newline, 'cmi',current_marble_index,'lennumbers',len(numbers))\n",
    "                    #print ('currentplayer',current_player)   \n",
    "                    #print (numbers)\n",
    "                    emptylist=[numbers[:current_marble_index+1]]\n",
    "                    for i in range (22):\n",
    "                        if i != 18:\n",
    "                            emptylist.append([numbers[current_marble_index+1+i]])\n",
    "                        else:\n",
    "                            current_score = numbers[current_marble_index+1+i]\n",
    "                        emptylist.append([marble_to_add+i])\n",
    "                    marble_to_add +=22\n",
    "\n",
    "                    emptylist.append(numbers[current_marble_index+23:])\n",
    "                    current_marble_index = current_marble_index+44\n",
    "                    \n",
    "                    newline = False\n",
    "                    \n",
    "                    current_player+=22 \n",
    "                    \n",
    "                    while current_player >= num_players:\n",
    "                        current_player += -num_players\n",
    "                        \n",
    "\n",
    "                    if marble_to_add%23==0:\n",
    "                        #special jackpot\n",
    "                        current_score += marble_to_add\n",
    "                        current_marble_index += -7\n",
    "                        if current_marble_index <0:\n",
    "                            ####current_marble_index=len(numbers)+current_marble_index\n",
    "                            newline = True\n",
    "                            print ('error newline')\n",
    "                            sys.exit()\n",
    "                            #templist.append(len(numbers))\n",
    "                        if marble_to_add<=stop_score:\n",
    "                            players_score[current_player]+=current_score\n",
    "                        else:\n",
    "                            #numbers = np.delete(arr=numbers,obj=current_marble_index)\n",
    "                            numbers = np.concatenate(emptylist)\n",
    "                            print ('winning player score',max(players_score.items(), key=operator.itemgetter(1))[1])\n",
    "                            return numbers\n",
    "                        #numbers = np.delete(arr=numbers,obj=current_marble_index)\n",
    "                        numbers = np.concatenate(emptylist)\n",
    "                        marble_to_add +=1\n",
    "                        #print (numbers)\n",
    "                        if current_player+1 == num_players:\n",
    "                            current_player = 0\n",
    "                        else:\n",
    "                            current_player+=1\n",
    "                    else:\n",
    "                        print('error')\n",
    "                        sys.exit()\n",
    "        #print ('currentplayer',current_player)    \n",
    "            \n",
    "        \n",
    "        if marble_to_add%23==0:\n",
    "            #special jackpot\n",
    "            current_score = marble_to_add\n",
    "            current_marble_index += -7\n",
    "            if current_marble_index <0:\n",
    "                current_marble_index=len(numbers)+current_marble_index\n",
    "\n",
    "                #templist.append(len(numbers))\n",
    "            players_score[current_player]+=current_score+numbers[current_marble_index]\n",
    "            numbers = np.delete(arr=numbers,obj=current_marble_index)\n",
    "            marble_to_add +=1\n",
    "            #print (numbers)\n",
    " \n",
    "            \n",
    "        else:\n",
    "            result = get_index(numbers,current_marble_index)\n",
    "            current_marble_index = result[0]\n",
    "            if newline == False: newline = result[1]\n",
    "            \n",
    "            #numbers = np.insert(arr=numbers,obj=current_marble_index,values=marble_to_add)\n",
    "            numbers = np.concatenate((numbers[:current_marble_index], [marble_to_add], numbers[current_marble_index:]))\n",
    "            marble_to_add+=1\n",
    "            #print (numbers)\n",
    "        if current_player+1 == num_players:\n",
    "            current_player =0\n",
    "        else:\n",
    "            current_player+=1\n",
    "        #print (numbers)\n",
    "        if marble_to_add%50000==0:\n",
    "            print(marble_to_add)\n",
    "    #print ('cmi',current_marble_index,'mta',marble_to_add,'currplayer',current_player)\n",
    "    print ('winning player score',max(players_score.items(), key=operator.itemgetter(1))[1])    \n",
    "    return (numbers)\n",
    "    \n",
    "\n",
    "%lprun -f marbles a= marbles(np.array([0]),0,1,411,7117000  )\n",
    "#b = marbles(np.array([0]),0,1,13,7999  )\n",
    "\n",
    "#marbles(np.array([0]),0,1,13,7999 )"
   ]
  }
 ],
 "metadata": {
  "kernelspec": {
   "display_name": "Python 3",
   "language": "python",
   "name": "python3"
  },
  "language_info": {
   "codemirror_mode": {
    "name": "ipython",
    "version": 3
   },
   "file_extension": ".py",
   "mimetype": "text/x-python",
   "name": "python",
   "nbconvert_exporter": "python",
   "pygments_lexer": "ipython3",
   "version": "3.6.1"
  }
 },
 "nbformat": 4,
 "nbformat_minor": 2
}
