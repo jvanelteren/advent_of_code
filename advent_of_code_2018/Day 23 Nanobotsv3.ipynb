{
 "cells": [
  {
   "cell_type": "code",
   "execution_count": 1,
   "metadata": {},
   "outputs": [
    {
     "data": {
      "text/plain": [
       "536870912"
      ]
     },
     "execution_count": 1,
     "metadata": {},
     "output_type": "execute_result"
    }
   ],
   "source": [
    "from aocutils.common import ints\n",
    "from dataclasses import dataclass\n",
    "from collections import namedtuple\n",
    "import heapq\n",
    "\n",
    "Robot = namedtuple('Robot', 'l r u p')\n",
    "lines=open('day23input.txt').read().splitlines()\n",
    "maxx = 0\n",
    "robots =[Robot(*ints(line)) for line in lines]\n",
    "maxx = max(max(r.r, r.l, r.u) + r.p for r in robots)\n",
    "size = 2\n",
    "while size < maxx:\n",
    "    size *= 2\n",
    "size"
   ]
  },
  {
   "cell_type": "code",
   "execution_count": 2,
   "metadata": {},
   "outputs": [],
   "source": [
    "@dataclass\n",
    "class RoboBlock():\n",
    "    left:int\n",
    "    right:int\n",
    "    up:int\n",
    "    leftrange:int\n",
    "    rightrange:int\n",
    "    uprange:int\n",
    "    totalhits:int=0\n",
    "    \n",
    "    def split(self):\n",
    "        midl = self.left + self.leftrange //2 + 1\n",
    "        midr = self.right + self.rightrange //2 + 1\n",
    "        midu = self.up + self.uprange // 2 + 1\n",
    "        for l in (self.left, midl):\n",
    "            for r in (self.right, midr):\n",
    "                for u in (self.up, midu):\n",
    "                    yield RoboBlock(l,r,u,self.leftrange//2, self.rightrange//2, self.uprange//2)\n",
    "   \n",
    "    def hits(self, other):\n",
    "        dis = 0\n",
    "        dis += max(0, self.left - other.l, other.l - (self.left + self.leftrange))\n",
    "        dis += max(0, self.right - other.r, other.r - (self.right + self.rightrange))\n",
    "        dis += max(0, self.up - other.u, other.u - (self.up + self.uprange))\n",
    "        return dis <= other.p\n",
    "    \n",
    "    def count(self, others):\n",
    "        self.distance = (abs(self.left) + abs(self.right) + abs(self.up))\n",
    "        self.totalhits = -sum(self.hits(o) for o in others)\n",
    "    \n",
    "    def __gt__(self,other):\n",
    "        return (self.totalhits, self.leftrange, self.distance) > (other.totalhits, other.leftrange, other.distance)"
   ]
  },
  {
   "cell_type": "code",
   "execution_count": 3,
   "metadata": {},
   "outputs": [
    {
     "data": {
      "text/plain": [
       "121493971"
      ]
     },
     "execution_count": 3,
     "metadata": {},
     "output_type": "execute_result"
    }
   ],
   "source": [
    "b = RoboBlock(0,0,0,size,size,size)\n",
    "b.count(robots)\n",
    "queue = [b]\n",
    "\n",
    "while queue:\n",
    "    cur = heapq.heappop(queue)\n",
    "    if cur.leftrange == 0:\n",
    "        break\n",
    "    else:\n",
    "        for b in cur.split():\n",
    "            b.count(robots)\n",
    "            heapq.heappush(queue, b)\n",
    "cur.distance"
   ]
  },
  {
   "cell_type": "code",
   "execution_count": 9,
   "metadata": {},
   "outputs": [
    {
     "name": "stdout",
     "output_type": "stream",
     "text": [
      "sat\n",
      "b 121493971 121493971\n"
     ]
    }
   ],
   "source": [
    "from collections import defaultdict\n",
    "from z3 import *\n",
    "nanobots = [ints(line) for line in lines]\n",
    "def zabs(x):\n",
    "    return If(x >= 0,x,-x)\n",
    "def lenr(l):\n",
    "  return range(len(l))\n",
    "(x, y, z) = (Int('x'), Int('y'), Int('z'))\n",
    "\n",
    "in_ranges = [\n",
    "    Int('in_range_' + str(i)) for i in lenr(nanobots)\n",
    "]\n",
    "\n",
    "range_count = Int('sum')\n",
    "o = Optimize()\n",
    "for i in lenr(nanobots):\n",
    "    nx, ny, nz, nrng = nanobots[i]\n",
    "    o.add(in_ranges[i] == If(zabs(x - nx) + zabs(y - ny) + zabs(z - nz) <= nrng, 1, 0))\n",
    "o.add(range_count == sum(in_ranges))\n",
    "dist_from_zero = Int('dist')\n",
    "o.add(dist_from_zero == zabs(x) + zabs(y) + zabs(z))\n",
    "h1 = o.maximize(range_count)\n",
    "h2 = o.minimize(dist_from_zero)\n",
    "print (o.check())\n",
    "#print o.lower(h1)\n",
    "#print o.upper(h1)\n",
    "print (\"b\", o.lower(h2), o.upper(h2))\n",
    "#print o.model()[x]\n",
    "#print o.model()[y]\n",
    "#print o.model()[z]"
   ]
  }
 ],
 "metadata": {
  "kernelspec": {
   "display_name": ".aocenvpy311",
   "language": "python",
   "name": "python3"
  },
  "language_info": {
   "codemirror_mode": {
    "name": "ipython",
    "version": 3
   },
   "file_extension": ".py",
   "mimetype": "text/x-python",
   "name": "python",
   "nbconvert_exporter": "python",
   "pygments_lexer": "ipython3",
   "version": "3.11.0"
  },
  "orig_nbformat": 4,
  "vscode": {
   "interpreter": {
    "hash": "7b5336723abeab741c71fcc933eb6e6f53a288e70399d841fc0756db1169ea34"
   }
  }
 },
 "nbformat": 4,
 "nbformat_minor": 2
}
