{
 "cells": [
  {
   "cell_type": "code",
   "execution_count": 14,
   "metadata": {},
   "outputs": [
    {
     "data": {
      "text/plain": [
       "536870912"
      ]
     },
     "execution_count": 14,
     "metadata": {},
     "output_type": "execute_result"
    }
   ],
   "source": [
    "from aocutils.common import ints\n",
    "from dataclasses import dataclass\n",
    "from collections import namedtuple\n",
    "import heapq\n",
    "\n",
    "Robot = namedtuple('Robot', 'l r u p')\n",
    "lines=open('day23input.txt').read().splitlines()\n",
    "maxx = 0\n",
    "robots =[Robot(*ints(line)) for line in lines]\n",
    "maxx = max(max(r.r, r.l, r.u) + r.p for r in robots)\n",
    "size = 2\n",
    "while size < maxx:\n",
    "    size *= 2\n",
    "size"
   ]
  },
  {
   "cell_type": "code",
   "execution_count": 4,
   "metadata": {},
   "outputs": [],
   "source": [
    "@dataclass\n",
    "class RoboBlock():\n",
    "    left:int\n",
    "    right:int\n",
    "    up:int\n",
    "    leftrange:int\n",
    "    rightrange:int\n",
    "    uprange:int\n",
    "    totalhits:int=0\n",
    "    \n",
    "    def split(self):\n",
    "        midl = self.left + self.leftrange //2 + 1\n",
    "        midr = self.right + self.rightrange //2 + 1\n",
    "        midu = self.up + self.uprange // 2 + 1\n",
    "        for l in (self.left, midl):\n",
    "            for r in (self.right, midr):\n",
    "                for u in (self.up, midu):\n",
    "                    yield RoboBlock(l,r,u,self.leftrange//2, self.rightrange//2, self.uprange//2)\n",
    "   \n",
    "    def hits(self, other):\n",
    "        dis = 0\n",
    "        dis += max(0, self.left - other.l, other.l - (self.left + self.leftrange))\n",
    "        dis += max(0, self.right - other.r, other.r - (self.right + self.rightrange))\n",
    "        dis += max(0, self.up - other.u, other.u - (self.up + self.uprange))\n",
    "        return dis <= other.p\n",
    "    \n",
    "    def count(self, others):\n",
    "        self.distance = (abs(self.left) + abs(self.right) + abs(self.up))\n",
    "        self.totalhits = -sum(self.hits(o) for o in others)\n",
    "    \n",
    "    def __gt__(self,other):\n",
    "        return (self.totalhits, self.leftrange, self.distance) > (other.totalhits, other.leftrange, other.distance)"
   ]
  },
  {
   "cell_type": "code",
   "execution_count": 5,
   "metadata": {},
   "outputs": [
    {
     "data": {
      "text/plain": [
       "121493971"
      ]
     },
     "execution_count": 5,
     "metadata": {},
     "output_type": "execute_result"
    }
   ],
   "source": [
    "b = RoboBlock(0,0,0,size,size,size)\n",
    "b.count(robots)\n",
    "queue = [b]\n",
    "\n",
    "while queue:\n",
    "    cur = heapq.heappop(queue)\n",
    "    if cur.leftrange == 0:\n",
    "        break\n",
    "    else:\n",
    "        for b in cur.split():\n",
    "            b.count(robots)\n",
    "            heapq.heappush(queue, b)\n",
    "cur.distance"
   ]
  }
 ],
 "metadata": {
  "kernelspec": {
   "display_name": "Python 3.10.0 ('.aocenv': venv)",
   "language": "python",
   "name": "python3"
  },
  "language_info": {
   "codemirror_mode": {
    "name": "ipython",
    "version": 3
   },
   "file_extension": ".py",
   "mimetype": "text/x-python",
   "name": "python",
   "nbconvert_exporter": "python",
   "pygments_lexer": "ipython3",
   "version": "3.10.0"
  },
  "orig_nbformat": 4,
  "vscode": {
   "interpreter": {
    "hash": "a292fecb04ead1807198b22395dbb599f43710a25b8e4823a30fedd04cdfd0f2"
   }
  }
 },
 "nbformat": 4,
 "nbformat_minor": 2
}
