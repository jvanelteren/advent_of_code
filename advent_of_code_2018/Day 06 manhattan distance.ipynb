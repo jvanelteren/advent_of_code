{
 "cells": [
  {
   "cell_type": "code",
   "execution_count": 29,
   "metadata": {},
   "outputs": [
    {
     "data": {
      "text/plain": [
       "8"
      ]
     },
     "execution_count": 29,
     "metadata": {},
     "output_type": "execute_result"
    }
   ],
   "source": [
    "max(places,key=itemgetter(1))[0]"
   ]
  },
  {
   "cell_type": "code",
   "execution_count": 30,
   "metadata": {
    "collapsed": true,
    "jupyter": {
     "outputs_hidden": true
    }
   },
   "outputs": [],
   "source": [
    "def manhattan(a,b):\n",
    "    return abs(a[0]-b[0])+abs((a[1]-b[1]))"
   ]
  },
  {
   "cell_type": "code",
   "execution_count": 55,
   "metadata": {
    "collapsed": true,
    "jupyter": {
     "outputs_hidden": true
    }
   },
   "outputs": [],
   "source": [
    "def determinetotaldistance(x,y):\n",
    "    distances = []\n",
    "    for place in places:\n",
    "        distances.append(manhattan((x,y),(place[0],place[1])))\n",
    "        #print (distances)\n",
    "    #print (distances)\n",
    "    \n",
    "    if sum(distances)<10000:\n",
    "        return (1)\n",
    "    else:\n",
    "        return (0)\n",
    "\n",
    "def determineclosest(x,y):\n",
    "    distances = []\n",
    "    for place in places:\n",
    "        distances.append(manhattan((x,y),(place[0],place[1])))\n",
    "        #print (distances)\n",
    "    #print (distances)\n",
    "    minimum = min(distances)\n",
    "    #print (minimum)\n",
    "    if distances.count(minimum)>1:\n",
    "        return (-1,-1)\n",
    "    else:\n",
    "        return (distances.index(minimum),minimum)\n",
    "    "
   ]
  },
  {
   "cell_type": "code",
   "execution_count": 56,
   "metadata": {
    "collapsed": true,
    "jupyter": {
     "outputs_hidden": true
    }
   },
   "outputs": [],
   "source": [
    "places = [(156,193),(81,315),(50,197),(84,234),(124,162),(339,345),(259,146),(240,350),(97,310),(202,119),(188,331),(199,211),(117,348),(350,169),(131,355),(71,107),(214,232),(312,282),(131,108),(224,103),(83,122),(352,142),(208,203),(319,217),(224,207),(327,174),(89,332),(254,181),(113,117),(120,161),(322,43),(115,226),(324,222),(151,240),(248,184),(207,136),(41,169),(63,78),(286,43),(84,222),(81,167),(128,192),(127,346),(213,102),(313,319),(207,134),(154,253),(50,313),(160,330),(332,163)]"
   ]
  },
  {
   "cell_type": "code",
   "execution_count": 5,
   "metadata": {},
   "outputs": [
    {
     "data": {
      "text/plain": [
       "8"
      ]
     },
     "execution_count": 5,
     "metadata": {},
     "output_type": "execute_result"
    }
   ],
   "source": [
    "from operator import itemgetter\n",
    "places = [(1,1),(4,4),(0,3)]\n",
    "places =[(1, 1),(1, 6),(8, 3),(3, 4),(5, 5),(8, 9)]\n",
    "max(places,key=itemgetter(1))[0]"
   ]
  },
  {
   "cell_type": "code",
   "execution_count": 57,
   "metadata": {},
   "outputs": [
    {
     "name": "stdout",
     "output_type": "stream",
     "text": [
      "352 41 355 43\n"
     ]
    }
   ],
   "source": [
    "from operator import itemgetter\n",
    "\n",
    "maxX = max(places,key=itemgetter(0))[0]\n",
    "minX = min(places,key=itemgetter(0))[0]\n",
    "maxY = max(places,key=itemgetter(1))[1]\n",
    "minY = min(places,key=itemgetter(1))[1]\n",
    "size = 400\n",
    "print (maxX,minX,maxY,minY)\n",
    "import numpy as np\n",
    "block = np.zeros(shape=(size,size))\n",
    "closest = np.zeros(shape=(size,size))\n",
    "distance = np.zeros(shape=(size,size))\n"
   ]
  },
  {
   "cell_type": "code",
   "execution_count": 35,
   "metadata": {
    "collapsed": true,
    "jupyter": {
     "outputs_hidden": true
    }
   },
   "outputs": [],
   "source": [
    "#puzzle 1\n",
    "for x in range(size):\n",
    "    for y in range(size):\n",
    "        result = determineclosest(x,y)\n",
    "        closest[x,y]=result[0]\n",
    "        distance[x,y]=result[1]\n"
   ]
  },
  {
   "cell_type": "code",
   "execution_count": 36,
   "metadata": {},
   "outputs": [
    {
     "name": "stdout",
     "output_type": "stream",
     "text": [
      "{-1.0: 6604, 0.0: 2303, 1.0: 1118, 2.0: 3168, 3.0: 3363, 4.0: 1166, 5.0: 6555, 6.0: 3433, 7.0: 7230, 8.0: 2194, 9.0: 1043, 10.0: 4572, 11.0: 1335, 12.0: 1671, 13.0: 2984, 14.0: 1829, 15.0: 2329, 16.0: 4342, 17.0: 6746, 18.0: 6637, 19.0: 3129, 20.0: 1612, 21.0: 6070, 22.0: 725, 23.0: 1305, 24.0: 1051, 25.0: 1309, 26.0: 2743, 27.0: 1915, 28.0: 2172, 29.0: 867, 30.0: 8385, 31.0: 1710, 32.0: 3180, 33.0: 1277, 34.0: 1077, 35.0: 1945, 36.0: 3504, 37.0: 10097, 38.0: 6354, 39.0: 1130, 40.0: 1750, 41.0: 1326, 42.0: 662, 43.0: 5250, 44.0: 2687, 45.0: 522, 46.0: 2879, 47.0: 8924, 48.0: 2760, 49.0: 1061}\n",
      "160000\n"
     ]
    }
   ],
   "source": [
    "unique, counts = np.unique(closest, return_counts=True)\n",
    "count_space = dict(zip(unique, counts))\n",
    "print (count_space)\n",
    "print (sum(count_space.values()))"
   ]
  },
  {
   "cell_type": "code",
   "execution_count": 37,
   "metadata": {},
   "outputs": [
    {
     "name": "stdout",
     "output_type": "stream",
     "text": [
      "{0.0: 2303, 1.0: 1118, 4.0: 1166, 6.0: 3433, 8.0: 2194, 9.0: 1043, 11.0: 1335, 16.0: 4342, 22.0: 725, 23.0: 1305, 24.0: 1051, 25.0: 1309, 27.0: 1915, 29.0: 867, 31.0: 1710, 33.0: 1277, 34.0: 1077, 35.0: 1945, 39.0: 1130, 40.0: 1750, 41.0: 1326, 42.0: 662, 44.0: 2687, 45.0: 522, 46.0: 2879, 49.0: 1061}\n",
      "42132\n"
     ]
    }
   ],
   "source": [
    "edges = np.unique(np.array([closest[[0,size-1],:], closest[:,[0,size-1]].T]).ravel())\n",
    "\n",
    "for edge in edges:\n",
    "    if edge in count_space.keys():\n",
    "        del count_space[edge]\n",
    "        \n",
    "print (count_space)\n",
    "print (sum(count_space.values()))"
   ]
  },
  {
   "cell_type": "code",
   "execution_count": 58,
   "metadata": {},
   "outputs": [],
   "source": [
    "#puzzle 2\n",
    "for x in range(size):\n",
    "    for y in range(size):\n",
    "        closest[x,y] = determinetotaldistance(x,y)"
   ]
  },
  {
   "cell_type": "code",
   "execution_count": 59,
   "metadata": {},
   "outputs": [
    {
     "data": {
      "text/plain": [
       "42966.0"
      ]
     },
     "execution_count": 59,
     "metadata": {},
     "output_type": "execute_result"
    }
   ],
   "source": [
    "np.sum(closest)"
   ]
  },
  {
   "cell_type": "code",
   "execution_count": 48,
   "metadata": {},
   "outputs": [
    {
     "data": {
      "text/plain": [
       "(37, 139)"
      ]
     },
     "execution_count": 48,
     "metadata": {},
     "output_type": "execute_result"
    }
   ],
   "source": [
    "determineclosest(1,1)"
   ]
  },
  {
   "cell_type": "code",
   "execution_count": 52,
   "metadata": {},
   "outputs": [
    {
     "data": {
      "text/plain": [
       "0"
      ]
     },
     "execution_count": 52,
     "metadata": {},
     "output_type": "execute_result"
    }
   ],
   "source": [
    "closest"
   ]
  },
  {
   "cell_type": "code",
   "execution_count": 6,
   "metadata": {},
   "outputs": [
    {
     "ename": "NameError",
     "evalue": "name 'np' is not defined",
     "output_type": "error",
     "traceback": [
      "\u001b[1;31m---------------------------------------------------------------------------\u001b[0m",
      "\u001b[1;31mNameError\u001b[0m                                 Traceback (most recent call last)",
      "\u001b[1;32m<ipython-input-6-6772f724fc94>\u001b[0m in \u001b[0;36m<module>\u001b[1;34m\u001b[0m\n\u001b[1;32m----> 1\u001b[1;33m \u001b[0mnp\u001b[0m\u001b[1;33m.\u001b[0m\u001b[0mflatten\u001b[0m\u001b[1;33m(\u001b[0m\u001b[1;33m[\u001b[0m\u001b[1;33m[\u001b[0m\u001b[1;33m[\u001b[0m\u001b[1;36m1\u001b[0m\u001b[1;33m,\u001b[0m\u001b[1;36m2\u001b[0m\u001b[1;33m]\u001b[0m\u001b[1;33m]\u001b[0m\u001b[1;33m]\u001b[0m\u001b[1;33m)\u001b[0m\u001b[1;33m\u001b[0m\u001b[1;33m\u001b[0m\u001b[0m\n\u001b[0m",
      "\u001b[1;31mNameError\u001b[0m: name 'np' is not defined"
     ]
    }
   ],
   "source": []
  },
  {
   "cell_type": "code",
   "execution_count": null,
   "metadata": {},
   "outputs": [],
   "source": []
  }
 ],
 "metadata": {
  "kernelspec": {
   "display_name": "Python 3",
   "language": "python",
   "name": "python3"
  },
  "language_info": {
   "codemirror_mode": {
    "name": "ipython",
    "version": 3
   },
   "file_extension": ".py",
   "mimetype": "text/x-python",
   "name": "python",
   "nbconvert_exporter": "python",
   "pygments_lexer": "ipython3",
   "version": "3.7.3"
  }
 },
 "nbformat": 4,
 "nbformat_minor": 4
}
