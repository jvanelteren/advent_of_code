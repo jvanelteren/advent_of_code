{
 "cells": [
  {
   "cell_type": "code",
   "execution_count": 1,
   "metadata": {
    "Collapsed": "false",
    "collapsed": true,
    "jupyter": {
     "outputs_hidden": true
    }
   },
   "outputs": [],
   "source": [
    "from IPython.core.debugger import set_trace\n",
    "import numpy as np\n",
    "import sys\n",
    "import collections\n",
    "import re\n",
    "from pprint import pprint\n",
    "f=open('day23test2.txt') #not with read because thats probably the whole file\n",
    "lines = [line.rstrip('\\n') for line in f]"
   ]
  },
  {
   "cell_type": "code",
   "execution_count": 2,
   "metadata": {},
   "outputs": [],
   "source": [
    "import functools\n",
    "from types import FunctionType\n",
    "\n",
    "def copy_func(f):\n",
    "    \"Copy a non-builtin function (NB `copy.copy` does not work for this)\"\n",
    "    if not isinstance(f,FunctionType): return copy(f)\n",
    "    fn = FunctionType(f.__code__, f.__globals__, f.__name__, f.__defaults__, f.__closure__)\n",
    "    fn.__dict__.update(f.__dict__)\n",
    "    return fn\n",
    "\n",
    "def patch_to(cls, as_prop=False):\n",
    "    \"Decorator: add `f` to `cls`\"\n",
    "    if not isinstance(cls, (tuple,list)): cls=(cls,)\n",
    "    def _inner(f):\n",
    "        for c_ in cls:\n",
    "            nf = copy_func(f)\n",
    "            # `functools.update_wrapper` when passing patched function to `Pipeline`, so we do it manually\n",
    "            for o in functools.WRAPPER_ASSIGNMENTS: setattr(nf, o, getattr(f,o))\n",
    "            nf.__qualname__ = f\"{c_.__name__}.{f.__name__}\"\n",
    "            setattr(c_, f.__name__, property(nf) if as_prop else nf)\n",
    "        return f\n",
    "    return _inner\n",
    "\n",
    "def patch(f):\n",
    "    \"Decorator: add `f` to the first parameter's class (based on f's type annotations)\"\n",
    "    cls = next(iter(f.__annotations__.values()))\n",
    "    return patch_to(cls)(f)"
   ]
  },
  {
   "cell_type": "code",
   "execution_count": 3,
   "metadata": {
    "Collapsed": "false",
    "collapsed": true,
    "jupyter": {
     "outputs_hidden": true
    }
   },
   "outputs": [],
   "source": [
    "bots = []\n",
    "power = []\n",
    "for line in lines:\n",
    "    result =[]\n",
    "    result.append(int(re.search('pos\\=\\<(.*)',line.split(',')[0])[1]))\n",
    "    result.append(int(line.split(',')[1]))\n",
    "    result.append(int(line.split(',')[2][0:-1]))\n",
    "    power.append(int(re.search('r\\=(.*)',line.split(',')[3])[1]))\n",
    "    bots.append(result)\n"
   ]
  },
  {
   "cell_type": "code",
   "execution_count": 4,
   "metadata": {},
   "outputs": [],
   "source": [
    "from dataclasses import dataclass\n",
    "from urllib.parse import SplitResult\n",
    "splits = 0\n",
    "@dataclass\n",
    "class Block():\n",
    "    left:int\n",
    "    right:int\n",
    "    up:int\n",
    "    leftrange:int\n",
    "    rightrange:int\n",
    "    uprange:int\n",
    "    \n",
    "    lazy:int\n",
    "    val:int\n",
    "    subblocks:list\n",
    "    level:int\n",
    "    def iscontainedby(self, other):\n",
    "        return (other.left <= self.left and other.left+other.leftrange >= self.left + self.leftrange and\n",
    "            other.right <= self.right and other.right + other.rightrange >= self.right + self.rightrange and\n",
    "            other.up <= self.up and other.up + other.uprange >= self.up + self.uprange)\n",
    "    \n",
    "    def excludes(self, other):\n",
    "        return (other.left > self.left + self.leftrange or other.left + other.leftrange < self.left or\n",
    "                other.right > self.right + self.rightrange or other.right + other.rightrange < self.right or\n",
    "                other.up > self.up + self.uprange or other.up + other.uprange < self.up)\n",
    "        \n",
    "    def split(self):\n",
    "        global splits\n",
    "        splits += 1\n",
    "        midl = self.left + self.leftrange //2 + 1\n",
    "        midr = self.right + self.rightrange //2 + 1\n",
    "        midu = self.up + self.uprange // 2 + 1\n",
    "        for l in (self.left, midl+1):\n",
    "            for r in (self.right, midr+1):\n",
    "                for u in (self.up, midu+1):\n",
    "                    self.subblocks.append(type(self)(l,r,u,self.leftrange//2, self.rightrange//2, self.uprange//2,0,0,[], self.level+1))\n",
    "        # print(f'level {self.level} exploded')\n",
    "        \n",
    "    def __repr__(self):\n",
    "        return self.level\n",
    "    \n",
    "    def add(self, block):\n",
    "        if not self.leftrange:\n",
    "            return\n",
    "        # print(self.leftrange)\n",
    "        if self.iscontainedby(block):\n",
    "            # print('contains')\n",
    "            self.val += 1\n",
    "            self.lazy += 1\n",
    "        elif not self.excludes(block):\n",
    "            # print('subby')\n",
    "            if not self.subblocks:\n",
    "                self.split()\n",
    "            for b in self.subblocks:\n",
    "                b.add(block)\n",
    "    \n",
    "    def size(self):\n",
    "        maxx = self.lazy\n",
    "        if self.subblocks:\n",
    "            maxx += max(b.size() for b in self.subblocks)\n",
    "        return maxx\n",
    "        \n",
    "    def brightest(self):\n",
    "        if self.leftrange == 1 and self.rightrange == 1 and self.uprange == 1:\n",
    "            return self.val\n",
    "        else:\n",
    "            if not self.subblocks:\n",
    "                return self.lazy\n",
    "            else:\n",
    "                return self.lazy + max(b.brightest() for b in self.subblocks)\n",
    "    \n"
   ]
  },
  {
   "cell_type": "code",
   "execution_count": 5,
   "metadata": {},
   "outputs": [],
   "source": [
    "@patch\n",
    "def hi(self:Block):\n",
    "    print('hi')\n",
    "    \n",
    "b= Block(0,0,0,0,0,0,0,0,[],0)"
   ]
  },
  {
   "cell_type": "code",
   "execution_count": 6,
   "metadata": {},
   "outputs": [],
   "source": [
    "from re import L, U\n",
    "\n",
    "\n",
    "@dataclass\n",
    "class Robot():\n",
    "    l:int\n",
    "    r:int\n",
    "    u:int\n",
    "    p:int\n",
    "    \n",
    "    def reaches(self,l,r,u):\n",
    "        return (abs(self.l-l) + abs(self.r-r) + abs(self.u - u)) <= self.p\n",
    "        \n",
    "\n",
    "class RoboBlock(Block):\n",
    "    def iscontainedby(self, other):\n",
    "        for l in (self.left, self.left+self.leftrange):\n",
    "            for r in (self.right, self.right+ self.rightrange):\n",
    "                for u in (self.up, self.up+self.uprange):\n",
    "                    if not other.reaches(l,r,u):\n",
    "                        return False\n",
    "        return True\n",
    "    \n",
    "    def excludes(self, other):\n",
    "        for l in (self.left, self.left+self.leftrange):\n",
    "            for r in (self.right, self.right+ self.rightrange):\n",
    "                for u in (self.up, self.up+self.uprange):\n",
    "                    if other.reaches(l,r,u):\n",
    "                        return False\n",
    "        \n",
    "        return not (self.left <= other.l <= self.left + self.leftrange and \n",
    "                self.right <= other.r <= self.right + self.rightrange and\n",
    "                self.up <= other.u <= self.up + self.uprange)\n",
    "        "
   ]
  },
  {
   "cell_type": "code",
   "execution_count": 7,
   "metadata": {},
   "outputs": [
    {
     "data": {
      "text/plain": [
       "2"
      ]
     },
     "execution_count": 7,
     "metadata": {},
     "output_type": "execute_result"
    }
   ],
   "source": [
    "1+1"
   ]
  },
  {
   "cell_type": "code",
   "execution_count": 8,
   "metadata": {},
   "outputs": [
    {
     "name": "stdout",
     "output_type": "stream",
     "text": [
      "14 10 12 12 2\n",
      "16 12 14 12 2\n",
      "20 16 12 12 4\n",
      "20 14 14 14 6\n",
      "250 50 50 50 200\n",
      "250 10 10 10 5\n"
     ]
    }
   ],
   "source": [
    "from aocutils import grid\n",
    "maxx = 0\n",
    "robots = []\n",
    "for (x,y,z), p in zip((bots), power):\n",
    "    maxx = max(maxx, max(x,y,z)+p)\n",
    "    print(maxx,x,y,z,p)\n",
    "    robots.append(Robot(x,y,z,p))"
   ]
  },
  {
   "cell_type": "code",
   "execution_count": 9,
   "metadata": {},
   "outputs": [
    {
     "data": {
      "text/plain": [
       "2"
      ]
     },
     "execution_count": 9,
     "metadata": {},
     "output_type": "execute_result"
    }
   ],
   "source": [
    "1+1"
   ]
  },
  {
   "cell_type": "code",
   "execution_count": 10,
   "metadata": {},
   "outputs": [
    {
     "data": {
      "text/plain": [
       "(256, 7)"
      ]
     },
     "execution_count": 10,
     "metadata": {},
     "output_type": "execute_result"
    }
   ],
   "source": [
    "size = 2\n",
    "level = 0\n",
    "while size < maxx:\n",
    "    size *= 2\n",
    "    \n",
    "    level += 1\n",
    "size, level"
   ]
  },
  {
   "cell_type": "code",
   "execution_count": 11,
   "metadata": {},
   "outputs": [],
   "source": [
    "b = RoboBlock(0,0,0,size,size,size,0,0,[],1)\n",
    "for r in robots:\n",
    "    b.add(r)"
   ]
  },
  {
   "cell_type": "code",
   "execution_count": 12,
   "metadata": {},
   "outputs": [
    {
     "data": {
      "text/plain": [
       "1"
      ]
     },
     "execution_count": 12,
     "metadata": {},
     "output_type": "execute_result"
    }
   ],
   "source": [
    "b.level"
   ]
  },
  {
   "cell_type": "code",
   "execution_count": 13,
   "metadata": {},
   "outputs": [
    {
     "data": {
      "text/plain": [
       "2"
      ]
     },
     "execution_count": 13,
     "metadata": {},
     "output_type": "execute_result"
    }
   ],
   "source": [
    "1+1"
   ]
  },
  {
   "cell_type": "code",
   "execution_count": null,
   "metadata": {},
   "outputs": [],
   "source": []
  }
 ],
 "metadata": {
  "kernelspec": {
   "display_name": "Python 3.10.0 ('.aocenv': venv)",
   "language": "python",
   "name": "python3"
  },
  "language_info": {
   "codemirror_mode": {
    "name": "ipython",
    "version": 3
   },
   "file_extension": ".py",
   "mimetype": "text/x-python",
   "name": "python",
   "nbconvert_exporter": "python",
   "pygments_lexer": "ipython3",
   "version": "3.10.0"
  },
  "vscode": {
   "interpreter": {
    "hash": "a292fecb04ead1807198b22395dbb599f43710a25b8e4823a30fedd04cdfd0f2"
   }
  }
 },
 "nbformat": 4,
 "nbformat_minor": 4
}
