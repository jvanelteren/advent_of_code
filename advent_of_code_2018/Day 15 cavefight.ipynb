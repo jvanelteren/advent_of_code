{
 "cells": [
  {
   "cell_type": "code",
   "execution_count": 1,
   "metadata": {
    "collapsed": true,
    "jupyter": {
     "outputs_hidden": true
    }
   },
   "outputs": [],
   "source": [
    "from IPython.core.debugger import set_trace\n",
    "import numpy as np\n",
    "import sys\n",
    "import collections\n",
    "\n",
    "f=open('day15puzzleinput.txt') #not with read because thats probably the whole file\n",
    "lines = [line.rstrip('\\n') for line in f]"
   ]
  },
  {
   "cell_type": "code",
   "execution_count": 2,
   "metadata": {},
   "outputs": [],
   "source": [
    "def bfs(cave, start,targets):\n",
    "    wall = [\"#\", 'E','G']\n",
    "    queue = collections.deque([[start]])\n",
    "    seen = set([start])\n",
    "    paths=[]\n",
    "    while queue:\n",
    "        #print ('queue',queue)\n",
    "        path = queue.popleft()\n",
    "        #print ('queue',queue)\n",
    "        x, y = path[-1]\n",
    "        #if (x,y)==(1,4):set_trace() \n",
    "        #print (x,y)\n",
    "        if (x,y) in targets:\n",
    "            \n",
    "            #print ('there',(x,y))\n",
    "            paths.append([(x,y),len(path),path])\n",
    "            targets.remove((x,y))\n",
    "            #print ('targets',targets,len(targets))\n",
    "            \n",
    "            if len(targets)==0:\n",
    "                #print ('bla')\n",
    "                return paths\n",
    "        \n",
    "        for x2, y2 in ((x+1,y), (x-1,y), (x,y+1), (x,y-1)):\n",
    "            \n",
    "            #if 0 <= x2 < cave.shape[1] and 0 <= y2 < cave.shape[0] and cave[y2][x2] not in wall and (x2, y2) not in seen:\n",
    "            if 0 <= x2 < cave.shape[0] and 0 <= y2 < cave.shape[1] and cave[(x2,y2)] not in wall and (x2, y2) not in seen:\n",
    "                queue.append(path + [(x2, y2)])\n",
    "                #if (x2,y2)==(4,1):set_trace()\n",
    "                seen.add((x2, y2))\n",
    "               \n",
    "    return paths            "
   ]
  },
  {
   "cell_type": "code",
   "execution_count": 3,
   "metadata": {},
   "outputs": [],
   "source": [
    "  \n",
    "def select_move(unit):\n",
    "    \n",
    "    targets = [enemy[2] for enemy in unitlist if enemy[1]!=unit[1]]\n",
    "    \n",
    "    #print ('location',unit[2],'targets',targets)\n",
    "    #print ('n',neighbors(targets))\n",
    "    \n",
    " \n",
    "    if (unit[2] in all_neighbors(targets)):\n",
    "        return False\n",
    "    paths =  (bfs(cave,unit[2],neighbors(targets)))\n",
    "    #print ('paths',paths)\n",
    "    if len(paths)==0:\n",
    "        return (False)\n",
    "    else:\n",
    "        #there is a destination!!\n",
    "        paths.sort(key=lambda x:(x[1],x[0][0],x[0][1]))\n",
    "        #print ('final paths',paths)\n",
    "        destination = paths[0][2][-1]\n",
    "        #print ('destination',destination)\n",
    "        adjectent_squares=[]\n",
    "        for adjecent in neighbors([unit[2]]):\n",
    "            #print ('adj bfs',adjecent,bfs(cave,adjecent,[destination]))\n",
    "            path_adj_to_dest = [adjecent,bfs(cave,adjecent,[destination])]\n",
    "          \n",
    "        \n",
    "            if len(path_adj_to_dest[1])!=0:\n",
    "                adjectent_squares.append(path_adj_to_dest)\n",
    "        adjectent_squares.sort(key=lambda x:(x[1][0][1],x[0][0],x[0][1]))\n",
    "        #print('adj sorted',adjectent_squares)\n",
    "        #print('selected',adjectent_squares[0][0])\n",
    "        return adjectent_squares[0][0]\n",
    "   \n",
    "   \n",
    "    #select closest target\n",
    "def all_neighbors(coordinates):\n",
    "    neighborlist = []\n",
    "    for x in coordinates:\n",
    "        neighbors = x + np.array([(0,1),(0,-1),(1,0),(-1,0)])\n",
    "        \n",
    "        for x in neighbors:\n",
    "            neighborlist.append(x)\n",
    "    #neighbors[np.any(neighbors>0,1)]\n",
    "    #set_trace()\n",
    "    #print (neighborlist)\n",
    "    return [tuple(x) for x in neighborlist if (cave[tuple(x)]!='#')]\n",
    "\n",
    "def neighbors(coordinates):\n",
    "    neighborlist = []\n",
    "    for x in coordinates:\n",
    "        neighbors = x + np.array([(0,1),(0,-1),(1,0),(-1,0)])\n",
    "        \n",
    "        for x in neighbors:\n",
    "            neighborlist.append(x)\n",
    "    #neighbors[np.any(neighbors>0,1)]\n",
    "    #set_trace()\n",
    "    #print (neighborlist)\n",
    "    return [tuple(x) for x in neighborlist if (cave[tuple(x)]=='.')]\n",
    "    \n",
    "def move(unit):\n",
    "    #set_trace()\n",
    "    location = select_move(unit)\n",
    "    if location != False:\n",
    "        cave[unit[2]]='.'\n",
    "        unit[2]=location\n",
    "        cave[unit[2]]=unit[1]\n",
    "    return unit\n",
    "    #attack(unit)\n",
    "    \n",
    "    #checkkill()"
   ]
  },
  {
   "cell_type": "code",
   "execution_count": 4,
   "metadata": {},
   "outputs": [],
   "source": [
    "def attack(unit):\n",
    "    targets = [enemy[2] for enemy in unitlist if enemy[1]!=unit[1]]\n",
    "    #print (targets)\n",
    "    neighbors = all_neighbors([unit[2]])\n",
    "    #print (neighbors)\n",
    "    real_targets = [n for n in neighbors if n in targets]\n",
    "    if len(real_targets)==0: return 'no'\n",
    "    #print ('real_target', real_targets)\n",
    "    target_spec=[]\n",
    "    for i,x in enumerate(unitlist):\n",
    "        if x[2] in real_targets:\n",
    "            target_spec.append([i,x])\n",
    "    target_spec.sort(key=lambda x:(x[1][3],x[1][2][0],x[1][2][1]))\n",
    "    #print ('final target',target_spec[0])\n",
    "    return (target_spec[0][0])\n",
    "\n"
   ]
  },
  {
   "cell_type": "code",
   "execution_count": 8,
   "metadata": {},
   "outputs": [
    {
     "name": "stdout",
     "output_type": "stream",
     "text": [
      "elfpower 7\n",
      "0\n",
      "20\n",
      "40\n",
      "60\n",
      "80\n",
      "battle-end\n",
      "93\n",
      "[186, 200, 74, 165, 200, 18]\n",
      "78399\n",
      "79242\n",
      "elves alive 6\n",
      "[[0, 'G', (19, 11), 186], [2, 'G', (20, 10), 200], [1, 'G', (20, 12), 74], [7, 'G', (21, 11), 165], [3, 'G', (21, 17), 200], [4, 'G', (22, 9), 18]]\n",
      "elfpower 8\n",
      "0\n",
      "20\n",
      "40\n",
      "60\n",
      "80\n",
      "100\n",
      "battle-end\n",
      "112\n",
      "[71]\n",
      "7952\n",
      "8023\n",
      "elves alive 1\n",
      "[[20, 'E', (21, 16), 71]]\n",
      "elfpower 9\n",
      "0\n",
      "20\n",
      "40\n",
      "60\n",
      "battle-end\n",
      "78\n",
      "[194, 20, 44, 11, 179]\n",
      "34944\n",
      "35392\n",
      "elves alive 5\n",
      "[[20, 'E', (10, 19), 194], [21, 'E', (11, 14), 20], [22, 'E', (18, 10), 44], [25, 'E', (19, 9), 11], [29, 'E', (20, 10), 179]]\n",
      "elfpower 10\n",
      "0\n",
      "20\n",
      "40\n",
      "60\n",
      "battle-end\n",
      "66\n",
      "[53, 20, 140, 125, 92, 200, 29]\n",
      "43494\n",
      "44153\n",
      "elves alive 7\n",
      "[[21, 'E', (11, 20), 53], [29, 'E', (14, 8), 20], [25, 'E', (14, 10), 140], [17, 'E', (15, 10), 125], [20, 'E', (16, 11), 92], [28, 'E', (18, 10), 200], [22, 'E', (21, 14), 29]]\n",
      "elfpower 11\n",
      "0\n",
      "20\n",
      "40\n",
      "60\n",
      "battle-end\n",
      "62\n",
      "[95, 161, 110, 35, 188, 125, 29]\n",
      "46066\n",
      "46809\n",
      "elves alive 7\n",
      "[[21, 'E', (11, 20), 95], [20, 'E', (18, 10), 161], [29, 'E', (19, 9), 110], [28, 'E', (19, 11), 35], [17, 'E', (20, 8), 188], [25, 'E', (20, 10), 125], [22, 'E', (21, 12), 29]]\n",
      "elfpower 12\n",
      "0\n",
      "20\n",
      "40\n",
      "battle-end\n",
      "55\n",
      "[8, 113, 119, 98, 191, 56, 140, 161]\n",
      "48730\n",
      "49616\n",
      "elves alive 8\n",
      "[[12, 'E', (10, 20), 8], [21, 'E', (11, 17), 113], [29, 'E', (16, 8), 119], [22, 'E', (17, 10), 98], [17, 'E', (18, 9), 191], [28, 'E', (18, 11), 56], [25, 'E', (19, 10), 140], [20, 'E', (22, 9), 161]]\n",
      "elfpower 13\n",
      "0\n",
      "20\n",
      "40\n",
      "battle-end\n",
      "54\n",
      "[119, 17, 95, 164, 65, 161, 146, 146]\n",
      "49302\n",
      "50215\n",
      "elves alive 8\n",
      "[[21, 'E', (10, 17), 119], [12, 'E', (11, 15), 17], [29, 'E', (17, 10), 95], [17, 'E', (18, 9), 164], [28, 'E', (18, 11), 65], [20, 'E', (19, 8), 161], [25, 'E', (19, 10), 146], [22, 'E', (22, 9), 146]]\n",
      "elfpower 14\n",
      "0\n",
      "20\n",
      "40\n",
      "battle-end\n",
      "56\n",
      "[29, 125, 155, 152, 38, 101, 185, 170]\n",
      "53480\n",
      "54435\n",
      "elves alive 8\n",
      "[[12, 'E', (10, 19), 29], [21, 'E', (11, 11), 125], [29, 'E', (16, 10), 155], [28, 'E', (17, 9), 152], [17, 'E', (17, 11), 38], [22, 'E', (18, 10), 101], [20, 'E', (19, 9), 185], [25, 'E', (21, 9), 170]]\n",
      "elfpower 15\n",
      "0\n",
      "20\n",
      "40\n",
      "battle-end\n",
      "52\n",
      "[131, 38, 167, 182, 146, 95, 116, 200]\n",
      "55900\n",
      "56975\n",
      "elves alive 8\n",
      "[[21, 'E', (10, 18), 131], [12, 'E', (11, 11), 38], [29, 'E', (13, 9), 167], [17, 'E', (14, 8), 182], [25, 'E', (14, 10), 146], [20, 'E', (15, 9), 95], [22, 'E', (16, 8), 116], [28, 'E', (19, 11), 200]]\n",
      "elfpower 16\n",
      "0\n",
      "20\n",
      "40\n",
      "battle-end\n",
      "49\n",
      "[50, 137, 161, 116, 185, 161, 95, 200]\n",
      "54145\n",
      "55250\n",
      "elves alive 8\n",
      "[[12, 'E', (10, 20), 50], [21, 'E', (11, 12), 137], [25, 'E', (14, 9), 161], [17, 'E', (15, 9), 116], [29, 'E', (15, 11), 185], [20, 'E', (16, 10), 161], [22, 'E', (17, 9), 95], [28, 'E', (18, 10), 200]]\n",
      "elfpower 17\n",
      "0\n",
      "20\n",
      "40\n",
      "battle-end\n",
      "49\n",
      "[131, 59, 200, 173, 182, 107, 107, 200]\n",
      "56791\n",
      "57950\n",
      "elves alive 8\n",
      "[[21, 'E', (10, 15), 131], [12, 'E', (12, 10), 59], [29, 'E', (14, 9), 200], [17, 'E', (14, 11), 173], [25, 'E', (14, 8), 182], [22, 'E', (15, 10), 107], [20, 'E', (17, 11), 107], [28, 'E', (18, 9), 200]]\n",
      "elfpower 18\n",
      "0\n",
      "20\n",
      "40\n",
      "battle-end\n",
      "49\n",
      "[131, 59, 200, 173, 182, 107, 107, 200]\n",
      "56791\n",
      "57950\n",
      "elves alive 8\n",
      "[[21, 'E', (10, 15), 131], [12, 'E', (12, 10), 59], [29, 'E', (14, 9), 200], [17, 'E', (14, 11), 173], [25, 'E', (14, 8), 182], [22, 'E', (15, 10), 107], [20, 'E', (17, 11), 107], [28, 'E', (18, 9), 200]]\n",
      "elfpower 19\n",
      "0\n",
      "20\n",
      "40\n",
      "battle-end\n",
      "46\n",
      "[71, 137, 197, 197, 134, 146, 164, 200]\n",
      "57316\n",
      "58562\n",
      "elves alive 8\n",
      "[[12, 'E', (10, 18), 71], [21, 'E', (12, 11), 137], [20, 'E', (13, 9), 197], [25, 'E', (13, 10), 197], [17, 'E', (14, 9), 134], [22, 'E', (14, 11), 146], [29, 'E', (17, 11), 164], [28, 'E', (18, 11), 200]]\n",
      "elfpower 20\n",
      "0\n",
      "20\n",
      "40\n",
      "battle-end\n",
      "41\n",
      "[65, 143, 200, 176, 194, 14, 143, 200, 200]\n",
      "54735\n",
      "56070\n",
      "elves alive 9\n",
      "[[12, 'E', (10, 18), 65], [21, 'E', (11, 17), 143], [25, 'E', (12, 9), 200], [17, 'E', (12, 10), 176], [20, 'E', (12, 11), 194], [16, 'E', (14, 8), 14], [22, 'E', (15, 11), 143], [29, 'E', (17, 10), 200], [28, 'E', (19, 9), 200]]\n",
      "elfpower 21\n",
      "0\n",
      "20\n",
      "40\n",
      "battle-end\n",
      "41\n",
      "[65, 143, 200, 176, 194, 14, 143, 200, 200]\n",
      "54735\n",
      "56070\n",
      "elves alive 9\n",
      "[[12, 'E', (10, 18), 65], [21, 'E', (11, 17), 143], [25, 'E', (12, 9), 200], [17, 'E', (12, 10), 176], [20, 'E', (12, 11), 194], [16, 'E', (14, 8), 14], [22, 'E', (15, 11), 143], [29, 'E', (17, 10), 200], [28, 'E', (19, 9), 200]]\n",
      "elfpower 22\n",
      "0\n",
      "20\n",
      "40\n",
      "battle-end\n",
      "41\n",
      "[65, 143, 200, 176, 194, 14, 143, 200, 200]\n",
      "54735\n",
      "56070\n",
      "elves alive 9\n",
      "[[12, 'E', (10, 18), 65], [21, 'E', (11, 17), 143], [25, 'E', (12, 9), 200], [17, 'E', (12, 10), 176], [20, 'E', (12, 11), 194], [16, 'E', (14, 8), 14], [22, 'E', (15, 11), 143], [29, 'E', (17, 10), 200], [28, 'E', (19, 9), 200]]\n",
      "elfpower 23\n",
      "0\n",
      "20\n",
      "battle-end\n",
      "37\n",
      "[158, 179, 29, 80, 200, 185, 32, 161, 200, 200]\n",
      "52688\n",
      "54112\n",
      "elves alive 10\n",
      "[[21, 'E', (10, 19), 158], [22, 'E', (11, 10), 179], [14, 'E', (11, 11), 29], [12, 'E', (11, 18), 80], [25, 'E', (12, 10), 200], [17, 'E', (13, 9), 185], [16, 'E', (14, 9), 32], [20, 'E', (15, 10), 161], [29, 'E', (17, 9), 200], [28, 'E', (18, 9), 200]]\n",
      "elfpower 24\n",
      "0\n",
      "20\n",
      "battle-end\n",
      "37\n",
      "[158, 179, 29, 80, 200, 185, 32, 161, 200, 200]\n",
      "52688\n",
      "54112\n",
      "elves alive 10\n",
      "[[21, 'E', (10, 19), 158], [22, 'E', (11, 10), 179], [14, 'E', (11, 11), 29], [12, 'E', (11, 18), 80], [25, 'E', (12, 10), 200], [17, 'E', (13, 9), 185], [16, 'E', (14, 9), 32], [20, 'E', (15, 10), 161], [29, 'E', (17, 9), 200], [28, 'E', (18, 9), 200]]\n",
      "elfpower 25\n",
      "0\n",
      "20\n",
      "battle-end\n",
      "35\n",
      "[164, 89, 182, 50, 44, 200, 173, 197, 200, 182]\n",
      "51835\n",
      "53316\n",
      "elves alive 10\n",
      "[[21, 'E', (8, 20), 164], [12, 'E', (9, 19), 89], [17, 'E', (11, 10), 182], [14, 'E', (11, 11), 50], [16, 'E', (13, 9), 44], [25, 'E', (14, 10), 200], [22, 'E', (16, 10), 173], [20, 'E', (19, 11), 197], [28, 'E', (21, 18), 200], [29, 'E', (23, 12), 182]]\n",
      "elfpower 26\n",
      "0\n",
      "20\n",
      "battle-end\n",
      "35\n",
      "[164, 89, 182, 50, 44, 200, 173, 197, 200, 182]\n",
      "51835\n",
      "53316\n",
      "elves alive 10\n",
      "[[21, 'E', (8, 20), 164], [12, 'E', (9, 19), 89], [17, 'E', (11, 10), 182], [14, 'E', (11, 11), 50], [16, 'E', (13, 9), 44], [25, 'E', (14, 10), 200], [22, 'E', (16, 10), 173], [20, 'E', (19, 11), 197], [28, 'E', (21, 18), 200], [29, 'E', (23, 12), 182]]\n",
      "elfpower 27\n",
      "0\n"
     ]
    },
    {
     "ename": "KeyboardInterrupt",
     "evalue": "",
     "output_type": "error",
     "traceback": [
      "\u001b[1;31m---------------------------------------------------------------------------\u001b[0m",
      "\u001b[1;31mKeyboardInterrupt\u001b[0m                         Traceback (most recent call last)",
      "\u001b[1;32m<ipython-input-8-3d0f925080b2>\u001b[0m in \u001b[0;36m<module>\u001b[1;34m()\u001b[0m\n\u001b[0;32m     71\u001b[0m     \u001b[0melfpower\u001b[0m \u001b[1;33m=\u001b[0m \u001b[0mx\u001b[0m\u001b[1;33m\u001b[0m\u001b[0m\n\u001b[0;32m     72\u001b[0m     \u001b[0mprint\u001b[0m \u001b[1;33m(\u001b[0m\u001b[1;34m'elfpower'\u001b[0m\u001b[1;33m,\u001b[0m\u001b[0mx\u001b[0m\u001b[1;33m)\u001b[0m\u001b[1;33m\u001b[0m\u001b[0m\n\u001b[1;32m---> 73\u001b[1;33m     \u001b[0mgameon\u001b[0m\u001b[1;33m(\u001b[0m\u001b[1;33m)\u001b[0m\u001b[1;33m\u001b[0m\u001b[0m\n\u001b[0m",
      "\u001b[1;32m<ipython-input-8-3d0f925080b2>\u001b[0m in \u001b[0;36mgameon\u001b[1;34m()\u001b[0m\n\u001b[0;32m     36\u001b[0m         \u001b[1;32mif\u001b[0m \u001b[0mturn\u001b[0m \u001b[1;33m%\u001b[0m\u001b[1;36m20\u001b[0m \u001b[1;33m==\u001b[0m\u001b[1;36m0\u001b[0m\u001b[1;33m:\u001b[0m \u001b[0mprint\u001b[0m \u001b[1;33m(\u001b[0m\u001b[0mturn\u001b[0m\u001b[1;33m)\u001b[0m\u001b[1;33m\u001b[0m\u001b[0m\n\u001b[0;32m     37\u001b[0m \u001b[1;33m\u001b[0m\u001b[0m\n\u001b[1;32m---> 38\u001b[1;33m         \u001b[1;32mif\u001b[0m \u001b[0mfullturn\u001b[0m\u001b[1;33m(\u001b[0m\u001b[1;33m)\u001b[0m\u001b[1;33m:\u001b[0m\u001b[1;33m\u001b[0m\u001b[0m\n\u001b[0m\u001b[0;32m     39\u001b[0m             \u001b[0mprint\u001b[0m \u001b[1;33m(\u001b[0m\u001b[0mturn\u001b[0m\u001b[1;33m)\u001b[0m\u001b[1;33m\u001b[0m\u001b[0m\n\u001b[0;32m     40\u001b[0m             \u001b[0mprint\u001b[0m \u001b[1;33m(\u001b[0m\u001b[1;33m[\u001b[0m\u001b[0mu\u001b[0m\u001b[1;33m[\u001b[0m\u001b[1;36m3\u001b[0m\u001b[1;33m]\u001b[0m \u001b[1;32mfor\u001b[0m \u001b[0mu\u001b[0m \u001b[1;32min\u001b[0m \u001b[0munitlist\u001b[0m\u001b[1;33m]\u001b[0m\u001b[1;33m)\u001b[0m\u001b[1;33m\u001b[0m\u001b[0m\n",
      "\u001b[1;32m<ipython-input-8-3d0f925080b2>\u001b[0m in \u001b[0;36mfullturn\u001b[1;34m()\u001b[0m\n\u001b[0;32m     13\u001b[0m         \u001b[1;32mif\u001b[0m \u001b[0munit\u001b[0m\u001b[1;33m[\u001b[0m\u001b[1;36m3\u001b[0m\u001b[1;33m]\u001b[0m\u001b[1;33m>\u001b[0m\u001b[1;36m0\u001b[0m\u001b[1;33m:\u001b[0m\u001b[1;33m\u001b[0m\u001b[0m\n\u001b[0;32m     14\u001b[0m             \u001b[1;31m#print ('turn of next unit',unit)\u001b[0m\u001b[1;33m\u001b[0m\u001b[1;33m\u001b[0m\u001b[0m\n\u001b[1;32m---> 15\u001b[1;33m             \u001b[0munit\u001b[0m \u001b[1;33m=\u001b[0m \u001b[0mmove\u001b[0m\u001b[1;33m(\u001b[0m\u001b[0munit\u001b[0m\u001b[1;33m)\u001b[0m\u001b[1;33m\u001b[0m\u001b[0m\n\u001b[0m\u001b[0;32m     16\u001b[0m \u001b[1;33m\u001b[0m\u001b[0m\n\u001b[0;32m     17\u001b[0m \u001b[1;33m\u001b[0m\u001b[0m\n",
      "\u001b[1;32m<ipython-input-3-a8a1c24418e9>\u001b[0m in \u001b[0;36mmove\u001b[1;34m(unit)\u001b[0m\n\u001b[0;32m     61\u001b[0m \u001b[1;32mdef\u001b[0m \u001b[0mmove\u001b[0m\u001b[1;33m(\u001b[0m\u001b[0munit\u001b[0m\u001b[1;33m)\u001b[0m\u001b[1;33m:\u001b[0m\u001b[1;33m\u001b[0m\u001b[0m\n\u001b[0;32m     62\u001b[0m   \u001b[1;31m#set_trace()\u001b[0m\u001b[1;33m\u001b[0m\u001b[1;33m\u001b[0m\u001b[0m\n\u001b[1;32m---> 63\u001b[1;33m   \u001b[0mlocation\u001b[0m \u001b[1;33m=\u001b[0m \u001b[0mselect_move\u001b[0m\u001b[1;33m(\u001b[0m\u001b[0munit\u001b[0m\u001b[1;33m)\u001b[0m\u001b[1;33m\u001b[0m\u001b[0m\n\u001b[0m\u001b[0;32m     64\u001b[0m   \u001b[1;32mif\u001b[0m \u001b[0mlocation\u001b[0m \u001b[1;33m!=\u001b[0m \u001b[1;32mFalse\u001b[0m\u001b[1;33m:\u001b[0m\u001b[1;33m\u001b[0m\u001b[0m\n\u001b[0;32m     65\u001b[0m       \u001b[0mcave\u001b[0m\u001b[1;33m[\u001b[0m\u001b[0munit\u001b[0m\u001b[1;33m[\u001b[0m\u001b[1;36m2\u001b[0m\u001b[1;33m]\u001b[0m\u001b[1;33m]\u001b[0m\u001b[1;33m=\u001b[0m\u001b[1;34m'.'\u001b[0m\u001b[1;33m\u001b[0m\u001b[0m\n",
      "\u001b[1;32m<ipython-input-3-a8a1c24418e9>\u001b[0m in \u001b[0;36mselect_move\u001b[1;34m(unit)\u001b[0m\n\u001b[0;32m     10\u001b[0m   \u001b[1;32mif\u001b[0m \u001b[1;33m(\u001b[0m\u001b[0munit\u001b[0m\u001b[1;33m[\u001b[0m\u001b[1;36m2\u001b[0m\u001b[1;33m]\u001b[0m \u001b[1;32min\u001b[0m \u001b[0mall_neighbors\u001b[0m\u001b[1;33m(\u001b[0m\u001b[0mtargets\u001b[0m\u001b[1;33m)\u001b[0m\u001b[1;33m)\u001b[0m\u001b[1;33m:\u001b[0m\u001b[1;33m\u001b[0m\u001b[0m\n\u001b[0;32m     11\u001b[0m       \u001b[1;32mreturn\u001b[0m \u001b[1;32mFalse\u001b[0m\u001b[1;33m\u001b[0m\u001b[0m\n\u001b[1;32m---> 12\u001b[1;33m   \u001b[0mpaths\u001b[0m \u001b[1;33m=\u001b[0m  \u001b[1;33m(\u001b[0m\u001b[0mbfs\u001b[0m\u001b[1;33m(\u001b[0m\u001b[0mcave\u001b[0m\u001b[1;33m,\u001b[0m\u001b[0munit\u001b[0m\u001b[1;33m[\u001b[0m\u001b[1;36m2\u001b[0m\u001b[1;33m]\u001b[0m\u001b[1;33m,\u001b[0m\u001b[0mneighbors\u001b[0m\u001b[1;33m(\u001b[0m\u001b[0mtargets\u001b[0m\u001b[1;33m)\u001b[0m\u001b[1;33m)\u001b[0m\u001b[1;33m)\u001b[0m\u001b[1;33m\u001b[0m\u001b[0m\n\u001b[0m\u001b[0;32m     13\u001b[0m   \u001b[1;31m#print ('paths',paths)\u001b[0m\u001b[1;33m\u001b[0m\u001b[1;33m\u001b[0m\u001b[0m\n\u001b[0;32m     14\u001b[0m   \u001b[1;32mif\u001b[0m \u001b[0mlen\u001b[0m\u001b[1;33m(\u001b[0m\u001b[0mpaths\u001b[0m\u001b[1;33m)\u001b[0m\u001b[1;33m==\u001b[0m\u001b[1;36m0\u001b[0m\u001b[1;33m:\u001b[0m\u001b[1;33m\u001b[0m\u001b[0m\n",
      "\u001b[1;32m<ipython-input-2-9c35345c9f20>\u001b[0m in \u001b[0;36mbfs\u001b[1;34m(cave, start, targets)\u001b[0m\n\u001b[0;32m     22\u001b[0m                 \u001b[1;32mreturn\u001b[0m \u001b[0mpaths\u001b[0m\u001b[1;33m\u001b[0m\u001b[0m\n\u001b[0;32m     23\u001b[0m \u001b[1;33m\u001b[0m\u001b[0m\n\u001b[1;32m---> 24\u001b[1;33m         \u001b[1;32mfor\u001b[0m \u001b[0mx2\u001b[0m\u001b[1;33m,\u001b[0m \u001b[0my2\u001b[0m \u001b[1;32min\u001b[0m \u001b[1;33m(\u001b[0m\u001b[1;33m(\u001b[0m\u001b[0mx\u001b[0m\u001b[1;33m+\u001b[0m\u001b[1;36m1\u001b[0m\u001b[1;33m,\u001b[0m\u001b[0my\u001b[0m\u001b[1;33m)\u001b[0m\u001b[1;33m,\u001b[0m \u001b[1;33m(\u001b[0m\u001b[0mx\u001b[0m\u001b[1;33m-\u001b[0m\u001b[1;36m1\u001b[0m\u001b[1;33m,\u001b[0m\u001b[0my\u001b[0m\u001b[1;33m)\u001b[0m\u001b[1;33m,\u001b[0m \u001b[1;33m(\u001b[0m\u001b[0mx\u001b[0m\u001b[1;33m,\u001b[0m\u001b[0my\u001b[0m\u001b[1;33m+\u001b[0m\u001b[1;36m1\u001b[0m\u001b[1;33m)\u001b[0m\u001b[1;33m,\u001b[0m \u001b[1;33m(\u001b[0m\u001b[0mx\u001b[0m\u001b[1;33m,\u001b[0m\u001b[0my\u001b[0m\u001b[1;33m-\u001b[0m\u001b[1;36m1\u001b[0m\u001b[1;33m)\u001b[0m\u001b[1;33m)\u001b[0m\u001b[1;33m:\u001b[0m\u001b[1;33m\u001b[0m\u001b[0m\n\u001b[0m\u001b[0;32m     25\u001b[0m \u001b[1;33m\u001b[0m\u001b[0m\n\u001b[0;32m     26\u001b[0m             \u001b[1;31m#if 0 <= x2 < cave.shape[1] and 0 <= y2 < cave.shape[0] and cave[y2][x2] not in wall and (x2, y2) not in seen:\u001b[0m\u001b[1;33m\u001b[0m\u001b[1;33m\u001b[0m\u001b[0m\n",
      "\u001b[1;31mKeyboardInterrupt\u001b[0m: "
     ]
    }
   ],
   "source": [
    "def checkend():\n",
    "    g=[u for u in unitlist if u[1]=='G']\n",
    "    e=[u for u in unitlist if u[1]=='E'] \n",
    "    if (len(g)==0) or (len(e))==0:\n",
    "        print ('battle-end')\n",
    "        return True\n",
    "    else: return False\n",
    "\n",
    "\n",
    "def fullturn():\n",
    "    unitlist.sort(key=lambda x:(x[2][0],x[2][1]))\n",
    "    for unit in unitlist[:]:\n",
    "        if unit[3]>0:\n",
    "            #print ('turn of next unit',unit)\n",
    "            unit = move(unit)\n",
    "\n",
    "\n",
    "            attacking = attack(unit)\n",
    "\n",
    "            if attacking != 'no':\n",
    "                if unitlist[attacking][1]=='E':\n",
    "                    unitlist[attacking][3]+=-3\n",
    "                if unitlist[attacking][1]=='G':\n",
    "                    unitlist[attacking][3]+=-elfpower\n",
    "                if unitlist[attacking][3]<=0:\n",
    "\n",
    "                    cave[unitlist[attacking][2]]='.'\n",
    "                    del unitlist[attacking]\n",
    "                    if checkend(): return True\n",
    "            #print (unitlist)\n",
    "    return False\n",
    "      \n",
    "def gameon():\n",
    "    for turn in range(10000):\n",
    "\n",
    "        if turn %20 ==0: print (turn)\n",
    "      \n",
    "        if fullturn():\n",
    "            print (turn)\n",
    "            print ([u[3] for u in unitlist])\n",
    "            print (sum([u[3] for u in unitlist])*(turn))\n",
    "            print (sum([u[3] for u in unitlist])*(turn+1))\n",
    "            print ('elves alive',len(unitlist))\n",
    "            print (unitlist)\n",
    "            return\n",
    "\n",
    "            \n",
    "def initiate():            \n",
    "    global cave\n",
    "    cave = np.chararray(unicode=True,shape=(len(lines),len(lines[0])))\n",
    "    for x,line in enumerate(lines):\n",
    "        #print ((line))\n",
    "        cave[x]=list(line)\n",
    "\n",
    "    global unitlist \n",
    "    unitlist = []\n",
    "    number= 0\n",
    "\n",
    "    for cell, value in np.ndenumerate(cave):\n",
    "\n",
    "        if (value == 'G') or (value == 'E'):\n",
    "\n",
    "            unitlist.append([number,value,cell,200])\n",
    "\n",
    "            number+=1\n",
    "           \n",
    "\n",
    "for x in range (7,30):\n",
    "    initiate()\n",
    "    \n",
    "    elfpower = x\n",
    "    print ('elfpower',x)\n",
    "    gameon()"
   ]
  },
  {
   "cell_type": "code",
   "execution_count": null,
   "metadata": {
    "collapsed": true,
    "jupyter": {
     "outputs_hidden": true
    }
   },
   "outputs": [],
   "source": []
  },
  {
   "cell_type": "code",
   "execution_count": null,
   "metadata": {
    "collapsed": true,
    "jupyter": {
     "outputs_hidden": true
    }
   },
   "outputs": [],
   "source": []
  },
  {
   "cell_type": "code",
   "execution_count": null,
   "metadata": {
    "collapsed": true,
    "jupyter": {
     "outputs_hidden": true
    }
   },
   "outputs": [],
   "source": []
  },
  {
   "cell_type": "code",
   "execution_count": null,
   "metadata": {
    "collapsed": true,
    "jupyter": {
     "outputs_hidden": true
    }
   },
   "outputs": [],
   "source": []
  },
  {
   "cell_type": "code",
   "execution_count": null,
   "metadata": {
    "collapsed": true,
    "jupyter": {
     "outputs_hidden": true
    }
   },
   "outputs": [],
   "source": []
  },
  {
   "cell_type": "code",
   "execution_count": 9,
   "metadata": {},
   "outputs": [
    {
     "data": {
      "text/plain": [
       "[[4, 'E', (4, 4), 200]]"
      ]
     },
     "execution_count": 9,
     "metadata": {},
     "output_type": "execute_result"
    }
   ],
   "source": [
    "[unit for unit in unitlist if unit[1]!='G']"
   ]
  },
  {
   "cell_type": "code",
   "execution_count": 22,
   "metadata": {
    "collapsed": true,
    "jupyter": {
     "outputs_hidden": true
    }
   },
   "outputs": [],
   "source": [
    "a = [[(7, 6), [[(3, 5), 6, [(7, 6), (6, 6), (5, 6), (5, 5), (4, 5), (3, 5)]]]], [(6, 7), [[(3, 5), 6, [(6, 7), (5, 7), (4, 7), (3, 7), (3, 6), (3, 5)]]]]]\n",
    "sort(key=lambda x:(x[1][0][1],x[1][0][0][0],x[1][0][0][1]))"
   ]
  },
  {
   "cell_type": "code",
   "execution_count": 28,
   "metadata": {},
   "outputs": [
    {
     "data": {
      "text/plain": [
       "7"
      ]
     },
     "execution_count": 28,
     "metadata": {},
     "output_type": "execute_result"
    }
   ],
   "source": [
    "215302 too high"
   ]
  },
  {
   "cell_type": "code",
   "execution_count": 67,
   "metadata": {},
   "outputs": [
    {
     "ename": "AttributeError",
     "evalue": "'list' object has no attribute 'find'",
     "output_type": "error",
     "traceback": [
      "\u001b[1;31m---------------------------------------------------------------------------\u001b[0m",
      "\u001b[1;31mAttributeError\u001b[0m                            Traceback (most recent call last)",
      "\u001b[1;32m<ipython-input-67-3e48dcf4e9c0>\u001b[0m in \u001b[0;36m<module>\u001b[1;34m()\u001b[0m\n\u001b[0;32m      1\u001b[0m \u001b[0ma\u001b[0m\u001b[1;33m=\u001b[0m\u001b[1;33m[\u001b[0m\u001b[1;36m1\u001b[0m\u001b[1;33m,\u001b[0m\u001b[1;34m'b'\u001b[0m\u001b[1;33m,\u001b[0m\u001b[1;36m3\u001b[0m\u001b[1;33m]\u001b[0m\u001b[1;33m\u001b[0m\u001b[0m\n\u001b[1;32m----> 2\u001b[1;33m \u001b[0ma\u001b[0m\u001b[1;33m.\u001b[0m\u001b[0mfind\u001b[0m\u001b[1;33m(\u001b[0m\u001b[1;34m'b'\u001b[0m\u001b[1;33m)\u001b[0m\u001b[1;33m\u001b[0m\u001b[0m\n\u001b[0m",
      "\u001b[1;31mAttributeError\u001b[0m: 'list' object has no attribute 'find'"
     ]
    }
   ],
   "source": [
    "a=[1,'b',3]\n",
    "a.find('b')"
   ]
  },
  {
   "cell_type": "code",
   "execution_count": 20,
   "metadata": {},
   "outputs": [
    {
     "data": {
      "text/plain": [
       "[array([8, 7]), array([7, 8])]"
      ]
     },
     "execution_count": 20,
     "metadata": {},
     "output_type": "execute_result"
    }
   ],
   "source": []
  },
  {
   "cell_type": "code",
   "execution_count": null,
   "metadata": {
    "collapsed": true,
    "jupyter": {
     "outputs_hidden": true
    }
   },
   "outputs": [],
   "source": []
  },
  {
   "cell_type": "code",
   "execution_count": 65,
   "metadata": {},
   "outputs": [
    {
     "data": {
      "text/plain": [
       "array([[8, 7],\n",
       "       [7, 8],\n",
       "       [6, 7],\n",
       "       [7, 6]])"
      ]
     },
     "execution_count": 65,
     "metadata": {},
     "output_type": "execute_result"
    }
   ],
   "source": [
    "def get_neighbours(p, exclude_p=True, shape=None):\n",
    "\n",
    "    ndim = len(p)\n",
    "\n",
    "    offsets = np.array([[1,0],[0,1],[-1,0],[0,-1]])\n",
    "\n",
    "    neighbours = p + offsets    # apply offsets to p\n",
    "\n",
    "    # optional: exclude out-of-bounds indices\n",
    "    if shape is not None:\n",
    "        valid = np.all((neighbours < np.array(shape)) & (neighbours >= 0), axis=1)\n",
    "        neighbours = neighbours[valid]\n",
    "\n",
    "    return neighbours\n",
    "\n",
    "\n",
    "get_neighbours((7,7),shape=cave.shape)\n",
    "#for coor, input in np.ndenumerate(cave):\n",
    "#    print get_neighbors"
   ]
  },
  {
   "cell_type": "code",
   "execution_count": null,
   "metadata": {
    "collapsed": true,
    "jupyter": {
     "outputs_hidden": true
    }
   },
   "outputs": [],
   "source": [
    "def"
   ]
  },
  {
   "cell_type": "code",
   "execution_count": 71,
   "metadata": {},
   "outputs": [
    {
     "name": "stdout",
     "output_type": "stream",
     "text": [
      "[[1 1]\n",
      " [1 4]\n",
      " [1 7]\n",
      " [4 1]\n",
      " [4 7]\n",
      " [7 1]\n",
      " [7 4]\n",
      " [7 7]]\n",
      "(0, 0) #\n",
      "(0, 1) #\n",
      "(0, 2) #\n",
      "(0, 3) #\n",
      "(0, 4) #\n",
      "(0, 5) #\n",
      "(0, 6) #\n",
      "(0, 7) #\n",
      "(0, 8) #\n",
      "(1, 0) #\n",
      "(1, 1) G\n",
      "(1, 2) .\n",
      "(1, 3) .\n",
      "(1, 4) G\n",
      "(1, 5) .\n",
      "(1, 6) .\n",
      "(1, 7) G\n",
      "(1, 8) #\n",
      "(2, 0) #\n",
      "(2, 1) .\n",
      "(2, 2) .\n",
      "(2, 3) .\n",
      "(2, 4) .\n",
      "(2, 5) .\n",
      "(2, 6) .\n",
      "(2, 7) .\n",
      "(2, 8) #\n",
      "(3, 0) #\n",
      "(3, 1) .\n",
      "(3, 2) .\n",
      "(3, 3) .\n",
      "(3, 4) .\n",
      "(3, 5) .\n",
      "(3, 6) .\n",
      "(3, 7) .\n",
      "(3, 8) #\n",
      "(4, 0) #\n",
      "(4, 1) G\n",
      "(4, 2) .\n",
      "(4, 3) .\n",
      "(4, 4) E\n",
      "(4, 5) .\n",
      "(4, 6) .\n",
      "(4, 7) G\n",
      "(4, 8) #\n",
      "(5, 0) #\n",
      "(5, 1) .\n",
      "(5, 2) .\n",
      "(5, 3) .\n",
      "(5, 4) .\n",
      "(5, 5) .\n",
      "(5, 6) .\n",
      "(5, 7) .\n",
      "(5, 8) #\n",
      "(6, 0) #\n",
      "(6, 1) .\n",
      "(6, 2) .\n",
      "(6, 3) .\n",
      "(6, 4) .\n",
      "(6, 5) .\n",
      "(6, 6) .\n",
      "(6, 7) .\n",
      "(6, 8) #\n",
      "(7, 0) #\n",
      "(7, 1) G\n",
      "(7, 2) .\n",
      "(7, 3) .\n",
      "(7, 4) G\n",
      "(7, 5) .\n",
      "(7, 6) .\n",
      "(7, 7) G\n",
      "(7, 8) #\n",
      "(8, 0) #\n",
      "(8, 1) #\n",
      "(8, 2) #\n",
      "(8, 3) #\n",
      "(8, 4) #\n",
      "(8, 5) #\n",
      "(8, 6) #\n",
      "(8, 7) #\n",
      "(8, 8) #\n"
     ]
    },
    {
     "data": {
      "text/plain": [
       "chararray(['G', 'G', 'G', 'G', 'G', 'G', 'G', 'G'],\n",
       "          dtype='<U1')"
      ]
     },
     "execution_count": 71,
     "metadata": {},
     "output_type": "execute_result"
    }
   ],
   "source": [
    "#print (np.argwhere(cave=='G'))\n",
    "for cell, value in np.ndenumerate(cave):\n",
    "    print (cell,value)\n",
    "cave[cave=='G']"
   ]
  },
  {
   "cell_type": "code",
   "execution_count": 19,
   "metadata": {},
   "outputs": [
    {
     "data": {
      "text/plain": [
       "array([[0, 0],\n",
       "       [0, 1],\n",
       "       [0, 2],\n",
       "       [1, 0],\n",
       "       [1, 1],\n",
       "       [1, 2],\n",
       "       [2, 0],\n",
       "       [2, 1],\n",
       "       [2, 2]])"
      ]
     },
     "execution_count": 19,
     "metadata": {},
     "output_type": "execute_result"
    }
   ],
   "source": [
    "offset_idx"
   ]
  },
  {
   "cell_type": "markdown",
   "metadata": {},
   "source": [
    "np.indices((3,) * 2)"
   ]
  },
  {
   "cell_type": "code",
   "execution_count": null,
   "metadata": {
    "collapsed": true,
    "jupyter": {
     "outputs_hidden": true
    }
   },
   "outputs": [],
   "source": []
  },
  {
   "cell_type": "code",
   "execution_count": 39,
   "metadata": {},
   "outputs": [
    {
     "data": {
      "text/plain": [
       "(0, 1, 2, 2)"
      ]
     },
     "execution_count": 39,
     "metadata": {},
     "output_type": "execute_result"
    }
   ],
   "source": [
    "(0,1)+(2,2)"
   ]
  },
  {
   "cell_type": "code",
   "execution_count": null,
   "metadata": {
    "collapsed": true,
    "jupyter": {
     "outputs_hidden": true
    }
   },
   "outputs": [],
   "source": []
  },
  {
   "cell_type": "code",
   "execution_count": null,
   "metadata": {
    "collapsed": true,
    "jupyter": {
     "outputs_hidden": true
    }
   },
   "outputs": [],
   "source": []
  },
  {
   "cell_type": "code",
   "execution_count": null,
   "metadata": {
    "collapsed": true,
    "jupyter": {
     "outputs_hidden": true
    }
   },
   "outputs": [],
   "source": []
  },
  {
   "cell_type": "code",
   "execution_count": 17,
   "metadata": {},
   "outputs": [],
   "source": [
    "import numpy as np\n",
    "c=(6,6) + np.array([(0,1),(0,-1),(1,0),(-1,0)])"
   ]
  },
  {
   "cell_type": "code",
   "execution_count": 20,
   "metadata": {},
   "outputs": [
    {
     "data": {
      "text/plain": [
       "'.'"
      ]
     },
     "execution_count": 20,
     "metadata": {},
     "output_type": "execute_result"
    }
   ],
   "source": [
    "cave[tuple(c[0])]"
   ]
  },
  {
   "cell_type": "code",
   "execution_count": null,
   "metadata": {},
   "outputs": [
    {
     "name": "stdout",
     "output_type": "stream",
     "text": [
      "> \u001b[1;32m<ipython-input-5-e93a9c2e83b5>\u001b[0m(8)\u001b[0;36madd_to_life_universe_everything\u001b[1;34m()\u001b[0m\n",
      "\u001b[1;32m      6 \u001b[1;33m    \u001b[0manswer\u001b[0m \u001b[1;33m=\u001b[0m \u001b[1;33m[\u001b[0m\u001b[1;36m42\u001b[0m\u001b[1;33m,\u001b[0m\u001b[1;36m98\u001b[0m\u001b[1;33m]\u001b[0m\u001b[1;33m\u001b[0m\u001b[0m\n",
      "\u001b[0m\u001b[1;32m      7 \u001b[1;33m    \u001b[0mset_trace\u001b[0m\u001b[1;33m(\u001b[0m\u001b[1;33m)\u001b[0m\u001b[1;33m\u001b[0m\u001b[0m\n",
      "\u001b[0m\u001b[1;32m----> 8 \u001b[1;33m    \u001b[0manswer\u001b[0m \u001b[1;33m+=\u001b[0m \u001b[0mx\u001b[0m\u001b[1;33m\u001b[0m\u001b[0m\n",
      "\u001b[0m\u001b[1;32m      9 \u001b[1;33m\u001b[1;33m\u001b[0m\u001b[0m\n",
      "\u001b[0m\u001b[1;32m     10 \u001b[1;33m    \u001b[1;32mreturn\u001b[0m \u001b[0manswer\u001b[0m\u001b[1;33m\u001b[0m\u001b[0m\n",
      "\u001b[0m\n",
      "ipdb> answer\n",
      "[42, 98]\n",
      "ipdb> answer[0]\n",
      "42\n"
     ]
    }
   ],
   "source": [
    "from IPython.core.debugger import set_trace\n",
    "a=1\n",
    "b=2\n",
    "def add_to_life_universe_everything(x):\n",
    "    c=3\n",
    "    answer = [42,98]\n",
    "    set_trace()\n",
    "    answer += x\n",
    "    \n",
    "    return answer\n",
    "\n",
    "add_to_life_universe_everything(12)"
   ]
  },
  {
   "cell_type": "code",
   "execution_count": 2,
   "metadata": {},
   "outputs": [
    {
     "name": "stdout",
     "output_type": "stream",
     "text": [
      "> <ipython-input-2-b567e28d9592>(4)add_to_life_universe_everything()\n",
      "-> answer += x\n",
      "(Pdb) answer\n",
      "42\n",
      "(Pdb) >\n",
      "*** SyntaxError: invalid syntax\n",
      "(Pdb) n\n",
      "> <ipython-input-2-b567e28d9592>(6)add_to_life_universe_everything()\n",
      "-> return answer\n",
      "(Pdb) answer\n",
      "54\n",
      "(Pdb) n\n",
      "--Return--\n",
      "> <ipython-input-2-b567e28d9592>(6)add_to_life_universe_everything()->54\n",
      "-> return answer\n",
      "(Pdb) answer\n",
      "54\n",
      "(Pdb) c\n"
     ]
    },
    {
     "data": {
      "text/plain": [
       "54"
      ]
     },
     "execution_count": 2,
     "metadata": {},
     "output_type": "execute_result"
    }
   ],
   "source": [
    "def add_to_life_universe_everything(x):\n",
    "    answer = 42\n",
    "    import pdb; pdb.set_trace()\n",
    "    answer += x\n",
    "    \n",
    "    return answer\n",
    "\n",
    "add_to_life_universe_everything(12)"
   ]
  },
  {
   "cell_type": "code",
   "execution_count": null,
   "metadata": {
    "collapsed": true,
    "jupyter": {
     "outputs_hidden": true
    }
   },
   "outputs": [],
   "source": []
  }
 ],
 "metadata": {
  "kernelspec": {
   "display_name": "Python 3",
   "language": "python",
   "name": "python3"
  },
  "language_info": {
   "codemirror_mode": {
    "name": "ipython",
    "version": 3
   },
   "file_extension": ".py",
   "mimetype": "text/x-python",
   "name": "python",
   "nbconvert_exporter": "python",
   "pygments_lexer": "ipython3",
   "version": "3.7.3"
  }
 },
 "nbformat": 4,
 "nbformat_minor": 4
}
