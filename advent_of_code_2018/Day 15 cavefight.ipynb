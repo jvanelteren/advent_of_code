{
 "cells": [
  {
   "cell_type": "code",
   "execution_count": 22,
   "metadata": {
    "collapsed": true,
    "jupyter": {
     "outputs_hidden": true
    }
   },
   "outputs": [],
   "source": [
    "from IPython.core.debugger import set_trace\n",
    "import numpy as np\n",
    "import sys\n",
    "import collections\n",
    "\n",
    "f=open('day15puzzleinput.txt') #not with read because thats probably the whole file\n",
    "f=open('day15finaltest.txt') #not with read because thats probably the whole file\n",
    "lines = [line.rstrip('\\n') for line in f]"
   ]
  },
  {
   "cell_type": "code",
   "execution_count": 23,
   "metadata": {},
   "outputs": [],
   "source": [
    "def bfs(cave, start,targets):\n",
    "    wall = [\"#\", 'E','G']\n",
    "    queue = collections.deque([[start]])\n",
    "    seen = set([start])\n",
    "    paths=[]\n",
    "    while queue:\n",
    "        #print ('queue',queue)\n",
    "        path = queue.popleft()\n",
    "        #print ('queue',queue)\n",
    "        x, y = path[-1]\n",
    "        #if (x,y)==(1,4):set_trace() \n",
    "        #print (x,y)\n",
    "        if (x,y) in targets:\n",
    "            \n",
    "            #print ('there',(x,y))\n",
    "            paths.append([(x,y),len(path),path])\n",
    "            targets.remove((x,y))\n",
    "            #print ('targets',targets,len(targets))\n",
    "            \n",
    "            if len(targets)==0:\n",
    "                #print ('bla')\n",
    "                return paths\n",
    "        \n",
    "        for x2, y2 in ((x+1,y), (x-1,y), (x,y+1), (x,y-1)):\n",
    "            \n",
    "            #if 0 <= x2 < cave.shape[1] and 0 <= y2 < cave.shape[0] and cave[y2][x2] not in wall and (x2, y2) not in seen:\n",
    "            if 0 <= x2 < cave.shape[0] and 0 <= y2 < cave.shape[1] and cave[(x2,y2)] not in wall and (x2, y2) not in seen:\n",
    "                queue.append(path + [(x2, y2)])\n",
    "                #if (x2,y2)==(4,1):set_trace()\n",
    "                seen.add((x2, y2))\n",
    "               \n",
    "    return paths            "
   ]
  },
  {
   "cell_type": "code",
   "execution_count": 24,
   "metadata": {},
   "outputs": [],
   "source": [
    "  \n",
    "def select_move(unit):\n",
    "    \n",
    "    targets = [enemy[2] for enemy in unitlist if enemy[1]!=unit[1]]\n",
    "    \n",
    "    #print ('location',unit[2],'targets',targets)\n",
    "    #print ('n',neighbors(targets))\n",
    "    \n",
    " \n",
    "    if (unit[2] in all_neighbors(targets)):\n",
    "        return False\n",
    "    paths =  (bfs(cave,unit[2],neighbors(targets)))\n",
    "    #print ('paths',paths)\n",
    "    if len(paths)==0:\n",
    "        return (False)\n",
    "    else:\n",
    "        #there is a destination!!\n",
    "        paths.sort(key=lambda x:(x[1],x[0][0],x[0][1]))\n",
    "        #print ('final paths',paths)\n",
    "        destination = paths[0][2][-1]\n",
    "        #print ('destination',destination)\n",
    "        adjectent_squares=[]\n",
    "        for adjecent in neighbors([unit[2]]):\n",
    "            #print ('adj bfs',adjecent,bfs(cave,adjecent,[destination]))\n",
    "            path_adj_to_dest = [adjecent,bfs(cave,adjecent,[destination])]\n",
    "          \n",
    "        \n",
    "            if len(path_adj_to_dest[1])!=0:\n",
    "                adjectent_squares.append(path_adj_to_dest)\n",
    "        adjectent_squares.sort(key=lambda x:(x[1][0][1],x[0][0],x[0][1]))\n",
    "        #print('adj sorted',adjectent_squares)\n",
    "        #print('selected',adjectent_squares[0][0])\n",
    "        return adjectent_squares[0][0]\n",
    "   \n",
    "   \n",
    "    #select closest target\n",
    "def all_neighbors(coordinates):\n",
    "    neighborlist = []\n",
    "    for x in coordinates:\n",
    "        neighbors = x + np.array([(0,1),(0,-1),(1,0),(-1,0)])\n",
    "        \n",
    "        for x in neighbors:\n",
    "            neighborlist.append(x)\n",
    "    #neighbors[np.any(neighbors>0,1)]\n",
    "    #set_trace()\n",
    "    #print (neighborlist)\n",
    "    return [tuple(x) for x in neighborlist if (cave[tuple(x)]!='#')]\n",
    "\n",
    "def neighbors(coordinates):\n",
    "    neighborlist = []\n",
    "    for x in coordinates:\n",
    "        neighbors = x + np.array([(0,1),(0,-1),(1,0),(-1,0)])\n",
    "        \n",
    "        for x in neighbors:\n",
    "            neighborlist.append(x)\n",
    "    #neighbors[np.any(neighbors>0,1)]\n",
    "    #set_trace()\n",
    "    #print (neighborlist)\n",
    "    return [tuple(x) for x in neighborlist if (cave[tuple(x)]=='.')]\n",
    "    \n",
    "def move(unit):\n",
    "    #set_trace()\n",
    "    location = select_move(unit)\n",
    "    if location != False:\n",
    "        cave[unit[2]]='.'\n",
    "        unit[2]=location\n",
    "        cave[unit[2]]=unit[1]\n",
    "    return unit\n",
    "    #attack(unit)\n",
    "    \n",
    "    #checkkill()"
   ]
  },
  {
   "cell_type": "code",
   "execution_count": 25,
   "metadata": {},
   "outputs": [],
   "source": [
    "def attack(unit):\n",
    "    targets = [enemy[2] for enemy in unitlist if enemy[1]!=unit[1]]\n",
    "    #print (targets)\n",
    "    neighbors = all_neighbors([unit[2]])\n",
    "    #print (neighbors)\n",
    "    real_targets = [n for n in neighbors if n in targets]\n",
    "    if len(real_targets)==0: return 'no'\n",
    "    #print ('real_target', real_targets)\n",
    "    target_spec=[]\n",
    "    for i,x in enumerate(unitlist):\n",
    "        if x[2] in real_targets:\n",
    "            target_spec.append([i,x])\n",
    "    target_spec.sort(key=lambda x:(x[1][3],x[1][2][0],x[1][2][1]))\n",
    "    #print ('final target',target_spec[0])\n",
    "    return (target_spec[0][0])\n",
    "\n"
   ]
  },
  {
   "cell_type": "code",
   "execution_count": 27,
   "metadata": {},
   "outputs": [
    {
     "name": "stdout",
     "output_type": "stream",
     "text": [
      "elfpower 3\n",
      "0\n",
      "[[0, np.str_('G'), (np.int64(1), np.int64(2)), 197], [1, np.str_('E'), (2, 2), 197], [2, np.str_('G'), (np.int64(2), np.int64(7)), 200], [3, np.str_('G'), (np.int64(5), np.int64(2)), 200], [4, np.str_('G'), (np.int64(6), np.int64(5)), 200], [5, np.str_('G'), (np.int64(7), np.int64(5)), 200]]\n",
      "[[0, np.str_('G'), (np.int64(1), np.int64(2)), 194], [1, np.str_('E'), (2, 2), 194], [2, np.str_('G'), (np.int64(1), np.int64(7)), 200], [3, np.str_('G'), (np.int64(4), np.int64(2)), 200], [4, np.str_('G'), (np.int64(6), np.int64(4)), 200], [5, np.str_('G'), (np.int64(7), np.int64(4)), 200]]\n",
      "[[0, np.str_('G'), (np.int64(1), np.int64(2)), 191], [2, np.str_('G'), (np.int64(1), np.int64(6)), 200], [1, np.str_('E'), (2, 2), 188], [3, np.str_('G'), (np.int64(3), np.int64(2)), 200], [4, np.str_('G'), (np.int64(6), np.int64(3)), 200], [5, np.str_('G'), (np.int64(7), np.int64(3)), 200]]\n",
      "[[0, np.str_('G'), (np.int64(1), np.int64(2)), 188], [2, np.str_('G'), (np.int64(1), np.int64(5)), 200], [1, np.str_('E'), (2, 2), 182], [3, np.str_('G'), (np.int64(3), np.int64(2)), 200], [4, np.str_('G'), (np.int64(5), np.int64(3)), 200], [5, np.str_('G'), (np.int64(6), np.int64(3)), 200]]\n",
      "[[0, np.str_('G'), (np.int64(1), np.int64(2)), 185], [2, np.str_('G'), (np.int64(1), np.int64(4)), 200], [1, np.str_('E'), (2, 2), 176], [3, np.str_('G'), (np.int64(3), np.int64(2)), 200], [4, np.str_('G'), (np.int64(4), np.int64(3)), 200], [5, np.str_('G'), (np.int64(5), np.int64(3)), 200]]\n",
      "[[0, np.str_('G'), (np.int64(1), np.int64(2)), 182], [2, np.str_('G'), (np.int64(1), np.int64(3)), 200], [1, np.str_('E'), (2, 2), 170], [3, np.str_('G'), (np.int64(3), np.int64(2)), 200], [4, np.str_('G'), (np.int64(4), np.int64(2)), 200], [5, np.str_('G'), (np.int64(5), np.int64(2)), 200]]\n",
      "[[0, np.str_('G'), (np.int64(1), np.int64(2)), 179], [2, np.str_('G'), (np.int64(2), np.int64(3)), 200], [1, np.str_('E'), (2, 2), 161], [3, np.str_('G'), (np.int64(3), np.int64(2)), 200], [4, np.str_('G'), (np.int64(4), np.int64(1)), 200], [5, np.str_('G'), (np.int64(5), np.int64(2)), 200]]\n",
      "[[0, np.str_('G'), (np.int64(1), np.int64(2)), 176], [1, np.str_('E'), (2, 2), 152], [2, np.str_('G'), (np.int64(2), np.int64(3)), 200], [3, np.str_('G'), (np.int64(3), np.int64(2)), 200], [4, np.str_('G'), (np.int64(3), np.int64(1)), 200], [5, np.str_('G'), (np.int64(5), np.int64(2)), 200]]\n",
      "[[0, np.str_('G'), (np.int64(1), np.int64(2)), 173], [1, np.str_('E'), (2, 2), 140], [2, np.str_('G'), (np.int64(2), np.int64(3)), 200], [4, np.str_('G'), (np.int64(2), np.int64(1)), 200], [3, np.str_('G'), (np.int64(3), np.int64(2)), 200], [5, np.str_('G'), (np.int64(5), np.int64(2)), 200]]\n",
      "[[0, np.str_('G'), (np.int64(1), np.int64(2)), 170], [4, np.str_('G'), (np.int64(2), np.int64(1)), 200], [1, np.str_('E'), (2, 2), 128], [2, np.str_('G'), (np.int64(2), np.int64(3)), 200], [3, np.str_('G'), (np.int64(3), np.int64(2)), 200], [5, np.str_('G'), (np.int64(5), np.int64(2)), 200]]\n",
      "[[0, np.str_('G'), (np.int64(1), np.int64(2)), 167], [4, np.str_('G'), (np.int64(2), np.int64(1)), 200], [1, np.str_('E'), (2, 2), 116], [2, np.str_('G'), (np.int64(2), np.int64(3)), 200], [3, np.str_('G'), (np.int64(3), np.int64(2)), 200], [5, np.str_('G'), (np.int64(5), np.int64(2)), 200]]\n",
      "[[0, np.str_('G'), (np.int64(1), np.int64(2)), 164], [4, np.str_('G'), (np.int64(2), np.int64(1)), 200], [1, np.str_('E'), (2, 2), 104], [2, np.str_('G'), (np.int64(2), np.int64(3)), 200], [3, np.str_('G'), (np.int64(3), np.int64(2)), 200], [5, np.str_('G'), (np.int64(5), np.int64(2)), 200]]\n",
      "[[0, np.str_('G'), (np.int64(1), np.int64(2)), 161], [4, np.str_('G'), (np.int64(2), np.int64(1)), 200], [1, np.str_('E'), (2, 2), 92], [2, np.str_('G'), (np.int64(2), np.int64(3)), 200], [3, np.str_('G'), (np.int64(3), np.int64(2)), 200], [5, np.str_('G'), (np.int64(5), np.int64(2)), 200]]\n",
      "[[0, np.str_('G'), (np.int64(1), np.int64(2)), 158], [4, np.str_('G'), (np.int64(2), np.int64(1)), 200], [1, np.str_('E'), (2, 2), 80], [2, np.str_('G'), (np.int64(2), np.int64(3)), 200], [3, np.str_('G'), (np.int64(3), np.int64(2)), 200], [5, np.str_('G'), (np.int64(5), np.int64(2)), 200]]\n",
      "[[0, np.str_('G'), (np.int64(1), np.int64(2)), 155], [4, np.str_('G'), (np.int64(2), np.int64(1)), 200], [1, np.str_('E'), (2, 2), 68], [2, np.str_('G'), (np.int64(2), np.int64(3)), 200], [3, np.str_('G'), (np.int64(3), np.int64(2)), 200], [5, np.str_('G'), (np.int64(5), np.int64(2)), 200]]\n",
      "[[0, np.str_('G'), (np.int64(1), np.int64(2)), 152], [4, np.str_('G'), (np.int64(2), np.int64(1)), 200], [1, np.str_('E'), (2, 2), 56], [2, np.str_('G'), (np.int64(2), np.int64(3)), 200], [3, np.str_('G'), (np.int64(3), np.int64(2)), 200], [5, np.str_('G'), (np.int64(5), np.int64(2)), 200]]\n",
      "[[0, np.str_('G'), (np.int64(1), np.int64(2)), 149], [4, np.str_('G'), (np.int64(2), np.int64(1)), 200], [1, np.str_('E'), (2, 2), 44], [2, np.str_('G'), (np.int64(2), np.int64(3)), 200], [3, np.str_('G'), (np.int64(3), np.int64(2)), 200], [5, np.str_('G'), (np.int64(5), np.int64(2)), 200]]\n",
      "[[0, np.str_('G'), (np.int64(1), np.int64(2)), 146], [4, np.str_('G'), (np.int64(2), np.int64(1)), 200], [1, np.str_('E'), (2, 2), 32], [2, np.str_('G'), (np.int64(2), np.int64(3)), 200], [3, np.str_('G'), (np.int64(3), np.int64(2)), 200], [5, np.str_('G'), (np.int64(5), np.int64(2)), 200]]\n",
      "[[0, np.str_('G'), (np.int64(1), np.int64(2)), 143], [4, np.str_('G'), (np.int64(2), np.int64(1)), 200], [1, np.str_('E'), (2, 2), 20], [2, np.str_('G'), (np.int64(2), np.int64(3)), 200], [3, np.str_('G'), (np.int64(3), np.int64(2)), 200], [5, np.str_('G'), (np.int64(5), np.int64(2)), 200]]\n",
      "[[0, np.str_('G'), (np.int64(1), np.int64(2)), 140], [4, np.str_('G'), (np.int64(2), np.int64(1)), 200], [1, np.str_('E'), (2, 2), 8], [2, np.str_('G'), (np.int64(2), np.int64(3)), 200], [3, np.str_('G'), (np.int64(3), np.int64(2)), 200], [5, np.str_('G'), (np.int64(5), np.int64(2)), 200]]\n",
      "20\n",
      "battle-end\n",
      "20\n",
      "[137, 200, 200, 200, 200]\n",
      "18740\n",
      "19677\n",
      "elves alive 5\n",
      "[[0, np.str_('G'), (np.int64(1), np.int64(2)), 137], [4, np.str_('G'), (np.int64(2), np.int64(1)), 200], [2, np.str_('G'), (np.int64(2), np.int64(3)), 200], [3, np.str_('G'), (np.int64(3), np.int64(2)), 200], [5, np.str_('G'), (np.int64(5), np.int64(2)), 200]]\n"
     ]
    },
    {
     "name": "stderr",
     "output_type": "stream",
     "text": [
      "C:\\Users\\Gebruiker\\AppData\\Local\\Temp\\ipykernel_15408\\154614937.py:53: DeprecationWarning: `np.chararray` is deprecated and will be removed from the main namespace in the future. Use an array with a string or bytes dtype instead.\n",
      "  cave = np.chararray(unicode=True,shape=(len(lines),len(lines[0])))\n"
     ]
    }
   ],
   "source": [
    "def checkend():\n",
    "    g=[u for u in unitlist if u[1]=='G']\n",
    "    e=[u for u in unitlist if u[1]=='E'] \n",
    "    if (len(g)==0) or (len(e))==0:\n",
    "        print ('battle-end')\n",
    "        return True\n",
    "    else: return False\n",
    "\n",
    "\n",
    "def fullturn():\n",
    "    unitlist.sort(key=lambda x:(x[2][0],x[2][1]))\n",
    "    for unit in unitlist[:]:\n",
    "        if unit[3]>0:\n",
    "            #print ('turn of next unit',unit)\n",
    "            unit = move(unit)\n",
    "\n",
    "\n",
    "            attacking = attack(unit)\n",
    "\n",
    "            if attacking != 'no':\n",
    "                if unitlist[attacking][1]=='E':\n",
    "                    unitlist[attacking][3]+=-3\n",
    "                if unitlist[attacking][1]=='G':\n",
    "                    unitlist[attacking][3]+=-elfpower\n",
    "                if unitlist[attacking][3]<=0:\n",
    "\n",
    "                    cave[unitlist[attacking][2]]='.'\n",
    "                    del unitlist[attacking]\n",
    "                    if checkend(): return True\n",
    "            #print (unitlist)\n",
    "    return False\n",
    "      \n",
    "def gameon():\n",
    "    for turn in range(10000):\n",
    "\n",
    "        if turn %20 ==0: print (turn)\n",
    "      \n",
    "        if fullturn():\n",
    "            print (turn)\n",
    "            print ([u[3] for u in unitlist])\n",
    "            print (sum([u[3] for u in unitlist])*(turn))\n",
    "            print (sum([u[3] for u in unitlist])*(turn+1))\n",
    "            print ('elves alive',len(unitlist))\n",
    "            print (unitlist)\n",
    "            return\n",
    "        else:\n",
    "            print (unitlist)\n",
    "            \n",
    "\n",
    "            \n",
    "def initiate():            \n",
    "    global cave\n",
    "    cave = np.chararray(unicode=True,shape=(len(lines),len(lines[0])))\n",
    "    for x,line in enumerate(lines):\n",
    "        #print ((line))\n",
    "        cave[x]=list(line)\n",
    "\n",
    "    global unitlist \n",
    "    unitlist = []\n",
    "    number= 0\n",
    "\n",
    "    for cell, value in np.ndenumerate(cave):\n",
    "\n",
    "        if (value == 'G') or (value == 'E'):\n",
    "\n",
    "            unitlist.append([number,value,cell,200])\n",
    "\n",
    "            number+=1\n",
    "           \n",
    "\n",
    "for x in range (3,4):\n",
    "    initiate()\n",
    "    \n",
    "    elfpower = x\n",
    "    print ('elfpower',x)\n",
    "    gameon()"
   ]
  },
  {
   "cell_type": "code",
   "execution_count": 1,
   "metadata": {
    "collapsed": true,
    "jupyter": {
     "outputs_hidden": true
    }
   },
   "outputs": [
    {
     "data": {
      "text/plain": [
       "1005"
      ]
     },
     "execution_count": 1,
     "metadata": {},
     "output_type": "execute_result"
    }
   ],
   "source": [
    "732+36+37+38+39+40+41+42"
   ]
  },
  {
   "cell_type": "code",
   "execution_count": null,
   "metadata": {
    "collapsed": true,
    "jupyter": {
     "outputs_hidden": true
    }
   },
   "outputs": [],
   "source": []
  },
  {
   "cell_type": "code",
   "execution_count": null,
   "metadata": {
    "collapsed": true,
    "jupyter": {
     "outputs_hidden": true
    }
   },
   "outputs": [],
   "source": []
  },
  {
   "cell_type": "code",
   "execution_count": null,
   "metadata": {
    "collapsed": true,
    "jupyter": {
     "outputs_hidden": true
    }
   },
   "outputs": [],
   "source": []
  },
  {
   "cell_type": "code",
   "execution_count": null,
   "metadata": {
    "collapsed": true,
    "jupyter": {
     "outputs_hidden": true
    }
   },
   "outputs": [],
   "source": []
  },
  {
   "cell_type": "code",
   "execution_count": 9,
   "metadata": {},
   "outputs": [
    {
     "data": {
      "text/plain": [
       "[[4, 'E', (4, 4), 200]]"
      ]
     },
     "execution_count": 9,
     "metadata": {},
     "output_type": "execute_result"
    }
   ],
   "source": [
    "[unit for unit in unitlist if unit[1]!='G']"
   ]
  },
  {
   "cell_type": "code",
   "execution_count": 22,
   "metadata": {
    "collapsed": true,
    "jupyter": {
     "outputs_hidden": true
    }
   },
   "outputs": [],
   "source": [
    "a = [[(7, 6), [[(3, 5), 6, [(7, 6), (6, 6), (5, 6), (5, 5), (4, 5), (3, 5)]]]], [(6, 7), [[(3, 5), 6, [(6, 7), (5, 7), (4, 7), (3, 7), (3, 6), (3, 5)]]]]]\n",
    "sort(key=lambda x:(x[1][0][1],x[1][0][0][0],x[1][0][0][1]))"
   ]
  },
  {
   "cell_type": "code",
   "execution_count": 28,
   "metadata": {},
   "outputs": [
    {
     "data": {
      "text/plain": [
       "7"
      ]
     },
     "execution_count": 28,
     "metadata": {},
     "output_type": "execute_result"
    }
   ],
   "source": [
    "215302 too high"
   ]
  },
  {
   "cell_type": "code",
   "execution_count": 67,
   "metadata": {},
   "outputs": [
    {
     "ename": "AttributeError",
     "evalue": "'list' object has no attribute 'find'",
     "output_type": "error",
     "traceback": [
      "\u001b[1;31m---------------------------------------------------------------------------\u001b[0m",
      "\u001b[1;31mAttributeError\u001b[0m                            Traceback (most recent call last)",
      "\u001b[1;32m<ipython-input-67-3e48dcf4e9c0>\u001b[0m in \u001b[0;36m<module>\u001b[1;34m()\u001b[0m\n\u001b[0;32m      1\u001b[0m \u001b[0ma\u001b[0m\u001b[1;33m=\u001b[0m\u001b[1;33m[\u001b[0m\u001b[1;36m1\u001b[0m\u001b[1;33m,\u001b[0m\u001b[1;34m'b'\u001b[0m\u001b[1;33m,\u001b[0m\u001b[1;36m3\u001b[0m\u001b[1;33m]\u001b[0m\u001b[1;33m\u001b[0m\u001b[0m\n\u001b[1;32m----> 2\u001b[1;33m \u001b[0ma\u001b[0m\u001b[1;33m.\u001b[0m\u001b[0mfind\u001b[0m\u001b[1;33m(\u001b[0m\u001b[1;34m'b'\u001b[0m\u001b[1;33m)\u001b[0m\u001b[1;33m\u001b[0m\u001b[0m\n\u001b[0m",
      "\u001b[1;31mAttributeError\u001b[0m: 'list' object has no attribute 'find'"
     ]
    }
   ],
   "source": [
    "a=[1,'b',3]\n",
    "a.find('b')"
   ]
  },
  {
   "cell_type": "code",
   "execution_count": 20,
   "metadata": {},
   "outputs": [
    {
     "data": {
      "text/plain": [
       "[array([8, 7]), array([7, 8])]"
      ]
     },
     "execution_count": 20,
     "metadata": {},
     "output_type": "execute_result"
    }
   ],
   "source": []
  },
  {
   "cell_type": "code",
   "execution_count": null,
   "metadata": {
    "collapsed": true,
    "jupyter": {
     "outputs_hidden": true
    }
   },
   "outputs": [],
   "source": []
  },
  {
   "cell_type": "code",
   "execution_count": 65,
   "metadata": {},
   "outputs": [
    {
     "data": {
      "text/plain": [
       "array([[8, 7],\n",
       "       [7, 8],\n",
       "       [6, 7],\n",
       "       [7, 6]])"
      ]
     },
     "execution_count": 65,
     "metadata": {},
     "output_type": "execute_result"
    }
   ],
   "source": [
    "def get_neighbours(p, exclude_p=True, shape=None):\n",
    "\n",
    "    ndim = len(p)\n",
    "\n",
    "    offsets = np.array([[1,0],[0,1],[-1,0],[0,-1]])\n",
    "\n",
    "    neighbours = p + offsets    # apply offsets to p\n",
    "\n",
    "    # optional: exclude out-of-bounds indices\n",
    "    if shape is not None:\n",
    "        valid = np.all((neighbours < np.array(shape)) & (neighbours >= 0), axis=1)\n",
    "        neighbours = neighbours[valid]\n",
    "\n",
    "    return neighbours\n",
    "\n",
    "\n",
    "get_neighbours((7,7),shape=cave.shape)\n",
    "#for coor, input in np.ndenumerate(cave):\n",
    "#    print get_neighbors"
   ]
  },
  {
   "cell_type": "code",
   "execution_count": null,
   "metadata": {
    "collapsed": true,
    "jupyter": {
     "outputs_hidden": true
    }
   },
   "outputs": [],
   "source": [
    "def"
   ]
  },
  {
   "cell_type": "code",
   "execution_count": 71,
   "metadata": {},
   "outputs": [
    {
     "name": "stdout",
     "output_type": "stream",
     "text": [
      "[[1 1]\n",
      " [1 4]\n",
      " [1 7]\n",
      " [4 1]\n",
      " [4 7]\n",
      " [7 1]\n",
      " [7 4]\n",
      " [7 7]]\n",
      "(0, 0) #\n",
      "(0, 1) #\n",
      "(0, 2) #\n",
      "(0, 3) #\n",
      "(0, 4) #\n",
      "(0, 5) #\n",
      "(0, 6) #\n",
      "(0, 7) #\n",
      "(0, 8) #\n",
      "(1, 0) #\n",
      "(1, 1) G\n",
      "(1, 2) .\n",
      "(1, 3) .\n",
      "(1, 4) G\n",
      "(1, 5) .\n",
      "(1, 6) .\n",
      "(1, 7) G\n",
      "(1, 8) #\n",
      "(2, 0) #\n",
      "(2, 1) .\n",
      "(2, 2) .\n",
      "(2, 3) .\n",
      "(2, 4) .\n",
      "(2, 5) .\n",
      "(2, 6) .\n",
      "(2, 7) .\n",
      "(2, 8) #\n",
      "(3, 0) #\n",
      "(3, 1) .\n",
      "(3, 2) .\n",
      "(3, 3) .\n",
      "(3, 4) .\n",
      "(3, 5) .\n",
      "(3, 6) .\n",
      "(3, 7) .\n",
      "(3, 8) #\n",
      "(4, 0) #\n",
      "(4, 1) G\n",
      "(4, 2) .\n",
      "(4, 3) .\n",
      "(4, 4) E\n",
      "(4, 5) .\n",
      "(4, 6) .\n",
      "(4, 7) G\n",
      "(4, 8) #\n",
      "(5, 0) #\n",
      "(5, 1) .\n",
      "(5, 2) .\n",
      "(5, 3) .\n",
      "(5, 4) .\n",
      "(5, 5) .\n",
      "(5, 6) .\n",
      "(5, 7) .\n",
      "(5, 8) #\n",
      "(6, 0) #\n",
      "(6, 1) .\n",
      "(6, 2) .\n",
      "(6, 3) .\n",
      "(6, 4) .\n",
      "(6, 5) .\n",
      "(6, 6) .\n",
      "(6, 7) .\n",
      "(6, 8) #\n",
      "(7, 0) #\n",
      "(7, 1) G\n",
      "(7, 2) .\n",
      "(7, 3) .\n",
      "(7, 4) G\n",
      "(7, 5) .\n",
      "(7, 6) .\n",
      "(7, 7) G\n",
      "(7, 8) #\n",
      "(8, 0) #\n",
      "(8, 1) #\n",
      "(8, 2) #\n",
      "(8, 3) #\n",
      "(8, 4) #\n",
      "(8, 5) #\n",
      "(8, 6) #\n",
      "(8, 7) #\n",
      "(8, 8) #\n"
     ]
    },
    {
     "data": {
      "text/plain": [
       "chararray(['G', 'G', 'G', 'G', 'G', 'G', 'G', 'G'],\n",
       "          dtype='<U1')"
      ]
     },
     "execution_count": 71,
     "metadata": {},
     "output_type": "execute_result"
    }
   ],
   "source": [
    "#print (np.argwhere(cave=='G'))\n",
    "for cell, value in np.ndenumerate(cave):\n",
    "    print (cell,value)\n",
    "cave[cave=='G']"
   ]
  },
  {
   "cell_type": "code",
   "execution_count": 19,
   "metadata": {},
   "outputs": [
    {
     "data": {
      "text/plain": [
       "array([[0, 0],\n",
       "       [0, 1],\n",
       "       [0, 2],\n",
       "       [1, 0],\n",
       "       [1, 1],\n",
       "       [1, 2],\n",
       "       [2, 0],\n",
       "       [2, 1],\n",
       "       [2, 2]])"
      ]
     },
     "execution_count": 19,
     "metadata": {},
     "output_type": "execute_result"
    }
   ],
   "source": [
    "offset_idx"
   ]
  },
  {
   "cell_type": "markdown",
   "metadata": {},
   "source": [
    "np.indices((3,) * 2)"
   ]
  },
  {
   "cell_type": "code",
   "execution_count": null,
   "metadata": {
    "collapsed": true,
    "jupyter": {
     "outputs_hidden": true
    }
   },
   "outputs": [],
   "source": []
  },
  {
   "cell_type": "code",
   "execution_count": 39,
   "metadata": {},
   "outputs": [
    {
     "data": {
      "text/plain": [
       "(0, 1, 2, 2)"
      ]
     },
     "execution_count": 39,
     "metadata": {},
     "output_type": "execute_result"
    }
   ],
   "source": [
    "(0,1)+(2,2)"
   ]
  },
  {
   "cell_type": "code",
   "execution_count": null,
   "metadata": {
    "collapsed": true,
    "jupyter": {
     "outputs_hidden": true
    }
   },
   "outputs": [],
   "source": []
  },
  {
   "cell_type": "code",
   "execution_count": null,
   "metadata": {
    "collapsed": true,
    "jupyter": {
     "outputs_hidden": true
    }
   },
   "outputs": [],
   "source": []
  },
  {
   "cell_type": "code",
   "execution_count": null,
   "metadata": {
    "collapsed": true,
    "jupyter": {
     "outputs_hidden": true
    }
   },
   "outputs": [],
   "source": []
  },
  {
   "cell_type": "code",
   "execution_count": 17,
   "metadata": {},
   "outputs": [],
   "source": [
    "import numpy as np\n",
    "c=(6,6) + np.array([(0,1),(0,-1),(1,0),(-1,0)])"
   ]
  },
  {
   "cell_type": "code",
   "execution_count": 20,
   "metadata": {},
   "outputs": [
    {
     "data": {
      "text/plain": [
       "'.'"
      ]
     },
     "execution_count": 20,
     "metadata": {},
     "output_type": "execute_result"
    }
   ],
   "source": [
    "cave[tuple(c[0])]"
   ]
  },
  {
   "cell_type": "code",
   "execution_count": null,
   "metadata": {},
   "outputs": [
    {
     "name": "stdout",
     "output_type": "stream",
     "text": [
      "> \u001b[1;32m<ipython-input-5-e93a9c2e83b5>\u001b[0m(8)\u001b[0;36madd_to_life_universe_everything\u001b[1;34m()\u001b[0m\n",
      "\u001b[1;32m      6 \u001b[1;33m    \u001b[0manswer\u001b[0m \u001b[1;33m=\u001b[0m \u001b[1;33m[\u001b[0m\u001b[1;36m42\u001b[0m\u001b[1;33m,\u001b[0m\u001b[1;36m98\u001b[0m\u001b[1;33m]\u001b[0m\u001b[1;33m\u001b[0m\u001b[0m\n",
      "\u001b[0m\u001b[1;32m      7 \u001b[1;33m    \u001b[0mset_trace\u001b[0m\u001b[1;33m(\u001b[0m\u001b[1;33m)\u001b[0m\u001b[1;33m\u001b[0m\u001b[0m\n",
      "\u001b[0m\u001b[1;32m----> 8 \u001b[1;33m    \u001b[0manswer\u001b[0m \u001b[1;33m+=\u001b[0m \u001b[0mx\u001b[0m\u001b[1;33m\u001b[0m\u001b[0m\n",
      "\u001b[0m\u001b[1;32m      9 \u001b[1;33m\u001b[1;33m\u001b[0m\u001b[0m\n",
      "\u001b[0m\u001b[1;32m     10 \u001b[1;33m    \u001b[1;32mreturn\u001b[0m \u001b[0manswer\u001b[0m\u001b[1;33m\u001b[0m\u001b[0m\n",
      "\u001b[0m\n",
      "ipdb> answer\n",
      "[42, 98]\n",
      "ipdb> answer[0]\n",
      "42\n"
     ]
    }
   ],
   "source": [
    "from IPython.core.debugger import set_trace\n",
    "a=1\n",
    "b=2\n",
    "def add_to_life_universe_everything(x):\n",
    "    c=3\n",
    "    answer = [42,98]\n",
    "    set_trace()\n",
    "    answer += x\n",
    "    \n",
    "    return answer\n",
    "\n",
    "add_to_life_universe_everything(12)"
   ]
  },
  {
   "cell_type": "code",
   "execution_count": 2,
   "metadata": {},
   "outputs": [
    {
     "name": "stdout",
     "output_type": "stream",
     "text": [
      "> <ipython-input-2-b567e28d9592>(4)add_to_life_universe_everything()\n",
      "-> answer += x\n",
      "(Pdb) answer\n",
      "42\n",
      "(Pdb) >\n",
      "*** SyntaxError: invalid syntax\n",
      "(Pdb) n\n",
      "> <ipython-input-2-b567e28d9592>(6)add_to_life_universe_everything()\n",
      "-> return answer\n",
      "(Pdb) answer\n",
      "54\n",
      "(Pdb) n\n",
      "--Return--\n",
      "> <ipython-input-2-b567e28d9592>(6)add_to_life_universe_everything()->54\n",
      "-> return answer\n",
      "(Pdb) answer\n",
      "54\n",
      "(Pdb) c\n"
     ]
    },
    {
     "data": {
      "text/plain": [
       "54"
      ]
     },
     "execution_count": 2,
     "metadata": {},
     "output_type": "execute_result"
    }
   ],
   "source": [
    "def add_to_life_universe_everything(x):\n",
    "    answer = 42\n",
    "    import pdb; pdb.set_trace()\n",
    "    answer += x\n",
    "    \n",
    "    return answer\n",
    "\n",
    "add_to_life_universe_everything(12)"
   ]
  },
  {
   "cell_type": "code",
   "execution_count": null,
   "metadata": {
    "collapsed": true,
    "jupyter": {
     "outputs_hidden": true
    }
   },
   "outputs": [],
   "source": []
  }
 ],
 "metadata": {
  "kernelspec": {
   "display_name": ".aocenvpy313",
   "language": "python",
   "name": "python3"
  },
  "language_info": {
   "codemirror_mode": {
    "name": "ipython",
    "version": 3
   },
   "file_extension": ".py",
   "mimetype": "text/x-python",
   "name": "python",
   "nbconvert_exporter": "python",
   "pygments_lexer": "ipython3",
   "version": "3.13.0"
  }
 },
 "nbformat": 4,
 "nbformat_minor": 4
}
