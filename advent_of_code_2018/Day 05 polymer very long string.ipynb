{
 "cells": [
  {
   "cell_type": "code",
   "execution_count": 74,
   "metadata": {},
   "outputs": [
    {
     "data": {
      "text/plain": [
       "50000"
      ]
     },
     "execution_count": 74,
     "metadata": {},
     "output_type": "execute_result"
    }
   ],
   "source": [
    "#must be done in file otherwise jupyter crashes :p\n",
    "f=open('polymer.txt').read()\n",
    "len(f)\n",
    "#print(f[4:104])\n",
    "#print 'Every 10000th letter:\\n',f[0::10000]\n"
   ]
  },
  {
   "cell_type": "code",
   "execution_count": 75,
   "metadata": {
    "collapsed": true,
    "jupyter": {
     "outputs_hidden": true
    }
   },
   "outputs": [],
   "source": [
    "def casecheck(a,b):\n",
    "    if a.islower() and b.islower():\n",
    "        return False\n",
    "    if a.isupper() and b.isupper():\n",
    "        return False\n",
    "    return True\n",
    "\n",
    "def remove(poly): #cleans up opposites\n",
    "    res = \"\"\n",
    "    #print ('input',poly,len(poly) )\n",
    "    for i in range(len(poly)):\n",
    "        #print (i)\n",
    "\n",
    "        if i == (len(poly)-1):#last character in string \n",
    "            return res+poly[i]#just return the result plus the last letter\n",
    "        #print (i,poly[i])\n",
    "        if casecheck(poly[i],poly[i+1]) and poly[i].lower()==poly[i+1].lower():\n",
    "            #print ('match       :',poly[i],poly[i+1])\n",
    "            if i == len(poly)-2:\n",
    "                #print ('bla')\n",
    "                return res\n",
    "            else:\n",
    "                return remove(res+poly[i+2:])\n",
    "        else:\n",
    "            res+= poly[i]\n",
    "            #print ('nomatch, res:',res)        \n",
    "    return res"
   ]
  },
  {
   "cell_type": "code",
   "execution_count": 76,
   "metadata": {},
   "outputs": [
    {
     "data": {
      "text/plain": [
       "'MOdQzyQQ'"
      ]
     },
     "execution_count": 76,
     "metadata": {},
     "output_type": "execute_result"
    }
   ],
   "source": [
    "remove(f[100:200])"
   ]
  },
  {
   "cell_type": "code",
   "execution_count": 84,
   "metadata": {
    "collapsed": true,
    "jupyter": {
     "outputs_hidden": true
    }
   },
   "outputs": [],
   "source": [
    "def give_poly(poly,step):\n",
    "    batches = int(len(poly)//step+1)\n",
    "    #print ('poly', poly)\n",
    "    #print ('numbatches', batches)\n",
    "    #print (len(poly))\n",
    "    for batch in range(batches):\n",
    "        #print ('batch',batch)\n",
    "        if batch == batches-1:\n",
    "            #print (int(step*batch))\n",
    "\n",
    "            yield poly[int(step*batch):]\n",
    "        else:\n",
    "            #print (int(step*batch),int(step*(batch+1)))\n",
    "            yield poly[int(step*batch):int(step*(batch+1))]"
   ]
  },
  {
   "cell_type": "code",
   "execution_count": 85,
   "metadata": {},
   "outputs": [],
   "source": [
    "def gothroughbigpoly(f,step):\n",
    "    bigpoly=''      \n",
    "    count = 0\n",
    "\n",
    "    for poly in give_poly(f,step):\n",
    "       \n",
    "        count+=1\n",
    "        tempresult = remove(poly)\n",
    "\n",
    "        bigpoly += tempresult\n",
    "        #print (remove(poly))\n",
    "\n",
    "\n",
    "\n",
    "  \n",
    "    return (bigpoly)\n",
    "\n",
    "\n",
    "\n",
    "\n",
    "\n"
   ]
  },
  {
   "cell_type": "code",
   "execution_count": 101,
   "metadata": {},
   "outputs": [
    {
     "name": "stdout",
     "output_type": "stream",
     "text": [
      "a 10296\n",
      "b 10264\n",
      "c 10320\n",
      "d 10268\n",
      "e 10286\n",
      "f 10242\n",
      "g 10298\n",
      "h 10288\n",
      "i 10292\n",
      "j 8998\n",
      "k 10232\n",
      "l 10320\n",
      "m 10266\n",
      "n 10330\n",
      "o 10294\n",
      "p 10366\n",
      "q 10238\n",
      "r 10220\n",
      "s 10258\n",
      "t 10292\n",
      "u 10302\n",
      "v 10308\n",
      "w 10292\n",
      "x 10250\n",
      "y 10268\n",
      "z 10228\n"
     ]
    }
   ],
   "source": [
    "import string\n",
    "alpha = string.ascii_lowercase\n",
    "import re\n",
    "\n",
    "\n",
    "for letter in alpha:\n",
    "    g = f\n",
    "    #remove letter from g \n",
    "    g = re.sub(letter+'|'+letter.upper(), '', g)\n",
    "\n",
    "    \n",
    "    h = gothroughbigpoly(g,1500)\n",
    "    i = gothroughbigpoly(h,1100)\n",
    "    j = gothroughbigpoly(i,1300)\n",
    "    k = gothroughbigpoly(j,1500)\n",
    "    print (letter,len(k))"
   ]
  },
  {
   "cell_type": "code",
   "execution_count": 108,
   "metadata": {},
   "outputs": [
    {
     "name": "stdout",
     "output_type": "stream",
     "text": [
      "j 5330\n"
     ]
    }
   ],
   "source": [
    "for letter in 'j':\n",
    "    g = m\n",
    "    #remove letter from g \n",
    "    g = re.sub(letter+'|'+letter.upper(), '', g)\n",
    "\n",
    "    \n",
    "    h = gothroughbigpoly(g,1334)\n",
    "    i = gothroughbigpoly(h,1500)\n",
    "    j = gothroughbigpoly(i,1600)\n",
    "    k = gothroughbigpoly(j,1400)\n",
    "    l = gothroughbigpoly(k,1122)\n",
    "    m = gothroughbigpoly(l,1200)\n",
    "    print (letter,len(m))"
   ]
  },
  {
   "cell_type": "code",
   "execution_count": null,
   "metadata": {
    "collapsed": true,
    "jupyter": {
     "outputs_hidden": true
    }
   },
   "outputs": [],
   "source": []
  },
  {
   "cell_type": "code",
   "execution_count": null,
   "metadata": {
    "collapsed": true,
    "jupyter": {
     "outputs_hidden": true
    }
   },
   "outputs": [],
   "source": []
  }
 ],
 "metadata": {
  "kernelspec": {
   "display_name": "Python 3",
   "language": "python",
   "name": "python3"
  },
  "language_info": {
   "codemirror_mode": {
    "name": "ipython",
    "version": 3
   },
   "file_extension": ".py",
   "mimetype": "text/x-python",
   "name": "python",
   "nbconvert_exporter": "python",
   "pygments_lexer": "ipython3",
   "version": "3.7.3"
  }
 },
 "nbformat": 4,
 "nbformat_minor": 4
}
