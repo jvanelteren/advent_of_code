{
 "cells": [
  {
   "cell_type": "markdown",
   "metadata": {},
   "source": [
    "learning: modifying lists when looping can be done with indexing over a slice of the array [:], since it will change inplace\n",
    "\n",
    "sorting a list based on key    \n",
    "carts.sort(key=lambda x:x[0][1][1])\n",
    "\n",
    "use of a counter\n",
    "def check_collision(carts):\n",
    "    common_list, appearances = Counter([tuple(x[0]) for x in carts]).most_common(1)[0]  # Note 1\n",
    "    if appearances > 1:\n",
    "        print(common_list, appearances, 'appeared twice')  # ([397, 994, 135, 941], 4)\n",
    "        \n",
    "        return (True,common_list)\n",
    "    else:\n",
    "        #print('No list appears more than 3 times!')    \n",
    "        return (False,0)\n",
    "        \n",
    "        \n",
    "enumerate numpy getting the indices\n",
    "np.ndenumerate(maze):\n",
    "\n",
    "processing all lines from a file\n",
    "f=open('`day13inputmaze.txt') #not with read because thats probably the whole file\n",
    "lines = [line.rstrip('\\n') for line in f]\n"
   ]
  },
  {
   "cell_type": "code",
   "execution_count": 369,
   "metadata": {},
   "outputs": [],
   "source": [
    "from collections import Counter\n",
    "import sys\n",
    "\n",
    "f=open('`day13inputmaze.txt') #not with read because thats probably the whole file\n",
    "lines = [line.rstrip('\\n') for line in f]"
   ]
  },
  {
   "cell_type": "code",
   "execution_count": 370,
   "metadata": {},
   "outputs": [
    {
     "data": {
      "text/plain": [
       "chararray(['', '+', '-', '/', '\\\\', '|'],\n",
       "          dtype='<U1')"
      ]
     },
     "execution_count": 370,
     "metadata": {},
     "output_type": "execute_result"
    }
   ],
   "source": [
    "\n",
    "np.unique(maze)"
   ]
  },
  {
   "cell_type": "code",
   "execution_count": null,
   "metadata": {},
   "outputs": [],
   "source": [
    "\n"
   ]
  },
  {
   "cell_type": "code",
   "execution_count": 371,
   "metadata": {},
   "outputs": [],
   "source": [
    "maze = np.chararray(unicode=True,shape=(len(lines),len(lines[0])))\n",
    "for x,line in enumerate(lines):\n",
    "    #print ((line))\n",
    "    maze[x]=list(line)\n",
    "    \n",
    "\n",
    "\n",
    "translate = {\n",
    "    '>':'-',\n",
    "    '<':'-',\n",
    "    '^':'|',\n",
    "    'v':'|'   \n",
    "}\n",
    "\n",
    "\n",
    "        \n",
    "\n",
    "next_intersection = {\n",
    "    'left':'straight',\n",
    "    'straight':'right',\n",
    "    'right':'left'\n",
    "}\n",
    "\n",
    "intersection_right = {\n",
    "    '>':'v',\n",
    "    '<':'^',\n",
    "    'v':'<',\n",
    "    '^':'>'\n",
    "}\n",
    "\n",
    "intersection_left = {\n",
    "    '>':'^',\n",
    "    '<':'v',\n",
    "    'v':'>',\n",
    "    '^':'<'\n",
    "}\n",
    "#\\\\\n",
    "turn_one = {\n",
    "    '>':'v',\n",
    "    '<':'^',\n",
    "    'v':'>',\n",
    "    '^':'<'\n",
    "}\n",
    "#/\n",
    "turn_two = {\n",
    "    '>':'^',\n",
    "    '<':'v',\n",
    "    'v':'<',\n",
    "    '^':'>'\n",
    "}\n",
    "\n",
    "next_location = {\n",
    "    '>':(0,1),\n",
    "    '<':(0,-1),\n",
    "    'v':(1,0),\n",
    "    '^':(-1,0)\n",
    "}\n",
    "\n",
    "\n",
    "def move_cart(cart):\n",
    "\n",
    "    currentlocation = cart[0][1]\n",
    "    #print (cart,'\\n',maze[currentlocation])\n",
    "    if maze[currentlocation]==' ':\n",
    "        sys.exit()\n",
    "        \n",
    "    if maze[currentlocation]=='+':\n",
    "    #change direction\n",
    "        if cart[2][1]=='left': \n",
    "            #print (intersection_left[cart[1][1]])\n",
    "            cart[1]=('direction',intersection_left[cart[1][1]])\n",
    "        if cart[2][1]=='right': \n",
    "            cart[1]=('direction',intersection_right[cart[1][1]])            \n",
    "        #change nextturn\n",
    "        cart[2]=('nextturn',next_intersection[cart[2][1]])    \n",
    "    \n",
    "    if maze[currentlocation]=='\\\\':\n",
    "        #change direction\n",
    "        #print ('\\\\',turn_one[cart[1][1]])\n",
    "        cart[1]=('direction',turn_one[cart[1][1]])\n",
    "    \n",
    "    if maze[currentlocation]=='/':\n",
    "        #change direction\n",
    "        #print ('/',turn_two[cart[1][1]])\n",
    "        cart[1]=('direction',turn_two[cart[1][1]])\n",
    "        #print (cart[1])\n",
    "    \n",
    "    #print (currentlocation)\n",
    "    newlocation = (currentlocation[0]+next_location[cart[1][1]][0],currentlocation[1]+next_location[cart[1][1]][1])\n",
    "    #print (newlocation)\n",
    "    if newlocation[1]<0:\n",
    "        sys.exit()\n",
    "    #print (newlocation)\n",
    "    cart[0]=('location',newlocation)\n",
    "        \n",
    "    #print (cart,'\\n')\n",
    "\n",
    "    return cart\n",
    "    \n",
    "\n",
    "\n",
    "def check_collision(carts):\n",
    "    common_list, appearances = Counter([tuple(x[0]) for x in carts]).most_common(1)[0]  # Note 1\n",
    "    if appearances > 1:\n",
    "        print(common_list, appearances, 'appeared twice')  # ([397, 994, 135, 941], 4)\n",
    "        \n",
    "        return (True,common_list)\n",
    "    else:\n",
    "        #print('No list appears more than 3 times!')    \n",
    "        return (False,0)\n",
    "\n",
    "def tick(carts):\n",
    "\n",
    "    carts.sort(key=lambda x:x[0][1][1])\n",
    "    carts.sort(key=lambda x:x[0][1][0])\n",
    "    #print (len(carts))\n",
    "    #print ([c for c in carts])\n",
    "\n",
    "    for i,cart in enumerate(carts[:]):\n",
    "        #print('car'+str(i))\n",
    "        cart = move_cart(cart)\n",
    "        crash = check_collision(carts)\n",
    "        if crash[0]:\n",
    "            carts= [c for c in carts if c[0] != crash[1]]\n",
    "            print (len(carts))\n",
    "    #print ('tickdone')\n",
    "    return carts\n",
    "   "
   ]
  },
  {
   "cell_type": "code",
   "execution_count": 372,
   "metadata": {},
   "outputs": [],
   "source": [
    "carts = []\n",
    "for index,value in np.ndenumerate(maze):\n",
    "    if value in translate:\n",
    "        #print(index,value)\n",
    "        carts.append([('location',index),('direction',value),('nextturn','left')])\n",
    "        maze[index]=translate[value]\n",
    "        #print (translate[value]) \n",
    "\n"
   ]
  },
  {
   "cell_type": "code",
   "execution_count": 373,
   "metadata": {},
   "outputs": [
    {
     "name": "stdout",
     "output_type": "stream",
     "text": [
      "17\n",
      "0\n",
      "('location', (90, 40)) 2 appeared twice\n",
      "15\n",
      "('location', (127, 53)) 2 appeared twice\n",
      "13\n",
      "('location', (29, 94)) 2 appeared twice\n",
      "11\n",
      "('location', (23, 102)) 2 appeared twice\n",
      "9\n",
      "('location', (133, 17)) 2 appeared twice\n",
      "7\n",
      "('location', (67, 85)) 2 appeared twice\n",
      "5\n",
      "('location', (58, 25)) 2 appeared twice\n",
      "3\n",
      "10000\n",
      "('location', (37, 111)) 2 appeared twice\n",
      "1\n",
      "1 left [[('location', (81, 65)), ('direction', 'v'), ('nextturn', 'straight')]]\n"
     ]
    },
    {
     "ename": "SystemExit",
     "evalue": "",
     "output_type": "error",
     "traceback": [
      "An exception has occurred, use %tb to see the full traceback.\n",
      "\u001b[1;31mSystemExit\u001b[0m\n"
     ]
    },
    {
     "name": "stderr",
     "output_type": "stream",
     "text": [
      "C:\\Users\\Jesse\\Anaconda3\\lib\\site-packages\\IPython\\core\\interactiveshell.py:2889: UserWarning: To exit: use 'exit', 'quit', or Ctrl-D.\n",
      "  warn(\"To exit: use 'exit', 'quit', or Ctrl-D.\", stacklevel=1)\n"
     ]
    }
   ],
   "source": [
    "print (len(carts))\n",
    "for x in range(10000000):\n",
    "    if x%10000==0: print (x)\n",
    "    carts = tick(carts).copy()\n",
    "    if len(carts)==1:\n",
    "        print ('1 left',carts)\n",
    "        sys.exit()"
   ]
  },
  {
   "cell_type": "code",
   "execution_count": null,
   "metadata": {},
   "outputs": [],
   "source": [
    "carts= [[('location', (0, 1)), ('direction', '>'), ('nextturn', 'left')],[('location', (2, 3)), ('direction', '<'), ('nextturn', 'left')],[('location', (2, 3)), ('direction', '<'), ('nextturn', 'left')]]"
   ]
  },
  {
   "cell_type": "code",
   "execution_count": null,
   "metadata": {},
   "outputs": [],
   "source": [
    "carts"
   ]
  },
  {
   "cell_type": "code",
   "execution_count": 267,
   "metadata": {},
   "outputs": [
    {
     "name": "stdout",
     "output_type": "stream",
     "text": [
      "(0, 1)\n",
      "(2, 3)\n",
      "vo\n"
     ]
    },
    {
     "data": {
      "text/plain": [
       "[[('location', (0, 1)), ('direction', '>'), ('nextturn', 'left')]]"
      ]
     },
     "execution_count": 267,
     "metadata": {},
     "output_type": "execute_result"
    }
   ],
   "source": [
    "for c in carts:\n",
    "    print (c[0][1])\n",
    "    if c[0]==(2, 3): \n",
    "        print ('vo')\n",
    "        carts.remove(c)\n",
    "carts"
   ]
  },
  {
   "cell_type": "code",
   "execution_count": 270,
   "metadata": {},
   "outputs": [
    {
     "data": {
      "text/plain": [
       "[[('location', (0, 1)), ('direction', '>'), ('nextturn', 'left')]]"
      ]
     },
     "execution_count": 270,
     "metadata": {},
     "output_type": "execute_result"
    }
   ],
   "source": [
    "carts = [c for c in carts if c[0]!=(2, 3)]\n",
    "carts"
   ]
  },
  {
   "cell_type": "code",
   "execution_count": null,
   "metadata": {
    "collapsed": true,
    "jupyter": {
     "outputs_hidden": true
    }
   },
   "outputs": [],
   "source": []
  }
 ],
 "metadata": {
  "kernelspec": {
   "display_name": "Python 3",
   "language": "python",
   "name": "python3"
  },
  "language_info": {
   "codemirror_mode": {
    "name": "ipython",
    "version": 3
   },
   "file_extension": ".py",
   "mimetype": "text/x-python",
   "name": "python",
   "nbconvert_exporter": "python",
   "pygments_lexer": "ipython3",
   "version": "3.7.3"
  }
 },
 "nbformat": 4,
 "nbformat_minor": 4
}
