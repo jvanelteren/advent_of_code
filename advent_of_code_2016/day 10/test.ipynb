{
 "cells": [
  {
   "cell_type": "code",
   "execution_count": 1,
   "metadata": {},
   "outputs": [],
   "source": [
    "from dataclasses import dataclass\n",
    "from math import gcd, ceil\n",
    "import re\n",
    "from collections import Counter, defaultdict, namedtuple, deque\n",
    "import numpy as np\n",
    "from matplotlib import pyplot as plt\n",
    "import networkx as nx\n",
    "\n",
    "from aocutils.common import to_int, ints, flatten, _flatten, rev, zippify, list_multiply\n",
    "from aocutils.grid import arr_to_dict, grid_to_dict, neighbors, arr_neighbors, iterate, Dim, dimensions, positive, manhattan, conv1d, conv2d\n",
    "from aocutils.maze import bfs, dijkstra, get_path, dfs\n",
    "from aocutils.math import gcd, factors, lcm, crt, mul_inv, lis\n",
    "from aocutils.special import md5, binarysearch, deduce_matches, find_pattern_in_iter, find_repeat, find_cycle\n",
    "from aocutils.visuals import visualize_graph, labelize, animate_grid\n",
    "from aocutils.datascience import untar_data, timeit, load, save, nan_inspect\n",
    "from aocutils.cfg import CFG\n",
    "from aocutils.shunting import ShuntingYard"
   ]
  },
  {
   "cell_type": "code",
   "execution_count": 80,
   "metadata": {},
   "outputs": [
    {
     "data": {
      "text/plain": [
       "(231, 'bot 171 gives low to bot 4 and high to bot 84')"
      ]
     },
     "execution_count": 80,
     "metadata": {},
     "output_type": "execute_result"
    }
   ],
   "source": [
    "f=open('input.txt')\n",
    "lines = [line.rstrip('\\n') for line in f]\n",
    "\n",
    "# print amount of rows and first 100 character of first line\n",
    "len(lines), lines[0][:100]"
   ]
  },
  {
   "cell_type": "code",
   "execution_count": 88,
   "metadata": {},
   "outputs": [],
   "source": [
    "vals = defaultdict(lambda: [])\n",
    "give = defaultdict(lambda: [])\n",
    "outputs = defaultdict(list)\n",
    "for line in lines:\n",
    "    if line.startswith('bot'):\n",
    "        _, bot, _, _, _, type1, nr1, _, _, _, type2, nr2 = line.split()\n",
    "        give[int(bot)] = ((type1, int(nr1)), (type2, int(nr2)))\n",
    "    elif line.startswith('value'):\n",
    "        _, nr1, _, _, type1, n1 = line.split()\n",
    "        vals[int(n1)].append(int(nr1))\n",
    "\n",
    "tocheck = deque([k for k,v in vals.items() if len(v)==2]) \n",
    "seen = set()\n",
    "mapping = {'bot': vals, 'output': outputs}\n",
    "while tocheck:\n",
    "    for _ in range(len(tocheck)):\n",
    "        cur = tocheck.popleft()\n",
    "        seen.add(cur)\n",
    "        low, high = sorted(vals[cur])\n",
    "        (type1, nr1), (type2, nr2) = give[cur]\n",
    "        mapping[type1][nr1].append(low)\n",
    "        mapping[type2][nr2].append(high)\n",
    "    for k,v in vals.items():\n",
    "        if len(v) == 2 and k not in seen:\n",
    "            tocheck.append(k)\n",
    "        "
   ]
  },
  {
   "cell_type": "code",
   "execution_count": null,
   "metadata": {},
   "outputs": [],
   "source": [
    "for k, v in vals.items():\n",
    "    if 17 in v and 61 in v:\n",
    "        print(k,v)\n",
    "outputs[0][0] * outputs[1][0] * outputs[2][0]      \n",
    "        "
   ]
  },
  {
   "cell_type": "code",
   "execution_count": 95,
   "metadata": {},
   "outputs": [],
   "source": [
    "import random \n",
    "# Zobrist hashing\n",
    "kinds = { \"Thulium\": 0, \"Plut\": 0, \"Stront\": 0, \"Prom\": 0, \"Ruth\": 0, \"H\": 0, \"Li\": 0, \"El\": 0, \"Di\": 0 }\n",
    "cgh = {\"Chip\": 0, \"Gen\": 0}\n",
    "floorh = {0: 0, 1: 0, 2: 0, 3: 0 }\n",
    "matchedpairs = {}\n",
    "\n",
    "for k in kinds.keys():\n",
    "    kinds[k] = random.randint(0, 99999999999999999999999999)\n",
    "for k in cgh.keys():\n",
    "    cgh[k] = random.randint(0, 99999999999999999999999999)\n",
    "for k in floorh.keys():\n",
    "    floorh[k] = random.randint(0, 99999999999999999999999999)\n",
    "\n",
    "for k in range(len(kinds)):\n",
    "    kinds[k] = random.randint(0, 99999999999999999999999999)\n",
    "for k in (0, 1):\n",
    "    cgh[k] = random.randint(0, 99999999999999999999999999)\n",
    "for k in range(10):\n",
    "    matchedpairs[k] = random.randint(0, 99999999999999999999999999)   \n",
    "\n",
    "# Use Zobrist hashing to avoid visiting repeated states\n",
    "visited = set()\n",
    "def shash(state):\n",
    "    res = 0\n",
    "    for i, f in enumerate(state[1]):\n",
    "        gens = set()\n",
    "        chips = set()\n",
    "        for cg, kind in f:\n",
    "            if cg == 1:\n",
    "                gens.add(kind)\n",
    "            else:\n",
    "                chips.add(kind)\n",
    "\n",
    "        mps = gens.intersection(chips)                      \n",
    "        gens = gens - mps                                   \n",
    "        chips = chips - mps                                  \n",
    "\n",
    "        for kind in chips:\n",
    "            res = res ^ (floorh[i] * cgh[0] * kinds[kind])\n",
    "        for kind in gens:\n",
    "            res = res ^ (floorh[i] * cgh[1] * kinds[kind])\n",
    "        res = res ^ (floorh[i] * matchedpairs[len(mps)])         \n",
    "\n",
    "    res = res ^ (floorh[ state[2] ] )\n",
    "    return res"
   ]
  },
  {
   "cell_type": "code",
   "execution_count": null,
   "metadata": {},
   "outputs": [],
   "source": []
  }
 ],
 "metadata": {
  "file_extension": ".py",
  "kernelspec": {
   "display_name": "Python 3.10.0 ('.aocenv': venv)",
   "language": "python",
   "name": "python3"
  },
  "language_info": {
   "codemirror_mode": {
    "name": "ipython",
    "version": 3
   },
   "file_extension": ".py",
   "mimetype": "text/x-python",
   "name": "python",
   "nbconvert_exporter": "python",
   "pygments_lexer": "ipython3",
   "version": "3.10.0"
  },
  "mimetype": "text/x-python",
  "name": "python",
  "npconvert_exporter": "python",
  "orig_nbformat": 2,
  "pygments_lexer": "ipython3",
  "version": 3,
  "vscode": {
   "interpreter": {
    "hash": "a292fecb04ead1807198b22395dbb599f43710a25b8e4823a30fedd04cdfd0f2"
   }
  }
 },
 "nbformat": 4,
 "nbformat_minor": 2
}
