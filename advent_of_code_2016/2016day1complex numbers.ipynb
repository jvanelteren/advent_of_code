{
 "nbformat": 4,
 "nbformat_minor": 2,
 "metadata": {
  "language_info": {
   "name": "python",
   "codemirror_mode": {
    "name": "ipython",
    "version": 3
   },
   "version": "3.7.3"
  },
  "orig_nbformat": 2,
  "file_extension": ".py",
  "mimetype": "text/x-python",
  "name": "python",
  "npconvert_exporter": "python",
  "pygments_lexer": "ipython3",
  "version": 3
 },
 "cells": [
  {
   "cell_type": "code",
   "execution_count": null,
   "metadata": {},
   "outputs": [],
   "source": []
  },
  {
   "cell_type": "code",
   "execution_count": null,
   "metadata": {},
   "outputs": [],
   "source": [
    "Positions are represented as complex numbers (specifically, {a, b} tuples representing real and imaginary part). Moving can be done by addition: position + direction.\n",
    "\n",
    "Rotation of direction is implemented by means of multiplication of a direction vector by either i or -i (complex number multiplication by value within unit circle can be used to represent rotation). Because there is no particular need to have full complex multiplication merely for that - the only possible parameters are i and -i, it’s special-cased for only those two parameters (makes code a little bit simplier). Much easier than implementing a state machine representing the directions and transitions between those."
   ]
  },
  {
   "cell_type": "code",
   "execution_count": null,
   "metadata": {},
   "outputs": [],
   "source": [
    "i = complex(0, 1)\n",
    "dirs = [[(i if x[0] is \"L\" else -i), int(x[1:])] for x in splitStr] # \"into form [R, 1]...\"\n",
    "z = complex(0, 0)\n",
    "for dir in reversed(dirs):\n",
    " z = dir[0]*(dir[1]*i + z)\n",
    "print abs(z.real) + abs(z.imag)"
   ]
  },
  {
   "cell_type": "code",
   "execution_count": 1,
   "metadata": {},
   "outputs": [],
   "source": [
    "i = complex(0, 1)"
   ]
  },
  {
   "cell_type": "code",
   "execution_count": null,
   "metadata": {},
   "outputs": [],
   "source": []
  }
 ]
}