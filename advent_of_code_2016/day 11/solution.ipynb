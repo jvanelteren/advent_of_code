{
 "cells": [
  {
   "cell_type": "code",
   "execution_count": 1,
   "metadata": {},
   "outputs": [],
   "source": [
    "from dataclasses import dataclass\n",
    "from math import gcd, ceil\n",
    "import re\n",
    "from collections import Counter, defaultdict, namedtuple, deque\n",
    "import numpy as np\n",
    "from matplotlib import pyplot as plt\n",
    "import aocutils\n",
    "import networkx as nx\n",
    "import itertools"
   ]
  },
  {
   "cell_type": "code",
   "execution_count": 2,
   "metadata": {},
   "outputs": [],
   "source": [
    "from collections import namedtuple\n",
    "from aocutils.maze import bfs\n",
    "from aocutils.common import multimap\n",
    "from aocutils.math import all_combinations"
   ]
  },
  {
   "cell_type": "code",
   "execution_count": 3,
   "metadata": {},
   "outputs": [
    {
     "data": {
      "text/plain": [
       "[(('a', 'c'), ('b', 'd', 'e')),\n",
       " (('a', 'b'), ('c', 'd', 'e')),\n",
       " (('c', 'e'), ('a', 'b', 'd')),\n",
       " (('b', 'e'), ('a', 'c', 'd')),\n",
       " (('a', 'e'), ('b', 'c', 'd')),\n",
       " (('c', 'd'), ('a', 'b', 'e')),\n",
       " (('d', 'e'), ('a', 'b', 'c')),\n",
       " (('b', 'd'), ('a', 'c', 'e')),\n",
       " (('b', 'c'), ('a', 'd', 'e')),\n",
       " (('a', 'd'), ('b', 'c', 'e'))]"
      ]
     },
     "execution_count": 3,
     "metadata": {},
     "output_type": "execute_result"
    }
   ],
   "source": [
    "moves = [(i, i+delta) for i in range(4) for delta in [-1,1] if 0 <= i + delta < 4]\n",
    "moves = multimap(moves)\n",
    "\n",
    "\n",
    "from itertools import permutations, compress\n",
    "from functools import cache\n",
    "def splititer(it, amount):\n",
    "    # split iterable all unique permutations\n",
    "    @cache\n",
    "    def rev(mask):\n",
    "        return (not idx for idx in mask)\n",
    "    n = len(it)\n",
    "    \n",
    "    options= {mask for mask in itertools.permutations([1]*amount +[0]*(n-amount))}\n",
    "    return [(tuple(compress(it, o)), tuple(compress(it, rev(o)))) for o in options]\n",
    "splititer('abcde',2)\n"
   ]
  },
  {
   "cell_type": "code",
   "execution_count": 4,
   "metadata": {},
   "outputs": [
    {
     "data": {
      "text/plain": [
       "[(('a', 'c'), ('b',)), (('a', 'b'), ('c',)), (('b', 'c'), ('a',))]"
      ]
     },
     "execution_count": 4,
     "metadata": {},
     "output_type": "execute_result"
    }
   ],
   "source": [
    "splititer('abc',2)"
   ]
  },
  {
   "cell_type": "code",
   "execution_count": 39,
   "metadata": {},
   "outputs": [
    {
     "data": {
      "text/plain": [
       "[(Floor(pair=1, chip='BC', gen='AY'), ('Y',)),\n",
       " (Floor(pair=2, chip='B', gen='A'), ('C',)),\n",
       " (Floor(pair=2, chip='C', gen='A'), ('B',)),\n",
       " (Floor(pair=1, chip='BC', gen='AX'), ('X',)),\n",
       " (Floor(pair=1, chip='B', gen='AY'), ('C', 'Y')),\n",
       " (Floor(pair=2, chip='', gen='A'), ('B', 'C')),\n",
       " (Floor(pair=1, chip='B', gen='AX'), ('C', 'X')),\n",
       " (Floor(pair=1, chip='C', gen='AX'), ('B', 'X')),\n",
       " (Floor(pair=1, chip='C', gen='AY'), ('B', 'Y')),\n",
       " (Floor(pair=0, chip='BC', gen='AXY'), ('X', 'Y'))]"
      ]
     },
     "execution_count": 39,
     "metadata": {},
     "output_type": "execute_result"
    }
   ],
   "source": [
    "from copy import deepcopy\n",
    "def load(floor): # returns loadedfloor and passengers\n",
    "    amount_gen = floor.pair + len(floor.gen)\n",
    "    \n",
    "    NEWVARS = 'XY'\n",
    "    for i in range(min(floor.pair, 2)):\n",
    "        floor.pair -= 1\n",
    "        floor.chip += NEWVARS[i]\n",
    "        floor.gen += NEWVARS[i]\n",
    "        \n",
    "    newfloors = []\n",
    "    if floor.chip:                \n",
    "        # take all single chips with you\n",
    "        for amount in range(1, min(len(floor.chip)+1, 3)):\n",
    "            for passengers, newchip in splititer(floor.chip,amount):\n",
    "                n = deepcopy(floor)\n",
    "                n.chip = ''.join(newchip)\n",
    "                for i in range(2):\n",
    "                    if NEWVARS[i] in n.chip and NEWVARS[i] in n.gen:\n",
    "                        \n",
    "                        n.chip = n.chip.replace(NEWVARS[i], '')\n",
    "                        n.gen = n.gen.replace(NEWVARS[i], '')\n",
    "                        n.pair += 1   \n",
    "                    \n",
    "                newfloors.append((n, passengers))\n",
    "    if floor.gen and 1==2:\n",
    "        # take all single gens with you\n",
    "        # take all combinations of 2 gens with you\n",
    "        for amount in range(1, min(len(floor.gen)+1, 3)):\n",
    "            for passengers, newchip in splititer(floor.gen,amount):\n",
    "                n = deepcopy(floor)\n",
    "                n.gen = ''.join(newchip)\n",
    "                for i in range(2):\n",
    "                    if NEWVARS[i] in n.chip and NEWVARS[i] in n.gen:\n",
    "                        n.chip = n.chip.replace(NEWVARS[i], '')\n",
    "                        n.gen = n.gen.replace(NEWVARS[i], '')\n",
    "                        n.pair += 1    \n",
    "                newfloors.append((n, passengers))\n",
    "    if floor.pair:\n",
    "        pass    \n",
    "        # take a pair with you\n",
    "        # take one microchip\n",
    "        # take two microchips\n",
    "        # take a generator if there is only 1 pair and 0 generators\n",
    "        # take two generators\n",
    "    return newfloors\n",
    "    \n",
    "load(Floor(2, 'BC', 'A'))\n",
    "    \n",
    "\n"
   ]
  },
  {
   "cell_type": "code",
   "execution_count": 23,
   "metadata": {},
   "outputs": [],
   "source": [
    "@dataclass\n",
    "class State:\n",
    "    floors: list\n",
    "    elev: int\n",
    "    \n",
    "@dataclass\n",
    "class Floor:\n",
    "    pair: int\n",
    "    chip: str\n",
    "    gen: str\n",
    "    "
   ]
  },
  {
   "cell_type": "code",
   "execution_count": 9,
   "metadata": {},
   "outputs": [
    {
     "ename": "TypeError",
     "evalue": "object of type 'int' has no len()",
     "output_type": "error",
     "traceback": [
      "\u001b[1;31m---------------------------------------------------------------------------\u001b[0m",
      "\u001b[1;31mTypeError\u001b[0m                                 Traceback (most recent call last)",
      "\u001b[1;32md:\\Programmeren\\adventofcode\\advent_of_code_2016\\day 11\\solution.ipynb Cell 7\u001b[0m in \u001b[0;36m<cell line: 8>\u001b[1;34m()\u001b[0m\n\u001b[0;32m      <a href='vscode-notebook-cell:/d%3A/Programmeren/adventofcode/advent_of_code_2016/day%2011/solution.ipynb#X14sZmlsZQ%3D%3D?line=5'>6</a>\u001b[0m elev \u001b[39m=\u001b[39m s\u001b[39m.\u001b[39melev\n\u001b[0;32m      <a href='vscode-notebook-cell:/d%3A/Programmeren/adventofcode/advent_of_code_2016/day%2011/solution.ipynb#X14sZmlsZQ%3D%3D?line=6'>7</a>\u001b[0m neigh \u001b[39m=\u001b[39m []\n\u001b[1;32m----> <a href='vscode-notebook-cell:/d%3A/Programmeren/adventofcode/advent_of_code_2016/day%2011/solution.ipynb#X14sZmlsZQ%3D%3D?line=7'>8</a>\u001b[0m \u001b[39mfor\u001b[39;00m loadedfloor, passengers \u001b[39min\u001b[39;00m load(floors[elev]): \u001b[39m# for every combination of passengers that can be loaded\u001b[39;00m\n\u001b[0;32m      <a href='vscode-notebook-cell:/d%3A/Programmeren/adventofcode/advent_of_code_2016/day%2011/solution.ipynb#X14sZmlsZQ%3D%3D?line=8'>9</a>\u001b[0m     \u001b[39mfor\u001b[39;00m flooridx \u001b[39min\u001b[39;00m moves[elev]: \u001b[39m# for every floor to move to\u001b[39;00m\n\u001b[0;32m     <a href='vscode-notebook-cell:/d%3A/Programmeren/adventofcode/advent_of_code_2016/day%2011/solution.ipynb#X14sZmlsZQ%3D%3D?line=9'>10</a>\u001b[0m         \u001b[39mif\u001b[39;00m unloadedfloor \u001b[39m:=\u001b[39m unload(floors[flooridx], passengers): \u001b[39m# if offloading is valid\u001b[39;00m\n",
      "\u001b[1;32md:\\Programmeren\\adventofcode\\advent_of_code_2016\\day 11\\solution.ipynb Cell 7\u001b[0m in \u001b[0;36mload\u001b[1;34m(floor)\u001b[0m\n\u001b[0;32m      <a href='vscode-notebook-cell:/d%3A/Programmeren/adventofcode/advent_of_code_2016/day%2011/solution.ipynb#X14sZmlsZQ%3D%3D?line=0'>1</a>\u001b[0m \u001b[39mdef\u001b[39;00m \u001b[39mload\u001b[39m(floor): \u001b[39m# returns loadedfloor and passengers\u001b[39;00m\n\u001b[1;32m----> <a href='vscode-notebook-cell:/d%3A/Programmeren/adventofcode/advent_of_code_2016/day%2011/solution.ipynb#X14sZmlsZQ%3D%3D?line=1'>2</a>\u001b[0m     amount_gen \u001b[39m=\u001b[39m floor\u001b[39m.\u001b[39mpair \u001b[39m+\u001b[39m \u001b[39mlen\u001b[39;49m(floor\u001b[39m.\u001b[39;49mgen)\n\u001b[0;32m      <a href='vscode-notebook-cell:/d%3A/Programmeren/adventofcode/advent_of_code_2016/day%2011/solution.ipynb#X14sZmlsZQ%3D%3D?line=2'>3</a>\u001b[0m     loads \u001b[39m=\u001b[39m []\n\u001b[0;32m      <a href='vscode-notebook-cell:/d%3A/Programmeren/adventofcode/advent_of_code_2016/day%2011/solution.ipynb#X14sZmlsZQ%3D%3D?line=3'>4</a>\u001b[0m     newfloors \u001b[39m=\u001b[39m []\n",
      "\u001b[1;31mTypeError\u001b[0m: object of type 'int' has no len()"
     ]
    }
   ],
   "source": [
    "def unload(floor, cargo):\n",
    "    pass\n",
    "    \n",
    "s = State((Floor(2,0,0), Floor(2,'A',0), Floor(0,0,'A'), Floor(0,0,0)), 0)\n",
    "floors = s.floors\n",
    "elev = s.elev\n",
    "neigh = []\n",
    "for loadedfloor, passengers in load(floors[elev]): # for every combination of passengers that can be loaded\n",
    "    for flooridx in moves[elev]: # for every floor to move to\n",
    "        if unloadedfloor := unload(floors[flooridx], passengers): # if offloading is valid\n",
    "            neigh.append(constructfloors(floors, loadedfloor, elev, unloadedfloor, flooridx))\n",
    "neigh"
   ]
  },
  {
   "cell_type": "code",
   "execution_count": 65,
   "metadata": {},
   "outputs": [
    {
     "name": "stdout",
     "output_type": "stream",
     "text": [
      "(0, ((-2, -1, 1, 2), (-5, -4, -3, 3, 4), 5, ()))\n",
      "1\n",
      "hi\n",
      "hi\n",
      "hi\n",
      "hi\n",
      "hi\n",
      "hi\n",
      "hi\n",
      "hi\n",
      "hi\n",
      "hi\n",
      "0 (0, ((-2, -1, 1, 2), (-5, -4, -3, 3, 4), 5, ()))\n"
     ]
    }
   ],
   "source": [
    "from itertools import combinations\n",
    "import heapq\n",
    "\n",
    "# hardcoded input\n",
    "polonium, thulium, promethium, ruthenium, cobalt, elerium, dilithium = 1, 2, 3, 4, 5, 6, 7\n",
    "initial = (0, (\n",
    "\ttuple(sorted((polonium, thulium, -thulium, promethium, ruthenium, -ruthenium, cobalt, -cobalt, elerium, -elerium, dilithium, -dilithium))),\n",
    "\ttuple(sorted((-polonium, -promethium))), (), ()\n",
    "))\n",
    "\n",
    "initial = (0, (\n",
    "\ttuple(sorted((1,2,-1,-2))),\n",
    "\ttuple(sorted((-3,3,4,-4,-5))), (5), ()\n",
    "))\n",
    "\n",
    "\n",
    "print(initial)\n",
    "def correct(floor):\n",
    "\tif not floor or floor[-1] < 0: # no generators\n",
    "\t\treturn True\n",
    "\treturn all(-chip in floor for chip in floor if chip < 0)\n",
    "\n",
    "frontier = []\n",
    "heapq.heappush(frontier, (0, initial))\n",
    "cost_so_far = {initial: 0}\n",
    "\n",
    "while frontier:\n",
    "\tprint(len(frontier))\n",
    "\t_, current = heapq.heappop(frontier)\n",
    "\tfloor, floors = current\n",
    "\tif floor == 3 and all(len(f) == 0 for f in floors[:-1]): # goal!\n",
    "\t\tprint('goal')\n",
    "\t\tbreak\n",
    "\n",
    "\tdirections = [dir for dir in (-1, 1) if 0 <= floor + dir < 4]\n",
    "\tmoves = list(combinations(floors[floor], 2)) + list(combinations(floors[floor], 1))\n",
    "\tfor move in moves:\n",
    "\t\tfor direction in directions:\n",
    "\t\t\tprint('hi')\n",
    "\t\t\tnew_floors = list(floors)\n",
    "\t\t\tnew_floors[floor] = tuple(x for x in floors[floor] if x not in move)\n",
    "\t\t\tnew_floors[floor+direction] = tuple(sorted(floors[floor+direction] + move))\n",
    "\n",
    "\t\t\tif not correct(new_floors[floor]) or not correct(new_floors[floor+direction]):\n",
    "\t\t\t\tcontinue\n",
    "\t\t\tprint('hi')\n",
    "\t\t\tnext = (floor+direction, tuple(new_floors))\n",
    "\t\t\tnew_cost = cost_so_far[current] + 1\n",
    "\t\t\tif next not in cost_so_far or new_cost < cost_so_far[next]:\n",
    "\t\t\t\tcost_so_far[next] = new_cost\n",
    "\t\t\t\tpriority = new_cost - len(new_floors[3])*10 # silly manually tweakable heuristic factor\n",
    "\t\t\t\theapq.heappush(frontier, (priority, next))\n",
    "\n",
    "print(cost_so_far[current], current)"
   ]
  },
  {
   "cell_type": "code",
   "execution_count": 52,
   "metadata": {},
   "outputs": [
    {
     "data": {
      "text/plain": [
       "[(-1, -2),\n",
       " (-1, -3),\n",
       " (-1, -4),\n",
       " (-1, -5),\n",
       " (-2, -3),\n",
       " (-2, -4),\n",
       " (-2, -5),\n",
       " (-3, -4),\n",
       " (-3, -5),\n",
       " (-4, -5)]"
      ]
     },
     "execution_count": 52,
     "metadata": {},
     "output_type": "execute_result"
    }
   ],
   "source": [
    "list(combinations((-1,-2,-3,-4,-5), 2))"
   ]
  },
  {
   "cell_type": "code",
   "execution_count": 4,
   "metadata": {},
   "outputs": [
    {
     "data": {
      "text/plain": [
       "2"
      ]
     },
     "execution_count": 4,
     "metadata": {},
     "output_type": "execute_result"
    }
   ],
   "source": [
    "0 ^8 ^10"
   ]
  },
  {
   "cell_type": "code",
   "execution_count": 8,
   "metadata": {},
   "outputs": [],
   "source": [
    "import calendar\n"
   ]
  },
  {
   "cell_type": "code",
   "execution_count": 11,
   "metadata": {},
   "outputs": [],
   "source": [
    "from datetime import datetime"
   ]
  },
  {
   "cell_type": "code",
   "execution_count": 18,
   "metadata": {},
   "outputs": [
    {
     "ename": "TypeError",
     "evalue": "'datetime.timedelta' object is not iterable",
     "output_type": "error",
     "traceback": [
      "\u001b[1;31m---------------------------------------------------------------------------\u001b[0m",
      "\u001b[1;31mTypeError\u001b[0m                                 Traceback (most recent call last)",
      "\u001b[1;32md:\\Programmeren\\adventofcode\\advent_of_code_2016\\day 11\\solution.ipynb Cell 13\u001b[0m in \u001b[0;36m<cell line: 1>\u001b[1;34m()\u001b[0m\n\u001b[1;32m----> <a href='vscode-notebook-cell:/d%3A/Programmeren/adventofcode/advent_of_code_2016/day%2011/solution.ipynb#X16sZmlsZQ%3D%3D?line=0'>1</a>\u001b[0m \u001b[39mmin\u001b[39;49m(datetime(\u001b[39m2022\u001b[39;49m,\u001b[39m8\u001b[39;49m,\u001b[39m2\u001b[39;49m) \u001b[39m-\u001b[39;49m datetime(\u001b[39m2022\u001b[39;49m,\u001b[39m8\u001b[39;49m,\u001b[39m1\u001b[39;49m))\n",
      "\u001b[1;31mTypeError\u001b[0m: 'datetime.timedelta' object is not iterable"
     ]
    }
   ],
   "source": [
    "\n",
    "(datetime(2022,8,2) - datetime(2022,8,1))"
   ]
  },
  {
   "cell_type": "code",
   "execution_count": null,
   "metadata": {},
   "outputs": [],
   "source": []
  },
  {
   "cell_type": "code",
   "execution_count": null,
   "metadata": {},
   "outputs": [],
   "source": [
    "0   1  2  3  4  5  6  7  8  9 10 11 12 13 14 15 16 17 18 19 20 21 22 23 24 25 26  27 28 29 30 31 32"
   ]
  }
 ],
 "metadata": {
  "file_extension": ".py",
  "kernelspec": {
   "display_name": "Python 3.10.0 ('.aocenv': venv)",
   "language": "python",
   "name": "python3"
  },
  "language_info": {
   "codemirror_mode": {
    "name": "ipython",
    "version": 3
   },
   "file_extension": ".py",
   "mimetype": "text/x-python",
   "name": "python",
   "nbconvert_exporter": "python",
   "pygments_lexer": "ipython3",
   "version": "3.10.0"
  },
  "mimetype": "text/x-python",
  "name": "python",
  "npconvert_exporter": "python",
  "orig_nbformat": 2,
  "pygments_lexer": "ipython3",
  "version": 3,
  "vscode": {
   "interpreter": {
    "hash": "a292fecb04ead1807198b22395dbb599f43710a25b8e4823a30fedd04cdfd0f2"
   }
  }
 },
 "nbformat": 4,
 "nbformat_minor": 2
}
