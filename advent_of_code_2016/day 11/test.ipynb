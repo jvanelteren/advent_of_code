{
 "cells": [
  {
   "cell_type": "code",
   "execution_count": 1,
   "metadata": {
    "Collapsed": "false"
   },
   "outputs": [],
   "source": [
    "from collections import defaultdict\n",
    "from collections import deque\n",
    "import re\n",
    "from collections import Counter\n",
    "import itertools\n",
    "\n",
    "from string import ascii_lowercase,ascii_uppercase"
   ]
  },
  {
   "cell_type": "code",
   "execution_count": 32,
   "metadata": {
    "Collapsed": "false"
   },
   "outputs": [],
   "source": [
    "\n",
    "def bfs(connections, start, goal=None):\n",
    "    \"\"\"\n",
    "    Requires a dict with neighbors per node.\n",
    "    Or a function returning neighbors per node\n",
    "\n",
    "    Returns\n",
    "    if goal == None:    return all paths from start\n",
    "    elif goal found:    returns path to goal\n",
    "    else:               returns False\n",
    "    \"\"\"\n",
    "    seen = set() # the locations that have been explored\n",
    "    frontier = deque([start]) # the locations that still need to be visited\n",
    "    # paths = {start: [start]}\n",
    "    isfunction = callable(connections)\n",
    "    parents = {start.__repr__(): None}\n",
    "\n",
    "    def get_path(parents):\n",
    "        # print(start,goals)\n",
    "        cur = goal.__repr__()\n",
    "        path = [cur]\n",
    "        while cur != start.__repr__():\n",
    "            cur = parents[cur]\n",
    "            path.append(cur)\n",
    "        path.reverse()\n",
    "        return path\n",
    "    count = 0\n",
    "    print(parents)\n",
    "    while frontier:\n",
    "        count+=1\n",
    "        if count%1000 == 0:\n",
    "            print(len(frontier),len(parents),len(seen))\n",
    "            print(frontier[0])\n",
    "        search = frontier.popleft()\n",
    "        if isfunction: neighbors = connections(search)\n",
    "        else: neighbors = connections.get(search,None)\n",
    "        if neighbors:\n",
    "            for n in neighbors:\n",
    "                if n.__repr__() not in seen:\n",
    "                    seen.add(n.__repr__())\n",
    "                    frontier.append(n)\n",
    "                    parents[n.__repr__()]= search.__repr__()\n",
    "                    if goal and n == goal:\n",
    "                        print('goal found')\n",
    "                        return get_path(parents)\n",
    "                        # return paths[goal],parents\n",
    "        seen.add(search.__repr__())\n",
    "    print('done')\n",
    "    if goal: return False\n",
    "    else: return parents\n",
    "\n",
    "class State(dict):\n",
    "    def __init__(self,d):\n",
    "        super().__init__(d)\n",
    "        self.set_available()\n",
    "\n",
    "    def __repr__(self):\n",
    "        res = 'floor '+' floor '.join([v if v else 'none' for k,v in self.items()])\n",
    "        return res\n",
    "\n",
    "    def num_loose(self):\n",
    "        res = ''.join([v if v else '' for k,v in self.items()])\n",
    "        return int(len(re.findall('[a-zA-Z]',res))/2)\n",
    "\n",
    "    def num_items(self):\n",
    "        count = 0\n",
    "        for i in range(4):\n",
    "            count += int(self[i][0])*2\n",
    "            count += len(self[i])-1\n",
    "        if count == 14: return True\n",
    "        else: return False\n",
    "\n",
    "    def set_available(self):\n",
    "        avail = []\n",
    "        res = ''.join([v if v else '' for k,v in self.items() if k in [0,1,2,3]])\n",
    "        self.available = ''.join(sorted(set('abcdefghi')-set(res)))\n",
    "\n",
    "\n",
    "    def recode(self):\n",
    "        res = ''.join([v for k,v in self.items() if k in [0,1,2,3] and v])\n",
    "        res = ''.join([c for c in res if c.isalpha() and c.islower()])\n",
    "        code = ''.maketrans(res+res.upper(), ascii_lowercase[:len(res)]+ascii_uppercase[:len(res)])\n",
    "        for k in self:\n",
    "            if k in [0,1,2,3]:\n",
    "                super().__setitem__(k,self[k].translate(code))\n",
    "                self.set_available()\n",
    "\n",
    "    def get_next_two_letters(self):\n",
    "        return self.available[0:2]\n",
    "\n",
    "    def __setitem__(self,k,v):\n",
    "        if (k != 'elev' and v):\n",
    "            v = ''.join(sorted(v))\n",
    "            num_pairs = int(v[0])\n",
    "            to_remove = [key for key,val in Counter(v.lower()).items() if val > 1]\n",
    "            for i in to_remove: self.available+i\n",
    "            num_pairs+=len(to_remove)\n",
    "            newstring = str(num_pairs)\n",
    "            for i in v:\n",
    "                if not i.lower() in to_remove and not i.isdigit():\n",
    "                    newstring+=i\n",
    "            super().__setitem__(k,newstring)\n",
    "        else:\n",
    "            super().__setitem__(k,v)\n",
    "\n",
    "state = {0:'4', 1: '2A',2:'0a',3:'0','elev':'0'}\n",
    "goal = {0:'0',1:'0',2:'0',3:'7','elev':'3'}\n",
    "\n",
    "def isvalid(inp):\n",
    "    for i in inp:\n",
    "        if i.isalpha() and i.islower() and i.upper() not in inp:\n",
    "            for j in inp:\n",
    "                if (j.isdigit() and int(j)>0) or (j.isupper() and j.lower() != i): return False\n",
    "    return True\n",
    "nextfloor = {0:[1],1:[0,2],2:[1,3],3:[2]}\n",
    "\n",
    "def getneigh(state):\n",
    "    newstates = []\n",
    "    cur_floor = int(state['elev'])\n",
    "    next_two_letters = state.get_next_two_letters()\n",
    "    current_floor = state[cur_floor] # used to be copy\n",
    "    if int(current_floor[0])>0:\n",
    "        current_floor+=next_two_letters[0].upper()+next_two_letters[0].lower()\n",
    "        current_floor = str(int(current_floor[0])-1)+current_floor[1:]\n",
    "    if int(current_floor[0])>0:\n",
    "        current_floor+=next_two_letters[1].upper()+next_two_letters[1].lower()\n",
    "        current_floor = str(int(current_floor[0])-1)+current_floor[1:]\n",
    "\n",
    "    for comb in itertools.chain((itertools.combinations(current_floor[1:],2)), current_floor[1:]):\n",
    "        comb = ''.join(comb)\n",
    "        new_floor = ''.join([i for i in current_floor if i not in comb])\n",
    "        if isvalid(comb) and isvalid(new_floor): # current floor is ok\n",
    "            for n in nextfloor[cur_floor]:\n",
    "                if isvalid(state[n] + comb): # new floor ok\n",
    "                    newstate = State(state.copy())\n",
    "                    newstate['elev']=str(n)\n",
    "                    newstate[cur_floor] = new_floor\n",
    "                    newstate[n] = newstate[n] + comb\n",
    "                    newstate.recode()\n",
    "                    assert newstate.num_items()\n",
    "                    newstates.append(newstate)\n",
    "    return newstates"
   ]
  },
  {
   "cell_type": "code",
   "execution_count": 18,
   "metadata": {
    "Collapsed": "false"
   },
   "outputs": [
    {
     "ename": "SyntaxError",
     "evalue": "invalid syntax (<ipython-input-18-1c776871a302>, line 1)",
     "output_type": "error",
     "traceback": [
      "\u001b[1;36m  File \u001b[1;32m\"<ipython-input-18-1c776871a302>\"\u001b[1;36m, line \u001b[1;32m1\u001b[0m\n\u001b[1;33m    50ms\u001b[0m\n\u001b[1;37m       ^\u001b[0m\n\u001b[1;31mSyntaxError\u001b[0m\u001b[1;31m:\u001b[0m invalid syntax\n"
     ]
    }
   ],
   "source": [
    "50ms"
   ]
  },
  {
   "cell_type": "code",
   "execution_count": 34,
   "metadata": {
    "Collapsed": "false"
   },
   "outputs": [
    {
     "name": "stdout",
     "output_type": "stream",
     "text": [
      "52.1 ms ± 5.98 ms per loop (mean ± std. dev. of 7 runs, 10 loops each)\n"
     ]
    }
   ],
   "source": [
    "a = State(state)\n",
    "%timeit for i in range(100): getneigh(a)"
   ]
  },
  {
   "cell_type": "code",
   "execution_count": 24,
   "metadata": {
    "Collapsed": "false"
   },
   "outputs": [
    {
     "name": "stdout",
     "output_type": "stream",
     "text": [
      "The line_profiler extension is already loaded. To reload it, use:\n",
      "  %reload_ext line_profiler\n"
     ]
    },
    {
     "data": {
      "text/plain": [
       "Timer unit: 1e-07 s\n",
       "\n",
       "Total time: 0.0014457 s\n",
       "File: <ipython-input-22-6c6d3ff12c60>\n",
       "Function: getneigh at line 116\n",
       "\n",
       "Line #      Hits         Time  Per Hit   % Time  Line Contents\n",
       "==============================================================\n",
       "   116                                           def getneigh(state):\n",
       "   117         1         57.0     57.0      0.4      newstates = []\n",
       "   118         1         92.0     92.0      0.6      cur_floor = int(state['elev'])\n",
       "   119         1        105.0    105.0      0.7      next_two_letters = state.get_next_two_letters()\n",
       "   120         1         34.0     34.0      0.2      current_floor = state[cur_floor] # used to be copy\n",
       "   121         1         44.0     44.0      0.3      if int(current_floor[0])>0:\n",
       "   122         1         69.0     69.0      0.5          current_floor+=next_two_letters[0].upper()+next_two_letters[0].lower()\n",
       "   123         1         87.0     87.0      0.6          current_floor = str(int(current_floor[0])-1)+current_floor[1:]\n",
       "   124         1         37.0     37.0      0.3      if int(current_floor[0])>0:\n",
       "   125         1         49.0     49.0      0.3          current_floor+=next_two_letters[1].upper()+next_two_letters[1].lower()\n",
       "   126         1         53.0     53.0      0.4          current_floor = str(int(current_floor[0])-1)+current_floor[1:]\n",
       "   127                                           \n",
       "   128        11        430.0     39.1      3.0      for comb in itertools.chain((itertools.combinations(current_floor[1:],2)), current_floor[1:]):\n",
       "   129        10        358.0     35.8      2.5          comb = ''.join(comb)\n",
       "   130        10        950.0     95.0      6.6          new_floor = ''.join([i for i in current_floor if i not in comb])\n",
       "   131        10       1973.0    197.3     13.6          if isvalid(comb) and isvalid(new_floor): # current floor is ok\n",
       "   132        10        310.0     31.0      2.1              for n in nextfloor[cur_floor]:\n",
       "   133         5        710.0    142.0      4.9                  if isvalid(state[n] + comb): # new floor ok\n",
       "   134         2        986.0    493.0      6.8                      newstate = State(state.copy())\n",
       "   135         2        246.0    123.0      1.7                      newstate['elev']=str(n)\n",
       "   136         2       1787.0    893.5     12.4                      newstate[cur_floor] = new_floor\n",
       "   137         2       1482.0    741.0     10.3                      newstate[n] = newstate[n] + comb\n",
       "   138         2       3822.0   1911.0     26.4                      newstate.recode()\n",
       "   139         2        635.0    317.5      4.4                      assert newstate.num_items()\n",
       "   140         2        119.0     59.5      0.8                      newstates.append(newstate)\n",
       "   141         1         22.0     22.0      0.2      return newstates"
      ]
     },
     "metadata": {},
     "output_type": "display_data"
    }
   ],
   "source": [
    "a = State(state)\n",
    "# %timeit for i in range(10): getneigh(a)\n",
    "%load_ext line_profiler\n",
    "%lprun -f getneigh getneigh(a)\n",
    "# res = bfs(getneigh,State(state),State(goal))\n",
    "# len(res)\n",
    "\n"
   ]
  },
  {
   "cell_type": "code",
   "execution_count": 25,
   "metadata": {
    "Collapsed": "false"
   },
   "outputs": [
    {
     "data": {
      "text/plain": [
       "Timer unit: 1e-07 s\n",
       "\n",
       "Total time: 0.0003259 s\n",
       "File: <ipython-input-22-6c6d3ff12c60>\n",
       "Function: recode at line 78\n",
       "\n",
       "Line #      Hits         Time  Per Hit   % Time  Line Contents\n",
       "==============================================================\n",
       "    78                                               def recode(self):\n",
       "    79         1        387.0    387.0     11.9          res = ''.join([v for k,v in self.items() if k in [0,1,2,3] and v])\n",
       "    80         1        309.0    309.0      9.5          res = ''.join([c for c in res if c.isalpha() and c.islower()])\n",
       "    81         1        221.0    221.0      6.8          code = ''.maketrans(res+res.upper(), ascii_lowercase[:len(res)]+ascii_uppercase[:len(res)])\n",
       "    82         6        212.0     35.3      6.5          for k in self:\n",
       "    83         5        160.0     32.0      4.9              if k in [0,1,2,3]:\n",
       "    84         4        464.0    116.0     14.2                  super().__setitem__(k,self[k].translate(code))\n",
       "    85         4       1506.0    376.5     46.2                  self.set_available()"
      ]
     },
     "metadata": {},
     "output_type": "display_data"
    }
   ],
   "source": [
    "%lprun -f a.recode a.recode()"
   ]
  },
  {
   "cell_type": "code",
   "execution_count": 26,
   "metadata": {
    "Collapsed": "false"
   },
   "outputs": [
    {
     "data": {
      "text/plain": [
       "Timer unit: 1e-07 s\n",
       "\n",
       "Total time: 5.5e-05 s\n",
       "File: <ipython-input-22-6c6d3ff12c60>\n",
       "Function: num_items at line 64\n",
       "\n",
       "Line #      Hits         Time  Per Hit   % Time  Line Contents\n",
       "==============================================================\n",
       "    64                                               def num_items(self):\n",
       "    65         1         49.0     49.0      8.9          count = 0\n",
       "    66         5        134.0     26.8     24.4          for i in range(4):\n",
       "    67         4        231.0     57.8     42.0              count += int(self[i][0])*2\n",
       "    68         4        113.0     28.2     20.5              count += len(self[i])-1\n",
       "    69         1         23.0     23.0      4.2          if count == 14: return True\n",
       "    70                                                   else: return False"
      ]
     },
     "metadata": {},
     "output_type": "display_data"
    }
   ],
   "source": [
    "%lprun -f a.num_items a.num_items()"
   ]
  },
  {
   "cell_type": "code",
   "execution_count": 27,
   "metadata": {
    "Collapsed": "false"
   },
   "outputs": [
    {
     "data": {
      "text/plain": [
       "Timer unit: 1e-07 s\n",
       "\n",
       "Total time: 0.0001579 s\n",
       "File: <ipython-input-22-6c6d3ff12c60>\n",
       "Function: __setitem__ at line 90\n",
       "\n",
       "Line #      Hits         Time  Per Hit   % Time  Line Contents\n",
       "==============================================================\n",
       "    90                                               def __setitem__(self,k,v):\n",
       "    91         1         80.0     80.0      5.1          if (k != 'elev' and v):\n",
       "    92         1        140.0    140.0      8.9              v = ''.join(sorted(v))\n",
       "    93         1         92.0     92.0      5.8              num_pairs = int(v[0])\n",
       "    94         1        742.0    742.0     47.0              to_remove = [key for key,val in Counter(v.lower()).items() if val > 1]\n",
       "    95         2         74.0     37.0      4.7              for i in to_remove: self.available+i\n",
       "    96         1         33.0     33.0      2.1              num_pairs+=len(to_remove)\n",
       "    97         1         51.0     51.0      3.2              newstring = str(num_pairs)\n",
       "    98         5        116.0     23.2      7.3              for i in v:\n",
       "    99         4        149.0     37.2      9.4                  if not i.lower() in to_remove and not i.isdigit():\n",
       "   100         1         36.0     36.0      2.3                      newstring+=i\n",
       "   101         1         66.0     66.0      4.2              super().__setitem__(k,newstring)\n",
       "   102                                                   else:\n",
       "   103                                                       super().__setitem__(k,v)"
      ]
     },
     "metadata": {},
     "output_type": "display_data"
    }
   ],
   "source": [
    "%lprun -f a.__setitem__ a.__setitem__(0,\"1AbB\")"
   ]
  },
  {
   "cell_type": "code",
   "execution_count": 28,
   "metadata": {
    "Collapsed": "false"
   },
   "outputs": [
    {
     "data": {
      "text/plain": [
       "Timer unit: 1e-07 s\n",
       "\n",
       "Total time: 8.57e-05 s\n",
       "File: <ipython-input-22-6c6d3ff12c60>\n",
       "Function: isvalid at line 108\n",
       "\n",
       "Line #      Hits         Time  Per Hit   % Time  Line Contents\n",
       "==============================================================\n",
       "   108                                           def isvalid(inp):\n",
       "   109         6        263.0     43.8     30.7      for i in inp:\n",
       "   110         6        414.0     69.0     48.3          if i.isalpha() and i.islower() and i.upper() not in inp:\n",
       "   111         1         39.0     39.0      4.6              for j in inp:\n",
       "   112         1        141.0    141.0     16.5                  if (j.isdigit() and int(j)>0) or (j.isupper() and j.lower() != i): return False\n",
       "   113                                               return True"
      ]
     },
     "metadata": {},
     "output_type": "display_data"
    }
   ],
   "source": [
    "%lprun -f isvalid isvalid(\"1AaBbc\")"
   ]
  },
  {
   "cell_type": "code",
   "execution_count": 29,
   "metadata": {
    "Collapsed": "false"
   },
   "outputs": [
    {
     "data": {
      "text/plain": [
       "Timer unit: 1e-07 s\n",
       "\n",
       "Total time: 4.22e-05 s\n",
       "File: <ipython-input-22-6c6d3ff12c60>\n",
       "Function: set_available at line 72\n",
       "\n",
       "Line #      Hits         Time  Per Hit   % Time  Line Contents\n",
       "==============================================================\n",
       "    72                                               def set_available(self):\n",
       "    73         1         39.0     39.0      9.2          avail = []\n",
       "    74         1        172.0    172.0     40.8          res = ''.join([v if v else '' for k,v in self.items() if k in [0,1,2,3]])\n",
       "    75         1        211.0    211.0     50.0          self.available = ''.join(sorted(set('abcdefghi')-set(res)))"
      ]
     },
     "metadata": {},
     "output_type": "display_data"
    }
   ],
   "source": [
    "%lprun -f a.set_available a.set_available()"
   ]
  },
  {
   "cell_type": "code",
   "execution_count": null,
   "metadata": {
    "Collapsed": "false"
   },
   "outputs": [],
   "source": []
  },
  {
   "cell_type": "code",
   "execution_count": null,
   "metadata": {
    "Collapsed": "false"
   },
   "outputs": [],
   "source": []
  }
 ],
 "metadata": {
  "file_extension": ".py",
  "kernelspec": {
   "display_name": "Python 3.7.3 64-bit ('base': conda)",
   "language": "python",
   "name": "python37364bitbaseconda64cd2d4475b7431fad90d3a78fe97c82"
  },
  "language_info": {
   "codemirror_mode": {
    "name": "ipython",
    "version": 3
   },
   "file_extension": ".py",
   "mimetype": "text/x-python",
   "name": "python",
   "nbconvert_exporter": "python",
   "pygments_lexer": "ipython3",
   "version": "3.7.3"
  },
  "mimetype": "text/x-python",
  "name": "python",
  "npconvert_exporter": "python",
  "pygments_lexer": "ipython3",
  "version": 3
 },
 "nbformat": 4,
 "nbformat_minor": 4
}
