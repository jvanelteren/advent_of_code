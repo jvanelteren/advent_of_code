{
 "cells": [
  {
   "cell_type": "code",
   "execution_count": 2,
   "metadata": {},
   "outputs": [
    {
     "data": {
      "text/plain": [
       "('BZLVHBWQF', 'TDGJQTZSL')"
      ]
     },
     "execution_count": 2,
     "metadata": {},
     "output_type": "execute_result"
    }
   ],
   "source": [
    "from aocutils.common import ints\n",
    "from copy import deepcopy\n",
    "\n",
    "\n",
    "stacks, instructions =open('input.txt').read().split('\\n\\n')\n",
    "orders = [[] for _ in range(9)]\n",
    "for line in stacks.split('\\n')[:-1]:\n",
    "    for idx in range(9):\n",
    "        val = line[idx * 4 + 1]\n",
    "        if val != ' ':\n",
    "            orders[idx].append(val)\n",
    "stacks = [list(reversed(l)) for l in orders]\n",
    "\n",
    "def decode(s): \n",
    "    return ''.join([l[-1] for l in s])\n",
    "\n",
    "def p1(s):\n",
    "    for i in instructions.split('\\n'):\n",
    "        amount, origin, dest = ints(i)\n",
    "        for _ in range(amount):\n",
    "            val = s[origin-1].pop()\n",
    "            s[dest-1].append(val)\n",
    "    return decode(s)\n",
    "\n",
    "def p2(s):\n",
    "    for i in instructions.split('\\n'):\n",
    "        amount, origin, dest = ints(i)\n",
    "        s[dest-1] += s[origin-1][-amount:]\n",
    "        s[origin-1] = s[origin-1][:-amount]\n",
    "    return decode(s)\n",
    "\n",
    "p1(deepcopy(stacks)), p2(stacks)"
   ]
  },
  {
   "cell_type": "code",
   "execution_count": 1,
   "metadata": {},
   "outputs": [
    {
     "name": "stdout",
     "output_type": "stream",
     "text": [
      "BZLVHBWQF\n",
      "TDGJQTZSL\n"
     ]
    }
   ],
   "source": [
    "# https://www.reddit.com/r/adventofcode/comments/zcxid5/comment/iyzf3qu/\n",
    "S, I = open('input.txt').read().split('\\n\\n')\n",
    "\n",
    "for dir in -1, +1:\n",
    "    s = [['']]+[''.join(s).strip() for s in zip(*S.split('\\n'))][1::4]\n",
    "    for i in I.split('\\n'):\n",
    "        n, a, b = map(int, i.split()[1::2])\n",
    "        s[b] = s[a][:n][::dir] + s[b]\n",
    "        s[a] = s[a][n:]\n",
    "\n",
    "    print(*[*zip(*s)][0], sep='')"
   ]
  }
 ],
 "metadata": {
  "file_extension": ".py",
  "kernelspec": {
   "display_name": "Python 3.11.0 ('.aocenvpy311': venv)",
   "language": "python",
   "name": "python3"
  },
  "language_info": {
   "codemirror_mode": {
    "name": "ipython",
    "version": 3
   },
   "file_extension": ".py",
   "mimetype": "text/x-python",
   "name": "python",
   "nbconvert_exporter": "python",
   "pygments_lexer": "ipython3",
   "version": "3.11.0 (main, Oct 24 2022, 18:26:48) [MSC v.1933 64 bit (AMD64)]"
  },
  "mimetype": "text/x-python",
  "name": "python",
  "npconvert_exporter": "python",
  "orig_nbformat": 2,
  "pygments_lexer": "ipython3",
  "version": 3,
  "vscode": {
   "interpreter": {
    "hash": "7b5336723abeab741c71fcc933eb6e6f53a288e70399d841fc0756db1169ea34"
   }
  }
 },
 "nbformat": 4,
 "nbformat_minor": 2
}
