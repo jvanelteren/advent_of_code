{
 "cells": [
  {
   "cell_type": "code",
   "execution_count": 29,
   "metadata": {},
   "outputs": [
    {
     "data": {
      "text/plain": [
       "13809"
      ]
     },
     "execution_count": 29,
     "metadata": {},
     "output_type": "execute_result"
    }
   ],
   "source": [
    "f=open('input.txt').read().split('\\n')\n",
    "lines = [line.split() for line in f]\n",
    "score = 0\n",
    "points = {'X': 1, 'Y': 2, 'Z': 3}\n",
    "for x,y in lines:\n",
    "    if (x == 'A' and y == 'Y') or (x == 'B' and y == 'Z') or (x == 'C' and y == 'X'):\n",
    "        score += 6\n",
    "    if (x == 'A' and y == 'X') or (x == 'B' and y == 'Y') or (x == 'C' and y == 'Z'):\n",
    "        score += 3\n",
    "    score += points[y]\n",
    "score"
   ]
  },
  {
   "cell_type": "code",
   "execution_count": null,
   "metadata": {},
   "outputs": [
    {
     "data": {
      "text/plain": [
       "12316"
      ]
     },
     "execution_count": 19,
     "metadata": {},
     "output_type": "execute_result"
    }
   ],
   "source": [
    "score = 0\n",
    "for x,y in lines:\n",
    "    if x == 'A':\n",
    "        if y == 'X':\n",
    "            score += 3\n",
    "        elif y == 'Y':\n",
    "            score += 1 + 3\n",
    "        elif y == 'Z':\n",
    "            score += 6 + 2\n",
    "            \n",
    "    if x == 'B':\n",
    "        if y == 'X':\n",
    "            score += 1\n",
    "        elif y == 'Y':\n",
    "            score += 2 + 3\n",
    "        elif y == 'Z':\n",
    "            score += 6 + 3\n",
    "            \n",
    "    if x == 'C':\n",
    "        if y == 'X':\n",
    "            score += 2\n",
    "        elif y == 'Y':\n",
    "            score += 3 + 3\n",
    "        elif y == 'Z':\n",
    "            score += 6 + 1    \n",
    "score"
   ]
  }
 ],
 "metadata": {
  "file_extension": ".py",
  "kernelspec": {
   "display_name": "Python 3.11.0 ('.aocenvpy311': venv)",
   "language": "python",
   "name": "python3"
  },
  "language_info": {
   "codemirror_mode": {
    "name": "ipython",
    "version": 3
   },
   "file_extension": ".py",
   "mimetype": "text/x-python",
   "name": "python",
   "nbconvert_exporter": "python",
   "pygments_lexer": "ipython3",
   "version": "3.11.0"
  },
  "mimetype": "text/x-python",
  "name": "python",
  "npconvert_exporter": "python",
  "orig_nbformat": 2,
  "pygments_lexer": "ipython3",
  "version": 3,
  "vscode": {
   "interpreter": {
    "hash": "7b5336723abeab741c71fcc933eb6e6f53a288e70399d841fc0756db1169ea34"
   }
  }
 },
 "nbformat": 4,
 "nbformat_minor": 2
}
