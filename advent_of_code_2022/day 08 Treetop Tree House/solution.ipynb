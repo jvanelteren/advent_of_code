{
 "cells": [
  {
   "cell_type": "code",
   "execution_count": 125,
   "metadata": {},
   "outputs": [],
   "source": [
    "from aocutils.grid import gridneigh\n",
    "grid, neigh = gridneigh('input.txt', to_dict = False, parser=lambda x: [int(ch) for ch in x])\n",
    "rows = len(grid)\n",
    "cols = len(grid[0])"
   ]
  },
  {
   "cell_type": "code",
   "execution_count": 126,
   "metadata": {},
   "outputs": [
    {
     "data": {
      "text/plain": [
       "1812"
      ]
     },
     "execution_count": 126,
     "metadata": {},
     "output_type": "execute_result"
    }
   ],
   "source": [
    "visible = set()\n",
    "for r in range(rows):\n",
    "    high = -1\n",
    "    for c in range(cols):\n",
    "        if grid[r][c] > high:\n",
    "            high = grid[r][c]\n",
    "            visible.add((r,c))\n",
    "    high = -1\n",
    "    for c in range(cols-1,-1,-1):\n",
    "        if grid[r][c] > high:\n",
    "            high = grid[r][c]\n",
    "            visible.add((r,c))\n",
    "for c in range(cols-1,-1,-1):\n",
    "    high = -1\n",
    "    for r in range(rows):\n",
    "        if grid[r][c] > high:\n",
    "            high = grid[r][c]\n",
    "            visible.add((r,c))\n",
    "    high = -1\n",
    "    for r in range(rows-1,-1,-1):\n",
    "        if grid[r][c] > high:\n",
    "            high = grid[r][c]\n",
    "            visible.add((r,c))            \n",
    "\n",
    "len(visible)"
   ]
  },
  {
   "cell_type": "code",
   "execution_count": 128,
   "metadata": {},
   "outputs": [
    {
     "data": {
      "text/plain": [
       "315495"
      ]
     },
     "execution_count": 128,
     "metadata": {},
     "output_type": "execute_result"
    }
   ],
   "source": [
    "def look(r,c):\n",
    "    overall = 1\n",
    "    high = grid[r][c]\n",
    "    score = 0\n",
    "    for nr in range(r+1,rows):\n",
    "        score +=1\n",
    "        if grid[nr][c] >= high:\n",
    "            break\n",
    "    overall *= score\n",
    "    score = 0\n",
    "    for nr in range(r-1,-1,-1):\n",
    "        score +=1\n",
    "        if grid[nr][c] >= high:\n",
    "            break\n",
    "    overall *= score\n",
    "    score = 0\n",
    "    for nc in range(c-1,-1,-1):\n",
    "        score += 1\n",
    "        if grid[r][nc] >= high:\n",
    "            break\n",
    "    overall *= score\n",
    "    \n",
    "    score = 0\n",
    "    for nc in range(c+1,cols):\n",
    "        score +=1\n",
    "        if grid[r][nc] >= high:\n",
    "            break\n",
    "            \n",
    "    overall *= score\n",
    "    return overall\n",
    "\n",
    "ans = 0\n",
    "for r in range(rows):\n",
    "    for c in range(cols):\n",
    "        ans = max(look(r,c), ans)\n",
    "ans"
   ]
  }
 ],
 "metadata": {
  "file_extension": ".py",
  "kernelspec": {
   "display_name": "Python 3.11.0 ('.aocenvpy311': venv)",
   "language": "python",
   "name": "python3"
  },
  "language_info": {
   "codemirror_mode": {
    "name": "ipython",
    "version": 3
   },
   "file_extension": ".py",
   "mimetype": "text/x-python",
   "name": "python",
   "nbconvert_exporter": "python",
   "pygments_lexer": "ipython3",
   "version": "3.11.0"
  },
  "mimetype": "text/x-python",
  "name": "python",
  "npconvert_exporter": "python",
  "orig_nbformat": 2,
  "pygments_lexer": "ipython3",
  "version": 3,
  "vscode": {
   "interpreter": {
    "hash": "7b5336723abeab741c71fcc933eb6e6f53a288e70399d841fc0756db1169ea34"
   }
  }
 },
 "nbformat": 4,
 "nbformat_minor": 2
}
