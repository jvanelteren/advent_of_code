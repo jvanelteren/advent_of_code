{
 "cells": [
  {
   "cell_type": "code",
   "execution_count": 1,
   "metadata": {},
   "outputs": [
    {
     "name": "stdout",
     "output_type": "stream",
     "text": [
      "[-160, 9392, -930]\n"
     ]
    },
    {
     "data": {
      "text/plain": [
       "8302"
      ]
     },
     "execution_count": 1,
     "metadata": {},
     "output_type": "execute_result"
    }
   ],
   "source": [
    "# the interesting thing is that swapping values multiple times with its neighbors works, but is very slow\n",
    "# the faster approach (determine where to insert) ONLY works when doing the values MOD (n-1). Why?\n",
    "\n",
    "\n",
    "class Val:\n",
    "    def __init__(self, val, goright):\n",
    "        self.val = val\n",
    "        self.goright = goright\n",
    "        self.left, self.right = None, None\n",
    "        \n",
    "    def move(self):\n",
    "        cur = self\n",
    "        if self.goright:\n",
    "            for _ in range(self.val % (n-1)):\n",
    "                cur = cur.right\n",
    "        else:\n",
    "            for _ in range(abs(self.val) % (n-1)):\n",
    "                cur = cur.left\n",
    "        if cur != self:\n",
    "            #untie\n",
    "            self.left.right = self.right\n",
    "            self.right.left = self.left\n",
    "            #re-tie\n",
    "            if self.goright:\n",
    "                self.left = cur\n",
    "                self.right = cur.right\n",
    "            else:\n",
    "                self.left = cur.left\n",
    "                self.right = cur\n",
    "            self.left.right = self\n",
    "            self.right.left = self\n",
    "\n",
    "f = open(\"in.txt\").read().split(\"\\n\")\n",
    "lines = [int(line) for line in f]\n",
    "n = len(lines)\n",
    "order = {}\n",
    "key = 811589153\n",
    "key = 1\n",
    "for idx, line in enumerate(lines):\n",
    "    goright = True if line > 0 else False\n",
    "    order[idx] = Val(line*key, goright)\n",
    "    if line == 0:\n",
    "        start = order[idx]\n",
    "        \n",
    "for i,j in zip(range(n), list(range(1,n))+[0]):\n",
    "    order[i].right = order[j]\n",
    "    order[j].left = order[i]\n",
    "    \n",
    "def show():\n",
    "    cur = start\n",
    "    for _ in range(n):\n",
    "        print(cur.val, end = ' ')\n",
    "        cur = cur.right\n",
    "    print('')\n",
    "\n",
    "def calc():\n",
    "    cur = start\n",
    "    ans = []\n",
    "    for _ in range(3):\n",
    "        for _ in range(1000):\n",
    "            cur = cur.right\n",
    "        ans.append(cur.val)\n",
    "    print(ans)\n",
    "    return ans\n",
    "for _ in range(1):\n",
    "    for cur in range(n):\n",
    "        order[cur].move()\n",
    "sum(calc())\n",
    "    "
   ]
  },
  {
   "cell_type": "code",
   "execution_count": 2,
   "metadata": {},
   "outputs": [
    {
     "name": "stdout",
     "output_type": "stream",
     "text": [
      "found 2764272655118\n",
      "found 233737676064\n",
      "found -2341434706405\n"
     ]
    },
    {
     "data": {
      "text/plain": [
       "656575624777"
      ]
     },
     "execution_count": 2,
     "metadata": {},
     "output_type": "execute_result"
    }
   ],
   "source": [
    "\n",
    "class Val:\n",
    "    def __init__(self, idx, val, direc):\n",
    "        self.idx = idx\n",
    "        self.val = val\n",
    "        self.left = None\n",
    "        self.right = None\n",
    "        self.direc = direc\n",
    "        \n",
    "        \n",
    "    def moveleft(self, amount):\n",
    "        cur = self\n",
    "        for _ in range(amount):\n",
    "            cur = cur.left\n",
    "        if cur != self:\n",
    "            self.left.right = self.right\n",
    "            self.right.left = self.left\n",
    "            self.left = cur.left\n",
    "            self.right = cur\n",
    "            self.left.right = self\n",
    "            self.right.left = self\n",
    "        \n",
    "    \n",
    "\n",
    "    def moveright(self, amount):\n",
    "        \n",
    "        cur = self\n",
    "        for _ in range(amount):\n",
    "            cur = cur.right\n",
    "        if cur != self:      \n",
    "            self.left.right = self.right\n",
    "            self.right.left = self.left\n",
    "            self.left = cur\n",
    "            self.right = cur.right\n",
    "            self.left.right = self\n",
    "            self.right.left = self\n",
    "        \n",
    "        \n",
    "from math import factorial\n",
    "key = 1\n",
    "key = 811589153\n",
    "f = open(\"in.txt\").read().split(\"\\n\")\n",
    "lines = [line for line in f]\n",
    "order = {}\n",
    "start = None\n",
    "n = len(lines)\n",
    "for idx, line in enumerate(lines):\n",
    "    direc = int(line)*key\n",
    "    times = abs(direc) % (n-1)\n",
    "    # print(direc, times)\n",
    "    order[idx] = Val(idx, times , direc)\n",
    "    if int(line) == 0:\n",
    "        start = order[idx]\n",
    "for x,y in zip(range(n), range(1,n)):\n",
    "    order[x].right = order[y]\n",
    "    order[y].left = order[x]\n",
    "order[n-1].right = order[0]\n",
    "order[0].left = order[n-1]\n",
    "currentidx = order.copy()\n",
    "\n",
    "# need to do 10 times\n",
    "cur = start\n",
    "\n",
    "for iteration in range(10):\n",
    "    # print(iteration)\n",
    "    for i in range(n):\n",
    "        # print('')\n",
    "        curval = order[i]\n",
    "        r = curval.val\n",
    "        if curval.direc < 0:\n",
    "            curval.moveleft(r)\n",
    "        elif curval.direc > 0:\n",
    "            curval.moveright(r)\n",
    "        \n",
    "\n",
    "\n",
    "cur = start\n",
    "ans = 0\n",
    "for i in range(3):\n",
    "    for j in range(1000):\n",
    "        cur = cur.right\n",
    "    \n",
    "    print('found', cur.direc)\n",
    "    ans += cur.direc\n",
    "ans \n",
    "    \n"
   ]
  }
 ],
 "metadata": {
  "file_extension": ".py",
  "kernelspec": {
   "display_name": "Python 3.11.0 ('.aocenvpy311': venv)",
   "language": "python",
   "name": "python3"
  },
  "language_info": {
   "codemirror_mode": {
    "name": "ipython",
    "version": 3
   },
   "file_extension": ".py",
   "mimetype": "text/x-python",
   "name": "python",
   "nbconvert_exporter": "python",
   "pygments_lexer": "ipython3",
   "version": "3.11.0"
  },
  "mimetype": "text/x-python",
  "name": "python",
  "npconvert_exporter": "python",
  "orig_nbformat": 2,
  "pygments_lexer": "ipython3",
  "version": 3,
  "vscode": {
   "interpreter": {
    "hash": "7b5336723abeab741c71fcc933eb6e6f53a288e70399d841fc0756db1169ea34"
   }
  }
 },
 "nbformat": 4,
 "nbformat_minor": 2
}
