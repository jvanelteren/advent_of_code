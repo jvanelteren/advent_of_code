{
 "cells": [
  {
   "cell_type": "code",
   "execution_count": 1,
   "metadata": {},
   "outputs": [
    {
     "data": {
      "text/plain": [
       "656575624777"
      ]
     },
     "execution_count": 1,
     "metadata": {},
     "output_type": "execute_result"
    }
   ],
   "source": [
    "# the interesting thing is that swapping values multiple times with its neighbors works, but is very slow\n",
    "# the faster approach (determine where to insert) ONLY works when doing the values MOD (n-1), since after n-1 steps you are back at your original position!!!\n",
    "\n",
    "\n",
    "class Val:\n",
    "    def __init__(self, val, goright):\n",
    "        self.val = val\n",
    "        self.goright = goright\n",
    "        self.left, self.right = None, None\n",
    "\n",
    "    def move(self):\n",
    "        cur = self\n",
    "        if self.goright:\n",
    "            for _ in range(self.val % (n - 1)):\n",
    "                cur = cur.right\n",
    "        else:\n",
    "            for _ in range(abs(self.val) % (n - 1)):\n",
    "                cur = cur.left\n",
    "        if cur != self:\n",
    "            # untie\n",
    "            self.left.right = self.right\n",
    "            self.right.left = self.left\n",
    "            # re-tie\n",
    "            if self.goright:\n",
    "                self.left = cur\n",
    "                self.right = cur.right\n",
    "            else:\n",
    "                self.left = cur.left\n",
    "                self.right = cur\n",
    "            self.left.right = self\n",
    "            self.right.left = self\n",
    "\n",
    "\n",
    "f = open(\"in.txt\").read().split(\"\\n\")\n",
    "lines = [int(line) for line in f]\n",
    "n = len(lines)\n",
    "order = {}\n",
    "key = 811589153\n",
    "\n",
    "for idx, line in enumerate(lines):\n",
    "    goright = True if line > 0 else False\n",
    "    order[idx] = Val(line * key, goright)\n",
    "    if line == 0:\n",
    "        start = order[idx]\n",
    "\n",
    "for i, j in zip(range(n), list(range(1, n)) + [0]):\n",
    "    order[i].right = order[j]\n",
    "    order[j].left = order[i]\n",
    "\n",
    "def calc():\n",
    "    cur = start\n",
    "    ans = []\n",
    "    for _ in range(3):\n",
    "        for _ in range(1000):\n",
    "            cur = cur.right\n",
    "        ans.append(cur.val)\n",
    "    return ans\n",
    "\n",
    "\n",
    "for _ in range(10):\n",
    "    for cur in range(n):\n",
    "        order[cur].move()\n",
    "sum(calc())"
   ]
  },
  {
   "cell_type": "code",
   "execution_count": 4,
   "metadata": {},
   "outputs": [
    {
     "name": "stdout",
     "output_type": "stream",
     "text": [
      "8302\n"
     ]
    }
   ],
   "source": [
    "# or like H4bq does\n",
    "numbers = [int(x)  for x in open('in.txt')]\n",
    "indices = list(range(len(numbers)))\n",
    "\n",
    "for i in indices * 1:\n",
    "    indices.pop(j := indices.index(i))\n",
    "    indices.insert((j+numbers[i]) % len(indices), i)\n",
    "\n",
    "zero = indices.index(numbers.index(0))\n",
    "print(sum(numbers[indices[(zero+p) % len(numbers)]] for p in [1000,2000,3000]))"
   ]
  },
  {
   "cell_type": "code",
   "execution_count": null,
   "metadata": {},
   "outputs": [],
   "source": []
  }
 ],
 "metadata": {
  "file_extension": ".py",
  "kernelspec": {
   "display_name": "Python 3.11.0 ('.aocenvpy311': venv)",
   "language": "python",
   "name": "python3"
  },
  "language_info": {
   "codemirror_mode": {
    "name": "ipython",
    "version": 3
   },
   "file_extension": ".py",
   "mimetype": "text/x-python",
   "name": "python",
   "nbconvert_exporter": "python",
   "pygments_lexer": "ipython3",
   "version": "3.11.0"
  },
  "mimetype": "text/x-python",
  "name": "python",
  "npconvert_exporter": "python",
  "orig_nbformat": 2,
  "pygments_lexer": "ipython3",
  "version": 3,
  "vscode": {
   "interpreter": {
    "hash": "7b5336723abeab741c71fcc933eb6e6f53a288e70399d841fc0756db1169ea34"
   }
  }
 },
 "nbformat": 4,
 "nbformat_minor": 2
}
