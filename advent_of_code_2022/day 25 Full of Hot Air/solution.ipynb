{
 "cells": [
  {
   "cell_type": "code",
   "execution_count": 3,
   "metadata": {},
   "outputs": [
    {
     "data": {
      "text/plain": [
       "'21-2-0=1-'"
      ]
     },
     "execution_count": 3,
     "metadata": {},
     "output_type": "execute_result"
    }
   ],
   "source": [
    "\n"
   ]
  },
  {
   "cell_type": "code",
   "execution_count": 11,
   "metadata": {},
   "outputs": [
    {
     "data": {
      "text/plain": [
       "31487399529835"
      ]
     },
     "execution_count": 11,
     "metadata": {},
     "output_type": "execute_result"
    }
   ],
   "source": []
  },
  {
   "cell_type": "code",
   "execution_count": 4,
   "metadata": {},
   "outputs": [],
   "source": [
    "def snafu(val):\n",
    "    if val == 0:\n",
    "        return '0'\n",
    "    val = val\n",
    "\n",
    "    temp = 0\n",
    "    for i in range(30):\n",
    "        temp += 2 * (5**i)\n",
    "        if temp >= val:\n",
    "            temp -= 2 * (5**i)\n",
    "            temp += (5**i)\n",
    "            if temp  >= val:\n",
    "                answer = '1'\n",
    "                val -= (5**i)\n",
    "                l = i\n",
    "                break\n",
    "            else:\n",
    "                answer = '2'\n",
    "                val -= 2 * (5**i)\n",
    "                l = i\n",
    "                break\n",
    "            \n",
    "    val *= -1\n",
    "    for i in range(l-1,-1,-1):\n",
    "        temp = 0\n",
    "        for j in range(i):\n",
    "            temp += 2* 5**j\n",
    "        if val < 0:\n",
    "            if val + (5 ** i) * 1 + temp >= 0: \n",
    "                answer += '1'\n",
    "                val += (5 ** i) * 1\n",
    "            else:\n",
    "                answer += '2'\n",
    "                val += (5 ** i) * 2\n",
    "        else:\n",
    "            if val == 0:\n",
    "                answer += '0'\n",
    "            elif val <= temp:\n",
    "                answer += '0'\n",
    "            elif val - (5 ** i) * 1 <= temp: \n",
    "                answer += '-'\n",
    "                val -= (5 ** i) * 1\n",
    "                     \n",
    "            elif val - (5 ** i) * 2 <= temp:\n",
    "                answer += '='\n",
    "                val -= (5 ** i) * 2\n",
    "    return answer\n"
   ]
  },
  {
   "cell_type": "code",
   "execution_count": 5,
   "metadata": {},
   "outputs": [
    {
     "data": {
      "text/plain": [
       "'2=112--220-=-00=-=20'"
      ]
     },
     "execution_count": 5,
     "metadata": {},
     "output_type": "execute_result"
    }
   ],
   "source": [
    "assert snafu(2022) == '1=11-2'\n",
    "assert snafu(12345) == '1-0---0'\n",
    "assert snafu(314159265) == '1121-1110-1=0'\n",
    "\n",
    "do = {'2':2, '1':1, '0':0, '-':-1, '=':-2}\n",
    "lines = open(\"in.txt\").read().split(\"\\n\")\n",
    "ans = 0\n",
    "for line in lines:\n",
    "    num = 0\n",
    "    for idx, val in enumerate(line[::-1]):\n",
    "        num += (5**idx)*do[val]\n",
    "    ans += num\n",
    "snafu(ans)"
   ]
  },
  {
   "cell_type": "code",
   "execution_count": 6,
   "metadata": {},
   "outputs": [
    {
     "data": {
      "text/plain": [
       "'2=112--220-=-00=-=20'"
      ]
     },
     "execution_count": 6,
     "metadata": {},
     "output_type": "execute_result"
    }
   ],
   "source": [
    "f = lambda s: f(s[:-1])*5 + '=-012'.find(s[-1])-2 if s else 0\n",
    "g = lambda d: g((d+2)//5) + '=-012'[(d+2)%5] if d else ''\n",
    "\n",
    "g(ans)"
   ]
  },
  {
   "cell_type": "code",
   "execution_count": 9,
   "metadata": {},
   "outputs": [
    {
     "data": {
      "text/plain": [
       "'2=112--220-=-00=-=20'"
      ]
     },
     "execution_count": 9,
     "metadata": {},
     "output_type": "execute_result"
    }
   ],
   "source": [
    "def snaf(val):\n",
    "    if not val:\n",
    "        return ''\n",
    "    newval = (val+2)//5\n",
    "    return snaf(newval) + '=-012'[(val+2)%5]\n",
    "snaf(ans)"
   ]
  }
 ],
 "metadata": {
  "file_extension": ".py",
  "kernelspec": {
   "display_name": "Python 3.11.0 ('.aocenvpy311': venv)",
   "language": "python",
   "name": "python3"
  },
  "language_info": {
   "codemirror_mode": {
    "name": "ipython",
    "version": 3
   },
   "file_extension": ".py",
   "mimetype": "text/x-python",
   "name": "python",
   "nbconvert_exporter": "python",
   "pygments_lexer": "ipython3",
   "version": "3.11.0 (main, Oct 24 2022, 18:26:48) [MSC v.1933 64 bit (AMD64)]"
  },
  "mimetype": "text/x-python",
  "name": "python",
  "npconvert_exporter": "python",
  "orig_nbformat": 2,
  "pygments_lexer": "ipython3",
  "version": 3,
  "vscode": {
   "interpreter": {
    "hash": "7b5336723abeab741c71fcc933eb6e6f53a288e70399d841fc0756db1169ea34"
   }
  }
 },
 "nbformat": 4,
 "nbformat_minor": 2
}
