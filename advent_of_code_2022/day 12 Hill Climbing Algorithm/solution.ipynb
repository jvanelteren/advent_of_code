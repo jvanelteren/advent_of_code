{
 "cells": [
  {
   "cell_type": "code",
   "execution_count": 4,
   "metadata": {},
   "outputs": [
    {
     "name": "stdout",
     "output_type": "stream",
     "text": [
      "468 459\n"
     ]
    }
   ],
   "source": [
    "import string\n",
    "from aocutils.grid import gridneigh\n",
    "from collections import deque\n",
    "\n",
    "grid, neigh = gridneigh(\"in.txt\", to_dict=True, parser=lambda x: [ch for ch in x])\n",
    "trans = {ch: i for i, ch in enumerate(string.ascii_lowercase)}\n",
    "trans[\"S\"] = 0\n",
    "trans[\"E\"] = 25\n",
    "\n",
    "heights = {}\n",
    "start, end = None, None\n",
    "\n",
    "for k, v in grid.items():\n",
    "    if v == \"S\":\n",
    "        start = k\n",
    "    if v == \"E\":\n",
    "        end = k\n",
    "    heights[k] = trans[v]\n",
    "\n",
    "\n",
    "def bfs(start, end, condition):\n",
    "    tocheck = deque([start])\n",
    "    seen = {start}\n",
    "    dis = 0\n",
    "\n",
    "    while tocheck:\n",
    "        for _ in range(len(tocheck)):\n",
    "            cur = tocheck.popleft()\n",
    "            for n in neigh[cur]:\n",
    "                if condition(cur, n) and n not in seen:\n",
    "                    if heights[n] == end:\n",
    "                        return dis + 1\n",
    "                    seen.add(n)\n",
    "                    tocheck.append(n)\n",
    "        dis += 1\n",
    "\n",
    "\n",
    "print(\n",
    "    bfs(start, 25, lambda x, y: heights[x] - heights[y] >= -1),\n",
    "    bfs(end, 0, lambda x, y: heights[x] - heights[y] <= 1),\n",
    ")"
   ]
  }
 ],
 "metadata": {
  "file_extension": ".py",
  "kernelspec": {
   "display_name": "Python 3.11.0 ('.aocenvpy311': venv)",
   "language": "python",
   "name": "python3"
  },
  "language_info": {
   "codemirror_mode": {
    "name": "ipython",
    "version": 3
   },
   "file_extension": ".py",
   "mimetype": "text/x-python",
   "name": "python",
   "nbconvert_exporter": "python",
   "pygments_lexer": "ipython3",
   "version": "3.11.0 (main, Oct 24 2022, 18:26:48) [MSC v.1933 64 bit (AMD64)]"
  },
  "mimetype": "text/x-python",
  "name": "python",
  "npconvert_exporter": "python",
  "orig_nbformat": 2,
  "pygments_lexer": "ipython3",
  "version": 3,
  "vscode": {
   "interpreter": {
    "hash": "7b5336723abeab741c71fcc933eb6e6f53a288e70399d841fc0756db1169ea34"
   }
  }
 },
 "nbformat": 4,
 "nbformat_minor": 2
}
