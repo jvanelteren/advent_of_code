{
 "cells": [
  {
   "cell_type": "code",
   "execution_count": 30,
   "metadata": {},
   "outputs": [
    {
     "name": "stdout",
     "output_type": "stream",
     "text": [
      "p1 1262\n",
      "p2 3444\n"
     ]
    }
   ],
   "source": [
    "from aocutils.common import zippify\n",
    "\n",
    "buffer = open('input.txt').read()\n",
    "\n",
    "for idx, x in enumerate(zippify(buffer, 4)):\n",
    "    if len(set(x)) == 4:\n",
    "        print('p1', idx + 4)\n",
    "        break\n",
    "    \n",
    "for idx, x in enumerate(zippify(buffer, 14)):\n",
    "    if len(set(x)) == 14:\n",
    "        print('p2', idx + 14)\n",
    "        break"
   ]
  }
 ],
 "metadata": {
  "file_extension": ".py",
  "kernelspec": {
   "display_name": "Python 3.11.0 ('.aocenvpy311': venv)",
   "language": "python",
   "name": "python3"
  },
  "language_info": {
   "codemirror_mode": {
    "name": "ipython",
    "version": 3
   },
   "file_extension": ".py",
   "mimetype": "text/x-python",
   "name": "python",
   "nbconvert_exporter": "python",
   "pygments_lexer": "ipython3",
   "version": "3.11.0"
  },
  "mimetype": "text/x-python",
  "name": "python",
  "npconvert_exporter": "python",
  "orig_nbformat": 2,
  "pygments_lexer": "ipython3",
  "version": 3,
  "vscode": {
   "interpreter": {
    "hash": "7b5336723abeab741c71fcc933eb6e6f53a288e70399d841fc0756db1169ea34"
   }
  }
 },
 "nbformat": 4,
 "nbformat_minor": 2
}
