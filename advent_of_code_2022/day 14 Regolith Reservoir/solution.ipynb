{
 "cells": [
  {
   "cell_type": "code",
   "execution_count": 46,
   "metadata": {},
   "outputs": [
    {
     "name": "stdout",
     "output_type": "stream",
     "text": [
      "p1 1199\n",
      "p2 23925\n"
     ]
    }
   ],
   "source": [
    "f = open(\"in.txt\").read().split(\"\\n\")\n",
    "lines = [line.split(\" -> \") for line in f]\n",
    "taken = set()\n",
    "for line in lines:\n",
    "    for x, y in zip(line, line[1:]):\n",
    "        c, r = x.split(\",\")\n",
    "        c2, r2 = y.split(\",\")\n",
    "        c, r, c2, r2 = int(c), int(r), int(c2), int(r2)\n",
    "        if r == r2:\n",
    "            for i in range(c, c2 + 1):\n",
    "                taken.add((r, i))\n",
    "            for i in range(c2, c + 1):\n",
    "                taken.add((r, i))\n",
    "        elif c == c2:\n",
    "            for i in range(r, r2 + 1):\n",
    "                taken.add((i, c))\n",
    "            for i in range(r2, r + 1):\n",
    "                taken.add((i, c))\n",
    "        else:\n",
    "            print(\"error\")\n",
    "\n",
    "bottom = max(r for r, c in taken)\n",
    "\n",
    "for i in range(-10000, 10000):\n",
    "    taken.add((bottom + 2, i))\n",
    "\n",
    "added = 0\n",
    "findfirst = True\n",
    "while True:\n",
    "    nr, nc = 0, 500\n",
    "    while True:\n",
    "        if nr > bottom and findfirst:\n",
    "            print(\"p1\", added)\n",
    "            findfirst = False\n",
    "        else:\n",
    "            nr += 1\n",
    "            if (nr, nc) not in taken:\n",
    "\n",
    "                continue\n",
    "            elif (nr, nc - 1) not in taken:\n",
    "                nc -= 1\n",
    "                continue\n",
    "            elif (nr, nc + 1) not in taken:\n",
    "                nc += 1\n",
    "                continue\n",
    "            else:\n",
    "                nr -= 1\n",
    "                break\n",
    "    taken.add((nr, nc))\n",
    "    added += 1\n",
    "    if nr == 0 and nc == 500:\n",
    "        break\n",
    "print(\"p2\", added)"
   ]
  }
 ],
 "metadata": {
  "file_extension": ".py",
  "kernelspec": {
   "display_name": "Python 3.11.0 ('.aocenvpy311': venv)",
   "language": "python",
   "name": "python3"
  },
  "language_info": {
   "codemirror_mode": {
    "name": "ipython",
    "version": 3
   },
   "file_extension": ".py",
   "mimetype": "text/x-python",
   "name": "python",
   "nbconvert_exporter": "python",
   "pygments_lexer": "ipython3",
   "version": "3.11.0"
  },
  "mimetype": "text/x-python",
  "name": "python",
  "npconvert_exporter": "python",
  "orig_nbformat": 2,
  "pygments_lexer": "ipython3",
  "version": 3,
  "vscode": {
   "interpreter": {
    "hash": "7b5336723abeab741c71fcc933eb6e6f53a288e70399d841fc0756db1169ea34"
   }
  }
 },
 "nbformat": 4,
 "nbformat_minor": 2
}
