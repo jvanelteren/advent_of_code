{
 "cells": [
  {
   "cell_type": "code",
   "execution_count": 1,
   "metadata": {},
   "outputs": [],
   "source": [
    "from dataclasses import dataclass\n",
    "from math import gcd, ceil\n",
    "import re\n",
    "from collections import Counter, defaultdict, namedtuple, deque\n",
    "from itertools import product, chain, combinations, combinations_with_replacement, permutations, accumulate, zip_longest\n",
    "import numpy as np\n",
    "from matplotlib import pyplot as plt\n",
    "import networkx as nx\n",
    "\n",
    "from aocutils.common import copy_func, patch_to, patch, to_int, ints, flatten, zippify, multidict, rev, data, quantify, atom, atoms, list_atoms, list_multiply, mapt\n",
    "from aocutils.grid import gridneigh, arr_to_dict, grid_to_dict, neighbors, arr_neighbors, iterate, Dim, dimensions, positive, manhattan, conv1d, conv2d, rotate\n",
    "from aocutils.maze import bfs, dijkstra, get_path, dfs\n",
    "from aocutils.math import gcd, factors, lcm, crt, mul_inv, Segment, lis, angle, all_combinations, all_permutations, mst\n",
    "from aocutils.special import md5, binarysearch, deduce_matches, find_specific_pattern, find_repeat, find_cycle, UnionFind, Octree, LazySegmentTree\n",
    "from aocutils.visuals import visualize_graph, labelize, animate_grid, plot\n",
    "from aocutils.cfg import CFG\n",
    "from aocutils.earley import State, Earley\n",
    "from aocutils.shunting import ShuntingYard"
   ]
  },
  {
   "cell_type": "code",
   "execution_count": 2,
   "metadata": {},
   "outputs": [
    {
     "data": {
      "text/plain": [
       "'This is day9'"
      ]
     },
     "execution_count": 2,
     "metadata": {},
     "output_type": "execute_result"
    }
   ],
   "source": [
    "f=open('input.txt').read().split('\\n')\n",
    "lines = [line for line in f]\n",
    "lines[0]\n"
   ]
  },
  {
   "cell_type": "code",
   "execution_count": null,
   "metadata": {},
   "outputs": [],
   "source": []
  },
  {
   "cell_type": "code",
   "execution_count": 5,
   "metadata": {},
   "outputs": [],
   "source": [
    "grid, neigh = gridneigh('input.txt', to_dict = True, parser=lambda x: [int(ch) for ch in x])\n"
   ]
  },
  {
   "cell_type": "code",
   "execution_count": null,
   "metadata": {},
   "outputs": [],
   "source": []
  },
  {
   "cell_type": "code",
   "execution_count": null,
   "metadata": {},
   "outputs": [
    {
     "ename": "ValueError",
     "evalue": "too many values to unpack (expected 2)",
     "output_type": "error",
     "traceback": [
      "\u001b[1;31m---------------------------------------------------------------------------\u001b[0m\n",
      "\u001b[1;31mValueError\u001b[0m                                Traceback (most recent call last)\n",
      "Cell \u001b[1;32mIn [4], line 8\u001b[0m\n",
      "\u001b[0;32m      6\u001b[0m         conn \u001b[39m=\u001b[39m [parser(line) \u001b[39mfor\u001b[39;00m line \u001b[39min\u001b[39;00m f]    \n",
      "\u001b[0;32m      7\u001b[0m     \u001b[39mreturn\u001b[39;00m multidict(conn)\n",
      "\u001b[1;32m----> 8\u001b[0m graphparse(\u001b[39m'\u001b[39;49m\u001b[39minput.txt\u001b[39;49m\u001b[39m'\u001b[39;49m, parser\u001b[39m=\u001b[39;49m\u001b[39mlambda\u001b[39;49;00m line: [x \u001b[39mfor\u001b[39;49;00m x \u001b[39min\u001b[39;49;00m line\u001b[39m.\u001b[39;49msplit()])\n",
      "\n",
      "Cell \u001b[1;32mIn [4], line 7\u001b[0m, in \u001b[0;36mgraphparse\u001b[1;34m(filename, parser)\u001b[0m\n",
      "\u001b[0;32m      5\u001b[0m \u001b[39melse\u001b[39;00m:\n",
      "\u001b[0;32m      6\u001b[0m     conn \u001b[39m=\u001b[39m [parser(line) \u001b[39mfor\u001b[39;00m line \u001b[39min\u001b[39;00m f]    \n",
      "\u001b[1;32m----> 7\u001b[0m \u001b[39mreturn\u001b[39;00m multidict(conn)\n",
      "\n",
      "File \u001b[1;32md:\\programmeren\\aocutils\\aocutils\\common.py:123\u001b[0m, in \u001b[0;36mmultidict\u001b[1;34m(items, both)\u001b[0m\n",
      "\u001b[0;32m    121\u001b[0m \u001b[39m\"\u001b[39m\u001b[39mGiven (key, val) pairs, return \u001b[39m\u001b[39m{\u001b[39m\u001b[39mkey: [val, ....], ...}.\u001b[39m\u001b[39m\"\u001b[39m\n",
      "\u001b[0;32m    122\u001b[0m result \u001b[39m=\u001b[39m defaultdict(\u001b[39mlist\u001b[39m)\n",
      "\u001b[1;32m--> 123\u001b[0m \u001b[39mfor\u001b[39;00m key, val \u001b[39min\u001b[39;00m items:\n",
      "\u001b[0;32m    124\u001b[0m     result[key]\u001b[39m.\u001b[39mappend(val)\n",
      "\u001b[0;32m    125\u001b[0m     \u001b[39mif\u001b[39;00m both:\n",
      "\n",
      "\u001b[1;31mValueError\u001b[0m: too many values to unpack (expected 2)"
     ]
    }
   ],
   "source": [
    "def graphparse(filename, parser=None):\n",
    "    f = open(filename, 'r').read().splitlines()\n",
    "    if not parser:\n",
    "        conn = [(line.split()) for line in f]\n",
    "    else:\n",
    "        conn = [parser(line) for line in f]    \n",
    "    return multidict(conn)\n",
    "graphparse('input.txt', parser=lambda line: [x for x in line.split()])"
   ]
  }
 ],
 "metadata": {
  "file_extension": ".py",
  "kernelspec": {
   "display_name": "Python 3.11.0 ('.aocenvpy311': venv)",
   "language": "python",
   "name": "python3"
  },
  "language_info": {
   "codemirror_mode": {
    "name": "ipython",
    "version": 3
   },
   "file_extension": ".py",
   "mimetype": "text/x-python",
   "name": "python",
   "nbconvert_exporter": "python",
   "pygments_lexer": "ipython3",
   "version": "3.11.0"
  },
  "mimetype": "text/x-python",
  "name": "python",
  "npconvert_exporter": "python",
  "orig_nbformat": 2,
  "pygments_lexer": "ipython3",
  "version": 3,
  "vscode": {
   "interpreter": {
    "hash": "7b5336723abeab741c71fcc933eb6e6f53a288e70399d841fc0756db1169ea34"
   }
  }
 },
 "nbformat": 4,
 "nbformat_minor": 2
}
