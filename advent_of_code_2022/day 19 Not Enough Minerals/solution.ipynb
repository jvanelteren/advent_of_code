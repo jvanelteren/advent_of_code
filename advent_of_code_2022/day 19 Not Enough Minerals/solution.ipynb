{
 "cells": [
  {
   "cell_type": "code",
   "execution_count": 1,
   "metadata": {},
   "outputs": [],
   "source": [
    "from functools import cache\n",
    "from collections import defaultdict\n",
    "from aocutils.common import ints\n",
    "\n",
    "lines = open(\"in.txt\").read().split(\"\\n\")\n",
    "costs = {}\n",
    "for line in lines:\n",
    "    blue, ore, clay, obs1, obs2, geo1, geo2 = ints(line)\n",
    "    costs[blue] = ((ore,0,0,0),(clay,0,0,0),(obs1, obs2, 0,0),(geo1,0,geo2,0))"
   ]
  },
  {
   "cell_type": "code",
   "execution_count": 5,
   "metadata": {},
   "outputs": [
    {
     "data": {
      "text/plain": [
       "defaultdict(int, {1: 30})"
      ]
     },
     "execution_count": 5,
     "metadata": {},
     "output_type": "execute_result"
    }
   ],
   "source": [
    "best = defaultdict(int)\n",
    "@cache\n",
    "def dfs(time, materials, workingrobots, robotcosts, blue):\n",
    "    global best,seen\n",
    "\n",
    "    if time == 33:\n",
    "        # print('end', materials[-1])\n",
    "        best[blue] = max(best[blue], materials[-1])\n",
    "    else:\n",
    "        score = workingrobots[2] * workingrobots[3] * 10\n",
    "        if time in seen:\n",
    "            if score < seen[time]:\n",
    "                return\n",
    "        seen[time] = score\n",
    "        \n",
    "        if any(w > m for w,m in zip(workingrobots, maxxcost)):\n",
    "            return\n",
    "        \n",
    "        \n",
    "        \n",
    "        \n",
    "        \n",
    "        options = {(0,0,0,0)}\n",
    "        for idx in range(3,-1,-1):\n",
    "            # if time >21 and idx == 0:\n",
    "            #     continue\n",
    "            # if time >25 and idx <= 1:\n",
    "            #     continue\n",
    "            # if time >30 and idx <= 2:\n",
    "            #     continue\n",
    "            cost = robotcosts[idx]\n",
    "        # for idx, cost in enumerate(robotcosts):\n",
    "            if all([x - y >= 0 for x,y in zip(materials, cost)]):\n",
    "                \n",
    "                newmaterials = [x - y for x,y in zip(materials, cost)]\n",
    "                newmaterials = [x + y for x,y in zip(newmaterials, workingrobots)]\n",
    "                newworkingrobots = list(workingrobots)\n",
    "                newworkingrobots[idx] += 1\n",
    "                dfs(time+1, tuple(newmaterials), tuple(newworkingrobots), robotcosts,blue)\n",
    "                if idx == 3:\n",
    "                    return\n",
    "                \n",
    "        newmaterials = [x + y for x,y in zip(materials, workingrobots)]\n",
    "        # if time < 30:\n",
    "        dfs(time+1, tuple(newmaterials), tuple(workingrobots), robotcosts,blue)\n",
    "\n",
    "for blue, c in costs.items():\n",
    "    if blue == 1:\n",
    "        seen = defaultdict(int)\n",
    "        maxxcost = [max(robo[i] for robo in c) for i in range(3)]\n",
    "        dfs(1,(0,0,0,0),(1,0,0,0),tuple(c),blue)\n",
    "best"
   ]
  },
  {
   "cell_type": "code",
   "execution_count": null,
   "metadata": {},
   "outputs": [],
   "source": [
    "blue 1 (always made geode or obs if possible, with minimal seen pruning) 1,30 min. with more aggro pruning 2Without stopping after making obs and geo XX. With stopping after making geo 9\n",
    "blue 2 (always made geode or obs if possible, with minimal seen pruning) 1,15 min. with more aggro pruning 16 Without stopping after making obs and geo XX. With stopping after making geo 2:40\n",
    "blue 3 (always made geode or obs if possible, with minimal seen pruning) 1,59 min with more aggro pruning 5. Without stopping after making obs and geo 24. With stopping after making geo 26"
   ]
  },
  {
   "cell_type": "code",
   "execution_count": 141,
   "metadata": {},
   "outputs": [
    {
     "data": {
      "text/plain": [
       "2040"
      ]
     },
     "execution_count": 141,
     "metadata": {},
     "output_type": "execute_result"
    }
   ],
   "source": [
    "30*4*17 = CORRECT"
   ]
  },
  {
   "cell_type": "code",
   "execution_count": null,
   "metadata": {},
   "outputs": [],
   "source": [
    "16 20 24 --> (defaultdict(int, {1: 29, 2: 4, 3: 16}), 1856) too low\n",
    "20 24 28 --> (defaultdict(int, {1: 29, 2: 4, 3: 16}), 1856)"
   ]
  },
  {
   "cell_type": "code",
   "execution_count": 8,
   "metadata": {},
   "outputs": [
    {
     "ename": "KeyboardInterrupt",
     "evalue": "",
     "output_type": "error",
     "traceback": [
      "\u001b[1;31m---------------------------------------------------------------------------\u001b[0m",
      "\u001b[1;31mKeyboardInterrupt\u001b[0m                         Traceback (most recent call last)",
      "Cell \u001b[1;32mIn [8], line 58\u001b[0m\n\u001b[0;32m     55\u001b[0m     seen \u001b[39m=\u001b[39m defaultdict(\u001b[39mint\u001b[39m)\n\u001b[0;32m     56\u001b[0m     maxxcost \u001b[39m=\u001b[39m [\u001b[39mmax\u001b[39m(robo[i] \u001b[39mfor\u001b[39;00m robo \u001b[39min\u001b[39;00m c) \u001b[39mfor\u001b[39;00m i \u001b[39min\u001b[39;00m \u001b[39mrange\u001b[39m(\u001b[39m3\u001b[39m)]\n\u001b[1;32m---> 58\u001b[0m     dfs(\u001b[39m1\u001b[39;49m,(\u001b[39m0\u001b[39;49m,\u001b[39m0\u001b[39;49m,\u001b[39m0\u001b[39;49m,\u001b[39m0\u001b[39;49m),(\u001b[39m1\u001b[39;49m,\u001b[39m0\u001b[39;49m,\u001b[39m0\u001b[39;49m,\u001b[39m0\u001b[39;49m),\u001b[39mtuple\u001b[39;49m(c),blue)\n\u001b[0;32m     59\u001b[0m \u001b[39msum\u001b[39m(k\u001b[39m*\u001b[39mv \u001b[39mfor\u001b[39;00m k,v \u001b[39min\u001b[39;00m best\u001b[39m.\u001b[39mitems())\n",
      "Cell \u001b[1;32mIn [8], line 52\u001b[0m, in \u001b[0;36mdfs\u001b[1;34m(time, materials, workingrobots, robotcosts, blue)\u001b[0m\n\u001b[0;32m     47\u001b[0m             \u001b[39mreturn\u001b[39;00m\n\u001b[0;32m     51\u001b[0m newmaterials \u001b[39m=\u001b[39m [x \u001b[39m+\u001b[39m y \u001b[39mfor\u001b[39;00m x,y \u001b[39min\u001b[39;00m \u001b[39mzip\u001b[39m(materials, workingrobots)]\n\u001b[1;32m---> 52\u001b[0m dfs(time\u001b[39m+\u001b[39;49m\u001b[39m1\u001b[39;49m, \u001b[39mtuple\u001b[39;49m(newmaterials), \u001b[39mtuple\u001b[39;49m(workingrobots), robotcosts,blue)\n",
      "Cell \u001b[1;32mIn [8], line 52\u001b[0m, in \u001b[0;36mdfs\u001b[1;34m(time, materials, workingrobots, robotcosts, blue)\u001b[0m\n\u001b[0;32m     47\u001b[0m             \u001b[39mreturn\u001b[39;00m\n\u001b[0;32m     51\u001b[0m newmaterials \u001b[39m=\u001b[39m [x \u001b[39m+\u001b[39m y \u001b[39mfor\u001b[39;00m x,y \u001b[39min\u001b[39;00m \u001b[39mzip\u001b[39m(materials, workingrobots)]\n\u001b[1;32m---> 52\u001b[0m dfs(time\u001b[39m+\u001b[39;49m\u001b[39m1\u001b[39;49m, \u001b[39mtuple\u001b[39;49m(newmaterials), \u001b[39mtuple\u001b[39;49m(workingrobots), robotcosts,blue)\n",
      "    \u001b[1;31m[... skipping similar frames: dfs at line 52 (1 times)]\u001b[0m\n",
      "Cell \u001b[1;32mIn [8], line 45\u001b[0m, in \u001b[0;36mdfs\u001b[1;34m(time, materials, workingrobots, robotcosts, blue)\u001b[0m\n\u001b[0;32m     43\u001b[0m newworkingrobots \u001b[39m=\u001b[39m \u001b[39mlist\u001b[39m(workingrobots)\n\u001b[0;32m     44\u001b[0m newworkingrobots[idx] \u001b[39m+\u001b[39m\u001b[39m=\u001b[39m \u001b[39m1\u001b[39m\n\u001b[1;32m---> 45\u001b[0m dfs(time\u001b[39m+\u001b[39;49m\u001b[39m1\u001b[39;49m, \u001b[39mtuple\u001b[39;49m(newmaterials), \u001b[39mtuple\u001b[39;49m(newworkingrobots), robotcosts,blue)\n\u001b[0;32m     46\u001b[0m \u001b[39mif\u001b[39;00m idx \u001b[39m==\u001b[39m \u001b[39m3\u001b[39m:\n\u001b[0;32m     47\u001b[0m     \u001b[39mreturn\u001b[39;00m\n",
      "    \u001b[1;31m[... skipping similar frames: dfs at line 52 (3 times)]\u001b[0m\n",
      "Cell \u001b[1;32mIn [8], line 45\u001b[0m, in \u001b[0;36mdfs\u001b[1;34m(time, materials, workingrobots, robotcosts, blue)\u001b[0m\n\u001b[0;32m     43\u001b[0m newworkingrobots \u001b[39m=\u001b[39m \u001b[39mlist\u001b[39m(workingrobots)\n\u001b[0;32m     44\u001b[0m newworkingrobots[idx] \u001b[39m+\u001b[39m\u001b[39m=\u001b[39m \u001b[39m1\u001b[39m\n\u001b[1;32m---> 45\u001b[0m dfs(time\u001b[39m+\u001b[39;49m\u001b[39m1\u001b[39;49m, \u001b[39mtuple\u001b[39;49m(newmaterials), \u001b[39mtuple\u001b[39;49m(newworkingrobots), robotcosts,blue)\n\u001b[0;32m     46\u001b[0m \u001b[39mif\u001b[39;00m idx \u001b[39m==\u001b[39m \u001b[39m3\u001b[39m:\n\u001b[0;32m     47\u001b[0m     \u001b[39mreturn\u001b[39;00m\n",
      "    \u001b[1;31m[... skipping similar frames: dfs at line 45 (7 times), dfs at line 52 (5 times)]\u001b[0m\n",
      "Cell \u001b[1;32mIn [8], line 52\u001b[0m, in \u001b[0;36mdfs\u001b[1;34m(time, materials, workingrobots, robotcosts, blue)\u001b[0m\n\u001b[0;32m     47\u001b[0m             \u001b[39mreturn\u001b[39;00m\n\u001b[0;32m     51\u001b[0m newmaterials \u001b[39m=\u001b[39m [x \u001b[39m+\u001b[39m y \u001b[39mfor\u001b[39;00m x,y \u001b[39min\u001b[39;00m \u001b[39mzip\u001b[39m(materials, workingrobots)]\n\u001b[1;32m---> 52\u001b[0m dfs(time\u001b[39m+\u001b[39;49m\u001b[39m1\u001b[39;49m, \u001b[39mtuple\u001b[39;49m(newmaterials), \u001b[39mtuple\u001b[39;49m(workingrobots), robotcosts,blue)\n",
      "    \u001b[1;31m[... skipping similar frames: dfs at line 45 (1 times)]\u001b[0m\n",
      "Cell \u001b[1;32mIn [8], line 45\u001b[0m, in \u001b[0;36mdfs\u001b[1;34m(time, materials, workingrobots, robotcosts, blue)\u001b[0m\n\u001b[0;32m     43\u001b[0m newworkingrobots \u001b[39m=\u001b[39m \u001b[39mlist\u001b[39m(workingrobots)\n\u001b[0;32m     44\u001b[0m newworkingrobots[idx] \u001b[39m+\u001b[39m\u001b[39m=\u001b[39m \u001b[39m1\u001b[39m\n\u001b[1;32m---> 45\u001b[0m dfs(time\u001b[39m+\u001b[39;49m\u001b[39m1\u001b[39;49m, \u001b[39mtuple\u001b[39;49m(newmaterials), \u001b[39mtuple\u001b[39;49m(newworkingrobots), robotcosts,blue)\n\u001b[0;32m     46\u001b[0m \u001b[39mif\u001b[39;00m idx \u001b[39m==\u001b[39m \u001b[39m3\u001b[39m:\n\u001b[0;32m     47\u001b[0m     \u001b[39mreturn\u001b[39;00m\n",
      "Cell \u001b[1;32mIn [8], line 40\u001b[0m, in \u001b[0;36mdfs\u001b[1;34m(time, materials, workingrobots, robotcosts, blue)\u001b[0m\n\u001b[0;32m     38\u001b[0m     cost \u001b[39m=\u001b[39m robotcosts[idx]\n\u001b[0;32m     39\u001b[0m \u001b[39m# for idx, cost in enumerate(robotcosts):\u001b[39;00m\n\u001b[1;32m---> 40\u001b[0m     \u001b[39mif\u001b[39;00m \u001b[39mall\u001b[39m([x \u001b[39m-\u001b[39;49m y \u001b[39m>\u001b[39;49m\u001b[39m=\u001b[39;49m \u001b[39m0\u001b[39;49m \u001b[39mfor\u001b[39;49;00m x,y \u001b[39min\u001b[39;49;00m \u001b[39mzip\u001b[39;49m(materials, cost)]):\n\u001b[0;32m     41\u001b[0m         newmaterials \u001b[39m=\u001b[39m [x \u001b[39m-\u001b[39m y \u001b[39mfor\u001b[39;00m x,y \u001b[39min\u001b[39;00m \u001b[39mzip\u001b[39m(materials, cost)]\n\u001b[0;32m     42\u001b[0m         newmaterials \u001b[39m=\u001b[39m [x \u001b[39m+\u001b[39m y \u001b[39mfor\u001b[39;00m x,y \u001b[39min\u001b[39;00m \u001b[39mzip\u001b[39m(newmaterials, workingrobots)]\n",
      "Cell \u001b[1;32mIn [8], line 40\u001b[0m, in \u001b[0;36m<listcomp>\u001b[1;34m(.0)\u001b[0m\n\u001b[0;32m     38\u001b[0m     cost \u001b[39m=\u001b[39m robotcosts[idx]\n\u001b[0;32m     39\u001b[0m \u001b[39m# for idx, cost in enumerate(robotcosts):\u001b[39;00m\n\u001b[1;32m---> 40\u001b[0m     \u001b[39mif\u001b[39;00m \u001b[39mall\u001b[39m([x \u001b[39m-\u001b[39m y \u001b[39m>\u001b[39m\u001b[39m=\u001b[39m \u001b[39m0\u001b[39m \u001b[39mfor\u001b[39;00m x,y \u001b[39min\u001b[39;00m \u001b[39mzip\u001b[39m(materials, cost)]):\n\u001b[0;32m     41\u001b[0m         newmaterials \u001b[39m=\u001b[39m [x \u001b[39m-\u001b[39m y \u001b[39mfor\u001b[39;00m x,y \u001b[39min\u001b[39;00m \u001b[39mzip\u001b[39m(materials, cost)]\n\u001b[0;32m     42\u001b[0m         newmaterials \u001b[39m=\u001b[39m [x \u001b[39m+\u001b[39m y \u001b[39mfor\u001b[39;00m x,y \u001b[39min\u001b[39;00m \u001b[39mzip\u001b[39m(newmaterials, workingrobots)]\n",
      "\u001b[1;31mKeyboardInterrupt\u001b[0m: "
     ]
    }
   ],
   "source": [
    "best = defaultdict(int)\n",
    "from functools import cache\n",
    "# @cache\n",
    "def dfs(time, materials, workingrobots, robotcosts, blue):\n",
    "    global best,seen\n",
    "    if time == 25:\n",
    "        best[blue] = max(best[blue], materials[-1])\n",
    "    else:\n",
    "        if time in seen:\n",
    "            if workingrobots[3] < seen[time]:\n",
    "                return\n",
    "        seen[time] = workingrobots[3]\n",
    "        \n",
    "        if any(w > m for w,m in zip(workingrobots, maxxcost)):\n",
    "            return\n",
    "        \n",
    "        options = {(0,0,0,0)}\n",
    "        for idx in range(3,-1,-1):\n",
    "            cost = robotcosts[idx]\n",
    "        # for idx, cost in enumerate(robotcosts):\n",
    "            if all([x - y >= 0 for x,y in zip(materials, cost)]):\n",
    "                newmaterials = [x - y for x,y in zip(materials, cost)]\n",
    "                newmaterials = [x + y for x,y in zip(newmaterials, workingrobots)]\n",
    "                newworkingrobots = list(workingrobots)\n",
    "                newworkingrobots[idx] += 1\n",
    "                dfs(time+1, tuple(newmaterials), tuple(newworkingrobots), robotcosts,blue)\n",
    "                if idx == 3:\n",
    "                    return\n",
    "        newmaterials = [x + y for x,y in zip(materials, workingrobots)]\n",
    "        dfs(time+1, tuple(newmaterials), tuple(workingrobots), robotcosts,blue)\n",
    "\n",
    "for blue, c in costs.items():\n",
    "    seen = defaultdict(int)\n",
    "    maxxcost = [max(robo[i] for robo in c) for i in range(3)]\n",
    "    dfs(1,(0,0,0,0),(1,0,0,0),tuple(c),blue)\n",
    "sum(k*v for k,v in best.items())"
   ]
  },
  {
   "cell_type": "code",
   "execution_count": 81,
   "metadata": {},
   "outputs": [
    {
     "name": "stdout",
     "output_type": "stream",
     "text": [
      "8\n",
      "10\n"
     ]
    }
   ],
   "source": [
    "res = defaultdict(set)\n",
    "\n",
    "for blue, robotcosts in costs.items():\n",
    "    # if blue == 1:\n",
    "    for comb in product((0,1,2,3,4,5,6,7,8,9,10,11,12), repeat = 4):\n",
    "        tobuild = list(comb)\n",
    "        \n",
    "        materials = [0,0,0,0]\n",
    "        # tobuild = [0,4,2,2]\n",
    "        workingrobots = [1,0,0,0]\n",
    "        minutes = 24\n",
    "        for i in range(1,minutes+1):\n",
    "            # print('min', i)\n",
    "            adding = [0,0,0,0]\n",
    "            \n",
    "            for idx in range(3,-1,-1):\n",
    "                cost = robotcosts[idx]\n",
    "                \n",
    "                if tobuild[idx] > 0:\n",
    "                    if all([x - y >= 0 for x,y in zip(materials, cost)]):\n",
    "                        # print('   building bot',idx)\n",
    "                        materials = [x - y for x,y in zip(materials, cost)]\n",
    "                        adding[idx] += 1\n",
    "                        tobuild[idx] -= 1\n",
    "                        break\n",
    "            materials = [x + y for x,y in zip(materials, workingrobots)]\n",
    "            workingrobots = [x + y for x,y in zip(adding, workingrobots)]\n",
    "            # print('   newmaterials', i, materials)\n",
    "            # print('   newbots', workingrobots)\n",
    "            \n",
    "        res[blue].add(materials[-1])\n",
    "for k,v in res.items():\n",
    "    print(max(v))\n",
    "    "
   ]
  },
  {
   "cell_type": "code",
   "execution_count": null,
   "metadata": {},
   "outputs": [],
   "source": [
    "\n",
    "    \n",
    "            \n",
    "    \n",
    "    \n",
    "    \n",
    "\n",
    "def buyhold(robotcosts, materials, workingrobots):\n",
    "    # deze tijd kan oneindig zijn. Je kan aan de bottleneck gaan werken door obs te maken\n",
    "    days = [daysuntil(robotcosts[i], materials, workingrobots) for i in range(4)]\n",
    "    timeuntil = [ceil(max(d)) for d in days]\n",
    "    materialsafterbuy = [materialafterbuy(i, materials, robotcosts[i]) for i in range(4)]\n",
    "    newrobots = [buyrobot(i, workingrobots) for i in range(4)]\n",
    "\n",
    "    if timeuntil[3] <= 0: \n",
    "        return 3\n",
    "    else:\n",
    "        # deze tijd kan oneindig zijn. Je kan aan de bottleneck gaan werken door clay te maken\n",
    "        if timeuntil[2] <= 0:\n",
    "            if ceil(max(daysuntil(robotcosts[3], materialsafterbuy[2], newrobots[2]))) <= timeuntil[3]:\n",
    "                return 2\n",
    "            else:\n",
    "                return False\n",
    "            \n",
    "        else: # cant buy obs yet, now we have 3 options: buy clay, buy ore or wait\n",
    "            options = [float('inf')] * 3\n",
    "            if timeuntil[1] <= 0:\n",
    "            if timeuntil[0] <= 0:\n",
    "            \n",
    "                \n",
    "            \n",
    "\n",
    "\n",
    "            \n",
    "        \n",
    "    \n",
    "    # deze tijd is nooit oneindig. Je kan het niet doen, maar dan gelden de dagen zoals hierboven beschreven.\n",
    "    # je kan ook wel investeren, dan wordt material lager (m-costs-1), maar w hoger *(w+1)\n",
    "    \n",
    "    # een andere keuze is om in ore te investeren. Daar geldt hetzelfde voor als voor klei\n",
    "    timeneededforgeode = daysuntil(robotcosts[0], materials, workingrobots)\n",
    "    \n",
    "    "
   ]
  },
  {
   "cell_type": "code",
   "execution_count": 1,
   "metadata": {},
   "outputs": [
    {
     "ename": "",
     "evalue": "",
     "output_type": "error",
     "traceback": [
      "\u001b[1;31mCanceled future for execute_request message before replies were done"
     ]
    },
    {
     "ename": "",
     "evalue": "",
     "output_type": "error",
     "traceback": [
      "\u001b[1;31mThe Kernel crashed while executing code in the the current cell or a previous cell. Please review the code in the cell(s) to identify a possible cause of the failure. Click <a href='https://aka.ms/vscodeJupyterKernelCrash'>here</a> for more info. View Jupyter <a href='command:jupyter.viewOutput'>log</a> for further details."
     ]
    }
   ],
   "source": [
    "from math import ceil\n",
    "from functools import cache\n",
    "from collections import defaultdict\n",
    "from aocutils.common import ints\n",
    "\n",
    "lines = open(\"in.txt\").read().split(\"\\n\")\n",
    "costs = {}\n",
    "for line in lines:\n",
    "    blue, ore, clay, obs1, obs2, geo1, geo2 = ints(line)\n",
    "    costs[blue] = ((ore,0,0,0),(clay,0,0,0),(obs1, obs2, 0,0),(geo1,0,geo2,0))\n",
    "    \n",
    "daysuntil = lambda robotcost, materials, workingrobots: tuple([(c-m)/w if w else 100000 for c, m, w in zip(robotcost, materials, workingrobots) if c])\n",
    "materialafterbuy = lambda idx, robotcost, materials: tuple([m - c if idx != i else m - c - 1 for i, (m, c) in enumerate(zip(materials, robotcost))])\n",
    "buyrobot = lambda idx, robots: tuple([r +1 if idx==i else r for i, r in enumerate(robots)])\n",
    "\n",
    "\n",
    "@cache\n",
    "def timeforgeo(robotcosts, materials, workingrobots):\n",
    "    if t > 25:\n",
    "        return 1000000\n",
    "    print('hi')\n",
    "    days = [daysuntil(robotcosts[i], materials, workingrobots) for i in range(4)]\n",
    "    timeuntil = [ceil(max(d)) for d in days]\n",
    "    materialsafterbuy = [materialafterbuy(i, materials, robotcosts[i]) for i in range(4)]\n",
    "    newrobots = [buyrobot(i, workingrobots) for i in range(4)]\n",
    "    # option 1 do nothing\n",
    "    if timeuntil[3] < 0:\n",
    "        return 0\n",
    "    # effect of doing nothing\n",
    "    best = []\n",
    "    if timeuntil[2] < 0:\n",
    "        t = 1 + timeforgeo(robotcosts, materialsafterbuy[2], newrobots[2])\n",
    "        best.append((t,2))\n",
    "    if timeuntil[1] < 0:\n",
    "        t = 1 + timeforgeo(robotcosts, materialsafterbuy[1], newrobots[1])\n",
    "        best.append((t,1))\n",
    "    if timeuntil[0] < 0:\n",
    "        t = 1 + timeforgeo(robotcosts, materialsafterbuy[0], newrobots[0])\n",
    "        best.append((t,0))\n",
    "    t = 1 + timeforgeo(robotcosts, tuple([m+w for m, w in zip(materials, workingrobots)]), workingrobots)\n",
    "    best.append((t, -1))\n",
    "    best.sort(key= lambda x: (x[0],-x[1]))\n",
    "    print(best)\n",
    "    return best[0][1]\n",
    "    \n",
    "from itertools import product\n",
    "res = defaultdict(set)\n",
    "\n",
    "for blue, robotcosts in costs.items():\n",
    "    if blue == 1:\n",
    "        materials = [0,0,0,0]\n",
    "        workingrobots = [1,0,0,0]\n",
    "        minutes = 24\n",
    "        for i in range(1,minutes+1):\n",
    "            idxtobuild = timeforgeo(robotcosts, tuple(materials), tuple(workingrobots))\n",
    "            if idxtobuild >= 0:   \n",
    "                materials = [x - y for x,y in zip(materials, robotcosts[idxtobuild])]\n",
    "            materials = [x + y for x,y in zip(materials, workingrobots)]\n",
    "            if idxtobuild:\n",
    "                workingrobots[idxtobuild] += 1\n",
    "        res[blue].add(materials[-1])\n",
    "# for k,v in res.items():\n",
    "#     print(max(v))\n",
    "    "
   ]
  },
  {
   "cell_type": "code",
   "execution_count": null,
   "metadata": {},
   "outputs": [],
   "source": []
  }
 ],
 "metadata": {
  "file_extension": ".py",
  "kernelspec": {
   "display_name": "Python 3.11.0 ('.aocenvpy311': venv)",
   "language": "python",
   "name": "python3"
  },
  "language_info": {
   "codemirror_mode": {
    "name": "ipython",
    "version": 3
   },
   "file_extension": ".py",
   "mimetype": "text/x-python",
   "name": "python",
   "nbconvert_exporter": "python",
   "pygments_lexer": "ipython3",
   "version": "3.11.0 (main, Oct 24 2022, 18:26:48) [MSC v.1933 64 bit (AMD64)]"
  },
  "mimetype": "text/x-python",
  "name": "python",
  "npconvert_exporter": "python",
  "orig_nbformat": 2,
  "pygments_lexer": "ipython3",
  "version": 3,
  "vscode": {
   "interpreter": {
    "hash": "7b5336723abeab741c71fcc933eb6e6f53a288e70399d841fc0756db1169ea34"
   }
  }
 },
 "nbformat": 4,
 "nbformat_minor": 2
}
