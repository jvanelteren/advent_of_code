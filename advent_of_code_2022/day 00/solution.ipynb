{
 "cells": [
  {
   "cell_type": "code",
   "execution_count": 1,
   "metadata": {},
   "outputs": [
    {
     "ename": "ModuleNotFoundError",
     "evalue": "No module named 'aocutils'",
     "output_type": "error",
     "traceback": [
      "\u001b[1;31m---------------------------------------------------------------------------\u001b[0m",
      "\u001b[1;31mModuleNotFoundError\u001b[0m                       Traceback (most recent call last)",
      "\u001b[1;32md:\\Programmeren\\adventofcode\\advent_of_code_2022\\day 00\\solution.ipynb Cell 1\u001b[0m in \u001b[0;36m<cell line: 11>\u001b[1;34m()\u001b[0m\n\u001b[0;32m      <a href='vscode-notebook-cell:/d%3A/Programmeren/adventofcode/advent_of_code_2022/day%2000/solution.ipynb#W0sZmlsZQ%3D%3D?line=7'>8</a>\u001b[0m \u001b[39m# plt.imshow(pic)\u001b[39;00m\n\u001b[0;32m      <a href='vscode-notebook-cell:/d%3A/Programmeren/adventofcode/advent_of_code_2022/day%2000/solution.ipynb#W0sZmlsZQ%3D%3D?line=8'>9</a>\u001b[0m \u001b[39mfrom\u001b[39;00m \u001b[39mfunctools\u001b[39;00m    \u001b[39mimport\u001b[39;00m cache\n\u001b[1;32m---> <a href='vscode-notebook-cell:/d%3A/Programmeren/adventofcode/advent_of_code_2022/day%2000/solution.ipynb#W0sZmlsZQ%3D%3D?line=10'>11</a>\u001b[0m \u001b[39mfrom\u001b[39;00m \u001b[39maocutils\u001b[39;00m\u001b[39m.\u001b[39;00m\u001b[39mcommon\u001b[39;00m \u001b[39mimport\u001b[39;00m to_int, flatten, reverse_dict, zippify, list_multiply, ints\n\u001b[0;32m     <a href='vscode-notebook-cell:/d%3A/Programmeren/adventofcode/advent_of_code_2022/day%2000/solution.ipynb#W0sZmlsZQ%3D%3D?line=11'>12</a>\u001b[0m \u001b[39mfrom\u001b[39;00m \u001b[39maocutils\u001b[39;00m\u001b[39m.\u001b[39;00m\u001b[39mgrid\u001b[39;00m \u001b[39mimport\u001b[39;00m iterate, arr_to_dict, grid_to_dict, neighbors, arr_neighbors, dimensions, manhattan, positive, conv1d, conv2d\n\u001b[0;32m     <a href='vscode-notebook-cell:/d%3A/Programmeren/adventofcode/advent_of_code_2022/day%2000/solution.ipynb#W0sZmlsZQ%3D%3D?line=12'>13</a>\u001b[0m \u001b[39mfrom\u001b[39;00m \u001b[39maocutils\u001b[39;00m\u001b[39m.\u001b[39;00m\u001b[39mmaze\u001b[39;00m \u001b[39mimport\u001b[39;00m bfs, dijkstra, get_path, dfs\n",
      "\u001b[1;31mModuleNotFoundError\u001b[0m: No module named 'aocutils'"
     ]
    }
   ],
   "source": [
    "import numpy as np\n",
    "from collections import Counter, defaultdict, namedtuple\n",
    "from math import gcd, ceil\n",
    "import re\n",
    "import networkx as nx\n",
    "from dataclasses import dataclass\n",
    "from matplotlib import pyplot as plt\n",
    "# plt.imshow(pic)\n",
    "from functools    import cache\n",
    "\n",
    "from aocutils.common import to_int, flatten, reverse_dict, zippify, list_multiply, ints\n",
    "from aocutils.grid import iterate, arr_to_dict, grid_to_dict, neighbors, arr_neighbors, dimensions, manhattan, positive, conv1d, conv2d\n",
    "from aocutils.maze import bfs, dijkstra, get_path, dfs\n",
    "from aocutils.math import lcm, gcd, factors, mul_inv\n",
    "from aocutils.special import find_pattern_in_iter, find_repeat, find_cycle, md5, CFG, ShuntingYard, binarysearch, deduce_matches\n",
    "from aocutils.visuals import visualize_graph, labelize, cat, animate_grid"
   ]
  },
  {
   "cell_type": "code",
   "execution_count": 2,
   "metadata": {},
   "outputs": [],
   "source": [
    "lines = open('input.txt').read().splitlines()\n",
    "lines = [to_int(line.split()) for line in lines]\n"
   ]
  },
  {
   "cell_type": "code",
   "execution_count": null,
   "metadata": {},
   "outputs": [],
   "source": []
  },
  {
   "cell_type": "code",
   "execution_count": null,
   "metadata": {},
   "outputs": [],
   "source": []
  },
  {
   "cell_type": "code",
   "execution_count": null,
   "metadata": {},
   "outputs": [],
   "source": []
  },
  {
   "cell_type": "code",
   "execution_count": null,
   "metadata": {},
   "outputs": [],
   "source": []
  }
 ],
 "metadata": {
  "file_extension": ".py",
  "kernelspec": {
   "display_name": "Python 3.10.0 ('.aocenv')",
   "language": "python",
   "name": "python3"
  },
  "language_info": {
   "codemirror_mode": {
    "name": "ipython",
    "version": 3
   },
   "file_extension": ".py",
   "mimetype": "text/x-python",
   "name": "python",
   "nbconvert_exporter": "python",
   "pygments_lexer": "ipython3",
   "version": "3.10.0"
  },
  "mimetype": "text/x-python",
  "name": "python",
  "npconvert_exporter": "python",
  "orig_nbformat": 2,
  "pygments_lexer": "ipython3",
  "version": 3,
  "vscode": {
   "interpreter": {
    "hash": "a292fecb04ead1807198b22395dbb599f43710a25b8e4823a30fedd04cdfd0f2"
   }
  }
 },
 "nbformat": 4,
 "nbformat_minor": 2
}
