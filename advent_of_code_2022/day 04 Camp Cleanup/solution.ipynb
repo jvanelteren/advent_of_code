{
 "cells": [
  {
   "cell_type": "code",
   "execution_count": 37,
   "metadata": {},
   "outputs": [
    {
     "data": {
      "text/plain": [
       "(456, 808)"
      ]
     },
     "execution_count": 37,
     "metadata": {},
     "output_type": "execute_result"
    }
   ],
   "source": [
    "f=open('input.txt').read().split('\\n')\n",
    "lines = [line.split(',') for line in f]\n",
    "p1, p2 = 0, 0\n",
    "for x,y in lines:\n",
    "    x1, x2 = map(int, x.split('-'))\n",
    "    y1, y2 = map(int, y.split('-'))\n",
    "    if (x1 <= y1 and x2 >= y2) or y1 <= x1 and y2 >= x2:\n",
    "        p1 += 1\n",
    "    # overlap\n",
    "    if max(x1,y1) <= min(x2, y2):\n",
    "        p2 += 1\n",
    "p1, p2"
   ]
  }
 ],
 "metadata": {
  "file_extension": ".py",
  "kernelspec": {
   "display_name": "Python 3.11.0 ('.aocenvpy311': venv)",
   "language": "python",
   "name": "python3"
  },
  "language_info": {
   "codemirror_mode": {
    "name": "ipython",
    "version": 3
   },
   "file_extension": ".py",
   "mimetype": "text/x-python",
   "name": "python",
   "nbconvert_exporter": "python",
   "pygments_lexer": "ipython3",
   "version": "3.11.0"
  },
  "mimetype": "text/x-python",
  "name": "python",
  "npconvert_exporter": "python",
  "orig_nbformat": 2,
  "pygments_lexer": "ipython3",
  "version": 3,
  "vscode": {
   "interpreter": {
    "hash": "7b5336723abeab741c71fcc933eb6e6f53a288e70399d841fc0756db1169ea34"
   }
  }
 },
 "nbformat": 4,
 "nbformat_minor": 2
}
