{
 "cells": [
  {
   "cell_type": "code",
   "execution_count": 9,
   "metadata": {},
   "outputs": [
    {
     "data": {
      "text/plain": [
       "(6044, 2384)"
      ]
     },
     "execution_count": 9,
     "metadata": {},
     "output_type": "execute_result"
    }
   ],
   "source": [
    "from aocutils.common import zippify\n",
    "\n",
    "\n",
    "def update(h, t):\n",
    "    dr = h[0] - t[0]\n",
    "    dc = h[1] - t[1]\n",
    "\n",
    "    if dr * dc == 0 and abs(dr) + abs(dc) <= 1:  # hor & ver\n",
    "        return t\n",
    "    elif dr * dc != 0 and abs(dr) + abs(dc) <= 2:  # diagonal\n",
    "        return t\n",
    "    else:\n",
    "        dr = min(1, dr) if dr > 0 else max(-1, dr)\n",
    "        dc = min(1, dc) if dc > 0 else max(-1, dc)\n",
    "        t = [t[0] + dr, t[1] + dc]\n",
    "    return t\n",
    "\n",
    "\n",
    "lines = open(\"input.txt\").read().split(\"\\n\")\n",
    "dr = dict(zip(\"UDLR\", [-1, 1, 0, 0]))\n",
    "dc = dict(zip(\"UDLR\", [0, 0, -1, 1]))\n",
    "\n",
    "tails = [[0, 0] for _ in range(10)]\n",
    "found1 = set()\n",
    "found2 = set()\n",
    "for line in lines:\n",
    "    d, steps = line.split()\n",
    "    for _ in range(int(steps)):\n",
    "        tails[0][0] += dr[d]\n",
    "        tails[0][1] += dc[d]\n",
    "        for x, y in zippify(list(range(10)), 2):\n",
    "            tails[y] = update(tails[x], tails[y])\n",
    "        found1.add(tuple(tails[1]))\n",
    "        found2.add(tuple(tails[-1]))\n",
    "\n",
    "len(found1), len(found2)"
   ]
  }
 ],
 "metadata": {
  "file_extension": ".py",
  "kernelspec": {
   "display_name": "Python 3.11.0 ('.aocenvpy311': venv)",
   "language": "python",
   "name": "python3"
  },
  "language_info": {
   "codemirror_mode": {
    "name": "ipython",
    "version": 3
   },
   "file_extension": ".py",
   "mimetype": "text/x-python",
   "name": "python",
   "nbconvert_exporter": "python",
   "pygments_lexer": "ipython3",
   "version": "3.11.0"
  },
  "mimetype": "text/x-python",
  "name": "python",
  "npconvert_exporter": "python",
  "orig_nbformat": 2,
  "pygments_lexer": "ipython3",
  "version": 3,
  "vscode": {
   "interpreter": {
    "hash": "7b5336723abeab741c71fcc933eb6e6f53a288e70399d841fc0756db1169ea34"
   }
  }
 },
 "nbformat": 4,
 "nbformat_minor": 2
}
