{
 "cells": [
  {
   "cell_type": "code",
   "execution_count": 1,
   "metadata": {},
   "outputs": [
    {
     "data": {
      "text/plain": [
       "6046"
      ]
     },
     "execution_count": 1,
     "metadata": {},
     "output_type": "execute_result"
    }
   ],
   "source": [
    "from functools import cmp_to_key\n",
    "\n",
    "def check(left, right):\n",
    "    if isinstance(left, int) and isinstance(right, int):\n",
    "        if int(left) < int(right):\n",
    "            return 1\n",
    "        elif int(left) > int(right):\n",
    "            return -1\n",
    "        else:\n",
    "            return 0\n",
    "\n",
    "    if isinstance(left, int):\n",
    "        left = [left]\n",
    "    if isinstance(right, int):\n",
    "        right = [right]\n",
    "        \n",
    "    for x,y in zip(left, right):\n",
    "        res = check(x,y)\n",
    "        if res:\n",
    "            return res\n",
    "        else:\n",
    "            continue\n",
    "    \n",
    "    if len(left) < len(right):\n",
    "        return 1\n",
    "    elif len(left) > len(right):\n",
    "        return -1\n",
    "    else:\n",
    "        return 0\n",
    "\n",
    "f = open(\"in.txt\").read().split(\"\\n\\n\")\n",
    "lines = [line for line in f]\n",
    "correct = []\n",
    "for idx, line in enumerate(lines,1):\n",
    "    left, right = line.split('\\n')\n",
    "    res = check(eval(left), eval(right))\n",
    "    if res == 1:\n",
    "        correct.append(idx)\n",
    "sum(correct)\n",
    "                \n",
    "    \n",
    "    \n",
    "    "
   ]
  },
  {
   "cell_type": "code",
   "execution_count": 16,
   "metadata": {},
   "outputs": [
    {
     "data": {
      "text/plain": [
       "21423"
      ]
     },
     "execution_count": 16,
     "metadata": {},
     "output_type": "execute_result"
    }
   ],
   "source": [
    "f = open(\"in.txt\").read().split(\"\\n\")\n",
    "lines = [eval(line) for line in f if line]\n",
    "lines.extend([[[2]], [[6]]])\n",
    "lines.sort(key=cmp_to_key(check), reverse=True)\n",
    "(lines.index([[2]]) + 1) * (lines.index([[6]]) + 1)\n"
   ]
  },
  {
   "cell_type": "code",
   "execution_count": null,
   "metadata": {},
   "outputs": [],
   "source": []
  }
 ],
 "metadata": {
  "file_extension": ".py",
  "kernelspec": {
   "display_name": "Python 3.11.0 ('.aocenvpy311': venv)",
   "language": "python",
   "name": "python3"
  },
  "language_info": {
   "codemirror_mode": {
    "name": "ipython",
    "version": 3
   },
   "file_extension": ".py",
   "mimetype": "text/x-python",
   "name": "python",
   "nbconvert_exporter": "python",
   "pygments_lexer": "ipython3",
   "version": "3.11.0"
  },
  "mimetype": "text/x-python",
  "name": "python",
  "npconvert_exporter": "python",
  "orig_nbformat": 2,
  "pygments_lexer": "ipython3",
  "version": 3,
  "vscode": {
   "interpreter": {
    "hash": "7b5336723abeab741c71fcc933eb6e6f53a288e70399d841fc0756db1169ea34"
   }
  }
 },
 "nbformat": 4,
 "nbformat_minor": 2
}
