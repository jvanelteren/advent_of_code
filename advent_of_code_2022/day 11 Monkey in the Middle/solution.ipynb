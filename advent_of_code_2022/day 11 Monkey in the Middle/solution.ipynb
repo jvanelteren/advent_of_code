{
 "cells": [
  {
   "cell_type": "code",
   "execution_count": 3,
   "metadata": {},
   "outputs": [
    {
     "ename": "TypeError",
     "evalue": "eval() arg 1 must be a string, bytes or code object",
     "output_type": "error",
     "traceback": [
      "\u001b[1;31m---------------------------------------------------------------------------\u001b[0m",
      "\u001b[1;31mTypeError\u001b[0m                                 Traceback (most recent call last)",
      "Cell \u001b[1;32mIn [3], line 23\u001b[0m\n\u001b[0;32m     20\u001b[0m     testtrue[i] \u001b[39m=\u001b[39m \u001b[39mint\u001b[39m(testtr[\u001b[39m-\u001b[39m\u001b[39m1\u001b[39m])\n\u001b[0;32m     21\u001b[0m     testfalse[i] \u001b[39m=\u001b[39m \u001b[39mint\u001b[39m(testfa[\u001b[39m-\u001b[39m\u001b[39m1\u001b[39m])\n\u001b[1;32m---> 23\u001b[0m do \u001b[39m=\u001b[39m \u001b[39meval\u001b[39;49m(\u001b[39mlambda\u001b[39;49;00m old, mon: operations[mon])\n\u001b[0;32m     24\u001b[0m MOD \u001b[39m=\u001b[39m prod(test\u001b[39m.\u001b[39mvalues())\n\u001b[0;32m     25\u001b[0m counts \u001b[39m=\u001b[39m defaultdict(\u001b[39mint\u001b[39m)\n",
      "\u001b[1;31mTypeError\u001b[0m: eval() arg 1 must be a string, bytes or code object"
     ]
    }
   ],
   "source": [
    "from math import prod\n",
    "\n",
    "import operator\n",
    "from collections import defaultdict\n",
    "from aocutils.common import ints\n",
    "\n",
    "monkeys = open(\"in.txt\").read().split(\"\\n\\n\")\n",
    "\n",
    "owns = {}\n",
    "operations = {}\n",
    "test = {}\n",
    "testtrue = {}\n",
    "testfalse = {}\n",
    "for i, monkey in enumerate(monkeys):\n",
    "    _, startitems, o, t, testtr, testfa = monkey.split(\"\\n\")\n",
    "    owns[i] = ints(startitems, tolist=True)\n",
    "    _, operation = o.split(\"=\")\n",
    "    operations[i] = operation\n",
    "    test[i] = int(t.split()[-1])\n",
    "    testtrue[i] = int(testtr[-1])\n",
    "    testfalse[i] = int(testfa[-1])\n",
    "\n",
    "do = lambda old, mon: eval(operations[mon])\n",
    "MOD = prod(test.values())\n",
    "counts = defaultdict(int)\n",
    "\n",
    "for r in range(10000):\n",
    "    for i in range(8):\n",
    "        while owns[i]:\n",
    "            cur = owns[i].pop()\n",
    "            newcur = do(cur, i) % MOD\n",
    "            if newcur % test[i]:\n",
    "                sendto = testfalse[i]\n",
    "            else:\n",
    "                sendto = testtrue[i]\n",
    "            owns[sendto].append(newcur)\n",
    "            counts[i] += 1\n",
    "\n",
    "\n",
    "t = sorted(list(counts.values()), reverse=True)\n",
    "assert t[0] * t[1] == 17408399184"
   ]
  },
  {
   "cell_type": "code",
   "execution_count": 4,
   "metadata": {},
   "outputs": [],
   "source": [
    "operations = {}\n",
    "monkeys = open(\"in.txt\").read().split(\"\\n\\n\")\n",
    "for i, monkey in enumerate(monkeys):\n",
    "    _, startitems, o, t, testtr, testfa = monkey.split(\"\\n\")\n",
    "    operations[i] = eval(f'lambda old: {o.split(\"=\")[-1]}')\n",
    "    \n"
   ]
  },
  {
   "cell_type": "code",
   "execution_count": 6,
   "metadata": {},
   "outputs": [
    {
     "data": {
      "text/plain": [
       "2"
      ]
     },
     "execution_count": 6,
     "metadata": {},
     "output_type": "execute_result"
    }
   ],
   "source": [
    "# this does not work, since f1 is evaluated at runtime, meaning it will always pick the latest defined f1\n",
    "test = {}\n",
    "f1 = 'x * 3'\n",
    "test[0] = lambda x: eval(f1)\n",
    "f1 = 'x - 1'\n",
    "test[1] = lambda x: eval(f1)\n",
    "test[0](3)"
   ]
  },
  {
   "cell_type": "code",
   "execution_count": 4,
   "metadata": {},
   "outputs": [
    {
     "name": "stdout",
     "output_type": "stream",
     "text": [
      "17408399184\n"
     ]
    }
   ],
   "source": [
    "from math import prod\n",
    "\n",
    "class Monkey:\n",
    "    def __init__(self, x):\n",
    "        x = x.split('\\n')\n",
    "        self.items = [*map(int, x[1][18:].split(','))]\n",
    "        self.op    = eval(f'lambda old: {x[2][19:]}')\n",
    "        self.div   = int(x[3][20:])\n",
    "        self.true  = int(x[4][28:])\n",
    "        self.false = int(x[5][29:])\n",
    "        self.act   = 0\n",
    "\n",
    "ms = [*map(Monkey, open(\"in.txt\").read().split('\\n\\n'))]\n",
    "p = prod(m.div for m in ms)\n",
    "\n",
    "for _ in range(10_000):\n",
    "    for m in ms:\n",
    "        for worry in m.items:\n",
    "            worry = m.op(worry) % p\n",
    "            dest = m.false if worry % m.div else m.true\n",
    "            ms[dest].items += [worry]\n",
    "            m.act += 1\n",
    "        m.items = []\n",
    "\n",
    "print(prod(sorted(m.act for m in ms)[-2:]))"
   ]
  },
  {
   "cell_type": "code",
   "execution_count": null,
   "metadata": {},
   "outputs": [],
   "source": []
  }
 ],
 "metadata": {
  "file_extension": ".py",
  "kernelspec": {
   "display_name": "Python 3.11.0 ('.aocenvpy311': venv)",
   "language": "python",
   "name": "python3"
  },
  "language_info": {
   "codemirror_mode": {
    "name": "ipython",
    "version": 3
   },
   "file_extension": ".py",
   "mimetype": "text/x-python",
   "name": "python",
   "nbconvert_exporter": "python",
   "pygments_lexer": "ipython3",
   "version": "3.11.0 (main, Oct 24 2022, 18:26:48) [MSC v.1933 64 bit (AMD64)]"
  },
  "mimetype": "text/x-python",
  "name": "python",
  "npconvert_exporter": "python",
  "orig_nbformat": 2,
  "pygments_lexer": "ipython3",
  "version": 3,
  "vscode": {
   "interpreter": {
    "hash": "7b5336723abeab741c71fcc933eb6e6f53a288e70399d841fc0756db1169ea34"
   }
  }
 },
 "nbformat": 4,
 "nbformat_minor": 2
}
