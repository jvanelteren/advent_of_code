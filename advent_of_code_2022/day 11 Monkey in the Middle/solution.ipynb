{
 "cells": [
  {
   "cell_type": "code",
   "execution_count": 3,
   "metadata": {},
   "outputs": [],
   "source": [
    "from functools import reduce\n",
    "import operator\n",
    "from collections import defaultdict\n",
    "from aocutils.common import ints\n",
    "\n",
    "monkeys = open(\"in.txt\").read().split(\"\\n\\n\")\n",
    "\n",
    "owns = {}\n",
    "operations = {}\n",
    "test = {}\n",
    "testtrue = {}\n",
    "testfalse = {}\n",
    "for i, monkey in enumerate(monkeys):\n",
    "    _, startitems, o, t, testtr, testfa = monkey.split(\"\\n\")\n",
    "    owns[i] = ints(startitems, tolist=True)\n",
    "    _, operation = o.split(\"=\")\n",
    "    operations[i] = operation\n",
    "    test[i] = int(t.split()[-1])\n",
    "    testtrue[i] = int(testtr[-1])\n",
    "    testfalse[i] = int(testfa[-1])\n",
    "\n",
    "do = lambda old, mon: eval(operations[mon])\n",
    "MOD = reduce(operator.mul, test.values())\n",
    "counts = defaultdict(int)\n",
    "\n",
    "for r in range(10000):\n",
    "    for i in range(8):\n",
    "        while owns[i]:\n",
    "            cur = owns[i].pop()\n",
    "            newcur = do(cur, i) % MOD\n",
    "            if newcur % test[i]:\n",
    "                sendto = testfalse[i]\n",
    "            else:\n",
    "                sendto = testtrue[i]\n",
    "            owns[sendto].append(newcur)\n",
    "            counts[i] += 1\n",
    "\n",
    "\n",
    "t = sorted(list(counts.values()), reverse=True)\n",
    "assert t[0] * t[1] == 17408399184"
   ]
  },
  {
   "cell_type": "code",
   "execution_count": 130,
   "metadata": {},
   "outputs": [
    {
     "data": {
      "text/plain": [
       "11"
      ]
     },
     "execution_count": 130,
     "metadata": {},
     "output_type": "execute_result"
    }
   ],
   "source": [
    "# this does not work, since f1 is evaluated at runtime, meaning it will always pick the latest defined f1\n",
    "testdict = {}\n",
    "f1 = 'x * 3'\n",
    "d[0] = lambda x: eval(f1)\n",
    "f1 = \n",
    "d[1] = lambda x: eval(f1)\n",
    "d[0](3)"
   ]
  },
  {
   "cell_type": "code",
   "execution_count": null,
   "metadata": {},
   "outputs": [],
   "source": []
  }
 ],
 "metadata": {
  "file_extension": ".py",
  "kernelspec": {
   "display_name": "Python 3.11.0 ('.aocenvpy311': venv)",
   "language": "python",
   "name": "python3"
  },
  "language_info": {
   "codemirror_mode": {
    "name": "ipython",
    "version": 3
   },
   "file_extension": ".py",
   "mimetype": "text/x-python",
   "name": "python",
   "nbconvert_exporter": "python",
   "pygments_lexer": "ipython3",
   "version": "3.11.0"
  },
  "mimetype": "text/x-python",
  "name": "python",
  "npconvert_exporter": "python",
  "orig_nbformat": 2,
  "pygments_lexer": "ipython3",
  "version": 3,
  "vscode": {
   "interpreter": {
    "hash": "7b5336723abeab741c71fcc933eb6e6f53a288e70399d841fc0756db1169ea34"
   }
  }
 },
 "nbformat": 4,
 "nbformat_minor": 2
}
