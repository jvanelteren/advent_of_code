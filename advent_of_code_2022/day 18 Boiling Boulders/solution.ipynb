{
 "cells": [
  {
   "cell_type": "code",
   "execution_count": 1,
   "metadata": {},
   "outputs": [
    {
     "data": {
      "text/plain": [
       "Dim(min=(1, 0, 0), max=(21, 21, 21), range=(20, 21, 21))"
      ]
     },
     "execution_count": 1,
     "metadata": {},
     "output_type": "execute_result"
    }
   ],
   "source": [
    "from aocutils.grid import dimensions\n",
    "from aocutils.common import ints\n",
    "\n",
    "f = open(\"in.txt\").read().split(\"\\n\")\n",
    "lava = {ints(line) for line in f}\n",
    "dimensions(lava)"
   ]
  },
  {
   "cell_type": "code",
   "execution_count": 2,
   "metadata": {},
   "outputs": [
    {
     "data": {
      "text/plain": [
       "4242"
      ]
     },
     "execution_count": 2,
     "metadata": {},
     "output_type": "execute_result"
    }
   ],
   "source": [
    "\n",
    "deltas = (\n",
    "        (0, 0, 1),\n",
    "        (0, 0, -1),\n",
    "        (0, 1, 0),\n",
    "        (0, -1, 0),\n",
    "        (1, 0, 0),\n",
    "        (-1, 0, 0))\n",
    "\n",
    "# calculate how many sides are not lave\n",
    "sides = 0\n",
    "lava = set(lava)\n",
    "for idx, (x, y, z) in enumerate(lava):\n",
    "    for dx, dy, dz in deltas:\n",
    "        if (x + dx, y + dy, z + dz) not in lava:\n",
    "            sides += 1\n",
    "sides"
   ]
  },
  {
   "cell_type": "code",
   "execution_count": 4,
   "metadata": {},
   "outputs": [
    {
     "data": {
      "text/plain": [
       "2424"
      ]
     },
     "execution_count": 4,
     "metadata": {},
     "output_type": "execute_result"
    }
   ],
   "source": [
    "# dfs outside of lava\n",
    "tocheck = [(0, 0, 0)]\n",
    "seen = set()\n",
    "air = set()\n",
    "sides = 0\n",
    "n, m = -1, 22  # boundary to not go to infinity\n",
    "while tocheck:\n",
    "    x, y, z = tocheck.pop()\n",
    "    for dx, dy, dz in deltas:\n",
    "        if n <= dx + x < m and n <= dy + y < m and n <= dz + z < m:\n",
    "            new = dx + x, dy + y, dz + z\n",
    "            if new not in seen:\n",
    "                if new in lava:\n",
    "                    sides += 1\n",
    "                else:\n",
    "                    air.add(new)\n",
    "                    tocheck.append(new)\n",
    "                    seen.add(new)\n",
    "sides"
   ]
  }
 ],
 "metadata": {
  "file_extension": ".py",
  "kernelspec": {
   "display_name": "Python 3.11.0 ('.aocenvpy311': venv)",
   "language": "python",
   "name": "python3"
  },
  "language_info": {
   "codemirror_mode": {
    "name": "ipython",
    "version": 3
   },
   "file_extension": ".py",
   "mimetype": "text/x-python",
   "name": "python",
   "nbconvert_exporter": "python",
   "pygments_lexer": "ipython3",
   "version": "3.11.0"
  },
  "mimetype": "text/x-python",
  "name": "python",
  "npconvert_exporter": "python",
  "orig_nbformat": 2,
  "pygments_lexer": "ipython3",
  "version": 3,
  "vscode": {
   "interpreter": {
    "hash": "7b5336723abeab741c71fcc933eb6e6f53a288e70399d841fc0756db1169ea34"
   }
  }
 },
 "nbformat": 4,
 "nbformat_minor": 2
}
