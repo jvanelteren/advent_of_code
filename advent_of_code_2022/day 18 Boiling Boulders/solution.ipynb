{
 "cells": [
  {
   "cell_type": "code",
   "execution_count": 24,
   "metadata": {},
   "outputs": [
    {
     "data": {
      "text/plain": [
       "4242"
      ]
     },
     "execution_count": 24,
     "metadata": {},
     "output_type": "execute_result"
    }
   ],
   "source": [
    "from aocutils.common import ints\n",
    "\n",
    "f = open(\"in.txt\").read().split(\"\\n\")\n",
    "lava = {ints(line) for line in f}\n",
    "deltas = (\n",
    "        (0, 0, 1),\n",
    "        (0, 0, -1),\n",
    "        (0, 1, 0),\n",
    "        (0, -1, 0),\n",
    "        (1, 0, 0),\n",
    "        (-1, 0, 0))\n",
    "\n",
    "# calculate how many sides are not lave\n",
    "sur = 0\n",
    "lava = set(lava)\n",
    "for idx, (x, y, z) in enumerate(lava):\n",
    "    for dx, dy, dz in deltas:\n",
    "        if (x + dx, y + dy, z + dz) not in lava:\n",
    "            sur += 1\n",
    "sur"
   ]
  },
  {
   "cell_type": "code",
   "execution_count": 25,
   "metadata": {},
   "outputs": [
    {
     "data": {
      "text/plain": [
       "2424"
      ]
     },
     "execution_count": 25,
     "metadata": {},
     "output_type": "execute_result"
    }
   ],
   "source": [
    "# dfs outside of lava\n",
    "tocheck = [(0, 0, 0)]\n",
    "seen = set()\n",
    "air = set()\n",
    "m = 32  # boundary to not go to infinity\n",
    "while tocheck:\n",
    "    x, y, z = tocheck.pop()\n",
    "    seen.add((x, y, z))\n",
    "    for dx, dy, dz in deltas:\n",
    "        if 0 <= dx + x < m and 0 <= dy + y < m and 0 <= dz + z < m:\n",
    "            new = dx + x, dy + y, dz + z\n",
    "            if new not in seen:\n",
    "                if new in lava:\n",
    "                    seen.add(new)\n",
    "                else:\n",
    "                    air.add(new)\n",
    "                    tocheck.append(new)\n",
    "\n",
    "# check how many lava cube sides hit air\n",
    "sur = 0\n",
    "for x, y, z in lava:\n",
    "    for dx, dy, dz in deltas:\n",
    "        if (x + dx, y + dy, z + dz) in air:\n",
    "            sur += 1\n",
    "sur"
   ]
  }
 ],
 "metadata": {
  "file_extension": ".py",
  "kernelspec": {
   "display_name": "Python 3.11.0 ('.aocenvpy311': venv)",
   "language": "python",
   "name": "python3"
  },
  "language_info": {
   "codemirror_mode": {
    "name": "ipython",
    "version": 3
   },
   "file_extension": ".py",
   "mimetype": "text/x-python",
   "name": "python",
   "nbconvert_exporter": "python",
   "pygments_lexer": "ipython3",
   "version": "3.11.0"
  },
  "mimetype": "text/x-python",
  "name": "python",
  "npconvert_exporter": "python",
  "orig_nbformat": 2,
  "pygments_lexer": "ipython3",
  "version": 3,
  "vscode": {
   "interpreter": {
    "hash": "7b5336723abeab741c71fcc933eb6e6f53a288e70399d841fc0756db1169ea34"
   }
  }
 },
 "nbformat": 4,
 "nbformat_minor": 2
}
