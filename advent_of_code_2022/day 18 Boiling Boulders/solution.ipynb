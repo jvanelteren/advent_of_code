{
 "cells": [
  {
   "cell_type": "code",
   "execution_count": 112,
   "metadata": {},
   "outputs": [],
   "source": [
    "from aocutils.common import ints\n",
    "from aocutils.special import UnionFind\n",
    "f = open(\"in.txt\").read().split(\"\\n\")\n",
    "lines = {ints(line) for line in f}\n"
   ]
  },
  {
   "cell_type": "code",
   "execution_count": 113,
   "metadata": {},
   "outputs": [
    {
     "data": {
      "text/plain": [
       "4242"
      ]
     },
     "execution_count": 113,
     "metadata": {},
     "output_type": "execute_result"
    }
   ],
   "source": [
    "sur = 0\n",
    "lines = set(lines)\n",
    "air = set()\n",
    "for idx, (x,y,z) in enumerate(lines):\n",
    "    if (r:=(x,y,z+1)) not in lines: \n",
    "        sur += 1\n",
    "        air.add(r)\n",
    "    if (r:=(x,y,z-1)) not in lines: \n",
    "        sur += 1\n",
    "        air.add(r)\n",
    "    if (r:=(x,y+1,z)) not in lines: \n",
    "        sur += 1\n",
    "        air.add(r)\n",
    "    if (r:=(x,y-1,z)) not in lines: \n",
    "        sur += 1\n",
    "        air.add(r)\n",
    "    if (r:=(x+1,y,z)) not in lines: \n",
    "        sur += 1\n",
    "        air.add(r)\n",
    "    if (r:=(x-1,y,z)) not in lines: \n",
    "        sur += 1\n",
    "        air.add(r)\n",
    "sur\n",
    "        \n",
    "        "
   ]
  },
  {
   "cell_type": "code",
   "execution_count": 114,
   "metadata": {},
   "outputs": [
    {
     "data": {
      "text/plain": [
       "1124"
      ]
     },
     "execution_count": 114,
     "metadata": {},
     "output_type": "execute_result"
    }
   ],
   "source": [
    "tocheck = [(0,0,0)]\n",
    "seen = set()\n",
    "sur = 0\n",
    "m = 32\n",
    "while tocheck:\n",
    "    x,y,z = tocheck.pop()\n",
    "    seen.add((x,y,z))\n",
    "    for dx,dy,dz in ((0,0,1),(0,0,-1),(0,1,0),(0,-1,0), (1,0,0),(-1,0,0)):\n",
    "        if 0 <= dx + x < m and 0 <= dy + y < m and 0 <= dz + z < m:\n",
    "            new = dx + x, dy + y, dz + z\n",
    "            if new not in seen:\n",
    "                if new in lines:\n",
    "                    sur += 1\n",
    "                    seen.add(new)\n",
    "                else:\n",
    "                    tocheck.append(new)\n",
    "                    air.add(new)\n",
    "sur\n",
    "    "
   ]
  },
  {
   "cell_type": "code",
   "execution_count": 115,
   "metadata": {},
   "outputs": [],
   "source": [
    "tocheck = [(0,0,0)]\n",
    "seen = set()\n",
    "sur = 0\n",
    "while tocheck:\n",
    "    x,y,z = tocheck.pop()\n",
    "    seen.add((x,y,z))\n",
    "    if (r:=(x,y,z+1)) not in lines and 0 <= z < 30: \n",
    "        air.add(r)\n",
    "        if r not in seen: tocheck.append(r)\n",
    "    if (r:=(x,y,z-1)) not in lines and 0 <= z < 30: \n",
    "        air.add(r)\n",
    "        if r not in seen: tocheck.append(r)\n",
    "    if (r:=(x,y+1,z)) not in lines and 0 <= y < 30: \n",
    "        air.add(r)\n",
    "        if r not in seen: tocheck.append(r)\n",
    "    if (r:=(x,y-1,z)) not in lines and 0 <= y < 30: \n",
    "        air.add(r)\n",
    "        if r not in seen: tocheck.append(r)\n",
    "    if (r:=(x+1,y,z)) not in lines and 0 <= x < 30: \n",
    "        air.add(r)\n",
    "        if r not in seen: tocheck.append(r)\n",
    "    if (r:=(x-1,y,z)) not in lines and 0 <= x < 30: \n",
    "        air.add(r)\n",
    "        if r not in seen: tocheck.append(r)\n",
    "\n",
    "    "
   ]
  },
  {
   "cell_type": "code",
   "execution_count": 116,
   "metadata": {},
   "outputs": [
    {
     "data": {
      "text/plain": [
       "32190"
      ]
     },
     "execution_count": 116,
     "metadata": {},
     "output_type": "execute_result"
    }
   ],
   "source": [
    "len(air)"
   ]
  },
  {
   "cell_type": "code",
   "execution_count": 117,
   "metadata": {},
   "outputs": [],
   "source": [
    "uf = UnionFind([])\n",
    "for (x,y,z) in air:\n",
    "    if (r:=(x,y,z+1)) in air: \n",
    "        uf.union((x,y,z), r)\n",
    "    if (r:=(x,y,z-1)) in air: \n",
    "        uf.union((x,y,z), r)\n",
    "    if (r:=(x,y+1,z)) in air: \n",
    "        uf.union((x,y,z), r)\n",
    "    if (r:=(x,y-1,z)) in air: \n",
    "        uf.union((x,y,z), r)\n",
    "    if (r:=(x+1,y,z)) in air: \n",
    "        uf.union((x,y,z), r)\n",
    "    if (r:=(x-1,y,z)) in air: \n",
    "        uf.union((x,y,z), r)\n",
    "    "
   ]
  },
  {
   "cell_type": "code",
   "execution_count": 118,
   "metadata": {},
   "outputs": [
    {
     "data": {
      "text/plain": [
       "6"
      ]
     },
     "execution_count": 118,
     "metadata": {},
     "output_type": "execute_result"
    }
   ],
   "source": [
    "len(uf.groups())"
   ]
  },
  {
   "cell_type": "code",
   "execution_count": 119,
   "metadata": {},
   "outputs": [
    {
     "name": "stdout",
     "output_type": "stream",
     "text": [
      "31475 2428\n",
      "637 1509\n",
      "4 18\n",
      "2 5\n",
      "2 10\n",
      "2 9\n"
     ]
    }
   ],
   "source": [
    "for g in uf.groups():\n",
    "    sur = 0\n",
    "    for idx, (x,y,z) in enumerate(g):\n",
    "        if (r:=(x,y,z+1)) in lines: \n",
    "            sur += 1\n",
    "        if (r:=(x,y,z-1)) in lines: \n",
    "            sur += 1\n",
    "        if (r:=(x,y+1,z)) in lines: \n",
    "            sur += 1\n",
    "        if (r:=(x,y-1,z)) in lines: \n",
    "            sur += 1\n",
    "        if (r:=(x+1,y,z)) in lines: \n",
    "            sur += 1\n",
    "        if (r:=(x-1,y,z)) in lines: \n",
    "            sur += 1\n",
    "    print(len(g), sur)\n",
    "    "
   ]
  },
  {
   "cell_type": "code",
   "execution_count": null,
   "metadata": {},
   "outputs": [],
   "source": []
  }
 ],
 "metadata": {
  "file_extension": ".py",
  "kernelspec": {
   "display_name": "Python 3.11.0 ('.aocenvpy311': venv)",
   "language": "python",
   "name": "python3"
  },
  "language_info": {
   "codemirror_mode": {
    "name": "ipython",
    "version": 3
   },
   "file_extension": ".py",
   "mimetype": "text/x-python",
   "name": "python",
   "nbconvert_exporter": "python",
   "pygments_lexer": "ipython3",
   "version": "3.11.0"
  },
  "mimetype": "text/x-python",
  "name": "python",
  "npconvert_exporter": "python",
  "orig_nbformat": 2,
  "pygments_lexer": "ipython3",
  "version": 3,
  "vscode": {
   "interpreter": {
    "hash": "7b5336723abeab741c71fcc933eb6e6f53a288e70399d841fc0756db1169ea34"
   }
  }
 },
 "nbformat": 4,
 "nbformat_minor": 2
}
