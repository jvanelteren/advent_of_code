{
 "cells": [
  {
   "cell_type": "code",
   "execution_count": 39,
   "metadata": {},
   "outputs": [
    {
     "data": {
      "text/plain": [
       "1432936"
      ]
     },
     "execution_count": 39,
     "metadata": {},
     "output_type": "execute_result"
    }
   ],
   "source": [
    "from collections import defaultdict\n",
    "import bisect\n",
    "\n",
    "f = open(\"input.txt\").read().split(\"\\n\")\n",
    "\n",
    "dirs = defaultdict(int)\n",
    "contains = defaultdict(set)\n",
    "current = \"/\"\n",
    "dirs[current] = 0\n",
    "\n",
    "for line in lines:\n",
    "    if line == \"$ cd /\":\n",
    "        current = \"/\"\n",
    "        continue\n",
    "\n",
    "    if line == \"$ cd ..\":\n",
    "        current = current[: current.rfind(\"@\")]\n",
    "        continue\n",
    "\n",
    "    if line.startswith(\"$ cd\"):\n",
    "        old = current\n",
    "        _, _, name = line.split()\n",
    "        current += \"@\" + name\n",
    "        contains[old].add(current)\n",
    "\n",
    "    elif line.startswith(\"dir\"):\n",
    "        _, name = line.split()\n",
    "        newname = current + \"@\" + name\n",
    "        contains[current].add(newname)\n",
    "        # necessary otherwise determinesize will add item while iterating over it!\n",
    "        contains[newname]\n",
    "\n",
    "    elif line[0].isnumeric():\n",
    "        size, file = line.split()\n",
    "        dirs[current] += int(size)\n",
    "\n",
    "\n",
    "def determinesize(d):\n",
    "    size = dirs[d]\n",
    "    for c in contains[d]:\n",
    "        size += determinesize(c)\n",
    "    return size\n",
    "\n",
    "\n",
    "allsizes = [determinesize(d) for d in contains.keys()]\n",
    "sum(k for k in allsizes if k < 100000)"
   ]
  },
  {
   "cell_type": "code",
   "execution_count": 37,
   "metadata": {},
   "outputs": [
    {
     "data": {
      "text/plain": [
       "272298"
      ]
     },
     "execution_count": 37,
     "metadata": {},
     "output_type": "execute_result"
    }
   ],
   "source": [
    "needed = 30000000 - (70000000 - determinesize('/'))\n",
    "allsizes.sort()\n",
    "idx = bisect.bisect_left(allsizes, needed)\n",
    "allsizes[idx]"
   ]
  }
 ],
 "metadata": {
  "file_extension": ".py",
  "kernelspec": {
   "display_name": "Python 3.11.0 ('.aocenvpy311': venv)",
   "language": "python",
   "name": "python3"
  },
  "language_info": {
   "codemirror_mode": {
    "name": "ipython",
    "version": 3
   },
   "file_extension": ".py",
   "mimetype": "text/x-python",
   "name": "python",
   "nbconvert_exporter": "python",
   "pygments_lexer": "ipython3",
   "version": "3.11.0"
  },
  "mimetype": "text/x-python",
  "name": "python",
  "npconvert_exporter": "python",
  "orig_nbformat": 2,
  "pygments_lexer": "ipython3",
  "version": 3,
  "vscode": {
   "interpreter": {
    "hash": "7b5336723abeab741c71fcc933eb6e6f53a288e70399d841fc0756db1169ea34"
   }
  }
 },
 "nbformat": 4,
 "nbformat_minor": 2
}
