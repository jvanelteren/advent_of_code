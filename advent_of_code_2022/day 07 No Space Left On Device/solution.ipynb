{
 "cells": [
  {
   "cell_type": "code",
   "execution_count": 5,
   "metadata": {},
   "outputs": [
    {
     "data": {
      "text/plain": [
       "1432936"
      ]
     },
     "execution_count": 5,
     "metadata": {},
     "output_type": "execute_result"
    }
   ],
   "source": [
    "from collections import defaultdict\n",
    "import bisect\n",
    "\n",
    "lines = open(\"input.txt\").read().splitlines()\n",
    "\n",
    "dirs = defaultdict(int)\n",
    "contains = defaultdict(set)\n",
    "current = \"/\"\n",
    "\n",
    "for line in lines:\n",
    "    if line == \"$ cd /\":\n",
    "        current = \"/\"\n",
    "        continue\n",
    "\n",
    "    elif line == \"$ cd ..\":\n",
    "        current = current[: current.rfind(\"@\")]\n",
    "        continue\n",
    "\n",
    "    elif line.startswith(\"$ cd\"):\n",
    "        old = current\n",
    "        _, _, newname = line.split()\n",
    "        current += \"@\" + newname\n",
    "        contains[old].add(current)\n",
    "\n",
    "    elif line[0].isnumeric():\n",
    "        size, file = line.split()\n",
    "        dirs[current] += int(size)\n",
    "\n",
    "\n",
    "def determinesize(d):\n",
    "    size = dirs[d]\n",
    "    for c in contains[d]:\n",
    "        size += determinesize(c)\n",
    "    return size\n",
    "\n",
    "\n",
    "vals = [d for d in dirs]\n",
    "for item in vals:\n",
    "    contains[\n",
    "        item\n",
    "    ]  # this needs to be done otherwise next line dict size changed during iteration\n",
    "allsizes = [determinesize(d) for d in contains.keys()]\n",
    "sum(k for k in allsizes if k < 100000)"
   ]
  },
  {
   "cell_type": "code",
   "execution_count": 6,
   "metadata": {},
   "outputs": [
    {
     "data": {
      "text/plain": [
       "272298"
      ]
     },
     "execution_count": 6,
     "metadata": {},
     "output_type": "execute_result"
    }
   ],
   "source": [
    "needed = 30000000 - (70000000 - determinesize('/'))\n",
    "allsizes.sort()\n",
    "idx = bisect.bisect_left(allsizes, needed)\n",
    "allsizes[idx]"
   ]
  },
  {
   "cell_type": "code",
   "execution_count": 9,
   "metadata": {},
   "outputs": [
    {
     "name": "stdout",
     "output_type": "stream",
     "text": [
      "1432936 272298\n"
     ]
    }
   ],
   "source": [
    "# https://www.reddit.com/r/adventofcode/comments/zesk40/comment/iz8fww6/\n",
    "from collections import defaultdict\n",
    "from itertools import accumulate\n",
    "\n",
    "\n",
    "dirs = defaultdict(int)\n",
    "\n",
    "for line in open('input.txt'):\n",
    "    match line.split():\n",
    "        case '$', 'cd', '/': curr = ['/']\n",
    "        case '$', 'cd', '..': curr.pop()\n",
    "        case '$', 'cd', x: curr.append(x+'/')\n",
    "        case '$', 'ls': pass\n",
    "        case 'dir', _: pass\n",
    "        case size, _:\n",
    "            for p in accumulate(curr):\n",
    "                dirs[p] += int(size)\n",
    "\n",
    "print(sum(s for s in dirs.values() if s <= 100_000),\n",
    "      min(s for s in dirs.values() if s >= dirs['/'] - 40_000_000))"
   ]
  }
 ],
 "metadata": {
  "file_extension": ".py",
  "kernelspec": {
   "display_name": "Python 3.11.0 ('.aocenvpy311': venv)",
   "language": "python",
   "name": "python3"
  },
  "language_info": {
   "codemirror_mode": {
    "name": "ipython",
    "version": 3
   },
   "file_extension": ".py",
   "mimetype": "text/x-python",
   "name": "python",
   "nbconvert_exporter": "python",
   "pygments_lexer": "ipython3",
   "version": "3.11.0 (main, Oct 24 2022, 18:26:48) [MSC v.1933 64 bit (AMD64)]"
  },
  "mimetype": "text/x-python",
  "name": "python",
  "npconvert_exporter": "python",
  "orig_nbformat": 2,
  "pygments_lexer": "ipython3",
  "version": 3,
  "vscode": {
   "interpreter": {
    "hash": "7b5336723abeab741c71fcc933eb6e6f53a288e70399d841fc0756db1169ea34"
   }
  }
 },
 "nbformat": 4,
 "nbformat_minor": 2
}
