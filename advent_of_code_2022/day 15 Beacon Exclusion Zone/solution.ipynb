{
 "cells": [
  {
   "cell_type": "code",
   "execution_count": 1,
   "metadata": {},
   "outputs": [
    {
     "data": {
      "text/plain": [
       "5176944"
      ]
     },
     "execution_count": 1,
     "metadata": {},
     "output_type": "execute_result"
    }
   ],
   "source": [
    "from aocutils.common import ints\n",
    "\n",
    "f = open(\"in.txt\").read().split(\"\\n\")\n",
    "lines = [ints(line) for line in f]\n",
    "taken = set()\n",
    "sensors = set()\n",
    "ans = 0\n",
    "goal = set()\n",
    "tar = 2000000\n",
    "for x, y, x2, y2 in lines:\n",
    "    sensors.add((x, y))\n",
    "    taken.add((x, y))\n",
    "    distance = abs(x2 - x) + abs(y2 - y)\n",
    "    deltatar = abs(tar - y)\n",
    "    leftdistance = distance - deltatar\n",
    "    if leftdistance > 0:\n",
    "        ans += leftdistance\n",
    "        for i in range(x, x + leftdistance):\n",
    "            goal.add((i, tar))\n",
    "        for i in range(x - leftdistance, x + 1):\n",
    "            goal.add((i, tar))\n",
    "len(goal)"
   ]
  },
  {
   "cell_type": "code",
   "execution_count": 3,
   "metadata": {},
   "outputs": [
    {
     "data": {
      "text/plain": [
       "(1882733, 2000000)"
      ]
     },
     "execution_count": 3,
     "metadata": {},
     "output_type": "execute_result"
    }
   ],
   "source": [
    "taken = set()\n",
    "sensors = set()\n",
    "upper = 4000000\n",
    "for i in range(0,upper):    \n",
    "    seg = []\n",
    "    for x,y,x2,y2 in lines:\n",
    "        distance = abs(x2-x) + abs(y2-y)\n",
    "        deltatar = abs(i - y)\n",
    "        leftdistance = distance - deltatar\n",
    "        if leftdistance > 0:\n",
    "            seg.append((max(0,x-leftdistance), min(upper, x+leftdistance)))\n",
    "    seg.sort()\n",
    "    found = 0\n",
    "    maxx = 0\n",
    "    for x,y in seg:\n",
    "        if x > maxx+1:\n",
    "            print('found',x,i, 'answer', x*4000000 + i)\n",
    "            break\n",
    "        maxx = max(maxx, y)\n",
    "        if maxx > upper:\n",
    "            break"
   ]
  },
  {
   "cell_type": "code",
   "execution_count": null,
   "metadata": {},
   "outputs": [],
   "source": []
  },
  {
   "cell_type": "code",
   "execution_count": 4,
   "metadata": {},
   "outputs": [],
   "source": [
    "#| export\n",
    "\n",
    "class LazySegmentTree():\n",
    "    # based on https://leetcode.com/problems/my-calendar-iii/solution/\n",
    "    # lazy: the number of events covering all times in the range. As all numbers that belong to this range will be added by some increment, we don't have to propagate the base increment to every time in the interval, all we need to do is putting the number in this lazy field. \n",
    "    # We only update val by adding lazy when requested to query the max numbers of intervals in [L, R].\n",
    "    def __init__(self, left, right) -> None:\n",
    "        self.left, self.right = left, right # detailing the range of interest\n",
    "        self.idxs = defaultdict(int)\n",
    "        self.lazy = defaultdict(int)\n",
    "        \n",
    "    def add(self, start, end, l=None,r=None, idx=1):\n",
    "        if l == None:\n",
    "            l = self.left\n",
    "        if r == None:\n",
    "            r = self.right\n",
    "        if l > end or r < start:\n",
    "            return\n",
    "        elif l >= start and r <= end and l <=r:\n",
    "            self.idxs[idx] += 1\n",
    "            self.lazy[idx] += 1\n",
    "        else:\n",
    "            mid = (l + r) // 2\n",
    "            self.add(start, end, l, mid, idx*2)\n",
    "            self.add(start, end, mid+1, r, idx*2 + 1)\n",
    "            self.idxs[idx] = self.lazy.get(idx,0) + min((self.idxs.get(idx*2,0),self.idxs.get(idx*2+1,0)))\n",
    "            \n",
    "    def getbest(self):\n",
    "        return self.idxs[1]"
   ]
  },
  {
   "cell_type": "code",
   "execution_count": 5,
   "metadata": {},
   "outputs": [
    {
     "name": "stdout",
     "output_type": "stream",
     "text": [
      "3999724\n"
     ]
    },
    {
     "ename": "KeyboardInterrupt",
     "evalue": "",
     "output_type": "error",
     "traceback": [
      "\u001b[1;31m---------------------------------------------------------------------------\u001b[0m",
      "\u001b[1;31mKeyboardInterrupt\u001b[0m                         Traceback (most recent call last)",
      "Cell \u001b[1;32mIn [5], line 18\u001b[0m\n\u001b[0;32m     16\u001b[0m         leftdistance \u001b[39m=\u001b[39m distance \u001b[39m-\u001b[39m deltatar\n\u001b[0;32m     17\u001b[0m         \u001b[39mif\u001b[39;00m leftdistance \u001b[39m>\u001b[39m \u001b[39m0\u001b[39m:\n\u001b[1;32m---> 18\u001b[0m             seg\u001b[39m.\u001b[39;49madd(\u001b[39mmin\u001b[39;49m(\u001b[39m4000000\u001b[39;49m, x\u001b[39m-\u001b[39;49mleftdistance), \u001b[39mmax\u001b[39;49m(\u001b[39m0\u001b[39;49m,x\u001b[39m+\u001b[39;49mleftdistance))\n\u001b[0;32m     20\u001b[0m \u001b[39mlen\u001b[39m(goal)\n",
      "Cell \u001b[1;32mIn [4], line 25\u001b[0m, in \u001b[0;36mLazySegmentTree.add\u001b[1;34m(self, start, end, l, r, idx)\u001b[0m\n\u001b[0;32m     23\u001b[0m mid \u001b[39m=\u001b[39m (l \u001b[39m+\u001b[39m r) \u001b[39m/\u001b[39m\u001b[39m/\u001b[39m \u001b[39m2\u001b[39m\n\u001b[0;32m     24\u001b[0m \u001b[39mself\u001b[39m\u001b[39m.\u001b[39madd(start, end, l, mid, idx\u001b[39m*\u001b[39m\u001b[39m2\u001b[39m)\n\u001b[1;32m---> 25\u001b[0m \u001b[39mself\u001b[39;49m\u001b[39m.\u001b[39;49madd(start, end, mid\u001b[39m+\u001b[39;49m\u001b[39m1\u001b[39;49m, r, idx\u001b[39m*\u001b[39;49m\u001b[39m2\u001b[39;49m \u001b[39m+\u001b[39;49m \u001b[39m1\u001b[39;49m)\n\u001b[0;32m     26\u001b[0m \u001b[39mself\u001b[39m\u001b[39m.\u001b[39midxs[idx] \u001b[39m=\u001b[39m \u001b[39mself\u001b[39m\u001b[39m.\u001b[39mlazy\u001b[39m.\u001b[39mget(idx,\u001b[39m0\u001b[39m) \u001b[39m+\u001b[39m \u001b[39mmin\u001b[39m((\u001b[39mself\u001b[39m\u001b[39m.\u001b[39midxs\u001b[39m.\u001b[39mget(idx\u001b[39m*\u001b[39m\u001b[39m2\u001b[39m,\u001b[39m0\u001b[39m),\u001b[39mself\u001b[39m\u001b[39m.\u001b[39midxs\u001b[39m.\u001b[39mget(idx\u001b[39m*\u001b[39m\u001b[39m2\u001b[39m\u001b[39m+\u001b[39m\u001b[39m1\u001b[39m,\u001b[39m0\u001b[39m)))\n",
      "Cell \u001b[1;32mIn [4], line 25\u001b[0m, in \u001b[0;36mLazySegmentTree.add\u001b[1;34m(self, start, end, l, r, idx)\u001b[0m\n\u001b[0;32m     23\u001b[0m mid \u001b[39m=\u001b[39m (l \u001b[39m+\u001b[39m r) \u001b[39m/\u001b[39m\u001b[39m/\u001b[39m \u001b[39m2\u001b[39m\n\u001b[0;32m     24\u001b[0m \u001b[39mself\u001b[39m\u001b[39m.\u001b[39madd(start, end, l, mid, idx\u001b[39m*\u001b[39m\u001b[39m2\u001b[39m)\n\u001b[1;32m---> 25\u001b[0m \u001b[39mself\u001b[39;49m\u001b[39m.\u001b[39;49madd(start, end, mid\u001b[39m+\u001b[39;49m\u001b[39m1\u001b[39;49m, r, idx\u001b[39m*\u001b[39;49m\u001b[39m2\u001b[39;49m \u001b[39m+\u001b[39;49m \u001b[39m1\u001b[39;49m)\n\u001b[0;32m     26\u001b[0m \u001b[39mself\u001b[39m\u001b[39m.\u001b[39midxs[idx] \u001b[39m=\u001b[39m \u001b[39mself\u001b[39m\u001b[39m.\u001b[39mlazy\u001b[39m.\u001b[39mget(idx,\u001b[39m0\u001b[39m) \u001b[39m+\u001b[39m \u001b[39mmin\u001b[39m((\u001b[39mself\u001b[39m\u001b[39m.\u001b[39midxs\u001b[39m.\u001b[39mget(idx\u001b[39m*\u001b[39m\u001b[39m2\u001b[39m,\u001b[39m0\u001b[39m),\u001b[39mself\u001b[39m\u001b[39m.\u001b[39midxs\u001b[39m.\u001b[39mget(idx\u001b[39m*\u001b[39m\u001b[39m2\u001b[39m\u001b[39m+\u001b[39m\u001b[39m1\u001b[39m,\u001b[39m0\u001b[39m)))\n",
      "    \u001b[1;31m[... skipping similar frames: LazySegmentTree.add at line 25 (3 times)]\u001b[0m\n",
      "Cell \u001b[1;32mIn [4], line 24\u001b[0m, in \u001b[0;36mLazySegmentTree.add\u001b[1;34m(self, start, end, l, r, idx)\u001b[0m\n\u001b[0;32m     22\u001b[0m \u001b[39melse\u001b[39;00m:\n\u001b[0;32m     23\u001b[0m     mid \u001b[39m=\u001b[39m (l \u001b[39m+\u001b[39m r) \u001b[39m/\u001b[39m\u001b[39m/\u001b[39m \u001b[39m2\u001b[39m\n\u001b[1;32m---> 24\u001b[0m     \u001b[39mself\u001b[39;49m\u001b[39m.\u001b[39;49madd(start, end, l, mid, idx\u001b[39m*\u001b[39;49m\u001b[39m2\u001b[39;49m)\n\u001b[0;32m     25\u001b[0m     \u001b[39mself\u001b[39m\u001b[39m.\u001b[39madd(start, end, mid\u001b[39m+\u001b[39m\u001b[39m1\u001b[39m, r, idx\u001b[39m*\u001b[39m\u001b[39m2\u001b[39m \u001b[39m+\u001b[39m \u001b[39m1\u001b[39m)\n\u001b[0;32m     26\u001b[0m     \u001b[39mself\u001b[39m\u001b[39m.\u001b[39midxs[idx] \u001b[39m=\u001b[39m \u001b[39mself\u001b[39m\u001b[39m.\u001b[39mlazy\u001b[39m.\u001b[39mget(idx,\u001b[39m0\u001b[39m) \u001b[39m+\u001b[39m \u001b[39mmin\u001b[39m((\u001b[39mself\u001b[39m\u001b[39m.\u001b[39midxs\u001b[39m.\u001b[39mget(idx\u001b[39m*\u001b[39m\u001b[39m2\u001b[39m,\u001b[39m0\u001b[39m),\u001b[39mself\u001b[39m\u001b[39m.\u001b[39midxs\u001b[39m.\u001b[39mget(idx\u001b[39m*\u001b[39m\u001b[39m2\u001b[39m\u001b[39m+\u001b[39m\u001b[39m1\u001b[39m,\u001b[39m0\u001b[39m)))\n",
      "    \u001b[1;31m[... skipping similar frames: LazySegmentTree.add at line 25 (1 times)]\u001b[0m\n",
      "Cell \u001b[1;32mIn [4], line 24\u001b[0m, in \u001b[0;36mLazySegmentTree.add\u001b[1;34m(self, start, end, l, r, idx)\u001b[0m\n\u001b[0;32m     22\u001b[0m \u001b[39melse\u001b[39;00m:\n\u001b[0;32m     23\u001b[0m     mid \u001b[39m=\u001b[39m (l \u001b[39m+\u001b[39m r) \u001b[39m/\u001b[39m\u001b[39m/\u001b[39m \u001b[39m2\u001b[39m\n\u001b[1;32m---> 24\u001b[0m     \u001b[39mself\u001b[39;49m\u001b[39m.\u001b[39;49madd(start, end, l, mid, idx\u001b[39m*\u001b[39;49m\u001b[39m2\u001b[39;49m)\n\u001b[0;32m     25\u001b[0m     \u001b[39mself\u001b[39m\u001b[39m.\u001b[39madd(start, end, mid\u001b[39m+\u001b[39m\u001b[39m1\u001b[39m, r, idx\u001b[39m*\u001b[39m\u001b[39m2\u001b[39m \u001b[39m+\u001b[39m \u001b[39m1\u001b[39m)\n\u001b[0;32m     26\u001b[0m     \u001b[39mself\u001b[39m\u001b[39m.\u001b[39midxs[idx] \u001b[39m=\u001b[39m \u001b[39mself\u001b[39m\u001b[39m.\u001b[39mlazy\u001b[39m.\u001b[39mget(idx,\u001b[39m0\u001b[39m) \u001b[39m+\u001b[39m \u001b[39mmin\u001b[39m((\u001b[39mself\u001b[39m\u001b[39m.\u001b[39midxs\u001b[39m.\u001b[39mget(idx\u001b[39m*\u001b[39m\u001b[39m2\u001b[39m,\u001b[39m0\u001b[39m),\u001b[39mself\u001b[39m\u001b[39m.\u001b[39midxs\u001b[39m.\u001b[39mget(idx\u001b[39m*\u001b[39m\u001b[39m2\u001b[39m\u001b[39m+\u001b[39m\u001b[39m1\u001b[39m,\u001b[39m0\u001b[39m)))\n",
      "    \u001b[1;31m[... skipping similar frames: LazySegmentTree.add at line 25 (5 times), LazySegmentTree.add at line 24 (4 times)]\u001b[0m\n",
      "Cell \u001b[1;32mIn [4], line 25\u001b[0m, in \u001b[0;36mLazySegmentTree.add\u001b[1;34m(self, start, end, l, r, idx)\u001b[0m\n\u001b[0;32m     23\u001b[0m mid \u001b[39m=\u001b[39m (l \u001b[39m+\u001b[39m r) \u001b[39m/\u001b[39m\u001b[39m/\u001b[39m \u001b[39m2\u001b[39m\n\u001b[0;32m     24\u001b[0m \u001b[39mself\u001b[39m\u001b[39m.\u001b[39madd(start, end, l, mid, idx\u001b[39m*\u001b[39m\u001b[39m2\u001b[39m)\n\u001b[1;32m---> 25\u001b[0m \u001b[39mself\u001b[39;49m\u001b[39m.\u001b[39;49madd(start, end, mid\u001b[39m+\u001b[39;49m\u001b[39m1\u001b[39;49m, r, idx\u001b[39m*\u001b[39;49m\u001b[39m2\u001b[39;49m \u001b[39m+\u001b[39;49m \u001b[39m1\u001b[39;49m)\n\u001b[0;32m     26\u001b[0m \u001b[39mself\u001b[39m\u001b[39m.\u001b[39midxs[idx] \u001b[39m=\u001b[39m \u001b[39mself\u001b[39m\u001b[39m.\u001b[39mlazy\u001b[39m.\u001b[39mget(idx,\u001b[39m0\u001b[39m) \u001b[39m+\u001b[39m \u001b[39mmin\u001b[39m((\u001b[39mself\u001b[39m\u001b[39m.\u001b[39midxs\u001b[39m.\u001b[39mget(idx\u001b[39m*\u001b[39m\u001b[39m2\u001b[39m,\u001b[39m0\u001b[39m),\u001b[39mself\u001b[39m\u001b[39m.\u001b[39midxs\u001b[39m.\u001b[39mget(idx\u001b[39m*\u001b[39m\u001b[39m2\u001b[39m\u001b[39m+\u001b[39m\u001b[39m1\u001b[39m,\u001b[39m0\u001b[39m)))\n",
      "Cell \u001b[1;32mIn [4], line 24\u001b[0m, in \u001b[0;36mLazySegmentTree.add\u001b[1;34m(self, start, end, l, r, idx)\u001b[0m\n\u001b[0;32m     22\u001b[0m \u001b[39melse\u001b[39;00m:\n\u001b[0;32m     23\u001b[0m     mid \u001b[39m=\u001b[39m (l \u001b[39m+\u001b[39m r) \u001b[39m/\u001b[39m\u001b[39m/\u001b[39m \u001b[39m2\u001b[39m\n\u001b[1;32m---> 24\u001b[0m     \u001b[39mself\u001b[39;49m\u001b[39m.\u001b[39;49madd(start, end, l, mid, idx\u001b[39m*\u001b[39;49m\u001b[39m2\u001b[39;49m)\n\u001b[0;32m     25\u001b[0m     \u001b[39mself\u001b[39m\u001b[39m.\u001b[39madd(start, end, mid\u001b[39m+\u001b[39m\u001b[39m1\u001b[39m, r, idx\u001b[39m*\u001b[39m\u001b[39m2\u001b[39m \u001b[39m+\u001b[39m \u001b[39m1\u001b[39m)\n\u001b[0;32m     26\u001b[0m     \u001b[39mself\u001b[39m\u001b[39m.\u001b[39midxs[idx] \u001b[39m=\u001b[39m \u001b[39mself\u001b[39m\u001b[39m.\u001b[39mlazy\u001b[39m.\u001b[39mget(idx,\u001b[39m0\u001b[39m) \u001b[39m+\u001b[39m \u001b[39mmin\u001b[39m((\u001b[39mself\u001b[39m\u001b[39m.\u001b[39midxs\u001b[39m.\u001b[39mget(idx\u001b[39m*\u001b[39m\u001b[39m2\u001b[39m,\u001b[39m0\u001b[39m),\u001b[39mself\u001b[39m\u001b[39m.\u001b[39midxs\u001b[39m.\u001b[39mget(idx\u001b[39m*\u001b[39m\u001b[39m2\u001b[39m\u001b[39m+\u001b[39m\u001b[39m1\u001b[39m,\u001b[39m0\u001b[39m)))\n",
      "Cell \u001b[1;32mIn [4], line 12\u001b[0m, in \u001b[0;36mLazySegmentTree.add\u001b[1;34m(self, start, end, l, r, idx)\u001b[0m\n\u001b[0;32m      9\u001b[0m     \u001b[39mself\u001b[39m\u001b[39m.\u001b[39midxs \u001b[39m=\u001b[39m defaultdict(\u001b[39mint\u001b[39m)\n\u001b[0;32m     10\u001b[0m     \u001b[39mself\u001b[39m\u001b[39m.\u001b[39mlazy \u001b[39m=\u001b[39m defaultdict(\u001b[39mint\u001b[39m)\n\u001b[1;32m---> 12\u001b[0m \u001b[39mdef\u001b[39;00m \u001b[39madd\u001b[39m(\u001b[39mself\u001b[39m, start, end, l\u001b[39m=\u001b[39m\u001b[39mNone\u001b[39;00m,r\u001b[39m=\u001b[39m\u001b[39mNone\u001b[39;00m, idx\u001b[39m=\u001b[39m\u001b[39m1\u001b[39m):\n\u001b[0;32m     13\u001b[0m     \u001b[39mif\u001b[39;00m l \u001b[39m==\u001b[39m \u001b[39mNone\u001b[39;00m:\n\u001b[0;32m     14\u001b[0m         l \u001b[39m=\u001b[39m \u001b[39mself\u001b[39m\u001b[39m.\u001b[39mleft\n",
      "\u001b[1;31mKeyboardInterrupt\u001b[0m: "
     ]
    }
   ],
   "source": [
    "f = open(\"in.txt\").read().split(\"\\n\")\n",
    "lines = [ints(line) for line in f]\n",
    "taken = set()\n",
    "sensors = set()\n",
    "ans = 0\n",
    "goal = set()\n",
    "tar = 2000000\n",
    "seg = LazySegmentTree(0,4000000)\n",
    "segs = [LazySegmentTree(0,4000000) for i in range(4000001)]\n",
    "rows = 4000001\n",
    "for x,y,x2,y2 in lines:\n",
    "    print(x)\n",
    "    distance = abs(x2-x) + abs(y2-y)\n",
    "    for i in range(rows):\n",
    "        deltatar = abs(i - y)\n",
    "        leftdistance = distance - deltatar\n",
    "        if leftdistance > 0:\n",
    "            seg.add(min(4000000, x-leftdistance), max(0,x+leftdistance))\n",
    "    \n",
    "len(goal)\n",
    "\n",
    "    "
   ]
  },
  {
   "cell_type": "code",
   "execution_count": 20,
   "metadata": {},
   "outputs": [
    {
     "data": {
      "text/plain": [
       "2"
      ]
     },
     "execution_count": 20,
     "metadata": {},
     "output_type": "execute_result"
    }
   ],
   "source": [
    "1+1"
   ]
  },
  {
   "cell_type": "code",
   "execution_count": 23,
   "metadata": {},
   "outputs": [
    {
     "name": "stdout",
     "output_type": "stream",
     "text": [
      "0\n"
     ]
    }
   ],
   "source": [
    "for i, s in enumerate(segs):\n",
    "    if not s.getbest():\n",
    "        print(i)\n",
    "        tar = i\n",
    "        break"
   ]
  },
  {
   "cell_type": "code",
   "execution_count": 10,
   "metadata": {},
   "outputs": [
    {
     "name": "stdout",
     "output_type": "stream",
     "text": [
      "found 3337615 2933732 answer 13350462933732\n"
     ]
    }
   ],
   "source": []
  }
 ],
 "metadata": {
  "file_extension": ".py",
  "kernelspec": {
   "display_name": "Python 3.11.0 ('.aocenvpy311': venv)",
   "language": "python",
   "name": "python3"
  },
  "language_info": {
   "codemirror_mode": {
    "name": "ipython",
    "version": 3
   },
   "file_extension": ".py",
   "mimetype": "text/x-python",
   "name": "python",
   "nbconvert_exporter": "python",
   "pygments_lexer": "ipython3",
   "version": "3.11.0 (main, Oct 24 2022, 18:26:48) [MSC v.1933 64 bit (AMD64)]"
  },
  "mimetype": "text/x-python",
  "name": "python",
  "npconvert_exporter": "python",
  "orig_nbformat": 2,
  "pygments_lexer": "ipython3",
  "version": 3,
  "vscode": {
   "interpreter": {
    "hash": "7b5336723abeab741c71fcc933eb6e6f53a288e70399d841fc0756db1169ea34"
   }
  }
 },
 "nbformat": 4,
 "nbformat_minor": 2
}
