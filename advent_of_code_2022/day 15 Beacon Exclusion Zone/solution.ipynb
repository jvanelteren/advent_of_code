{
 "cells": [
  {
   "cell_type": "code",
   "execution_count": 4,
   "metadata": {},
   "outputs": [],
   "source": [
    "from dataclasses import dataclass\n",
    "from math import gcd, ceil\n",
    "import re\n",
    "from collections import Counter, defaultdict, namedtuple, deque\n",
    "from itertools import product, chain, combinations, combinations_with_replacement, permutations, accumulate, zip_longest\n",
    "import numpy as np\n",
    "from matplotlib import pyplot as plt\n",
    "import networkx as nx\n",
    "\n",
    "from aocutils.common import copy_func, patch_to, patch, to_int, ints, flatten, zippify, multidict, rev, data, quantify, atom, atoms, list_atoms, list_multiply, mapt\n",
    "from aocutils.grid import gridneigh, arr_to_dict, grid_to_dict, neighbors, arr_neighbors, iterate, Dim, dimensions, positive, manhattan, conv1d, conv2d, rotate\n",
    "from aocutils.maze import bfs, dijkstra, get_path, dfs\n",
    "from aocutils.math import gcd, factors, lcm, crt, mul_inv, Segment, lis, angle, all_combinations, all_permutations, mst\n",
    "from aocutils.special import md5, binarysearch, deduce_matches, find_specific_pattern, find_repeat, find_cycle, UnionFind, Octree, LazySegmentTree, Trie\n",
    "from aocutils.visuals import visualize_graph, labelize, animate_grid, plot\n",
    "from aocutils.cfg import CFG\n",
    "from aocutils.earley import State, Earley\n",
    "from aocutils.shunting import ShuntingYard"
   ]
  },
  {
   "cell_type": "code",
   "execution_count": 33,
   "metadata": {},
   "outputs": [
    {
     "data": {
      "text/plain": [
       "5176944"
      ]
     },
     "execution_count": 33,
     "metadata": {},
     "output_type": "execute_result"
    }
   ],
   "source": [
    "f = open(\"in.txt\").read().split(\"\\n\")\n",
    "lines = [ints(line) for line in f]\n",
    "taken = set()\n",
    "sensors = set()\n",
    "ans = 0\n",
    "goal = set()\n",
    "tar = 2000000\n",
    "for x,y,x2,y2 in lines:\n",
    "    sensors.add((x,y))\n",
    "    taken.add((x,y))\n",
    "    distance = abs(x2-x) + abs(y2-y)\n",
    "    deltatar = abs(tar - y)\n",
    "    leftdistance = distance - deltatar\n",
    "    if leftdistance > 0:\n",
    "        ans += leftdistance\n",
    "        for i in range(x,x+leftdistance):\n",
    "            goal.add((i,tar))\n",
    "        for i in range(x-leftdistance,x+1):\n",
    "            goal.add((i,tar))\n",
    "len(goal)\n",
    "\n",
    "    \n",
    "    "
   ]
  },
  {
   "cell_type": "code",
   "execution_count": 34,
   "metadata": {},
   "outputs": [
    {
     "data": {
      "text/plain": [
       "(1882733, 2000000)"
      ]
     },
     "execution_count": 34,
     "metadata": {},
     "output_type": "execute_result"
    }
   ],
   "source": [
    "goal.pop()"
   ]
  },
  {
   "cell_type": "code",
   "execution_count": null,
   "metadata": {},
   "outputs": [],
   "source": []
  },
  {
   "cell_type": "code",
   "execution_count": 12,
   "metadata": {},
   "outputs": [],
   "source": [
    "#| export\n",
    "\n",
    "class LazySegmentTree():\n",
    "    # based on https://leetcode.com/problems/my-calendar-iii/solution/\n",
    "    # lazy: the number of events covering all times in the range. As all numbers that belong to this range will be added by some increment, we don't have to propagate the base increment to every time in the interval, all we need to do is putting the number in this lazy field. \n",
    "    # We only update val by adding lazy when requested to query the max numbers of intervals in [L, R].\n",
    "    def __init__(self, left, right) -> None:\n",
    "        self.left, self.right = left, right # detailing the range of interest\n",
    "        self.idxs = defaultdict(int)\n",
    "        self.lazy = defaultdict(int)\n",
    "        \n",
    "    def add(self, start, end, l=None,r=None, idx=1):\n",
    "        if l == None:\n",
    "            l = self.left\n",
    "        if r == None:\n",
    "            r = self.right\n",
    "        if l > end or r < start:\n",
    "            return\n",
    "        elif l >= start and r <= end and l <=r:\n",
    "            self.idxs[idx] += 1\n",
    "            self.lazy[idx] += 1\n",
    "        else:\n",
    "            mid = (l + r) // 2\n",
    "            self.add(start, end, l, mid, idx*2)\n",
    "            self.add(start, end, mid+1, r, idx*2 + 1)\n",
    "            self.idxs[idx] = self.lazy.get(idx,0) + min((self.idxs.get(idx*2,0),self.idxs.get(idx*2+1,0)))\n",
    "            \n",
    "    def getbest(self):\n",
    "        return self.idxs[1]"
   ]
  },
  {
   "cell_type": "code",
   "execution_count": 19,
   "metadata": {},
   "outputs": [
    {
     "name": "stdout",
     "output_type": "stream",
     "text": [
      "3999724\n",
      "3995530\n",
      "3016889\n",
      "3443945\n",
      "168575\n",
      "2820722\n",
      "2329102\n",
      "3889469\n",
      "3256726\n",
      "3729564\n",
      "206718\n",
      "2178192\n",
      "1884402\n",
      "3060435\n",
      "3998355\n",
      "3704399\n",
      "1421672\n",
      "3415633\n",
      "2408019\n",
      "3735247\n",
      "1756494\n",
      "780161\n",
      "3036853\n",
      "53246\n",
      "2110517\n",
      "3149491\n"
     ]
    },
    {
     "data": {
      "text/plain": [
       "0"
      ]
     },
     "execution_count": 19,
     "metadata": {},
     "output_type": "execute_result"
    }
   ],
   "source": [
    "f = open(\"in.txt\").read().split(\"\\n\")\n",
    "lines = [ints(line) for line in f]\n",
    "taken = set()\n",
    "sensors = set()\n",
    "ans = 0\n",
    "goal = set()\n",
    "tar = 2000000\n",
    "seg = LazySegmentTree(0,4000000)\n",
    "segs = [LazySegmentTree(0,4000000) for i in range(4000001)]\n",
    "rows = 4000001\n",
    "for x,y,x2,y2 in lines:\n",
    "    print(x)\n",
    "    distance = abs(x2-x) + abs(y2-y)\n",
    "    for i in range(rows):\n",
    "        deltatar = abs(i - y)\n",
    "        leftdistance = distance - deltatar\n",
    "        if leftdistance > 0:\n",
    "            seg.add(min(4000000, x-leftdistance), max(0,x+leftdistance))\n",
    "    \n",
    "len(goal)\n",
    "\n",
    "    "
   ]
  },
  {
   "cell_type": "code",
   "execution_count": 20,
   "metadata": {},
   "outputs": [
    {
     "data": {
      "text/plain": [
       "2"
      ]
     },
     "execution_count": 20,
     "metadata": {},
     "output_type": "execute_result"
    }
   ],
   "source": [
    "1+1"
   ]
  },
  {
   "cell_type": "code",
   "execution_count": 23,
   "metadata": {},
   "outputs": [
    {
     "name": "stdout",
     "output_type": "stream",
     "text": [
      "0\n"
     ]
    }
   ],
   "source": [
    "for i, s in enumerate(segs):\n",
    "    if not s.getbest():\n",
    "        print(i)\n",
    "        tar = i\n",
    "        break"
   ]
  },
  {
   "cell_type": "code",
   "execution_count": 25,
   "metadata": {},
   "outputs": [
    {
     "name": "stdout",
     "output_type": "stream",
     "text": [
      "0\n",
      "0\n",
      "0\n",
      "0\n",
      "0\n",
      "0\n",
      "0\n",
      "0\n",
      "0\n",
      "0\n"
     ]
    }
   ],
   "source": [
    "for i, s in enumerate(segs[:10]):\n",
    "    print(s.getbest())"
   ]
  },
  {
   "cell_type": "code",
   "execution_count": 9,
   "metadata": {},
   "outputs": [
    {
     "name": "stdout",
     "output_type": "stream",
     "text": [
      "found 15 11\n"
     ]
    }
   ],
   "source": [
    "f = open(\"t0.txt\").read().split(\"\\n\")\n",
    "lines = [ints(line) for line in f]\n",
    "taken = set()\n",
    "sensors = set()\n",
    "goal = set()\n",
    "upper = 20\n",
    "for i in range(0,upper):\n",
    "    \n",
    "    seg = []\n",
    "    for x,y,x2,y2 in lines:\n",
    "        distance = abs(x2-x) + abs(y2-y)\n",
    "        deltatar = abs(i - y)\n",
    "        leftdistance = distance - deltatar\n",
    "        if leftdistance > 0:\n",
    "            seg.append((max(0,x-leftdistance), min(upper, x+leftdistance)))\n",
    "    seg.sort()\n",
    "    found = 0\n",
    "    maxx = 0\n",
    "    for x,y in seg:\n",
    "        if x > maxx+1:\n",
    "            print('found',x,i)\n",
    "        maxx = max(maxx, y)\n",
    "        if maxx > upper:\n",
    "            break\n",
    "        \n",
    "\n"
   ]
  },
  {
   "cell_type": "code",
   "execution_count": 10,
   "metadata": {},
   "outputs": [
    {
     "data": {
      "text/plain": [
       "13350458933732"
      ]
     },
     "execution_count": 10,
     "metadata": {},
     "output_type": "execute_result"
    }
   ],
   "source": [
    "3337614*4000000+ 2933732"
   ]
  },
  {
   "cell_type": "code",
   "execution_count": null,
   "metadata": {},
   "outputs": [],
   "source": [
    "4000000"
   ]
  },
  {
   "cell_type": "code",
   "execution_count": 7,
   "metadata": {},
   "outputs": [
    {
     "data": {
      "text/plain": [
       "11734931337615"
      ]
     },
     "execution_count": 7,
     "metadata": {},
     "output_type": "execute_result"
    }
   ],
   "source": [
    "2933732*4000000+3337615 "
   ]
  },
  {
   "cell_type": "code",
   "execution_count": null,
   "metadata": {},
   "outputs": [],
   "source": []
  },
  {
   "cell_type": "code",
   "execution_count": null,
   "metadata": {},
   "outputs": [],
   "source": [
    "13350462933732\n",
    "11734931337615"
   ]
  },
  {
   "cell_type": "code",
   "execution_count": null,
   "metadata": {},
   "outputs": [],
   "source": [
    "for i in range(rows):\n",
    "    if (i,tar) not in goal:\n",
    "        print(i,tar)\n",
    "        print(i*4000000+tar)"
   ]
  },
  {
   "cell_type": "code",
   "execution_count": 15,
   "metadata": {},
   "outputs": [
    {
     "data": {
      "text/plain": [
       "1"
      ]
     },
     "execution_count": 15,
     "metadata": {},
     "output_type": "execute_result"
    }
   ],
   "source": [
    "seg.getbest()"
   ]
  },
  {
   "cell_type": "code",
   "execution_count": 3,
   "metadata": {},
   "outputs": [
    {
     "ename": "ValueError",
     "evalue": "invalid literal for int() with base 10: 'T'",
     "output_type": "error",
     "traceback": [
      "\u001b[1;31m---------------------------------------------------------------------------\u001b[0m",
      "\u001b[1;31mValueError\u001b[0m                                Traceback (most recent call last)",
      "Cell \u001b[1;32mIn [3], line 1\u001b[0m\n\u001b[1;32m----> 1\u001b[0m grid, neigh \u001b[39m=\u001b[39m gridneigh(\u001b[39m\"\u001b[39;49m\u001b[39min.txt\u001b[39;49m\u001b[39m\"\u001b[39;49m, to_dict\u001b[39m=\u001b[39;49m\u001b[39mTrue\u001b[39;49;00m, parser\u001b[39m=\u001b[39;49m\u001b[39mlambda\u001b[39;49;00m x: [\u001b[39mint\u001b[39;49m(ch) \u001b[39mfor\u001b[39;49;00m ch \u001b[39min\u001b[39;49;00m x])\n\u001b[0;32m      2\u001b[0m conn \u001b[39m=\u001b[39m graphparse(\u001b[39m\"\u001b[39m\u001b[39min.txt\u001b[39m\u001b[39m\"\u001b[39m, parser\u001b[39m=\u001b[39m\u001b[39mlambda\u001b[39;00m line: [x \u001b[39mfor\u001b[39;00m x \u001b[39min\u001b[39;00m line\u001b[39m.\u001b[39msplit()])\n\u001b[0;32m      3\u001b[0m conn \u001b[39m=\u001b[39m graphparse(\n\u001b[0;32m      4\u001b[0m     \u001b[39m\"\u001b[39m\u001b[39min.txt\u001b[39m\u001b[39m\"\u001b[39m,\n\u001b[0;32m      5\u001b[0m     parser\u001b[39m=\u001b[39m\u001b[39mlambda\u001b[39;00m line: [\u001b[39mint\u001b[39m(x) \u001b[39mif\u001b[39;00m x\u001b[39m.\u001b[39misnumeric() \u001b[39melse\u001b[39;00m x \u001b[39mfor\u001b[39;00m x \u001b[39min\u001b[39;00m line\u001b[39m.\u001b[39msplit()],\n\u001b[0;32m      6\u001b[0m     weights\u001b[39m=\u001b[39m\u001b[39mTrue\u001b[39;00m,\n\u001b[0;32m      7\u001b[0m )\n",
      "File \u001b[1;32md:\\programmeren\\aocutils\\aocutils\\grid.py:23\u001b[0m, in \u001b[0;36mgridneigh\u001b[1;34m(filename, to_dict, diag, inc_self, parser)\u001b[0m\n\u001b[0;32m     21\u001b[0m     arr \u001b[39m=\u001b[39m [\u001b[39mlist\u001b[39m(line) \u001b[39mfor\u001b[39;00m line \u001b[39min\u001b[39;00m \u001b[39mopen\u001b[39m(filename, \u001b[39m'\u001b[39m\u001b[39mr\u001b[39m\u001b[39m'\u001b[39m)\u001b[39m.\u001b[39mread()\u001b[39m.\u001b[39msplit(\u001b[39m'\u001b[39m\u001b[39m\\n\u001b[39;00m\u001b[39m'\u001b[39m)]\n\u001b[0;32m     22\u001b[0m \u001b[39melse\u001b[39;00m:\n\u001b[1;32m---> 23\u001b[0m     arr \u001b[39m=\u001b[39m [parser(line) \u001b[39mfor\u001b[39;49;00m line \u001b[39min\u001b[39;49;00m \u001b[39mopen\u001b[39;49m(filename, \u001b[39m'\u001b[39;49m\u001b[39mr\u001b[39;49m\u001b[39m'\u001b[39;49m)\u001b[39m.\u001b[39;49mread()\u001b[39m.\u001b[39;49msplit(\u001b[39m'\u001b[39;49m\u001b[39m\\n\u001b[39;49;00m\u001b[39m'\u001b[39;49m)]\n\u001b[0;32m     24\u001b[0m neigh \u001b[39m=\u001b[39m arr_neighbors(arr,diag, inc_self)\n\u001b[0;32m     25\u001b[0m \u001b[39mif\u001b[39;00m to_dict:\n",
      "File \u001b[1;32md:\\programmeren\\aocutils\\aocutils\\grid.py:23\u001b[0m, in \u001b[0;36m<listcomp>\u001b[1;34m(.0)\u001b[0m\n\u001b[0;32m     21\u001b[0m     arr \u001b[39m=\u001b[39m [\u001b[39mlist\u001b[39m(line) \u001b[39mfor\u001b[39;00m line \u001b[39min\u001b[39;00m \u001b[39mopen\u001b[39m(filename, \u001b[39m'\u001b[39m\u001b[39mr\u001b[39m\u001b[39m'\u001b[39m)\u001b[39m.\u001b[39mread()\u001b[39m.\u001b[39msplit(\u001b[39m'\u001b[39m\u001b[39m\\n\u001b[39;00m\u001b[39m'\u001b[39m)]\n\u001b[0;32m     22\u001b[0m \u001b[39melse\u001b[39;00m:\n\u001b[1;32m---> 23\u001b[0m     arr \u001b[39m=\u001b[39m [parser(line) \u001b[39mfor\u001b[39;00m line \u001b[39min\u001b[39;00m \u001b[39mopen\u001b[39m(filename, \u001b[39m'\u001b[39m\u001b[39mr\u001b[39m\u001b[39m'\u001b[39m)\u001b[39m.\u001b[39mread()\u001b[39m.\u001b[39msplit(\u001b[39m'\u001b[39m\u001b[39m\\n\u001b[39;00m\u001b[39m'\u001b[39m)]\n\u001b[0;32m     24\u001b[0m neigh \u001b[39m=\u001b[39m arr_neighbors(arr,diag, inc_self)\n\u001b[0;32m     25\u001b[0m \u001b[39mif\u001b[39;00m to_dict:\n",
      "Cell \u001b[1;32mIn [3], line 1\u001b[0m, in \u001b[0;36m<lambda>\u001b[1;34m(x)\u001b[0m\n\u001b[1;32m----> 1\u001b[0m grid, neigh \u001b[39m=\u001b[39m gridneigh(\u001b[39m\"\u001b[39m\u001b[39min.txt\u001b[39m\u001b[39m\"\u001b[39m, to_dict\u001b[39m=\u001b[39m\u001b[39mTrue\u001b[39;00m, parser\u001b[39m=\u001b[39m\u001b[39mlambda\u001b[39;00m x: [\u001b[39mint\u001b[39;49m(ch) \u001b[39mfor\u001b[39;49;00m ch \u001b[39min\u001b[39;49;00m x])\n\u001b[0;32m      2\u001b[0m conn \u001b[39m=\u001b[39m graphparse(\u001b[39m\"\u001b[39m\u001b[39min.txt\u001b[39m\u001b[39m\"\u001b[39m, parser\u001b[39m=\u001b[39m\u001b[39mlambda\u001b[39;00m line: [x \u001b[39mfor\u001b[39;00m x \u001b[39min\u001b[39;00m line\u001b[39m.\u001b[39msplit()])\n\u001b[0;32m      3\u001b[0m conn \u001b[39m=\u001b[39m graphparse(\n\u001b[0;32m      4\u001b[0m     \u001b[39m\"\u001b[39m\u001b[39min.txt\u001b[39m\u001b[39m\"\u001b[39m,\n\u001b[0;32m      5\u001b[0m     parser\u001b[39m=\u001b[39m\u001b[39mlambda\u001b[39;00m line: [\u001b[39mint\u001b[39m(x) \u001b[39mif\u001b[39;00m x\u001b[39m.\u001b[39misnumeric() \u001b[39melse\u001b[39;00m x \u001b[39mfor\u001b[39;00m x \u001b[39min\u001b[39;00m line\u001b[39m.\u001b[39msplit()],\n\u001b[0;32m      6\u001b[0m     weights\u001b[39m=\u001b[39m\u001b[39mTrue\u001b[39;00m,\n\u001b[0;32m      7\u001b[0m )\n",
      "Cell \u001b[1;32mIn [3], line 1\u001b[0m, in \u001b[0;36m<listcomp>\u001b[1;34m(.0)\u001b[0m\n\u001b[1;32m----> 1\u001b[0m grid, neigh \u001b[39m=\u001b[39m gridneigh(\u001b[39m\"\u001b[39m\u001b[39min.txt\u001b[39m\u001b[39m\"\u001b[39m, to_dict\u001b[39m=\u001b[39m\u001b[39mTrue\u001b[39;00m, parser\u001b[39m=\u001b[39m\u001b[39mlambda\u001b[39;00m x: [\u001b[39mint\u001b[39;49m(ch) \u001b[39mfor\u001b[39;00m ch \u001b[39min\u001b[39;00m x])\n\u001b[0;32m      2\u001b[0m conn \u001b[39m=\u001b[39m graphparse(\u001b[39m\"\u001b[39m\u001b[39min.txt\u001b[39m\u001b[39m\"\u001b[39m, parser\u001b[39m=\u001b[39m\u001b[39mlambda\u001b[39;00m line: [x \u001b[39mfor\u001b[39;00m x \u001b[39min\u001b[39;00m line\u001b[39m.\u001b[39msplit()])\n\u001b[0;32m      3\u001b[0m conn \u001b[39m=\u001b[39m graphparse(\n\u001b[0;32m      4\u001b[0m     \u001b[39m\"\u001b[39m\u001b[39min.txt\u001b[39m\u001b[39m\"\u001b[39m,\n\u001b[0;32m      5\u001b[0m     parser\u001b[39m=\u001b[39m\u001b[39mlambda\u001b[39;00m line: [\u001b[39mint\u001b[39m(x) \u001b[39mif\u001b[39;00m x\u001b[39m.\u001b[39misnumeric() \u001b[39melse\u001b[39;00m x \u001b[39mfor\u001b[39;00m x \u001b[39min\u001b[39;00m line\u001b[39m.\u001b[39msplit()],\n\u001b[0;32m      6\u001b[0m     weights\u001b[39m=\u001b[39m\u001b[39mTrue\u001b[39;00m,\n\u001b[0;32m      7\u001b[0m )\n",
      "\u001b[1;31mValueError\u001b[0m: invalid literal for int() with base 10: 'T'"
     ]
    }
   ],
   "source": [
    "grid, neigh = gridneigh(\"in.txt\", to_dict=True, parser=lambda x: [int(ch) for ch in x])\n",
    "conn = graphparse(\"in.txt\", parser=lambda line: [x for x in line.split()])\n",
    "conn = graphparse(\n",
    "    \"in.txt\",\n",
    "    parser=lambda line: [int(x) if x.isnumeric() else x for x in line.split()],\n",
    "    weights=True,\n",
    ")"
   ]
  }
 ],
 "metadata": {
  "file_extension": ".py",
  "kernelspec": {
   "display_name": "Python 3.11.0 ('.aocenvpy311': venv)",
   "language": "python",
   "name": "python3"
  },
  "language_info": {
   "codemirror_mode": {
    "name": "ipython",
    "version": 3
   },
   "file_extension": ".py",
   "mimetype": "text/x-python",
   "name": "python",
   "nbconvert_exporter": "python",
   "pygments_lexer": "ipython3",
   "version": "3.11.0 (main, Oct 24 2022, 18:26:48) [MSC v.1933 64 bit (AMD64)]"
  },
  "mimetype": "text/x-python",
  "name": "python",
  "npconvert_exporter": "python",
  "orig_nbformat": 2,
  "pygments_lexer": "ipython3",
  "version": 3,
  "vscode": {
   "interpreter": {
    "hash": "7b5336723abeab741c71fcc933eb6e6f53a288e70399d841fc0756db1169ea34"
   }
  }
 },
 "nbformat": 4,
 "nbformat_minor": 2
}
