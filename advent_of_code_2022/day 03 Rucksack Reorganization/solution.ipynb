{
 "cells": [
  {
   "cell_type": "code",
   "execution_count": 1,
   "metadata": {},
   "outputs": [
    {
     "data": {
      "text/plain": [
       "7850"
      ]
     },
     "execution_count": 1,
     "metadata": {},
     "output_type": "execute_result"
    }
   ],
   "source": [
    "\n",
    "f=open('input.txt').read()\n",
    "rucksacks = [line for line in f.split()]\n",
    "\n",
    "def prio(error):\n",
    "    if error.islower():\n",
    "        return ord(error)-96\n",
    "    else:\n",
    "        return ord(error) - 64 + 26\n",
    "\n",
    "priorities = 0\n",
    "for rucksack in rucksacks:\n",
    "    midpoint = len(rucksack) // 2\n",
    "    error = (set(rucksack[:midpoint]) & set(rucksack[midpoint:])).pop()\n",
    "    priorities += prio(error)\n",
    "    \n",
    "priorities"
   ]
  },
  {
   "cell_type": "code",
   "execution_count": 2,
   "metadata": {},
   "outputs": [
    {
     "data": {
      "text/plain": [
       "2581"
      ]
     },
     "execution_count": 2,
     "metadata": {},
     "output_type": "execute_result"
    }
   ],
   "source": [
    "# part 2\n",
    "priorities = 0\n",
    "for i in range(0,len(rucksacks), 3):\n",
    "    error = (set(rucksacks[i]) & set(rucksacks[i+1]) & set(rucksacks[i+2])).pop()\n",
    "    priorities += prio(error)\n",
    "priorities"
   ]
  },
  {
   "cell_type": "code",
   "execution_count": null,
   "metadata": {},
   "outputs": [],
   "source": []
  }
 ],
 "metadata": {
  "file_extension": ".py",
  "kernelspec": {
   "display_name": "Python 3.11.0 ('.aocenvpy311': venv)",
   "language": "python",
   "name": "python3"
  },
  "language_info": {
   "codemirror_mode": {
    "name": "ipython",
    "version": 3
   },
   "file_extension": ".py",
   "mimetype": "text/x-python",
   "name": "python",
   "nbconvert_exporter": "python",
   "pygments_lexer": "ipython3",
   "version": "3.11.0 (main, Oct 24 2022, 18:26:48) [MSC v.1933 64 bit (AMD64)]"
  },
  "mimetype": "text/x-python",
  "name": "python",
  "npconvert_exporter": "python",
  "orig_nbformat": 2,
  "pygments_lexer": "ipython3",
  "version": 3,
  "vscode": {
   "interpreter": {
    "hash": "7b5336723abeab741c71fcc933eb6e6f53a288e70399d841fc0756db1169ea34"
   }
  }
 },
 "nbformat": 4,
 "nbformat_minor": 2
}
