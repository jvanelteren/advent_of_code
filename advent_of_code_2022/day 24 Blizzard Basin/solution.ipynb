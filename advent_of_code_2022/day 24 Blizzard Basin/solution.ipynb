{
 "cells": [
  {
   "cell_type": "code",
   "execution_count": 31,
   "metadata": {},
   "outputs": [],
   "source": [
    "from collections import defaultdict, deque\n",
    "from aocutils.grid import gridneigh\n",
    "import sys\n",
    "\n",
    "grid, neigh = gridneigh(\"in.txt\", to_dict=True, parser=lambda x: [ch for ch in x])\n",
    "grids = [grid]\n",
    "poss = set()\n",
    "wind = []\n",
    "taken = set()\n",
    "for node, val in grid.items():\n",
    "    if val != \"#\":\n",
    "        poss.add(node)\n",
    "    if val in \"<>^v\":\n",
    "        wind.append((node, val))\n",
    "        taken.add(node)\n",
    "takens = {}\n",
    "takens[0] = taken\n",
    "rows = max(r for r, c in grid)\n",
    "cols = max(c for r, c in grid)\n",
    "do = {\">\": (0, 1), \"<\": (0, -1), \"^\": (-1, 0), \"v\": (1, 0)}\n",
    "\n",
    "for i in range(1, 2000):\n",
    "    taken = set()\n",
    "    newwind = []\n",
    "    for node, val in wind:\n",
    "        r, c = node\n",
    "        if (new := (r + do[val][0], c + do[val][1])) in poss:\n",
    "            newwind.append((new, val))\n",
    "        else:\n",
    "            if val == \"v\":\n",
    "                newwind.append(((1, c), val))\n",
    "            if val == \"^\":\n",
    "                newwind.append(((rows - 1, c), val))\n",
    "            if val == \"<\":\n",
    "                newwind.append(((r, cols - 1), val))\n",
    "            if val == \">\":\n",
    "                newwind.append(((r, 1), val))\n",
    "        taken.add(newwind[-1][0])\n",
    "        wind = newwind\n",
    "    takens[i] = taken"
   ]
  },
  {
   "cell_type": "code",
   "execution_count": 32,
   "metadata": {},
   "outputs": [
    {
     "name": "stdout",
     "output_type": "stream",
     "text": [
      "274 839\n"
     ]
    }
   ],
   "source": [
    "# made one major mistake by always adding waiting to the queue. But that is not always allowed when the snowstorm passes over that position\n",
    "def bfs(goal):\n",
    "    seen = set()\n",
    "    tocheck = deque([(0,1,0,1)])\n",
    "    while tocheck:\n",
    "        r,c, dis, leg = tocheck.popleft()\n",
    "        for n in neigh[(r,c)]:\n",
    "            newleg = leg\n",
    "            if leg == 1 and n == (rows, cols-1):\n",
    "                newleg = 2\n",
    "            if leg == 2 and n == (0,1):\n",
    "                newleg = 3\n",
    "            if n in poss and (new := (n[0], n[1], dis + 1, newleg)) not in seen:\n",
    "                if (n[0], n[1], newleg) == goal:\n",
    "                    return dis + 1\n",
    "                if n not in takens[dis+1]:\n",
    "                    seen.add(new)\n",
    "                    tocheck.append(new)\n",
    "                else:\n",
    "                    pass\n",
    "        if (r,c, dis + 1,leg) not in seen and (r,c) not in takens[dis+1]:\n",
    "            tocheck.append((r,c,dis+1, leg))    \n",
    "            \n",
    "print(bfs((rows, cols-1,2)), bfs((rows, cols-1,3)))"
   ]
  },
  {
   "cell_type": "code",
   "execution_count": 38,
   "metadata": {},
   "outputs": [
    {
     "name": "stdout",
     "output_type": "stream",
     "text": [
      "274 839\n"
     ]
    }
   ],
   "source": [
    "# A* makes it 4x faster, but also the priority is really unstable\n",
    "import heapq\n",
    "def bfs(goal):\n",
    "    seen = set()\n",
    "    tocheck = [(0,(0,1,0,1))]\n",
    "    while tocheck:\n",
    "        _, (r,c, dis, leg) = heapq.heappop(tocheck)\n",
    "        for n in neigh[(r,c)]:\n",
    "            newleg = leg\n",
    "            if leg == 1 and n == (rows, cols-1):\n",
    "                newleg = 2\n",
    "            if leg == 2 and n == (0,1):\n",
    "                newleg = 3\n",
    "            if n in poss and (new := (n[0], n[1], dis + 1, newleg)) not in seen:\n",
    "                if (n[0], n[1], newleg) == goal:\n",
    "                    return dis + 1\n",
    "                if n not in takens[dis+1]:\n",
    "                    seen.add(new)\n",
    "                    if newleg == 2:\n",
    "                        prio = n[0] + n[1] -newleg*1000 + dis\n",
    "                    else:\n",
    "                        prio = -n[0] - n[1] -newleg*1000 + dis\n",
    "                        \n",
    "                    # print('prio', prio, new)\n",
    "                    heapq.heappush(tocheck, (prio, new))\n",
    "                else:\n",
    "                    pass\n",
    "        if (r,c, dis + 1,leg) not in seen and (r,c) not in takens[dis+1]:\n",
    "            heapq.heappush(tocheck, (prio, (r,c,dis+1, leg)))\n",
    "            \n",
    "print(bfs((rows, cols-1,2)), bfs((rows, cols-1,3)))"
   ]
  }
 ],
 "metadata": {
  "file_extension": ".py",
  "kernelspec": {
   "display_name": "Python 3.11.0 ('.aocenvpy311': venv)",
   "language": "python",
   "name": "python3"
  },
  "language_info": {
   "codemirror_mode": {
    "name": "ipython",
    "version": 3
   },
   "file_extension": ".py",
   "mimetype": "text/x-python",
   "name": "python",
   "nbconvert_exporter": "python",
   "pygments_lexer": "ipython3",
   "version": "3.11.0"
  },
  "mimetype": "text/x-python",
  "name": "python",
  "npconvert_exporter": "python",
  "orig_nbformat": 2,
  "pygments_lexer": "ipython3",
  "version": 3,
  "vscode": {
   "interpreter": {
    "hash": "7b5336723abeab741c71fcc933eb6e6f53a288e70399d841fc0756db1169ea34"
   }
  }
 },
 "nbformat": 4,
 "nbformat_minor": 2
}
