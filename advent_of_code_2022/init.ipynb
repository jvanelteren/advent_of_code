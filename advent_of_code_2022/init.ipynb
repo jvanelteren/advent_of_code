{
 "cells": [
  {
   "cell_type": "code",
   "execution_count": 1,
   "metadata": {},
   "outputs": [],
   "source": [
    "import os\n",
    "from pathlib import Path\n",
    "import shutil\n",
    "p = Path(\"C:/Users/Jesse/Documents/GitHub/advent_of_code/advent_of_code_2022\")\n"
   ]
  },
  {
   "cell_type": "code",
   "execution_count": 19,
   "metadata": {},
   "outputs": [
    {
     "name": "stdout",
     "output_type": "stream",
     "text": [
      "C:\\Users\\Jesse\\Documents\\GitHub\\advent_of_code\\advent_of_code_2020\\day 1\n",
      "C:\\Users\\Jesse\\Documents\\GitHub\\advent_of_code\\advent_of_code_2020\\day 2\n",
      "C:\\Users\\Jesse\\Documents\\GitHub\\advent_of_code\\advent_of_code_2020\\day 3\n",
      "C:\\Users\\Jesse\\Documents\\GitHub\\advent_of_code\\advent_of_code_2020\\day 4\n",
      "C:\\Users\\Jesse\\Documents\\GitHub\\advent_of_code\\advent_of_code_2020\\day 5\n",
      "C:\\Users\\Jesse\\Documents\\GitHub\\advent_of_code\\advent_of_code_2020\\day 6\n",
      "C:\\Users\\Jesse\\Documents\\GitHub\\advent_of_code\\advent_of_code_2020\\day 7\n",
      "C:\\Users\\Jesse\\Documents\\GitHub\\advent_of_code\\advent_of_code_2020\\day 8\n",
      "C:\\Users\\Jesse\\Documents\\GitHub\\advent_of_code\\advent_of_code_2020\\day 9\n",
      "C:\\Users\\Jesse\\Documents\\GitHub\\advent_of_code\\advent_of_code_2020\\day 10\n",
      "C:\\Users\\Jesse\\Documents\\GitHub\\advent_of_code\\advent_of_code_2020\\day 11\n",
      "C:\\Users\\Jesse\\Documents\\GitHub\\advent_of_code\\advent_of_code_2020\\day 12\n",
      "C:\\Users\\Jesse\\Documents\\GitHub\\advent_of_code\\advent_of_code_2020\\day 13\n",
      "C:\\Users\\Jesse\\Documents\\GitHub\\advent_of_code\\advent_of_code_2020\\day 14\n",
      "C:\\Users\\Jesse\\Documents\\GitHub\\advent_of_code\\advent_of_code_2020\\day 15\n",
      "C:\\Users\\Jesse\\Documents\\GitHub\\advent_of_code\\advent_of_code_2020\\day 16\n",
      "C:\\Users\\Jesse\\Documents\\GitHub\\advent_of_code\\advent_of_code_2020\\day 17\n",
      "C:\\Users\\Jesse\\Documents\\GitHub\\advent_of_code\\advent_of_code_2020\\day 18\n",
      "C:\\Users\\Jesse\\Documents\\GitHub\\advent_of_code\\advent_of_code_2020\\day 19\n",
      "C:\\Users\\Jesse\\Documents\\GitHub\\advent_of_code\\advent_of_code_2020\\day 20\n",
      "C:\\Users\\Jesse\\Documents\\GitHub\\advent_of_code\\advent_of_code_2020\\day 21\n",
      "C:\\Users\\Jesse\\Documents\\GitHub\\advent_of_code\\advent_of_code_2020\\day 22\n",
      "C:\\Users\\Jesse\\Documents\\GitHub\\advent_of_code\\advent_of_code_2020\\day 23\n",
      "C:\\Users\\Jesse\\Documents\\GitHub\\advent_of_code\\advent_of_code_2020\\day 24\n",
      "C:\\Users\\Jesse\\Documents\\GitHub\\advent_of_code\\advent_of_code_2020\\day 25\n"
     ]
    }
   ],
   "source": [
    "for i in range(1,26):\n",
    "    dir = p/('day '+str(i).zfill(2))\n",
    "    # shutil.rmtree(dir)\n",
    "    # dir = p/('day '+str(i).zfill(2))\n",
    "    print(dir)\n",
    "    if not (os.path.isdir(dir)): os.mkdir(dir)\n",
    "    os.chdir(dir)\n",
    "    try:\n",
    "        f = open('input.txt', 'w+')\n",
    "        f.write('This is day'+ str(i))\n",
    "        open('test0.txt', 'w+')\n",
    "        open('test1.txt', 'w+')\n",
    "        open('test2.txt', 'w+')\n",
    "        shutil.copyfile('C:/Users/Jesse/Documents/GitHub/advent_of_code/advent_of_code_2022/solution.ipynb', dir/'solution.ipynb')\n",
    "    except FileExistsError:\n",
    "        pass"
   ]
  },
  {
   "cell_type": "code",
   "execution_count": null,
   "metadata": {},
   "outputs": [],
   "source": []
  }
 ],
 "metadata": {
  "file_extension": ".py",
  "kernelspec": {
   "display_name": "Python 3.10.0 ('.aocenv': venv)",
   "language": "python",
   "name": "python3"
  },
  "language_info": {
   "codemirror_mode": {
    "name": "ipython",
    "version": 3
   },
   "file_extension": ".py",
   "mimetype": "text/x-python",
   "name": "python",
   "nbconvert_exporter": "python",
   "pygments_lexer": "ipython3",
   "version": "3.10.0"
  },
  "mimetype": "text/x-python",
  "name": "python",
  "npconvert_exporter": "python",
  "orig_nbformat": 2,
  "pygments_lexer": "ipython3",
  "version": 3,
  "vscode": {
   "interpreter": {
    "hash": "a292fecb04ead1807198b22395dbb599f43710a25b8e4823a30fedd04cdfd0f2"
   }
  }
 },
 "nbformat": 4,
 "nbformat_minor": 2
}
