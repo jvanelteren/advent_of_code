{
 "cells": [
  {
   "cell_type": "code",
   "execution_count": 22,
   "metadata": {},
   "outputs": [],
   "source": [
    "import os\n",
    "from pathlib import Path\n",
    "import shutil\n",
    "\n",
    "core = Path(os.getcwd())/'solution.ipynb'\n",
    "p = Path(\"D:/Programmeren/adventofcode/advent_of_code_2022\")\n",
    "\n",
    "def copy_solution_template():\n",
    "    # overwrites all solutions for dirs that do not have the puzzle name yet\n",
    "    for i in range(1,26):\n",
    "        p = Path(os.getcwd())/('day '+str(i).zfill(2))/'solution.ipynb'\n",
    "        if p.exists():\n",
    "            p.unlink()\n",
    "            shutil.copy(core, p)\n",
    "        \n",
    "       \n",
    "def init_year():        \n",
    "    for i in range(1,26):\n",
    "        dir = p/('day '+str(i).zfill(2))\n",
    "        # shutil.rmtree(dir)\n",
    "        # dir = p/('day '+str(i).zfill(2))\n",
    "        print(dir)\n",
    "        os.chdir(p)\n",
    "        if not (os.path.isdir(dir)): \n",
    "            os.mkdir(dir)\n",
    "        os.chdir(dir)\n",
    "        try:\n",
    "            f = open('input.txt', 'w+')\n",
    "            f.write('This is day'+ str(i) + ' -999  ')\n",
    "            open('test0.txt', 'w+')\n",
    "            open('test1.txt', 'w+')\n",
    "            open('test2.txt', 'w+')\n",
    "            shutil.copyfile(core, dir/'solution.ipynb')\n",
    "        except FileExistsError:\n",
    "            pass"
   ]
  },
  {
   "cell_type": "code",
   "execution_count": 23,
   "metadata": {},
   "outputs": [],
   "source": [
    "copy_solution_template()"
   ]
  },
  {
   "cell_type": "code",
   "execution_count": null,
   "metadata": {},
   "outputs": [],
   "source": []
  }
 ],
 "metadata": {
  "file_extension": ".py",
  "kernelspec": {
   "display_name": "Python 3.10.0 ('.aocenv': venv)",
   "language": "python",
   "name": "python3"
  },
  "language_info": {
   "codemirror_mode": {
    "name": "ipython",
    "version": 3
   },
   "file_extension": ".py",
   "mimetype": "text/x-python",
   "name": "python",
   "nbconvert_exporter": "python",
   "pygments_lexer": "ipython3",
   "version": "3.10.0"
  },
  "mimetype": "text/x-python",
  "name": "python",
  "npconvert_exporter": "python",
  "orig_nbformat": 2,
  "pygments_lexer": "ipython3",
  "version": 3,
  "vscode": {
   "interpreter": {
    "hash": "a292fecb04ead1807198b22395dbb599f43710a25b8e4823a30fedd04cdfd0f2"
   }
  }
 },
 "nbformat": 4,
 "nbformat_minor": 2
}
