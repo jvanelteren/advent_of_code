{
 "cells": [
  {
   "cell_type": "code",
   "execution_count": 14,
   "metadata": {},
   "outputs": [
    {
     "name": "stdout",
     "output_type": "stream",
     "text": [
      "(107542057523110, 48165982835110)\n",
      "(48165982835110, 48165982835110)\n"
     ]
    }
   ],
   "source": [
    "import operator\n",
    "lines = open(\"in.txt\").read().split(\"\\n\")\n",
    "monkeys = {}\n",
    "known = {}\n",
    "for line in lines:\n",
    "    mon, oper = line.split(':')\n",
    "    ops = oper.strip().split(' ')\n",
    "    if len(ops) == 1:\n",
    "        known[mon] = int(ops[0])\n",
    "    else:\n",
    "        monkeys[mon] = ops\n",
    "        \n",
    "do = {'/': operator.floordiv, '*': operator.mul, '+': operator.add, '-':operator.sub}\n",
    "found = False\n",
    "while not found:\n",
    "    for mon, ops in monkeys.items():\n",
    "        if mon not in known and ops[0] in known and ops[2] in known:\n",
    "            ans = do[ops[1]](known[ops[0]], known[ops[2]])\n",
    "            known[mon] = ans\n",
    "            if mon == 'root':\n",
    "                print((known[ops[0]], known[ops[2]]))\n",
    "                found = True\n",
    "lines = open(\"humn.txt\").read().split(\"\\n\")\n",
    "known2 = {}\n",
    "for line in lines:\n",
    "    mon, oper = line.split(':')\n",
    "    ops = oper.strip().split(' ')\n",
    "    if len(ops) == 1:\n",
    "        known2[mon] = int(ops[0])\n",
    "\n",
    "different = []\n",
    "found = False\n",
    "while not found:\n",
    "    for mon, ops in monkeys.items():\n",
    "        if mon not in known2 and ops[0] in known2 and ops[2] in known2:\n",
    "            ans = do[ops[1]](known2[ops[0]], known2[ops[2]])\n",
    "            if ans != known[mon]:\n",
    "                different.append(mon)\n",
    "            known2[mon] = ans\n",
    "                \n",
    "            if mon == 'root':\n",
    "                print((known2[ops[0]], known2[ops[2]]))\n",
    "                found = True"
   ]
  },
  {
   "cell_type": "code",
   "execution_count": 17,
   "metadata": {},
   "outputs": [
    {
     "data": {
      "text/plain": [
       "(['qhbp', '+', 'vglr'], True, False)"
      ]
     },
     "execution_count": 17,
     "metadata": {},
     "output_type": "execute_result"
    }
   ],
   "source": [
    "monkeys['root'], 'qhbp' in different, 'vglr' in different"
   ]
  },
  {
   "cell_type": "code",
   "execution_count": 19,
   "metadata": {},
   "outputs": [
    {
     "data": {
      "text/plain": [
       "3342154812537"
      ]
     },
     "execution_count": 19,
     "metadata": {},
     "output_type": "execute_result"
    }
   ],
   "source": [
    "improved = {\"qhbp\": known['vglr']}\n",
    "different.reverse()\n",
    "\n",
    "for mon in different[1:]:\n",
    "    first, oper, second = monkeys[mon]\n",
    "    outcome = improved[mon]\n",
    "    same = known[second] if known[first] != known2[first] else known[first]\n",
    "    improved[second] = val\n",
    "    match oper:\n",
    "        case \"+\":\n",
    "            val = outcome - same\n",
    "        case \"-\":\n",
    "            if known[first] != same:\n",
    "                val = outcome + same\n",
    "            else:\n",
    "                val = -1 * (outcome - same)\n",
    "        case \"*\":\n",
    "            val = outcome // same\n",
    "        case \"/\":\n",
    "            if known[first] != same:\n",
    "                val = outcome * same\n",
    "            else:\n",
    "                val = outcome // same\n",
    "\n",
    "    if known[first] != known2[first]:\n",
    "        improved[first] = val\n",
    "    else:\n",
    "        improved[second] = val\n",
    "improved[\"humn\"]"
   ]
  },
  {
   "cell_type": "code",
   "execution_count": null,
   "metadata": {},
   "outputs": [],
   "source": []
  }
 ],
 "metadata": {
  "file_extension": ".py",
  "kernelspec": {
   "display_name": "Python 3.11.0 ('.aocenvpy311': venv)",
   "language": "python",
   "name": "python3"
  },
  "language_info": {
   "codemirror_mode": {
    "name": "ipython",
    "version": 3
   },
   "file_extension": ".py",
   "mimetype": "text/x-python",
   "name": "python",
   "nbconvert_exporter": "python",
   "pygments_lexer": "ipython3",
   "version": "3.11.0 (main, Oct 24 2022, 18:26:48) [MSC v.1933 64 bit (AMD64)]"
  },
  "mimetype": "text/x-python",
  "name": "python",
  "npconvert_exporter": "python",
  "orig_nbformat": 2,
  "pygments_lexer": "ipython3",
  "version": 3,
  "vscode": {
   "interpreter": {
    "hash": "7b5336723abeab741c71fcc933eb6e6f53a288e70399d841fc0756db1169ea34"
   }
  }
 },
 "nbformat": 4,
 "nbformat_minor": 2
}
