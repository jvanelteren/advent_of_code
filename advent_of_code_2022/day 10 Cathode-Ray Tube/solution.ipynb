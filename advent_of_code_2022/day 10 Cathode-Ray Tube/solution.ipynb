{
 "cells": [
  {
   "cell_type": "code",
   "execution_count": 21,
   "metadata": {},
   "outputs": [
    {
     "name": "stdout",
     "output_type": "stream",
     "text": [
      "13680\n"
     ]
    },
    {
     "data": {
      "image/png": "[encoded data removed]",
      "text/plain": [
       "<Figure size 640x480 with 1 Axes>"
      ]
     },
     "metadata": {},
     "output_type": "display_data"
    }
   ],
   "source": [
    "from aocutils.visuals import plot\n",
    "\n",
    "\n",
    "lines = open(\"in.txt\").read().split(\"\\n\")\n",
    "\n",
    "c = 0\n",
    "x = 1\n",
    "sig = 0\n",
    "grid = [[0 for _ in range(40)] for _ in range(6)]\n",
    "\n",
    "for line in lines:\n",
    "\n",
    "    def step():\n",
    "        global c, x, sig, grid\n",
    "        c += 1\n",
    "        if c % 40 == 20:\n",
    "            sig += x * c\n",
    "        row, col = divmod(c - 1, 40)\n",
    "        if abs(col - x) <= 1:\n",
    "            grid[row][col] = 1\n",
    "\n",
    "    if line == \"noop\":\n",
    "        step()\n",
    "    else:\n",
    "        step(), step()\n",
    "        x += int(line.split()[1])\n",
    "print(sig)\n",
    "plot(grid)"
   ]
  }
 ],
 "metadata": {
  "file_extension": ".py",
  "kernelspec": {
   "display_name": "Python 3.11.0 ('.aocenvpy311': venv)",
   "language": "python",
   "name": "python3"
  },
  "language_info": {
   "codemirror_mode": {
    "name": "ipython",
    "version": 3
   },
   "file_extension": ".py",
   "mimetype": "text/x-python",
   "name": "python",
   "nbconvert_exporter": "python",
   "pygments_lexer": "ipython3",
   "version": "3.11.0"
  },
  "mimetype": "text/x-python",
  "name": "python",
  "npconvert_exporter": "python",
  "orig_nbformat": 2,
  "pygments_lexer": "ipython3",
  "version": 3,
  "vscode": {
   "interpreter": {
    "hash": "7b5336723abeab741c71fcc933eb6e6f53a288e70399d841fc0756db1169ea34"
   }
  }
 },
 "nbformat": 4,
 "nbformat_minor": 2
}
