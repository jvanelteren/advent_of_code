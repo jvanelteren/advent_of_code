{
 "cells": [
  {
   "cell_type": "code",
   "execution_count": 7,
   "metadata": {},
   "outputs": [
    {
     "name": "stdout",
     "output_type": "stream",
     "text": [
      "p1 4082\n",
      "p2 1065\n"
     ]
    }
   ],
   "source": [
    "from collections import defaultdict\n",
    "from aocutils.grid import gridneigh, neighbors\n",
    "\n",
    "\n",
    "grid, neigh = gridneigh(\n",
    "    \"in.txt\", diag=True, to_dict=True, parser=lambda x: [ch for ch in x])\n",
    "grid = {k for k, v in grid.items() if v == \"#\"}\n",
    "\n",
    "N = [(-1, 0), (-1, 1), (-1, -1)]\n",
    "S = [(1, 0), (1, 1), (1, -1)]\n",
    "W = [(0, -1), (1, -1), (-1, -1)]\n",
    "E = [(0, 1), (-1, 1), (1, 1)]\n",
    "orderpnt = 0\n",
    "order = [N, S, W, E]\n",
    "\n",
    "for step in range(1, 1000000):\n",
    "    moved = False\n",
    "    newgrid = defaultdict(set)\n",
    "    nextround = set()\n",
    "\n",
    "    for elf in grid:\n",
    "        if any(n in grid for n in neighbors(elf, diag=True)):\n",
    "            r, c = elf\n",
    "            for i in range(4):\n",
    "                o = order[(orderpnt + i) % 4]\n",
    "                found = False\n",
    "                for direc in o:\n",
    "                    if (r + direc[0], c + direc[1]) in grid:\n",
    "                        found = True\n",
    "                        break\n",
    "                if not found:\n",
    "                    newgrid[(r + o[0][0], c + o[0][1])].add(elf)\n",
    "                    break\n",
    "            else:\n",
    "                nextround.add(elf)\n",
    "        else:\n",
    "            nextround.add(elf)\n",
    "\n",
    "    for newloc, elves in newgrid.items():\n",
    "        if len(elves) > 1:\n",
    "            for elf in elves:\n",
    "                nextround.add(elf)\n",
    "        else:\n",
    "            nextround.add(tuple(newloc))\n",
    "            moved = True\n",
    "    orderpnt += 1\n",
    "    grid = nextround\n",
    "\n",
    "    if not moved:\n",
    "        print(\"p2\", step)\n",
    "        break\n",
    "    if step == 10:\n",
    "        rows = [elf[0] for elf in grid]\n",
    "        cols = [c for (r, c) in grid]\n",
    "        print(\n",
    "            \"p1\", (max(rows) - min(rows) + 1) * (max(cols) - min(cols) + 1) - len(grid)\n",
    "        )"
   ]
  }
 ],
 "metadata": {
  "file_extension": ".py",
  "kernelspec": {
   "display_name": "Python 3.11.0 ('.aocenvpy311': venv)",
   "language": "python",
   "name": "python3"
  },
  "language_info": {
   "codemirror_mode": {
    "name": "ipython",
    "version": 3
   },
   "file_extension": ".py",
   "mimetype": "text/x-python",
   "name": "python",
   "nbconvert_exporter": "python",
   "pygments_lexer": "ipython3",
   "version": "3.11.0"
  },
  "mimetype": "text/x-python",
  "name": "python",
  "npconvert_exporter": "python",
  "orig_nbformat": 2,
  "pygments_lexer": "ipython3",
  "version": 3,
  "vscode": {
   "interpreter": {
    "hash": "7b5336723abeab741c71fcc933eb6e6f53a288e70399d841fc0756db1169ea34"
   }
  }
 },
 "nbformat": 4,
 "nbformat_minor": 2
}
