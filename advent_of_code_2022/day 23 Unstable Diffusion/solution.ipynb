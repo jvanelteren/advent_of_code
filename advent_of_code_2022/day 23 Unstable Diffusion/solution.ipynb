{
 "cells": [
  {
   "cell_type": "code",
   "execution_count": 1,
   "metadata": {},
   "outputs": [
    {
     "name": "stdout",
     "output_type": "stream",
     "text": [
      "p1 4082\n",
      "p2 1065\n"
     ]
    }
   ],
   "source": [
    "from collections import defaultdict\n",
    "from aocutils.grid import gridneigh, neighbors\n",
    "\n",
    "\n",
    "grid, neigh = gridneigh(\n",
    "    \"in.txt\", diag=True, to_dict=True, parser=lambda x: [ch for ch in x])\n",
    "grid = {k for k, v in grid.items() if v == \"#\"}\n",
    "\n",
    "N = [(-1, 0), (-1, 1), (-1, -1)]\n",
    "S = [(1, 0), (1, 1), (1, -1)]\n",
    "W = [(0, -1), (1, -1), (-1, -1)]\n",
    "E = [(0, 1), (-1, 1), (1, 1)]\n",
    "orderpnt = 0\n",
    "order = [N, S, W, E]\n",
    "grids = []\n",
    "for step in range(1, 1000000):\n",
    "    grids.append(grid)\n",
    "    moved = False\n",
    "    newgrid = defaultdict(set)\n",
    "    nextround = set()\n",
    "\n",
    "    for elf in grid:\n",
    "        if any(n in grid for n in neighbors(elf, diag=True)):\n",
    "            r, c = elf\n",
    "            for i in range(4):\n",
    "                o = order[(orderpnt + i) % 4]\n",
    "                found = False\n",
    "                for direc in o:\n",
    "                    if (r + direc[0], c + direc[1]) in grid:\n",
    "                        found = True\n",
    "                        break\n",
    "                if not found:\n",
    "                    newgrid[(r + o[0][0], c + o[0][1])].add(elf)\n",
    "                    break\n",
    "            else:\n",
    "                nextround.add(elf)\n",
    "        else:\n",
    "            nextround.add(elf)\n",
    "\n",
    "    for newloc, elves in newgrid.items():\n",
    "        if len(elves) > 1:\n",
    "            for elf in elves:\n",
    "                nextround.add(elf)\n",
    "        else:\n",
    "            nextround.add(tuple(newloc))\n",
    "            moved = True\n",
    "    orderpnt += 1\n",
    "    \n",
    "    grid = nextround\n",
    "\n",
    "    if not moved:\n",
    "        print(\"p2\", step)\n",
    "        break\n",
    "    if step == 10:\n",
    "        rows = [elf[0] for elf in grid]\n",
    "        cols = [c for (r, c) in grid]\n",
    "        print(\n",
    "            \"p1\", (max(rows) - min(rows) + 1) * (max(cols) - min(cols) + 1) - len(grid)\n",
    "        )"
   ]
  },
  {
   "cell_type": "code",
   "execution_count": null,
   "metadata": {},
   "outputs": [
    {
     "data": {
      "application/vnd.jupyter.widget-view+json": {
       "model_id": "01f2c405b04c4c789323c021fef6e8ac",
       "version_major": 2,
       "version_minor": 0
      },
      "text/plain": [
       "interactive(children=(IntSlider(value=0, description='frame', max=1064), Output()), _dom_classes=('widget-inte…"
      ]
     },
     "metadata": {},
     "output_type": "display_data"
    }
   ],
   "source": [
    "from matplotlib import cm\n",
    "import matplotlib.pyplot as plt\n",
    "from itertools import chain\n",
    "import numpy as np\n",
    "from ipywidgets import interact\n",
    "\n",
    "def animate(grids):\n",
    "    minn = min(chain(*[cell for grid in grids for cell in grid]))\n",
    "    maxx = max(chain(*[cell for grid in grids for cell in grid]))\n",
    "    size = maxx-minn + 1\n",
    "    arrs = []\n",
    "    for grid in grids:\n",
    "        arr = np.zeros((size,size))\n",
    "        for r,c in grid:\n",
    "            arr[r-minn,c-minn] = 1\n",
    "        arrs.append(np.uint8(cm.viridis(arr)*255))\n",
    "        \n",
    "    @interact(frame=(0,len(arrs)-1))\n",
    "    def show_frame(frame=0):\n",
    "        plt.imshow(arrs[frame])\n",
    "animate(grids)"
   ]
  },
  {
   "cell_type": "code",
   "execution_count": null,
   "metadata": {},
   "outputs": [],
   "source": [
    "# below didn't really work with making mp4 video, colors & resolution sucks\n",
    "import ffmpeg\n",
    "import io\n",
    "\n",
    "\n",
    "def vidwrite(fn, images, framerate=1, vcodec='libx264'):\n",
    "    if not isinstance(images, np.ndarray):\n",
    "        images = np.asarray(images)\n",
    "    _,height,width,channels = images.shape\n",
    "    process = (\n",
    "        ffmpeg\n",
    "            .input('pipe:', format='rawvideo', pix_fmt='rgba', s='{}x{}'.format(width, height), r=framerate)\n",
    "            # .filter('scale', size='hd1080', force_original_aspect_ratio='increase')\n",
    "            .output(fn, pix_fmt='yuv420p', crf =18 , vcodec=vcodec, r=framerate)\n",
    "            .overwrite_output()\n",
    "            .run_async(pipe_stdin=True, overwrite_output=True, pipe_stderr=True)\n",
    "    )\n",
    "    for frame in images:\n",
    "        try:\n",
    "            process.stdin.write(\n",
    "                frame.astype(np.uint8).tobytes()\n",
    "            )\n",
    "        except Exception as e: # should probably be an exception related to process.stdin.write\n",
    "            for line in io.TextIOWrapper(process.stderr, encoding=\"utf-8\"): # I didn't know how to get the stderr from the process, but this worked for me\n",
    "                print(line) # <-- print all the lines in the processes stderr after it has errored\n",
    "            process.stdin.close()\n",
    "            process.wait()\n",
    "            return # cant run anymore so end the for loop and the function execution"
   ]
  },
  {
   "cell_type": "code",
   "execution_count": null,
   "metadata": {},
   "outputs": [],
   "source": [
    "import ffmpeg\n",
    "import io\n",
    "from matplotlib import cm\n",
    "import matplotlib.pyplot as plt\n",
    "\n",
    "import numpy as np\n",
    "from itertools import chain\n",
    "\n",
    "minn = min(chain(*[cell for grid in grids for cell in grid]))\n",
    "maxx = max(chain(*[cell for grid in grids for cell in grid]))\n",
    "size = maxx-minn + 1\n",
    "from PIL import Image\n",
    "arrs = []\n",
    "test2 = []\n",
    "for grid in grids:\n",
    "\n",
    "    arr = np.zeros((size,size))\n",
    "    # norm = plt.Normalize()\n",
    "    # colors = plt.cm.jet(norm(dz))\n",
    "    for r,c in grid:\n",
    "        arr[r-minn,c-minn] = 1\n",
    "    # im = Image.fromarray()\n",
    "    test2.append(arr)\n",
    "    arrs.append(np.uint8(cm.viridis(arr)*255))\n",
    "    \n",
    "\n",
    "test = np.asarray(arrs)\n",
    "# test = test[..., np.newaxis]\n",
    "vidwrite('teting.mp4', test)"
   ]
  },
  {
   "cell_type": "code",
   "execution_count": null,
   "metadata": {},
   "outputs": [],
   "source": []
  }
 ],
 "metadata": {
  "file_extension": ".py",
  "kernelspec": {
   "display_name": "Python 3.11.0 ('.aocenvpy311': venv)",
   "language": "python",
   "name": "python3"
  },
  "language_info": {
   "codemirror_mode": {
    "name": "ipython",
    "version": 3
   },
   "file_extension": ".py",
   "mimetype": "text/x-python",
   "name": "python",
   "nbconvert_exporter": "python",
   "pygments_lexer": "ipython3",
   "version": "3.11.0"
  },
  "mimetype": "text/x-python",
  "name": "python",
  "npconvert_exporter": "python",
  "orig_nbformat": 2,
  "pygments_lexer": "ipython3",
  "version": 3,
  "vscode": {
   "interpreter": {
    "hash": "7b5336723abeab741c71fcc933eb6e6f53a288e70399d841fc0756db1169ea34"
   }
  }
 },
 "nbformat": 4,
 "nbformat_minor": 2
}
