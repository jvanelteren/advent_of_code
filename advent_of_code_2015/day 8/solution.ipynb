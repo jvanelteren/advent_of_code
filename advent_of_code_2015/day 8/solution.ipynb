{
 "nbformat": 4,
 "nbformat_minor": 2,
 "metadata": {
  "language_info": {
   "name": "python",
   "codemirror_mode": {
    "name": "ipython",
    "version": 3
   },
   "version": "3.7.3-final"
  },
  "orig_nbformat": 2,
  "file_extension": ".py",
  "mimetype": "text/x-python",
  "name": "python",
  "npconvert_exporter": "python",
  "pygments_lexer": "ipython3",
  "version": 3,
  "kernelspec": {
   "name": "python3",
   "display_name": "Python 3"
  }
 },
 "cells": [
  {
   "cell_type": "code",
   "execution_count": null,
   "metadata": {},
   "outputs": [],
   "source": [
    "# slow down a bit when hacking something together, e.g. I forgot to add a simple function call \n",
    "# tuple unpacking is nice, but cannot be done in a nested list comprehension\n",
    "# don't forget .items in  for k,v in dict.items()\n",
    "# use hashlib for md5 encodings\n",
    "# multiline list comprehensions don't need extra parentheses, but multiline if statements do\n",
    "# np.clip min and max can be omitted by specifying None\n",
    "# try except looks nice untill it obscures your real error\n",
    "# parsing ints to ints instead of strings is really important\n",
    "# checking whether someting is an int should be done with isinstance, not with isalpha() (fails on int)\n",
    "# removing from a list while iterating can be done safely by iterating over a slice(?)\n",
    "# with re make sure to use r'' literal strings"
   ]
  },
  {
   "cell_type": "code",
   "execution_count": 1,
   "metadata": {},
   "outputs": [],
   "source": [
    "from dataclasses import dataclass\n",
    "from math import gcd, ceil\n",
    "import re\n",
    "from collections import Counter, defaultdict, namedtuple, deque\n",
    "import numpy as np\n",
    "from matplotlib import pyplot as plt\n",
    "import aoc\n",
    "import networkx as nx"
   ]
  },
  {
   "cell_type": "code",
   "execution_count": 106,
   "metadata": {},
   "outputs": [
    {
     "output_type": "execute_result",
     "data": {
      "text/plain": [
       "(300, '\"\\\\xa8br\\\\x8bjr\\\\\"\"')"
      ]
     },
     "metadata": {},
     "execution_count": 106
    }
   ],
   "source": [
    "f=open('input.txt')\n",
    "lines = [line.rstrip('\\n') for line in f]\n",
    "\n",
    "# print amount of rows and first 100 character of first line\n",
    "len(lines), lines[0][:100]"
   ]
  },
  {
   "cell_type": "code",
   "execution_count": 71,
   "metadata": {},
   "outputs": [
    {
     "output_type": "execute_result",
     "data": {
      "text/plain": [
       "\"'\""
      ]
     },
     "metadata": {},
     "execution_count": 71
    }
   ],
   "source": [
    "line[0]"
   ]
  },
  {
   "cell_type": "code",
   "execution_count": 75,
   "metadata": {},
   "outputs": [
    {
     "output_type": "execute_result",
     "data": {
      "text/plain": [
       "'\\\\\\\\'"
      ]
     },
     "metadata": {},
     "execution_count": 75
    }
   ],
   "source": [
    "str(\"\\\\\\\\\")\n"
   ]
  },
  {
   "cell_type": "code",
   "execution_count": 126,
   "metadata": {},
   "outputs": [],
   "source": [
    "f=open('input.txt')\n",
    "lines = [line.rstrip('\\n') for line in f]"
   ]
  },
  {
   "cell_type": "code",
   "execution_count": 128,
   "metadata": {},
   "outputs": [
    {
     "output_type": "stream",
     "name": "stdout",
     "text": [
      "\"\\xa8br\\x8bjr\\\"\"\t\t\tbrxjr   7\n",
      "\"nq\"\t\t\t   2\n",
      "\"zjrfcpbktjmrzgsz\\xcaqsc\\x03n\\\"huqab\"\t\t\tjrfcpbktjmrzgszxqscxn\"huqa   28\n",
      "\"daz\\\\zyyxddpwk\"\t\t\taz\\zyyxddpw   13\n",
      "\"draes\\xa2n\\\\g\\x27ek\\\"lj\\\"\\\\viqych\"\t\t\traesxn\\gxek\"lj\"\\viqyc   23\n",
      "\"nnx\\\\krnrfomdnt\\x2flbl\\xd2xpo\\\"cp\\\"k\"\t\t\tnx\\krnrfomdntxlblxxpo\"cp\"   27\n",
      "\"kwdaapalq\"\t\t\twdaapal   9\n",
      "\"u\\\"ptk\"\t\t\t\"pt   5\n",
      "\"ckhorczuiudfjmmcc\\\\u\\\"wozqxibsfjma\"\t\t\tkhorczuiudfjmmcc\\u\"wozqxibsfjm   32\n",
      "\"ydctdrxat\\\"pd\\\"lwi\\\"bjesevfw\\xe8\"\t\t\tdctdrxat\"pd\"lwi\"bjesevfw   26\n",
      "\"v\\\"\\xa8rrzep\\\"\\\"r\"\t\t\t\"xrrzep\"\"   11\n",
      "\"nbydghkfvmq\\\\\\xe0\\\"lfsrsvlsj\\\"i\\x61liif\"\t\t\tbydghkfvmq\\x\"lfsrsvlsj\"ixlii   30\n",
      "\"jsas\\\"u\"\t\t\tsas\"   6\n",
      "\"odipikxlo\"\t\t\tdipikxl   9\n",
      "\"\\\"rnubsgwltqkbsu\\\"pcpcs\"\t\t\trnubsgwltqkbsu\"pcpc   21\n",
      "\"eitk\\\\f\\\\mhcqqoym\\\\ji\"\t\t\titk\\f\\mhcqqoym\\j   18\n",
      "\"vnedc\"\t\t\tned   5\n",
      "\"\\\"lhcaurdqzyjyu\"\t\t\tlhcaurdqzyjy   14\n",
      "\"haxzsa\\\"zcn\\\"y\\\"foclgtjfcnv\\\"m\\x68krc\"\t\t\taxzsa\"zcn\"y\"foclgtjfcnv\"mxkr   30\n",
      "\"\\\"eoeggg\\\"tmiydvcay\\\"vfavc\"\t\t\teoeggg\"tmiydvcay\"vfav   23\n",
      "\"snqvyqoncwxcvwbdktoywch\"\t\t\tnqvyqoncwxcvwbdktoywc   23\n",
      "\"rnfgjsyr\\xd5wacy\"\t\t\tnfgjsyrxwac   13\n",
      "\"ik\\\"hebrpvsts\"\t\t\tk\"hebrpvst   12\n",
      "\"txw\"\t\t\tx   3\n",
      "\"\\x15pxtdkogd\\\"urbm\\\"gevhh\\\"nxr\\x3erxtk\"\t\t\tpxtdkogd\"urbm\"gevhh\"nxrxrxt   29\n",
      "\"cetqtcy\"\t\t\tetqtc   7\n",
      "\"inleep\\\\mgl\"\t\t\tnleep\\mg   10\n",
      "\"uflwbxvww\\x2cxzezqnaply\\\"yh\\\"qlllzk\"\t\t\tflwbxvwwxxzezqnaply\"yh\"qlllz   30\n",
      "\"eepak\\\"xqtedzt\"\t\t\tepak\"xqtedz   13\n",
      "\"na\\x61qzfieafvyrsnwkssznohjmc\"\t\t\taxqzfieafvyrsnwkssznohjm   26\n",
      "\"yceaonylz\\xc1\\\\jrlbbkzwsidfi\"\t\t\tceaonylzx\\jrlbbkzwsidf   24\n",
      "\"ybqafngkcqpbp\"\t\t\tbqafngkcqpb   13\n",
      "\"\\xaft\"\t\t\t   2\n",
      "\"yidjpaobqydso\"\t\t\tidjpaobqyds   13\n",
      "\"ju\\\\ldxig\\\\lrdrhjcmm\\x77rc\"\t\t\tu\\ldxig\\lrdrhjcmmxr   21\n",
      "\"tylacqeslnwj\\x48ds\\\"tjxa\"\t\t\tylacqeslnwjxds\"tjx   20\n",
      "\"efbfm\"\t\t\tfbf   5\n",
      "\"\\\\fxkgoprgdcjgyajykg\\\\dtbrz\"\t\t\tfxkgoprgdcjgyajykg\\dtbr   25\n",
      "\"eujvva\"\t\t\tujvv   6\n",
      "\"h\\x7acwfpikme\\\\vwthyvrqdnx\\\"\"\t\t\txcwfpikme\\vwthyvrqdnx   23\n",
      "\"rbpbrxm\\\\\\\"\\\"\\\"voxx\"\t\t\tbpbrxm\\\"\"\"vox   15\n",
      "\"ykiw\\\"tkb\\\\lforu\\\"rsf\\\\tf\\\"x\\\"rqti\"\t\t\tkiw\"tkb\\lforu\"rsf\\tf\"x\"rqt   28\n",
      "\"e\\\\wh\\x77aqeugiq\\\\ihhfqfuaij\"\t\t\t\\whxaqeugiq\\ihhfqfuai   23\n",
      "\"g\\\"t\\\\o\"\t\t\t\"t\\   5\n",
      "\"nxzo\\\"hf\\\\xp\"\t\t\txzo\"hf\\x   10\n",
      "\"dxiaqfo\\xea\"\t\t\txiaqfo   8\n",
      "\"kali\\\\zczhiqkqzybjj\\\"fgdjnik\"\t\t\tali\\zczhiqkqzybjj\"fgdjni   26\n",
      "\"zdkgrqmdv\"\t\t\tdkgrqmd   9\n",
      "\"bimxim\\xb6lrwsaj\\\"ui\\\"a\"\t\t\timximxlrwsaj\"ui\"   18\n",
      "\"\\\"rrznitibgx\\\\olpsjmjqzctxaubdifsq\"\t\t\trrznitibgx\\olpsjmjqzctxaubdifs   32\n",
      "\"zb\\\"khzixaacmhuzmlymoformipdzml\"\t\t\tb\"khzixaacmhuzmlymoformipdzm   30\n",
      "\"qfwi\"\t\t\tfw   4\n",
      "\"hjwsxfpphttjy\\\"\\\"zixais\\xbblgnqfto\"\t\t\tjwsxfpphttjy\"\"zixaisxlgnqft   29\n",
      "\"puj\\\\qmyu\\\"nqgaqfthbwjokbmrpbhpi\"\t\t\tuj\\qmyu\"nqgaqfthbwjokbmrpbhp   30\n",
      "\"cyxdpkh\\\\\\\"\"\t\t\tyxdpkh\\   9\n",
      "\"q\"\t\t\t   1\n",
      "\"m\"\t\t\t   1\n",
      "\"tbxdzzllarlo\"\t\t\tbxdzzllarl   12\n",
      "\"gbtys\"\t\t\tbty   5\n",
      "\"gytilk\\\\vlqxvcuutjunrqc\"\t\t\tytilk\\vlqxvcuutjunrq   22\n",
      "\"uugkvcuzan\\\\eyhb\"\t\t\tugkvcuzan\\eyh   15\n",
      "\"yaxr\\\"genlbgw\\\"\\\\uc\"\t\t\taxr\"genlbgw\"\\u   16\n",
      "\"nrgecjeip\\\\sjdvgqaqxwsqactopu\"\t\t\trgecjeip\\sjdvgqaqxwsqactop   28\n",
      "\"pu\\\"r\\\"txpyrkfny\\\\zmwfneyvwmnkkdipv\"\t\t\tu\"r\"txpyrkfny\\zmwfneyvwmnkkdip   32\n",
      "\"jm\\xa3bhwvq\"\t\t\tmxbhwv   8\n",
      "\"qxojmnml\\\"w\\x9airr\"\t\t\txojmnml\"wxir   14\n",
      "\"xbzsuihs\\x4dcedy\\xaclrhgii\\\\\\\"\"\t\t\tbzsuihsxcedyxlrhgii\\   22\n",
      "\"drgjirusrekrwmvxllwdm\"\t\t\trgjirusrekrwmvxllwd   21\n",
      "\"\\x28hfxnfpycmpnkku\\\"csuf\\xaarxlqyg\\\"x\"\t\t\thfxnfpycmpnkku\"csufxrxlqyg\"   29\n",
      "\"\\\"zvz\\\\rmg\\\"\\\\sxxoifffyqfyn\\\"iq\\\"ps\"\t\t\tzvz\\rmg\"\\sxxoifffyqfyn\"iq\"p   29\n",
      "\"\\\"z\"\t\t\t   2\n",
      "\"zbwkmk\\\"sgzos\\x93gtc\\\"\"\t\t\tbwkmk\"sgzosxgtc   17\n",
      "\"bvm\\x28aa\\\\\\\\\\\"pywuhaniox\\\\z\\\\hbp\\xd7mold\"\t\t\tvmxaa\\\\\"pywuhaniox\\z\\hbpxmol   30\n",
      "\"aszgvsyna\"\t\t\tszgvsyn   9\n",
      "\"qf\\\"vdwuss\"\t\t\tf\"vdwus   9\n",
      "\"lnohni\\\"qwiacjsjegstlbfq\\\\kyjhyd\"\t\t\tnohni\"qwiacjsjegstlbfq\\kyjhy   30\n",
      "\"c\\\\naawulxlqplnacvytspry\\xf5ytxxqq\"\t\t\t\\naawulxlqplnacvytspryxytxxq   30\n",
      "\"razwqmsqgbaaxcd\\\\f\"\t\t\tazwqmsqgbaaxcd\\   17\n",
      "\"radggyrjrg\\\"zx\"\t\t\tadggyrjrg\"z   13\n",
      "\"\\\"pu\\x11t\\\\ajcjuieinlkvya\"\t\t\tpuxt\\ajcjuieinlkvy   20\n",
      "\"veggiskh\"\t\t\teggisk   8\n",
      "\"eglfhjxiet\\\"kouqfskwsy\\\"hpthsldel\"\t\t\tglfhjxiet\"kouqfskwsy\"hpthslde   31\n",
      "\"mv\\xc1b\\\"f\\\\shrssnjwcpmurepdxdlcj\"\t\t\tvxb\"f\\shrssnjwcpmurepdxdlc   28\n",
      "\"dlayjd\\\"suvzotgdtc\"\t\t\tlayjd\"suvzotgdt   17\n",
      "\"\\xa9pvxeopn\"\t\t\tpvxeop   8\n",
      "\"lpplsaxy\\\"oiwaq\"\t\t\tpplsaxy\"oiwa   14\n",
      "\"hqwh\\\\lusv\"\t\t\tqwh\\lus   9\n",
      "\"hykykwlx\\\"\\xa5atkgh\\\\d\\x63dff\"\t\t\tykykwlx\"xatkgh\\dxdf   21\n",
      "\"vfktanpjy\\\"xxetc\"\t\t\tfktanpjy\"xxet   15\n",
      "\"dnhwkgjnsmsswfuelvihvjl\\\"jtf\"\t\t\tnhwkgjnsmsswfuelvihvjl\"jt   27\n",
      "\"x\\\"dwvzra\\\"nbbsewftehczgbvfzd\\\"rau\"\t\t\t\"dwvzra\"nbbsewftehczgbvfzd\"ra   31\n",
      "\"csfi\\\"mzejnjqkqupwadrgti\\\"von\"\t\t\tsfi\"mzejnjqkqupwadrgti\"vo   27\n",
      "\"xckf\\xf7xsm\\\\pgvlpetjndpyblais\\\\z\"\t\t\tckfxxsm\\pgvlpetjndpyblais\\   28\n",
      "\"yecy\\x6fuj\\x58bwpgeuiw\\\"mdu\"\t\t\tecyxujxbwpgeuiw\"md   20\n",
      "\"fgb\"\t\t\tg   3\n",
      "\"c\\\\lx\\x3efthet\\xfdelgvwvpem\"\t\t\t\\lxxfthetxelgvwvpe   20\n",
      "\"kgyrmarvfwjinlowt\"\t\t\tgyrmarvfwjinlow   17\n",
      "\"yzte\"\t\t\tzt   4\n",
      "\"vc\\\"z\"\t\t\tc\"   4\n",
      "\"sxevqfzmmdwsuu\\\"\"\t\t\txevqfzmmdwsuu   15\n",
      "\"fxbaercmcy\\xb6md\"\t\t\txbaercmcyxm   13\n",
      "\"f\"\t\t\t   1\n",
      "\"m\\x44gqbcppho\\\\b\"\t\t\txgqbcppho\\   12\n",
      "\"gtafr\\x57m\\x11jy\\\"\\\"erwmmpiwjkbckuw\"\t\t\ttafrxmxjy\"\"erwmmpiwjkbcku   27\n",
      "\"ufdjt\\\"kssprzxqixzxmq\\x58q\"\t\t\tfdjt\"kssprzxqixzxmqx   22\n",
      "\"yzbyo\\\"lfdbyaxexyfbnyv\\\\\\xe8xmre\"\t\t\tzbyo\"lfdbyaxexyfbnyv\\xxmr   27\n",
      "\"u\\x43ntr\\\\\\\\byyfjr\\\"iveujvnwsqbnpuvrta\"\t\t\txntr\\\\byyfjr\"iveujvnwsqbnpuvrt   32\n",
      "\"us\\xf6bai\"\t\t\tsxba   6\n",
      "\"c\\\\edh\"\t\t\t\\ed   5\n",
      "\"tzckolphexfq\\\\\\x23\\xfbdqv\\\\\\\"m\"\t\t\tzckolphexfq\\xxdqv\\\"   21\n",
      "\"yjafhbvhhj\\x1b\\\"bplb\"\t\t\tjafhbvhhjx\"bpl   16\n",
      "\"\\\"o\"\t\t\t   2\n",
      "\"rubahvmp\\\"\"\t\t\tubahvmp   9\n",
      "\"qmkukrnrmqumh\"\t\t\tmkukrnrmqum   13\n",
      "\"wdpxyvyidhwjf\\\\nabbijwhr\\xc5bksvy\\\"p\"\t\t\tdpxyvyidhwjf\\nabbijwhrxbksvy\"   31\n",
      "\"u\\\"prlpg\\\"\"\t\t\t\"prlpg   8\n",
      "\"nsvcquyxbwilsxxemf\\xd9leq\"\t\t\tsvcquyxbwilsxxemfxle   22\n",
      "\"y\\xcetxuafl\"\t\t\txtxuaf   8\n",
      "\"it\"\t\t\t   2\n",
      "\"kwdlysf\\\\xjpelae\"\t\t\twdlysf\\xjpela   15\n",
      "\"viwh\\x58wpjjlnvryuti\\x2chngrx\\\\nhtkui\"\t\t\tiwhxwpjjlnvryutixhngrx\\nhtku   30\n",
      "\"vhn\\x9ehre\\xc3ncsqbozms\\\"nl\"\t\t\thnxhrexncsqbozms\"n   20\n",
      "\"ytc\\xa3mgeeogjcqavmmmd\"\t\t\ttcxmgeeogjcqavmmm   19\n",
      "\"xzlexlitseozoxtpzzutfq\"\t\t\tzlexlitseozoxtpzzutf   22\n",
      "\"cish\\x07lmovj\"\t\t\tishxlmov   10\n",
      "\"ekbflwqzaiivdr\\\"pq\\\\azrfbntqwkn\"\t\t\tkbflwqzaiivdr\"pq\\azrfbntqwk   29\n",
      "\"uc\\\"xdbegmlmhksofzohavtrnxf\"\t\t\tc\"xdbegmlmhksofzohavtrnx   26\n",
      "\"xfdnrdqdrcjzbe\"\t\t\tfdnrdqdrcjzb   14\n",
      "\"ndg\\\"ckgrpisib\\\"rg\\\"p\\\\lmpfzlssnvk\"\t\t\tdg\"ckgrpisib\"rg\"p\\lmpfzlssnv   30\n",
      "\"witfjwpbyyzlop\"\t\t\titfjwpbyyzlo   14\n",
      "\"zonlww\\\"emrbcsgdtrg\\\"rjzy\\x64zqntlw\"\t\t\tonlww\"emrbcsgdtrg\"rjzyxzqntl   30\n",
      "\"dvgb\\\"zn\\\\vrbzema\\\"ckmd\"\t\t\tvgb\"zn\\vrbzema\"ckm   20\n",
      "\"\\\\vdlmxhlvldk\\\"pmzazeip\"\t\t\tvdlmxhlvldk\"pmzazei   21\n",
      "\"\\\"\\\"r\"\t\t\t\"   3\n",
      "\"rsntinv\"\t\t\tsntin   7\n",
      "\"iy\"\t\t\t   2\n",
      "\"lr\\x20efh\"\t\t\trxef   6\n",
      "\"csgexlb\\\"zqdavlxxhtdbh\\\"\\\"\\x0fkpvhiphm\"\t\t\tsgexlb\"zqdavlxxhtdbh\"\"xkpvhiph   32\n",
      "\"ouwhp\\\"ogbft\"\t\t\tuwhp\"ogbf   11\n",
      "\"cm\\\\ckltng\\\"dw\\x8brf\\xf0eppgckd\"\t\t\tm\\ckltng\"dwxrfxeppgck   23\n",
      "\"zmnlsgalhpkejsizfsbtnfliu\\\"nhc\"\t\t\tmnlsgalhpkejsizfsbtnfliu\"nh   29\n",
      "\"pnrkaayqvwpdjbhcrbb\\\"yfeq\\\"aq\"\t\t\tnrkaayqvwpdjbhcrbb\"yfeq\"a   27\n",
      "\"ozh\\\\hoxow\\x2csrtr\\\\r\\\"\"\t\t\tzh\\hoxowxsrtr\\r   17\n",
      "\"bqxabj\\\"u\\\\s\"\t\t\tqxabj\"u\\   10\n",
      "\"cpsjti\\\"gy\"\t\t\tpsjti\"g   9\n",
      "\"aa\\\"p\\\\nki\\\\ajijkqev\"\t\t\ta\"p\\nki\\ajijkqe   17\n",
      "\"q\\\"\\\"lfdentjgd\\\\\"\t\t\t\"\"lfdentjgd   13\n",
      "\"bmokvpoebutfki\"\t\t\tmokvpoebutfk   14\n",
      "\"pielvcbne\\xf6efvzxn\"\t\t\tielvcbnexefvzx   16\n",
      "\"kx\"\t\t\t   2\n",
      "\"zlgmqagcrbhrwtwtmmg\"\t\t\tlgmqagcrbhrwtwtmm   19\n",
      "\"aiyhmntcqjbpv\\xb5hhswxbryoedvos\"\t\t\tiyhmntcqjbpvxhhswxbryoedvo   28\n",
      "\"tdpaxrb\"\t\t\tdpaxr   7\n",
      "\"fu\\\"\\x7dttkyvhrlwko\"\t\t\tu\"xttkyvhrlwk   15\n",
      "\"oirc\\\\\\\"cqlnqffjqt\\\\k\"\t\t\tirc\\\"cqlnqffjqt\\   18\n",
      "\"edxlia\\\\tcyby\"\t\t\tdxlia\\tcyb   12\n",
      "\"jpeybgwfayerfrfbvfog\\\"ol\"\t\t\tpeybgwfayerfrfbvfog\"o   23\n",
      "\"ysr\"\t\t\ts   3\n",
      "\"bzwzilgwfugjk\"\t\t\tzwzilgwfugj   13\n",
      "\"tlcc\\x75nukvwjgftetjcs\\xaecwc\"\t\t\tlccxnukvwjgftetjcsxcw   23\n",
      "\"dsqssa\\\"vzrf\\\"sewbp\\\\ahhlmhbeihlh\"\t\t\tsqssa\"vzrf\"sewbp\\ahhlmhbeihl   30\n",
      "\"qtgmjck\\\"n\\\"guki\\\"gmdivwqxismqj\"\t\t\ttgmjck\"n\"guki\"gmdivwqxismq   28\n",
      "\"\\\"f\"\t\t\t   2\n",
      "\"wuorvlovucngbzdszqpikyk\"\t\t\tuorvlovucngbzdszqpiky   23\n",
      "\"dfrdsacoukmgvhbq\\\"\\\"iwto\"\t\t\tfrdsacoukmgvhbq\"\"iwt   22\n",
      "\"\\\"ey\\\"ch\\\\wcgioe\\\\\\\"ouvligmsw\"\t\t\tey\"ch\\wcgioe\\\"ouvligms   24\n",
      "\"ciqlszzgs\"\t\t\tiqlszzg   9\n",
      "\"\\\\tzyrkaoi\\\"sopjaq\"\t\t\ttzyrkaoi\"sopja   16\n",
      "\"lmtnv\"\t\t\tmtn   5\n",
      "\"ar\\\"fqoroigiertjjlm\\\"ymgi\\\\kkjewsxd\"\t\t\tr\"fqoroigiertjjlm\"ymgi\\kkjewsx   32\n",
      "\"wehcimlvudpxtamdn\\\"rwy\"\t\t\tehcimlvudpxtamdn\"rw   21\n",
      "\"hr\\\"zvrwthr\\\"vruzqfrldn\\\"b\"\t\t\tr\"zvrwthr\"vruzqfrldn\"   23\n",
      "\"sggekodkiwvym\\\"mhsco\"\t\t\tggekodkiwvym\"mhsc   19\n",
      "\"ltlkfbrrdvk\\\\\"\t\t\ttlkfbrrdvk   12\n",
      "\"uut\\\"sfjnz\\\"\\\\ef\"\t\t\tut\"sfjnz\"\\e   13\n",
      "\"hxilg\\\\\"\t\t\txilg   6\n",
      "\"zsredsiwlzrpedibn\"\t\t\tsredsiwlzrpedib   17\n",
      "\"vtfi\"\t\t\ttf   4\n",
      "\"\\\\h\"\t\t\t   2\n",
      "\"qekfrc\\xf6wduodbwrguqcng\\\\n\"\t\t\tekfrcxwduodbwrguqcng\\   23\n",
      "\"\\\"lljlfdrxftwidn\\\\pkv\\xd9ij\"\t\t\tlljlfdrxftwidn\\pkvxi   22\n",
      "\"mrvgqynpehkliuijlpp\"\t\t\trvgqynpehkliuijlp   19\n",
      "\"gikjph\"\t\t\tikjp   6\n",
      "\"yoxcdrdt\\\"wbaurnyhoyxoihu\"\t\t\toxcdrdt\"wbaurnyhoyxoih   24\n",
      "\"onmomwuxuammbzxe\"\t\t\tnmomwuxuammbzx   16\n",
      "\"rnrr\\\\twviz\\x61gqaljr\\x0dmtw\"\t\t\tnrr\\twvizxgqaljrxmt   21\n",
      "\"r\\\"vupaoi\"\t\t\t\"vupao   8\n",
      "\"l\"\t\t\t   1\n",
      "\"sei\"\t\t\te   3\n",
      "\"jwxtdtbkd\\\\kxd\"\t\t\twxtdtbkd\\kx   13\n",
      "\"\\x22v\\\\\"\t\t\tv   3\n",
      "\"ahd\"\t\t\th   3\n",
      "\"j\\\"bjqxs\"\t\t\t\"bjqx   7\n",
      "\"\\\\i\\x24gglxub\\\\nzsajokt\"\t\t\tixgglxub\\nzsajok   18\n",
      "\"lviwpu\\\"uxdlh\\\\zuy\\\"xqy\\\"ytdzlx\\\"r\"\t\t\tviwpu\"uxdlh\\zuy\"xqy\"ytdzlx\"   29\n",
      "\"kptfmys\"\t\t\tptfmy   7\n",
      "\"fwxzikfhczkjwyjszqdbkepaeellc\"\t\t\twxzikfhczkjwyjszqdbkepaeell   29\n",
      "\"nlqpsvbrbd\\\\ns\"\t\t\tlqpsvbrbd\\n   13\n",
      "\"qryuwkjiodw\\\"\\\"vaqyq\\\"dmyifm\"\t\t\tryuwkjiodw\"\"vaqyq\"dmyif   25\n",
      "\"tw\\x15kdmaudjl\\\\zorhp\\\"alwh\"\t\t\twxkdmaudjl\\zorhp\"alw   22\n",
      "\"aatrvczesykekkjfyb\\\"kb\"\t\t\tatrvczesykekkjfyb\"k   21\n",
      "\"usqcutbqbxxhucwxo\\xc1ltb\\\"j\\\"bghjcvws\"\t\t\tsqcutbqbxxhucwxoxltb\"j\"bghjcvw   32\n",
      "\"ilhsrnzxkz\"\t\t\tlhsrnzxk   10\n",
      "\"bianqfdfdhvw\"\t\t\tianqfdfdhv   12\n",
      "\"hqibqs\\x7ax\\\"qoxqoaqtcsz\"\t\t\tqibqsxx\"qoxqoaqtcs   20\n",
      "\"htxtoojbbauztwxuiq\\\\ngyfy\\\\obzc\"\t\t\ttxtoojbbauztwxuiq\\ngyfy\\obz   29\n",
      "\"rxn\\\\moxlj\"\t\t\txn\\moxl   9\n",
      "\"mtus\\x84erh\\\"dbe\"\t\t\ttusxerh\"db   12\n",
      "\"asx\\x50huvsitcxadt\"\t\t\tsxxhuvsitcxad   15\n",
      "\"\\\"bugggtnrc\\\"\\\"kl\\\"hmpu\\x83hqrvhpo\"\t\t\tbugggtnrc\"\"kl\"hmpuxhqrvhp   27\n",
      "\"ewisbp\\\"\\\"vuzf\\\\w\\x5fvalszdhl\"\t\t\twisbp\"\"vuzf\\wxvalszdh   23\n",
      "\"scusplpwxfnxu\\x57\\\"zynpn\\x99xerc\\\\ri\"\t\t\tcusplpwxfnxux\"zynpnxxerc\\r   28\n",
      "\"m\\\\kinmkke\\x0cl\"\t\t\t\\kinmkkex   11\n",
      "\"xhuzit\\x7fd\"\t\t\thuzitx   8\n",
      "\"kfbo\\x04\\x50ruqirn\"\t\t\tfboxxruqir   12\n",
      "\"t\\\"\\\"xpbdscmdoug\"\t\t\t\"\"xpbdscmdou   14\n",
      "\"punvpsgnbgyxe\\\"sptmpz\"\t\t\tunvpsgnbgyxe\"sptmp   20\n",
      "\"bxukkazijr\"\t\t\txukkazij   10\n",
      "\"nxyrcdaoo\\\"rjkk\\\"wntehcvcip\\\"vrd\"\t\t\txyrcdaoo\"rjkk\"wntehcvcip\"vr   29\n",
      "\"rdpvqskmihqaw\"\t\t\tdpvqskmihqa   13\n",
      "\"p\\\\gwdhtqnpgthod\"\t\t\t\\gwdhtqnpgtho   15\n",
      "\"nwnuf\\\"\\\"yebycearom\\\"nqym\\\"\\xd4sii\\xccle\"\t\t\twnuf\"\"yebycearom\"nqym\"xsiixl   30\n",
      "\"alda\\\"ptspo\\\"wkkv\\\"zoi\\\"hkb\\\"vnntyd\"\t\t\tlda\"ptspo\"wkkv\"zoi\"hkb\"vnnty   30\n",
      "\"ixpgpfzbqv\"\t\t\txpgpfzbq   10\n",
      "\"znui\\\"\\\\fzn\\x03qozabh\\\"rva\\\"pv\\x67\"\t\t\tnui\"\\fznxqozabh\"rva\"pv   24\n",
      "\"e\\\"zswmwuk\"\t\t\t\"zswmwu   9\n",
      "\"hcccygwfa\"\t\t\tcccygwf   9\n",
      "\"ngmace\\\\rtyllolr\\\"\\x68bw\"\t\t\tgmace\\rtyllolr\"xb   19\n",
      "\"\\\\c\\\"jyufbry\\\"ryo\\\"xpo\\x26ecninfeckh\\\\s\"\t\t\tc\"jyufbry\"ryo\"xpoxecninfeckh\\   31\n",
      "\"hdnpngtuc\\\"dzbvvosn\\x31fwtpzbrt\"\t\t\tdnpngtuc\"dzbvvosnxfwtpzbr   27\n",
      "\"hesbpd\\xd4\"\t\t\tesbpd   7\n",
      "\"dsdbstuzrdfmrnyntufs\\\"dmv\"\t\t\tsdbstuzrdfmrnyntufs\"dm   24\n",
      "\"d\\xeeibcwhcvkt\"\t\t\txibcwhcvk   11\n",
      "\"fvzwrsfjdqdmy\\\"\\\"v\"\t\t\tvzwrsfjdqdmy\"\"   16\n",
      "\"ns\\\"dqafz\\\\lkyoflnazv\\\"mn\\x37\\\"o\\\"yj\\\"e\"\t\t\ts\"dqafz\\lkyoflnazv\"mnx\"o\"yj\"   30\n",
      "\"dypilgbwzccayxa\\\"bnmuernx\"\t\t\typilgbwzccayxa\"bnmuern   24\n",
      "\"q\\xa9ztqrhreb\\\"\\\"kxfeyodqb\"\t\t\txztqrhreb\"\"kxfeyodq   21\n",
      "\"iz\\xa5qjxqulaawuwz\\\"rqmpcj\\\\yel\"\t\t\tzxqjxqulaawuwz\"rqmpcj\\ye   26\n",
      "\"z\\\"\\\\pq\\\"\\\"y\\x67zpjtn\"\t\t\t\"\\pq\"\"yxzpjt   14\n",
      "\"ifxqvivp\\\"kiiftdoe\"\t\t\tfxqvivp\"kiiftdo   17\n",
      "\"jxzebj\\\"\\x35\\\"qr\\\"ecglcutuoyywqumcs\\\"kk\"\t\t\txzebj\"x\"qr\"ecglcutuoyywqumcs\"k   32\n",
      "\"q\"\t\t\t   1\n",
      "\"yob\\x85qmpuwexptczbkrl\"\t\t\tobxqmpuwexptczbkr   19\n",
      "\"cjiavv\\\"uudpozvibyycnmxhxpxmpjoz\"\t\t\tjiavv\"uudpozvibyycnmxhxpxmpjo   31\n",
      "\"xro\\\\uiqyrcid\"\t\t\tro\\uiqyrci   12\n",
      "\"nod\\\\k\"\t\t\tod\\   5\n",
      "\"d\\\"neiec\"\t\t\t\"neie   7\n",
      "\"tqyrqvwyvmz\\\\pzgzzcqsqsrgbqbtapoz\"\t\t\tqyrqvwyvmz\\pzgzzcqsqsrgbqbtapo   32\n",
      "\"r\\\"xvocpeuxfxslgueb\\x05kzyyie\\\"aoec\"\t\t\t\"xvocpeuxfxslguebxkzyyie\"aoe   30\n",
      "\"\\\"du\\\\uirlhcbgv\\\\cjqhfreqnvn\"\t\t\tdu\\uirlhcbgv\\cjqhfreqnv   25\n",
      "\"zp\\x04\\x15\\\"pbjwhrjtmiba\"\t\t\tpxx\"pbjwhrjtmib   17\n",
      "\"\\\\cv\\\"\"\t\t\tcv   4\n",
      "\"k\\\"rwnb\\\\hiu\\\"rqd\\\"rc\\\\nyakrhly\"\t\t\t\"rwnb\\hiu\"rqd\"rc\\nyakrhl   26\n",
      "\"klrmafjzandiddodgz\"\t\t\tlrmafjzandiddodg   18\n",
      "\"xipzhqzhvlpykzcuppx\"\t\t\tipzhqzhvlpykzcupp   19\n",
      "\"zdvrvn\\xd0mtfvpylbn\\\\\\\\sxcznrzugwznl\"\t\t\tdvrvnxmtfvpylbn\\\\sxcznrzugwzn   31\n",
      "\"ody\\\\pvm\\\"kpjiudzhxazirgxzvumeat\\\"o\"\t\t\tdy\\pvm\"kpjiudzhxazirgxzvumeat\"   32\n",
      "\"kllvhdp\\\"prjikzrrc\\\"adgpegc\\\\\\\"gk\"\t\t\tllvhdp\"prjikzrrc\"adgpegc\\\"g   29\n",
      "\"sqtpug\\xbcaauxaamw\"\t\t\tqtpugxaauxaam   15\n",
      "\"wegxxrrxdvpivrqievfeokmnojsk\"\t\t\tegxxrrxdvpivrqievfeokmnojs   28\n",
      "\"\\\\bo\"\t\t\tb   3\n",
      "\"gijhz\"\t\t\tijh   5\n",
      "\"ylowluvabwrigssdgtxdwsiorxev\\xdd\"\t\t\tlowluvabwrigssdgtxdwsiorxev   29\n",
      "\"\\\"\"\t\t\t   1\n",
      "\"ghnsrnsqtxpygikahkrl\"\t\t\thnsrnsqtxpygikahkr   20\n",
      "\"\\\"rcfqkbjf\\\"sgxg\\\"vnd\\\\rotn\"\t\t\trcfqkbjf\"sgxg\"vnd\\rot   23\n",
      "\"ap\\\"smgsuexjrbuqs\\\"mpbstogj\\\"x\"\t\t\tp\"smgsuexjrbuqs\"mpbstogj\"   27\n",
      "\"koaunz\\\\sgt\\\"opv\"\t\t\toaunz\\sgt\"op   14\n",
      "\"yialiuzwix\"\t\t\tialiuzwi   10\n",
      "\"yp\\\"ndxgwzml\\\"bt\"\t\t\tp\"ndxgwzml\"b   14\n",
      "\"lpcjxmggfsy\\\\szbxccarjkqzasqkb\\xcfd\\x0c\"\t\t\tpcjxmggfsy\\szbxccarjkqzasqkbxd   32\n",
      "\"x\"\t\t\t   1\n",
      "\"mgakc\"\t\t\tgak   5\n",
      "\"vjieunoh\\x73fjwx\"\t\t\tjieunohxfjw   13\n",
      "\"erbvv\\\"qulsd\"\t\t\trbvv\"quls   11\n",
      "\"mimycrbfhqkarmz\"\t\t\timycrbfhqkarm   15\n",
      "\"tihfbgcszuej\\\"c\\xfbvoqskkhbgpaddioo\"\t\t\tihfbgcszuej\"cxvoqskkhbgpaddio   31\n",
      "\"mziavkwrmekriqghw\"\t\t\tziavkwrmekriqgh   17\n",
      "\"izk\\\\tnjd\\\\ed\\\\emokvjoc\"\t\t\tzk\\tnjd\\ed\\emokvjo   20\n",
      "\"c\\\"nhbqzndro\\\\g\"\t\t\t\"nhbqzndro\\   13\n",
      "\"usfngdo\"\t\t\tsfngd   7\n",
      "\"aypljdftvptt\"\t\t\typljdftvpt   12\n",
      "\"ym\\\"afvq\\xbcc\"\t\t\tm\"afvqx   9\n",
      "\"zabi\\\"wjpvugwhl\"\t\t\tabi\"wjpvugwh   14\n",
      "\"ebvptcjqjhc\\\"n\\\"p\\\"dxrphegr\\\\\"\t\t\tbvptcjqjhc\"n\"p\"dxrphegr   25\n",
      "\"mzlqqxokhye\\xd9\\\\rffhnzs\"\t\t\tzlqqxokhyex\\rffhnz   20\n",
      "\"hnipqknwpsjakanuewe\"\t\t\tnipqknwpsjakanuew   19\n",
      "\"rqgbfcjdrmiz\\\"h\"\t\t\tqgbfcjdrmiz\"   14\n",
      "\"kzzp\\\\z\\\\txmkwaouxictybwx\"\t\t\tzzp\\z\\txmkwaouxictybw   23\n",
      "\"yzmspjkqrteiydswlvb\"\t\t\tzmspjkqrteiydswlv   19\n",
      "\"gjpxklgpzv\\\"txri\\\\hotpuiukzzzd\"\t\t\tjpxklgpzv\"txri\\hotpuiukzzz   28\n",
      "\"p\\\"rxergtbsxmjmkeeqwvoagnki\\\"\"\t\t\t\"rxergtbsxmjmkeeqwvoagnki   27\n",
      "\"santipvuiq\"\t\t\tantipvui   10\n",
      "\"\\\"ihjqlhtwbuy\\\"hdkiv\\\"mtiqacnf\\\\\"\t\t\tihjqlhtwbuy\"hdkiv\"mtiqacnf   28\n",
      "\"oliaggtqyyx\"\t\t\tliaggtqyy   11\n",
      "\"fwwnpmbb\"\t\t\twwnpmb   8\n",
      "\"yrtdrieazfxyyneo\"\t\t\trtdrieazfxyyne   16\n",
      "\"nywbv\\\\\"\t\t\tywbv   6\n",
      "\"twc\\\\ehfqxhgomgrgwpxyzmnkioj\"\t\t\twc\\ehfqxhgomgrgwpxyzmnkio   27\n",
      "\"qludrkkvljljd\\\\xvdeum\\x4e\"\t\t\tludrkkvljljd\\xvdeum   21\n"
     ]
    },
    {
     "output_type": "execute_result",
     "data": {
      "text/plain": [
       "1371"
      ]
     },
     "metadata": {},
     "execution_count": 128
    }
   ],
   "source": [
    "def parse(line):\n",
    "    print(line, end=\"\\t\\t\\t\")\n",
    "    line = line[1:-1]\n",
    "    line = (line.replace('\\\\\\\\','\\\\'))\n",
    "    line = (line.replace('\\\\\"','\"'))\n",
    "    line = re.sub(r'\\\\x[0-9a-fA-F][0-9a-fA-F]','x',line)\n",
    "    # print(line, len(line))\n",
    "    print(line[1:-1], ' ', len(line))\n",
    "    return len(line)\n",
    "sum(len(line) for line in lines)-sum([parse(line) for line in lines])"
   ]
  },
  {
   "cell_type": "code",
   "execution_count": 136,
   "metadata": {},
   "outputs": [
    {
     "output_type": "execute_result",
     "data": {
      "text/plain": [
       "2117"
      ]
     },
     "metadata": {},
     "execution_count": 136
    }
   ],
   "source": [
    "f=open('input.txt')\n",
    "lines = [line.rstrip('\\n') for line in f]\n",
    "\n",
    "def parse(line):\n",
    "    # print(line, end=\"\\t\\t\\t\")\n",
    "    \n",
    "    # line = re.sub(r'\\\\x[0-9a-fA-F][0-9a-fA-F]','x',line)\n",
    "    line = (line.replace('\\\\','\\\\\\\\'))\n",
    "    line = (line.replace('\"','\\\\\"'))\n",
    "    line = '\"'+line+'\"'\n",
    "    # print(line, len(line))\n",
    "    # print(print(line), ' ', len(line))\n",
    "    return len(line)\n",
    "sum([parse(line) for line in lines]) - sum(len(line) for line in lines)"
   ]
  },
  {
   "cell_type": "code",
   "execution_count": 16,
   "metadata": {},
   "outputs": [
    {
     "output_type": "stream",
     "name": "stdout",
     "text": [
      "hi\\hi\n"
     ]
    }
   ],
   "source": [
    "import re\n",
    "l = re.sub(r'\\\\\\\\',r\"\\\\\",'hi\\\\hi')\n",
    "print(l)"
   ]
  },
  {
   "cell_type": "code",
   "execution_count": 11,
   "metadata": {},
   "outputs": [
    {
     "output_type": "execute_result",
     "data": {
      "text/plain": [
       "6"
      ]
     },
     "metadata": {},
     "execution_count": 11
    }
   ],
   "source": [
    "len(l)"
   ]
  },
  {
   "cell_type": "code",
   "execution_count": null,
   "metadata": {},
   "outputs": [],
   "source": []
  }
 ]
}