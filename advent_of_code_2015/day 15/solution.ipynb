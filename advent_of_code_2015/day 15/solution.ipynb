{
 "nbformat": 4,
 "nbformat_minor": 2,
 "metadata": {
  "language_info": {
   "name": "python",
   "codemirror_mode": {
    "name": "ipython",
    "version": 3
   },
   "version": "3.7.3-final"
  },
  "orig_nbformat": 2,
  "file_extension": ".py",
  "mimetype": "text/x-python",
  "name": "python",
  "npconvert_exporter": "python",
  "pygments_lexer": "ipython3",
  "version": 3,
  "kernelspec": {
   "name": "python3",
   "display_name": "Python 3",
   "language": "python"
  }
 },
 "cells": [
  {
   "cell_type": "code",
   "execution_count": 2,
   "metadata": {},
   "outputs": [],
   "source": [
    "# slow down a bit when hacking something together, e.g. I forgot to add a simple function call \n",
    "# tuple unpacking is nice, but cannot be done in a nested list comprehension\n",
    "# don't forget .items in  for k,v in dict.items()\n",
    "# use hashlib for md5 encodings\n",
    "# multiline list comprehensions don't need extra parentheses, but multiline if statements do\n",
    "# np.clip min and max can be omitted by specifying None\n",
    "# try except looks nice untill it obscures your real error\n",
    "# parsing ints to ints instead of strings is really important\n",
    "# checking whether someting is an int should be done with isinstance, not with isalpha() (fails on int)\n",
    "# removing from a list while iterating can be done safely by iterating over a slice(?)\n",
    "# with re make sure to use r'' literal strings\n",
    "# read assignment before tinkering with networkx and discovering its not necessary\n",
    "# sometimes a simple for loop works better then a list comprehension when parsing the input, and just add to concept variables\n",
    "# for incrementing a string, you can use chr(ord(inp)+1)\n",
    "# find repeating characters re.findall(r'([a-z])\\1', password)\n",
    "# regex: modify operator to nongreedy by appending ?"
   ]
  },
  {
   "cell_type": "code",
   "execution_count": 2,
   "metadata": {},
   "outputs": [],
   "source": [
    "from dataclasses import dataclass\n",
    "from math import gcd, ceil\n",
    "import re\n",
    "from collections import Counter, defaultdict, namedtuple, deque\n",
    "import itertools\n",
    "import numpy as np\n",
    "from matplotlib import pyplot as plt\n",
    "from aoc_utils import *\n",
    "import networkx as nx"
   ]
  },
  {
   "cell_type": "code",
   "execution_count": 3,
   "metadata": {},
   "outputs": [],
   "source": [
    "from collections import defaultdict\n",
    "from itertools import permutations\n",
    "from aoc_utils import *\n",
    "import re"
   ]
  },
  {
   "cell_type": "code",
   "execution_count": 4,
   "metadata": {},
   "outputs": [
    {
     "output_type": "execute_result",
     "data": {
      "text/plain": [
       "array([[ 5, -1,  0,  0,  5],\n",
       "       [-1,  3,  0,  0,  1],\n",
       "       [ 0, -1,  4,  0,  6],\n",
       "       [-1,  0,  0,  2,  8]])"
      ]
     },
     "metadata": {},
     "execution_count": 4
    }
   ],
   "source": [
    "lines = data('input', parser=ints, sep='\\n')\n",
    "lines = np.array(lines)\n",
    "lines"
   ]
  },
  {
   "cell_type": "code",
   "execution_count": 128,
   "metadata": {
    "tags": []
   },
   "outputs": [
    {
     "output_type": "execute_result",
     "data": {
      "text/plain": [
       "13882464"
      ]
     },
     "metadata": {},
     "execution_count": 128
    }
   ],
   "source": [
    "def getscore(ingredients):\n",
    "    assert sum(ingredients) ==100\n",
    "\n",
    "    # uncomment for part 2\n",
    "    # if sum(lines[:,4]*ingredients) != 500: return 0\n",
    "\n",
    "    res =lines[:,:4]*np.array(ingredients)[:,None]\n",
    "    res = np.sum(res, axis=0)\n",
    "    return 0 if any(res < 0) else np.prod(res)\n",
    "        \n",
    "scores = [getscore(np.array([i,j,k,100-i-j-k]))\n",
    "            for i in range(100)\n",
    "            for j in range(100-i)\n",
    "            for k in range(100-i-j)]\n",
    "max(scores)"
   ]
  },
  {
   "cell_type": "code",
   "execution_count": null,
   "metadata": {},
   "outputs": [],
   "source": [
    "def getscore(ingredients):\n",
    "    assert sum(ingredients) ==100\n",
    "\n",
    "    # uncomment for part 2\n",
    "    # if sum(lines[:,4]*ingredients) != 500: return 0\n",
    "\n",
    "    res =lines[:,:4]*np.array(ingredients)[:,None]\n",
    "    res = np.sum(res, axis=0)\n",
    "    return 0 if any(res < 0) else np.prod(res)\n",
    "        \n",
    "scores = [getscore([i,j,k,100-i-j-k])\n",
    "            for i in range(100)\n",
    "            for j in range(100-i)\n",
    "            for k in range(100-i-j)]\n",
    "max(scores)"
   ]
  },
  {
   "cell_type": "code",
   "execution_count": 10,
   "metadata": {},
   "outputs": [
    {
     "output_type": "execute_result",
     "data": {
      "text/plain": [
       "[[5, -2, 0, 0, 25], [-1, 6, 0, 0, 5], [0, -2, 12, 0, 30], [-1, 0, 0, 8, 40]]"
      ]
     },
     "metadata": {},
     "execution_count": 10
    }
   ],
   "source": []
  },
  {
   "cell_type": "code",
   "execution_count": null,
   "metadata": {},
   "outputs": [],
   "source": []
  }
 ]
}