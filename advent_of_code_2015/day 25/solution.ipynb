{
 "nbformat": 4,
 "nbformat_minor": 2,
 "metadata": {
  "language_info": {
   "name": "python",
   "codemirror_mode": {
    "name": "ipython",
    "version": 3
   },
   "version": "3.7.3-final"
  },
  "orig_nbformat": 2,
  "file_extension": ".py",
  "mimetype": "text/x-python",
  "name": "python",
  "npconvert_exporter": "python",
  "pygments_lexer": "ipython3",
  "version": 3,
  "kernelspec": {
   "name": "python3",
   "display_name": "Python 3",
   "language": "python"
  }
 },
 "cells": [
  {
   "cell_type": "code",
   "execution_count": 2,
   "metadata": {},
   "outputs": [],
   "source": [
    "# slow down a bit when hacking something together, e.g. I forgot to add a simple function call \n",
    "# tuple unpacking is nice, but cannot be done in a nested list comprehension\n",
    "# don't forget .items in  for k,v in dict.items()\n",
    "# use hashlib for md5 encodings\n",
    "# multiline list comprehensions don't need extra parentheses, but multiline if statements do\n",
    "# np.clip min and max can be omitted by specifying None\n",
    "# try except looks nice untill it obscures your real error\n",
    "# parsing ints to ints instead of strings is really important\n",
    "# checking whether someting is an int should be done with isinstance, not with isalpha() (fails on int)\n",
    "# removing from a list while iterating can be done safely by iterating over a slice(?)\n",
    "# with re make sure to use r'' literal strings\n",
    "# read assignment before tinkering with networkx and discovering its not necessary\n",
    "# sometimes a simple for loop works better then a list comprehension when parsing the input, and just add to concept variables\n",
    "# for incrementing a string, you can use chr(ord(inp)+1)\n",
    "# find repeating characters re.findall(r'([a-z])\\1', password)\n",
    "# regex: modify operator to nongreedy by appending ?\n",
    "# ok so sometime you can bruteforce a problem....\n",
    "# while manually modifying the input, make sure to change exactly the right line\n",
    "# before doing bfs, check if the search space is not going to explode\n",
    "# top 10 score by using a factors function!\n",
    "# itertools.chain is nice for iterating over multiple iterables\n",
    "# 1!=2!=1 == True, to check all different use len(set([a,b,c]))==3"
   ]
  },
  {
   "cell_type": "code",
   "execution_count": 6,
   "metadata": {},
   "outputs": [],
   "source": [
    "from dataclasses import dataclass\n",
    "from math import gcd, ceil\n",
    "import re\n",
    "from collections import Counter, defaultdict, namedtuple, deque\n",
    "import itertools\n",
    "import numpy as np\n",
    "from matplotlib import pyplot as plt\n",
    "from aoc_utils import *\n",
    "import networkx as nx\n",
    "from collections import defaultdict\n",
    "from itertools import permutations\n",
    "from aoc_utils import *\n",
    "import re"
   ]
  },
  {
   "cell_type": "code",
   "execution_count": 2,
   "metadata": {},
   "outputs": [
    {
     "output_type": "stream",
     "name": "stdout",
     "text": [
      "19980801\n"
     ]
    }
   ],
   "source": [
    "cur = 20151125\n",
    "multi = 252533\n",
    "div = 33554393\n",
    "r = 1\n",
    "c = 1\n",
    "seekrow = 2947\n",
    "seekcol = 3029\n",
    "# seekrow = 3\n",
    "# seekcol = 3\n",
    "\n",
    "def nextone(prev):\n",
    "    return (prev * multi) % div\n",
    "\n",
    "for i in range(5000000000):\n",
    "    cur = nextone(cur)\n",
    "    if r == 1:\n",
    "        r = c+1\n",
    "        c = 1\n",
    "    else:\n",
    "        r-=1\n",
    "        c+=1\n",
    "    if r == seekrow and c == seekcol:\n",
    "        print(cur)"
   ]
  },
  {
   "cell_type": "code",
   "execution_count": 15,
   "metadata": {},
   "outputs": [
    {
     "output_type": "execute_result",
     "data": {
      "text/plain": [
       "17844380"
      ]
     },
     "metadata": {},
     "execution_count": 15
    }
   ],
   "source": [
    "# https://en.wikipedia.org/wiki/Modular_exponentiation#Right-to-left_binary_method\n",
    "cur = 20151125\n",
    "multi = 252533\n",
    "div = 33554393\n",
    "r = 1\n",
    "c = 1\n",
    "seekrow = 2947\n",
    "seekcol = 3029\n",
    "# seekrow = 3\n",
    "# seekcol = 3\n",
    "count = sum(range(seekrow + seekcol -2)) + seekcol\n",
    "count\n"
   ]
  },
  {
   "cell_type": "code",
   "execution_count": 14,
   "metadata": {},
   "outputs": [
    {
     "output_type": "execute_result",
     "data": {
      "text/plain": [
       "17850353"
      ]
     },
     "metadata": {},
     "execution_count": 14
    }
   ],
   "source": [
    "x(seekrow,seekcol)"
   ]
  },
  {
   "cell_type": "code",
   "execution_count": 17,
   "metadata": {},
   "outputs": [
    {
     "output_type": "execute_result",
     "data": {
      "text/plain": [
       "10830293"
      ]
     },
     "metadata": {},
     "execution_count": 17
    }
   ],
   "source": [
    "def x(r,c): \n",
    "    return ((r+c)**2-3*r-c)//2\n",
    "pow(multi,count,div)*cur%div"
   ]
  },
  {
   "cell_type": "code",
   "execution_count": 13,
   "metadata": {},
   "outputs": [
    {
     "output_type": "stream",
     "name": "stdout",
     "text": [
      "32275978\n"
     ]
    }
   ],
   "source": [
    "v = 20151125\n",
    "e = 18168396\n",
    "a = 252533\n",
    "m = 33554393\n",
    "\n",
    "def f(x,e):\n",
    "  if e == 0:\n",
    "    return 1\n",
    "  if e == 1:\n",
    "    return x\n",
    "  r = f(x,e/2)\n",
    "  r *= r\n",
    "  if e % 2:\n",
    "    r *= x\n",
    "  return r%m\n",
    "\n",
    "print (v*f(a,e)%m)"
   ]
  },
  {
   "cell_type": "code",
   "execution_count": 18,
   "metadata": {},
   "outputs": [],
   "source": [
    "def egcd(a, b):\n",
    "    if a == 0:\n",
    "        return (b, 0, 1)\n",
    "    else:\n",
    "        g, y, x = egcd(b % a, a)\n",
    "        return (g, x - (b // a) * y, y)\n",
    "\n",
    "def modinv(a, m):\n",
    "    g, x, y = egcd(a, m)\n",
    "    if g != 1:\n",
    "        raise Exception('modular inverse does not exist')\n",
    "    else:\n",
    "        return x % m"
   ]
  },
  {
   "cell_type": "code",
   "execution_count": 21,
   "metadata": {},
   "outputs": [],
   "source": [
    "numtimes = 101741582076661\n",
    "decksize = 119315717514047\n",
    "cardnum = 2020\n",
    "# a⋅x=b(modn)\n",
    "# x = 2020(mod decksize)\n"
   ]
  },
  {
   "cell_type": "code",
   "execution_count": 28,
   "metadata": {},
   "outputs": [
    {
     "output_type": "execute_result",
     "data": {
      "text/plain": [
       "65895959685232"
      ]
     },
     "metadata": {},
     "execution_count": 28
    }
   ],
   "source": [
    "amin = modinv(101741582076661, decksize)\n",
    "pow(amin, numtimes, decksize)*2020%decksize"
   ]
  },
  {
   "cell_type": "code",
   "execution_count": null,
   "metadata": {},
   "outputs": [],
   "source": [
    "62416301438548"
   ]
  }
 ]
}