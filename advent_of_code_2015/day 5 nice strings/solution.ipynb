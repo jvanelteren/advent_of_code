{
 "nbformat": 4,
 "nbformat_minor": 2,
 "metadata": {
  "language_info": {
   "name": "python",
   "codemirror_mode": {
    "name": "ipython",
    "version": 3
   },
   "version": "3.7.3-final"
  },
  "orig_nbformat": 2,
  "file_extension": ".py",
  "mimetype": "text/x-python",
  "name": "python",
  "npconvert_exporter": "python",
  "pygments_lexer": "ipython3",
  "version": 3,
  "kernelspec": {
   "name": "python3",
   "display_name": "Python 3"
  }
 },
 "cells": [
  {
   "cell_type": "code",
   "execution_count": 1,
   "metadata": {},
   "outputs": [],
   "source": [
    "# slow down a bit when hacking something together, e.g. I forgot to add a simple function call \n",
    "# tuple unpacking is nice, but cannot be done in a nested list comprehension\n",
    "# don't forget .items in  for k,v in dict.items()\n",
    "# use hashlib for md5 encodings\n",
    "# multiline list comprehensions don't need extra parentheses, but multiline if statements do"
   ]
  },
  {
   "cell_type": "code",
   "execution_count": 2,
   "metadata": {},
   "outputs": [
    {
     "output_type": "execute_result",
     "data": {
      "text/plain": [
       "(1000, 'sszojmmrrkwuftyv')"
      ]
     },
     "metadata": {},
     "execution_count": 2
    }
   ],
   "source": [
    "f=open('input.txt')\n",
    "lines = [line.rstrip('\\n') for line in f]\n",
    "\n",
    "# print amount of rows and first 100 character of first line\n",
    "len(lines), lines[0][:100]"
   ]
  },
  {
   "cell_type": "code",
   "execution_count": 10,
   "metadata": {},
   "outputs": [
    {
     "output_type": "execute_result",
     "data": {
      "text/plain": [
       "255"
      ]
     },
     "metadata": {},
     "execution_count": 10
    }
   ],
   "source": [
    "import re\n",
    "sum([1 for s in lines if re.search(r'([aeiou].*){3,}', s) and\n",
    "                                  re.search(r'(.)\\1', s) and\n",
    "                                  not re.search(r'ab|cd|pq|xy', s)])"
   ]
  },
  {
   "cell_type": "code",
   "execution_count": 12,
   "metadata": {},
   "outputs": [
    {
     "output_type": "execute_result",
     "data": {
      "text/plain": [
       "255"
      ]
     },
     "metadata": {},
     "execution_count": 12
    }
   ],
   "source": [
    "def isnice(s):\n",
    "    return (True if (sum(1 for char in s if char in 'aeiou') >=3) and\n",
    "                    re.search(r'(.)\\1', s) and\n",
    "                    not re.search(r'ab|cd|pq|xy', s)\n",
    "                    else False)\n",
    "sum(1 for l in lines if isnice(l))"
   ]
  },
  {
   "cell_type": "code",
   "execution_count": 55,
   "metadata": {},
   "outputs": [
    {
     "output_type": "execute_result",
     "data": {
      "text/plain": [
       "55"
      ]
     },
     "metadata": {},
     "execution_count": 55
    }
   ],
   "source": [
    "def finder(tofind, input):\n",
    "    # print(tofind,input)\n",
    "    if tofind in input:\n",
    "        return True\n",
    "    else:\n",
    "        return False\n",
    "\n",
    "def isnice(s):\n",
    "    if any(finder(s[i:i+2],s[i+2:]) for i in range(len(s)-2)):\n",
    "        if any(True for x,y in zip(s,s[2:]) if x==y):\n",
    "            return 1\n",
    "        else:\n",
    "            return 0\n",
    "    else:\n",
    "        return 0\n",
    "\n",
    "\n",
    "sum([isnice(s) for s in lines])"
   ]
  },
  {
   "cell_type": "code",
   "execution_count": 13,
   "metadata": {},
   "outputs": [
    {
     "output_type": "stream",
     "name": "stdout",
     "text": [
      "255\n55\n"
     ]
    }
   ],
   "source": [
    "# from reddit\n",
    "import re\n",
    "\n",
    "strings = [x.strip() for x in lines]\n",
    "\n",
    "# Part 1\n",
    "print(len([s for s in strings if (re.search(r'([aeiou].*){3,}', s) and\n",
    "                                  re.search(r'(.)\\1', s) and\n",
    "                                  not re.search(r'ab|cd|pq|xy', s))]))\n",
    "\n",
    "# Part 2\n",
    "print(len([s for s in strings if (re.search(r'(..).*\\1', s) and\n",
    "                                  re.search(r'(.).\\1', s))]))"
   ]
  },
  {
   "cell_type": "code",
   "execution_count": null,
   "metadata": {},
   "outputs": [],
   "source": []
  }
 ]
}