{
 "nbformat": 4,
 "nbformat_minor": 2,
 "metadata": {
  "language_info": {
   "name": "python",
   "codemirror_mode": {
    "name": "ipython",
    "version": 3
   },
   "version": "3.7.3-final"
  },
  "orig_nbformat": 2,
  "file_extension": ".py",
  "mimetype": "text/x-python",
  "name": "python",
  "npconvert_exporter": "python",
  "pygments_lexer": "ipython3",
  "version": 3,
  "kernelspec": {
   "name": "python3",
   "display_name": "Python 3"
  }
 },
 "cells": [
  {
   "cell_type": "code",
   "execution_count": null,
   "metadata": {},
   "outputs": [],
   "source": [
    "# slow down a bit when hacking something together, e.g. I forgot to add a simple function call \n",
    "# tuple unpacking is nice, but cannot be done in a nested list comprehension"
   ]
  },
  {
   "cell_type": "code",
   "execution_count": null,
   "metadata": {},
   "outputs": [],
   "source": [
    "from dataclasses import dataclass\n",
    "from math import gcd, ceil\n",
    "import re\n",
    "from collections import Counter, defaultdict, namedtuple, deque\n",
    "import numpy as np\n",
    "from matplotlib import pyplot as plt\n",
    "import aoc\n",
    "import networkx as nx"
   ]
  },
  {
   "cell_type": "code",
   "execution_count": 23,
   "metadata": {},
   "outputs": [
    {
     "output_type": "stream",
     "name": "stdout",
     "text": [
      "N lines: 1000, firstline looks like\n [3, 11, 24]\n"
     ]
    }
   ],
   "source": [
    "f=open('input.txt')\n",
    "lines = [sorted(aoc.to_int(line.rstrip('\\n').split('x'))) for line in f]\n",
    "print(f'N lines: {len(lines)}, firstline looks like\\n {lines[0][:100]}')"
   ]
  },
  {
   "cell_type": "code",
   "execution_count": 46,
   "metadata": {},
   "outputs": [
    {
     "output_type": "execute_result",
     "data": {
      "text/plain": [
       "1588178"
      ]
     },
     "metadata": {},
     "execution_count": 46
    }
   ],
   "source": [
    "# part 1\n",
    "count = 0\n",
    "for line in lines:\n",
    "    l,w,h = line\n",
    "    count += (l*w*3+l*h*2+w*h*2)\n",
    "count"
   ]
  },
  {
   "cell_type": "code",
   "execution_count": 47,
   "metadata": {},
   "outputs": [
    {
     "output_type": "execute_result",
     "data": {
      "text/plain": [
       "3783758"
      ]
     },
     "metadata": {},
     "execution_count": 47
    }
   ],
   "source": [
    "# part \n",
    "count = 0\n",
    "for line in lines:\n",
    "    l,w,h = line\n",
    "    count+= l+l+w+w+l*w*h\n",
    "count"
   ]
  },
  {
   "cell_type": "code",
   "execution_count": null,
   "metadata": {},
   "outputs": [],
   "source": []
  }
 ]
}