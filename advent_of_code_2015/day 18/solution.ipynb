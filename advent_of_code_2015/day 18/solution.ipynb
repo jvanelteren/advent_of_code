{
 "nbformat": 4,
 "nbformat_minor": 2,
 "metadata": {
  "language_info": {
   "name": "python",
   "codemirror_mode": {
    "name": "ipython",
    "version": 3
   },
   "version": "3.7.3-final"
  },
  "orig_nbformat": 2,
  "file_extension": ".py",
  "mimetype": "text/x-python",
  "name": "python",
  "npconvert_exporter": "python",
  "pygments_lexer": "ipython3",
  "version": 3,
  "kernelspec": {
   "name": "python3",
   "display_name": "Python 3",
   "language": "python"
  }
 },
 "cells": [
  {
   "cell_type": "code",
   "execution_count": 5,
   "metadata": {},
   "outputs": [],
   "source": [
    "# slow down a bit when hacking something together, e.g. I forgot to add a simple function call \n",
    "# tuple unpacking is nice, but cannot be done in a nested list comprehension\n",
    "# don't forget .items in  for k,v in dict.items()\n",
    "# use hashlib for md5 encodings\n",
    "# multiline list comprehensions don't need extra parentheses, but multiline if statements do\n",
    "# np.clip min and max can be omitted by specifying None\n",
    "# try except looks nice untill it obscures your real error\n",
    "# parsing ints to ints instead of strings is really important\n",
    "# checking whether someting is an int should be done with isinstance, not with isalpha() (fails on int)\n",
    "# removing from a list while iterating can be done safely by iterating over a slice(?)\n",
    "# with re make sure to use r'' literal strings\n",
    "# read assignment before tinkering with networkx and discovering its not necessary\n",
    "# sometimes a simple for loop works better then a list comprehension when parsing the input, and just add to concept variables\n",
    "# for incrementing a string, you can use chr(ord(inp)+1)\n",
    "# find repeating characters re.findall(r'([a-z])\\1', password)\n",
    "# regex: modify operator to nongreedy by appending ?\n",
    "# ok so sometime you can bruteforce a problem....\n",
    "# while manually modifying the input, make sure to change exactly the right line"
   ]
  },
  {
   "cell_type": "code",
   "execution_count": 1,
   "metadata": {},
   "outputs": [],
   "source": [
    "import numpy as np\n",
    "from aoc_utils import *\n"
   ]
  },
  {
   "cell_type": "code",
   "execution_count": 59,
   "metadata": {},
   "outputs": [
    {
     "output_type": "execute_result",
     "data": {
      "text/plain": [
       "886"
      ]
     },
     "metadata": {},
     "execution_count": 59
    }
   ],
   "source": [
    "# solution with numpy array\n",
    "lines = np.array(data('input', parser=list, sep='\\n'))\n",
    "corners = []\n",
    "# uncomment for part 2\n",
    "corners = [(0,0),(99,99),(0,99),(99,0)]\n",
    "for c in corners:\n",
    "    lines[c]='#'\n",
    "neighbors = arr_neighbors(lines)\n",
    "\n",
    "def step(lines):\n",
    "    newlines = lines.copy()\n",
    "    for index,val in np.ndenumerate(lines):\n",
    "        if index in corners:\n",
    "            continue\n",
    "        num_on = sum([1 for n in neighbors[index] if lines[n]=='#'])\n",
    "        if val == '#' and (num_on < 2 or num_on > 3):\n",
    "            newlines[index]='.'\n",
    "        if val == '.' and num_on == 3:\n",
    "            newlines[index]='#'\n",
    "    return newlines\n",
    "for i in range(100):\n",
    "    lines = step(lines)\n",
    "np.sum(lines == '#')"
   ]
  },
  {
   "cell_type": "code",
   "execution_count": 60,
   "metadata": {},
   "outputs": [
    {
     "output_type": "execute_result",
     "data": {
      "text/plain": [
       "886"
      ]
     },
     "metadata": {},
     "execution_count": 60
    }
   ],
   "source": [
    "# solution with sets, works 3x faster\n",
    "lines = np.array(data('input', parser=list, sep='\\n'))\n",
    "corners = set()\n",
    "# uncomment for part 2\n",
    "corners = {(0,0),(99,99),(0,99),(99,0)}\n",
    "neighbors = arr_neighbors(lines)\n",
    "for c in corners:\n",
    "    lines[c]='#'\n",
    "on = {tuple(index) for index in np.argwhere(lines=='#')}\n",
    "\n",
    "def step(on):\n",
    "    go_out = {light for light in on \n",
    "        if not 1 < sum(1 for n in neighbors[light] if n in on) < 4}\n",
    "    go_on = {k for k,v in neighbors.items() if k not in on and len(v & on) == 3}\n",
    "    return on - go_out | go_on | corners\n",
    "\n",
    "for i in range(100):\n",
    "    on = step(on)\n",
    "len(on)"
   ]
  },
  {
   "cell_type": "code",
   "execution_count": null,
   "metadata": {},
   "outputs": [],
   "source": []
  }
 ]
}