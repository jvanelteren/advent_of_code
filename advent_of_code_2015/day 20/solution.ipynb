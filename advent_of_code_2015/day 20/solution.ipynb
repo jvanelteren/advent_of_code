{
 "nbformat": 4,
 "nbformat_minor": 2,
 "metadata": {
  "language_info": {
   "name": "python",
   "codemirror_mode": {
    "name": "ipython",
    "version": 3
   },
   "version": "3.7.3-final"
  },
  "orig_nbformat": 2,
  "file_extension": ".py",
  "mimetype": "text/x-python",
  "name": "python",
  "npconvert_exporter": "python",
  "pygments_lexer": "ipython3",
  "version": 3,
  "kernelspec": {
   "name": "python3",
   "display_name": "Python 3",
   "language": "python"
  }
 },
 "cells": [
  {
   "cell_type": "code",
   "execution_count": 2,
   "metadata": {},
   "outputs": [],
   "source": [
    "# slow down a bit when hacking something together, e.g. I forgot to add a simple function call \n",
    "# tuple unpacking is nice, but cannot be done in a nested list comprehension\n",
    "# don't forget .items in  for k,v in dict.items()\n",
    "# use hashlib for md5 encodings\n",
    "# multiline list comprehensions don't need extra parentheses, but multiline if statements do\n",
    "# np.clip min and max can be omitted by specifying None\n",
    "# try except looks nice untill it obscures your real error\n",
    "# parsing ints to ints instead of strings is really important\n",
    "# checking whether someting is an int should be done with isinstance, not with isalpha() (fails on int)\n",
    "# removing from a list while iterating can be done safely by iterating over a slice(?)\n",
    "# with re make sure to use r'' literal strings\n",
    "# read assignment before tinkering with networkx and discovering its not necessary\n",
    "# sometimes a simple for loop works better then a list comprehension when parsing the input, and just add to concept variables\n",
    "# for incrementing a string, you can use chr(ord(inp)+1)\n",
    "# find repeating characters re.findall(r'([a-z])\\1', password)\n",
    "# regex: modify operator to nongreedy by appending ?\n",
    "# ok so sometime you can bruteforce a problem....\n",
    "# while manually modifying the input, make sure to change exactly the right line\n",
    "# before doing bfs, check if the search space is not going to explode\n",
    "# top 10 score by using a factors function!"
   ]
  },
  {
   "cell_type": "code",
   "execution_count": 60,
   "metadata": {},
   "outputs": [],
   "source": [
    "from functools import reduce\n",
    "from math import sqrt"
   ]
  },
  {
   "cell_type": "code",
   "execution_count": 79,
   "metadata": {},
   "outputs": [],
   "source": [
    "def factors(n):\n",
    "    \"\"\"\n",
    "     return set of divisors of a number\n",
    "    \"\"\"\n",
    "\n",
    "    step = 2 if n%2 else 1\n",
    "    return set(reduce(list.__add__,\n",
    "                ([i, n//i] for i in range(1, int(sqrt(n))+1, step) if n % i == 0)))"
   ]
  },
  {
   "cell_type": "code",
   "execution_count": 68,
   "metadata": {},
   "outputs": [
    {
     "output_type": "stream",
     "name": "stdout",
     "text": [
      "found 786240\n"
     ]
    }
   ],
   "source": [
    "thres = 34000000\n",
    "for i in range(680240,n+1000000):\n",
    "    if sum(factors(i))*10 >= thres:\n",
    "        print('found',i)\n",
    "        break\n"
   ]
  },
  {
   "cell_type": "code",
   "execution_count": 59,
   "metadata": {},
   "outputs": [
    {
     "output_type": "stream",
     "name": "stdout",
     "text": [
      "found 831600\n"
     ]
    }
   ],
   "source": [
    "# part 2\n",
    "n = 786240\n",
    "for i in range(n,n+1000000):\n",
    "    res = (sum(num for num in factors(i) if i/num<50)*11)\n",
    "    if res >= thres:\n",
    "        print('found',i)\n",
    "        break\n"
   ]
  },
  {
   "cell_type": "code",
   "execution_count": null,
   "metadata": {},
   "outputs": [],
   "source": []
  }
 ]
}