{
 "metadata": {
  "language_info": {
   "codemirror_mode": {
    "name": "ipython",
    "version": 3
   },
   "file_extension": ".py",
   "mimetype": "text/x-python",
   "name": "python",
   "nbconvert_exporter": "python",
   "pygments_lexer": "ipython3",
   "version": "3.7.3-final"
  },
  "orig_nbformat": 2,
  "kernelspec": {
   "name": "python3",
   "display_name": "Python 3.7.3 64-bit (conda)",
   "metadata": {
    "interpreter": {
     "hash": "ecf5722fdaf1897a315d257d89d94520bfcaa453217d5becf09b39e73618b0de"
    }
   }
  }
 },
 "nbformat": 4,
 "nbformat_minor": 2,
 "cells": [
  {
   "cell_type": "code",
   "execution_count": 10,
   "metadata": {},
   "outputs": [],
   "source": [
    "from dataclasses import dataclass\n",
    "from math import gcd, ceil\n",
    "import re\n",
    "from collections import Counter, defaultdict, namedtuple, deque\n",
    "import itertools\n",
    "import numpy as np\n",
    "from matplotlib import pyplot as plt\n",
    "from aoc_utils import *\n",
    "import networkx as nx\n",
    "from itertools import permutations\n",
    "import re\n"
   ]
  },
  {
   "cell_type": "code",
   "execution_count": 14,
   "metadata": {},
   "outputs": [
    {
     "output_type": "execute_result",
     "data": {
      "text/plain": [
       "'CRnCaCaCaSiRnBPTiMgArSiRnSiRnMgArSiRnCaFArTiTiBSiThFYCaFArCaCaSiThCaPBSiThSiThCaCaPTiRnPBSiThRnFArArCaCaSiThCaSiThSiRnMgArCaPTiBPRnFArSiThCaSiRnFArBCaSiRnCaPRnFArPMgYCaFArCaPTiTiTiBPBSiThCaPTiBPBSiRnFArBPBSiRnCaFArBPRnSiRnFArRnSiRnBFArCaFArCaCaCaSiThSiThCaCaPBPTiTiRnFArCaPTiBSiAlArPBCaCaCaCaCaSiRnMgArCaSiThFArThCaSiThCaSiRnCaFYCaSiRnFYFArFArCaSiRnFYFArCaSiRnBPMgArSiThPRnFArCaSiRnFArTiRnSiRnFYFArCaSiRnBFArCaSiRnTiMgArSiThCaSiThCaFArPRnFArSiRnFArTiTiTiTiBCaCaSiRnCaCaFYFArSiThCaPTiBPTiBCaSiThSiRnMgArCaF'"
      ]
     },
     "metadata": {},
     "execution_count": 14
    }
   ],
   "source": [
    "# solution with numpy array\n",
    "(medicine, target) = data('input', parser=str, sep='\\n\\n')\n",
    "conv = set()\n",
    "for m in medicine.split('\\n'):\n",
    "    # print(m)\n",
    "    (inp, out) = m.split(' => ')\n",
    "    conv.add((inp,out))\n",
    "target"
   ]
  },
  {
   "cell_type": "code",
   "execution_count": 27,
   "metadata": {},
   "outputs": [
    {
     "output_type": "stream",
     "name": "stderr",
     "text": [
      "INFO:root:None, time: 0.007167526086171468\n"
     ]
    }
   ],
   "source": [
    "\n",
    "def get_neigh(start):\n",
    "    outcomes = set()\n",
    "    for c in conv:\n",
    "        inp, out = c\n",
    "        poss = re.finditer(inp, start)\n",
    "        for p in poss:\n",
    "            i = p.start()\n",
    "            # if inp =='e': print(i)\n",
    "            outcomes.add(start[0:i] + out + start[i+ len(inp):])\n",
    "    return {o for o in outcomes if len(o)<=len(target)}\n",
    "with timeit():\n",
    "    for _ in range(1000):\n",
    "        get_neigh('e')"
   ]
  },
  {
   "cell_type": "code",
   "execution_count": null,
   "metadata": {},
   "outputs": [],
   "source": [
    "res = bfs(get_neigh, 'e', goal=target)\n"
   ]
  },
  {
   "cell_type": "code",
   "execution_count": null,
   "metadata": {},
   "outputs": [],
   "source": []
  },
  {
   "cell_type": "code",
   "execution_count": 22,
   "metadata": {},
   "outputs": [],
   "source": []
  },
  {
   "cell_type": "code",
   "execution_count": 29,
   "metadata": {},
   "outputs": [
    {
     "output_type": "stream",
     "name": "stderr",
     "text": [
      "INFO:root:None, time: 0.0012751738230387369\n"
     ]
    }
   ],
   "source": [
    "def find_all(a_str, sub):\n",
    "    start = 0\n",
    "    while True:\n",
    "        start = a_str.find(sub, start)\n",
    "        if start == -1: return\n",
    "        yield start \n",
    "        start += len(sub)\n",
    "        \n",
    "def get_neigh(start):\n",
    "    outcomes = set()\n",
    "    for c in conv:\n",
    "        inp, out = c\n",
    "        for i in find_all(start, inp):\n",
    "            new = start[0:i] + out + start[i+ len(inp):]\n",
    "            if len(new)<=len(target):\n",
    "                outcomes.add(new)\n",
    "    return outcomes\n",
    "with timeit():\n",
    "    for _ in range(1000):\n",
    "        get_neigh('e')"
   ]
  },
  {
   "cell_type": "code",
   "execution_count": 25,
   "metadata": {},
   "outputs": [
    {
     "output_type": "stream",
     "name": "stderr",
     "text": [
      "INFO:root:None, time: 0.0\n"
     ]
    }
   ],
   "source": [
    "with timeit():\n",
    "    get_neigh('e')"
   ]
  },
  {
   "cell_type": "code",
   "execution_count": null,
   "metadata": {},
   "outputs": [],
   "source": []
  }
 ]
}