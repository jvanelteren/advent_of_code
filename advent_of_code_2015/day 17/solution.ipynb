{
 "nbformat": 4,
 "nbformat_minor": 2,
 "metadata": {
  "language_info": {
   "name": "python",
   "codemirror_mode": {
    "name": "ipython",
    "version": 3
   },
   "version": "3.7.3-final"
  },
  "orig_nbformat": 2,
  "file_extension": ".py",
  "mimetype": "text/x-python",
  "name": "python",
  "npconvert_exporter": "python",
  "pygments_lexer": "ipython3",
  "version": 3,
  "kernelspec": {
   "name": "python3",
   "display_name": "Python 3",
   "language": "python"
  }
 },
 "cells": [
  {
   "cell_type": "code",
   "execution_count": 1,
   "metadata": {},
   "outputs": [],
   "source": [
    "# slow down a bit when hacking something together, e.g. I forgot to add a simple function call \n",
    "# tuple unpacking is nice, but cannot be done in a nested list comprehension\n",
    "# don't forget .items in  for k,v in dict.items()\n",
    "# use hashlib for md5 encodings\n",
    "# multiline list comprehensions don't need extra parentheses, but multiline if statements do\n",
    "# np.clip min and max can be omitted by specifying None\n",
    "# try except looks nice untill it obscures your real error\n",
    "# parsing ints to ints instead of strings is really important\n",
    "# checking whether someting is an int should be done with isinstance, not with isalpha() (fails on int)\n",
    "# removing from a list while iterating can be done safely by iterating over a slice(?)\n",
    "# with re make sure to use r'' literal strings\n",
    "# read assignment before tinkering with networkx and discovering its not necessary\n",
    "# sometimes a simple for loop works better then a list comprehension when parsing the input, and just add to concept variables\n",
    "# for incrementing a string, you can use chr(ord(inp)+1)\n",
    "# find repeating characters re.findall(r'([a-z])\\1', password)\n",
    "# regex: modify operator to nongreedy by appending ?\n",
    "# ok so sometime you can bruteforce a problem...."
   ]
  },
  {
   "cell_type": "code",
   "execution_count": 1,
   "metadata": {},
   "outputs": [
    {
     "output_type": "execute_result",
     "data": {
      "text/plain": [
       "[50, 49, 47, 46, 44, 43, 42, 40, 40, 36, 32, 26, 24, 22, 21, 18, 18, 11, 10, 7]"
      ]
     },
     "metadata": {},
     "execution_count": 1
    }
   ],
   "source": [
    "from aoc_utils import *\n",
    "import itertools\n",
    "\n",
    "lines = data('input', parser=int, sep='\\n')\n",
    "lines.sort(reverse=True)\n",
    "lines"
   ]
  },
  {
   "cell_type": "code",
   "execution_count": 2,
   "metadata": {},
   "outputs": [
    {
     "output_type": "stream",
     "name": "stdout",
     "text": [
      "combinations of 0 buckets, 0\n",
      "combinations of 1 buckets, 0\n",
      "combinations of 2 buckets, 0\n",
      "combinations of 3 buckets, 0\n",
      "combinations of 4 buckets, 57\n",
      "combinations of 5 buckets, 288\n",
      "combinations of 6 buckets, 550\n",
      "combinations of 7 buckets, 647\n",
      "combinations of 8 buckets, 654\n",
      "combinations of 9 buckets, 654\n",
      "combinations of 10 buckets, 654\n",
      "combinations of 11 buckets, 654\n",
      "combinations of 12 buckets, 654\n",
      "combinations of 13 buckets, 654\n",
      "combinations of 14 buckets, 654\n",
      "combinations of 15 buckets, 654\n",
      "combinations of 16 buckets, 654\n",
      "combinations of 17 buckets, 654\n",
      "combinations of 18 buckets, 654\n",
      "combinations of 19 buckets, 654\n"
     ]
    }
   ],
   "source": [
    "# the easy way, should have tried this probably, but only found out afterwards\n",
    "total = 0\n",
    "fill=150\n",
    "for i in range(len(lines)):\n",
    "    total += sum(1 for comb in itertools.combinations(lines,i) if sum(comb)==fill)\n",
    "    print(f'combinations of {i} buckets, {total}')\n",
    "    # uncomment for part 2:\n",
    "    # if total > 0: break"
   ]
  },
  {
   "cell_type": "code",
   "execution_count": 3,
   "metadata": {},
   "outputs": [
    {
     "output_type": "execute_result",
     "data": {
      "text/plain": [
       "654"
      ]
     },
     "metadata": {},
     "execution_count": 3
    }
   ],
   "source": [
    "# the hard way, was struggling with a good algo. was making for loops which exploded the result\n",
    "def countnum(freebottles, tofill=150):\n",
    "    if not lines or tofill < 0:\n",
    "        return 0\n",
    "\n",
    "    if sum(freebottles) < tofill:\n",
    "        return 0\n",
    "    newtofill = tofill - freebottles[0]\n",
    "\n",
    "    count = 0\n",
    "    if newtofill == 0:\n",
    "        count+= 1\n",
    "        count += countnum(freebottles[1:], tofill)\n",
    "        return count\n",
    "\n",
    "    if newtofill < 0:\n",
    "        count += countnum(freebottles[1:], tofill)\n",
    "        return count\n",
    "\n",
    "    count += countnum(freebottles[1:], newtofill)\n",
    "    count += countnum(freebottles[1:], tofill)\n",
    "    return count\n",
    "countnum(lines)"
   ]
  },
  {
   "cell_type": "code",
   "execution_count": 4,
   "metadata": {},
   "outputs": [
    {
     "output_type": "execute_result",
     "data": {
      "text/plain": [
       "57"
      ]
     },
     "metadata": {},
     "execution_count": 4
    }
   ],
   "source": [
    "# part 2\n",
    "fit = set()\n",
    "def countnum(freebottles, tofill=150, used =0):\n",
    "    global fit\n",
    "    if not lines or tofill < 0:\n",
    "        return 0\n",
    "\n",
    "    if sum(freebottles) < tofill:\n",
    "        return 0\n",
    "    newtofill = tofill - freebottles[0]\n",
    "\n",
    "    count = 0\n",
    "    if newtofill == 0:\n",
    "        fit.add(used+1)\n",
    "        if used+1==4:\n",
    "            count+= 1\n",
    "            count += countnum(freebottles[1:], tofill, used)\n",
    "        return count\n",
    "\n",
    "    if newtofill < 0:\n",
    "        count += countnum(freebottles[1:], tofill, used)\n",
    "        return count\n",
    "\n",
    "    count += countnum(freebottles[1:], newtofill, used+1)\n",
    "    count += countnum(freebottles[1:], tofill, used)\n",
    "    return count\n",
    "countnum(lines)"
   ]
  },
  {
   "cell_type": "code",
   "execution_count": null,
   "metadata": {},
   "outputs": [],
   "source": []
  }
 ]
}