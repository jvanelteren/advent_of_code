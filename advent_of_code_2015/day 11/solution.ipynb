{
 "nbformat": 4,
 "nbformat_minor": 2,
 "metadata": {
  "language_info": {
   "name": "python",
   "codemirror_mode": {
    "name": "ipython",
    "version": 3
   },
   "version": "3.7.3-final"
  },
  "orig_nbformat": 2,
  "file_extension": ".py",
  "mimetype": "text/x-python",
  "name": "python",
  "npconvert_exporter": "python",
  "pygments_lexer": "ipython3",
  "version": 3,
  "kernelspec": {
   "name": "python3",
   "display_name": "Python 3",
   "language": "python"
  }
 },
 "cells": [
  {
   "cell_type": "code",
   "execution_count": null,
   "metadata": {},
   "outputs": [],
   "source": [
    "# slow down a bit when hacking something together, e.g. I forgot to add a simple function call \n",
    "# tuple unpacking is nice, but cannot be done in a nested list comprehension\n",
    "# don't forget .items in  for k,v in dict.items()\n",
    "# use hashlib for md5 encodings\n",
    "# multiline list comprehensions don't need extra parentheses, but multiline if statements do\n",
    "# np.clip min and max can be omitted by specifying None\n",
    "# try except looks nice untill it obscures your real error\n",
    "# parsing ints to ints instead of strings is really important\n",
    "# checking whether someting is an int should be done with isinstance, not with isalpha() (fails on int)\n",
    "# removing from a list while iterating can be done safely by iterating over a slice(?)\n",
    "# with re make sure to use r'' literal strings\n",
    "# read assignment before tinkering with networkx and discovering its not necessary\n",
    "# sometimes a simple for loop works better then a list comprehension when parsing the input, and just add to concept variables\n",
    "# for incrementing a string, you can use chr(ord(inp)+1)\n",
    "# find repeating characters re.findall(r'([a-z])\\1', password)"
   ]
  },
  {
   "cell_type": "code",
   "execution_count": 104,
   "metadata": {},
   "outputs": [
    {
     "output_type": "execute_result",
     "data": {
      "text/plain": [
       "'aaba'"
      ]
     },
     "metadata": {},
     "execution_count": 104
    }
   ],
   "source": [
    "import string\n",
    "letters = list(string.ascii_lowercase)\n",
    "code = dict(zippify(letters, 2))\n",
    "code['z']='a'\n",
    "\n",
    "def recode(word):\n",
    "    index = len(word)-1\n",
    "    newword = list(word)\n",
    "    recoding=True\n",
    "    while recoding:\n",
    "        if word[index] != 'z': recoding = False\n",
    "        newword[index] = code[word[index]]\n",
    "        index -= 1\n",
    "    return cat(newword)\n",
    "recode('aaaz')\n"
   ]
  },
  {
   "cell_type": "code",
   "execution_count": 106,
   "metadata": {},
   "outputs": [],
   "source": [
    "def isstraight(large_word):\n",
    "    for word in zippify(large_word, 3, cat=True):\n",
    "        if 'z' not in word[0:2] and code[word[0]]==word[1] and code[word[1]]==word[2]:\n",
    "            return True\n",
    "    return False\n",
    "assert isstraight('abcd') == True\n",
    "assert isstraight('abdde') == False\n",
    "        "
   ]
  },
  {
   "cell_type": "code",
   "execution_count": 107,
   "metadata": {},
   "outputs": [
    {
     "output_type": "execute_result",
     "data": {
      "text/plain": [
       "False"
      ]
     },
     "metadata": {},
     "execution_count": 107
    }
   ],
   "source": [
    "def not_confusing(word):\n",
    "    return False if any(1 for ch in word if ch in 'iol') else True\n",
    "not_confusing('hepxijpu')"
   ]
  },
  {
   "cell_type": "code",
   "execution_count": 109,
   "metadata": {},
   "outputs": [],
   "source": [
    "def pairs(word):\n",
    "    return True if len({i for i,j in zippify(word, 2) if i==j}) > 1 else False\n",
    "assert pairs('aabbcc')==True\n",
    "assert pairs('aabc')==False\n"
   ]
  },
  {
   "cell_type": "code",
   "execution_count": 113,
   "metadata": {
    "tags": []
   },
   "outputs": [
    {
     "output_type": "stream",
     "name": "stdout",
     "text": [
      "found heqaabcc\n"
     ]
    }
   ],
   "source": [
    "word = 'hepxxzaa'\n",
    "while True:\n",
    "    if pairs(word) and not_confusing(word) and isstraight(word):\n",
    "        print('found', word)\n",
    "        break\n",
    "    else:\n",
    "        word=recode(word)\n"
   ]
  },
  {
   "cell_type": "code",
   "execution_count": 114,
   "metadata": {},
   "outputs": [
    {
     "output_type": "execute_result",
     "data": {
      "text/plain": [
       "'heqaabcc'"
      ]
     },
     "metadata": {},
     "execution_count": 114
    }
   ],
   "source": [
    "#from reddit\n",
    "\n",
    "import re\n",
    "\n",
    "def next_password(password):\n",
    "    while True:\n",
    "        password = re.sub(r'([a-y])(z*)$', lambda x: chr(ord(x.group(1))+1) + len(x.group(2))*\"a\", password)\n",
    "        if (\"i\" in password or \"o\" in password or \"l\" in password) or \\\n",
    "           (len(re.findall(r'([a-z])\\1', password)) < 2) or \\\n",
    "           (len([1 for x, y, z in zip(password, password[1:], password[2:])\n",
    "                   if ord(z)-ord(y) == 1 and ord(y)-ord(x) == 1]) == 0): continue\n",
    "\n",
    "        return password\n",
    "next_password('hepxxzaa')"
   ]
  }
 ]
}