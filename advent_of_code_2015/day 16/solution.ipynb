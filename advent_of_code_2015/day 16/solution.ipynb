{
 "nbformat": 4,
 "nbformat_minor": 2,
 "metadata": {
  "language_info": {
   "name": "python",
   "codemirror_mode": {
    "name": "ipython",
    "version": 3
   },
   "version": "3.7.3-final"
  },
  "orig_nbformat": 2,
  "file_extension": ".py",
  "mimetype": "text/x-python",
  "name": "python",
  "npconvert_exporter": "python",
  "pygments_lexer": "ipython3",
  "version": 3,
  "kernelspec": {
   "name": "python3",
   "display_name": "Python 3",
   "language": "python"
  }
 },
 "cells": [
  {
   "cell_type": "code",
   "execution_count": 2,
   "metadata": {},
   "outputs": [],
   "source": [
    "# slow down a bit when hacking something together, e.g. I forgot to add a simple function call \n",
    "# tuple unpacking is nice, but cannot be done in a nested list comprehension\n",
    "# don't forget .items in  for k,v in dict.items()\n",
    "# use hashlib for md5 encodings\n",
    "# multiline list comprehensions don't need extra parentheses, but multiline if statements do\n",
    "# np.clip min and max can be omitted by specifying None\n",
    "# try except looks nice untill it obscures your real error\n",
    "# parsing ints to ints instead of strings is really important\n",
    "# checking whether someting is an int should be done with isinstance, not with isalpha() (fails on int)\n",
    "# removing from a list while iterating can be done safely by iterating over a slice(?)\n",
    "# with re make sure to use r'' literal strings\n",
    "# read assignment before tinkering with networkx and discovering its not necessary\n",
    "# sometimes a simple for loop works better then a list comprehension when parsing the input, and just add to concept variables\n",
    "# for incrementing a string, you can use chr(ord(inp)+1)\n",
    "# find repeating characters re.findall(r'([a-z])\\1', password)\n",
    "# regex: modify operator to nongreedy by appending ?"
   ]
  },
  {
   "cell_type": "code",
   "execution_count": 5,
   "metadata": {},
   "outputs": [],
   "source": [
    "from dataclasses import dataclass\n",
    "from math import gcd, ceil\n",
    "import re\n",
    "from collections import Counter, defaultdict, namedtuple, deque\n",
    "import itertools\n",
    "import numpy as np\n",
    "from matplotlib import pyplot as plt\n",
    "from aoc_utils import *\n",
    "import networkx as nx\n",
    "from itertools import permutations\n",
    "import re"
   ]
  },
  {
   "cell_type": "code",
   "execution_count": 118,
   "metadata": {},
   "outputs": [],
   "source": [
    "# method 1 for parsing \n",
    "lines = data('input', parser=str, sep='\\n')\n",
    "sues = dict()\n",
    "for line in lines:\n",
    "    num, elements = line.split(':',maxsplit=1)\n",
    "    _, num = num.split()\n",
    "    sues[num] = dict((e.split(':') for e in elements.replace(' ',\"\").split(',')))"
   ]
  },
  {
   "cell_type": "code",
   "execution_count": 119,
   "metadata": {},
   "outputs": [],
   "source": [
    "# method 2 for parsing, Peter Norvig style\n",
    "def parser(line):\n",
    "    num, elements = line.split(':',maxsplit=1)\n",
    "    _, num = num.split()\n",
    "    return num, dict((e.split(':') for e in elements.replace(' ',\"\").split(',')))\n",
    "sues = dict(data('input', parser=parser, sep='\\n'))\n",
    "\n",
    "\n"
   ]
  },
  {
   "cell_type": "code",
   "execution_count": 108,
   "metadata": {},
   "outputs": [
    {
     "output_type": "execute_result",
     "data": {
      "text/plain": [
       "{'children': 3,\n",
       " 'cats': 7,\n",
       " 'samoyeds': 2,\n",
       " 'pomeranians': 3,\n",
       " 'akitas': 0,\n",
       " 'vizslas': 0,\n",
       " 'goldfish': 5,\n",
       " 'trees': 3,\n",
       " 'cars': 2,\n",
       " 'perfumes': 1}"
      ]
     },
     "metadata": {},
     "execution_count": 108
    }
   ],
   "source": [
    "def parser(line):\n",
    "    prop, num = line.split(': ')\n",
    "    return prop, int(num)\n",
    "realsue = dict(data('aunt', parser=parser, sep='\\n'))\n",
    "realsue"
   ]
  },
  {
   "cell_type": "code",
   "execution_count": 99,
   "metadata": {},
   "outputs": [
    {
     "output_type": "stream",
     "name": "stdout",
     "text": [
      "260\n"
     ]
    }
   ],
   "source": [
    "# method 1 solving\n",
    "for k,v in sues.items():\n",
    "    issue=True\n",
    "    for element, number in v.items():\n",
    "        if element in ('cats', 'trees'):\n",
    "            if realsue[element] >= int(number):\n",
    "                issue=False\n",
    "        elif element in 'pomeraniansgoldfish': # just another fun way to check if string in\n",
    "            if realsue[element] <= int(number):\n",
    "                issue=False\n",
    "        else:\n",
    "            if realsue[element] != int(number):\n",
    "                issue=False\n",
    "    if issue:\n",
    "        print(k)\n",
    "    "
   ]
  },
  {
   "cell_type": "code",
   "execution_count": 120,
   "metadata": {},
   "outputs": [
    {
     "output_type": "execute_result",
     "data": {
      "text/plain": [
       "'260'"
      ]
     },
     "metadata": {},
     "execution_count": 120
    }
   ],
   "source": [
    "# Method 2 solving Peter Norvig style\n",
    "def findsue():\n",
    "    return next(k for k,v in sues.items() if\n",
    "        all(realsue[element] < int(number) if element in ('cats', 'trees') else\n",
    "            realsue[element] > int(number) if  element in 'pomeraniansgoldfish' else\n",
    "            realsue[element] == int(number)\n",
    "            for element, number in v.items())\n",
    "    )\n",
    "findsue()"
   ]
  },
  {
   "cell_type": "code",
   "execution_count": null,
   "metadata": {},
   "outputs": [],
   "source": []
  }
 ]
}