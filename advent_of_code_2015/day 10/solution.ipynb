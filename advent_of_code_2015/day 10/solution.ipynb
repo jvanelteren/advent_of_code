{
 "nbformat": 4,
 "nbformat_minor": 2,
 "metadata": {
  "language_info": {
   "name": "python",
   "codemirror_mode": {
    "name": "ipython",
    "version": 3
   },
   "version": "3.7.3-final"
  },
  "orig_nbformat": 2,
  "file_extension": ".py",
  "mimetype": "text/x-python",
  "name": "python",
  "npconvert_exporter": "python",
  "pygments_lexer": "ipython3",
  "version": 3,
  "kernelspec": {
   "name": "python3",
   "display_name": "Python 3"
  }
 },
 "cells": [
  {
   "cell_type": "code",
   "execution_count": null,
   "metadata": {},
   "outputs": [],
   "source": [
    "# slow down a bit when hacking something together, e.g. I forgot to add a simple function call \n",
    "# tuple unpacking is nice, but cannot be done in a nested list comprehension\n",
    "# don't forget .items in  for k,v in dict.items()\n",
    "# use hashlib for md5 encodings\n",
    "# multiline list comprehensions don't need extra parentheses, but multiline if statements do\n",
    "# np.clip min and max can be omitted by specifying None\n",
    "# try except looks nice untill it obscures your real error\n",
    "# parsing ints to ints instead of strings is really important\n",
    "# checking whether someting is an int should be done with isinstance, not with isalpha() (fails on int)\n",
    "# removing from a list while iterating can be done safely by iterating over a slice(?)\n",
    "# with re make sure to use r'' literal strings\n",
    "# read assignment before tinkering with networkx and discovering its not necessary\n",
    "# sometimes a simple for loop works better then a list comprehension when parsing the input, and just add to concept variables\n"
   ]
  },
  {
   "cell_type": "code",
   "execution_count": 2,
   "metadata": {},
   "outputs": [],
   "source": [
    "from dataclasses import dataclass\n",
    "from math import gcd, ceil\n",
    "import re\n",
    "from collections import Counter, defaultdict, namedtuple, deque\n",
    "import itertools\n",
    "import numpy as np\n",
    "from matplotlib import pyplot as plt\n",
    "import aoc\n",
    "import networkx as nx"
   ]
  },
  {
   "cell_type": "code",
   "execution_count": 2,
   "metadata": {},
   "outputs": [
    {
     "output_type": "stream",
     "name": "stdout",
     "text": [
      "0\n",
      "12\n",
      "1\n",
      "14\n",
      "2\n",
      "22\n",
      "3\n",
      "26\n",
      "4\n",
      "30\n",
      "5\n",
      "44\n",
      "6\n",
      "56\n",
      "7\n",
      "70\n",
      "8\n",
      "98\n",
      "9\n",
      "130\n",
      "10\n",
      "162\n",
      "11\n",
      "216\n",
      "12\n",
      "292\n",
      "13\n",
      "358\n",
      "14\n",
      "470\n",
      "15\n",
      "628\n",
      "16\n",
      "792\n",
      "17\n",
      "1050\n",
      "18\n",
      "1384\n",
      "19\n",
      "1788\n",
      "20\n",
      "2334\n",
      "21\n",
      "3072\n",
      "22\n",
      "3974\n",
      "23\n",
      "5162\n",
      "24\n",
      "6784\n",
      "25\n",
      "8786\n",
      "26\n",
      "11420\n",
      "27\n",
      "14992\n",
      "28\n",
      "19484\n",
      "29\n",
      "25388\n",
      "30\n",
      "33160\n",
      "31\n",
      "43262\n",
      "32\n",
      "56252\n",
      "33\n",
      "73392\n",
      "34\n",
      "95798\n",
      "35\n",
      "124496\n",
      "36\n",
      "162556\n",
      "37\n",
      "212048\n",
      "38\n",
      "275976\n",
      "39\n",
      "360154\n",
      "40\n",
      "469694\n",
      "41\n",
      "611844\n",
      "42\n",
      "797628\n",
      "43\n",
      "1040344\n",
      "44\n",
      "1355550\n",
      "45\n",
      "1766402\n",
      "46\n",
      "2304368\n",
      "47\n",
      "3002354\n",
      "48\n",
      "3913802\n",
      "49\n",
      "5103798\n"
     ]
    }
   ],
   "source": [
    "inp = '1113122113'\n",
    "\n",
    "\n",
    "def say(inp):\n",
    "    res = ''\n",
    "    prev = ''\n",
    "    count = 0\n",
    "    for s in inp:\n",
    "        # print(s, count)\n",
    "        if s == prev:\n",
    "            count += 1\n",
    "        else:\n",
    "            if count > 0: res += str(count)+prev\n",
    "            count = 1\n",
    "            prev = s\n",
    "    if count > 0: res += str(count)+prev\n",
    "    return res\n",
    "for _ in range(50):\n",
    "    print(_)\n",
    "    inp = say(inp)\n",
    "    print(len(inp))"
   ]
  },
  {
   "cell_type": "code",
   "execution_count": 7,
   "metadata": {},
   "outputs": [
    {
     "output_type": "execute_result",
     "data": {
      "text/plain": [
       "5103798"
      ]
     },
     "metadata": {},
     "execution_count": 7
    }
   ],
   "source": [
    "from itertools import groupby\n",
    "\n",
    "\n",
    "\n",
    "def look_and_say(input_string, num_iterations):\n",
    "    for i in range(num_iterations):\n",
    "        input_string = ''.join([str(len(list(g))) + str(k) for k, g in groupby(input_string)])\n",
    "    return input_string\n",
    "len(look_and_say('1113122113',50))"
   ]
  },
  {
   "cell_type": "code",
   "execution_count": 10,
   "metadata": {},
   "outputs": [
    {
     "output_type": "stream",
     "name": "stdout",
     "text": [
      "6989950\n"
     ]
    }
   ],
   "source": [
    "import re\n",
    "re_d = re.compile(r'((\\d)\\2*)')\n",
    "\n",
    "def replace(match_obj):\n",
    "    s = match_obj.group(1)\n",
    "    return str(len(s)) + s[0]\n",
    "\n",
    "s = '1321131112'\n",
    "for i in range(50):\n",
    "    s = re_d.sub(replace,s)\n",
    "print (len(s))"
   ]
  },
  {
   "cell_type": "code",
   "execution_count": null,
   "metadata": {},
   "outputs": [],
   "source": []
  }
 ]
}