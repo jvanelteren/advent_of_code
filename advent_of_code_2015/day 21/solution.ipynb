{
 "nbformat": 4,
 "nbformat_minor": 2,
 "metadata": {
  "language_info": {
   "name": "python",
   "codemirror_mode": {
    "name": "ipython",
    "version": 3
   },
   "version": "3.7.3-final"
  },
  "orig_nbformat": 2,
  "file_extension": ".py",
  "mimetype": "text/x-python",
  "name": "python",
  "npconvert_exporter": "python",
  "pygments_lexer": "ipython3",
  "version": 3,
  "kernelspec": {
   "name": "python3",
   "display_name": "Python 3",
   "language": "python"
  }
 },
 "cells": [
  {
   "cell_type": "code",
   "execution_count": 2,
   "metadata": {},
   "outputs": [],
   "source": [
    "# slow down a bit when hacking something together, e.g. I forgot to add a simple function call \n",
    "# tuple unpacking is nice, but cannot be done in a nested list comprehension\n",
    "# don't forget .items in  for k,v in dict.items()\n",
    "# use hashlib for md5 encodings\n",
    "# multiline list comprehensions don't need extra parentheses, but multiline if statements do\n",
    "# np.clip min and max can be omitted by specifying None\n",
    "# try except looks nice untill it obscures your real error\n",
    "# parsing ints to ints instead of strings is really important\n",
    "# checking whether someting is an int should be done with isinstance, not with isalpha() (fails on int)\n",
    "# removing from a list while iterating can be done safely by iterating over a slice(?)\n",
    "# with re make sure to use r'' literal strings\n",
    "# read assignment before tinkering with networkx and discovering its not necessary\n",
    "# sometimes a simple for loop works better then a list comprehension when parsing the input, and just add to concept variables\n",
    "# for incrementing a string, you can use chr(ord(inp)+1)\n",
    "# find repeating characters re.findall(r'([a-z])\\1', password)\n",
    "# regex: modify operator to nongreedy by appending ?\n",
    "# ok so sometime you can bruteforce a problem....\n",
    "# while manually modifying the input, make sure to change exactly the right line\n",
    "# before doing bfs, check if the search space is not going to explode\n",
    "# top 10 score by using a factors function!\n",
    "# itertools.chain is nice for iterating over multiple iterables"
   ]
  },
  {
   "cell_type": "code",
   "execution_count": 1,
   "metadata": {},
   "outputs": [],
   "source": [
    "from dataclasses import dataclass\n",
    "from math import gcd, ceil\n",
    "import re\n",
    "from collections import Counter, defaultdict, namedtuple, deque\n",
    "import itertools\n",
    "import numpy as np\n",
    "from matplotlib import pyplot as plt\n",
    "from aoc_utils import *\n",
    "import networkx as nx"
   ]
  },
  {
   "cell_type": "code",
   "execution_count": 2,
   "metadata": {},
   "outputs": [],
   "source": [
    "from collections import defaultdict\n",
    "from itertools import permutations\n",
    "from aoc_utils import *\n",
    "import re"
   ]
  },
  {
   "cell_type": "code",
   "execution_count": 92,
   "metadata": {},
   "outputs": [
    {
     "output_type": "execute_result",
     "data": {
      "text/plain": [
       "[{'Dagger': (8, 4, 0),\n",
       "  'Shortsword': (10, 5, 0),\n",
       "  'Warhammer': (25, 6, 0),\n",
       "  'Longsword': (40, 7, 0),\n",
       "  'Greataxe': (74, 8, 0)},\n",
       " {'Leather': (13, 0, 1),\n",
       "  'Chainmail': (31, 0, 2),\n",
       "  'Splintmail': (53, 0, 3),\n",
       "  'Bandedmail': (75, 0, 4),\n",
       "  'Platemail': (102, 0, 5)},\n",
       " {'Damage+1': (25, 1, 0),\n",
       "  'Damage+2': (50, 2, 0),\n",
       "  'Damage+3': (100, 3, 0),\n",
       "  'Defense+1': (20, 0, 1),\n",
       "  'Defense+2': (40, 0, 2),\n",
       "  'Defense+3': (80, 0, 3)}]"
      ]
     },
     "metadata": {},
     "execution_count": 92
    }
   ],
   "source": [
    "lines = data('input', parser=str, sep='\\n\\n')\n",
    "line = lines[0]\n",
    "line\n",
    "\n",
    "weapons, protection, rings = dict(), dict(), dict()\n",
    "all_items = [weapons, protection,rings]\n",
    "\n",
    "for i, subitems in enumerate(all_items):\n",
    "    line = lines[i]\n",
    "    for item in line.split('\\n'):\n",
    "        name, cost, damage, armor = item.split()\n",
    "        subitems[name] = int(cost), int(damage), int(armor)\n",
    "all_items  "
   ]
  },
  {
   "cell_type": "code",
   "execution_count": 95,
   "metadata": {},
   "outputs": [
    {
     "output_type": "execute_result",
     "data": {
      "text/plain": [
       "{'Dagger': (8, 4, 0),\n",
       " 'Shortsword': (10, 5, 0),\n",
       " 'Warhammer': (25, 6, 0),\n",
       " 'Longsword': (40, 7, 0),\n",
       " 'Greataxe': (74, 8, 0),\n",
       " 'Leather': (13, 0, 1),\n",
       " 'Chainmail': (31, 0, 2),\n",
       " 'Splintmail': (53, 0, 3),\n",
       " 'Bandedmail': (75, 0, 4),\n",
       " 'Platemail': (102, 0, 5),\n",
       " 'Damage+1': (25, 1, 0),\n",
       " 'Damage+2': (50, 2, 0),\n",
       " 'Damage+3': (100, 3, 0),\n",
       " 'Defense+1': (20, 0, 1),\n",
       " 'Defense+2': (40, 0, 2),\n",
       " 'Defense+3': (80, 0, 3)}"
      ]
     },
     "metadata": {},
     "execution_count": 95
    }
   ],
   "source": [
    "allitems = dict(itertools.chain(*(d.items() for d in all_items)))\n",
    "allitems"
   ]
  },
  {
   "cell_type": "code",
   "execution_count": 96,
   "metadata": {},
   "outputs": [],
   "source": [
    "class Player():\n",
    "\n",
    "    def __init__(self, items=None, stats = None):\n",
    "        if items:\n",
    "            self.cost = sum(allitems[i][0] for i in items)\n",
    "            self.damage = sum(allitems[i][1] for i in items)\n",
    "            self.armor = sum(allitems[i][2] for i in items)\n",
    "            self.health = 100\n",
    "        if stats:\n",
    "            self.health = stats[0]\n",
    "            self.damage = stats[1]\n",
    "            self.armor = stats[2]\n",
    "\n",
    "    def get_hit(self, other):\n",
    "        self.health -= max(1, other.damage - self.armor)\n",
    "        if self.health <= 0:\n",
    "            # this player lost\n",
    "            return True   "
   ]
  },
  {
   "cell_type": "code",
   "execution_count": 103,
   "metadata": {},
   "outputs": [
    {
     "output_type": "execute_result",
     "data": {
      "text/plain": [
       "1"
      ]
     },
     "metadata": {},
     "execution_count": 103
    }
   ],
   "source": [
    "player = Player(items=test)\n",
    "boss = Player(stats=(100,8,2))\n",
    "\n",
    "def fight(boss, player):\n",
    "    play = [boss,player]\n",
    "    for i in range(1000):\n",
    "        for j in [0,1]:\n",
    "            if play[j].get_hit(play[(j+1)%2]):\n",
    "                return j\n",
    "fight(boss,player)"
   ]
  },
  {
   "cell_type": "code",
   "execution_count": 104,
   "metadata": {
    "tags": []
   },
   "outputs": [
    {
     "output_type": "execute_result",
     "data": {
      "text/plain": [
       "(91, 158)"
      ]
     },
     "metadata": {},
     "execution_count": 104
    }
   ],
   "source": [
    "options = itertools.product(weapons, rings, rings)\n",
    "options2 = itertools.product(weapons, protection, rings)\n",
    "\n",
    "good_outcomes = []\n",
    "bad_outcomes = []\n",
    "for o in itertools.chain(options,options2):\n",
    "    if o[1]!=o[2]:\n",
    "        player = Player(items=o)\n",
    "        if player.cost == 253:\n",
    "            print(o)\n",
    "            break\n",
    "        boss = Player(stats=(100,8,2))\n",
    "        res = fight(boss,player)\n",
    "        if res == 0: good_outcomes.append(player.cost)\n",
    "        if res == 1: bad_outcomes.append(player.cost)\n",
    "\n",
    "min(good_outcomes), max(bad_outcomes)"
   ]
  }
 ]
}