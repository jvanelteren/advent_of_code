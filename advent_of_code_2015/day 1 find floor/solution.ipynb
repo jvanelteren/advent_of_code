{
 "nbformat": 4,
 "nbformat_minor": 2,
 "metadata": {
  "language_info": {
   "name": "python",
   "codemirror_mode": {
    "name": "ipython",
    "version": 3
   },
   "version": "3.7.3-final"
  },
  "orig_nbformat": 2,
  "file_extension": ".py",
  "mimetype": "text/x-python",
  "name": "python",
  "npconvert_exporter": "python",
  "pygments_lexer": "ipython3",
  "version": 3,
  "kernelspec": {
   "name": "python3",
   "display_name": "Python 3"
  }
 },
 "cells": [
  {
   "cell_type": "code",
   "execution_count": null,
   "metadata": {},
   "outputs": [],
   "source": [
    "# slow down a bit when hacking something together, e.g. I forgot to add a simple function call "
   ]
  },
  {
   "cell_type": "code",
   "execution_count": 1,
   "metadata": {},
   "outputs": [],
   "source": [
    "from dataclasses import dataclass\n",
    "from math import gcd, ceil\n",
    "import re\n",
    "from collections import Counter, defaultdict, namedtuple, deque\n",
    "import numpy as np\n",
    "from matplotlib import pyplot as plt\n",
    "import aoc\n",
    "import networkx as nx"
   ]
  },
  {
   "cell_type": "code",
   "execution_count": 2,
   "metadata": {},
   "outputs": [
    {
     "output_type": "stream",
     "name": "stdout",
     "text": [
      "N lines: 1, firstline looks like\n ()()(()()()(()()((()((()))((()((((()()((((()))()((((())(((((((()(((((((((()(((())(()()(()((()()(()((\n"
     ]
    }
   ],
   "source": [
    "f=open('input.txt')\n",
    "lines = [line.rstrip('\\n') for line in f]\n",
    "print(f'N lines: {len(lines)}, firstline looks like\\n {lines[0][:100]}')"
   ]
  },
  {
   "cell_type": "code",
   "execution_count": 29,
   "metadata": {},
   "outputs": [],
   "source": [
    "def calc_endpoint(ins):\n",
    "    return ins.count('(')-ins.count(')')"
   ]
  },
  {
   "cell_type": "code",
   "execution_count": 33,
   "metadata": {},
   "outputs": [
    {
     "output_type": "execute_result",
     "data": {
      "text/plain": [
       "280"
      ]
     },
     "metadata": {},
     "execution_count": 33
    }
   ],
   "source": [
    "# part 1\n",
    "calc_endpoint(lines[0])"
   ]
  },
  {
   "cell_type": "code",
   "execution_count": 34,
   "metadata": {
    "tags": []
   },
   "outputs": [
    {
     "output_type": "stream",
     "name": "stdout",
     "text": [
      "1797\n"
     ]
    }
   ],
   "source": [
    "# part 2\n",
    "for i in range(1,len(lines[0])):\n",
    "    if calc_endpoint(lines[0][0:i]) == -1:\n",
    "        print(i)\n",
    "        break"
   ]
  },
  {
   "cell_type": "code",
   "execution_count": 14,
   "metadata": {},
   "outputs": [
    {
     "output_type": "execute_result",
     "data": {
      "text/plain": [
       "7000"
      ]
     },
     "metadata": {},
     "execution_count": 14
    }
   ],
   "source": [
    "aantal_stapjes = len(stapjes)\n",
    "aantal_stapjes"
   ]
  },
  {
   "cell_type": "code",
   "execution_count": null,
   "metadata": {},
   "outputs": [],
   "source": []
  }
 ]
}