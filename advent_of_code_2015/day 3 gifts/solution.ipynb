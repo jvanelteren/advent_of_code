{
 "nbformat": 4,
 "nbformat_minor": 2,
 "metadata": {
  "language_info": {
   "name": "python",
   "codemirror_mode": {
    "name": "ipython",
    "version": 3
   },
   "version": "3.7.3-final"
  },
  "orig_nbformat": 2,
  "file_extension": ".py",
  "mimetype": "text/x-python",
  "name": "python",
  "npconvert_exporter": "python",
  "pygments_lexer": "ipython3",
  "version": 3,
  "kernelspec": {
   "name": "python3",
   "display_name": "Python 3"
  }
 },
 "cells": [
  {
   "cell_type": "code",
   "execution_count": null,
   "metadata": {},
   "outputs": [],
   "source": [
    "# slow down a bit when hacking something together, e.g. I forgot to add a simple function call \n",
    "# tuple unpacking is nice, but cannot be done in a nested list comprehension\n",
    "# don't forget .items in  for k,v in dict.items()"
   ]
  },
  {
   "cell_type": "code",
   "execution_count": 6,
   "metadata": {},
   "outputs": [],
   "source": [
    "from dataclasses import dataclass\n",
    "from math import gcd, ceil\n",
    "import re\n",
    "from collections import Counter, defaultdict, namedtuple, deque\n",
    "import numpy as np\n",
    "from matplotlib import pyplot as plt\n",
    "import aoc\n",
    "import networkx as nx"
   ]
  },
  {
   "cell_type": "code",
   "execution_count": 49,
   "metadata": {},
   "outputs": [],
   "source": [
    "ins=open('input.txt').read()\n",
    "# ins=open('test1.txt').read()"
   ]
  },
  {
   "cell_type": "code",
   "execution_count": 50,
   "metadata": {},
   "outputs": [],
   "source": [
    "r,c=0,0\n",
    "houses = defaultdict(int)\n",
    "houses[(0,0)] += 1"
   ]
  },
  {
   "cell_type": "code",
   "execution_count": 51,
   "metadata": {},
   "outputs": [],
   "source": [
    "# part 2\n",
    "r,c=0,0\n",
    "R,C=0,0\n",
    "\n",
    "houses = defaultdict(int)\n",
    "houses[(0,0)] += 1\n",
    "\n",
    "for turn, i in enumerate(ins):\n",
    "    if turn % 2 == 0:\n",
    "        if i == '^': r -= 1\n",
    "        if i == 'v': r += 1\n",
    "        if i == '>': c += 1\n",
    "        if i == '<': c -= 1\n",
    "        houses[(r,c)]+=1\n",
    "    else:\n",
    "        if i == '^': R -= 1\n",
    "        if i == 'v': R += 1\n",
    "        if i == '>': C += 1\n",
    "        if i == '<': C -= 1\n",
    "        houses[(R,C)]+=1"
   ]
  },
  {
   "cell_type": "code",
   "execution_count": 52,
   "metadata": {},
   "outputs": [
    {
     "output_type": "execute_result",
     "data": {
      "text/plain": [
       "2631"
      ]
     },
     "metadata": {},
     "execution_count": 52
    }
   ],
   "source": [
    "sum([1 for k,v in houses.items() if v >= 1])"
   ]
  }
 ]
}