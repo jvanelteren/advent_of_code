{
 "nbformat": 4,
 "nbformat_minor": 2,
 "metadata": {
  "language_info": {
   "name": "python",
   "codemirror_mode": {
    "name": "ipython",
    "version": 3
   },
   "version": "3.7.3-final"
  },
  "orig_nbformat": 2,
  "file_extension": ".py",
  "mimetype": "text/x-python",
  "name": "python",
  "npconvert_exporter": "python",
  "pygments_lexer": "ipython3",
  "version": 3,
  "kernelspec": {
   "name": "python3",
   "display_name": "Python 3",
   "language": "python"
  }
 },
 "cells": [
  {
   "cell_type": "code",
   "execution_count": 2,
   "metadata": {},
   "outputs": [],
   "source": [
    "# slow down a bit when hacking something together, e.g. I forgot to add a simple function call \n",
    "# tuple unpacking is nice, but cannot be done in a nested list comprehension\n",
    "# don't forget .items in  for k,v in dict.items()\n",
    "# use hashlib for md5 encodings\n",
    "# multiline list comprehensions don't need extra parentheses, but multiline if statements do\n",
    "# np.clip min and max can be omitted by specifying None\n",
    "# try except looks nice untill it obscures your real error\n",
    "# parsing ints to ints instead of strings is really important\n",
    "# checking whether someting is an int should be done with isinstance, not with isalpha() (fails on int)\n",
    "# removing from a list while iterating can be done safely by iterating over a slice(?)\n",
    "# with re make sure to use r'' literal strings\n",
    "# read assignment before tinkering with networkx and discovering its not necessary\n",
    "# sometimes a simple for loop works better then a list comprehension when parsing the input, and just add to concept variables\n",
    "# for incrementing a string, you can use chr(ord(inp)+1)\n",
    "# find repeating characters re.findall(r'([a-z])\\1', password)\n",
    "# regex: modify operator to nongreedy by appending ?\n",
    "# ok so sometime you can bruteforce a problem....\n",
    "# while manually modifying the input, make sure to change exactly the right line\n",
    "# before doing bfs, check if the search space is not going to explode\n",
    "# top 10 score by using a factors function!\n",
    "# itertools.chain is nice for iterating over multiple iterables"
   ]
  },
  {
   "cell_type": "code",
   "execution_count": 2,
   "metadata": {},
   "outputs": [],
   "source": [
    "from dataclasses import dataclass\n",
    "from math import gcd, ceil\n",
    "import re\n",
    "from collections import Counter, defaultdict, namedtuple, deque\n",
    "import itertools\n",
    "import numpy as np\n",
    "from matplotlib import pyplot as plt\n",
    "from aoc_utils import *\n",
    "import networkx as nx"
   ]
  },
  {
   "cell_type": "code",
   "execution_count": 1,
   "metadata": {},
   "outputs": [],
   "source": [
    "from collections import defaultdict\n",
    "from itertools import permutations\n",
    "from aoc_utils import *\n",
    "import re"
   ]
  },
  {
   "cell_type": "code",
   "execution_count": 14,
   "metadata": {},
   "outputs": [],
   "source": [
    "mana_cost = {\n",
    "    'mm' : 53,\n",
    "    'drain' : 73,\n",
    "    'shield' : 113,\n",
    "    'poison' : 173,\n",
    "    'recharge' : 229\n",
    "}"
   ]
  },
  {
   "cell_type": "code",
   "execution_count": 55,
   "metadata": {},
   "outputs": [
    {
     "output_type": "execute_result",
     "data": {
      "text/plain": [
       "3000000"
      ]
     },
     "metadata": {},
     "execution_count": 55
    }
   ],
   "source": [
    "6*5*4*500*50"
   ]
  },
  {
   "cell_type": "code",
   "execution_count": 52,
   "metadata": {},
   "outputs": [
    {
     "output_type": "execute_result",
     "data": {
      "text/plain": [
       "450000"
      ]
     },
     "metadata": {},
     "execution_count": 52
    }
   ],
   "source": [
    "poison * 18 + mm * 53 + drain * 2 >= 55\n",
    "50 + 2 * drain - 8 *numturns\n",
    "500 - MANA cost\n",
    "\n"
   ]
  },
  {
   "cell_type": "code",
   "execution_count": null,
   "metadata": {},
   "outputs": [],
   "source": [
    "Magic Missile costs 53 mana. It instantly does 4 damage.\n",
    "Drain costs 73 mana. It instantly does 2 damage and heals you for 2 hit points.\n",
    "Shield costs 113 mana. It starts an effect that lasts for 6 turns. While it is active, your armor is increased by 7.\n",
    "Poison costs 173 mana. It starts an effect that lasts for 6 turns. At the start of each turn while it is active, it deals the boss 3 damage.\n",
    "Recharge costs 229 mana. It starts an effect that lasts for 5 turns. At the start of each turn while it is active, it gives you 101 new mana."
   ]
  },
  {
   "cell_type": "code",
   "execution_count": 174,
   "metadata": {},
   "outputs": [],
   "source": [
    "class Player():\n",
    "    def __init__(self, health, mana, choices = None):\n",
    "        self.mana = mana\n",
    "        self.damage = 0\n",
    "        self.armor = 0\n",
    "        self.health = health\n",
    "        self.mana_used = 0\n",
    "        self.cooldowns = {\n",
    "            'shield' : 0,\n",
    "            'poison' : 0,\n",
    "            'recharge' : 0,\n",
    "            'mm' : 0,\n",
    "            'drain' : 0,\n",
    "        }\n",
    "        self.recharge_used = False\n",
    "        self.shield_used = False\n",
    "        self.choices = choices\n",
    "    \n",
    "    def turn(self):\n",
    "        if self.cooldowns['recharge'] > 0: self.mana += 101\n",
    "        for spell in self.cooldowns:\n",
    "            if self.cooldowns[spell] > 0: self.cooldowns[spell] -= 1\n",
    "        if self.cooldowns['shield'] == 0:\n",
    "            self.armor = 0\n",
    "        print('turn', self.cooldowns)\n",
    "\n",
    "    def determine_spell(self,bosshealth):\n",
    "        options = [spell for spell in mana_cost if mana_cost[spell] < self.mana and self.cooldowns[spell]==0]\n",
    "        if self.recharge_used and 'recharge' in options:\n",
    "            options.remove('recharge')\n",
    "        if self.shield_used and 'shield' in options:\n",
    "            options.remove('shield')\n",
    "        print('options',options)\n",
    "        if bosshealth <= 8:\n",
    "            return 'mm'\n",
    "        if self.health <= 40 and 'shield' in options:\n",
    "            return 'shield'\n",
    "        if self.mana <= 229+153 and 'recharge' in options:\n",
    "            return 'recharge'\n",
    "        if 'poison' in options: return 'poison'\n",
    "        else:\n",
    "            return 'mm'\n",
    "            # print('cannot make choice', bosshealth, self)\n",
    "            # sys.exit()\n",
    "\n",
    "    def attack(self,bosshealth):\n",
    "        spell = self.determine_spell(bosshealth)\n",
    "        if self.choices:\n",
    "            spell = self.choices.pop()\n",
    "        print('           chosen', spell)\n",
    "        if spell=='mm':\n",
    "            self.mana -= 53\n",
    "            self.mana_used += 53\n",
    "            self.damage = 4\n",
    "        elif spell=='drain':\n",
    "            self.mana -= 73\n",
    "            self.mana_used += 73\n",
    "            self.health+=2\n",
    "            self.damage = 2\n",
    "        elif spell=='shield':\n",
    "            self.shield_used = True\n",
    "            self.mana -= 113\n",
    "            self.mana_used += 113\n",
    "            self.armor += 7\n",
    "            self.cooldowns['shield'] = 6\n",
    "            self.damage = 0\n",
    "        elif spell=='poison':\n",
    "            self.mana -= 173\n",
    "            self.mana_used += 173\n",
    "            self.cooldowns['poison'] = 6\n",
    "            self.damage = 0\n",
    "        elif spell=='recharge':\n",
    "            self.recharge_used = True\n",
    "            self.mana -= 229\n",
    "            self.mana_used += 229\n",
    "            self.cooldowns['recharge'] = 5\n",
    "            self.damage = 0\n",
    "        print('attacking for', self.damage)\n",
    "    \n",
    "    def __repr__(self):\n",
    "        return f'\\nhealth {self.health}\\nmana {self.mana}\\ncooldowns {self.cooldowns}'        \n",
    "    def get_hit(self):\n",
    "        self.health -= max(1, 8 - self.armor)\n",
    "        print('boss attacks, new player health', self.health)\n",
    "        if self.health <= 0:\n",
    "            # this player lost\n",
    "            return True\n",
    "    def turn_decrease(self):\n",
    "        self.health -= 1\n",
    "        if self.health <= 0:\n",
    "            # this player lost\n",
    "            return True\n",
    "\n",
    "    "
   ]
  },
  {
   "cell_type": "code",
   "execution_count": 175,
   "metadata": {},
   "outputs": [],
   "source": []
  },
  {
   "cell_type": "code",
   "execution_count": 184,
   "metadata": {},
   "outputs": [
    {
     "output_type": "stream",
     "name": "stdout",
     "text": [
      "\nnew turn \nhealth 49\nmana 500\ncooldowns {'shield': 0, 'poison': 0, 'recharge': 0, 'mm': 0, 'drain': 0}\nturn {'shield': 0, 'poison': 0, 'recharge': 0, 'mm': 0, 'drain': 0}\noptions ['mm', 'drain', 'shield', 'poison', 'recharge']\n           chosen poison\nattacking for 0\nnew boss health 55\nnew boss health after poison 52\nturn {'shield': 0, 'poison': 5, 'recharge': 0, 'mm': 0, 'drain': 0}\nboss attacks, new player health 41\n\nnew turn \nhealth 40\nmana 327\ncooldowns {'shield': 0, 'poison': 5, 'recharge': 0, 'mm': 0, 'drain': 0}\nnew boss health after poison 49\nturn {'shield': 0, 'poison': 4, 'recharge': 0, 'mm': 0, 'drain': 0}\noptions ['mm', 'drain', 'shield', 'recharge']\n           chosen recharge\nattacking for 0\nnew boss health 49\nnew boss health after poison 46\nturn {'shield': 0, 'poison': 3, 'recharge': 4, 'mm': 0, 'drain': 0}\nboss attacks, new player health 32\n\nnew turn \nhealth 31\nmana 199\ncooldowns {'shield': 0, 'poison': 3, 'recharge': 4, 'mm': 0, 'drain': 0}\nnew boss health after poison 43\nturn {'shield': 0, 'poison': 2, 'recharge': 3, 'mm': 0, 'drain': 0}\noptions ['mm', 'drain', 'shield']\n           chosen shield\nattacking for 0\nnew boss health 43\nnew boss health after poison 40\nturn {'shield': 5, 'poison': 1, 'recharge': 2, 'mm': 0, 'drain': 0}\nboss attacks, new player health 30\n\nnew turn \nhealth 29\nmana 288\ncooldowns {'shield': 5, 'poison': 1, 'recharge': 2, 'mm': 0, 'drain': 0}\nnew boss health after poison 37\nturn {'shield': 4, 'poison': 0, 'recharge': 1, 'mm': 0, 'drain': 0}\noptions ['mm', 'drain', 'poison']\n           chosen poison\nattacking for 0\nnew boss health 37\nnew boss health after poison 34\nturn {'shield': 3, 'poison': 5, 'recharge': 0, 'mm': 0, 'drain': 0}\nboss attacks, new player health 28\n\nnew turn \nhealth 27\nmana 317\ncooldowns {'shield': 3, 'poison': 5, 'recharge': 0, 'mm': 0, 'drain': 0}\nnew boss health after poison 31\nturn {'shield': 2, 'poison': 4, 'recharge': 0, 'mm': 0, 'drain': 0}\noptions ['mm', 'drain']\n           chosen recharge\nattacking for 0\nnew boss health 31\nnew boss health after poison 28\nturn {'shield': 1, 'poison': 3, 'recharge': 4, 'mm': 0, 'drain': 0}\nboss attacks, new player health 26\n\nnew turn \nhealth 25\nmana 189\ncooldowns {'shield': 1, 'poison': 3, 'recharge': 4, 'mm': 0, 'drain': 0}\nnew boss health after poison 25\nturn {'shield': 0, 'poison': 2, 'recharge': 3, 'mm': 0, 'drain': 0}\noptions ['mm', 'drain']\n           chosen drain\nattacking for 2\nnew boss health 23\nnew boss health after poison 20\nturn {'shield': 0, 'poison': 1, 'recharge': 2, 'mm': 0, 'drain': 0}\nboss attacks, new player health 19\n\nnew turn \nhealth 18\nmana 318\ncooldowns {'shield': 0, 'poison': 1, 'recharge': 2, 'mm': 0, 'drain': 0}\nnew boss health after poison 17\nturn {'shield': 0, 'poison': 0, 'recharge': 1, 'mm': 0, 'drain': 0}\noptions ['mm', 'drain', 'poison']\n           chosen poison\nattacking for 0\nnew boss health 17\nnew boss health after poison 14\nturn {'shield': 0, 'poison': 5, 'recharge': 0, 'mm': 0, 'drain': 0}\nboss attacks, new player health 10\n\nnew turn \nhealth 9\nmana 347\ncooldowns {'shield': 0, 'poison': 5, 'recharge': 0, 'mm': 0, 'drain': 0}\nnew boss health after poison 11\nturn {'shield': 0, 'poison': 4, 'recharge': 0, 'mm': 0, 'drain': 0}\noptions ['mm', 'drain']\n           chosen drain\nattacking for 2\nnew boss health 9\nnew boss health after poison 6\nturn {'shield': 0, 'poison': 3, 'recharge': 0, 'mm': 0, 'drain': 0}\nboss attacks, new player health 3\n\nnew turn \nhealth 2\nmana 274\ncooldowns {'shield': 0, 'poison': 3, 'recharge': 0, 'mm': 0, 'drain': 0}\nnew boss health after poison 3\nturn {'shield': 0, 'poison': 2, 'recharge': 0, 'mm': 0, 'drain': 0}\noptions ['mm', 'drain']\n           chosen mm\nattacking for 4\nnew boss health -1\nbossdeath\n1289\n"
     ]
    },
    {
     "output_type": "error",
     "ename": "SystemExit",
     "evalue": "",
     "traceback": [
      "An exception has occurred, use %tb to see the full traceback.\n",
      "\u001b[1;31mSystemExit\u001b[0m\n"
     ]
    }
   ],
   "source": [
    "choices_part1 = ['mm','mm','mm','mm','mm','poison','shield','recharge','poison']\n",
    "choices_part2 = ['mm','mm','mm','drain','poison','drain','recharge','poison','shield','recharge','poison']\n",
    "player = Player(50,500, choices = choices_part2)\n",
    "part2 = True\n",
    "\n",
    "def checkdeadboss(bosshealth,player):\n",
    "    if bosshealth <= 0:\n",
    "        print('bossdeath')\n",
    "        print(player.mana_used)\n",
    "        return True\n",
    "        \n",
    "def fight(bosshealth, player):\n",
    "    bosshealth = bosshealth\n",
    "    for i in range(10):\n",
    "        if part2 and player.turn_decrease():\n",
    "            print('dead')\n",
    "            sys.exit()\n",
    "        print('\\nnew turn', player)\n",
    "        if player.cooldowns['poison'] > 0: \n",
    "            bosshealth -= 3\n",
    "            print('new boss health after poison', bosshealth)\n",
    "            if checkdeadboss(bosshealth,player): sys.exit()\n",
    "        player.turn()\n",
    "        player.attack(bosshealth)\n",
    "        bosshealth -= player.damage\n",
    "        print('new boss health', bosshealth)\n",
    "        if checkdeadboss(bosshealth,player): sys.exit()\n",
    "        \n",
    "        if player.cooldowns['poison'] > 0: \n",
    "            bosshealth -= 3\n",
    "            print('new boss health after poison', bosshealth)\n",
    "            if checkdeadboss(bosshealth,player): sys.exit()\n",
    "        player.turn()\n",
    "        if player.get_hit():\n",
    "            print('dead')\n",
    "            sys.exit()\n",
    "        if checkdeadboss(bosshealth,player):\n",
    "                sys.exit()\n",
    "fight(55,player)"
   ]
  }
 ]
}