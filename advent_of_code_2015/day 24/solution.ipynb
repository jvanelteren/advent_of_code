{
 "nbformat": 4,
 "nbformat_minor": 2,
 "metadata": {
  "language_info": {
   "name": "python",
   "codemirror_mode": {
    "name": "ipython",
    "version": 3
   },
   "version": "3.7.3-final"
  },
  "orig_nbformat": 2,
  "file_extension": ".py",
  "mimetype": "text/x-python",
  "name": "python",
  "npconvert_exporter": "python",
  "pygments_lexer": "ipython3",
  "version": 3,
  "kernelspec": {
   "name": "python3",
   "display_name": "Python 3",
   "language": "python"
  }
 },
 "cells": [
  {
   "cell_type": "code",
   "execution_count": 2,
   "metadata": {},
   "outputs": [],
   "source": [
    "# slow down a bit when hacking something together, e.g. I forgot to add a simple function call \n",
    "# tuple unpacking is nice, but cannot be done in a nested list comprehension\n",
    "# don't forget .items in  for k,v in dict.items()\n",
    "# use hashlib for md5 encodings\n",
    "# multiline list comprehensions don't need extra parentheses, but multiline if statements do\n",
    "# np.clip min and max can be omitted by specifying None\n",
    "# try except looks nice untill it obscures your real error\n",
    "# parsing ints to ints instead of strings is really important\n",
    "# checking whether someting is an int should be done with isinstance, not with isalpha() (fails on int)\n",
    "# removing from a list while iterating can be done safely by iterating over a slice(?)\n",
    "# with re make sure to use r'' literal strings\n",
    "# read assignment before tinkering with networkx and discovering its not necessary\n",
    "# sometimes a simple for loop works better then a list comprehension when parsing the input, and just add to concept variables\n",
    "# for incrementing a string, you can use chr(ord(inp)+1)\n",
    "# find repeating characters re.findall(r'([a-z])\\1', password)\n",
    "# regex: modify operator to nongreedy by appending ?\n",
    "# ok so sometime you can bruteforce a problem....\n",
    "# while manually modifying the input, make sure to change exactly the right line\n",
    "# before doing bfs, check if the search space is not going to explode\n",
    "# top 10 score by using a factors function!\n",
    "# itertools.chain is nice for iterating over multiple iterables\n",
    "# 1!=2!=1 == True, to check all different use len(set([a,b,c]))==3"
   ]
  },
  {
   "cell_type": "code",
   "execution_count": 3,
   "metadata": {},
   "outputs": [],
   "source": [
    "from dataclasses import dataclass\n",
    "from math import gcd, ceil\n",
    "import re\n",
    "from collections import Counter, defaultdict, namedtuple, deque\n",
    "import itertools\n",
    "import numpy as np\n",
    "from matplotlib import pyplot as plt\n",
    "from aoc_utils import *\n",
    "import networkx as nx\n",
    "from collections import defaultdict\n",
    "from itertools import permutations\n",
    "from aoc_utils import *\n",
    "import re"
   ]
  },
  {
   "cell_type": "code",
   "execution_count": 87,
   "metadata": {},
   "outputs": [],
   "source": [
    "lines = data('input', parser=int, sep='\\n')\n",
    "line = lines[0]\n",
    "goal = sum(lines)/3"
   ]
  },
  {
   "cell_type": "code",
   "execution_count": 89,
   "metadata": {},
   "outputs": [
    {
     "output_type": "stream",
     "name": "stdout",
     "text": [
      "found\n"
     ]
    }
   ],
   "source": [
    "# iteratively add lines untill it works\n",
    "for comb in itertools.product(lines,lines, lines,lines,lines,lines):\n",
    "    if sum(comb)==goal:\n",
    "        print('found')\n",
    "        break"
   ]
  },
  {
   "cell_type": "code",
   "execution_count": 61,
   "metadata": {},
   "outputs": [],
   "source": [
    "from functools import reduce\n",
    "import operator\n",
    "poss = [comb for comb in itertools.permutations(lines,5) if sum(comb)==goal]\n",
    "min(reduce(operator.mul, p) for p in poss)"
   ]
  },
  {
   "cell_type": "code",
   "execution_count": 80,
   "metadata": {
    "tags": []
   },
   "outputs": [
    {
     "output_type": "stream",
     "name": "stdout",
     "text": [
      "[1, 83, 101, 103, 107, 113] 10439961859\n"
     ]
    },
    {
     "output_type": "error",
     "ename": "SystemExit",
     "evalue": "",
     "traceback": [
      "An exception has occurred, use %tb to see the full traceback.\n",
      "\u001b[1;31mSystemExit\u001b[0m\n"
     ]
    }
   ],
   "source": [
    "# after determining how many variables should be used, just hardcode the loop\n",
    "lines = data('input', parser=int, sep='\\n')\n",
    "line = lines[0]\n",
    "goal = sum(lines)/3\n",
    "for i in lines:\n",
    "    for j in lines[1:]:\n",
    "        for k in lines[2:]:\n",
    "            for l in lines[3:]:\n",
    "                for m in lines[4:]:\n",
    "                    rest = int(goal-i-j-k-l-m)\n",
    "                    if rest in lines:\n",
    "                        res = [i,j,k,l,m,rest]\n",
    "                        if len(set(res))==6:\n",
    "                            print(res, reduce(operator.mul, res))\n",
    "                            sys.exit()"
   ]
  }
 ]
}